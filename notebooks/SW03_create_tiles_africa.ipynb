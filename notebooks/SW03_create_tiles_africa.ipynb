{
 "cells": [
  {
   "cell_type": "code",
   "execution_count": 1,
   "metadata": {},
   "outputs": [],
   "source": [
    "import numpy as np\n",
    "import pandas as pd\n",
    "import os\n",
    "import json\n",
    "from collections import defaultdict\n",
    "\n",
    "import imageio\n",
    "import geopandas as gpd\n",
    "from shapely.geometry import Point, Polygon\n",
    "\n",
    "import matplotlib\n",
    "import matplotlib.pyplot as plt\n",
    "from matplotlib import font_manager as fm\n",
    "import matplotlib.patches as mpatches\n",
    "import seaborn as sns\n",
    "%matplotlib inline"
   ]
  },
  {
   "cell_type": "markdown",
   "metadata": {},
   "source": [
    "# Create tiles over Africa datasets"
   ]
  },
  {
   "cell_type": "code",
   "execution_count": 2,
   "metadata": {},
   "outputs": [],
   "source": [
    "def tiles_to_csv(tile_gdf):\n",
    "    \"\"\"\n",
    "    Input:\n",
    "    - tile_gdf: geopandas GeoDataFrame\n",
    "    \"\"\"\n",
    "    image_ids = []\n",
    "    min_lons = []\n",
    "    min_lats = []\n",
    "    max_lons = []\n",
    "    max_lats = []\n",
    "    for i, row in tile_gdf.iterrows():\n",
    "        min_lon, min_lat, max_lon, max_lat = row['geometry'].bounds\n",
    "        image_ids.append(str(row['tile_id']).zfill(5))\n",
    "        min_lons.append(min_lon)\n",
    "        min_lats.append(min_lat)\n",
    "        max_lons.append(max_lon)\n",
    "        max_lats.append(max_lat)\n",
    "\n",
    "    df = pd.DataFrame({\n",
    "        'image_id': image_ids,\n",
    "        'min_lon': min_lons,\n",
    "        'min_lat': min_lats,\n",
    "        'max_lon': max_lons,\n",
    "        'max_lat': max_lats\n",
    "    })\n",
    "    return df"
   ]
  },
  {
   "cell_type": "code",
   "execution_count": 3,
   "metadata": {},
   "outputs": [],
   "source": [
    "def create_dict_parcels(shp_dict):\n",
    "    \"\"\"\n",
    "    Put the found fields from the parsed json into dict of image ids\n",
    "    Args:\n",
    "        shp_dict (dict): json dict containing the polygon fields\n",
    "\n",
    "    Returns:\n",
    "        dict: contains image id to polygons\n",
    "    \"\"\"\n",
    "    dict_parcels = defaultdict(list) \n",
    "    for sh_index, sh in enumerate(shp_dict['features']):\n",
    "        id_list = sh['properties']['image_id']\n",
    "        for image_id in id_list:\n",
    "            dict_parcels[image_id].append(sh)\n",
    "    return dict_parcels"
   ]
  },
  {
   "cell_type": "markdown",
   "metadata": {},
   "source": [
    "## Senegal"
   ]
  },
  {
   "cell_type": "code",
   "execution_count": 60,
   "metadata": {},
   "outputs": [],
   "source": [
    "senegal = gpd.read_file('../mount/data/senegal_parcels/SenegalFields_03_26.shp')\n",
    "senegal['image_id'] = [str(x).zfill(5) for x in np.arange(senegal.shape[0])]\n",
    "senegal['x'] = senegal['geometry'].centroid.map(lambda x: x.x)\n",
    "senegal['y'] = senegal['geometry'].centroid.map(lambda x: x.y)"
   ]
  },
  {
   "cell_type": "code",
   "execution_count": 3,
   "metadata": {},
   "outputs": [
    {
     "name": "stdout",
     "output_type": "stream",
     "text": [
      "min lon:  -16.3272\n",
      "max lon:  -14.312\n",
      "min lat:  13.5917\n",
      "max lat:  14.4828\n"
     ]
    }
   ],
   "source": [
    "print(\"min lon: \", senegal['x_long'].min())\n",
    "print(\"max lon: \", senegal['x_long'].max())\n",
    "print(\"min lat: \", senegal['y_lat'].min())\n",
    "print(\"max lat: \", senegal['y_lat'].max())"
   ]
  },
  {
   "cell_type": "markdown",
   "metadata": {},
   "source": [
    "Next step: generate tile grid in Descartes Labs."
   ]
  },
  {
   "cell_type": "code",
   "execution_count": 11,
   "metadata": {},
   "outputs": [
    {
     "data": {
      "text/html": [
       "<div>\n",
       "<style scoped>\n",
       "    .dataframe tbody tr th:only-of-type {\n",
       "        vertical-align: middle;\n",
       "    }\n",
       "\n",
       "    .dataframe tbody tr th {\n",
       "        vertical-align: top;\n",
       "    }\n",
       "\n",
       "    .dataframe thead th {\n",
       "        text-align: right;\n",
       "    }\n",
       "</style>\n",
       "<table border=\"1\" class=\"dataframe\">\n",
       "  <thead>\n",
       "    <tr style=\"text-align: right;\">\n",
       "      <th></th>\n",
       "      <th>tile_id</th>\n",
       "      <th>geometry</th>\n",
       "    </tr>\n",
       "  </thead>\n",
       "  <tbody>\n",
       "    <tr>\n",
       "      <td>0</td>\n",
       "      <td>0</td>\n",
       "      <td>POLYGON ((-16.33263 13.58963, -16.33270 13.600...</td>\n",
       "    </tr>\n",
       "    <tr>\n",
       "      <td>1</td>\n",
       "      <td>1</td>\n",
       "      <td>POLYGON ((-16.33270 13.60068, -16.33276 13.611...</td>\n",
       "    </tr>\n",
       "    <tr>\n",
       "      <td>2</td>\n",
       "      <td>2</td>\n",
       "      <td>POLYGON ((-16.33276 13.61172, -16.33282 13.622...</td>\n",
       "    </tr>\n",
       "    <tr>\n",
       "      <td>3</td>\n",
       "      <td>3</td>\n",
       "      <td>POLYGON ((-16.33282 13.62277, -16.33288 13.633...</td>\n",
       "    </tr>\n",
       "    <tr>\n",
       "      <td>4</td>\n",
       "      <td>4</td>\n",
       "      <td>POLYGON ((-16.33288 13.63381, -16.33294 13.645...</td>\n",
       "    </tr>\n",
       "  </tbody>\n",
       "</table>\n",
       "</div>"
      ],
      "text/plain": [
       "   tile_id                                           geometry\n",
       "0        0  POLYGON ((-16.33263 13.58963, -16.33270 13.600...\n",
       "1        1  POLYGON ((-16.33270 13.60068, -16.33276 13.611...\n",
       "2        2  POLYGON ((-16.33276 13.61172, -16.33282 13.622...\n",
       "3        3  POLYGON ((-16.33282 13.62277, -16.33288 13.633...\n",
       "4        4  POLYGON ((-16.33288 13.63381, -16.33294 13.645..."
      ]
     },
     "execution_count": 11,
     "metadata": {},
     "output_type": "execute_result"
    }
   ],
   "source": [
    "senegal_tiles = gpd.read_file('../mount/data/senegal_parcels/senegal_tiles.shp')\n",
    "senegal_tiles.head()"
   ]
  },
  {
   "cell_type": "code",
   "execution_count": 15,
   "metadata": {},
   "outputs": [],
   "source": [
    "senegal_tile_df = tiles_to_csv(senegal_tiles)"
   ]
  },
  {
   "cell_type": "code",
   "execution_count": 17,
   "metadata": {},
   "outputs": [],
   "source": [
    "senegal_tile_df.to_csv('../data/planet/senegal/bbox_tiles_all.csv', index=False)"
   ]
  },
  {
   "cell_type": "markdown",
   "metadata": {},
   "source": [
    "#### Visualize generated tiles that overlap with labels"
   ]
  },
  {
   "cell_type": "markdown",
   "metadata": {},
   "source": [
    "First run `get_intersecting_polygons` notebook."
   ]
  },
  {
   "cell_type": "code",
   "execution_count": 23,
   "metadata": {},
   "outputs": [],
   "source": [
    "json_file = '../data/planet/senegal/json_polys/bbox_tiles_0_3293.json'\n",
    "\n",
    "# open the saved json file for the found parcels in the images \n",
    "with open(json_file) as f:\n",
    "    shp_dict = json.load(f)\n",
    "\n",
    "# create dictionary of polygons in each image for fast indexing\n",
    "parcels_dict = create_dict_parcels(shp_dict)\n",
    "\n",
    "tiles_with_labels = sorted(parcels_dict.keys())\n",
    "senegal_tile_df_overlap = senegal_tile_df[senegal_tile_df['image_id'].isin(tiles_with_labels)]"
   ]
  },
  {
   "cell_type": "code",
   "execution_count": 32,
   "metadata": {},
   "outputs": [],
   "source": [
    "senegal_tile_df_overlap.to_csv('../data/planet/senegal/bbox_tiles_overlap.csv', index=False)"
   ]
  },
  {
   "cell_type": "code",
   "execution_count": 31,
   "metadata": {
    "scrolled": false
   },
   "outputs": [
    {
     "data": {
      "image/png": "[encoded data removed]",
      "text/plain": [
       "<Figure size 2160x1080 with 2 Axes>"
      ]
     },
     "metadata": {
      "needs_background": "light"
     },
     "output_type": "display_data"
    }
   ],
   "source": [
    "fig, ax = plt.subplots(2, 1, figsize=(30,15), sharex=True, sharey=True)\n",
    "senegal.plot(ax=ax[0])\n",
    "senegal.plot(ax=ax[1])\n",
    "\n",
    "for i, row in senegal_tile_df_overlap.iterrows():\n",
    "    ax[1].vlines(row['min_lon'], row['min_lat'], row['max_lat'], color='red')\n",
    "    ax[1].vlines(row['max_lon'], row['min_lat'], row['max_lat'], color='red')\n",
    "    ax[1].hlines(row['min_lat'], row['min_lon'], row['max_lon'], color='red')\n",
    "    ax[1].hlines(row['max_lat'], row['min_lon'], row['max_lon'], color='red')\n",
    "plt.show()"
   ]
  },
  {
   "cell_type": "markdown",
   "metadata": {},
   "source": [
    "## Ghana"
   ]
  },
  {
   "cell_type": "code",
   "execution_count": 4,
   "metadata": {},
   "outputs": [],
   "source": [
    "df = pd.read_csv('../mount/data/udry_parcels/udry_fields_2017.csv')\n",
    "df['label_id'] = [str(x).zfill(5) for x in np.arange(df.shape[0])]"
   ]
  },
  {
   "cell_type": "code",
   "execution_count": 6,
   "metadata": {},
   "outputs": [],
   "source": [
    "geom_types = []\n",
    "for i, row in df.iterrows():\n",
    "    row_geom = eval(row['.geo'])\n",
    "    geom_types.append(row_geom['type'])"
   ]
  },
  {
   "cell_type": "code",
   "execution_count": 7,
   "metadata": {},
   "outputs": [],
   "source": [
    "label_ids = []\n",
    "polygons = []\n",
    "for i, row in df.iterrows():\n",
    "    row_geom = eval(row['.geo'])\n",
    "    if row_geom['type'] == 'GeometryCollection':\n",
    "        for geom in row_geom['geometries']:\n",
    "            if geom['type'] == 'Polygon':\n",
    "                label_ids.append(row['label_id'])\n",
    "                poly = Polygon(geom['coordinates'][0])\n",
    "                polygons.append(poly)\n",
    "            elif geom['type'] == 'MultiPolygon':\n",
    "                for inner_geom in geom['coordinates']:\n",
    "                    label_ids.append(row['label_id'])\n",
    "                    poly = Polygon(inner_geom[0])\n",
    "                    polygons.append(poly)\n",
    "                \n",
    "    elif row_geom['type'] == 'Polygon':\n",
    "        label_ids.append(row['label_id'])\n",
    "        poly = Polygon(row_geom['coordinates'][0])\n",
    "        polygons.append(poly)\n",
    "        \n",
    "    elif row_geom['type'] == 'MultiPolygon':\n",
    "        for geom in row_geom['coordinates']:\n",
    "            label_ids.append(row['label_id'])\n",
    "            poly = Polygon(geom[0])\n",
    "            polygons.append(poly)"
   ]
  },
  {
   "cell_type": "code",
   "execution_count": 8,
   "metadata": {},
   "outputs": [],
   "source": [
    "udry = pd.DataFrame({\n",
    "    'label_id': label_ids,\n",
    "    'geometry': polygons\n",
    "})\n",
    "columns = ['dataset', 'crop', 'geom_id', 'merge_id', 'yield', 'area_ha', 'area', 'label_id']\n",
    "udry = udry.merge(df[columns], on='label_id', how='left')\n",
    "udry['image_id'] = [str(x).zfill(5) for x in np.arange(udry.shape[0])]"
   ]
  },
  {
   "cell_type": "code",
   "execution_count": 13,
   "metadata": {},
   "outputs": [],
   "source": [
    "geodf = gpd.GeoDataFrame(udry, geometry='geometry')\n",
    "\n",
    "geodf['min_lon'] = geodf['geometry'].map(lambda x: x.bounds[0])\n",
    "geodf['max_lon'] = geodf['geometry'].map(lambda x: x.bounds[2])\n",
    "geodf['min_lat'] = geodf['geometry'].map(lambda x: x.bounds[1])\n",
    "geodf['max_lat'] = geodf['geometry'].map(lambda x: x.bounds[3])"
   ]
  },
  {
   "cell_type": "code",
   "execution_count": 14,
   "metadata": {},
   "outputs": [
    {
     "data": {
      "text/html": [
       "<div>\n",
       "<style scoped>\n",
       "    .dataframe tbody tr th:only-of-type {\n",
       "        vertical-align: middle;\n",
       "    }\n",
       "\n",
       "    .dataframe tbody tr th {\n",
       "        vertical-align: top;\n",
       "    }\n",
       "\n",
       "    .dataframe thead th {\n",
       "        text-align: right;\n",
       "    }\n",
       "</style>\n",
       "<table border=\"1\" class=\"dataframe\">\n",
       "  <thead>\n",
       "    <tr style=\"text-align: right;\">\n",
       "      <th></th>\n",
       "      <th>label_id</th>\n",
       "      <th>geometry</th>\n",
       "      <th>dataset</th>\n",
       "      <th>crop</th>\n",
       "      <th>geom_id</th>\n",
       "      <th>merge_id</th>\n",
       "      <th>yield</th>\n",
       "      <th>area_ha</th>\n",
       "      <th>area</th>\n",
       "      <th>image_id</th>\n",
       "      <th>min_lon</th>\n",
       "      <th>max_lon</th>\n",
       "      <th>min_lat</th>\n",
       "      <th>max_lat</th>\n",
       "    </tr>\n",
       "  </thead>\n",
       "  <tbody>\n",
       "    <tr>\n",
       "      <td>0</td>\n",
       "      <td>00000</td>\n",
       "      <td>POLYGON ((-1.21436 9.56871, -1.21427 9.56853, ...</td>\n",
       "      <td>Ghana_UDRY_2017_final</td>\n",
       "      <td>Intercrop</td>\n",
       "      <td>659</td>\n",
       "      <td>Track_2017_06_13_103011_Asseiyili</td>\n",
       "      <td>NaN</td>\n",
       "      <td>1.252312</td>\n",
       "      <td>12489.637500</td>\n",
       "      <td>00000</td>\n",
       "      <td>-1.214362</td>\n",
       "      <td>-1.213061</td>\n",
       "      <td>9.567681</td>\n",
       "      <td>9.569027</td>\n",
       "    </tr>\n",
       "    <tr>\n",
       "      <td>1</td>\n",
       "      <td>00001</td>\n",
       "      <td>POLYGON ((-1.21643 9.56705, -1.21634 9.56701, ...</td>\n",
       "      <td>Ghana_UDRY_2017_final</td>\n",
       "      <td>Intercrop</td>\n",
       "      <td>682</td>\n",
       "      <td>Track_2017_06_13_105324_Asseiyili</td>\n",
       "      <td>NaN</td>\n",
       "      <td>1.926950</td>\n",
       "      <td>19735.391306</td>\n",
       "      <td>00001</td>\n",
       "      <td>-1.216427</td>\n",
       "      <td>-1.214856</td>\n",
       "      <td>9.566604</td>\n",
       "      <td>9.568309</td>\n",
       "    </tr>\n",
       "    <tr>\n",
       "      <td>2</td>\n",
       "      <td>00002</td>\n",
       "      <td>POLYGON ((-1.21535 9.56665, -1.21468 9.56642, ...</td>\n",
       "      <td>Ghana_UDRY_2017_final</td>\n",
       "      <td>Groundnut</td>\n",
       "      <td>714</td>\n",
       "      <td>Track_2017_06_13_111916_Asseiyili</td>\n",
       "      <td>102.570387</td>\n",
       "      <td>0.974940</td>\n",
       "      <td>9578.674355</td>\n",
       "      <td>00002</td>\n",
       "      <td>-1.215350</td>\n",
       "      <td>-1.214228</td>\n",
       "      <td>9.566424</td>\n",
       "      <td>9.567501</td>\n",
       "    </tr>\n",
       "    <tr>\n",
       "      <td>3</td>\n",
       "      <td>00003</td>\n",
       "      <td>POLYGON ((-1.21593 9.56566, -1.21575 9.56562, ...</td>\n",
       "      <td>Ghana_UDRY_2017_final</td>\n",
       "      <td>Maize</td>\n",
       "      <td>662</td>\n",
       "      <td>Track_2017_06_13_103434_Asseiyili</td>\n",
       "      <td>309.144465</td>\n",
       "      <td>1.455630</td>\n",
       "      <td>14294.594403</td>\n",
       "      <td>00003</td>\n",
       "      <td>-1.215933</td>\n",
       "      <td>-1.214587</td>\n",
       "      <td>9.565302</td>\n",
       "      <td>9.566649</td>\n",
       "    </tr>\n",
       "    <tr>\n",
       "      <td>4</td>\n",
       "      <td>00004</td>\n",
       "      <td>POLYGON ((-1.21625 9.56485, -1.21602 9.56481, ...</td>\n",
       "      <td>Ghana_UDRY_2017_final</td>\n",
       "      <td>Maize</td>\n",
       "      <td>643</td>\n",
       "      <td>Track_2017_06_13_101739_Asseiyili</td>\n",
       "      <td>10.087157</td>\n",
       "      <td>0.991360</td>\n",
       "      <td>9898.404265</td>\n",
       "      <td>00004</td>\n",
       "      <td>-1.216247</td>\n",
       "      <td>-1.214856</td>\n",
       "      <td>9.564674</td>\n",
       "      <td>9.565706</td>\n",
       "    </tr>\n",
       "  </tbody>\n",
       "</table>\n",
       "</div>"
      ],
      "text/plain": [
       "  label_id                                           geometry  \\\n",
       "0    00000  POLYGON ((-1.21436 9.56871, -1.21427 9.56853, ...   \n",
       "1    00001  POLYGON ((-1.21643 9.56705, -1.21634 9.56701, ...   \n",
       "2    00002  POLYGON ((-1.21535 9.56665, -1.21468 9.56642, ...   \n",
       "3    00003  POLYGON ((-1.21593 9.56566, -1.21575 9.56562, ...   \n",
       "4    00004  POLYGON ((-1.21625 9.56485, -1.21602 9.56481, ...   \n",
       "\n",
       "                 dataset       crop  geom_id  \\\n",
       "0  Ghana_UDRY_2017_final  Intercrop      659   \n",
       "1  Ghana_UDRY_2017_final  Intercrop      682   \n",
       "2  Ghana_UDRY_2017_final  Groundnut      714   \n",
       "3  Ghana_UDRY_2017_final      Maize      662   \n",
       "4  Ghana_UDRY_2017_final      Maize      643   \n",
       "\n",
       "                            merge_id       yield   area_ha          area  \\\n",
       "0  Track_2017_06_13_103011_Asseiyili         NaN  1.252312  12489.637500   \n",
       "1  Track_2017_06_13_105324_Asseiyili         NaN  1.926950  19735.391306   \n",
       "2  Track_2017_06_13_111916_Asseiyili  102.570387  0.974940   9578.674355   \n",
       "3  Track_2017_06_13_103434_Asseiyili  309.144465  1.455630  14294.594403   \n",
       "4  Track_2017_06_13_101739_Asseiyili   10.087157  0.991360   9898.404265   \n",
       "\n",
       "  image_id   min_lon   max_lon   min_lat   max_lat  \n",
       "0    00000 -1.214362 -1.213061  9.567681  9.569027  \n",
       "1    00001 -1.216427 -1.214856  9.566604  9.568309  \n",
       "2    00002 -1.215350 -1.214228  9.566424  9.567501  \n",
       "3    00003 -1.215933 -1.214587  9.565302  9.566649  \n",
       "4    00004 -1.216247 -1.214856  9.564674  9.565706  "
      ]
     },
     "execution_count": 14,
     "metadata": {},
     "output_type": "execute_result"
    }
   ],
   "source": [
    "geodf.head()"
   ]
  },
  {
   "cell_type": "code",
   "execution_count": 24,
   "metadata": {},
   "outputs": [],
   "source": [
    "# geodf['geometry'] = geodf['geometry'].set_crs(epsg=4326)\n",
    "geodf.to_file('../mount/data/udry_parcels/udry_fields_2017.shp')"
   ]
  },
  {
   "cell_type": "code",
   "execution_count": 15,
   "metadata": {},
   "outputs": [
    {
     "name": "stdout",
     "output_type": "stream",
     "text": [
      "min lon:  -1.3037249221896339\n",
      "max lon:  0.4985635642371096\n",
      "min lat:  8.830742207828866\n",
      "max lat:  10.028587439877066\n"
     ]
    }
   ],
   "source": [
    "print(\"min lon: \", geodf['min_lon'].min())\n",
    "print(\"max lon: \", geodf['max_lon'].max())\n",
    "print(\"min lat: \", geodf['min_lat'].min())\n",
    "print(\"max lat: \", geodf['max_lat'].max())"
   ]
  },
  {
   "cell_type": "markdown",
   "metadata": {},
   "source": [
    "Next step: generate tile grid in Descartes Labs."
   ]
  },
  {
   "cell_type": "code",
   "execution_count": 16,
   "metadata": {},
   "outputs": [
    {
     "data": {
      "text/html": [
       "<div>\n",
       "<style scoped>\n",
       "    .dataframe tbody tr th:only-of-type {\n",
       "        vertical-align: middle;\n",
       "    }\n",
       "\n",
       "    .dataframe tbody tr th {\n",
       "        vertical-align: top;\n",
       "    }\n",
       "\n",
       "    .dataframe thead th {\n",
       "        text-align: right;\n",
       "    }\n",
       "</style>\n",
       "<table border=\"1\" class=\"dataframe\">\n",
       "  <thead>\n",
       "    <tr style=\"text-align: right;\">\n",
       "      <th></th>\n",
       "      <th>tile_id</th>\n",
       "      <th>geometry</th>\n",
       "    </tr>\n",
       "  </thead>\n",
       "  <tbody>\n",
       "    <tr>\n",
       "      <td>0</td>\n",
       "      <td>0</td>\n",
       "      <td>POLYGON ((-1.31156 8.82717, -1.31151 8.83839, ...</td>\n",
       "    </tr>\n",
       "    <tr>\n",
       "      <td>1</td>\n",
       "      <td>1</td>\n",
       "      <td>POLYGON ((-1.31151 8.83822, -1.31146 8.84943, ...</td>\n",
       "    </tr>\n",
       "    <tr>\n",
       "      <td>2</td>\n",
       "      <td>2</td>\n",
       "      <td>POLYGON ((-1.31146 8.84926, -1.31141 8.86048, ...</td>\n",
       "    </tr>\n",
       "    <tr>\n",
       "      <td>3</td>\n",
       "      <td>3</td>\n",
       "      <td>POLYGON ((-1.31141 8.86031, -1.31136 8.87153, ...</td>\n",
       "    </tr>\n",
       "    <tr>\n",
       "      <td>4</td>\n",
       "      <td>4</td>\n",
       "      <td>POLYGON ((-1.31136 8.87135, -1.31131 8.88257, ...</td>\n",
       "    </tr>\n",
       "  </tbody>\n",
       "</table>\n",
       "</div>"
      ],
      "text/plain": [
       "   tile_id                                           geometry\n",
       "0        0  POLYGON ((-1.31156 8.82717, -1.31151 8.83839, ...\n",
       "1        1  POLYGON ((-1.31151 8.83822, -1.31146 8.84943, ...\n",
       "2        2  POLYGON ((-1.31146 8.84926, -1.31141 8.86048, ...\n",
       "3        3  POLYGON ((-1.31141 8.86031, -1.31136 8.87153, ...\n",
       "4        4  POLYGON ((-1.31136 8.87135, -1.31131 8.88257, ..."
      ]
     },
     "execution_count": 16,
     "metadata": {},
     "output_type": "execute_result"
    }
   ],
   "source": [
    "ghana_tiles = gpd.read_file('../mount/data/udry_parcels/ghana_tiles.shp')\n",
    "ghana_tiles.head()"
   ]
  },
  {
   "cell_type": "code",
   "execution_count": 17,
   "metadata": {},
   "outputs": [],
   "source": [
    "ghana_tile_df = tiles_to_csv(ghana_tiles)"
   ]
  },
  {
   "cell_type": "code",
   "execution_count": 18,
   "metadata": {},
   "outputs": [],
   "source": [
    "ghana_tile_df.to_csv('../data/planet/ghana/udry/bbox_tiles_all.csv', index=False)"
   ]
  },
  {
   "cell_type": "markdown",
   "metadata": {},
   "source": [
    "#### Visualize tiles that overlap with labels"
   ]
  },
  {
   "cell_type": "markdown",
   "metadata": {},
   "source": [
    "First run `get_intersecting_polygons` notebook."
   ]
  },
  {
   "cell_type": "code",
   "execution_count": 25,
   "metadata": {},
   "outputs": [],
   "source": [
    "json_file = '../data/planet/ghana/udry/json_polys/bbox_tiles_0_11334.json'\n",
    "\n",
    "# open the saved json file for the found parcels in the images \n",
    "with open(json_file) as f:\n",
    "    shp_dict = json.load(f)\n",
    "\n",
    "# create dictionary of polygons in each image for fast indexing\n",
    "parcels_dict = create_dict_parcels(shp_dict)\n",
    "\n",
    "tiles_with_labels = sorted(parcels_dict.keys())\n",
    "ghana_tile_df_overlap = ghana_tile_df[ghana_tile_df['image_id'].isin(tiles_with_labels)]"
   ]
  },
  {
   "cell_type": "code",
   "execution_count": 26,
   "metadata": {},
   "outputs": [],
   "source": [
    "ghana_tile_df_overlap.to_csv('../data/planet/ghana/udry/bbox_tiles_overlap.csv', index=False)"
   ]
  },
  {
   "cell_type": "code",
   "execution_count": 94,
   "metadata": {},
   "outputs": [
    {
     "data": {
      "image/png": "[encoded data removed]",
      "text/plain": [
       "<Figure size 2160x1080 with 2 Axes>"
      ]
     },
     "metadata": {
      "needs_background": "light"
     },
     "output_type": "display_data"
    }
   ],
   "source": [
    "fig, ax = plt.subplots(2, 1, figsize=(30,15), sharex=True, sharey=True)\n",
    "geodf = gpd.read_file('../mount/data/udry_parcels/udry_fields_2017.shp')\n",
    "geodf.plot(ax=ax[0])\n",
    "geodf.plot(ax=ax[1])\n",
    "    \n",
    "for i, row in rect.iterrows():\n",
    "    ax[1].vlines(row['min_lon'], row['min_lat'], row['max_lat'], color='C0')\n",
    "    ax[1].vlines(row['max_lon'], row['min_lat'], row['max_lat'], color='C0')\n",
    "    ax[1].hlines(row['min_lat'], row['min_lon'], row['max_lon'], color='C0')\n",
    "    ax[1].hlines(row['max_lat'], row['min_lon'], row['max_lon'], color='C0')\n",
    "    \n",
    "for i, row in ghana_tile_df_overlap.iterrows():\n",
    "    ax[1].vlines(row['min_lon'], row['min_lat'], row['max_lat'], color='red')\n",
    "    ax[1].vlines(row['max_lon'], row['min_lat'], row['max_lat'], color='red')\n",
    "    ax[1].hlines(row['min_lat'], row['min_lon'], row['max_lon'], color='red')\n",
    "    ax[1].hlines(row['max_lat'], row['min_lon'], row['max_lon'], color='red')\n",
    "\n",
    "    \n",
    "plt.show()"
   ]
  },
  {
   "cell_type": "markdown",
   "metadata": {},
   "source": [
    "#### Create large rectangle encompassing all tiles for Planet download"
   ]
  },
  {
   "cell_type": "code",
   "execution_count": 92,
   "metadata": {},
   "outputs": [
    {
     "data": {
      "text/html": [
       "<div>\n",
       "<style scoped>\n",
       "    .dataframe tbody tr th:only-of-type {\n",
       "        vertical-align: middle;\n",
       "    }\n",
       "\n",
       "    .dataframe tbody tr th {\n",
       "        vertical-align: top;\n",
       "    }\n",
       "\n",
       "    .dataframe thead th {\n",
       "        text-align: right;\n",
       "    }\n",
       "</style>\n",
       "<table border=\"1\" class=\"dataframe\">\n",
       "  <thead>\n",
       "    <tr style=\"text-align: right;\">\n",
       "      <th></th>\n",
       "      <th>image_id</th>\n",
       "      <th>min_lon</th>\n",
       "      <th>min_lat</th>\n",
       "      <th>max_lon</th>\n",
       "      <th>max_lat</th>\n",
       "    </tr>\n",
       "  </thead>\n",
       "  <tbody>\n",
       "    <tr>\n",
       "      <td>0</td>\n",
       "      <td>region0</td>\n",
       "      <td>-1.308487</td>\n",
       "      <td>8.820942</td>\n",
       "      <td>-0.854081</td>\n",
       "      <td>9.430329</td>\n",
       "    </tr>\n",
       "    <tr>\n",
       "      <td>1</td>\n",
       "      <td>region1</td>\n",
       "      <td>-0.854081</td>\n",
       "      <td>8.820942</td>\n",
       "      <td>-0.399675</td>\n",
       "      <td>9.430329</td>\n",
       "    </tr>\n",
       "    <tr>\n",
       "      <td>2</td>\n",
       "      <td>region2</td>\n",
       "      <td>-0.399675</td>\n",
       "      <td>8.820942</td>\n",
       "      <td>0.054731</td>\n",
       "      <td>9.430329</td>\n",
       "    </tr>\n",
       "    <tr>\n",
       "      <td>3</td>\n",
       "      <td>region3</td>\n",
       "      <td>0.054731</td>\n",
       "      <td>8.820942</td>\n",
       "      <td>0.509137</td>\n",
       "      <td>9.430329</td>\n",
       "    </tr>\n",
       "    <tr>\n",
       "      <td>4</td>\n",
       "      <td>region4</td>\n",
       "      <td>-1.308487</td>\n",
       "      <td>9.430329</td>\n",
       "      <td>-0.854081</td>\n",
       "      <td>10.039717</td>\n",
       "    </tr>\n",
       "  </tbody>\n",
       "</table>\n",
       "</div>"
      ],
      "text/plain": [
       "  image_id   min_lon   min_lat   max_lon    max_lat\n",
       "0  region0 -1.308487  8.820942 -0.854081   9.430329\n",
       "1  region1 -0.854081  8.820942 -0.399675   9.430329\n",
       "2  region2 -0.399675  8.820942  0.054731   9.430329\n",
       "3  region3  0.054731  8.820942  0.509137   9.430329\n",
       "4  region4 -1.308487  9.430329 -0.854081  10.039717"
      ]
     },
     "execution_count": 92,
     "metadata": {},
     "output_type": "execute_result"
    }
   ],
   "source": [
    "image_ids = []\n",
    "min_lons = []\n",
    "min_lats = []\n",
    "max_lons = []\n",
    "max_lats = []\n",
    "\n",
    "min_lon = ghana_tile_df_overlap['min_lon'].min()\n",
    "min_lat = ghana_tile_df_overlap['min_lat'].min()\n",
    "max_lon = ghana_tile_df_overlap['max_lon'].max()\n",
    "max_lat = ghana_tile_df_overlap['max_lat'].max()\n",
    "\n",
    "nrow = 2\n",
    "ncol = 4\n",
    "for i in range(nrow):\n",
    "    for j in range(ncol):\n",
    "        k = i * ncol + j\n",
    "        image_ids.append('region{}'.format(k))\n",
    "        min_lons.append((max_lon - min_lon) / ncol * j + min_lon)\n",
    "        max_lons.append((max_lon - min_lon) / ncol * (j+1) + min_lon)\n",
    "        min_lats.append((max_lat - min_lat) / nrow * i + min_lat)\n",
    "        max_lats.append((max_lat - min_lat) / nrow * (i+1) + min_lat)\n",
    "\n",
    "rect = pd.DataFrame({\n",
    "    'image_id': image_ids,\n",
    "    'min_lon': min_lons,\n",
    "    'min_lat': min_lats,\n",
    "    'max_lon': max_lons,\n",
    "    'max_lat': max_lats\n",
    "})\n",
    "rect.to_csv('../data/planet/ghana/udry/bbox_entire_region.csv', index=False)\n",
    "rect.head()"
   ]
  },
  {
   "cell_type": "code",
   "execution_count": 93,
   "metadata": {},
   "outputs": [
    {
     "data": {
      "image/png": "[encoded data removed]",
      "text/plain": [
       "<Figure size 2160x1080 with 1 Axes>"
      ]
     },
     "metadata": {
      "needs_background": "light"
     },
     "output_type": "display_data"
    }
   ],
   "source": [
    "fig, ax = plt.subplots(1, figsize=(30,15), sharex=True, sharey=True)\n",
    "\n",
    "for i, row in rect.iterrows():\n",
    "    ax.vlines(row['min_lon'], row['min_lat'], row['max_lat'], color='red')\n",
    "    ax.vlines(row['max_lon'], row['min_lat'], row['max_lat'], color='red')\n",
    "    ax.hlines(row['min_lat'], row['min_lon'], row['max_lon'], color='red')\n",
    "    ax.hlines(row['max_lat'], row['min_lon'], row['max_lon'], color='red')\n",
    "plt.show()"
   ]
  },
  {
   "cell_type": "markdown",
   "metadata": {},
   "source": [
    "## Malawi"
   ]
  },
  {
   "cell_type": "code",
   "execution_count": 38,
   "metadata": {},
   "outputs": [],
   "source": [
    "df = pd.read_csv('../mount/data/malawi_parcels/malawi_WFP_fields_2018.csv')\n",
    "df['label_id'] = [str(x).zfill(5) for x in np.arange(df.shape[0])]"
   ]
  },
  {
   "cell_type": "code",
   "execution_count": 39,
   "metadata": {},
   "outputs": [
    {
     "data": {
      "text/html": [
       "<div>\n",
       "<style scoped>\n",
       "    .dataframe tbody tr th:only-of-type {\n",
       "        vertical-align: middle;\n",
       "    }\n",
       "\n",
       "    .dataframe tbody tr th {\n",
       "        vertical-align: top;\n",
       "    }\n",
       "\n",
       "    .dataframe thead th {\n",
       "        text-align: right;\n",
       "    }\n",
       "</style>\n",
       "<table border=\"1\" class=\"dataframe\">\n",
       "  <thead>\n",
       "    <tr style=\"text-align: right;\">\n",
       "      <th></th>\n",
       "      <th>system:index</th>\n",
       "      <th>CODE</th>\n",
       "      <th>CROP</th>\n",
       "      <th>Comment</th>\n",
       "      <th>CropType</th>\n",
       "      <th>CropType_l</th>\n",
       "      <th>ID</th>\n",
       "      <th>IRRIGATION</th>\n",
       "      <th>LC</th>\n",
       "      <th>area</th>\n",
       "      <th>.geo</th>\n",
       "      <th>label_id</th>\n",
       "    </tr>\n",
       "  </thead>\n",
       "  <tbody>\n",
       "    <tr>\n",
       "      <td>0</td>\n",
       "      <td>000000000000000001ef</td>\n",
       "      <td>120018</td>\n",
       "      <td>1</td>\n",
       "      <td>Field partly harvested</td>\n",
       "      <td>1</td>\n",
       "      <td>Cultivated Field</td>\n",
       "      <td>29614903</td>\n",
       "      <td>0</td>\n",
       "      <td>Maize / Millet</td>\n",
       "      <td>8437.338626</td>\n",
       "      <td>{\"type\":\"GeometryCollection\",\"geometries\":[{\"t...</td>\n",
       "      <td>00000</td>\n",
       "    </tr>\n",
       "    <tr>\n",
       "      <td>1</td>\n",
       "      <td>00000000000000000220</td>\n",
       "      <td>78</td>\n",
       "      <td>1</td>\n",
       "      <td>A very big field of pigeon peas belonging to a...</td>\n",
       "      <td>1</td>\n",
       "      <td>Cultivated Field</td>\n",
       "      <td>29616702</td>\n",
       "      <td>0</td>\n",
       "      <td>Pigeon Peas</td>\n",
       "      <td>101795.943094</td>\n",
       "      <td>{\"type\":\"GeometryCollection\",\"geometries\":[{\"t...</td>\n",
       "      <td>00001</td>\n",
       "    </tr>\n",
       "    <tr>\n",
       "      <td>2</td>\n",
       "      <td>000000000000000001d7</td>\n",
       "      <td>12</td>\n",
       "      <td>1</td>\n",
       "      <td>Weeds present</td>\n",
       "      <td>1</td>\n",
       "      <td>Cultivated Field</td>\n",
       "      <td>29614843</td>\n",
       "      <td>0</td>\n",
       "      <td>Maize</td>\n",
       "      <td>5322.467267</td>\n",
       "      <td>{\"type\":\"Polygon\",\"coordinates\":[[[33.43254717...</td>\n",
       "      <td>00002</td>\n",
       "    </tr>\n",
       "    <tr>\n",
       "      <td>3</td>\n",
       "      <td>000000000000000001d9</td>\n",
       "      <td>12</td>\n",
       "      <td>1</td>\n",
       "      <td>Weeds available</td>\n",
       "      <td>1</td>\n",
       "      <td>Cultivated Field</td>\n",
       "      <td>29614845</td>\n",
       "      <td>0</td>\n",
       "      <td>Maize</td>\n",
       "      <td>2258.955917</td>\n",
       "      <td>{\"type\":\"Polygon\",\"coordinates\":[[[33.43079029...</td>\n",
       "      <td>00003</td>\n",
       "    </tr>\n",
       "    <tr>\n",
       "      <td>4</td>\n",
       "      <td>000000000000000001db</td>\n",
       "      <td>12</td>\n",
       "      <td>1</td>\n",
       "      <td>Weeds available</td>\n",
       "      <td>1</td>\n",
       "      <td>Cultivated Field</td>\n",
       "      <td>29614847</td>\n",
       "      <td>0</td>\n",
       "      <td>Maize</td>\n",
       "      <td>12497.676621</td>\n",
       "      <td>{\"type\":\"Polygon\",\"coordinates\":[[[33.43099534...</td>\n",
       "      <td>00004</td>\n",
       "    </tr>\n",
       "  </tbody>\n",
       "</table>\n",
       "</div>"
      ],
      "text/plain": [
       "           system:index    CODE  CROP  \\\n",
       "0  000000000000000001ef  120018     1   \n",
       "1  00000000000000000220      78     1   \n",
       "2  000000000000000001d7      12     1   \n",
       "3  000000000000000001d9      12     1   \n",
       "4  000000000000000001db      12     1   \n",
       "\n",
       "                                             Comment  CropType  \\\n",
       "0                             Field partly harvested         1   \n",
       "1  A very big field of pigeon peas belonging to a...         1   \n",
       "2                                      Weeds present         1   \n",
       "3                                    Weeds available         1   \n",
       "4                                    Weeds available         1   \n",
       "\n",
       "         CropType_l        ID  IRRIGATION              LC           area  \\\n",
       "0  Cultivated Field  29614903           0  Maize / Millet    8437.338626   \n",
       "1  Cultivated Field  29616702           0     Pigeon Peas  101795.943094   \n",
       "2  Cultivated Field  29614843           0           Maize    5322.467267   \n",
       "3  Cultivated Field  29614845           0           Maize    2258.955917   \n",
       "4  Cultivated Field  29614847           0           Maize   12497.676621   \n",
       "\n",
       "                                                .geo label_id  \n",
       "0  {\"type\":\"GeometryCollection\",\"geometries\":[{\"t...    00000  \n",
       "1  {\"type\":\"GeometryCollection\",\"geometries\":[{\"t...    00001  \n",
       "2  {\"type\":\"Polygon\",\"coordinates\":[[[33.43254717...    00002  \n",
       "3  {\"type\":\"Polygon\",\"coordinates\":[[[33.43079029...    00003  \n",
       "4  {\"type\":\"Polygon\",\"coordinates\":[[[33.43099534...    00004  "
      ]
     },
     "execution_count": 39,
     "metadata": {},
     "output_type": "execute_result"
    }
   ],
   "source": [
    "df.head()"
   ]
  },
  {
   "cell_type": "code",
   "execution_count": 40,
   "metadata": {},
   "outputs": [],
   "source": [
    "label_ids = []\n",
    "polygons = []\n",
    "for i, row in df.iterrows():\n",
    "    row_geom = eval(row['.geo'])\n",
    "    if row_geom['type'] == 'GeometryCollection':\n",
    "        for geom in row_geom['geometries']:\n",
    "            if geom['type'] == 'Polygon':\n",
    "                label_ids.append(row['label_id'])\n",
    "                poly = Polygon(geom['coordinates'][0])\n",
    "                polygons.append(poly)\n",
    "            elif geom['type'] == 'MultiPolygon':\n",
    "                for inner_geom in geom['coordinates']:\n",
    "                    label_ids.append(row['label_id'])\n",
    "                    poly = Polygon(inner_geom[0])\n",
    "                    polygons.append(poly)\n",
    "                \n",
    "    elif row_geom['type'] == 'Polygon':\n",
    "        label_ids.append(row['label_id'])\n",
    "        poly = Polygon(row_geom['coordinates'][0])\n",
    "        polygons.append(poly)\n",
    "        \n",
    "    elif row_geom['type'] == 'MultiPolygon':\n",
    "        for geom in row_geom['coordinates']:\n",
    "            label_ids.append(row['label_id'])\n",
    "            poly = Polygon(geom[0])\n",
    "            polygons.append(poly)"
   ]
  },
  {
   "cell_type": "code",
   "execution_count": 41,
   "metadata": {},
   "outputs": [],
   "source": [
    "malawi = pd.DataFrame({\n",
    "    'label_id': label_ids,\n",
    "    'geometry': polygons\n",
    "})\n",
    "columns = ['CODE', 'CROP', 'Comment', 'CropType', 'CropType_l', 'ID', 'IRRIGATION', 'LC', 'area', 'label_id']\n",
    "malawi = malawi.merge(df[columns], on='label_id', how='left')\n",
    "malawi['image_id'] = [str(x).zfill(5) for x in np.arange(malawi.shape[0])]"
   ]
  },
  {
   "cell_type": "code",
   "execution_count": 44,
   "metadata": {},
   "outputs": [
    {
     "data": {
      "text/html": [
       "<div>\n",
       "<style scoped>\n",
       "    .dataframe tbody tr th:only-of-type {\n",
       "        vertical-align: middle;\n",
       "    }\n",
       "\n",
       "    .dataframe tbody tr th {\n",
       "        vertical-align: top;\n",
       "    }\n",
       "\n",
       "    .dataframe thead th {\n",
       "        text-align: right;\n",
       "    }\n",
       "</style>\n",
       "<table border=\"1\" class=\"dataframe\">\n",
       "  <thead>\n",
       "    <tr style=\"text-align: right;\">\n",
       "      <th></th>\n",
       "      <th>label_id</th>\n",
       "      <th>geometry</th>\n",
       "      <th>CODE</th>\n",
       "      <th>CROP</th>\n",
       "      <th>Comment</th>\n",
       "      <th>CropType</th>\n",
       "      <th>CropType_l</th>\n",
       "      <th>ID</th>\n",
       "      <th>IRRIGATION</th>\n",
       "      <th>LC</th>\n",
       "      <th>area</th>\n",
       "      <th>image_id</th>\n",
       "      <th>min_lon</th>\n",
       "      <th>max_lon</th>\n",
       "      <th>min_lat</th>\n",
       "      <th>max_lat</th>\n",
       "    </tr>\n",
       "  </thead>\n",
       "  <tbody>\n",
       "    <tr>\n",
       "      <td>0</td>\n",
       "      <td>00000</td>\n",
       "      <td>POLYGON ((33.52883 -13.24086, 33.52885 -13.240...</td>\n",
       "      <td>120018</td>\n",
       "      <td>1</td>\n",
       "      <td>Field partly harvested</td>\n",
       "      <td>1</td>\n",
       "      <td>Cultivated Field</td>\n",
       "      <td>29614903</td>\n",
       "      <td>0</td>\n",
       "      <td>Maize / Millet</td>\n",
       "      <td>8437.338626</td>\n",
       "      <td>00000</td>\n",
       "      <td>33.528832</td>\n",
       "      <td>33.529809</td>\n",
       "      <td>-13.241113</td>\n",
       "      <td>-13.240213</td>\n",
       "    </tr>\n",
       "    <tr>\n",
       "      <td>1</td>\n",
       "      <td>00001</td>\n",
       "      <td>POLYGON ((33.43312 -13.34411, 33.43508 -13.345...</td>\n",
       "      <td>78</td>\n",
       "      <td>1</td>\n",
       "      <td>A very big field of pigeon peas belonging to a...</td>\n",
       "      <td>1</td>\n",
       "      <td>Cultivated Field</td>\n",
       "      <td>29616702</td>\n",
       "      <td>0</td>\n",
       "      <td>Pigeon Peas</td>\n",
       "      <td>101795.943094</td>\n",
       "      <td>00001</td>\n",
       "      <td>33.433118</td>\n",
       "      <td>33.435512</td>\n",
       "      <td>-13.345974</td>\n",
       "      <td>-13.340810</td>\n",
       "    </tr>\n",
       "    <tr>\n",
       "      <td>2</td>\n",
       "      <td>00002</td>\n",
       "      <td>POLYGON ((33.43255 -13.36306, 33.43311 -13.363...</td>\n",
       "      <td>12</td>\n",
       "      <td>1</td>\n",
       "      <td>Weeds present</td>\n",
       "      <td>1</td>\n",
       "      <td>Cultivated Field</td>\n",
       "      <td>29614843</td>\n",
       "      <td>0</td>\n",
       "      <td>Maize</td>\n",
       "      <td>5322.467267</td>\n",
       "      <td>00002</td>\n",
       "      <td>33.432547</td>\n",
       "      <td>33.433158</td>\n",
       "      <td>-13.363061</td>\n",
       "      <td>-13.362098</td>\n",
       "    </tr>\n",
       "    <tr>\n",
       "      <td>3</td>\n",
       "      <td>00003</td>\n",
       "      <td>POLYGON ((33.43079 -13.34544, 33.43082 -13.345...</td>\n",
       "      <td>12</td>\n",
       "      <td>1</td>\n",
       "      <td>Weeds available</td>\n",
       "      <td>1</td>\n",
       "      <td>Cultivated Field</td>\n",
       "      <td>29614845</td>\n",
       "      <td>0</td>\n",
       "      <td>Maize</td>\n",
       "      <td>2258.955917</td>\n",
       "      <td>00003</td>\n",
       "      <td>33.430790</td>\n",
       "      <td>33.431303</td>\n",
       "      <td>-13.345510</td>\n",
       "      <td>-13.344993</td>\n",
       "    </tr>\n",
       "    <tr>\n",
       "      <td>4</td>\n",
       "      <td>00004</td>\n",
       "      <td>POLYGON ((33.43100 -13.34630, 33.43226 -13.346...</td>\n",
       "      <td>12</td>\n",
       "      <td>1</td>\n",
       "      <td>Weeds available</td>\n",
       "      <td>1</td>\n",
       "      <td>Cultivated Field</td>\n",
       "      <td>29614847</td>\n",
       "      <td>0</td>\n",
       "      <td>Maize</td>\n",
       "      <td>12497.676621</td>\n",
       "      <td>00004</td>\n",
       "      <td>33.430995</td>\n",
       "      <td>33.432449</td>\n",
       "      <td>-13.346455</td>\n",
       "      <td>-13.345523</td>\n",
       "    </tr>\n",
       "  </tbody>\n",
       "</table>\n",
       "</div>"
      ],
      "text/plain": [
       "  label_id                                           geometry    CODE  CROP  \\\n",
       "0    00000  POLYGON ((33.52883 -13.24086, 33.52885 -13.240...  120018     1   \n",
       "1    00001  POLYGON ((33.43312 -13.34411, 33.43508 -13.345...      78     1   \n",
       "2    00002  POLYGON ((33.43255 -13.36306, 33.43311 -13.363...      12     1   \n",
       "3    00003  POLYGON ((33.43079 -13.34544, 33.43082 -13.345...      12     1   \n",
       "4    00004  POLYGON ((33.43100 -13.34630, 33.43226 -13.346...      12     1   \n",
       "\n",
       "                                             Comment  CropType  \\\n",
       "0                             Field partly harvested         1   \n",
       "1  A very big field of pigeon peas belonging to a...         1   \n",
       "2                                      Weeds present         1   \n",
       "3                                    Weeds available         1   \n",
       "4                                    Weeds available         1   \n",
       "\n",
       "         CropType_l        ID  IRRIGATION              LC           area  \\\n",
       "0  Cultivated Field  29614903           0  Maize / Millet    8437.338626   \n",
       "1  Cultivated Field  29616702           0     Pigeon Peas  101795.943094   \n",
       "2  Cultivated Field  29614843           0           Maize    5322.467267   \n",
       "3  Cultivated Field  29614845           0           Maize    2258.955917   \n",
       "4  Cultivated Field  29614847           0           Maize   12497.676621   \n",
       "\n",
       "  image_id    min_lon    max_lon    min_lat    max_lat  \n",
       "0    00000  33.528832  33.529809 -13.241113 -13.240213  \n",
       "1    00001  33.433118  33.435512 -13.345974 -13.340810  \n",
       "2    00002  33.432547  33.433158 -13.363061 -13.362098  \n",
       "3    00003  33.430790  33.431303 -13.345510 -13.344993  \n",
       "4    00004  33.430995  33.432449 -13.346455 -13.345523  "
      ]
     },
     "execution_count": 44,
     "metadata": {},
     "output_type": "execute_result"
    }
   ],
   "source": [
    "geodf = gpd.GeoDataFrame(malawi, geometry='geometry')\n",
    "\n",
    "geodf['min_lon'] = geodf['geometry'].map(lambda x: x.bounds[0])\n",
    "geodf['max_lon'] = geodf['geometry'].map(lambda x: x.bounds[2])\n",
    "geodf['min_lat'] = geodf['geometry'].map(lambda x: x.bounds[1])\n",
    "geodf['max_lat'] = geodf['geometry'].map(lambda x: x.bounds[3])\n",
    "\n",
    "geodf.head()"
   ]
  },
  {
   "cell_type": "code",
   "execution_count": 45,
   "metadata": {},
   "outputs": [],
   "source": [
    "geodf.to_file('../mount/data/malawi_parcels/malawi_WFP_fields_2018.shp')"
   ]
  },
  {
   "cell_type": "code",
   "execution_count": 46,
   "metadata": {},
   "outputs": [
    {
     "name": "stdout",
     "output_type": "stream",
     "text": [
      "min_lon = 33.32748180558014\n",
      "max_lon = 33.74592387412868\n",
      "min_lat = -13.363060761700153\n",
      "max_lat = -12.689959501189106\n"
     ]
    }
   ],
   "source": [
    "print(\"min_lon =\", geodf['min_lon'].min())\n",
    "print(\"max_lon =\", geodf['max_lon'].max())\n",
    "print(\"min_lat =\", geodf['min_lat'].min())\n",
    "print(\"max_lat =\", geodf['max_lat'].max())"
   ]
  },
  {
   "cell_type": "markdown",
   "metadata": {},
   "source": [
    "Next step: generate tile grid in Descartes Labs."
   ]
  },
  {
   "cell_type": "code",
   "execution_count": 47,
   "metadata": {},
   "outputs": [
    {
     "data": {
      "text/html": [
       "<div>\n",
       "<style scoped>\n",
       "    .dataframe tbody tr th:only-of-type {\n",
       "        vertical-align: middle;\n",
       "    }\n",
       "\n",
       "    .dataframe tbody tr th {\n",
       "        vertical-align: top;\n",
       "    }\n",
       "\n",
       "    .dataframe thead th {\n",
       "        text-align: right;\n",
       "    }\n",
       "</style>\n",
       "<table border=\"1\" class=\"dataframe\">\n",
       "  <thead>\n",
       "    <tr style=\"text-align: right;\">\n",
       "      <th></th>\n",
       "      <th>tile_id</th>\n",
       "      <th>geometry</th>\n",
       "    </tr>\n",
       "  </thead>\n",
       "  <tbody>\n",
       "    <tr>\n",
       "      <td>0</td>\n",
       "      <td>0</td>\n",
       "      <td>POLYGON ((33.31585 -13.37222, 33.31583 -13.361...</td>\n",
       "    </tr>\n",
       "    <tr>\n",
       "      <td>1</td>\n",
       "      <td>1</td>\n",
       "      <td>POLYGON ((33.31583 -13.36118, 33.31582 -13.349...</td>\n",
       "    </tr>\n",
       "    <tr>\n",
       "      <td>2</td>\n",
       "      <td>2</td>\n",
       "      <td>POLYGON ((33.31582 -13.35013, 33.31580 -13.338...</td>\n",
       "    </tr>\n",
       "    <tr>\n",
       "      <td>3</td>\n",
       "      <td>3</td>\n",
       "      <td>POLYGON ((33.31580 -13.33908, 33.31579 -13.327...</td>\n",
       "    </tr>\n",
       "    <tr>\n",
       "      <td>4</td>\n",
       "      <td>4</td>\n",
       "      <td>POLYGON ((33.31579 -13.32803, 33.31578 -13.316...</td>\n",
       "    </tr>\n",
       "  </tbody>\n",
       "</table>\n",
       "</div>"
      ],
      "text/plain": [
       "   tile_id                                           geometry\n",
       "0        0  POLYGON ((33.31585 -13.37222, 33.31583 -13.361...\n",
       "1        1  POLYGON ((33.31583 -13.36118, 33.31582 -13.349...\n",
       "2        2  POLYGON ((33.31582 -13.35013, 33.31580 -13.338...\n",
       "3        3  POLYGON ((33.31580 -13.33908, 33.31579 -13.327...\n",
       "4        4  POLYGON ((33.31579 -13.32803, 33.31578 -13.316..."
      ]
     },
     "execution_count": 47,
     "metadata": {},
     "output_type": "execute_result"
    }
   ],
   "source": [
    "malawi_tiles = gpd.read_file('../mount/data/malawi_parcels/malawi_tiles.shp')\n",
    "malawi_tiles.head()"
   ]
  },
  {
   "cell_type": "code",
   "execution_count": 48,
   "metadata": {},
   "outputs": [],
   "source": [
    "malawi_tile_df = tiles_to_csv(malawi_tiles)"
   ]
  },
  {
   "cell_type": "code",
   "execution_count": 49,
   "metadata": {},
   "outputs": [],
   "source": [
    "malawi_tile_df.to_csv('../data/planet/malawi/bbox_tiles_all.csv', index=False)"
   ]
  },
  {
   "cell_type": "markdown",
   "metadata": {},
   "source": [
    "#### Visualize tiles that overlap with labels"
   ]
  },
  {
   "cell_type": "markdown",
   "metadata": {},
   "source": [
    "First run `get_intersecting_polygons` notebook."
   ]
  },
  {
   "cell_type": "code",
   "execution_count": 50,
   "metadata": {},
   "outputs": [],
   "source": [
    "json_file = '../data/planet/malawi/json_polys/bbox_tiles_0_499.json'\n",
    "\n",
    "# open the saved json file for the found parcels in the images \n",
    "with open(json_file) as f:\n",
    "    shp_dict = json.load(f)\n",
    "\n",
    "# create dictionary of polygons in each image for fast indexing\n",
    "parcels_dict = create_dict_parcels(shp_dict)\n",
    "\n",
    "tiles_with_labels = sorted(parcels_dict.keys())\n",
    "malawi_tile_df_overlap = malawi_tile_df[malawi_tile_df['image_id'].isin(tiles_with_labels)]"
   ]
  },
  {
   "cell_type": "code",
   "execution_count": 51,
   "metadata": {},
   "outputs": [],
   "source": [
    "malawi_tile_df_overlap.to_csv('../data/planet/malawi/bbox_tiles_overlap.csv', index=False)"
   ]
  },
  {
   "cell_type": "code",
   "execution_count": 55,
   "metadata": {},
   "outputs": [
    {
     "data": {
      "image/png": "[encoded data removed]",
      "text/plain": [
       "<Figure size 1152x1440 with 2 Axes>"
      ]
     },
     "metadata": {
      "needs_background": "light"
     },
     "output_type": "display_data"
    }
   ],
   "source": [
    "fig, ax = plt.subplots(1, 2, figsize=(16, 20), sharex=True, sharey=True)\n",
    "geodf.plot(ax=ax[0])\n",
    "geodf.plot(ax=ax[1])\n",
    "\n",
    "for i, row in malawi_tile_df_overlap.iterrows():\n",
    "    ax[1].vlines(row['min_lon'], row['min_lat'], row['max_lat'], color='red')\n",
    "    ax[1].vlines(row['max_lon'], row['min_lat'], row['max_lat'], color='red')\n",
    "    ax[1].hlines(row['min_lat'], row['min_lon'], row['max_lon'], color='red')\n",
    "    ax[1].hlines(row['max_lat'], row['min_lon'], row['max_lon'], color='red')\n",
    "plt.show()"
   ]
  },
  {
   "cell_type": "markdown",
   "metadata": {},
   "source": [
    "#### Create large rectangle encompassing all tiles for Planet download"
   ]
  },
  {
   "cell_type": "code",
   "execution_count": 64,
   "metadata": {},
   "outputs": [
    {
     "data": {
      "text/html": [
       "<div>\n",
       "<style scoped>\n",
       "    .dataframe tbody tr th:only-of-type {\n",
       "        vertical-align: middle;\n",
       "    }\n",
       "\n",
       "    .dataframe tbody tr th {\n",
       "        vertical-align: top;\n",
       "    }\n",
       "\n",
       "    .dataframe thead th {\n",
       "        text-align: right;\n",
       "    }\n",
       "</style>\n",
       "<table border=\"1\" class=\"dataframe\">\n",
       "  <thead>\n",
       "    <tr style=\"text-align: right;\">\n",
       "      <th></th>\n",
       "      <th>image_id</th>\n",
       "      <th>min_lon</th>\n",
       "      <th>min_lat</th>\n",
       "      <th>max_lon</th>\n",
       "      <th>max_lat</th>\n",
       "    </tr>\n",
       "  </thead>\n",
       "  <tbody>\n",
       "    <tr>\n",
       "      <td>0</td>\n",
       "      <td>entire_region</td>\n",
       "      <td>33.326246</td>\n",
       "      <td>-13.372057</td>\n",
       "      <td>33.754838</td>\n",
       "      <td>-12.68666</td>\n",
       "    </tr>\n",
       "  </tbody>\n",
       "</table>\n",
       "</div>"
      ],
      "text/plain": [
       "        image_id    min_lon    min_lat    max_lon   max_lat\n",
       "0  entire_region  33.326246 -13.372057  33.754838 -12.68666"
      ]
     },
     "execution_count": 64,
     "metadata": {},
     "output_type": "execute_result"
    }
   ],
   "source": [
    "rect = pd.DataFrame({\n",
    "    'image_id': ['entire_region'],\n",
    "    'min_lon': [malawi_tile_df_overlap['min_lon'].min()],\n",
    "    'min_lat': [malawi_tile_df_overlap['min_lat'].min()],\n",
    "    'max_lon': [malawi_tile_df_overlap['max_lon'].max()],\n",
    "    'max_lat': [malawi_tile_df_overlap['max_lat'].max()]\n",
    "})\n",
    "rect.to_csv('../data/planet/malawi/bbox_entire_region.csv', index=False)\n",
    "rect.head()"
   ]
  },
  {
   "cell_type": "code",
   "execution_count": null,
   "metadata": {},
   "outputs": [],
   "source": []
  }
 ],
 "metadata": {
  "kernelspec": {
   "display_name": "Environment (conda_geopython)",
   "language": "python",
   "name": "conda_geopython"
  },
  "language_info": {
   "codemirror_mode": {
    "name": "ipython",
    "version": 3
   },
   "file_extension": ".py",
   "mimetype": "text/x-python",
   "name": "python",
   "nbconvert_exporter": "python",
   "pygments_lexer": "ipython3",
   "version": "3.7.4"
  }
 },
 "nbformat": 4,
 "nbformat_minor": 2
}
