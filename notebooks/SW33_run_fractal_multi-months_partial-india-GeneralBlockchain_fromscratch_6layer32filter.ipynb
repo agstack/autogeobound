{
 "cells": [
  {
   "cell_type": "code",
   "execution_count": 1,
   "metadata": {},
   "outputs": [],
   "source": [
    "import numpy as np\n",
    "import pandas as pd\n",
    "import os\n",
    "from tqdm import tqdm\n",
    "import visdom\n",
    "\n",
    "import mxnet as mx\n",
    "from mxnet import gluon\n",
    "from mxnet import autograd\n",
    "from mxnet import image\n",
    "\n",
    "import sys\n",
    "sys.path.append('../../resuneta/src')\n",
    "sys.path.append('../../decode/FracTAL_ResUNet/models/semanticsegmentation')\n",
    "sys.path.append('../../decode/FracTAL_ResUNet/nn/loss')\n",
    "sys.path.append('../../')\n",
    "sys.path.append('../MXNet-ResUNeta/')\n",
    "\n",
    "from bound_dist import get_distance, get_boundary\n",
    "from FracTAL_ResUNet import FracTAL_ResUNet_cmtsk\n",
    "from ftnmt_loss import ftnmt_loss_masked\n",
    "from datasets import *\n",
    "\n",
    "from sklearn.metrics import matthews_corrcoef\n",
    "\n",
    "import matplotlib.pyplot as plt\n",
    "%matplotlib inline"
   ]
  },
  {
   "cell_type": "code",
   "execution_count": 2,
   "metadata": {},
   "outputs": [],
   "source": [
    "def dice_coef(x, y):\n",
    "    if type(x).__module__ == 'numpy':\n",
    "        intersection = np.logical_and(x, y)\n",
    "        return 2. * np.sum(intersection) / (np.sum(x) + np.sum(y))\n",
    "    else:\n",
    "        intersection = mx.ndarray.op.broadcast_logical_and(x, y)\n",
    "        return 2. * mx.nd.sum(intersection) / (mx.nd.sum(x) + mx.nd.sum(y))"
   ]
  },
  {
   "cell_type": "code",
   "execution_count": 3,
   "metadata": {},
   "outputs": [],
   "source": [
    "def visdom_visualize_batch(vis, img, extent, boundary, distance,\n",
    "                           extent_pred, boundary_pred, distance_pred,\n",
    "                           hsv, hsv_pred, mask, title=\"Train images\"):\n",
    "\n",
    "    img, extent, boundary, distance = img.asnumpy(), extent.asnumpy(), boundary.asnumpy(), distance.asnumpy()\n",
    "    extent_pred, boundary_pred = extent_pred.asnumpy(), boundary_pred.asnumpy()\n",
    "    distance_pred, hsv, hsv_pred = distance_pred.asnumpy(), hsv.asnumpy(), hsv_pred.asnumpy()\n",
    "    mask = mask.asnumpy()\n",
    "\n",
    "    # put everything in one window\n",
    "    batch_size, nchannels, nrows, ncols = img.shape\n",
    "    imgs = []\n",
    "    for i in range(nchannels // 3):\n",
    "        imgs.append(img[:,i*3:(i+1)*3])\n",
    "    padding = 10\n",
    "    items = imgs + [extent, extent_pred, \n",
    "             boundary, boundary_pred, distance, distance_pred,\n",
    "             mask]\n",
    "    result = np.zeros((3, len(items)*nrows + (len(items)-1)*padding, batch_size*ncols + (batch_size-1)*padding))\n",
    "\n",
    "    for j, item in enumerate(items):\n",
    "\n",
    "        if item.shape[1] == 1:\n",
    "            item = np.tile(item, (1,3,1,1)) * 255.\n",
    "\n",
    "#         if j == len(items) - 8 or j == len(items) - 9: # convert HSV to RGB\n",
    "#             item = np.moveaxis(item, 1, -1) * 255.\n",
    "#             for i in range(batch_size):\n",
    "#                 item[i] = cv2.cvtColor(item[i].astype(np.uint8), cv2.COLOR_HSV2RGB)\n",
    "#             item = np.moveaxis(item, -1, 1)\n",
    "            \n",
    "        for i in range(batch_size):\n",
    "            result[:, j*(nrows+padding):(j+1)*nrows+j*padding, i*(ncols+padding):(i+1)*ncols+i*padding] = item[i]\n",
    "    vis.images(result, nrow=1, win=title, opts={'title': title})\n"
   ]
  },
  {
   "cell_type": "code",
   "execution_count": 4,
   "metadata": {},
   "outputs": [],
   "source": [
    "def train_model(train_dataloader, model, tanimoto_dual, trainer, epoch, args):\n",
    "    \n",
    "    # initialize metrics\n",
    "    cumulative_loss = 0\n",
    "    accuracy = mx.metric.Accuracy()\n",
    "    f1 = mx.metric.F1()\n",
    "    mcc = mx.metric.MCC()\n",
    "    dice = mx.metric.CustomMetric(feval=dice_coef, name=\"Dice\")\n",
    "    if args['ctx_name'] == 'cpu':\n",
    "        ctx = mx.cpu()\n",
    "    else:\n",
    "        ctx = mx.gpu(args['gpu'])\n",
    "    \n",
    "    # training set\n",
    "    for batch_i, (img, extent, boundary, distance, hsv, mask) in enumerate(\n",
    "        tqdm(train_dataloader, desc='Training epoch {}'.format(epoch))):\n",
    "#         print(\"batch {}\".format(batch_i))\n",
    "        \n",
    "        with autograd.record():\n",
    "\n",
    "            img = img.as_in_context(ctx)\n",
    "            extent = extent.as_in_context(ctx)\n",
    "            boundary = boundary.as_in_context(ctx)\n",
    "            distance = distance.as_in_context(ctx)\n",
    "            hsv = hsv.as_in_context(ctx)\n",
    "            mask = mask.as_in_context(ctx)\n",
    "            nonmask = mx.nd.ones(extent.shape).as_in_context(ctx)\n",
    "            \n",
    "            # logits, bound, dist, convc = model(img)\n",
    "            logits, bound, dist = model(img)\n",
    "            \n",
    "            # multi-task loss\n",
    "            # TODO: wrap this in a custom loss function / class\n",
    "            loss_extent = mx.nd.sum(tanimoto_dual(logits, extent, mask))\n",
    "            loss_boundary = mx.nd.sum(tanimoto_dual(bound, boundary, mask))\n",
    "            loss_distance = mx.nd.sum(tanimoto_dual(dist, distance, mask))\n",
    "\n",
    "            loss = 0.33 * (loss_extent + loss_boundary + loss_distance) # + loss_hsv)\n",
    "            \n",
    "#         print(\"backprop\")\n",
    "        loss.backward()\n",
    "        trainer.step(args['batch_size'])\n",
    "        cumulative_loss += mx.nd.sum(loss).asscalar()\n",
    "        \n",
    "#         print(\"computing metrics\")\n",
    "        logits_reshaped = logits.reshape((logits.shape[0], -1))\n",
    "        extent_reshaped = extent.reshape((extent.shape[0], -1))\n",
    "        mask_reshaped = mask.reshape((mask.shape[0], -1))\n",
    "        \n",
    "        nonmask_idx = mx.np.nonzero(mask_reshaped.as_np_ndarray())\n",
    "        nonmask_idx = mx.np.stack(nonmask_idx).as_nd_ndarray().as_in_context(ctx)\n",
    "        logits_masked = mx.nd.gather_nd(logits_reshaped, nonmask_idx)\n",
    "        extent_masked = mx.nd.gather_nd(extent_reshaped, nonmask_idx)\n",
    "\n",
    "        # accuracy\n",
    "        extent_predicted_classes = mx.nd.ceil(logits_masked - 0.5)\n",
    "        accuracy.update(extent_masked, extent_predicted_classes)\n",
    "        \n",
    "        # f1 score\n",
    "        probabilities = mx.nd.stack(1 - logits_masked, logits_masked, axis=1)\n",
    "        f1.update(extent_masked, probabilities)\n",
    "        \n",
    "        # MCC metric\n",
    "        mcc.update(extent_masked, probabilities)\n",
    "        \n",
    "        # Dice score\n",
    "        dice.update(extent_masked, extent_predicted_classes)\n",
    "        \n",
    "        # TEMPORARY to make visdom work\n",
    "#         print(\"visdom\")\n",
    "        convc = hsv\n",
    "        if batch_i % args['visdom_every'] == 0:\n",
    "            visdom_visualize_batch(args['visdom'], img, extent, boundary, distance,\n",
    "                                   logits, bound, dist, hsv, convc, mask)\n",
    "\n",
    "    return cumulative_loss, accuracy, f1, mcc, dice"
   ]
  },
  {
   "cell_type": "code",
   "execution_count": 5,
   "metadata": {},
   "outputs": [],
   "source": [
    "def evaluate_model(val_dataloader, model, tanimoto_dual, epoch, args):\n",
    "    \n",
    "    # initialize metrics\n",
    "    cumulative_loss = 0\n",
    "    accuracy = mx.metric.Accuracy()\n",
    "    f1 = mx.metric.F1()\n",
    "    mcc = mx.metric.MCC()\n",
    "    dice = mx.metric.CustomMetric(feval=dice_coef, name=\"Dice\")\n",
    "    if args['ctx_name'] == 'cpu':\n",
    "        ctx = mx.cpu()\n",
    "    else:\n",
    "        ctx = mx.gpu(args['gpu'])\n",
    "    \n",
    "    # validation set\n",
    "    for batch_i, (img, extent, boundary, distance, hsv, mask) in enumerate(\n",
    "        tqdm(val_dataloader, desc='Validation epoch {}'.format(epoch))):\n",
    "\n",
    "        img = img.as_in_context(ctx)\n",
    "        extent = extent.as_in_context(ctx)\n",
    "        boundary = boundary.as_in_context(ctx)\n",
    "        distance = distance.as_in_context(ctx)\n",
    "        hsv = hsv.as_in_context(ctx)\n",
    "        mask = mask.as_in_context(ctx)\n",
    "        nonmask = mx.nd.ones(extent.shape).as_in_context(ctx)\n",
    "\n",
    "        # logits, bound, dist, convc = model(img)\n",
    "        logits, bound, dist = model(img)\n",
    "        \n",
    "        # multi-task loss\n",
    "        # TODO: wrap this in a custom loss function / class\n",
    "        loss_extent = mx.nd.sum(tanimoto_dual(logits, extent, mask))\n",
    "        loss_boundary = mx.nd.sum(tanimoto_dual(bound, boundary, mask))\n",
    "        loss_distance = mx.nd.sum(tanimoto_dual(dist, distance, mask))\n",
    "\n",
    "        loss = 0.33 * (loss_extent + loss_boundary + loss_distance) # + loss_hsv)\n",
    "        \n",
    "        # update metrics based on every batch\n",
    "        cumulative_loss += mx.nd.sum(loss).asscalar()\n",
    "        \n",
    "        # update metrics based on every batch\n",
    "        # mask out unlabeled pixels            \n",
    "        logits_reshaped = logits.reshape((logits.shape[0], -1))\n",
    "        extent_reshaped = extent.reshape((extent.shape[0], -1))\n",
    "        mask_reshaped = mask.reshape((mask.shape[0], -1))\n",
    "        \n",
    "        nonmask_idx = mx.np.nonzero(mask_reshaped.as_np_ndarray())\n",
    "        nonmask_idx = mx.np.stack(nonmask_idx).as_nd_ndarray().as_in_context(ctx)\n",
    "        logits_masked = mx.nd.gather_nd(logits_reshaped, nonmask_idx)\n",
    "        extent_masked = mx.nd.gather_nd(extent_reshaped, nonmask_idx)\n",
    "\n",
    "        # accuracy\n",
    "        extent_predicted_classes = mx.nd.ceil(logits_masked - 0.5)\n",
    "        accuracy.update(extent_masked, extent_predicted_classes)\n",
    "        \n",
    "        # f1 score\n",
    "        probabilities = mx.nd.stack(1 - logits_masked, logits_masked, axis=1)\n",
    "        f1.update(extent_masked, probabilities)\n",
    "        \n",
    "        # MCC metric\n",
    "        mcc.update(extent_masked, probabilities)\n",
    "        \n",
    "        # Dice score\n",
    "        dice.update(extent_masked, extent_predicted_classes)\n",
    "        \n",
    "        # TEMPORARY to make visdom work\n",
    "        convc = hsv\n",
    "        if batch_i % args['visdom_every'] == 0:\n",
    "            visdom_visualize_batch(args['visdom'], img, extent, boundary, distance,\n",
    "                                   logits, bound, dist, hsv, convc, mask, title=\"Val images\")\n",
    "        \n",
    "    return cumulative_loss, accuracy, f1, mcc, dice"
   ]
  },
  {
   "cell_type": "markdown",
   "metadata": {},
   "source": [
    "# Africa datasets"
   ]
  },
  {
   "cell_type": "code",
   "execution_count": 6,
   "metadata": {},
   "outputs": [],
   "source": [
    "def run_africa(country, train_names, val_names, test_names, \n",
    "               train_names_label, val_names_label, test_names_label,\n",
    "               image_directories,\n",
    "               trained_model=None,\n",
    "               epochs=100, lr=0.001, lr_decay=None, \n",
    "               model_type='resunet-d6',\n",
    "               n_filters=16, batch_size=8,\n",
    "               depth=5, n_classes=1, \n",
    "               month='janFebMar',\n",
    "               codes_to_keep=[1, 2],\n",
    "               folder_suffix='',\n",
    "               boundary_kernel_size=3,\n",
    "               n_channels=3,\n",
    "               image_suffixes=None,\n",
    "               shuffle_directories=False,\n",
    "               ctx_name='cpu',\n",
    "               gpu_id=0):\n",
    "    \n",
    "    # Set MXNet ctx\n",
    "    if ctx_name == 'cpu':\n",
    "        ctx = mx.cpu()\n",
    "    elif ctx_name == 'gpu':\n",
    "        ctx = mx.gpu(gpu_id)\n",
    "    \n",
    "    # Set up names of directories and paths for saving\n",
    "    if trained_model is None:\n",
    "        folder_name = model_type+'_'+month+'_nfilter-'+str(n_filters)+ \\\n",
    "                      '_depth-'+str(depth)+'_bs-'+str(batch_size)+'_lr-'+str(lr)+folder_suffix\n",
    "        if lr_decay:\n",
    "            folder_name = folder_name + '_lrdecay-'+str(lr_decay)\n",
    "            \n",
    "        # define model\n",
    "        if model_type == 'resunet-d6':\n",
    "            model = ResUNet_d6(_nfilters_init=n_filters, _NClasses=n_classes)\n",
    "        elif model_type == 'resunet-d7':\n",
    "            model = ResUNet_d7(_nfilters_init=n_filters, _NClasses=n_classes)\n",
    "        elif model_type == 'fractal-resunet':\n",
    "            model = FracTAL_ResUNet_cmtsk(nfilters_init=n_filters, depth=depth, NClasses=n_classes)\n",
    "        model.initialize()\n",
    "        model.hybridize()\n",
    "        model.collect_params().reset_ctx(ctx)\n",
    "        \n",
    "    else:\n",
    "        folder_name = model_type+'_'+month+'_nfilter-'+str(n_filters)+ \\\n",
    "                      '_bs-'+str(batch_size)+'_lr-'+str(lr)+folder_suffix+'_finetuned'\n",
    "        if model_type == 'resunet-d6':\n",
    "            model = ResUNet_d6(_nfilters_init=n_filters, _NClasses=n_classes)\n",
    "        elif model_type == 'resunet-d7':\n",
    "            model = ResUNet_d7(_nfilters_init=n_filters, _NClasses=n_classes)\n",
    "        model.load_parameters(trained_model, ctx=ctx)\n",
    "        \n",
    "    save_path = os.path.join('../experiments/', country, folder_name)\n",
    "    if not os.path.isdir(save_path):\n",
    "        os.makedirs(save_path)\n",
    "    save_model_name = os.path.join(save_path, \"model.params\")\n",
    "    \n",
    "    # Visdom\n",
    "    env_name = country + '_' + folder_name\n",
    "    vis = visdom.Visdom(port=8097, env=env_name)\n",
    "    \n",
    "    # Arguments\n",
    "    args = {}\n",
    "    args['batch_size'] = batch_size\n",
    "    args['ctx_name'] = ctx_name\n",
    "    args['gpu'] = gpu_id\n",
    "    args['visdom'] = vis\n",
    "    args['visdom_every'] = 20\n",
    "\n",
    "    # Define train/val/test splits\n",
    "    train_dataset = MultitempMasked(\n",
    "        image_directories=image_directories,\n",
    "        fold='train',\n",
    "        image_names=train_names, \n",
    "        label_names=train_names_label, \n",
    "        classes=codes_to_keep,\n",
    "        boundary_kernel_size=boundary_kernel_size,\n",
    "        n_channels=n_channels,\n",
    "        image_suffixes=image_suffixes,\n",
    "        shuffle_directories=shuffle_directories)\n",
    "    val_dataset = MultitempMasked(\n",
    "        image_directories=image_directories,\n",
    "        fold='val', \n",
    "        image_names=val_names, \n",
    "        label_names=val_names_label, \n",
    "        classes=codes_to_keep,\n",
    "        boundary_kernel_size=boundary_kernel_size,\n",
    "        n_channels=n_channels,\n",
    "        image_suffixes=image_suffixes)\n",
    "    test_dataset = MultitempMasked(\n",
    "        image_directories=image_directories,\n",
    "        fold='test', \n",
    "        image_names=test_names, \n",
    "        label_names=test_names_label, \n",
    "        classes=codes_to_keep,\n",
    "        boundary_kernel_size=boundary_kernel_size,\n",
    "        n_channels=n_channels,\n",
    "        image_suffixes=image_suffixes)\n",
    "\n",
    "    train_dataloader = gluon.data.DataLoader(train_dataset, batch_size=batch_size, shuffle=True)\n",
    "    val_dataloader = gluon.data.DataLoader(val_dataset, batch_size=batch_size)\n",
    "    test_dataloader = gluon.data.DataLoader(test_dataset, batch_size=batch_size)\n",
    "\n",
    "    # define loss function\n",
    "    tanimoto_dual = ftnmt_loss_masked(depth=0) # Tanimoto_with_dual_masked()\n",
    "    if lr_decay:\n",
    "        schedule = mx.lr_scheduler.FactorScheduler(step=1, factor=lr_decay)\n",
    "        adam_optimizer = mx.optimizer.Adam(learning_rate=lr, lr_scheduler=schedule)\n",
    "    else:\n",
    "        adam_optimizer = mx.optimizer.Adam(learning_rate=lr)\n",
    "    trainer = gluon.Trainer(model.collect_params(), optimizer=adam_optimizer)\n",
    "\n",
    "    # containers for metrics to log\n",
    "    train_metrics = {'train_loss': [], 'train_acc': [], 'train_f1': [], \n",
    "                     'train_mcc': [], 'train_dice': []}\n",
    "    val_metrics = {'val_loss': [], 'val_acc': [], 'val_f1': [], \n",
    "                   'val_mcc': [], 'val_dice': []}\n",
    "    best_mcc = 0.0\n",
    "\n",
    "    # training loop\n",
    "    for epoch in range(1, epochs+1):\n",
    "\n",
    "        # training set\n",
    "        train_loss, train_accuracy, train_f1, train_mcc, train_dice = train_model(\n",
    "            train_dataloader, model, tanimoto_dual, trainer, epoch, args)\n",
    "\n",
    "        # training set metrics\n",
    "        train_loss_avg = train_loss / len(train_dataset)\n",
    "        train_metrics['train_loss'].append(train_loss_avg)\n",
    "        train_metrics['train_acc'].append(train_accuracy.get()[1])\n",
    "        train_metrics['train_f1'].append(train_f1.get()[1])\n",
    "        train_metrics['train_mcc'].append(train_mcc.get()[1])\n",
    "        train_metrics['train_dice'].append(train_dice.get()[1])\n",
    "\n",
    "        # validation set\n",
    "        val_loss, val_accuracy, val_f1, val_mcc, val_dice = evaluate_model(\n",
    "            val_dataloader, model, tanimoto_dual, epoch, args)\n",
    "\n",
    "        # validation set metrics\n",
    "        val_loss_avg = val_loss / len(val_dataset)\n",
    "        val_metrics['val_loss'].append(val_loss_avg)\n",
    "        val_metrics['val_acc'].append(val_accuracy.get()[1])\n",
    "        val_metrics['val_f1'].append(val_f1.get()[1])\n",
    "        val_metrics['val_mcc'].append(val_mcc.get()[1])\n",
    "        val_metrics['val_dice'].append(val_dice.get()[1])\n",
    "\n",
    "        print(\"Epoch {}:\".format(epoch))\n",
    "        print(\"    Train loss {:0.3f}, accuracy {:0.3f}, F1-score {:0.3f}, MCC: {:0.3f}, Dice: {:0.3f}\".format(\n",
    "            train_loss_avg, train_accuracy.get()[1], train_f1.get()[1], train_mcc.get()[1], train_dice.get()[1]))\n",
    "        print(\"    Val loss {:0.3f}, accuracy {:0.3f}, F1-score {:0.3f}, MCC: {:0.3f}, Dice: {:0.3f}\".format(\n",
    "            val_loss_avg, val_accuracy.get()[1], val_f1.get()[1], val_mcc.get()[1], val_dice.get()[1]))\n",
    "\n",
    "        # save model based on best MCC metric\n",
    "        if val_mcc.get()[1] > best_mcc:\n",
    "            model.save_parameters(save_model_name)\n",
    "            best_mcc = val_mcc.get()[1]\n",
    "\n",
    "        # save metrics\n",
    "        metrics = pd.concat([pd.DataFrame(train_metrics), pd.DataFrame(val_metrics)], axis=1)\n",
    "        metrics.to_csv(os.path.join(save_path, 'metrics.csv'), index=False)\n",
    "\n",
    "        # visdom\n",
    "        vis.line(Y=np.stack([train_metrics['train_loss'], val_metrics['val_loss']], axis=1), \n",
    "                 X=np.arange(1, epoch+1), win=\"Loss\", \n",
    "                 opts=dict(legend=['train loss', 'val loss'], markers=False, title=\"Losses\",\n",
    "                           xlabel=\"Epoch\", ylabel=\"Loss\")\n",
    "                )\n",
    "        vis.line(Y=np.stack([train_metrics['train_mcc'], val_metrics['val_mcc']], axis=1), \n",
    "                 X=np.arange(1, epoch+1), win=\"MCC\", \n",
    "                 opts=dict(legend=['train MCC', 'val MCC'], markers=False, title=\"MCC\",\n",
    "                           xlabel=\"Epoch\", ylabel=\"MCC\")\n",
    "                )\n"
   ]
  },
  {
   "cell_type": "code",
   "execution_count": 8,
   "metadata": {
    "scrolled": true
   },
   "outputs": [
    {
     "name": "stdout",
     "output_type": "stream",
     "text": [
      "depth:= 0, nfilters: 32, nheads::8, widths::1\n",
      "depth:= 1, nfilters: 64, nheads::16, widths::1\n",
      "depth:= 2, nfilters: 128, nheads::32, widths::1\n",
      "depth:= 3, nfilters: 256, nheads::64, widths::1\n",
      "depth:= 4, nfilters: 512, nheads::128, widths::1\n",
      "depth:= 5, nfilters: 1024, nheads::256, widths::1\n",
      "depth:= 6, nfilters: 512, nheads::256, widths::1\n",
      "depth:= 7, nfilters: 256, nheads::128, widths::1\n",
      "depth:= 8, nfilters: 128, nheads::64, widths::1\n",
      "depth:= 9, nfilters: 64, nheads::32, widths::1\n",
      "depth:= 10, nfilters: 32, nheads::16, widths::1\n"
     ]
    },
    {
     "name": "stderr",
     "output_type": "stream",
     "text": [
      "Setting up a new session...\n",
      "Training epoch 1: 100%|██████████| 565/565 [23:06<00:00,  2.45s/it]\n",
      "Validation epoch 1: 100%|██████████| 137/137 [05:11<00:00,  2.28s/it]\n"
     ]
    },
    {
     "name": "stdout",
     "output_type": "stream",
     "text": [
      "Epoch 1:\n",
      "    Train loss 0.438, accuracy 0.745, F1-score 0.824, MCC: 0.054, Dice: 0.824\n",
      "    Val loss 0.427, accuracy 0.775, F1-score 0.842, MCC: 0.050, Dice: 0.842\n"
     ]
    },
    {
     "name": "stderr",
     "output_type": "stream",
     "text": [
      "Training epoch 2: 100%|██████████| 565/565 [20:49<00:00,  2.21s/it]\n",
      "Validation epoch 2: 100%|██████████| 137/137 [04:17<00:00,  1.88s/it]\n"
     ]
    },
    {
     "name": "stdout",
     "output_type": "stream",
     "text": [
      "Epoch 2:\n",
      "    Train loss 0.408, accuracy 0.737, F1-score 0.807, MCC: 0.239, Dice: 0.807\n",
      "    Val loss 0.374, accuracy 0.779, F1-score 0.832, MCC: 0.293, Dice: 0.832\n"
     ]
    },
    {
     "name": "stderr",
     "output_type": "stream",
     "text": [
      "Training epoch 3: 100%|██████████| 565/565 [19:36<00:00,  2.08s/it]\n",
      "Validation epoch 3: 100%|██████████| 137/137 [03:54<00:00,  1.71s/it]\n"
     ]
    },
    {
     "name": "stdout",
     "output_type": "stream",
     "text": [
      "Epoch 3:\n",
      "    Train loss 0.386, accuracy 0.753, F1-score 0.817, MCC: 0.320, Dice: 0.817\n",
      "    Val loss 0.362, accuracy 0.778, F1-score 0.827, MCC: 0.331, Dice: 0.827\n"
     ]
    },
    {
     "name": "stderr",
     "output_type": "stream",
     "text": [
      "Training epoch 4: 100%|██████████| 565/565 [18:45<00:00,  1.99s/it]\n",
      "Validation epoch 4: 100%|██████████| 137/137 [03:49<00:00,  1.68s/it]\n"
     ]
    },
    {
     "name": "stdout",
     "output_type": "stream",
     "text": [
      "Epoch 4:\n",
      "    Train loss 0.373, accuracy 0.761, F1-score 0.821, MCC: 0.349, Dice: 0.821\n",
      "    Val loss 0.349, accuracy 0.788, F1-score 0.838, MCC: 0.365, Dice: 0.838\n"
     ]
    },
    {
     "name": "stderr",
     "output_type": "stream",
     "text": [
      "Training epoch 5: 100%|██████████| 565/565 [18:55<00:00,  2.01s/it]\n",
      "Validation epoch 5: 100%|██████████| 137/137 [03:57<00:00,  1.74s/it]\n"
     ]
    },
    {
     "name": "stdout",
     "output_type": "stream",
     "text": [
      "Epoch 5:\n",
      "    Train loss 0.365, accuracy 0.768, F1-score 0.826, MCC: 0.370, Dice: 0.826\n",
      "    Val loss 0.340, accuracy 0.794, F1-score 0.841, MCC: 0.384, Dice: 0.841\n"
     ]
    },
    {
     "name": "stderr",
     "output_type": "stream",
     "text": [
      "Training epoch 6: 100%|██████████| 565/565 [18:48<00:00,  2.00s/it]\n",
      "Validation epoch 6: 100%|██████████| 137/137 [03:52<00:00,  1.69s/it]\n",
      "Training epoch 7:   0%|          | 0/565 [00:00<?, ?it/s]"
     ]
    },
    {
     "name": "stdout",
     "output_type": "stream",
     "text": [
      "Epoch 6:\n",
      "    Train loss 0.360, accuracy 0.771, F1-score 0.828, MCC: 0.382, Dice: 0.828\n",
      "    Val loss 0.346, accuracy 0.808, F1-score 0.855, MCC: 0.368, Dice: 0.855\n"
     ]
    },
    {
     "name": "stderr",
     "output_type": "stream",
     "text": [
      "Training epoch 7: 100%|██████████| 565/565 [18:52<00:00,  2.00s/it]\n",
      "Validation epoch 7: 100%|██████████| 137/137 [03:53<00:00,  1.70s/it]\n"
     ]
    },
    {
     "name": "stdout",
     "output_type": "stream",
     "text": [
      "Epoch 7:\n",
      "    Train loss 0.357, accuracy 0.774, F1-score 0.830, MCC: 0.389, Dice: 0.830\n",
      "    Val loss 0.336, accuracy 0.796, F1-score 0.840, MCC: 0.391, Dice: 0.840\n"
     ]
    },
    {
     "name": "stderr",
     "output_type": "stream",
     "text": [
      "Training epoch 8: 100%|██████████| 565/565 [18:56<00:00,  2.01s/it]\n",
      "Validation epoch 8: 100%|██████████| 137/137 [03:57<00:00,  1.73s/it]\n"
     ]
    },
    {
     "name": "stdout",
     "output_type": "stream",
     "text": [
      "Epoch 8:\n",
      "    Train loss 0.353, accuracy 0.778, F1-score 0.832, MCC: 0.399, Dice: 0.832\n",
      "    Val loss 0.333, accuracy 0.801, F1-score 0.845, MCC: 0.393, Dice: 0.845\n"
     ]
    },
    {
     "name": "stderr",
     "output_type": "stream",
     "text": [
      "Training epoch 9: 100%|██████████| 565/565 [18:52<00:00,  2.00s/it]\n",
      "Validation epoch 9: 100%|██████████| 137/137 [03:57<00:00,  1.73s/it]\n"
     ]
    },
    {
     "name": "stdout",
     "output_type": "stream",
     "text": [
      "Epoch 9:\n",
      "    Train loss 0.350, accuracy 0.781, F1-score 0.835, MCC: 0.404, Dice: 0.835\n",
      "    Val loss 0.333, accuracy 0.801, F1-score 0.847, MCC: 0.400, Dice: 0.847\n"
     ]
    },
    {
     "name": "stderr",
     "output_type": "stream",
     "text": [
      "Training epoch 10: 100%|██████████| 565/565 [19:17<00:00,  2.05s/it]\n",
      "Validation epoch 10: 100%|██████████| 137/137 [03:59<00:00,  1.75s/it]\n",
      "Training epoch 11:   0%|          | 0/565 [00:00<?, ?it/s]"
     ]
    },
    {
     "name": "stdout",
     "output_type": "stream",
     "text": [
      "Epoch 10:\n",
      "    Train loss 0.348, accuracy 0.780, F1-score 0.835, MCC: 0.410, Dice: 0.835\n",
      "    Val loss 0.332, accuracy 0.804, F1-score 0.845, MCC: 0.398, Dice: 0.845\n"
     ]
    },
    {
     "name": "stderr",
     "output_type": "stream",
     "text": [
      "Training epoch 11: 100%|██████████| 565/565 [19:05<00:00,  2.03s/it]\n",
      "Validation epoch 11: 100%|██████████| 137/137 [03:53<00:00,  1.71s/it]\n",
      "Training epoch 12:   0%|          | 0/565 [00:00<?, ?it/s]"
     ]
    },
    {
     "name": "stdout",
     "output_type": "stream",
     "text": [
      "Epoch 11:\n",
      "    Train loss 0.346, accuracy 0.783, F1-score 0.839, MCC: 0.416, Dice: 0.839\n",
      "    Val loss 0.332, accuracy 0.808, F1-score 0.850, MCC: 0.397, Dice: 0.850\n"
     ]
    },
    {
     "name": "stderr",
     "output_type": "stream",
     "text": [
      "Training epoch 12: 100%|██████████| 565/565 [19:04<00:00,  2.03s/it]\n",
      "Validation epoch 12: 100%|██████████| 137/137 [03:55<00:00,  1.72s/it]\n"
     ]
    },
    {
     "name": "stdout",
     "output_type": "stream",
     "text": [
      "Epoch 12:\n",
      "    Train loss 0.344, accuracy 0.786, F1-score 0.838, MCC: 0.419, Dice: 0.838\n",
      "    Val loss 0.325, accuracy 0.796, F1-score 0.842, MCC: 0.410, Dice: 0.842\n"
     ]
    },
    {
     "name": "stderr",
     "output_type": "stream",
     "text": [
      "Training epoch 13: 100%|██████████| 565/565 [18:51<00:00,  2.00s/it]\n",
      "Validation epoch 13: 100%|██████████| 137/137 [03:54<00:00,  1.71s/it]\n"
     ]
    },
    {
     "name": "stdout",
     "output_type": "stream",
     "text": [
      "Epoch 13:\n",
      "    Train loss 0.342, accuracy 0.788, F1-score 0.840, MCC: 0.423, Dice: 0.840\n",
      "    Val loss 0.323, accuracy 0.802, F1-score 0.843, MCC: 0.422, Dice: 0.843\n"
     ]
    },
    {
     "name": "stderr",
     "output_type": "stream",
     "text": [
      "Training epoch 14: 100%|██████████| 565/565 [18:49<00:00,  2.00s/it]\n",
      "Validation epoch 14: 100%|██████████| 137/137 [03:51<00:00,  1.69s/it]\n",
      "Training epoch 15:   0%|          | 0/565 [00:00<?, ?it/s]"
     ]
    },
    {
     "name": "stdout",
     "output_type": "stream",
     "text": [
      "Epoch 14:\n",
      "    Train loss 0.340, accuracy 0.789, F1-score 0.840, MCC: 0.426, Dice: 0.840\n",
      "    Val loss 0.325, accuracy 0.799, F1-score 0.842, MCC: 0.414, Dice: 0.842\n"
     ]
    },
    {
     "name": "stderr",
     "output_type": "stream",
     "text": [
      "Training epoch 15: 100%|██████████| 565/565 [18:57<00:00,  2.01s/it]\n",
      "Validation epoch 15: 100%|██████████| 137/137 [03:53<00:00,  1.70s/it]\n"
     ]
    },
    {
     "name": "stdout",
     "output_type": "stream",
     "text": [
      "Epoch 15:\n",
      "    Train loss 0.339, accuracy 0.793, F1-score 0.843, MCC: 0.431, Dice: 0.843\n",
      "    Val loss 0.321, accuracy 0.809, F1-score 0.852, MCC: 0.422, Dice: 0.852\n"
     ]
    },
    {
     "name": "stderr",
     "output_type": "stream",
     "text": [
      "Training epoch 16: 100%|██████████| 565/565 [18:52<00:00,  2.00s/it]\n",
      "Validation epoch 16: 100%|██████████| 137/137 [03:54<00:00,  1.71s/it]\n"
     ]
    },
    {
     "name": "stdout",
     "output_type": "stream",
     "text": [
      "Epoch 16:\n",
      "    Train loss 0.337, accuracy 0.791, F1-score 0.842, MCC: 0.432, Dice: 0.842\n",
      "    Val loss 0.317, accuracy 0.802, F1-score 0.843, MCC: 0.429, Dice: 0.843\n"
     ]
    },
    {
     "name": "stderr",
     "output_type": "stream",
     "text": [
      "Training epoch 17: 100%|██████████| 565/565 [18:51<00:00,  2.00s/it]\n",
      "Validation epoch 17: 100%|██████████| 137/137 [03:52<00:00,  1.70s/it]\n",
      "Training epoch 18:   0%|          | 0/565 [00:00<?, ?it/s]"
     ]
    },
    {
     "name": "stdout",
     "output_type": "stream",
     "text": [
      "Epoch 17:\n",
      "    Train loss 0.336, accuracy 0.793, F1-score 0.843, MCC: 0.434, Dice: 0.843\n",
      "    Val loss 0.318, accuracy 0.807, F1-score 0.848, MCC: 0.425, Dice: 0.848\n"
     ]
    },
    {
     "name": "stderr",
     "output_type": "stream",
     "text": [
      "Training epoch 18: 100%|██████████| 565/565 [19:01<00:00,  2.02s/it]\n",
      "Validation epoch 18: 100%|██████████| 137/137 [03:55<00:00,  1.72s/it]\n",
      "Training epoch 19:   0%|          | 0/565 [00:00<?, ?it/s]"
     ]
    },
    {
     "name": "stdout",
     "output_type": "stream",
     "text": [
      "Epoch 18:\n",
      "    Train loss 0.334, accuracy 0.795, F1-score 0.847, MCC: 0.441, Dice: 0.847\n",
      "    Val loss 0.321, accuracy 0.809, F1-score 0.849, MCC: 0.421, Dice: 0.849\n"
     ]
    },
    {
     "name": "stderr",
     "output_type": "stream",
     "text": [
      "Training epoch 19: 100%|██████████| 565/565 [18:53<00:00,  2.01s/it]\n",
      "Validation epoch 19: 100%|██████████| 137/137 [03:48<00:00,  1.66s/it]\n",
      "Training epoch 20:   0%|          | 0/565 [00:00<?, ?it/s]"
     ]
    },
    {
     "name": "stdout",
     "output_type": "stream",
     "text": [
      "Epoch 19:\n",
      "    Train loss 0.333, accuracy 0.796, F1-score 0.844, MCC: 0.440, Dice: 0.844\n",
      "    Val loss 0.322, accuracy 0.812, F1-score 0.850, MCC: 0.419, Dice: 0.850\n"
     ]
    },
    {
     "name": "stderr",
     "output_type": "stream",
     "text": [
      "Training epoch 20: 100%|██████████| 565/565 [17:18<00:00,  1.84s/it]\n",
      "Validation epoch 20: 100%|██████████| 137/137 [03:29<00:00,  1.53s/it]\n",
      "Training epoch 21:   0%|          | 0/565 [00:00<?, ?it/s]"
     ]
    },
    {
     "name": "stdout",
     "output_type": "stream",
     "text": [
      "Epoch 20:\n",
      "    Train loss 0.332, accuracy 0.798, F1-score 0.847, MCC: 0.444, Dice: 0.847\n",
      "    Val loss 0.319, accuracy 0.809, F1-score 0.850, MCC: 0.424, Dice: 0.850\n"
     ]
    },
    {
     "name": "stderr",
     "output_type": "stream",
     "text": [
      "Training epoch 21: 100%|██████████| 565/565 [17:15<00:00,  1.83s/it]\n",
      "Validation epoch 21: 100%|██████████| 137/137 [03:32<00:00,  1.55s/it]\n"
     ]
    },
    {
     "name": "stdout",
     "output_type": "stream",
     "text": [
      "Epoch 21:\n",
      "    Train loss 0.331, accuracy 0.799, F1-score 0.846, MCC: 0.446, Dice: 0.846\n",
      "    Val loss 0.319, accuracy 0.815, F1-score 0.854, MCC: 0.432, Dice: 0.854\n"
     ]
    },
    {
     "name": "stderr",
     "output_type": "stream",
     "text": [
      "Training epoch 22: 100%|██████████| 565/565 [17:15<00:00,  1.83s/it]\n",
      "Validation epoch 22: 100%|██████████| 137/137 [03:28<00:00,  1.52s/it]\n"
     ]
    },
    {
     "name": "stdout",
     "output_type": "stream",
     "text": [
      "Epoch 22:\n",
      "    Train loss 0.329, accuracy 0.799, F1-score 0.847, MCC: 0.448, Dice: 0.847\n",
      "    Val loss 0.314, accuracy 0.810, F1-score 0.848, MCC: 0.433, Dice: 0.848\n"
     ]
    },
    {
     "name": "stderr",
     "output_type": "stream",
     "text": [
      "Training epoch 23: 100%|██████████| 565/565 [17:26<00:00,  1.85s/it]\n",
      "Validation epoch 23: 100%|██████████| 137/137 [03:48<00:00,  1.67s/it]\n"
     ]
    },
    {
     "name": "stdout",
     "output_type": "stream",
     "text": [
      "Epoch 23:\n",
      "    Train loss 0.327, accuracy 0.800, F1-score 0.849, MCC: 0.451, Dice: 0.849\n",
      "    Val loss 0.310, accuracy 0.812, F1-score 0.851, MCC: 0.437, Dice: 0.851\n"
     ]
    },
    {
     "name": "stderr",
     "output_type": "stream",
     "text": [
      "Training epoch 24: 100%|██████████| 565/565 [19:55<00:00,  2.12s/it]\n",
      "Validation epoch 24: 100%|██████████| 137/137 [04:08<00:00,  1.82s/it]\n",
      "Training epoch 25:   0%|          | 0/565 [00:00<?, ?it/s]"
     ]
    },
    {
     "name": "stdout",
     "output_type": "stream",
     "text": [
      "Epoch 24:\n",
      "    Train loss 0.327, accuracy 0.801, F1-score 0.847, MCC: 0.451, Dice: 0.847\n",
      "    Val loss 0.314, accuracy 0.817, F1-score 0.856, MCC: 0.435, Dice: 0.856\n"
     ]
    },
    {
     "name": "stderr",
     "output_type": "stream",
     "text": [
      "Training epoch 25: 100%|██████████| 565/565 [20:39<00:00,  2.19s/it]\n",
      "Validation epoch 25: 100%|██████████| 137/137 [04:13<00:00,  1.85s/it]\n",
      "Training epoch 26:   0%|          | 0/565 [00:00<?, ?it/s]"
     ]
    },
    {
     "name": "stdout",
     "output_type": "stream",
     "text": [
      "Epoch 25:\n",
      "    Train loss 0.326, accuracy 0.803, F1-score 0.849, MCC: 0.456, Dice: 0.849\n",
      "    Val loss 0.316, accuracy 0.818, F1-score 0.855, MCC: 0.433, Dice: 0.855\n"
     ]
    },
    {
     "name": "stderr",
     "output_type": "stream",
     "text": [
      "Training epoch 26: 100%|██████████| 565/565 [20:34<00:00,  2.19s/it]\n",
      "Validation epoch 26: 100%|██████████| 137/137 [04:13<00:00,  1.85s/it]\n",
      "Training epoch 27:   0%|          | 0/565 [00:00<?, ?it/s]"
     ]
    },
    {
     "name": "stdout",
     "output_type": "stream",
     "text": [
      "Epoch 26:\n",
      "    Train loss 0.325, accuracy 0.802, F1-score 0.847, MCC: 0.455, Dice: 0.847\n",
      "    Val loss 0.315, accuracy 0.806, F1-score 0.846, MCC: 0.431, Dice: 0.846\n"
     ]
    },
    {
     "name": "stderr",
     "output_type": "stream",
     "text": [
      "Training epoch 27: 100%|██████████| 565/565 [20:35<00:00,  2.19s/it]\n",
      "Validation epoch 27: 100%|██████████| 137/137 [04:06<00:00,  1.80s/it]\n",
      "Training epoch 28:   0%|          | 0/565 [00:00<?, ?it/s]"
     ]
    },
    {
     "name": "stdout",
     "output_type": "stream",
     "text": [
      "Epoch 27:\n",
      "    Train loss 0.324, accuracy 0.804, F1-score 0.848, MCC: 0.457, Dice: 0.848\n",
      "    Val loss 0.314, accuracy 0.811, F1-score 0.849, MCC: 0.434, Dice: 0.849\n"
     ]
    },
    {
     "name": "stderr",
     "output_type": "stream",
     "text": [
      "Training epoch 28:  97%|█████████▋| 549/565 [19:51<00:35,  2.20s/it]IOPub message rate exceeded.\n",
      "The notebook server will temporarily stop sending output\n",
      "to the client in order to avoid crashing it.\n",
      "To change this limit, set the config variable\n",
      "`--NotebookApp.iopub_msg_rate_limit`.\n",
      "\n",
      "Current values:\n",
      "NotebookApp.iopub_msg_rate_limit=1000.0 (msgs/sec)\n",
      "NotebookApp.rate_limit_window=3.0 (secs)\n",
      "\n",
      "Training epoch 29: 100%|██████████| 565/565 [21:17<00:00,  2.26s/it]\n",
      "Validation epoch 29: 100%|██████████| 137/137 [04:16<00:00,  1.87s/it]\n"
     ]
    },
    {
     "name": "stdout",
     "output_type": "stream",
     "text": [
      "Epoch 29:\n",
      "    Train loss 0.321, accuracy 0.806, F1-score 0.852, MCC: 0.465, Dice: 0.852\n",
      "    Val loss 0.312, accuracy 0.815, F1-score 0.852, MCC: 0.441, Dice: 0.852\n"
     ]
    },
    {
     "name": "stderr",
     "output_type": "stream",
     "text": [
      "Training epoch 30: 100%|██████████| 565/565 [20:43<00:00,  2.20s/it]\n",
      "Validation epoch 30: 100%|██████████| 137/137 [04:09<00:00,  1.82s/it]\n",
      "Training epoch 31:   0%|          | 0/565 [00:00<?, ?it/s]"
     ]
    },
    {
     "name": "stdout",
     "output_type": "stream",
     "text": [
      "Epoch 30:\n",
      "    Train loss 0.320, accuracy 0.805, F1-score 0.851, MCC: 0.465, Dice: 0.851\n",
      "    Val loss 0.315, accuracy 0.812, F1-score 0.851, MCC: 0.436, Dice: 0.851\n"
     ]
    },
    {
     "name": "stderr",
     "output_type": "stream",
     "text": [
      "Validation epoch 31: 100%|██████████| 137/137 [04:05<00:00,  1.79s/it]\n",
      "Training epoch 32:   0%|          | 0/565 [00:00<?, ?it/s]"
     ]
    },
    {
     "name": "stdout",
     "output_type": "stream",
     "text": [
      "Epoch 31:\n",
      "    Train loss 0.319, accuracy 0.807, F1-score 0.852, MCC: 0.465, Dice: 0.852\n",
      "    Val loss 0.315, accuracy 0.821, F1-score 0.858, MCC: 0.439, Dice: 0.858\n"
     ]
    },
    {
     "name": "stderr",
     "output_type": "stream",
     "text": [
      "Training epoch 40: 100%|██████████| 565/565 [20:28<00:00,  2.17s/it]\n",
      "Validation epoch 40: 100%|██████████| 137/137 [04:11<00:00,  1.84s/it]\n",
      "Training epoch 41:   0%|          | 0/565 [00:00<?, ?it/s]"
     ]
    },
    {
     "name": "stdout",
     "output_type": "stream",
     "text": [
      "Epoch 40:\n",
      "    Train loss 0.311, accuracy 0.814, F1-score 0.856, MCC: 0.481, Dice: 0.856\n",
      "    Val loss 0.310, accuracy 0.812, F1-score 0.849, MCC: 0.451, Dice: 0.849\n"
     ]
    },
    {
     "name": "stderr",
     "output_type": "stream",
     "text": [
      "Training epoch 41: 100%|██████████| 565/565 [20:24<00:00,  2.17s/it]\n",
      "Validation epoch 41: 100%|██████████| 137/137 [04:11<00:00,  1.84s/it]\n",
      "Training epoch 42:   0%|          | 0/565 [00:00<?, ?it/s]"
     ]
    },
    {
     "name": "stdout",
     "output_type": "stream",
     "text": [
      "Epoch 41:\n",
      "    Train loss 0.311, accuracy 0.813, F1-score 0.856, MCC: 0.479, Dice: 0.856\n",
      "    Val loss 0.308, accuracy 0.819, F1-score 0.855, MCC: 0.450, Dice: 0.855\n"
     ]
    },
    {
     "name": "stderr",
     "output_type": "stream",
     "text": [
      "Training epoch 42: 100%|██████████| 565/565 [20:31<00:00,  2.18s/it]\n",
      "Validation epoch 42: 100%|██████████| 137/137 [04:06<00:00,  1.80s/it]\n",
      "Training epoch 43:   0%|          | 0/565 [00:00<?, ?it/s]"
     ]
    },
    {
     "name": "stdout",
     "output_type": "stream",
     "text": [
      "Epoch 42:\n",
      "    Train loss 0.310, accuracy 0.814, F1-score 0.856, MCC: 0.481, Dice: 0.856\n",
      "    Val loss 0.308, accuracy 0.820, F1-score 0.856, MCC: 0.450, Dice: 0.856\n"
     ]
    },
    {
     "name": "stderr",
     "output_type": "stream",
     "text": [
      "Training epoch 43: 100%|██████████| 565/565 [20:24<00:00,  2.17s/it]\n",
      "Validation epoch 43: 100%|██████████| 137/137 [04:13<00:00,  1.85s/it]\n",
      "Training epoch 44:   0%|          | 0/565 [00:00<?, ?it/s]"
     ]
    },
    {
     "name": "stdout",
     "output_type": "stream",
     "text": [
      "Epoch 43:\n",
      "    Train loss 0.309, accuracy 0.816, F1-score 0.857, MCC: 0.485, Dice: 0.857\n",
      "    Val loss 0.309, accuracy 0.812, F1-score 0.848, MCC: 0.448, Dice: 0.848\n"
     ]
    },
    {
     "name": "stderr",
     "output_type": "stream",
     "text": [
      "Training epoch 44: 100%|██████████| 565/565 [21:08<00:00,  2.25s/it]\n",
      "Validation epoch 44: 100%|██████████| 137/137 [04:12<00:00,  1.84s/it]\n",
      "Training epoch 45:   0%|          | 0/565 [00:00<?, ?it/s]"
     ]
    },
    {
     "name": "stdout",
     "output_type": "stream",
     "text": [
      "Epoch 44:\n",
      "    Train loss 0.308, accuracy 0.815, F1-score 0.857, MCC: 0.487, Dice: 0.857\n",
      "    Val loss 0.310, accuracy 0.818, F1-score 0.855, MCC: 0.449, Dice: 0.855\n"
     ]
    },
    {
     "name": "stderr",
     "output_type": "stream",
     "text": [
      "Training epoch 45: 100%|██████████| 565/565 [20:40<00:00,  2.20s/it]\n",
      "Validation epoch 45: 100%|██████████| 137/137 [04:16<00:00,  1.87s/it]\n",
      "Training epoch 46:   0%|          | 0/565 [00:00<?, ?it/s]"
     ]
    },
    {
     "name": "stdout",
     "output_type": "stream",
     "text": [
      "Epoch 45:\n",
      "    Train loss 0.308, accuracy 0.816, F1-score 0.857, MCC: 0.487, Dice: 0.857\n",
      "    Val loss 0.309, accuracy 0.814, F1-score 0.851, MCC: 0.447, Dice: 0.851\n"
     ]
    },
    {
     "name": "stderr",
     "output_type": "stream",
     "text": [
      "Training epoch 46: 100%|██████████| 565/565 [20:33<00:00,  2.18s/it]\n",
      "Validation epoch 46: 100%|██████████| 137/137 [04:12<00:00,  1.84s/it]\n",
      "Training epoch 47:   0%|          | 0/565 [00:00<?, ?it/s]"
     ]
    },
    {
     "name": "stdout",
     "output_type": "stream",
     "text": [
      "Epoch 46:\n",
      "    Train loss 0.306, accuracy 0.814, F1-score 0.857, MCC: 0.486, Dice: 0.857\n",
      "    Val loss 0.309, accuracy 0.815, F1-score 0.852, MCC: 0.453, Dice: 0.852\n"
     ]
    },
    {
     "name": "stderr",
     "output_type": "stream",
     "text": [
      "Training epoch 47: 100%|██████████| 565/565 [20:32<00:00,  2.18s/it]\n",
      "Validation epoch 47: 100%|██████████| 137/137 [04:09<00:00,  1.82s/it]\n",
      "Training epoch 48:   0%|          | 0/565 [00:00<?, ?it/s]"
     ]
    },
    {
     "name": "stdout",
     "output_type": "stream",
     "text": [
      "Epoch 47:\n",
      "    Train loss 0.306, accuracy 0.816, F1-score 0.859, MCC: 0.491, Dice: 0.859\n",
      "    Val loss 0.310, accuracy 0.817, F1-score 0.854, MCC: 0.446, Dice: 0.854\n"
     ]
    },
    {
     "name": "stderr",
     "output_type": "stream",
     "text": [
      "Training epoch 48: 100%|██████████| 565/565 [20:30<00:00,  2.18s/it]\n",
      "Validation epoch 48: 100%|██████████| 137/137 [04:11<00:00,  1.83s/it]\n",
      "Training epoch 49:   0%|          | 0/565 [00:00<?, ?it/s]"
     ]
    },
    {
     "name": "stdout",
     "output_type": "stream",
     "text": [
      "Epoch 48:\n",
      "    Train loss 0.305, accuracy 0.817, F1-score 0.859, MCC: 0.492, Dice: 0.859\n",
      "    Val loss 0.306, accuracy 0.816, F1-score 0.853, MCC: 0.452, Dice: 0.853\n"
     ]
    },
    {
     "name": "stderr",
     "output_type": "stream",
     "text": [
      "Training epoch 49: 100%|██████████| 565/565 [20:36<00:00,  2.19s/it]\n",
      "Validation epoch 49: 100%|██████████| 137/137 [04:19<00:00,  1.89s/it]\n",
      "Training epoch 50:   0%|          | 0/565 [00:00<?, ?it/s]"
     ]
    },
    {
     "name": "stdout",
     "output_type": "stream",
     "text": [
      "Epoch 49:\n",
      "    Train loss 0.305, accuracy 0.818, F1-score 0.860, MCC: 0.494, Dice: 0.860\n",
      "    Val loss 0.308, accuracy 0.820, F1-score 0.857, MCC: 0.450, Dice: 0.857\n"
     ]
    },
    {
     "name": "stderr",
     "output_type": "stream",
     "text": [
      "Training epoch 50: 100%|██████████| 565/565 [20:39<00:00,  2.19s/it]\n",
      "Validation epoch 50: 100%|██████████| 137/137 [04:07<00:00,  1.81s/it]\n",
      "Training epoch 51:   0%|          | 0/565 [00:00<?, ?it/s]"
     ]
    },
    {
     "name": "stdout",
     "output_type": "stream",
     "text": [
      "Epoch 50:\n",
      "    Train loss 0.304, accuracy 0.818, F1-score 0.859, MCC: 0.492, Dice: 0.859\n",
      "    Val loss 0.309, accuracy 0.819, F1-score 0.856, MCC: 0.449, Dice: 0.856\n"
     ]
    },
    {
     "name": "stderr",
     "output_type": "stream",
     "text": [
      "Training epoch 51: 100%|██████████| 565/565 [20:28<00:00,  2.17s/it]\n",
      "Validation epoch 51: 100%|██████████| 137/137 [04:09<00:00,  1.82s/it]\n",
      "Training epoch 52:   0%|          | 0/565 [00:00<?, ?it/s]"
     ]
    },
    {
     "name": "stdout",
     "output_type": "stream",
     "text": [
      "Epoch 51:\n",
      "    Train loss 0.303, accuracy 0.818, F1-score 0.860, MCC: 0.493, Dice: 0.860\n",
      "    Val loss 0.310, accuracy 0.821, F1-score 0.857, MCC: 0.449, Dice: 0.857\n"
     ]
    },
    {
     "name": "stderr",
     "output_type": "stream",
     "text": [
      "Training epoch 52:  71%|███████   | 402/565 [14:36<08:54,  3.28s/it]IOPub message rate exceeded.\n",
      "The notebook server will temporarily stop sending output\n",
      "to the client in order to avoid crashing it.\n",
      "To change this limit, set the config variable\n",
      "`--NotebookApp.iopub_msg_rate_limit`.\n",
      "\n",
      "Current values:\n",
      "NotebookApp.iopub_msg_rate_limit=1000.0 (msgs/sec)\n",
      "NotebookApp.rate_limit_window=3.0 (secs)\n",
      "\n",
      "Training epoch 57: 100%|██████████| 565/565 [20:57<00:00,  2.23s/it]\n",
      "Validation epoch 57: 100%|██████████| 137/137 [04:16<00:00,  1.87s/it]\n",
      "Training epoch 58:   0%|          | 0/565 [00:00<?, ?it/s]"
     ]
    },
    {
     "name": "stdout",
     "output_type": "stream",
     "text": [
      "Epoch 57:\n",
      "    Train loss 0.299, accuracy 0.821, F1-score 0.862, MCC: 0.502, Dice: 0.862\n",
      "    Val loss 0.307, accuracy 0.817, F1-score 0.855, MCC: 0.458, Dice: 0.855\n"
     ]
    },
    {
     "name": "stderr",
     "output_type": "stream",
     "text": [
      "Training epoch 58: 100%|██████████| 565/565 [20:16<00:00,  2.15s/it]\n",
      "Validation epoch 58: 100%|██████████| 137/137 [04:06<00:00,  1.80s/it]\n",
      "Training epoch 59:   0%|          | 0/565 [00:00<?, ?it/s]"
     ]
    },
    {
     "name": "stdout",
     "output_type": "stream",
     "text": [
      "Epoch 58:\n",
      "    Train loss 0.299, accuracy 0.821, F1-score 0.861, MCC: 0.501, Dice: 0.861\n",
      "    Val loss 0.305, accuracy 0.820, F1-score 0.858, MCC: 0.459, Dice: 0.858\n"
     ]
    },
    {
     "name": "stderr",
     "output_type": "stream",
     "text": [
      "Training epoch 59: 100%|██████████| 565/565 [20:21<00:00,  2.16s/it]\n",
      "Validation epoch 59: 100%|██████████| 137/137 [04:12<00:00,  1.84s/it]\n",
      "Training epoch 60:   0%|          | 0/565 [00:00<?, ?it/s]"
     ]
    },
    {
     "name": "stdout",
     "output_type": "stream",
     "text": [
      "Epoch 59:\n",
      "    Train loss 0.300, accuracy 0.819, F1-score 0.858, MCC: 0.497, Dice: 0.858\n",
      "    Val loss 0.307, accuracy 0.818, F1-score 0.854, MCC: 0.456, Dice: 0.854\n"
     ]
    },
    {
     "name": "stderr",
     "output_type": "stream",
     "text": [
      "Training epoch 60: 100%|██████████| 565/565 [20:26<00:00,  2.17s/it]\n",
      "Validation epoch 60: 100%|██████████| 137/137 [04:09<00:00,  1.82s/it]\n",
      "Training epoch 61:   0%|          | 0/565 [00:00<?, ?it/s]"
     ]
    },
    {
     "name": "stdout",
     "output_type": "stream",
     "text": [
      "Epoch 60:\n",
      "    Train loss 0.298, accuracy 0.821, F1-score 0.860, MCC: 0.501, Dice: 0.860\n",
      "    Val loss 0.308, accuracy 0.814, F1-score 0.849, MCC: 0.454, Dice: 0.849\n"
     ]
    },
    {
     "name": "stderr",
     "output_type": "stream",
     "text": [
      "Training epoch 61:  92%|█████████▏| 522/565 [18:52<02:18,  3.21s/it]IOPub message rate exceeded.\n",
      "The notebook server will temporarily stop sending output\n",
      "to the client in order to avoid crashing it.\n",
      "To change this limit, set the config variable\n",
      "`--NotebookApp.iopub_msg_rate_limit`.\n",
      "\n",
      "Current values:\n",
      "NotebookApp.iopub_msg_rate_limit=1000.0 (msgs/sec)\n",
      "NotebookApp.rate_limit_window=3.0 (secs)\n",
      "\n",
      "Training epoch 62: 100%|██████████| 565/565 [20:19<00:00,  2.16s/it]\n",
      "Validation epoch 62: 100%|██████████| 137/137 [04:09<00:00,  1.82s/it]\n",
      "Training epoch 63:   0%|          | 0/565 [00:00<?, ?it/s]"
     ]
    },
    {
     "name": "stdout",
     "output_type": "stream",
     "text": [
      "Epoch 62:\n",
      "    Train loss 0.296, accuracy 0.822, F1-score 0.862, MCC: 0.505, Dice: 0.862\n",
      "    Val loss 0.307, accuracy 0.811, F1-score 0.847, MCC: 0.455, Dice: 0.847\n"
     ]
    },
    {
     "name": "stderr",
     "output_type": "stream",
     "text": [
      "Training epoch 63: 100%|██████████| 565/565 [20:32<00:00,  2.18s/it]\n",
      "Validation epoch 63: 100%|██████████| 137/137 [04:08<00:00,  1.81s/it]\n",
      "Training epoch 64:   0%|          | 0/565 [00:00<?, ?it/s]"
     ]
    },
    {
     "name": "stdout",
     "output_type": "stream",
     "text": [
      "Epoch 63:\n",
      "    Train loss 0.297, accuracy 0.822, F1-score 0.861, MCC: 0.505, Dice: 0.861\n",
      "    Val loss 0.311, accuracy 0.803, F1-score 0.841, MCC: 0.450, Dice: 0.841\n"
     ]
    },
    {
     "name": "stderr",
     "output_type": "stream",
     "text": [
      "Training epoch 64: 100%|██████████| 565/565 [20:09<00:00,  2.14s/it]\n",
      "Validation epoch 64: 100%|██████████| 137/137 [04:10<00:00,  1.83s/it]\n",
      "Training epoch 65:   0%|          | 0/565 [00:00<?, ?it/s]"
     ]
    },
    {
     "name": "stdout",
     "output_type": "stream",
     "text": [
      "Epoch 64:\n",
      "    Train loss 0.296, accuracy 0.823, F1-score 0.861, MCC: 0.503, Dice: 0.861\n",
      "    Val loss 0.307, accuracy 0.817, F1-score 0.853, MCC: 0.451, Dice: 0.853\n"
     ]
    },
    {
     "name": "stderr",
     "output_type": "stream",
     "text": [
      "Training epoch 65: 100%|██████████| 565/565 [20:08<00:00,  2.14s/it]\n",
      "Validation epoch 65: 100%|██████████| 137/137 [03:54<00:00,  1.71s/it]\n",
      "Training epoch 66:   0%|          | 0/565 [00:00<?, ?it/s]"
     ]
    },
    {
     "name": "stdout",
     "output_type": "stream",
     "text": [
      "Epoch 65:\n",
      "    Train loss 0.296, accuracy 0.823, F1-score 0.862, MCC: 0.505, Dice: 0.862\n",
      "    Val loss 0.309, accuracy 0.803, F1-score 0.842, MCC: 0.453, Dice: 0.842\n"
     ]
    },
    {
     "name": "stderr",
     "output_type": "stream",
     "text": [
      "Training epoch 66:  81%|████████  | 457/565 [15:22<02:51,  1.59s/it]IOPub message rate exceeded.\n",
      "The notebook server will temporarily stop sending output\n",
      "to the client in order to avoid crashing it.\n",
      "To change this limit, set the config variable\n",
      "`--NotebookApp.iopub_msg_rate_limit`.\n",
      "\n",
      "Current values:\n",
      "NotebookApp.iopub_msg_rate_limit=1000.0 (msgs/sec)\n",
      "NotebookApp.rate_limit_window=3.0 (secs)\n",
      "\n",
      "Training epoch 66: 100%|██████████| 565/565 [18:59<00:00,  2.02s/it]\n",
      "Validation epoch 66: 100%|██████████| 137/137 [03:46<00:00,  1.66s/it]\n",
      "Training epoch 67:   0%|          | 0/565 [00:00<?, ?it/s]"
     ]
    },
    {
     "name": "stdout",
     "output_type": "stream",
     "text": [
      "Epoch 66:\n",
      "    Train loss 0.294, accuracy 0.824, F1-score 0.863, MCC: 0.509, Dice: 0.863\n",
      "    Val loss 0.307, accuracy 0.820, F1-score 0.856, MCC: 0.456, Dice: 0.856\n"
     ]
    },
    {
     "name": "stderr",
     "output_type": "stream",
     "text": [
      "Training epoch 67: 100%|██████████| 565/565 [18:37<00:00,  1.98s/it]\n",
      "Validation epoch 67: 100%|██████████| 137/137 [03:48<00:00,  1.67s/it]\n",
      "Training epoch 68:   0%|          | 0/565 [00:00<?, ?it/s]"
     ]
    },
    {
     "name": "stdout",
     "output_type": "stream",
     "text": [
      "Epoch 67:\n",
      "    Train loss 0.294, accuracy 0.825, F1-score 0.864, MCC: 0.510, Dice: 0.864\n",
      "    Val loss 0.309, accuracy 0.811, F1-score 0.848, MCC: 0.454, Dice: 0.848\n"
     ]
    },
    {
     "name": "stderr",
     "output_type": "stream",
     "text": [
      "Training epoch 68: 100%|██████████| 565/565 [18:54<00:00,  2.01s/it]\n",
      "Validation epoch 68: 100%|██████████| 137/137 [03:44<00:00,  1.64s/it]\n",
      "Training epoch 69:   0%|          | 0/565 [00:00<?, ?it/s]"
     ]
    },
    {
     "name": "stdout",
     "output_type": "stream",
     "text": [
      "Epoch 68:\n",
      "    Train loss 0.293, accuracy 0.824, F1-score 0.862, MCC: 0.508, Dice: 0.862\n",
      "    Val loss 0.308, accuracy 0.808, F1-score 0.844, MCC: 0.455, Dice: 0.844\n"
     ]
    },
    {
     "name": "stderr",
     "output_type": "stream",
     "text": [
      "Training epoch 69: 100%|██████████| 565/565 [18:33<00:00,  1.97s/it]\n",
      "Validation epoch 69: 100%|██████████| 137/137 [03:46<00:00,  1.65s/it]\n",
      "Training epoch 70:   0%|          | 0/565 [00:00<?, ?it/s]"
     ]
    },
    {
     "name": "stdout",
     "output_type": "stream",
     "text": [
      "Epoch 69:\n",
      "    Train loss 0.293, accuracy 0.824, F1-score 0.862, MCC: 0.509, Dice: 0.862\n",
      "    Val loss 0.307, accuracy 0.813, F1-score 0.849, MCC: 0.453, Dice: 0.849\n"
     ]
    },
    {
     "name": "stderr",
     "output_type": "stream",
     "text": [
      "Training epoch 70: 100%|██████████| 565/565 [18:39<00:00,  1.98s/it]\n",
      "Validation epoch 70: 100%|██████████| 137/137 [03:51<00:00,  1.69s/it]\n",
      "Training epoch 71:   0%|          | 0/565 [00:00<?, ?it/s]"
     ]
    },
    {
     "name": "stdout",
     "output_type": "stream",
     "text": [
      "Epoch 70:\n",
      "    Train loss 0.293, accuracy 0.825, F1-score 0.864, MCC: 0.510, Dice: 0.864\n",
      "    Val loss 0.309, accuracy 0.817, F1-score 0.853, MCC: 0.454, Dice: 0.853\n"
     ]
    },
    {
     "name": "stderr",
     "output_type": "stream",
     "text": [
      "Training epoch 71: 100%|██████████| 565/565 [18:40<00:00,  1.98s/it]\n",
      "Validation epoch 71: 100%|██████████| 137/137 [03:47<00:00,  1.66s/it]\n",
      "Training epoch 72:   0%|          | 0/565 [00:00<?, ?it/s]"
     ]
    },
    {
     "name": "stdout",
     "output_type": "stream",
     "text": [
      "Epoch 71:\n",
      "    Train loss 0.292, accuracy 0.825, F1-score 0.861, MCC: 0.511, Dice: 0.861\n",
      "    Val loss 0.308, accuracy 0.806, F1-score 0.841, MCC: 0.452, Dice: 0.841\n"
     ]
    },
    {
     "name": "stderr",
     "output_type": "stream",
     "text": [
      "Training epoch 72: 100%|██████████| 565/565 [19:06<00:00,  2.03s/it]\n",
      "Validation epoch 72: 100%|██████████| 137/137 [03:56<00:00,  1.73s/it]\n",
      "Training epoch 73:   0%|          | 0/565 [00:00<?, ?it/s]"
     ]
    },
    {
     "name": "stdout",
     "output_type": "stream",
     "text": [
      "Epoch 72:\n",
      "    Train loss 0.292, accuracy 0.825, F1-score 0.861, MCC: 0.509, Dice: 0.861\n",
      "    Val loss 0.306, accuracy 0.818, F1-score 0.854, MCC: 0.458, Dice: 0.854\n"
     ]
    },
    {
     "name": "stderr",
     "output_type": "stream",
     "text": [
      "Training epoch 73: 100%|██████████| 565/565 [18:57<00:00,  2.01s/it]\n",
      "Validation epoch 73: 100%|██████████| 137/137 [03:49<00:00,  1.67s/it]\n"
     ]
    },
    {
     "name": "stdout",
     "output_type": "stream",
     "text": [
      "Epoch 73:\n",
      "    Train loss 0.291, accuracy 0.826, F1-score 0.864, MCC: 0.512, Dice: 0.864\n",
      "    Val loss 0.305, accuracy 0.814, F1-score 0.852, MCC: 0.462, Dice: 0.852\n"
     ]
    },
    {
     "name": "stderr",
     "output_type": "stream",
     "text": [
      "Training epoch 74: 100%|██████████| 565/565 [18:43<00:00,  1.99s/it]\n",
      "Validation epoch 74: 100%|██████████| 137/137 [03:47<00:00,  1.66s/it]\n",
      "Training epoch 75:   0%|          | 0/565 [00:00<?, ?it/s]"
     ]
    },
    {
     "name": "stdout",
     "output_type": "stream",
     "text": [
      "Epoch 74:\n",
      "    Train loss 0.290, accuracy 0.825, F1-score 0.863, MCC: 0.513, Dice: 0.863\n",
      "    Val loss 0.309, accuracy 0.815, F1-score 0.852, MCC: 0.453, Dice: 0.852\n"
     ]
    },
    {
     "name": "stderr",
     "output_type": "stream",
     "text": [
      "Training epoch 75: 100%|██████████| 565/565 [18:44<00:00,  1.99s/it]\n",
      "Validation epoch 75: 100%|██████████| 137/137 [03:58<00:00,  1.74s/it]\n",
      "Training epoch 76:   0%|          | 0/565 [00:00<?, ?it/s]"
     ]
    },
    {
     "name": "stdout",
     "output_type": "stream",
     "text": [
      "Epoch 75:\n",
      "    Train loss 0.290, accuracy 0.826, F1-score 0.866, MCC: 0.514, Dice: 0.866\n",
      "    Val loss 0.305, accuracy 0.817, F1-score 0.851, MCC: 0.462, Dice: 0.851\n"
     ]
    },
    {
     "name": "stderr",
     "output_type": "stream",
     "text": [
      "Training epoch 76: 100%|██████████| 565/565 [18:48<00:00,  2.00s/it]\n",
      "Validation epoch 76: 100%|██████████| 137/137 [03:47<00:00,  1.66s/it]\n",
      "Training epoch 77:   0%|          | 0/565 [00:00<?, ?it/s]"
     ]
    },
    {
     "name": "stdout",
     "output_type": "stream",
     "text": [
      "Epoch 76:\n",
      "    Train loss 0.289, accuracy 0.826, F1-score 0.865, MCC: 0.514, Dice: 0.865\n",
      "    Val loss 0.307, accuracy 0.823, F1-score 0.859, MCC: 0.455, Dice: 0.859\n"
     ]
    },
    {
     "name": "stderr",
     "output_type": "stream",
     "text": [
      "Training epoch 77: 100%|██████████| 565/565 [18:47<00:00,  2.00s/it]\n",
      "Validation epoch 77: 100%|██████████| 137/137 [03:47<00:00,  1.66s/it]\n",
      "Training epoch 78:   0%|          | 0/565 [00:00<?, ?it/s]"
     ]
    },
    {
     "name": "stdout",
     "output_type": "stream",
     "text": [
      "Epoch 77:\n",
      "    Train loss 0.288, accuracy 0.828, F1-score 0.866, MCC: 0.517, Dice: 0.866\n",
      "    Val loss 0.310, accuracy 0.809, F1-score 0.845, MCC: 0.453, Dice: 0.845\n"
     ]
    },
    {
     "name": "stderr",
     "output_type": "stream",
     "text": [
      "Training epoch 78: 100%|██████████| 565/565 [18:43<00:00,  1.99s/it]\n",
      "Validation epoch 78: 100%|██████████| 137/137 [03:44<00:00,  1.64s/it]\n"
     ]
    },
    {
     "name": "stdout",
     "output_type": "stream",
     "text": [
      "Epoch 78:\n",
      "    Train loss 0.288, accuracy 0.827, F1-score 0.865, MCC: 0.516, Dice: 0.865\n",
      "    Val loss 0.303, accuracy 0.819, F1-score 0.854, MCC: 0.465, Dice: 0.854\n"
     ]
    },
    {
     "name": "stderr",
     "output_type": "stream",
     "text": [
      "Training epoch 79: 100%|██████████| 565/565 [18:34<00:00,  1.97s/it]\n",
      "Validation epoch 79: 100%|██████████| 137/137 [03:49<00:00,  1.68s/it]\n",
      "Training epoch 80:   0%|          | 0/565 [00:00<?, ?it/s]"
     ]
    },
    {
     "name": "stdout",
     "output_type": "stream",
     "text": [
      "Epoch 79:\n",
      "    Train loss 0.288, accuracy 0.828, F1-score 0.867, MCC: 0.520, Dice: 0.867\n",
      "    Val loss 0.307, accuracy 0.824, F1-score 0.860, MCC: 0.450, Dice: 0.860\n"
     ]
    },
    {
     "name": "stderr",
     "output_type": "stream",
     "text": [
      "Training epoch 80: 100%|██████████| 565/565 [18:31<00:00,  1.97s/it]\n",
      "Validation epoch 80: 100%|██████████| 137/137 [03:45<00:00,  1.65s/it]\n",
      "Training epoch 81:   0%|          | 0/565 [00:00<?, ?it/s]"
     ]
    },
    {
     "name": "stdout",
     "output_type": "stream",
     "text": [
      "Epoch 80:\n",
      "    Train loss 0.287, accuracy 0.828, F1-score 0.865, MCC: 0.518, Dice: 0.865\n",
      "    Val loss 0.308, accuracy 0.813, F1-score 0.853, MCC: 0.453, Dice: 0.853\n"
     ]
    },
    {
     "name": "stderr",
     "output_type": "stream",
     "text": [
      "Training epoch 81: 100%|██████████| 565/565 [18:52<00:00,  2.00s/it]\n",
      "Validation epoch 81: 100%|██████████| 137/137 [03:46<00:00,  1.65s/it]\n",
      "Training epoch 82:   0%|          | 0/565 [00:00<?, ?it/s]"
     ]
    },
    {
     "name": "stdout",
     "output_type": "stream",
     "text": [
      "Epoch 81:\n",
      "    Train loss 0.287, accuracy 0.829, F1-score 0.868, MCC: 0.521, Dice: 0.868\n",
      "    Val loss 0.309, accuracy 0.810, F1-score 0.846, MCC: 0.453, Dice: 0.846\n"
     ]
    },
    {
     "name": "stderr",
     "output_type": "stream",
     "text": [
      "Training epoch 82: 100%|██████████| 565/565 [18:39<00:00,  1.98s/it]\n",
      "Validation epoch 82: 100%|██████████| 137/137 [03:47<00:00,  1.66s/it]\n",
      "Training epoch 83:   0%|          | 0/565 [00:00<?, ?it/s]"
     ]
    },
    {
     "name": "stdout",
     "output_type": "stream",
     "text": [
      "Epoch 82:\n",
      "    Train loss 0.286, accuracy 0.828, F1-score 0.865, MCC: 0.520, Dice: 0.865\n",
      "    Val loss 0.309, accuracy 0.815, F1-score 0.851, MCC: 0.454, Dice: 0.851\n"
     ]
    },
    {
     "name": "stderr",
     "output_type": "stream",
     "text": [
      "Training epoch 83: 100%|██████████| 565/565 [18:18<00:00,  1.94s/it]\n",
      "Validation epoch 83: 100%|██████████| 137/137 [03:27<00:00,  1.52s/it]\n",
      "Training epoch 84:   0%|          | 0/565 [00:00<?, ?it/s]"
     ]
    },
    {
     "name": "stdout",
     "output_type": "stream",
     "text": [
      "Epoch 83:\n",
      "    Train loss 0.285, accuracy 0.829, F1-score 0.864, MCC: 0.520, Dice: 0.864\n",
      "    Val loss 0.308, accuracy 0.814, F1-score 0.850, MCC: 0.454, Dice: 0.850\n"
     ]
    },
    {
     "name": "stderr",
     "output_type": "stream",
     "text": [
      "Training epoch 84: 100%|██████████| 565/565 [17:13<00:00,  1.83s/it]\n",
      "Validation epoch 84: 100%|██████████| 137/137 [03:30<00:00,  1.54s/it]\n",
      "Training epoch 85:   0%|          | 0/565 [00:00<?, ?it/s]"
     ]
    },
    {
     "name": "stdout",
     "output_type": "stream",
     "text": [
      "Epoch 84:\n",
      "    Train loss 0.285, accuracy 0.829, F1-score 0.867, MCC: 0.521, Dice: 0.867\n",
      "    Val loss 0.307, accuracy 0.814, F1-score 0.851, MCC: 0.456, Dice: 0.851\n"
     ]
    },
    {
     "name": "stderr",
     "output_type": "stream",
     "text": [
      "Training epoch 85: 100%|██████████| 565/565 [17:25<00:00,  1.85s/it]\n",
      "Validation epoch 85: 100%|██████████| 137/137 [03:29<00:00,  1.53s/it]\n",
      "Training epoch 86:   0%|          | 0/565 [00:00<?, ?it/s]"
     ]
    },
    {
     "name": "stdout",
     "output_type": "stream",
     "text": [
      "Epoch 85:\n",
      "    Train loss 0.285, accuracy 0.829, F1-score 0.866, MCC: 0.522, Dice: 0.866\n",
      "    Val loss 0.310, accuracy 0.815, F1-score 0.851, MCC: 0.448, Dice: 0.851\n"
     ]
    },
    {
     "name": "stderr",
     "output_type": "stream",
     "text": [
      "Training epoch 86: 100%|██████████| 565/565 [17:24<00:00,  1.85s/it]\n",
      "Validation epoch 86: 100%|██████████| 137/137 [03:30<00:00,  1.54s/it]\n",
      "Training epoch 87:   0%|          | 0/565 [00:00<?, ?it/s]"
     ]
    },
    {
     "name": "stdout",
     "output_type": "stream",
     "text": [
      "Epoch 86:\n",
      "    Train loss 0.284, accuracy 0.829, F1-score 0.866, MCC: 0.521, Dice: 0.866\n",
      "    Val loss 0.311, accuracy 0.819, F1-score 0.854, MCC: 0.453, Dice: 0.854\n"
     ]
    },
    {
     "name": "stderr",
     "output_type": "stream",
     "text": [
      "Training epoch 87: 100%|██████████| 565/565 [17:13<00:00,  1.83s/it]\n",
      "Validation epoch 87: 100%|██████████| 137/137 [03:32<00:00,  1.55s/it]\n",
      "Training epoch 88:   0%|          | 0/565 [00:00<?, ?it/s]"
     ]
    },
    {
     "name": "stdout",
     "output_type": "stream",
     "text": [
      "Epoch 87:\n",
      "    Train loss 0.285, accuracy 0.829, F1-score 0.867, MCC: 0.522, Dice: 0.867\n",
      "    Val loss 0.311, accuracy 0.800, F1-score 0.837, MCC: 0.451, Dice: 0.837\n"
     ]
    },
    {
     "name": "stderr",
     "output_type": "stream",
     "text": [
      "Training epoch 88: 100%|██████████| 565/565 [17:16<00:00,  1.83s/it]\n",
      "Validation epoch 88: 100%|██████████| 137/137 [03:38<00:00,  1.60s/it]\n",
      "Training epoch 89:   0%|          | 0/565 [00:00<?, ?it/s]"
     ]
    },
    {
     "name": "stdout",
     "output_type": "stream",
     "text": [
      "Epoch 88:\n",
      "    Train loss 0.282, accuracy 0.830, F1-score 0.867, MCC: 0.524, Dice: 0.867\n",
      "    Val loss 0.309, accuracy 0.813, F1-score 0.850, MCC: 0.458, Dice: 0.850\n"
     ]
    },
    {
     "name": "stderr",
     "output_type": "stream",
     "text": [
      "Training epoch 89: 100%|██████████| 565/565 [17:48<00:00,  1.89s/it]\n",
      "Validation epoch 89: 100%|██████████| 137/137 [03:37<00:00,  1.59s/it]\n",
      "Training epoch 90:   0%|          | 0/565 [00:00<?, ?it/s]"
     ]
    },
    {
     "name": "stdout",
     "output_type": "stream",
     "text": [
      "Epoch 89:\n",
      "    Train loss 0.283, accuracy 0.829, F1-score 0.867, MCC: 0.523, Dice: 0.867\n",
      "    Val loss 0.308, accuracy 0.817, F1-score 0.854, MCC: 0.457, Dice: 0.854\n"
     ]
    },
    {
     "name": "stderr",
     "output_type": "stream",
     "text": [
      "Training epoch 90: 100%|██████████| 565/565 [17:50<00:00,  1.89s/it]\n",
      "Training epoch 91: 100%|██████████| 565/565 [17:32<00:00,  1.86s/it]]\n",
      "Validation epoch 91: 100%|██████████| 137/137 [03:29<00:00,  1.53s/it]\n",
      "Training epoch 92:   0%|          | 0/565 [00:00<?, ?it/s]"
     ]
    },
    {
     "name": "stdout",
     "output_type": "stream",
     "text": [
      "Epoch 91:\n",
      "    Train loss 0.291, accuracy 0.825, F1-score 0.864, MCC: 0.510, Dice: 0.864\n",
      "    Val loss 0.306, accuracy 0.818, F1-score 0.854, MCC: 0.459, Dice: 0.854\n"
     ]
    },
    {
     "name": "stderr",
     "output_type": "stream",
     "text": [
      "Training epoch 92: 100%|██████████| 565/565 [17:15<00:00,  1.83s/it]\n",
      "Validation epoch 92: 100%|██████████| 137/137 [03:27<00:00,  1.52s/it]\n",
      "Training epoch 93:   0%|          | 0/565 [00:00<?, ?it/s]"
     ]
    },
    {
     "name": "stdout",
     "output_type": "stream",
     "text": [
      "Epoch 92:\n",
      "    Train loss 0.287, accuracy 0.827, F1-score 0.864, MCC: 0.515, Dice: 0.864\n",
      "    Val loss 0.305, accuracy 0.815, F1-score 0.850, MCC: 0.463, Dice: 0.850\n"
     ]
    },
    {
     "name": "stderr",
     "output_type": "stream",
     "text": [
      "Training epoch 93: 100%|██████████| 565/565 [17:26<00:00,  1.85s/it]\n",
      "Validation epoch 93: 100%|██████████| 137/137 [03:26<00:00,  1.51s/it]\n",
      "Training epoch 94:   0%|          | 0/565 [00:00<?, ?it/s]"
     ]
    },
    {
     "name": "stdout",
     "output_type": "stream",
     "text": [
      "Epoch 93:\n",
      "    Train loss 0.283, accuracy 0.829, F1-score 0.866, MCC: 0.521, Dice: 0.866\n",
      "    Val loss 0.308, accuracy 0.817, F1-score 0.851, MCC: 0.459, Dice: 0.851\n"
     ]
    },
    {
     "name": "stderr",
     "output_type": "stream",
     "text": [
      "Training epoch 94: 100%|██████████| 565/565 [17:21<00:00,  1.84s/it]\n",
      "Validation epoch 94: 100%|██████████| 137/137 [03:29<00:00,  1.53s/it]\n",
      "Training epoch 95:   0%|          | 0/565 [00:00<?, ?it/s]"
     ]
    },
    {
     "name": "stdout",
     "output_type": "stream",
     "text": [
      "Epoch 94:\n",
      "    Train loss 0.280, accuracy 0.829, F1-score 0.866, MCC: 0.523, Dice: 0.866\n",
      "    Val loss 0.306, accuracy 0.817, F1-score 0.853, MCC: 0.462, Dice: 0.853\n"
     ]
    },
    {
     "name": "stderr",
     "output_type": "stream",
     "text": [
      "Training epoch 95:  30%|███       | 172/565 [05:21<10:43,  1.64s/it]IOPub message rate exceeded.\n",
      "The notebook server will temporarily stop sending output\n",
      "to the client in order to avoid crashing it.\n",
      "To change this limit, set the config variable\n",
      "`--NotebookApp.iopub_msg_rate_limit`.\n",
      "\n",
      "Current values:\n",
      "NotebookApp.iopub_msg_rate_limit=1000.0 (msgs/sec)\n",
      "NotebookApp.rate_limit_window=3.0 (secs)\n",
      "\n",
      "Training epoch 96: 100%|██████████| 565/565 [17:11<00:00,  1.83s/it]\n",
      "Validation epoch 96: 100%|██████████| 137/137 [03:31<00:00,  1.54s/it]\n",
      "Training epoch 97:   0%|          | 0/565 [00:00<?, ?it/s]"
     ]
    },
    {
     "name": "stdout",
     "output_type": "stream",
     "text": [
      "Epoch 96:\n",
      "    Train loss 0.285, accuracy 0.828, F1-score 0.866, MCC: 0.516, Dice: 0.866\n",
      "    Val loss 0.310, accuracy 0.808, F1-score 0.843, MCC: 0.457, Dice: 0.843\n"
     ]
    },
    {
     "name": "stderr",
     "output_type": "stream",
     "text": [
      "Training epoch 97: 100%|██████████| 565/565 [17:00<00:00,  1.81s/it]\n",
      "Validation epoch 97: 100%|██████████| 137/137 [03:27<00:00,  1.52s/it]\n",
      "Training epoch 98:   0%|          | 0/565 [00:00<?, ?it/s]"
     ]
    },
    {
     "name": "stdout",
     "output_type": "stream",
     "text": [
      "Epoch 97:\n",
      "    Train loss 0.282, accuracy 0.828, F1-score 0.867, MCC: 0.522, Dice: 0.867\n",
      "    Val loss 0.311, accuracy 0.814, F1-score 0.852, MCC: 0.452, Dice: 0.852\n"
     ]
    },
    {
     "name": "stderr",
     "output_type": "stream",
     "text": [
      "Training epoch 98: 100%|██████████| 565/565 [17:06<00:00,  1.82s/it]\n",
      "Validation epoch 98: 100%|██████████| 137/137 [03:31<00:00,  1.54s/it]\n",
      "Training epoch 99:   0%|          | 0/565 [00:00<?, ?it/s]"
     ]
    },
    {
     "name": "stdout",
     "output_type": "stream",
     "text": [
      "Epoch 98:\n",
      "    Train loss 0.284, accuracy 0.827, F1-score 0.865, MCC: 0.518, Dice: 0.865\n",
      "    Val loss 0.309, accuracy 0.817, F1-score 0.852, MCC: 0.456, Dice: 0.852\n"
     ]
    },
    {
     "name": "stderr",
     "output_type": "stream",
     "text": [
      "Training epoch 99: 100%|██████████| 565/565 [17:06<00:00,  1.82s/it]\n",
      "Validation epoch 99: 100%|██████████| 137/137 [03:28<00:00,  1.52s/it]\n",
      "Training epoch 100:   0%|          | 0/565 [00:00<?, ?it/s]"
     ]
    },
    {
     "name": "stdout",
     "output_type": "stream",
     "text": [
      "Epoch 99:\n",
      "    Train loss 0.280, accuracy 0.830, F1-score 0.869, MCC: 0.526, Dice: 0.869\n",
      "    Val loss 0.310, accuracy 0.806, F1-score 0.845, MCC: 0.455, Dice: 0.845\n"
     ]
    },
    {
     "name": "stderr",
     "output_type": "stream",
     "text": [
      "Training epoch 100: 100%|██████████| 565/565 [17:18<00:00,  1.84s/it]\n",
      "Validation epoch 100:  93%|█████████▎| 128/137 [03:18<00:13,  1.46s/it]IOPub message rate exceeded.\n",
      "The notebook server will temporarily stop sending output\n",
      "to the client in order to avoid crashing it.\n",
      "To change this limit, set the config variable\n",
      "`--NotebookApp.iopub_msg_rate_limit`.\n",
      "\n",
      "Current values:\n",
      "NotebookApp.iopub_msg_rate_limit=1000.0 (msgs/sec)\n",
      "NotebookApp.rate_limit_window=3.0 (secs)\n",
      "\n"
     ]
    }
   ],
   "source": [
    "# ============================ #\n",
    "# user-specified hyperparameters\n",
    "# ============================ #\n",
    "country = 'india'\n",
    "months = ['2020_08', '2020_09', '2020_10', '2020_11', '2020_12', \n",
    "          '2021_01', '2021_02', '2021_03', '2021_04', '2021_05', '2021_06', '2021_07']\n",
    "image_directories = ['../data/planet/india/GeneralBlockchain/monthly_mosaics_renamed_clipped_merged_samples/' \n",
    "                     + month for month in months]\n",
    "image_suffixes = ['_' + x + '.tif' for x in months]\n",
    "shuffle_directories = False\n",
    "epochs = 100\n",
    "lr = 0.001\n",
    "lr_decay = None\n",
    "n_filters = 32\n",
    "depth = 6\n",
    "n_classes = 1\n",
    "batch_size = 6\n",
    "model_type = 'fractal-resunet' # 'resunet-d6'\n",
    "month = 'all13'\n",
    "codes_to_keep = [1]\n",
    "ctx_name = 'gpu'\n",
    "gpu_id = 0\n",
    "boundary_kernel_size = (2,2)\n",
    "n_channels = 3\n",
    "\n",
    "# trained_model = '../experiments/france/sherrie10k/' + \\\n",
    "#     'resunet-d6_2019_10_class-notreeexceptvines_nfilter-16_bs-8_lr-0.001_1x-8x-downsampled/model.params'\n",
    "trained_model = None\n",
    "\n",
    "if trained_model is None:\n",
    "    folder_suffix = '_fromscratch'\n",
    "else:\n",
    "    folder_suffix = '_finetuned'\n",
    "    \n",
    "if country == 'india':\n",
    "    month_name = '12month-stacked'\n",
    "    splits_path = '../data/splits/india_planetImagery_splits_20x20.csv'\n",
    "splits_df = pd.read_csv(splits_path)\n",
    "splits_df['image_id'] = splits_df['image_id'].astype(str).str.zfill(5)\n",
    "\n",
    "# get all img and labels\n",
    "all_img_names = []\n",
    "all_label_names = []\n",
    "if country == 'india':\n",
    "    img_dir = '../data/planet/india/GeneralBlockchain/monthly_mosaics_renamed_clipped_merged_samples/'\n",
    "    label_dir = '../data/planet/india/GeneralBlockchain/extent_labels/'\n",
    "\n",
    "label_folder_imgs = sorted(os.listdir(label_dir))\n",
    "for label_name in label_folder_imgs:\n",
    "    img_name = label_name.split('.')[0]\n",
    "    all_img_names.append(img_name)\n",
    "    label_path = os.path.join(label_dir, label_name)\n",
    "    all_label_names.append(label_path)\n",
    "\n",
    "# split imgs and labels into train/val/test\n",
    "all_images = pd.DataFrame({'image_id': all_img_names})\n",
    "all_images = all_images.merge(splits_df[['image_id', 'fold']], on='image_id', how='left')\n",
    "train_names = all_images[all_images['fold'] == 'train']['image_id'].values\n",
    "val_names = all_images[all_images['fold'] == 'val']['image_id'].values\n",
    "test_names = all_images[all_images['fold'] == 'test']['image_id'].values\n",
    "\n",
    "all_labels = pd.DataFrame({'label_path': all_label_names})\n",
    "all_labels['image_id'] = all_labels['label_path'].str.split('/').apply(\n",
    "    lambda x: x[-1]).str.split('.').apply(\n",
    "    lambda x: x[0])\n",
    "all_labels = all_labels.merge(splits_df[['image_id', 'fold']], on='image_id', how='left')\n",
    "train_names_label = all_labels[all_labels['fold'] == 'train']['label_path'].values\n",
    "val_names_label = all_labels[all_labels['fold'] == 'val']['label_path'].values\n",
    "test_names_label = all_labels[all_labels['fold'] == 'test']['label_path'].values\n",
    "\n",
    "# ============================ #\n",
    "\n",
    "run_africa(country, train_names, val_names, test_names,\n",
    "           train_names_label, val_names_label, test_names_label,\n",
    "           image_directories,\n",
    "           trained_model=trained_model,\n",
    "           epochs=epochs, lr=lr, lr_decay=lr_decay, \n",
    "           model_type=model_type, n_filters=n_filters, depth=depth, n_classes=n_classes,\n",
    "           batch_size=batch_size, month=month_name,\n",
    "           codes_to_keep=codes_to_keep, \n",
    "           ctx_name=ctx_name,\n",
    "           gpu_id=gpu_id, \n",
    "           folder_suffix=folder_suffix,\n",
    "           boundary_kernel_size=boundary_kernel_size,\n",
    "           n_channels=n_channels,\n",
    "           image_suffixes=image_suffixes,\n",
    "           shuffle_directories=shuffle_directories)"
   ]
  },
  {
   "cell_type": "code",
   "execution_count": null,
   "metadata": {},
   "outputs": [],
   "source": []
  }
 ],
 "metadata": {
  "kernelspec": {
   "display_name": "Environment (conda_mxnet1.6.0)",
   "language": "python",
   "name": "conda_mxnet1.6.0"
  },
  "language_info": {
   "codemirror_mode": {
    "name": "ipython",
    "version": 3
   },
   "file_extension": ".py",
   "mimetype": "text/x-python",
   "name": "python",
   "nbconvert_exporter": "python",
   "pygments_lexer": "ipython3",
   "version": "3.6.11"
  }
 },
 "nbformat": 4,
 "nbformat_minor": 2
}
