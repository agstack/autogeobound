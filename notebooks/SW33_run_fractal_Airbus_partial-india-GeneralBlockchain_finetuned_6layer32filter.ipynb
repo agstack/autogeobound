{
 "cells": [
  {
   "cell_type": "code",
   "execution_count": 1,
   "metadata": {},
   "outputs": [],
   "source": [
    "import numpy as np\n",
    "import pandas as pd\n",
    "import os\n",
    "from tqdm import tqdm\n",
    "import visdom\n",
    "\n",
    "import mxnet as mx\n",
    "from mxnet import gluon\n",
    "from mxnet import autograd\n",
    "from mxnet import image\n",
    "\n",
    "import sys\n",
    "sys.path.append('../../resuneta/src')\n",
    "sys.path.append('../../decode/FracTAL_ResUNet/models/semanticsegmentation')\n",
    "sys.path.append('../../decode/FracTAL_ResUNet/nn/loss')\n",
    "sys.path.append('../../')\n",
    "sys.path.append('../MXNet-ResUNeta/')\n",
    "\n",
    "from bound_dist import get_distance, get_boundary\n",
    "from FracTAL_ResUNet import FracTAL_ResUNet_cmtsk\n",
    "from ftnmt_loss import ftnmt_loss_masked\n",
    "from datasets import *\n",
    "\n",
    "from sklearn.metrics import matthews_corrcoef\n",
    "\n",
    "import matplotlib.pyplot as plt\n",
    "%matplotlib inline"
   ]
  },
  {
   "cell_type": "code",
   "execution_count": 2,
   "metadata": {},
   "outputs": [],
   "source": [
    "def dice_coef(x, y):\n",
    "    if type(x).__module__ == 'numpy':\n",
    "        intersection = np.logical_and(x, y)\n",
    "        return 2. * np.sum(intersection) / (np.sum(x) + np.sum(y))\n",
    "    else:\n",
    "        intersection = mx.ndarray.op.broadcast_logical_and(x, y)\n",
    "        return 2. * mx.nd.sum(intersection) / (mx.nd.sum(x) + mx.nd.sum(y))"
   ]
  },
  {
   "cell_type": "code",
   "execution_count": 3,
   "metadata": {},
   "outputs": [],
   "source": [
    "def visdom_visualize_batch(vis, img, extent, boundary, distance,\n",
    "                           extent_pred, boundary_pred, distance_pred,\n",
    "                           hsv, hsv_pred, mask, title=\"Train images\"):\n",
    "\n",
    "    img, extent, boundary, distance = img.asnumpy(), extent.asnumpy(), boundary.asnumpy(), distance.asnumpy()\n",
    "    extent_pred, boundary_pred = extent_pred.asnumpy(), boundary_pred.asnumpy()\n",
    "    distance_pred, hsv, hsv_pred = distance_pred.asnumpy(), hsv.asnumpy(), hsv_pred.asnumpy()\n",
    "    mask = mask.asnumpy()\n",
    "\n",
    "    # put everything in one window\n",
    "    batch_size, nchannels, nrows, ncols = img.shape\n",
    "    padding = 10\n",
    "    items = [img, hsv, hsv_pred, extent, extent_pred, \n",
    "             boundary, boundary_pred, distance, distance_pred,\n",
    "             mask]\n",
    "    result = np.zeros((3, len(items)*nrows + (len(items)-1)*padding, batch_size*ncols + (batch_size-1)*padding))\n",
    "\n",
    "    for j, item in enumerate(items):\n",
    "\n",
    "        if item.shape[1] == 1:\n",
    "            item = np.tile(item, (1,3,1,1)) * 255.\n",
    "\n",
    "        if j == 1 or j == 2: # convert HSV to RGB\n",
    "            item = np.moveaxis(item, 1, -1) * 255.\n",
    "            for i in range(batch_size):\n",
    "                item[i] = cv2.cvtColor(item[i].astype(np.uint8), cv2.COLOR_HSV2RGB)\n",
    "            item = np.moveaxis(item, -1, 1)\n",
    "            \n",
    "        for i in range(batch_size):\n",
    "            result[:, j*(nrows+padding):(j+1)*nrows+j*padding, i*(ncols+padding):(i+1)*ncols+i*padding] = item[i]\n",
    "    vis.images(result, nrow=1, win=title, opts={'title': title})\n"
   ]
  },
  {
   "cell_type": "code",
   "execution_count": 4,
   "metadata": {},
   "outputs": [],
   "source": [
    "def train_model(train_dataloader, model, tanimoto_dual, trainer, epoch, args):\n",
    "    \n",
    "    # initialize metrics\n",
    "    cumulative_loss = 0\n",
    "    accuracy = mx.metric.Accuracy()\n",
    "    f1 = mx.metric.F1()\n",
    "    mcc = mx.metric.MCC()\n",
    "    dice = mx.metric.CustomMetric(feval=dice_coef, name=\"Dice\")\n",
    "    if args['ctx_name'] == 'cpu':\n",
    "        ctx = mx.cpu()\n",
    "    else:\n",
    "        ctx = mx.gpu(args['gpu'])\n",
    "    \n",
    "    # training set\n",
    "    for batch_i, (img, extent, boundary, distance, hsv, mask) in enumerate(\n",
    "        tqdm(train_dataloader, desc='Training epoch {}'.format(epoch))):\n",
    "        \n",
    "        with autograd.record():\n",
    "\n",
    "            img = img.as_in_context(ctx)\n",
    "            extent = extent.as_in_context(ctx)\n",
    "            boundary = boundary.as_in_context(ctx)\n",
    "            distance = distance.as_in_context(ctx)\n",
    "            hsv = hsv.as_in_context(ctx)\n",
    "            mask = mask.as_in_context(ctx)\n",
    "            nonmask = mx.nd.ones(extent.shape).as_in_context(ctx)\n",
    "            \n",
    "            # logits, bound, dist, convc = model(img)\n",
    "            logits, bound, dist = model(img)\n",
    "            \n",
    "            # multi-task loss\n",
    "            # TODO: wrap this in a custom loss function / class\n",
    "            loss_extent = mx.nd.sum(tanimoto_dual(logits, extent, mask))\n",
    "            loss_boundary = mx.nd.sum(tanimoto_dual(bound, boundary, mask))\n",
    "            loss_distance = mx.nd.sum(tanimoto_dual(dist, distance, mask))\n",
    "\n",
    "            loss = 0.33 * (loss_extent + loss_boundary + loss_distance) # + loss_hsv)\n",
    "            \n",
    "        loss.backward()\n",
    "        trainer.step(args['batch_size'])\n",
    "        cumulative_loss += mx.nd.sum(loss).asscalar()\n",
    "        \n",
    "        logits_reshaped = logits.reshape((logits.shape[0], -1))\n",
    "        extent_reshaped = extent.reshape((extent.shape[0], -1))\n",
    "        mask_reshaped = mask.reshape((mask.shape[0], -1))\n",
    "        \n",
    "        nonmask_idx = mx.np.nonzero(mask_reshaped.as_np_ndarray())\n",
    "        nonmask_idx = mx.np.stack(nonmask_idx).as_nd_ndarray().as_in_context(ctx)\n",
    "        logits_masked = mx.nd.gather_nd(logits_reshaped, nonmask_idx)\n",
    "        extent_masked = mx.nd.gather_nd(extent_reshaped, nonmask_idx)\n",
    "\n",
    "        # accuracy\n",
    "        extent_predicted_classes = mx.nd.ceil(logits_masked - 0.5)\n",
    "        accuracy.update(extent_masked, extent_predicted_classes)\n",
    "        \n",
    "        # f1 score\n",
    "        probabilities = mx.nd.stack(1 - logits_masked, logits_masked, axis=1)\n",
    "        f1.update(extent_masked, probabilities)\n",
    "        \n",
    "        # MCC metric\n",
    "        mcc.update(extent_masked, probabilities)\n",
    "        \n",
    "        # Dice score\n",
    "        dice.update(extent_masked, extent_predicted_classes)\n",
    "        \n",
    "        # TEMPORARY to make visdom work\n",
    "        convc = hsv\n",
    "        if batch_i % args['visdom_every'] == 0:\n",
    "            visdom_visualize_batch(args['visdom'], img, extent, boundary, distance,\n",
    "                                   logits, bound, dist, hsv, convc, mask)\n",
    "\n",
    "    return cumulative_loss, accuracy, f1, mcc, dice"
   ]
  },
  {
   "cell_type": "code",
   "execution_count": 5,
   "metadata": {},
   "outputs": [],
   "source": [
    "def evaluate_model(val_dataloader, model, tanimoto_dual, epoch, args):\n",
    "    \n",
    "    # initialize metrics\n",
    "    cumulative_loss = 0\n",
    "    accuracy = mx.metric.Accuracy()\n",
    "    f1 = mx.metric.F1()\n",
    "    mcc = mx.metric.MCC()\n",
    "    dice = mx.metric.CustomMetric(feval=dice_coef, name=\"Dice\")\n",
    "    if args['ctx_name'] == 'cpu':\n",
    "        ctx = mx.cpu()\n",
    "    else:\n",
    "        ctx = mx.gpu(args['gpu'])\n",
    "    \n",
    "    # validation set\n",
    "    for batch_i, (img, extent, boundary, distance, hsv, mask) in enumerate(\n",
    "        tqdm(val_dataloader, desc='Validation epoch {}'.format(epoch))):\n",
    "\n",
    "        img = img.as_in_context(ctx)\n",
    "        extent = extent.as_in_context(ctx)\n",
    "        boundary = boundary.as_in_context(ctx)\n",
    "        distance = distance.as_in_context(ctx)\n",
    "        hsv = hsv.as_in_context(ctx)\n",
    "        mask = mask.as_in_context(ctx)\n",
    "        nonmask = mx.nd.ones(extent.shape).as_in_context(ctx)\n",
    "\n",
    "        # logits, bound, dist, convc = model(img)\n",
    "        logits, bound, dist = model(img)\n",
    "        \n",
    "        # multi-task loss\n",
    "        # TODO: wrap this in a custom loss function / class\n",
    "        loss_extent = mx.nd.sum(tanimoto_dual(logits, extent, mask))\n",
    "        loss_boundary = mx.nd.sum(tanimoto_dual(bound, boundary, mask))\n",
    "        loss_distance = mx.nd.sum(tanimoto_dual(dist, distance, mask))\n",
    "\n",
    "        loss = 0.33 * (loss_extent + loss_boundary + loss_distance) # + loss_hsv)\n",
    "        \n",
    "        # update metrics based on every batch\n",
    "        cumulative_loss += mx.nd.sum(loss).asscalar()\n",
    "        \n",
    "        # update metrics based on every batch\n",
    "        # mask out unlabeled pixels            \n",
    "        logits_reshaped = logits.reshape((logits.shape[0], -1))\n",
    "        extent_reshaped = extent.reshape((extent.shape[0], -1))\n",
    "        mask_reshaped = mask.reshape((mask.shape[0], -1))\n",
    "        \n",
    "        nonmask_idx = mx.np.nonzero(mask_reshaped.as_np_ndarray())\n",
    "        nonmask_idx = mx.np.stack(nonmask_idx).as_nd_ndarray().as_in_context(ctx)\n",
    "        logits_masked = mx.nd.gather_nd(logits_reshaped, nonmask_idx)\n",
    "        extent_masked = mx.nd.gather_nd(extent_reshaped, nonmask_idx)\n",
    "\n",
    "        # accuracy\n",
    "        extent_predicted_classes = mx.nd.ceil(logits_masked - 0.5)\n",
    "        accuracy.update(extent_masked, extent_predicted_classes)\n",
    "        \n",
    "        # f1 score\n",
    "        probabilities = mx.nd.stack(1 - logits_masked, logits_masked, axis=1)\n",
    "        f1.update(extent_masked, probabilities)\n",
    "        \n",
    "        # MCC metric\n",
    "        mcc.update(extent_masked, probabilities)\n",
    "        \n",
    "        # Dice score\n",
    "        dice.update(extent_masked, extent_predicted_classes)\n",
    "        \n",
    "        # TEMPORARY to make visdom work\n",
    "        convc = hsv\n",
    "        if batch_i % args['visdom_every'] == 0:\n",
    "            visdom_visualize_batch(args['visdom'], img, extent, boundary, distance,\n",
    "                                   logits, bound, dist, hsv, convc, mask, title=\"Val images\")\n",
    "        \n",
    "    return cumulative_loss, accuracy, f1, mcc, dice"
   ]
  },
  {
   "cell_type": "markdown",
   "metadata": {},
   "source": [
    "# Africa datasets"
   ]
  },
  {
   "cell_type": "code",
   "execution_count": 6,
   "metadata": {},
   "outputs": [],
   "source": [
    "def run_africa(country, train_names, val_names, test_names, \n",
    "               train_names_label, val_names_label, test_names_label,\n",
    "               trained_model=None, month='Airbus',\n",
    "               epochs=100, lr=0.001, lr_decay=None, n_filters=16, batch_size=8,\n",
    "               model_type='fractal-resunet', depth=5, n_classes=1, \n",
    "               codes_to_keep=[1, 2],\n",
    "               folder_suffix='',\n",
    "               boundary_kernel_size=3,\n",
    "               ctx_name='cpu',\n",
    "               gpu_id=0):\n",
    "    \n",
    "    # Set MXNet ctx\n",
    "    if ctx_name == 'cpu':\n",
    "        ctx = mx.cpu()\n",
    "    elif ctx_name == 'gpu':\n",
    "        ctx = mx.gpu(gpu_id)\n",
    "    \n",
    "    # Set up names of directories and paths for saving\n",
    "    if trained_model is None:\n",
    "        folder_name = model_type+'_'+month+'_nfilter-'+str(n_filters)+'_depth-'+str(depth)+ \\\n",
    "                      '_bs-'+str(batch_size)+'_lr-'+str(lr)+folder_suffix\n",
    "        if lr_decay:\n",
    "            folder_name = folder_name + '_lrdecay-'+str(lr_decay)\n",
    "            \n",
    "        # define model\n",
    "        if model_type == 'resunet-d6':\n",
    "            model = ResUNet_d6(_nfilters_init=n_filters, _NClasses=n_classes)\n",
    "        elif model_type == 'resunet-d7':\n",
    "            model = ResUNet_d7(_nfilters_init=n_filters, _NClasses=n_classes)\n",
    "        elif model_type == 'fractal-resunet':\n",
    "            model = FracTAL_ResUNet_cmtsk(nfilters_init=n_filters, depth=depth, NClasses=n_classes)\n",
    "        model.initialize()\n",
    "        model.hybridize()\n",
    "        model.collect_params().reset_ctx(ctx)\n",
    "        \n",
    "    else:\n",
    "        folder_name = model_type+'_'+month+'_nfilter-'+str(n_filters)+'_depth-'+str(depth)+ \\\n",
    "                      '_bs-'+str(batch_size)+'_lr-'+str(lr)+folder_suffix\n",
    "        if model_type == 'resunet-d6':\n",
    "            model = ResUNet_d6(_nfilters_init=n_filters, _NClasses=n_classes)\n",
    "        elif model_type == 'resunet-d7':\n",
    "            model = ResUNet_d7(_nfilters_init=n_filters, _NClasses=n_classes)\n",
    "        elif model_type == 'fractal-resunet':\n",
    "            model = FracTAL_ResUNet_cmtsk(nfilters_init=n_filters, depth=depth, NClasses=n_classes)\n",
    "        model.load_parameters(trained_model, ctx=ctx)\n",
    "        \n",
    "    save_path = os.path.join('../experiments/', country, folder_name)\n",
    "    if not os.path.isdir(save_path):\n",
    "        os.makedirs(save_path)\n",
    "    save_model_name = os.path.join(save_path, \"model.params\")\n",
    "    \n",
    "    # Visdom\n",
    "    env_name = country + '_' + folder_name\n",
    "    vis = visdom.Visdom(port=8097, env=env_name)\n",
    "    \n",
    "    # Arguments\n",
    "    args = {}\n",
    "    args['batch_size'] = batch_size\n",
    "    args['ctx_name'] = ctx_name\n",
    "    args['gpu'] = gpu_id\n",
    "    args['visdom'] = vis\n",
    "    args['visdom_every'] = 20\n",
    "\n",
    "    # Define train/val/test splits\n",
    "    train_dataset = AirbusMasked(\n",
    "        fold='train', \n",
    "        image_names=train_names, \n",
    "        label_names=train_names_label, \n",
    "        classes=codes_to_keep,\n",
    "        boundary_kernel_size=boundary_kernel_size)\n",
    "    val_dataset = AirbusMasked(\n",
    "        fold='val', \n",
    "        image_names=val_names, \n",
    "        label_names=val_names_label, \n",
    "        classes=codes_to_keep,\n",
    "        boundary_kernel_size=boundary_kernel_size)\n",
    "    test_dataset = AirbusMasked(\n",
    "        fold='test', \n",
    "        image_names=test_names, \n",
    "        label_names=test_names_label, \n",
    "        classes=codes_to_keep,\n",
    "        boundary_kernel_size=boundary_kernel_size)\n",
    "\n",
    "    train_dataloader = gluon.data.DataLoader(train_dataset, batch_size=batch_size, shuffle=True)\n",
    "    val_dataloader = gluon.data.DataLoader(val_dataset, batch_size=batch_size)\n",
    "    test_dataloader = gluon.data.DataLoader(test_dataset, batch_size=batch_size)\n",
    "\n",
    "    # define loss function\n",
    "    tanimoto_dual = ftnmt_loss_masked(depth=0) # Tanimoto_with_dual_masked()\n",
    "    if lr_decay:\n",
    "        schedule = mx.lr_scheduler.FactorScheduler(step=1, factor=lr_decay)\n",
    "        adam_optimizer = mx.optimizer.Adam(learning_rate=lr, lr_scheduler=schedule)\n",
    "    else:\n",
    "        adam_optimizer = mx.optimizer.Adam(learning_rate=lr)\n",
    "    trainer = gluon.Trainer(model.collect_params(), optimizer=adam_optimizer)\n",
    "\n",
    "    # containers for metrics to log\n",
    "    train_metrics = {'train_loss': [], 'train_acc': [], 'train_f1': [], \n",
    "                     'train_mcc': [], 'train_dice': []}\n",
    "    val_metrics = {'val_loss': [], 'val_acc': [], 'val_f1': [], \n",
    "                   'val_mcc': [], 'val_dice': []}\n",
    "    best_mcc = 0.0\n",
    "\n",
    "    # training loop\n",
    "    for epoch in range(1, epochs+1):\n",
    "\n",
    "        # training set\n",
    "        train_loss, train_accuracy, train_f1, train_mcc, train_dice = train_model(\n",
    "            train_dataloader, model, tanimoto_dual, trainer, epoch, args)\n",
    "\n",
    "        # training set metrics\n",
    "        train_loss_avg = train_loss / len(train_dataset)\n",
    "        train_metrics['train_loss'].append(train_loss_avg)\n",
    "        train_metrics['train_acc'].append(train_accuracy.get()[1])\n",
    "        train_metrics['train_f1'].append(train_f1.get()[1])\n",
    "        train_metrics['train_mcc'].append(train_mcc.get()[1])\n",
    "        train_metrics['train_dice'].append(train_dice.get()[1])\n",
    "\n",
    "        # validation set\n",
    "        val_loss, val_accuracy, val_f1, val_mcc, val_dice = evaluate_model(\n",
    "            val_dataloader, model, tanimoto_dual, epoch, args)\n",
    "\n",
    "        # validation set metrics\n",
    "        val_loss_avg = val_loss / len(val_dataset)\n",
    "        val_metrics['val_loss'].append(val_loss_avg)\n",
    "        val_metrics['val_acc'].append(val_accuracy.get()[1])\n",
    "        val_metrics['val_f1'].append(val_f1.get()[1])\n",
    "        val_metrics['val_mcc'].append(val_mcc.get()[1])\n",
    "        val_metrics['val_dice'].append(val_dice.get()[1])\n",
    "\n",
    "        print(\"Epoch {}:\".format(epoch))\n",
    "        print(\"    Train loss {:0.3f}, accuracy {:0.3f}, F1-score {:0.3f}, MCC: {:0.3f}, Dice: {:0.3f}\".format(\n",
    "            train_loss_avg, train_accuracy.get()[1], train_f1.get()[1], train_mcc.get()[1], train_dice.get()[1]))\n",
    "        print(\"    Val loss {:0.3f}, accuracy {:0.3f}, F1-score {:0.3f}, MCC: {:0.3f}, Dice: {:0.3f}\".format(\n",
    "            val_loss_avg, val_accuracy.get()[1], val_f1.get()[1], val_mcc.get()[1], val_dice.get()[1]))\n",
    "\n",
    "        # save model based on best MCC metric\n",
    "        if val_mcc.get()[1] > best_mcc:\n",
    "            model.save_parameters(save_model_name)\n",
    "            best_mcc = val_mcc.get()[1]\n",
    "\n",
    "        # save metrics\n",
    "        metrics = pd.concat([pd.DataFrame(train_metrics), pd.DataFrame(val_metrics)], axis=1)\n",
    "        metrics.to_csv(os.path.join(save_path, 'metrics.csv'), index=False)\n",
    "\n",
    "        # visdom\n",
    "        vis.line(Y=np.stack([train_metrics['train_loss'], val_metrics['val_loss']], axis=1), \n",
    "                 X=np.arange(1, epoch+1), win=\"Loss\", \n",
    "                 opts=dict(legend=['train loss', 'val loss'], markers=False, title=\"Losses\",\n",
    "                           xlabel=\"Epoch\", ylabel=\"Loss\")\n",
    "                )\n",
    "        vis.line(Y=np.stack([train_metrics['train_mcc'], val_metrics['val_mcc']], axis=1), \n",
    "                 X=np.arange(1, epoch+1), win=\"MCC\", \n",
    "                 opts=dict(legend=['train MCC', 'val MCC'], markers=False, title=\"MCC\",\n",
    "                           xlabel=\"Epoch\", ylabel=\"MCC\")\n",
    "                )\n"
   ]
  },
  {
   "cell_type": "markdown",
   "metadata": {},
   "source": [
    "### Run on 1x-3x downsampled Airbus imagery"
   ]
  },
  {
   "cell_type": "code",
   "execution_count": null,
   "metadata": {},
   "outputs": [
    {
     "name": "stdout",
     "output_type": "stream",
     "text": [
      "depth:= 0, nfilters: 32, nheads::8, widths::1\n",
      "depth:= 1, nfilters: 64, nheads::16, widths::1\n",
      "depth:= 2, nfilters: 128, nheads::32, widths::1\n",
      "depth:= 3, nfilters: 256, nheads::64, widths::1\n",
      "depth:= 4, nfilters: 512, nheads::128, widths::1\n",
      "depth:= 5, nfilters: 1024, nheads::256, widths::1\n",
      "depth:= 6, nfilters: 512, nheads::256, widths::1\n",
      "depth:= 7, nfilters: 256, nheads::128, widths::1\n",
      "depth:= 8, nfilters: 128, nheads::64, widths::1\n",
      "depth:= 9, nfilters: 64, nheads::32, widths::1\n",
      "depth:= 10, nfilters: 32, nheads::16, widths::1\n"
     ]
    },
    {
     "name": "stderr",
     "output_type": "stream",
     "text": [
      "Setting up a new session...\n",
      "Training epoch 1: 100%|██████████| 769/769 [17:15<00:00,  1.35s/it]\n",
      "Validation epoch 1: 100%|██████████| 180/180 [03:11<00:00,  1.07s/it]\n"
     ]
    },
    {
     "name": "stdout",
     "output_type": "stream",
     "text": [
      "Epoch 1:\n",
      "    Train loss 0.255, accuracy 0.880, F1-score 0.919, MCC: 0.505, Dice: 0.919\n",
      "    Val loss 0.222, accuracy 0.905, F1-score 0.936, MCC: 0.549, Dice: 0.936\n"
     ]
    },
    {
     "name": "stderr",
     "output_type": "stream",
     "text": [
      "Training epoch 2: 100%|██████████| 769/769 [19:31<00:00,  1.52s/it]\n",
      "Validation epoch 2: 100%|██████████| 180/180 [02:51<00:00,  1.05it/s]\n"
     ]
    },
    {
     "name": "stdout",
     "output_type": "stream",
     "text": [
      "Epoch 2:\n",
      "    Train loss 0.243, accuracy 0.885, F1-score 0.921, MCC: 0.523, Dice: 0.921\n",
      "    Val loss 0.219, accuracy 0.902, F1-score 0.934, MCC: 0.563, Dice: 0.934\n"
     ]
    },
    {
     "name": "stderr",
     "output_type": "stream",
     "text": [
      "Training epoch 3: 100%|██████████| 769/769 [18:02<00:00,  1.41s/it]\n",
      "Validation epoch 3: 100%|██████████| 180/180 [03:04<00:00,  1.03s/it]\n"
     ]
    },
    {
     "name": "stdout",
     "output_type": "stream",
     "text": [
      "Epoch 3:\n",
      "    Train loss 0.239, accuracy 0.884, F1-score 0.922, MCC: 0.526, Dice: 0.922\n",
      "    Val loss 0.216, accuracy 0.899, F1-score 0.932, MCC: 0.566, Dice: 0.932\n"
     ]
    },
    {
     "name": "stderr",
     "output_type": "stream",
     "text": [
      "Training epoch 4:   5%|▍         | 37/769 [00:54<18:09,  1.49s/it]"
     ]
    }
   ],
   "source": [
    "# ============================ #\n",
    "# user-specified hyperparameters\n",
    "# ============================ #\n",
    "country = 'india'\n",
    "epochs = 100\n",
    "lr = 0.001\n",
    "lr_decay = None\n",
    "n_filters = 32\n",
    "depth = 6\n",
    "n_classes = 1\n",
    "batch_size = 5\n",
    "model_type = 'fractal-resunet' # 'resunet-d6'\n",
    "month = 'all13'\n",
    "codes_to_keep = [1]\n",
    "ctx_name = 'gpu'\n",
    "gpu_id = 0\n",
    "boundary_kernel_size = (2,2)\n",
    "\n",
    "trained_model = '../experiments/partial-france/fractal-resunet_3month-separate_nfilter-32_depth-6_bs-8_lr-0.001_2x-3x-downsampled_allfields_n6759/model.params'\n",
    "# trained_model = '../experiments/india/fractal-resunet_Airbus_nfilter-32_depth-6_bs-5_lr-0.001_3x-downsampled-erosion2px_n200_fromscratch/model.params'\n",
    "# trained_model = None§\n",
    "\n",
    "folder_suffix = '_1x-3x-downsampled-erosion2px'\n",
    "if trained_model is None:\n",
    "    folder_suffix += '_fromscratch'\n",
    "elif 'india' in trained_model:\n",
    "    folder_suffix += '_fromscratch-continued'\n",
    "elif 'france' in trained_model:\n",
    "    folder_suffix += '_finetuned'\n",
    "    \n",
    "month_name = 'Airbus'\n",
    "splits_path = '../data/splits/india_planetImagery_splits_20x20_v2.csv'\n",
    "splits_df = pd.read_csv(splits_path, dtype=str)\n",
    "splits_df['image_id'] = splits_df['image_id'].str.zfill(4)\n",
    "splits_df = splits_df.drop_duplicates('image_id')\n",
    "\n",
    "# get all img and labels\n",
    "all_img_names = []\n",
    "all_label_names = []\n",
    "img_dirs = ['../data/general_blockchain/airbus_false_color/large/original/',\n",
    "            '../data/general_blockchain/airbus_false_color/large/2x_downsample/',\n",
    "            '../data/general_blockchain/airbus_false_color/large/3x_downsample/']\n",
    "label_dirs = ['../data/general_blockchain/airbus_labels/large/original/',\n",
    "              '../data/general_blockchain/airbus_labels/large/2x_downsample_erosion1px/',\n",
    "              '../data/general_blockchain/airbus_labels/large/3x_downsample_erosion2px/']\n",
    "\n",
    "for img_dir, label_dir in zip(img_dirs, label_dirs):\n",
    "    label_folder_imgs = sorted(os.listdir(label_dir))\n",
    "    for label_name in label_folder_imgs:\n",
    "        img_name = 'airbus_geowiki_' + label_name.split('_')[-1].split('.')[0] + '.png'\n",
    "        img_path = os.path.join(img_dir, img_name)\n",
    "        all_img_names.append(img_path)\n",
    "        label_path = os.path.join(label_dir, label_name)\n",
    "        all_label_names.append(label_path)\n",
    "    \n",
    "# split imgs and labels into train/val/test\n",
    "all_images = pd.DataFrame({'img_path': all_img_names})\n",
    "all_images['image_id'] = all_images['img_path'].str.split('/').apply(\n",
    "    lambda x: x[-1]).str.split('.').apply(\n",
    "    lambda x: x[0]).str.split('_').apply(\n",
    "    lambda x: x[-1][1:])\n",
    "all_images = all_images.merge(splits_df[['image_id', 'fold']], on='image_id', how='left')\n",
    "train_names = all_images[all_images['fold'] == 'train']['img_path'].values\n",
    "val_names = all_images[all_images['fold'] == 'val']['img_path'].values\n",
    "test_names = all_images[all_images['fold'] == 'test']['img_path'].values\n",
    "\n",
    "all_labels = pd.DataFrame({'label_path': all_label_names})\n",
    "all_labels['image_id'] = all_labels['label_path'].str.split('/').apply(\n",
    "    lambda x: x[-1]).str.split('.').apply(\n",
    "    lambda x: x[0]).str.split('_').apply(\n",
    "    lambda x: x[-1][1:])\n",
    "all_labels = all_labels.merge(splits_df[['image_id', 'fold']], on='image_id', how='left')\n",
    "train_names_label = all_labels[all_labels['fold'] == 'train']['label_path'].values\n",
    "val_names_label = all_labels[all_labels['fold'] == 'val']['label_path'].values\n",
    "test_names_label = all_labels[all_labels['fold'] == 'test']['label_path'].values\n",
    "\n",
    "# ============================ #\n",
    "\n",
    "run_africa(country, train_names, val_names, test_names,\n",
    "           train_names_label, val_names_label, test_names_label,\n",
    "           trained_model=trained_model,\n",
    "           epochs=epochs, lr=lr, lr_decay=lr_decay, \n",
    "           model_type=model_type, n_filters=n_filters, depth=depth, n_classes=n_classes,\n",
    "           batch_size=batch_size, month=month_name,\n",
    "           codes_to_keep=codes_to_keep, \n",
    "           ctx_name=ctx_name,\n",
    "           gpu_id=gpu_id, \n",
    "           folder_suffix=folder_suffix,\n",
    "           boundary_kernel_size=boundary_kernel_size)"
   ]
  },
  {
   "cell_type": "markdown",
   "metadata": {},
   "source": [
    "### Only 3x downsampled imagery"
   ]
  },
  {
   "cell_type": "code",
   "execution_count": 7,
   "metadata": {
    "scrolled": true
   },
   "outputs": [
    {
     "name": "stdout",
     "output_type": "stream",
     "text": [
      "depth:= 0, nfilters: 32, nheads::8, widths::1\n",
      "depth:= 1, nfilters: 64, nheads::16, widths::1\n",
      "depth:= 2, nfilters: 128, nheads::32, widths::1\n",
      "depth:= 3, nfilters: 256, nheads::64, widths::1\n",
      "depth:= 4, nfilters: 512, nheads::128, widths::1\n",
      "depth:= 5, nfilters: 1024, nheads::256, widths::1\n",
      "depth:= 6, nfilters: 512, nheads::256, widths::1\n",
      "depth:= 7, nfilters: 256, nheads::128, widths::1\n",
      "depth:= 8, nfilters: 128, nheads::64, widths::1\n",
      "depth:= 9, nfilters: 64, nheads::32, widths::1\n",
      "depth:= 10, nfilters: 32, nheads::16, widths::1\n"
     ]
    },
    {
     "name": "stderr",
     "output_type": "stream",
     "text": [
      "Setting up a new session...\n",
      "Training epoch 1: 100%|██████████| 40/40 [00:49<00:00,  1.23s/it]\n",
      "Validation epoch 1: 100%|██████████| 27/27 [00:20<00:00,  1.32it/s]\n"
     ]
    },
    {
     "name": "stdout",
     "output_type": "stream",
     "text": [
      "Epoch 1:\n",
      "    Train loss 0.293, accuracy 0.844, F1-score 0.885, MCC: 0.544, Dice: 0.885\n",
      "    Val loss 0.226, accuracy 0.868, F1-score 0.911, MCC: 0.611, Dice: 0.911\n"
     ]
    },
    {
     "name": "stderr",
     "output_type": "stream",
     "text": [
      "Training epoch 2: 100%|██████████| 40/40 [00:38<00:00,  1.03it/s]\n",
      "Validation epoch 2: 100%|██████████| 27/27 [00:16<00:00,  1.66it/s]\n"
     ]
    },
    {
     "name": "stdout",
     "output_type": "stream",
     "text": [
      "Epoch 2:\n",
      "    Train loss 0.258, accuracy 0.857, F1-score 0.894, MCC: 0.581, Dice: 0.894\n",
      "    Val loss 0.212, accuracy 0.880, F1-score 0.919, MCC: 0.621, Dice: 0.919\n"
     ]
    },
    {
     "name": "stderr",
     "output_type": "stream",
     "text": [
      "Training epoch 3: 100%|██████████| 40/40 [00:39<00:00,  1.02it/s]\n",
      "Validation epoch 3: 100%|██████████| 27/27 [00:15<00:00,  1.71it/s]\n"
     ]
    },
    {
     "name": "stdout",
     "output_type": "stream",
     "text": [
      "Epoch 3:\n",
      "    Train loss 0.240, accuracy 0.870, F1-score 0.905, MCC: 0.611, Dice: 0.905\n",
      "    Val loss 0.212, accuracy 0.887, F1-score 0.924, MCC: 0.633, Dice: 0.924\n"
     ]
    },
    {
     "name": "stderr",
     "output_type": "stream",
     "text": [
      "Training epoch 4: 100%|██████████| 40/40 [00:39<00:00,  1.02it/s]\n",
      "Validation epoch 4: 100%|██████████| 27/27 [00:15<00:00,  1.72it/s]\n",
      "Training epoch 5:   0%|          | 0/40 [00:00<?, ?it/s]"
     ]
    },
    {
     "name": "stdout",
     "output_type": "stream",
     "text": [
      "Epoch 4:\n",
      "    Train loss 0.242, accuracy 0.867, F1-score 0.904, MCC: 0.613, Dice: 0.904\n",
      "    Val loss 0.211, accuracy 0.883, F1-score 0.922, MCC: 0.623, Dice: 0.922\n"
     ]
    },
    {
     "name": "stderr",
     "output_type": "stream",
     "text": [
      "Training epoch 5: 100%|██████████| 40/40 [00:37<00:00,  1.07it/s]\n",
      "Validation epoch 5: 100%|██████████| 27/27 [00:16<00:00,  1.66it/s]\n",
      "Training epoch 6:   0%|          | 0/40 [00:00<?, ?it/s]"
     ]
    },
    {
     "name": "stdout",
     "output_type": "stream",
     "text": [
      "Epoch 5:\n",
      "    Train loss 0.235, accuracy 0.871, F1-score 0.902, MCC: 0.611, Dice: 0.902\n",
      "    Val loss 0.211, accuracy 0.881, F1-score 0.920, MCC: 0.625, Dice: 0.920\n"
     ]
    },
    {
     "name": "stderr",
     "output_type": "stream",
     "text": [
      "Training epoch 6: 100%|██████████| 40/40 [00:37<00:00,  1.07it/s]\n",
      "Validation epoch 6: 100%|██████████| 27/27 [00:16<00:00,  1.65it/s]\n"
     ]
    },
    {
     "name": "stdout",
     "output_type": "stream",
     "text": [
      "Epoch 6:\n",
      "    Train loss 0.237, accuracy 0.870, F1-score 0.904, MCC: 0.614, Dice: 0.904\n",
      "    Val loss 0.205, accuracy 0.883, F1-score 0.921, MCC: 0.637, Dice: 0.921\n"
     ]
    },
    {
     "name": "stderr",
     "output_type": "stream",
     "text": [
      "Training epoch 7: 100%|██████████| 40/40 [00:38<00:00,  1.05it/s]\n",
      "Validation epoch 7: 100%|██████████| 27/27 [00:15<00:00,  1.74it/s]\n"
     ]
    },
    {
     "name": "stdout",
     "output_type": "stream",
     "text": [
      "Epoch 7:\n",
      "    Train loss 0.236, accuracy 0.866, F1-score 0.905, MCC: 0.611, Dice: 0.905\n",
      "    Val loss 0.210, accuracy 0.881, F1-score 0.921, MCC: 0.637, Dice: 0.921\n"
     ]
    },
    {
     "name": "stderr",
     "output_type": "stream",
     "text": [
      "Training epoch 8: 100%|██████████| 40/40 [00:37<00:00,  1.07it/s]\n",
      "Validation epoch 8: 100%|██████████| 27/27 [00:16<00:00,  1.68it/s]\n",
      "Training epoch 9:   0%|          | 0/40 [00:00<?, ?it/s]"
     ]
    },
    {
     "name": "stdout",
     "output_type": "stream",
     "text": [
      "Epoch 8:\n",
      "    Train loss 0.231, accuracy 0.875, F1-score 0.906, MCC: 0.618, Dice: 0.906\n",
      "    Val loss 0.202, accuracy 0.878, F1-score 0.919, MCC: 0.635, Dice: 0.919\n"
     ]
    },
    {
     "name": "stderr",
     "output_type": "stream",
     "text": [
      "Training epoch 9: 100%|██████████| 40/40 [00:38<00:00,  1.04it/s]\n",
      "Validation epoch 9: 100%|██████████| 27/27 [00:15<00:00,  1.77it/s]\n"
     ]
    },
    {
     "name": "stdout",
     "output_type": "stream",
     "text": [
      "Epoch 9:\n",
      "    Train loss 0.227, accuracy 0.873, F1-score 0.907, MCC: 0.623, Dice: 0.907\n",
      "    Val loss 0.198, accuracy 0.883, F1-score 0.923, MCC: 0.644, Dice: 0.923\n"
     ]
    },
    {
     "name": "stderr",
     "output_type": "stream",
     "text": [
      "Training epoch 10: 100%|██████████| 40/40 [00:38<00:00,  1.05it/s]\n",
      "Validation epoch 10: 100%|██████████| 27/27 [00:16<00:00,  1.61it/s]\n",
      "Training epoch 11:   0%|          | 0/40 [00:00<?, ?it/s]"
     ]
    },
    {
     "name": "stdout",
     "output_type": "stream",
     "text": [
      "Epoch 10:\n",
      "    Train loss 0.231, accuracy 0.872, F1-score 0.903, MCC: 0.615, Dice: 0.903\n",
      "    Val loss 0.202, accuracy 0.880, F1-score 0.920, MCC: 0.634, Dice: 0.920\n"
     ]
    },
    {
     "name": "stderr",
     "output_type": "stream",
     "text": [
      "Training epoch 11: 100%|██████████| 40/40 [00:38<00:00,  1.03it/s]\n",
      "Validation epoch 11: 100%|██████████| 27/27 [00:17<00:00,  1.56it/s]\n"
     ]
    },
    {
     "name": "stdout",
     "output_type": "stream",
     "text": [
      "Epoch 11:\n",
      "    Train loss 0.227, accuracy 0.873, F1-score 0.906, MCC: 0.628, Dice: 0.906\n",
      "    Val loss 0.193, accuracy 0.886, F1-score 0.924, MCC: 0.650, Dice: 0.924\n"
     ]
    },
    {
     "name": "stderr",
     "output_type": "stream",
     "text": [
      "Training epoch 12: 100%|██████████| 40/40 [00:40<00:00,  1.02s/it]\n",
      "Validation epoch 12: 100%|██████████| 27/27 [00:16<00:00,  1.67it/s]\n",
      "Training epoch 13:   0%|          | 0/40 [00:00<?, ?it/s]"
     ]
    },
    {
     "name": "stdout",
     "output_type": "stream",
     "text": [
      "Epoch 12:\n",
      "    Train loss 0.225, accuracy 0.878, F1-score 0.911, MCC: 0.638, Dice: 0.911\n",
      "    Val loss 0.195, accuracy 0.886, F1-score 0.924, MCC: 0.648, Dice: 0.924\n"
     ]
    },
    {
     "name": "stderr",
     "output_type": "stream",
     "text": [
      "Training epoch 13: 100%|██████████| 40/40 [00:40<00:00,  1.01s/it]\n",
      "Validation epoch 13: 100%|██████████| 27/27 [00:17<00:00,  1.58it/s]\n",
      "Training epoch 14:   0%|          | 0/40 [00:00<?, ?it/s]"
     ]
    },
    {
     "name": "stdout",
     "output_type": "stream",
     "text": [
      "Epoch 13:\n",
      "    Train loss 0.220, accuracy 0.875, F1-score 0.910, MCC: 0.637, Dice: 0.910\n",
      "    Val loss 0.197, accuracy 0.886, F1-score 0.924, MCC: 0.649, Dice: 0.924\n"
     ]
    },
    {
     "name": "stderr",
     "output_type": "stream",
     "text": [
      "Training epoch 14: 100%|██████████| 40/40 [00:39<00:00,  1.02it/s]\n",
      "Validation epoch 14: 100%|██████████| 27/27 [00:15<00:00,  1.71it/s]\n",
      "Training epoch 15:   0%|          | 0/40 [00:00<?, ?it/s]"
     ]
    },
    {
     "name": "stdout",
     "output_type": "stream",
     "text": [
      "Epoch 14:\n",
      "    Train loss 0.218, accuracy 0.878, F1-score 0.908, MCC: 0.633, Dice: 0.908\n",
      "    Val loss 0.202, accuracy 0.887, F1-score 0.924, MCC: 0.640, Dice: 0.924\n"
     ]
    },
    {
     "name": "stderr",
     "output_type": "stream",
     "text": [
      "Training epoch 15: 100%|██████████| 40/40 [00:40<00:00,  1.01s/it]\n",
      "Validation epoch 15: 100%|██████████| 27/27 [00:18<00:00,  1.49it/s]\n",
      "Training epoch 16:   0%|          | 0/40 [00:00<?, ?it/s]"
     ]
    },
    {
     "name": "stdout",
     "output_type": "stream",
     "text": [
      "Epoch 15:\n",
      "    Train loss 0.216, accuracy 0.880, F1-score 0.912, MCC: 0.639, Dice: 0.912\n",
      "    Val loss 0.199, accuracy 0.880, F1-score 0.921, MCC: 0.638, Dice: 0.921\n"
     ]
    },
    {
     "name": "stderr",
     "output_type": "stream",
     "text": [
      "Training epoch 16: 100%|██████████| 40/40 [00:40<00:00,  1.00s/it]\n",
      "Validation epoch 16: 100%|██████████| 27/27 [00:17<00:00,  1.56it/s]\n",
      "Training epoch 17:   0%|          | 0/40 [00:00<?, ?it/s]"
     ]
    },
    {
     "name": "stdout",
     "output_type": "stream",
     "text": [
      "Epoch 16:\n",
      "    Train loss 0.223, accuracy 0.878, F1-score 0.912, MCC: 0.638, Dice: 0.912\n",
      "    Val loss 0.200, accuracy 0.886, F1-score 0.923, MCC: 0.646, Dice: 0.923\n"
     ]
    },
    {
     "name": "stderr",
     "output_type": "stream",
     "text": [
      "Training epoch 17: 100%|██████████| 40/40 [00:39<00:00,  1.03it/s]\n",
      "Validation epoch 17: 100%|██████████| 27/27 [00:15<00:00,  1.69it/s]\n",
      "Training epoch 18:   0%|          | 0/40 [00:00<?, ?it/s]"
     ]
    },
    {
     "name": "stdout",
     "output_type": "stream",
     "text": [
      "Epoch 17:\n",
      "    Train loss 0.219, accuracy 0.880, F1-score 0.915, MCC: 0.643, Dice: 0.915\n",
      "    Val loss 0.202, accuracy 0.879, F1-score 0.920, MCC: 0.632, Dice: 0.920\n"
     ]
    },
    {
     "name": "stderr",
     "output_type": "stream",
     "text": [
      "Training epoch 18: 100%|██████████| 40/40 [00:39<00:00,  1.01it/s]\n",
      "Validation epoch 18: 100%|██████████| 27/27 [00:15<00:00,  1.71it/s]\n",
      "Training epoch 19:   0%|          | 0/40 [00:00<?, ?it/s]"
     ]
    },
    {
     "name": "stdout",
     "output_type": "stream",
     "text": [
      "Epoch 18:\n",
      "    Train loss 0.216, accuracy 0.881, F1-score 0.912, MCC: 0.648, Dice: 0.912\n",
      "    Val loss 0.200, accuracy 0.880, F1-score 0.921, MCC: 0.643, Dice: 0.921\n"
     ]
    },
    {
     "name": "stderr",
     "output_type": "stream",
     "text": [
      "Training epoch 19: 100%|██████████| 40/40 [00:39<00:00,  1.01it/s]\n",
      "Validation epoch 19: 100%|██████████| 27/27 [00:16<00:00,  1.59it/s]\n",
      "Training epoch 20:   0%|          | 0/40 [00:00<?, ?it/s]"
     ]
    },
    {
     "name": "stdout",
     "output_type": "stream",
     "text": [
      "Epoch 19:\n",
      "    Train loss 0.212, accuracy 0.883, F1-score 0.911, MCC: 0.650, Dice: 0.911\n",
      "    Val loss 0.199, accuracy 0.881, F1-score 0.920, MCC: 0.643, Dice: 0.920\n"
     ]
    },
    {
     "name": "stderr",
     "output_type": "stream",
     "text": [
      "Training epoch 20: 100%|██████████| 40/40 [00:37<00:00,  1.07it/s]\n",
      "Validation epoch 20: 100%|██████████| 27/27 [00:16<00:00,  1.68it/s]\n"
     ]
    },
    {
     "name": "stdout",
     "output_type": "stream",
     "text": [
      "Epoch 20:\n",
      "    Train loss 0.219, accuracy 0.879, F1-score 0.911, MCC: 0.639, Dice: 0.911\n",
      "    Val loss 0.194, accuracy 0.889, F1-score 0.926, MCC: 0.652, Dice: 0.926\n"
     ]
    },
    {
     "name": "stderr",
     "output_type": "stream",
     "text": [
      "Training epoch 21: 100%|██████████| 40/40 [00:37<00:00,  1.06it/s]\n",
      "Validation epoch 21: 100%|██████████| 27/27 [00:16<00:00,  1.62it/s]\n",
      "Training epoch 22:   0%|          | 0/40 [00:00<?, ?it/s]"
     ]
    },
    {
     "name": "stdout",
     "output_type": "stream",
     "text": [
      "Epoch 21:\n",
      "    Train loss 0.216, accuracy 0.879, F1-score 0.910, MCC: 0.644, Dice: 0.910\n",
      "    Val loss 0.199, accuracy 0.884, F1-score 0.921, MCC: 0.644, Dice: 0.921\n"
     ]
    },
    {
     "name": "stderr",
     "output_type": "stream",
     "text": [
      "Training epoch 22: 100%|██████████| 40/40 [00:37<00:00,  1.07it/s]\n",
      "Validation epoch 22: 100%|██████████| 27/27 [00:17<00:00,  1.54it/s]\n",
      "Training epoch 23:   0%|          | 0/40 [00:00<?, ?it/s]"
     ]
    },
    {
     "name": "stdout",
     "output_type": "stream",
     "text": [
      "Epoch 22:\n",
      "    Train loss 0.205, accuracy 0.883, F1-score 0.915, MCC: 0.658, Dice: 0.915\n",
      "    Val loss 0.194, accuracy 0.888, F1-score 0.924, MCC: 0.651, Dice: 0.924\n"
     ]
    },
    {
     "name": "stderr",
     "output_type": "stream",
     "text": [
      "Training epoch 23: 100%|██████████| 40/40 [00:39<00:00,  1.01it/s]\n",
      "Validation epoch 23: 100%|██████████| 27/27 [00:16<00:00,  1.60it/s]\n",
      "Training epoch 24:   0%|          | 0/40 [00:00<?, ?it/s]"
     ]
    },
    {
     "name": "stdout",
     "output_type": "stream",
     "text": [
      "Epoch 23:\n",
      "    Train loss 0.211, accuracy 0.884, F1-score 0.916, MCC: 0.654, Dice: 0.916\n",
      "    Val loss 0.204, accuracy 0.885, F1-score 0.923, MCC: 0.637, Dice: 0.923\n"
     ]
    },
    {
     "name": "stderr",
     "output_type": "stream",
     "text": [
      "Training epoch 24: 100%|██████████| 40/40 [00:39<00:00,  1.02it/s]\n",
      "Validation epoch 24: 100%|██████████| 27/27 [00:16<00:00,  1.61it/s]\n"
     ]
    },
    {
     "name": "stdout",
     "output_type": "stream",
     "text": [
      "Epoch 24:\n",
      "    Train loss 0.214, accuracy 0.879, F1-score 0.913, MCC: 0.645, Dice: 0.913\n",
      "    Val loss 0.201, accuracy 0.885, F1-score 0.925, MCC: 0.654, Dice: 0.925\n"
     ]
    },
    {
     "name": "stderr",
     "output_type": "stream",
     "text": [
      "Training epoch 25: 100%|██████████| 40/40 [00:40<00:00,  1.01s/it]\n",
      "Validation epoch 25: 100%|██████████| 27/27 [00:17<00:00,  1.53it/s]\n",
      "Training epoch 26:   0%|          | 0/40 [00:00<?, ?it/s]"
     ]
    },
    {
     "name": "stdout",
     "output_type": "stream",
     "text": [
      "Epoch 25:\n",
      "    Train loss 0.209, accuracy 0.882, F1-score 0.914, MCC: 0.651, Dice: 0.914\n",
      "    Val loss 0.202, accuracy 0.886, F1-score 0.923, MCC: 0.645, Dice: 0.923\n"
     ]
    },
    {
     "name": "stderr",
     "output_type": "stream",
     "text": [
      "Training epoch 26: 100%|██████████| 40/40 [00:39<00:00,  1.01it/s]\n",
      "Validation epoch 26: 100%|██████████| 27/27 [00:17<00:00,  1.58it/s]\n",
      "Training epoch 27:   0%|          | 0/40 [00:00<?, ?it/s]"
     ]
    },
    {
     "name": "stdout",
     "output_type": "stream",
     "text": [
      "Epoch 26:\n",
      "    Train loss 0.207, accuracy 0.884, F1-score 0.916, MCC: 0.658, Dice: 0.916\n",
      "    Val loss 0.201, accuracy 0.882, F1-score 0.921, MCC: 0.645, Dice: 0.921\n"
     ]
    },
    {
     "name": "stderr",
     "output_type": "stream",
     "text": [
      "Training epoch 27: 100%|██████████| 40/40 [00:38<00:00,  1.03it/s]\n",
      "Validation epoch 27: 100%|██████████| 27/27 [00:15<00:00,  1.79it/s]\n",
      "Training epoch 28:   0%|          | 0/40 [00:00<?, ?it/s]"
     ]
    },
    {
     "name": "stdout",
     "output_type": "stream",
     "text": [
      "Epoch 27:\n",
      "    Train loss 0.214, accuracy 0.884, F1-score 0.916, MCC: 0.654, Dice: 0.916\n",
      "    Val loss 0.197, accuracy 0.875, F1-score 0.919, MCC: 0.643, Dice: 0.919\n"
     ]
    },
    {
     "name": "stderr",
     "output_type": "stream",
     "text": [
      "Training epoch 28: 100%|██████████| 40/40 [00:38<00:00,  1.03it/s]\n",
      "Validation epoch 28: 100%|██████████| 27/27 [00:16<00:00,  1.66it/s]\n",
      "Training epoch 29:   0%|          | 0/40 [00:00<?, ?it/s]"
     ]
    },
    {
     "name": "stdout",
     "output_type": "stream",
     "text": [
      "Epoch 28:\n",
      "    Train loss 0.210, accuracy 0.882, F1-score 0.914, MCC: 0.655, Dice: 0.914\n",
      "    Val loss 0.197, accuracy 0.881, F1-score 0.922, MCC: 0.647, Dice: 0.922\n"
     ]
    },
    {
     "name": "stderr",
     "output_type": "stream",
     "text": [
      "Training epoch 29: 100%|██████████| 40/40 [00:40<00:00,  1.01s/it]\n",
      "Validation epoch 29: 100%|██████████| 27/27 [00:16<00:00,  1.61it/s]\n",
      "Training epoch 30:   0%|          | 0/40 [00:00<?, ?it/s]"
     ]
    },
    {
     "name": "stdout",
     "output_type": "stream",
     "text": [
      "Epoch 29:\n",
      "    Train loss 0.211, accuracy 0.886, F1-score 0.918, MCC: 0.666, Dice: 0.918\n",
      "    Val loss 0.202, accuracy 0.888, F1-score 0.927, MCC: 0.627, Dice: 0.927\n"
     ]
    },
    {
     "name": "stderr",
     "output_type": "stream",
     "text": [
      "Training epoch 30: 100%|██████████| 40/40 [00:40<00:00,  1.02s/it]\n",
      "Validation epoch 30: 100%|██████████| 27/27 [00:18<00:00,  1.48it/s]\n",
      "Training epoch 31:   0%|          | 0/40 [00:00<?, ?it/s]"
     ]
    },
    {
     "name": "stdout",
     "output_type": "stream",
     "text": [
      "Epoch 30:\n",
      "    Train loss 0.206, accuracy 0.885, F1-score 0.912, MCC: 0.654, Dice: 0.912\n",
      "    Val loss 0.201, accuracy 0.881, F1-score 0.922, MCC: 0.637, Dice: 0.922\n"
     ]
    },
    {
     "name": "stderr",
     "output_type": "stream",
     "text": [
      "Training epoch 31: 100%|██████████| 40/40 [00:40<00:00,  1.01s/it]\n",
      "Validation epoch 31: 100%|██████████| 27/27 [00:16<00:00,  1.65it/s]\n",
      "Training epoch 32:   0%|          | 0/40 [00:00<?, ?it/s]"
     ]
    },
    {
     "name": "stdout",
     "output_type": "stream",
     "text": [
      "Epoch 31:\n",
      "    Train loss 0.209, accuracy 0.881, F1-score 0.913, MCC: 0.655, Dice: 0.913\n",
      "    Val loss 0.201, accuracy 0.883, F1-score 0.923, MCC: 0.627, Dice: 0.923\n"
     ]
    },
    {
     "name": "stderr",
     "output_type": "stream",
     "text": [
      "Training epoch 32: 100%|██████████| 40/40 [00:40<00:00,  1.02s/it]\n",
      "Validation epoch 32: 100%|██████████| 27/27 [00:17<00:00,  1.55it/s]\n",
      "Training epoch 33:   0%|          | 0/40 [00:00<?, ?it/s]"
     ]
    },
    {
     "name": "stdout",
     "output_type": "stream",
     "text": [
      "Epoch 32:\n",
      "    Train loss 0.209, accuracy 0.882, F1-score 0.916, MCC: 0.652, Dice: 0.916\n",
      "    Val loss 0.206, accuracy 0.884, F1-score 0.923, MCC: 0.646, Dice: 0.923\n"
     ]
    },
    {
     "name": "stderr",
     "output_type": "stream",
     "text": [
      "Training epoch 33: 100%|██████████| 40/40 [00:40<00:00,  1.00s/it]\n",
      "Validation epoch 33: 100%|██████████| 27/27 [00:17<00:00,  1.53it/s]\n",
      "Training epoch 34:   0%|          | 0/40 [00:00<?, ?it/s]"
     ]
    },
    {
     "name": "stdout",
     "output_type": "stream",
     "text": [
      "Epoch 33:\n",
      "    Train loss 0.213, accuracy 0.885, F1-score 0.912, MCC: 0.652, Dice: 0.912\n",
      "    Val loss 0.201, accuracy 0.884, F1-score 0.922, MCC: 0.633, Dice: 0.922\n"
     ]
    },
    {
     "name": "stderr",
     "output_type": "stream",
     "text": [
      "Training epoch 34: 100%|██████████| 40/40 [00:39<00:00,  1.02it/s]\n",
      "Validation epoch 34: 100%|██████████| 27/27 [00:17<00:00,  1.58it/s]\n",
      "Training epoch 35:   0%|          | 0/40 [00:00<?, ?it/s]"
     ]
    },
    {
     "name": "stdout",
     "output_type": "stream",
     "text": [
      "Epoch 34:\n",
      "    Train loss 0.206, accuracy 0.883, F1-score 0.916, MCC: 0.658, Dice: 0.916\n",
      "    Val loss 0.197, accuracy 0.886, F1-score 0.925, MCC: 0.646, Dice: 0.925\n"
     ]
    },
    {
     "name": "stderr",
     "output_type": "stream",
     "text": [
      "Training epoch 35: 100%|██████████| 40/40 [00:40<00:00,  1.01s/it]\n",
      "Validation epoch 35: 100%|██████████| 27/27 [00:15<00:00,  1.71it/s]\n",
      "Training epoch 36:   0%|          | 0/40 [00:00<?, ?it/s]"
     ]
    },
    {
     "name": "stdout",
     "output_type": "stream",
     "text": [
      "Epoch 35:\n",
      "    Train loss 0.208, accuracy 0.884, F1-score 0.914, MCC: 0.655, Dice: 0.914\n",
      "    Val loss 0.197, accuracy 0.887, F1-score 0.925, MCC: 0.645, Dice: 0.925\n"
     ]
    },
    {
     "name": "stderr",
     "output_type": "stream",
     "text": [
      "Training epoch 36: 100%|██████████| 40/40 [00:37<00:00,  1.07it/s]\n",
      "Validation epoch 36: 100%|██████████| 27/27 [00:15<00:00,  1.73it/s]\n",
      "Training epoch 37:   0%|          | 0/40 [00:00<?, ?it/s]"
     ]
    },
    {
     "name": "stdout",
     "output_type": "stream",
     "text": [
      "Epoch 36:\n",
      "    Train loss 0.210, accuracy 0.886, F1-score 0.913, MCC: 0.661, Dice: 0.913\n",
      "    Val loss 0.203, accuracy 0.880, F1-score 0.920, MCC: 0.635, Dice: 0.920\n"
     ]
    },
    {
     "name": "stderr",
     "output_type": "stream",
     "text": [
      "Training epoch 37: 100%|██████████| 40/40 [00:37<00:00,  1.07it/s]\n",
      "Validation epoch 37: 100%|██████████| 27/27 [00:16<00:00,  1.67it/s]\n",
      "Training epoch 38:   0%|          | 0/40 [00:00<?, ?it/s]"
     ]
    },
    {
     "name": "stdout",
     "output_type": "stream",
     "text": [
      "Epoch 37:\n",
      "    Train loss 0.205, accuracy 0.885, F1-score 0.916, MCC: 0.664, Dice: 0.916\n",
      "    Val loss 0.198, accuracy 0.887, F1-score 0.924, MCC: 0.643, Dice: 0.924\n"
     ]
    },
    {
     "name": "stderr",
     "output_type": "stream",
     "text": [
      "Training epoch 38: 100%|██████████| 40/40 [00:38<00:00,  1.04it/s]\n",
      "Validation epoch 38: 100%|██████████| 27/27 [00:15<00:00,  1.72it/s]\n",
      "Training epoch 39:   0%|          | 0/40 [00:00<?, ?it/s]"
     ]
    },
    {
     "name": "stdout",
     "output_type": "stream",
     "text": [
      "Epoch 38:\n",
      "    Train loss 0.206, accuracy 0.887, F1-score 0.911, MCC: 0.654, Dice: 0.911\n",
      "    Val loss 0.201, accuracy 0.872, F1-score 0.915, MCC: 0.629, Dice: 0.915\n"
     ]
    },
    {
     "name": "stderr",
     "output_type": "stream",
     "text": [
      "Training epoch 39: 100%|██████████| 40/40 [00:38<00:00,  1.05it/s]\n",
      "Validation epoch 39: 100%|██████████| 27/27 [00:15<00:00,  1.79it/s]\n",
      "Training epoch 40:   0%|          | 0/40 [00:00<?, ?it/s]"
     ]
    },
    {
     "name": "stdout",
     "output_type": "stream",
     "text": [
      "Epoch 39:\n",
      "    Train loss 0.203, accuracy 0.888, F1-score 0.917, MCC: 0.667, Dice: 0.917\n",
      "    Val loss 0.205, accuracy 0.884, F1-score 0.923, MCC: 0.625, Dice: 0.923\n"
     ]
    },
    {
     "name": "stderr",
     "output_type": "stream",
     "text": [
      "Training epoch 40: 100%|██████████| 40/40 [00:38<00:00,  1.04it/s]\n",
      "Validation epoch 40: 100%|██████████| 27/27 [00:15<00:00,  1.77it/s]\n",
      "Training epoch 41:   0%|          | 0/40 [00:00<?, ?it/s]"
     ]
    },
    {
     "name": "stdout",
     "output_type": "stream",
     "text": [
      "Epoch 40:\n",
      "    Train loss 0.208, accuracy 0.884, F1-score 0.912, MCC: 0.654, Dice: 0.912\n",
      "    Val loss 0.207, accuracy 0.877, F1-score 0.920, MCC: 0.625, Dice: 0.920\n"
     ]
    },
    {
     "name": "stderr",
     "output_type": "stream",
     "text": [
      "Training epoch 41: 100%|██████████| 40/40 [00:38<00:00,  1.05it/s]\n",
      "Validation epoch 41: 100%|██████████| 27/27 [00:15<00:00,  1.77it/s]\n",
      "Training epoch 42:   0%|          | 0/40 [00:00<?, ?it/s]"
     ]
    },
    {
     "name": "stdout",
     "output_type": "stream",
     "text": [
      "Epoch 41:\n",
      "    Train loss 0.200, accuracy 0.889, F1-score 0.917, MCC: 0.664, Dice: 0.917\n",
      "    Val loss 0.202, accuracy 0.880, F1-score 0.921, MCC: 0.638, Dice: 0.921\n"
     ]
    },
    {
     "name": "stderr",
     "output_type": "stream",
     "text": [
      "Training epoch 42: 100%|██████████| 40/40 [00:38<00:00,  1.05it/s]\n",
      "Validation epoch 42: 100%|██████████| 27/27 [00:15<00:00,  1.73it/s]\n",
      "Training epoch 43:   0%|          | 0/40 [00:00<?, ?it/s]"
     ]
    },
    {
     "name": "stdout",
     "output_type": "stream",
     "text": [
      "Epoch 42:\n",
      "    Train loss 0.209, accuracy 0.882, F1-score 0.913, MCC: 0.649, Dice: 0.913\n",
      "    Val loss 0.203, accuracy 0.883, F1-score 0.923, MCC: 0.634, Dice: 0.923\n"
     ]
    },
    {
     "name": "stderr",
     "output_type": "stream",
     "text": [
      "Training epoch 43: 100%|██████████| 40/40 [00:38<00:00,  1.05it/s]\n",
      "Validation epoch 43: 100%|██████████| 27/27 [00:15<00:00,  1.73it/s]\n",
      "Training epoch 44:   0%|          | 0/40 [00:00<?, ?it/s]"
     ]
    },
    {
     "name": "stdout",
     "output_type": "stream",
     "text": [
      "Epoch 43:\n",
      "    Train loss 0.206, accuracy 0.888, F1-score 0.919, MCC: 0.665, Dice: 0.919\n",
      "    Val loss 0.207, accuracy 0.884, F1-score 0.923, MCC: 0.637, Dice: 0.923\n"
     ]
    },
    {
     "name": "stderr",
     "output_type": "stream",
     "text": [
      "Training epoch 44: 100%|██████████| 40/40 [00:36<00:00,  1.08it/s]\n",
      "Validation epoch 44: 100%|██████████| 27/27 [00:16<00:00,  1.68it/s]\n",
      "Training epoch 45:   0%|          | 0/40 [00:00<?, ?it/s]"
     ]
    },
    {
     "name": "stdout",
     "output_type": "stream",
     "text": [
      "Epoch 44:\n",
      "    Train loss 0.208, accuracy 0.880, F1-score 0.913, MCC: 0.643, Dice: 0.913\n",
      "    Val loss 0.204, accuracy 0.873, F1-score 0.916, MCC: 0.639, Dice: 0.916\n"
     ]
    },
    {
     "name": "stderr",
     "output_type": "stream",
     "text": [
      "Training epoch 45: 100%|██████████| 40/40 [00:40<00:00,  1.00s/it]\n",
      "Validation epoch 45: 100%|██████████| 27/27 [00:17<00:00,  1.57it/s]\n",
      "Training epoch 46:   0%|          | 0/40 [00:00<?, ?it/s]"
     ]
    },
    {
     "name": "stdout",
     "output_type": "stream",
     "text": [
      "Epoch 45:\n",
      "    Train loss 0.203, accuracy 0.884, F1-score 0.919, MCC: 0.666, Dice: 0.919\n",
      "    Val loss 0.198, accuracy 0.884, F1-score 0.923, MCC: 0.648, Dice: 0.923\n"
     ]
    },
    {
     "name": "stderr",
     "output_type": "stream",
     "text": [
      "Training epoch 46: 100%|██████████| 40/40 [00:40<00:00,  1.02s/it]\n",
      "Validation epoch 46: 100%|██████████| 27/27 [00:18<00:00,  1.47it/s]\n",
      "Training epoch 47:   0%|          | 0/40 [00:00<?, ?it/s]"
     ]
    },
    {
     "name": "stdout",
     "output_type": "stream",
     "text": [
      "Epoch 46:\n",
      "    Train loss 0.204, accuracy 0.887, F1-score 0.916, MCC: 0.665, Dice: 0.916\n",
      "    Val loss 0.200, accuracy 0.885, F1-score 0.924, MCC: 0.644, Dice: 0.924\n"
     ]
    },
    {
     "name": "stderr",
     "output_type": "stream",
     "text": [
      "Training epoch 47: 100%|██████████| 40/40 [00:41<00:00,  1.04s/it]\n",
      "Validation epoch 47: 100%|██████████| 27/27 [00:17<00:00,  1.57it/s]\n",
      "Training epoch 48:   0%|          | 0/40 [00:00<?, ?it/s]"
     ]
    },
    {
     "name": "stdout",
     "output_type": "stream",
     "text": [
      "Epoch 47:\n",
      "    Train loss 0.200, accuracy 0.885, F1-score 0.917, MCC: 0.657, Dice: 0.917\n",
      "    Val loss 0.204, accuracy 0.884, F1-score 0.921, MCC: 0.638, Dice: 0.921\n"
     ]
    },
    {
     "name": "stderr",
     "output_type": "stream",
     "text": [
      "Training epoch 48: 100%|██████████| 40/40 [00:41<00:00,  1.03s/it]\n",
      "Validation epoch 48: 100%|██████████| 27/27 [00:16<00:00,  1.62it/s]\n",
      "Training epoch 49:   0%|          | 0/40 [00:00<?, ?it/s]"
     ]
    },
    {
     "name": "stdout",
     "output_type": "stream",
     "text": [
      "Epoch 48:\n",
      "    Train loss 0.197, accuracy 0.888, F1-score 0.919, MCC: 0.669, Dice: 0.919\n",
      "    Val loss 0.198, accuracy 0.884, F1-score 0.923, MCC: 0.643, Dice: 0.923\n"
     ]
    },
    {
     "name": "stderr",
     "output_type": "stream",
     "text": [
      "Training epoch 49: 100%|██████████| 40/40 [00:40<00:00,  1.02s/it]\n",
      "Validation epoch 49: 100%|██████████| 27/27 [00:17<00:00,  1.52it/s]\n",
      "Training epoch 50:   0%|          | 0/40 [00:00<?, ?it/s]"
     ]
    },
    {
     "name": "stdout",
     "output_type": "stream",
     "text": [
      "Epoch 49:\n",
      "    Train loss 0.202, accuracy 0.888, F1-score 0.916, MCC: 0.666, Dice: 0.916\n",
      "    Val loss 0.203, accuracy 0.879, F1-score 0.921, MCC: 0.633, Dice: 0.921\n"
     ]
    },
    {
     "name": "stderr",
     "output_type": "stream",
     "text": [
      "Training epoch 50: 100%|██████████| 40/40 [00:40<00:00,  1.02s/it]\n",
      "Validation epoch 50: 100%|██████████| 27/27 [00:16<00:00,  1.68it/s]\n",
      "Training epoch 51:   0%|          | 0/40 [00:00<?, ?it/s]"
     ]
    },
    {
     "name": "stdout",
     "output_type": "stream",
     "text": [
      "Epoch 50:\n",
      "    Train loss 0.195, accuracy 0.892, F1-score 0.919, MCC: 0.668, Dice: 0.919\n",
      "    Val loss 0.202, accuracy 0.882, F1-score 0.920, MCC: 0.637, Dice: 0.920\n"
     ]
    },
    {
     "name": "stderr",
     "output_type": "stream",
     "text": [
      "Training epoch 51: 100%|██████████| 40/40 [00:41<00:00,  1.04s/it]\n",
      "Validation epoch 51: 100%|██████████| 27/27 [00:16<00:00,  1.68it/s]\n",
      "Training epoch 52:   0%|          | 0/40 [00:00<?, ?it/s]"
     ]
    },
    {
     "name": "stdout",
     "output_type": "stream",
     "text": [
      "Epoch 51:\n",
      "    Train loss 0.197, accuracy 0.886, F1-score 0.916, MCC: 0.671, Dice: 0.916\n",
      "    Val loss 0.199, accuracy 0.886, F1-score 0.924, MCC: 0.648, Dice: 0.924\n"
     ]
    },
    {
     "name": "stderr",
     "output_type": "stream",
     "text": [
      "Training epoch 52: 100%|██████████| 40/40 [00:37<00:00,  1.05it/s]\n",
      "Validation epoch 52: 100%|██████████| 27/27 [00:15<00:00,  1.75it/s]\n",
      "Training epoch 53:   0%|          | 0/40 [00:00<?, ?it/s]"
     ]
    },
    {
     "name": "stdout",
     "output_type": "stream",
     "text": [
      "Epoch 52:\n",
      "    Train loss 0.197, accuracy 0.890, F1-score 0.923, MCC: 0.677, Dice: 0.923\n",
      "    Val loss 0.206, accuracy 0.872, F1-score 0.914, MCC: 0.633, Dice: 0.914\n"
     ]
    },
    {
     "name": "stderr",
     "output_type": "stream",
     "text": [
      "Training epoch 53: 100%|██████████| 40/40 [00:37<00:00,  1.07it/s]\n",
      "Validation epoch 53: 100%|██████████| 27/27 [00:15<00:00,  1.69it/s]\n",
      "Training epoch 54:   0%|          | 0/40 [00:00<?, ?it/s]"
     ]
    },
    {
     "name": "stdout",
     "output_type": "stream",
     "text": [
      "Epoch 53:\n",
      "    Train loss 0.202, accuracy 0.886, F1-score 0.917, MCC: 0.666, Dice: 0.917\n",
      "    Val loss 0.199, accuracy 0.888, F1-score 0.926, MCC: 0.649, Dice: 0.926\n"
     ]
    },
    {
     "name": "stderr",
     "output_type": "stream",
     "text": [
      "Training epoch 54: 100%|██████████| 40/40 [00:38<00:00,  1.04it/s]\n",
      "Validation epoch 54: 100%|██████████| 27/27 [00:16<00:00,  1.63it/s]\n",
      "Training epoch 55:   0%|          | 0/40 [00:00<?, ?it/s]"
     ]
    },
    {
     "name": "stdout",
     "output_type": "stream",
     "text": [
      "Epoch 54:\n",
      "    Train loss 0.200, accuracy 0.888, F1-score 0.917, MCC: 0.669, Dice: 0.917\n",
      "    Val loss 0.207, accuracy 0.887, F1-score 0.926, MCC: 0.634, Dice: 0.926\n"
     ]
    },
    {
     "name": "stderr",
     "output_type": "stream",
     "text": [
      "Training epoch 55: 100%|██████████| 40/40 [00:37<00:00,  1.06it/s]\n",
      "Validation epoch 55: 100%|██████████| 27/27 [00:15<00:00,  1.75it/s]\n",
      "Training epoch 56:   0%|          | 0/40 [00:00<?, ?it/s]"
     ]
    },
    {
     "name": "stdout",
     "output_type": "stream",
     "text": [
      "Epoch 55:\n",
      "    Train loss 0.194, accuracy 0.892, F1-score 0.919, MCC: 0.676, Dice: 0.919\n",
      "    Val loss 0.208, accuracy 0.872, F1-score 0.917, MCC: 0.622, Dice: 0.917\n"
     ]
    },
    {
     "name": "stderr",
     "output_type": "stream",
     "text": [
      "Training epoch 56: 100%|██████████| 40/40 [00:37<00:00,  1.07it/s]\n",
      "Validation epoch 56: 100%|██████████| 27/27 [00:15<00:00,  1.73it/s]\n",
      "Training epoch 57:   0%|          | 0/40 [00:00<?, ?it/s]"
     ]
    },
    {
     "name": "stdout",
     "output_type": "stream",
     "text": [
      "Epoch 56:\n",
      "    Train loss 0.194, accuracy 0.890, F1-score 0.921, MCC: 0.674, Dice: 0.921\n",
      "    Val loss 0.214, accuracy 0.873, F1-score 0.918, MCC: 0.633, Dice: 0.918\n"
     ]
    },
    {
     "name": "stderr",
     "output_type": "stream",
     "text": [
      "Training epoch 57: 100%|██████████| 40/40 [00:39<00:00,  1.01it/s]\n",
      "Validation epoch 57: 100%|██████████| 27/27 [00:15<00:00,  1.70it/s]\n",
      "Training epoch 58:   0%|          | 0/40 [00:00<?, ?it/s]"
     ]
    },
    {
     "name": "stdout",
     "output_type": "stream",
     "text": [
      "Epoch 57:\n",
      "    Train loss 0.202, accuracy 0.890, F1-score 0.917, MCC: 0.669, Dice: 0.917\n",
      "    Val loss 0.202, accuracy 0.879, F1-score 0.921, MCC: 0.632, Dice: 0.921\n"
     ]
    },
    {
     "name": "stderr",
     "output_type": "stream",
     "text": [
      "Training epoch 58: 100%|██████████| 40/40 [00:39<00:00,  1.02it/s]\n",
      "Validation epoch 58: 100%|██████████| 27/27 [00:15<00:00,  1.69it/s]\n",
      "Training epoch 59:   0%|          | 0/40 [00:00<?, ?it/s]"
     ]
    },
    {
     "name": "stdout",
     "output_type": "stream",
     "text": [
      "Epoch 58:\n",
      "    Train loss 0.198, accuracy 0.888, F1-score 0.917, MCC: 0.672, Dice: 0.917\n",
      "    Val loss 0.202, accuracy 0.874, F1-score 0.919, MCC: 0.631, Dice: 0.919\n"
     ]
    },
    {
     "name": "stderr",
     "output_type": "stream",
     "text": [
      "Training epoch 59: 100%|██████████| 40/40 [00:38<00:00,  1.04it/s]\n",
      "Validation epoch 59: 100%|██████████| 27/27 [00:17<00:00,  1.57it/s]\n",
      "Training epoch 60:   0%|          | 0/40 [00:00<?, ?it/s]"
     ]
    },
    {
     "name": "stdout",
     "output_type": "stream",
     "text": [
      "Epoch 59:\n",
      "    Train loss 0.199, accuracy 0.888, F1-score 0.912, MCC: 0.656, Dice: 0.912\n",
      "    Val loss 0.195, accuracy 0.886, F1-score 0.925, MCC: 0.643, Dice: 0.925\n"
     ]
    },
    {
     "name": "stderr",
     "output_type": "stream",
     "text": [
      "Training epoch 60: 100%|██████████| 40/40 [00:38<00:00,  1.04it/s]\n",
      "Validation epoch 60: 100%|██████████| 27/27 [00:16<00:00,  1.68it/s]\n",
      "Training epoch 61:   0%|          | 0/40 [00:00<?, ?it/s]"
     ]
    },
    {
     "name": "stdout",
     "output_type": "stream",
     "text": [
      "Epoch 60:\n",
      "    Train loss 0.195, accuracy 0.884, F1-score 0.916, MCC: 0.664, Dice: 0.916\n",
      "    Val loss 0.201, accuracy 0.881, F1-score 0.921, MCC: 0.638, Dice: 0.921\n"
     ]
    },
    {
     "name": "stderr",
     "output_type": "stream",
     "text": [
      "Training epoch 61: 100%|██████████| 40/40 [00:39<00:00,  1.01it/s]\n",
      "Validation epoch 61: 100%|██████████| 27/27 [00:17<00:00,  1.56it/s]\n",
      "Training epoch 62:   0%|          | 0/40 [00:00<?, ?it/s]"
     ]
    },
    {
     "name": "stdout",
     "output_type": "stream",
     "text": [
      "Epoch 61:\n",
      "    Train loss 0.197, accuracy 0.887, F1-score 0.919, MCC: 0.675, Dice: 0.919\n",
      "    Val loss 0.202, accuracy 0.884, F1-score 0.923, MCC: 0.642, Dice: 0.923\n"
     ]
    },
    {
     "name": "stderr",
     "output_type": "stream",
     "text": [
      "Training epoch 62: 100%|██████████| 40/40 [00:40<00:00,  1.01s/it]\n",
      "Validation epoch 62: 100%|██████████| 27/27 [00:16<00:00,  1.65it/s]\n",
      "Training epoch 63:   0%|          | 0/40 [00:00<?, ?it/s]"
     ]
    },
    {
     "name": "stdout",
     "output_type": "stream",
     "text": [
      "Epoch 62:\n",
      "    Train loss 0.197, accuracy 0.894, F1-score 0.923, MCC: 0.677, Dice: 0.923\n",
      "    Val loss 0.207, accuracy 0.875, F1-score 0.919, MCC: 0.625, Dice: 0.919\n"
     ]
    },
    {
     "name": "stderr",
     "output_type": "stream",
     "text": [
      "Training epoch 63: 100%|██████████| 40/40 [00:40<00:00,  1.02s/it]\n",
      "Validation epoch 63: 100%|██████████| 27/27 [00:17<00:00,  1.53it/s]\n",
      "Training epoch 64:   0%|          | 0/40 [00:00<?, ?it/s]"
     ]
    },
    {
     "name": "stdout",
     "output_type": "stream",
     "text": [
      "Epoch 63:\n",
      "    Train loss 0.203, accuracy 0.887, F1-score 0.912, MCC: 0.656, Dice: 0.912\n",
      "    Val loss 0.207, accuracy 0.876, F1-score 0.916, MCC: 0.628, Dice: 0.916\n"
     ]
    },
    {
     "name": "stderr",
     "output_type": "stream",
     "text": [
      "Training epoch 64: 100%|██████████| 40/40 [00:39<00:00,  1.02it/s]\n",
      "Validation epoch 64: 100%|██████████| 27/27 [00:17<00:00,  1.56it/s]\n",
      "Training epoch 65:   0%|          | 0/40 [00:00<?, ?it/s]"
     ]
    },
    {
     "name": "stdout",
     "output_type": "stream",
     "text": [
      "Epoch 64:\n",
      "    Train loss 0.204, accuracy 0.889, F1-score 0.917, MCC: 0.668, Dice: 0.917\n",
      "    Val loss 0.198, accuracy 0.878, F1-score 0.922, MCC: 0.631, Dice: 0.922\n"
     ]
    },
    {
     "name": "stderr",
     "output_type": "stream",
     "text": [
      "Training epoch 65: 100%|██████████| 40/40 [00:39<00:00,  1.01it/s]\n",
      "Validation epoch 65: 100%|██████████| 27/27 [00:16<00:00,  1.60it/s]\n",
      "Training epoch 66:   0%|          | 0/40 [00:00<?, ?it/s]"
     ]
    },
    {
     "name": "stdout",
     "output_type": "stream",
     "text": [
      "Epoch 65:\n",
      "    Train loss 0.197, accuracy 0.889, F1-score 0.914, MCC: 0.667, Dice: 0.914\n",
      "    Val loss 0.211, accuracy 0.862, F1-score 0.910, MCC: 0.621, Dice: 0.910\n"
     ]
    },
    {
     "name": "stderr",
     "output_type": "stream",
     "text": [
      "Training epoch 66: 100%|██████████| 40/40 [00:39<00:00,  1.01it/s]\n",
      "Validation epoch 66: 100%|██████████| 27/27 [00:17<00:00,  1.58it/s]\n",
      "Training epoch 67:   0%|          | 0/40 [00:00<?, ?it/s]"
     ]
    },
    {
     "name": "stdout",
     "output_type": "stream",
     "text": [
      "Epoch 66:\n",
      "    Train loss 0.191, accuracy 0.891, F1-score 0.918, MCC: 0.680, Dice: 0.918\n",
      "    Val loss 0.208, accuracy 0.868, F1-score 0.915, MCC: 0.613, Dice: 0.915\n"
     ]
    },
    {
     "name": "stderr",
     "output_type": "stream",
     "text": [
      "Training epoch 67: 100%|██████████| 40/40 [00:40<00:00,  1.01s/it]\n",
      "Validation epoch 67: 100%|██████████| 27/27 [00:18<00:00,  1.50it/s]\n",
      "Training epoch 68:   0%|          | 0/40 [00:00<?, ?it/s]"
     ]
    },
    {
     "name": "stdout",
     "output_type": "stream",
     "text": [
      "Epoch 67:\n",
      "    Train loss 0.191, accuracy 0.890, F1-score 0.920, MCC: 0.677, Dice: 0.920\n",
      "    Val loss 0.213, accuracy 0.874, F1-score 0.919, MCC: 0.628, Dice: 0.919\n"
     ]
    },
    {
     "name": "stderr",
     "output_type": "stream",
     "text": [
      "Training epoch 68: 100%|██████████| 40/40 [00:38<00:00,  1.05it/s]\n",
      "Validation epoch 68: 100%|██████████| 27/27 [00:16<00:00,  1.62it/s]\n",
      "Training epoch 69:   0%|          | 0/40 [00:00<?, ?it/s]"
     ]
    },
    {
     "name": "stdout",
     "output_type": "stream",
     "text": [
      "Epoch 68:\n",
      "    Train loss 0.190, accuracy 0.892, F1-score 0.922, MCC: 0.683, Dice: 0.922\n",
      "    Val loss 0.212, accuracy 0.878, F1-score 0.922, MCC: 0.594, Dice: 0.922\n"
     ]
    },
    {
     "name": "stderr",
     "output_type": "stream",
     "text": [
      "Training epoch 69: 100%|██████████| 40/40 [00:39<00:00,  1.03it/s]\n",
      "Validation epoch 69: 100%|██████████| 27/27 [00:16<00:00,  1.66it/s]\n",
      "Training epoch 70:   0%|          | 0/40 [00:00<?, ?it/s]"
     ]
    },
    {
     "name": "stdout",
     "output_type": "stream",
     "text": [
      "Epoch 69:\n",
      "    Train loss 0.191, accuracy 0.894, F1-score 0.923, MCC: 0.686, Dice: 0.923\n",
      "    Val loss 0.206, accuracy 0.883, F1-score 0.923, MCC: 0.638, Dice: 0.923\n"
     ]
    },
    {
     "name": "stderr",
     "output_type": "stream",
     "text": [
      "Training epoch 70: 100%|██████████| 40/40 [00:37<00:00,  1.06it/s]\n",
      "Validation epoch 70: 100%|██████████| 27/27 [00:15<00:00,  1.76it/s]\n",
      "Training epoch 71:   0%|          | 0/40 [00:00<?, ?it/s]"
     ]
    },
    {
     "name": "stdout",
     "output_type": "stream",
     "text": [
      "Epoch 70:\n",
      "    Train loss 0.191, accuracy 0.892, F1-score 0.917, MCC: 0.676, Dice: 0.917\n",
      "    Val loss 0.208, accuracy 0.877, F1-score 0.920, MCC: 0.624, Dice: 0.920\n"
     ]
    },
    {
     "name": "stderr",
     "output_type": "stream",
     "text": [
      "Training epoch 71: 100%|██████████| 40/40 [00:37<00:00,  1.06it/s]\n",
      "Validation epoch 71: 100%|██████████| 27/27 [00:15<00:00,  1.70it/s]\n",
      "Training epoch 72:   0%|          | 0/40 [00:00<?, ?it/s]"
     ]
    },
    {
     "name": "stdout",
     "output_type": "stream",
     "text": [
      "Epoch 71:\n",
      "    Train loss 0.192, accuracy 0.891, F1-score 0.918, MCC: 0.672, Dice: 0.918\n",
      "    Val loss 0.202, accuracy 0.869, F1-score 0.918, MCC: 0.627, Dice: 0.918\n"
     ]
    },
    {
     "name": "stderr",
     "output_type": "stream",
     "text": [
      "Training epoch 72: 100%|██████████| 40/40 [00:37<00:00,  1.06it/s]\n",
      "Validation epoch 72: 100%|██████████| 27/27 [00:15<00:00,  1.77it/s]\n",
      "Training epoch 73:   0%|          | 0/40 [00:00<?, ?it/s]"
     ]
    },
    {
     "name": "stdout",
     "output_type": "stream",
     "text": [
      "Epoch 72:\n",
      "    Train loss 0.187, accuracy 0.891, F1-score 0.922, MCC: 0.679, Dice: 0.922\n",
      "    Val loss 0.207, accuracy 0.874, F1-score 0.920, MCC: 0.631, Dice: 0.920\n"
     ]
    },
    {
     "name": "stderr",
     "output_type": "stream",
     "text": [
      "Training epoch 73: 100%|██████████| 40/40 [00:39<00:00,  1.01it/s]\n",
      "Validation epoch 73: 100%|██████████| 27/27 [00:15<00:00,  1.71it/s]\n",
      "Training epoch 74:   0%|          | 0/40 [00:00<?, ?it/s]"
     ]
    },
    {
     "name": "stdout",
     "output_type": "stream",
     "text": [
      "Epoch 73:\n",
      "    Train loss 0.194, accuracy 0.892, F1-score 0.920, MCC: 0.676, Dice: 0.920\n",
      "    Val loss 0.208, accuracy 0.878, F1-score 0.920, MCC: 0.632, Dice: 0.920\n"
     ]
    },
    {
     "name": "stderr",
     "output_type": "stream",
     "text": [
      "Training epoch 74: 100%|██████████| 40/40 [00:37<00:00,  1.06it/s]\n",
      "Validation epoch 74: 100%|██████████| 27/27 [00:16<00:00,  1.61it/s]\n",
      "Training epoch 75:   0%|          | 0/40 [00:00<?, ?it/s]"
     ]
    },
    {
     "name": "stdout",
     "output_type": "stream",
     "text": [
      "Epoch 74:\n",
      "    Train loss 0.190, accuracy 0.892, F1-score 0.922, MCC: 0.680, Dice: 0.922\n",
      "    Val loss 0.206, accuracy 0.869, F1-score 0.916, MCC: 0.628, Dice: 0.916\n"
     ]
    },
    {
     "name": "stderr",
     "output_type": "stream",
     "text": [
      "Training epoch 75: 100%|██████████| 40/40 [00:38<00:00,  1.04it/s]\n",
      "Validation epoch 75: 100%|██████████| 27/27 [00:15<00:00,  1.71it/s]\n",
      "Training epoch 76:   0%|          | 0/40 [00:00<?, ?it/s]"
     ]
    },
    {
     "name": "stdout",
     "output_type": "stream",
     "text": [
      "Epoch 75:\n",
      "    Train loss 0.192, accuracy 0.886, F1-score 0.918, MCC: 0.678, Dice: 0.918\n",
      "    Val loss 0.203, accuracy 0.882, F1-score 0.924, MCC: 0.635, Dice: 0.924\n"
     ]
    },
    {
     "name": "stderr",
     "output_type": "stream",
     "text": [
      "Training epoch 76: 100%|██████████| 40/40 [00:37<00:00,  1.07it/s]\n",
      "Validation epoch 76: 100%|██████████| 27/27 [00:16<00:00,  1.60it/s]\n",
      "Training epoch 77:   0%|          | 0/40 [00:00<?, ?it/s]"
     ]
    },
    {
     "name": "stdout",
     "output_type": "stream",
     "text": [
      "Epoch 76:\n",
      "    Train loss 0.191, accuracy 0.897, F1-score 0.923, MCC: 0.688, Dice: 0.923\n",
      "    Val loss 0.200, accuracy 0.878, F1-score 0.921, MCC: 0.641, Dice: 0.921\n"
     ]
    },
    {
     "name": "stderr",
     "output_type": "stream",
     "text": [
      "Training epoch 77: 100%|██████████| 40/40 [00:39<00:00,  1.02it/s]\n",
      "Validation epoch 77: 100%|██████████| 27/27 [00:16<00:00,  1.64it/s]\n",
      "Training epoch 78:   0%|          | 0/40 [00:00<?, ?it/s]"
     ]
    },
    {
     "name": "stdout",
     "output_type": "stream",
     "text": [
      "Epoch 77:\n",
      "    Train loss 0.194, accuracy 0.891, F1-score 0.917, MCC: 0.678, Dice: 0.917\n",
      "    Val loss 0.200, accuracy 0.874, F1-score 0.918, MCC: 0.629, Dice: 0.918\n"
     ]
    },
    {
     "name": "stderr",
     "output_type": "stream",
     "text": [
      "Training epoch 78: 100%|██████████| 40/40 [00:38<00:00,  1.04it/s]\n",
      "Validation epoch 78: 100%|██████████| 27/27 [00:15<00:00,  1.70it/s]\n",
      "Training epoch 79:   0%|          | 0/40 [00:00<?, ?it/s]"
     ]
    },
    {
     "name": "stdout",
     "output_type": "stream",
     "text": [
      "Epoch 78:\n",
      "    Train loss 0.187, accuracy 0.890, F1-score 0.918, MCC: 0.680, Dice: 0.918\n",
      "    Val loss 0.204, accuracy 0.873, F1-score 0.916, MCC: 0.631, Dice: 0.916\n"
     ]
    },
    {
     "name": "stderr",
     "output_type": "stream",
     "text": [
      "Training epoch 79: 100%|██████████| 40/40 [00:38<00:00,  1.04it/s]\n",
      "Validation epoch 79: 100%|██████████| 27/27 [00:16<00:00,  1.67it/s]\n",
      "Training epoch 80:   0%|          | 0/40 [00:00<?, ?it/s]"
     ]
    },
    {
     "name": "stdout",
     "output_type": "stream",
     "text": [
      "Epoch 79:\n",
      "    Train loss 0.195, accuracy 0.891, F1-score 0.920, MCC: 0.673, Dice: 0.920\n",
      "    Val loss 0.203, accuracy 0.869, F1-score 0.916, MCC: 0.627, Dice: 0.916\n"
     ]
    },
    {
     "name": "stderr",
     "output_type": "stream",
     "text": [
      "Training epoch 80: 100%|██████████| 40/40 [00:40<00:00,  1.00s/it]\n",
      "Validation epoch 80: 100%|██████████| 27/27 [00:16<00:00,  1.63it/s]\n",
      "Training epoch 81:   0%|          | 0/40 [00:00<?, ?it/s]"
     ]
    },
    {
     "name": "stdout",
     "output_type": "stream",
     "text": [
      "Epoch 80:\n",
      "    Train loss 0.188, accuracy 0.894, F1-score 0.920, MCC: 0.685, Dice: 0.920\n",
      "    Val loss 0.201, accuracy 0.870, F1-score 0.918, MCC: 0.632, Dice: 0.918\n"
     ]
    },
    {
     "name": "stderr",
     "output_type": "stream",
     "text": [
      "Training epoch 81: 100%|██████████| 40/40 [00:41<00:00,  1.03s/it]\n",
      "Validation epoch 81: 100%|██████████| 27/27 [00:16<00:00,  1.59it/s]\n",
      "Training epoch 82:   0%|          | 0/40 [00:00<?, ?it/s]"
     ]
    },
    {
     "name": "stdout",
     "output_type": "stream",
     "text": [
      "Epoch 81:\n",
      "    Train loss 0.194, accuracy 0.890, F1-score 0.918, MCC: 0.668, Dice: 0.918\n",
      "    Val loss 0.208, accuracy 0.868, F1-score 0.915, MCC: 0.620, Dice: 0.915\n"
     ]
    },
    {
     "name": "stderr",
     "output_type": "stream",
     "text": [
      "Training epoch 82: 100%|██████████| 40/40 [00:40<00:00,  1.00s/it]\n",
      "Validation epoch 82: 100%|██████████| 27/27 [00:16<00:00,  1.63it/s]\n",
      "Training epoch 83:   0%|          | 0/40 [00:00<?, ?it/s]"
     ]
    },
    {
     "name": "stdout",
     "output_type": "stream",
     "text": [
      "Epoch 82:\n",
      "    Train loss 0.190, accuracy 0.893, F1-score 0.915, MCC: 0.667, Dice: 0.915\n",
      "    Val loss 0.210, accuracy 0.876, F1-score 0.921, MCC: 0.604, Dice: 0.921\n"
     ]
    },
    {
     "name": "stderr",
     "output_type": "stream",
     "text": [
      "Training epoch 83: 100%|██████████| 40/40 [00:41<00:00,  1.04s/it]\n",
      "Validation epoch 83: 100%|██████████| 27/27 [00:15<00:00,  1.70it/s]\n",
      "Training epoch 84:   0%|          | 0/40 [00:00<?, ?it/s]"
     ]
    },
    {
     "name": "stdout",
     "output_type": "stream",
     "text": [
      "Epoch 83:\n",
      "    Train loss 0.189, accuracy 0.890, F1-score 0.921, MCC: 0.681, Dice: 0.921\n",
      "    Val loss 0.198, accuracy 0.882, F1-score 0.924, MCC: 0.643, Dice: 0.924\n"
     ]
    },
    {
     "name": "stderr",
     "output_type": "stream",
     "text": [
      "Training epoch 84: 100%|██████████| 40/40 [00:39<00:00,  1.03it/s]\n",
      "Validation epoch 84: 100%|██████████| 27/27 [00:16<00:00,  1.62it/s]\n",
      "Training epoch 85:   0%|          | 0/40 [00:00<?, ?it/s]"
     ]
    },
    {
     "name": "stdout",
     "output_type": "stream",
     "text": [
      "Epoch 84:\n",
      "    Train loss 0.189, accuracy 0.892, F1-score 0.920, MCC: 0.678, Dice: 0.920\n",
      "    Val loss 0.213, accuracy 0.858, F1-score 0.910, MCC: 0.617, Dice: 0.910\n"
     ]
    },
    {
     "name": "stderr",
     "output_type": "stream",
     "text": [
      "Training epoch 85: 100%|██████████| 40/40 [00:40<00:00,  1.01s/it]\n",
      "Validation epoch 85: 100%|██████████| 27/27 [00:16<00:00,  1.62it/s]\n",
      "Training epoch 86:   0%|          | 0/40 [00:00<?, ?it/s]"
     ]
    },
    {
     "name": "stdout",
     "output_type": "stream",
     "text": [
      "Epoch 85:\n",
      "    Train loss 0.194, accuracy 0.892, F1-score 0.921, MCC: 0.677, Dice: 0.921\n",
      "    Val loss 0.200, accuracy 0.881, F1-score 0.921, MCC: 0.639, Dice: 0.921\n"
     ]
    },
    {
     "name": "stderr",
     "output_type": "stream",
     "text": [
      "Training epoch 86: 100%|██████████| 40/40 [00:37<00:00,  1.07it/s]\n",
      "Validation epoch 86: 100%|██████████| 27/27 [00:15<00:00,  1.69it/s]\n",
      "Training epoch 87:   0%|          | 0/40 [00:00<?, ?it/s]"
     ]
    },
    {
     "name": "stdout",
     "output_type": "stream",
     "text": [
      "Epoch 86:\n",
      "    Train loss 0.184, accuracy 0.894, F1-score 0.922, MCC: 0.687, Dice: 0.922\n",
      "    Val loss 0.206, accuracy 0.876, F1-score 0.919, MCC: 0.637, Dice: 0.919\n"
     ]
    },
    {
     "name": "stderr",
     "output_type": "stream",
     "text": [
      "Training epoch 87: 100%|██████████| 40/40 [00:38<00:00,  1.05it/s]\n",
      "Validation epoch 87: 100%|██████████| 27/27 [00:15<00:00,  1.73it/s]\n",
      "Training epoch 88:   0%|          | 0/40 [00:00<?, ?it/s]"
     ]
    },
    {
     "name": "stdout",
     "output_type": "stream",
     "text": [
      "Epoch 87:\n",
      "    Train loss 0.189, accuracy 0.893, F1-score 0.920, MCC: 0.684, Dice: 0.920\n",
      "    Val loss 0.206, accuracy 0.868, F1-score 0.913, MCC: 0.626, Dice: 0.913\n"
     ]
    },
    {
     "name": "stderr",
     "output_type": "stream",
     "text": [
      "Training epoch 88: 100%|██████████| 40/40 [00:37<00:00,  1.06it/s]\n",
      "Validation epoch 88: 100%|██████████| 27/27 [00:15<00:00,  1.71it/s]\n",
      "Training epoch 89:   0%|          | 0/40 [00:00<?, ?it/s]"
     ]
    },
    {
     "name": "stdout",
     "output_type": "stream",
     "text": [
      "Epoch 88:\n",
      "    Train loss 0.187, accuracy 0.893, F1-score 0.923, MCC: 0.683, Dice: 0.923\n",
      "    Val loss 0.207, accuracy 0.871, F1-score 0.914, MCC: 0.638, Dice: 0.914\n"
     ]
    },
    {
     "name": "stderr",
     "output_type": "stream",
     "text": [
      "Training epoch 89: 100%|██████████| 40/40 [00:38<00:00,  1.04it/s]\n",
      "Validation epoch 89: 100%|██████████| 27/27 [00:16<00:00,  1.64it/s]\n",
      "Training epoch 90:   0%|          | 0/40 [00:00<?, ?it/s]"
     ]
    },
    {
     "name": "stdout",
     "output_type": "stream",
     "text": [
      "Epoch 89:\n",
      "    Train loss 0.187, accuracy 0.893, F1-score 0.917, MCC: 0.679, Dice: 0.917\n",
      "    Val loss 0.208, accuracy 0.881, F1-score 0.922, MCC: 0.640, Dice: 0.922\n"
     ]
    },
    {
     "name": "stderr",
     "output_type": "stream",
     "text": [
      "Training epoch 90: 100%|██████████| 40/40 [00:37<00:00,  1.08it/s]\n",
      "Validation epoch 90: 100%|██████████| 27/27 [00:15<00:00,  1.71it/s]\n",
      "Training epoch 91:   0%|          | 0/40 [00:00<?, ?it/s]"
     ]
    },
    {
     "name": "stdout",
     "output_type": "stream",
     "text": [
      "Epoch 90:\n",
      "    Train loss 0.185, accuracy 0.895, F1-score 0.919, MCC: 0.683, Dice: 0.919\n",
      "    Val loss 0.200, accuracy 0.883, F1-score 0.921, MCC: 0.647, Dice: 0.921\n"
     ]
    },
    {
     "name": "stderr",
     "output_type": "stream",
     "text": [
      "Training epoch 91: 100%|██████████| 40/40 [00:37<00:00,  1.07it/s]\n",
      "Validation epoch 91: 100%|██████████| 27/27 [00:15<00:00,  1.74it/s]\n",
      "Training epoch 92:   0%|          | 0/40 [00:00<?, ?it/s]"
     ]
    },
    {
     "name": "stdout",
     "output_type": "stream",
     "text": [
      "Epoch 91:\n",
      "    Train loss 0.186, accuracy 0.893, F1-score 0.921, MCC: 0.691, Dice: 0.921\n",
      "    Val loss 0.194, accuracy 0.882, F1-score 0.923, MCC: 0.641, Dice: 0.923\n"
     ]
    },
    {
     "name": "stderr",
     "output_type": "stream",
     "text": [
      "Training epoch 92: 100%|██████████| 40/40 [00:39<00:00,  1.01it/s]\n",
      "Validation epoch 92: 100%|██████████| 27/27 [00:17<00:00,  1.55it/s]\n",
      "Training epoch 93:   0%|          | 0/40 [00:00<?, ?it/s]"
     ]
    },
    {
     "name": "stdout",
     "output_type": "stream",
     "text": [
      "Epoch 92:\n",
      "    Train loss 0.191, accuracy 0.894, F1-score 0.924, MCC: 0.689, Dice: 0.924\n",
      "    Val loss 0.207, accuracy 0.879, F1-score 0.921, MCC: 0.629, Dice: 0.921\n"
     ]
    },
    {
     "name": "stderr",
     "output_type": "stream",
     "text": [
      "Training epoch 93: 100%|██████████| 40/40 [00:41<00:00,  1.03s/it]\n",
      "Validation epoch 93: 100%|██████████| 27/27 [00:15<00:00,  1.73it/s]\n",
      "Training epoch 94:   0%|          | 0/40 [00:00<?, ?it/s]"
     ]
    },
    {
     "name": "stdout",
     "output_type": "stream",
     "text": [
      "Epoch 93:\n",
      "    Train loss 0.187, accuracy 0.891, F1-score 0.915, MCC: 0.671, Dice: 0.915\n",
      "    Val loss 0.198, accuracy 0.883, F1-score 0.923, MCC: 0.648, Dice: 0.923\n"
     ]
    },
    {
     "name": "stderr",
     "output_type": "stream",
     "text": [
      "Training epoch 94: 100%|██████████| 40/40 [00:40<00:00,  1.01s/it]\n",
      "Validation epoch 94: 100%|██████████| 27/27 [00:17<00:00,  1.54it/s]\n",
      "Training epoch 95:   0%|          | 0/40 [00:00<?, ?it/s]"
     ]
    },
    {
     "name": "stdout",
     "output_type": "stream",
     "text": [
      "Epoch 94:\n",
      "    Train loss 0.180, accuracy 0.898, F1-score 0.925, MCC: 0.695, Dice: 0.925\n",
      "    Val loss 0.202, accuracy 0.879, F1-score 0.922, MCC: 0.631, Dice: 0.922\n"
     ]
    },
    {
     "name": "stderr",
     "output_type": "stream",
     "text": [
      "Training epoch 95: 100%|██████████| 40/40 [00:39<00:00,  1.00it/s]\n",
      "Validation epoch 95: 100%|██████████| 27/27 [00:17<00:00,  1.58it/s]\n",
      "Training epoch 96:   0%|          | 0/40 [00:00<?, ?it/s]"
     ]
    },
    {
     "name": "stdout",
     "output_type": "stream",
     "text": [
      "Epoch 95:\n",
      "    Train loss 0.188, accuracy 0.891, F1-score 0.921, MCC: 0.682, Dice: 0.921\n",
      "    Val loss 0.214, accuracy 0.878, F1-score 0.921, MCC: 0.608, Dice: 0.921\n"
     ]
    },
    {
     "name": "stderr",
     "output_type": "stream",
     "text": [
      "Training epoch 96: 100%|██████████| 40/40 [00:40<00:00,  1.01s/it]\n",
      "Validation epoch 96: 100%|██████████| 27/27 [00:16<00:00,  1.60it/s]\n",
      "Training epoch 97:   0%|          | 0/40 [00:00<?, ?it/s]"
     ]
    },
    {
     "name": "stdout",
     "output_type": "stream",
     "text": [
      "Epoch 96:\n",
      "    Train loss 0.192, accuracy 0.889, F1-score 0.920, MCC: 0.676, Dice: 0.920\n",
      "    Val loss 0.216, accuracy 0.842, F1-score 0.902, MCC: 0.595, Dice: 0.902\n"
     ]
    },
    {
     "name": "stderr",
     "output_type": "stream",
     "text": [
      "Training epoch 97: 100%|██████████| 40/40 [00:41<00:00,  1.04s/it]\n",
      "Validation epoch 97: 100%|██████████| 27/27 [00:16<00:00,  1.63it/s]\n",
      "Training epoch 98:   0%|          | 0/40 [00:00<?, ?it/s]"
     ]
    },
    {
     "name": "stdout",
     "output_type": "stream",
     "text": [
      "Epoch 97:\n",
      "    Train loss 0.193, accuracy 0.894, F1-score 0.918, MCC: 0.673, Dice: 0.918\n",
      "    Val loss 0.199, accuracy 0.876, F1-score 0.918, MCC: 0.632, Dice: 0.918\n"
     ]
    },
    {
     "name": "stderr",
     "output_type": "stream",
     "text": [
      "Training epoch 98: 100%|██████████| 40/40 [00:39<00:00,  1.01it/s]\n",
      "Validation epoch 98: 100%|██████████| 27/27 [00:16<00:00,  1.64it/s]\n",
      "Training epoch 99:   0%|          | 0/40 [00:00<?, ?it/s]"
     ]
    },
    {
     "name": "stdout",
     "output_type": "stream",
     "text": [
      "Epoch 98:\n",
      "    Train loss 0.187, accuracy 0.888, F1-score 0.920, MCC: 0.681, Dice: 0.920\n",
      "    Val loss 0.206, accuracy 0.862, F1-score 0.911, MCC: 0.621, Dice: 0.911\n"
     ]
    },
    {
     "name": "stderr",
     "output_type": "stream",
     "text": [
      "Training epoch 99: 100%|██████████| 40/40 [00:40<00:00,  1.02s/it]\n",
      "Validation epoch 99: 100%|██████████| 27/27 [00:16<00:00,  1.69it/s]\n",
      "Training epoch 100:   0%|          | 0/40 [00:00<?, ?it/s]"
     ]
    },
    {
     "name": "stdout",
     "output_type": "stream",
     "text": [
      "Epoch 99:\n",
      "    Train loss 0.183, accuracy 0.896, F1-score 0.920, MCC: 0.678, Dice: 0.920\n",
      "    Val loss 0.200, accuracy 0.881, F1-score 0.923, MCC: 0.632, Dice: 0.923\n"
     ]
    },
    {
     "name": "stderr",
     "output_type": "stream",
     "text": [
      "Training epoch 100: 100%|██████████| 40/40 [00:40<00:00,  1.00s/it]\n",
      "Validation epoch 100: 100%|██████████| 27/27 [00:16<00:00,  1.62it/s]"
     ]
    },
    {
     "name": "stdout",
     "output_type": "stream",
     "text": [
      "Epoch 100:\n",
      "    Train loss 0.184, accuracy 0.892, F1-score 0.922, MCC: 0.683, Dice: 0.922\n",
      "    Val loss 0.209, accuracy 0.870, F1-score 0.916, MCC: 0.613, Dice: 0.916\n"
     ]
    },
    {
     "name": "stderr",
     "output_type": "stream",
     "text": [
      "\n"
     ]
    }
   ],
   "source": [
    "# ============================ #\n",
    "# user-specified hyperparameters\n",
    "# ============================ #\n",
    "country = 'india'\n",
    "epochs = 100\n",
    "lr = 0.001\n",
    "lr_decay = None\n",
    "n_filters = 32\n",
    "depth = 6\n",
    "n_classes = 1\n",
    "batch_size = 5\n",
    "model_type = 'fractal-resunet' # 'resunet-d6'\n",
    "month = 'all13'\n",
    "codes_to_keep = [1]\n",
    "ctx_name = 'gpu'\n",
    "gpu_id = 1\n",
    "boundary_kernel_size = (2,2)\n",
    "\n",
    "trained_model = '../experiments/partial-france/fractal-resunet_3month-separate_nfilter-32_depth-6_bs-8_lr-0.001_2x-3x-downsampled_allfields_n6759/model.params'\n",
    "# trained_model = '../experiments/india/fractal-resunet_Airbus_nfilter-32_depth-6_bs-5_lr-0.001_3x-downsampled-erosion2px_n200_fromscratch/model.params'\n",
    "# trained_model = None\n",
    "\n",
    "folder_suffix = '_3x-downsampled-erosion2px'\n",
    "if trained_model is None:\n",
    "    folder_suffix += '_fromscratch'\n",
    "elif 'india' in trained_model:\n",
    "    folder_suffix += '_fromscratch-continued'\n",
    "elif 'france' in trained_model:\n",
    "    folder_suffix += '_finetuned'\n",
    "    \n",
    "month_name = 'Airbus'\n",
    "splits_path = '../data/splits/india_planetImagery_splits_20x20_v2.csv'\n",
    "# splits_path = '../data/splits/india_planetImagery_splits_20x20_n400.csv'\n",
    "splits_df = pd.read_csv(splits_path, dtype=str)\n",
    "splits_df['image_id'] = splits_df['image_id'].str[:4]\n",
    "splits_df = splits_df.drop_duplicates('image_id')\n",
    "# splits_df['image_id'] = splits_df['image_id'].astype(str).str.zfill(5)\n",
    "\n",
    "# get all img and labels\n",
    "all_img_names = []\n",
    "all_label_names = []\n",
    "# img_dir = '../data/general_blockchain/airbus_false_color/campaign1/'\n",
    "# label_dir = '../data/general_blockchain/airbus_labels/campaign1/'\n",
    "img_dir = '../data/general_blockchain/airbus_false_color/large/3x_downsample/'\n",
    "label_dir = '../data/general_blockchain/airbus_labels/large/3x_downsample_erosion2px/'\n",
    "\n",
    "label_folder_imgs = sorted(os.listdir(label_dir))\n",
    "for label_name in label_folder_imgs:\n",
    "    img_name = 'airbus_geowiki_' + label_name.split('_')[-1].split('.')[0] + '.png'\n",
    "    img_path = os.path.join(img_dir, img_name)\n",
    "    all_img_names.append(img_path)\n",
    "    label_path = os.path.join(label_dir, label_name)\n",
    "    all_label_names.append(label_path)\n",
    "    \n",
    "# split imgs and labels into train/val/test\n",
    "all_images = pd.DataFrame({'img_path': all_img_names})\n",
    "all_images['image_id'] = all_images['img_path'].str.split('/').apply(\n",
    "    lambda x: x[-1]).str.split('.').apply(\n",
    "    lambda x: x[0]).str.split('_').apply(\n",
    "    lambda x: x[-1][1:])\n",
    "all_images = all_images.merge(splits_df[['image_id', 'fold']], on='image_id', how='left')\n",
    "train_names = all_images[all_images['fold'] == 'train']['img_path'].values\n",
    "val_names = all_images[all_images['fold'] == 'val']['img_path'].values\n",
    "test_names = all_images[all_images['fold'] == 'test']['img_path'].values\n",
    "\n",
    "all_labels = pd.DataFrame({'label_path': all_label_names})\n",
    "all_labels['image_id'] = all_labels['label_path'].str.split('/').apply(\n",
    "    lambda x: x[-1]).str.split('.').apply(\n",
    "    lambda x: x[0]).str.split('_').apply(\n",
    "    lambda x: x[-1][1:])\n",
    "all_labels = all_labels.merge(splits_df[['image_id', 'fold']], on='image_id', how='left')\n",
    "train_names_label = all_labels[all_labels['fold'] == 'train']['label_path'].values\n",
    "val_names_label = all_labels[all_labels['fold'] == 'val']['label_path'].values\n",
    "test_names_label = all_labels[all_labels['fold'] == 'test']['label_path'].values\n",
    "\n",
    "# ============================ #\n",
    "\n",
    "run_africa(country, train_names, val_names, test_names,\n",
    "           train_names_label, val_names_label, test_names_label,\n",
    "           trained_model=trained_model,\n",
    "           epochs=epochs, lr=lr, lr_decay=lr_decay, \n",
    "           model_type=model_type, n_filters=n_filters, depth=depth, n_classes=n_classes,\n",
    "           batch_size=batch_size, month=month_name,\n",
    "           codes_to_keep=codes_to_keep, \n",
    "           ctx_name=ctx_name,\n",
    "           gpu_id=gpu_id, \n",
    "           folder_suffix=folder_suffix,\n",
    "           boundary_kernel_size=boundary_kernel_size)"
   ]
  },
  {
   "cell_type": "markdown",
   "metadata": {},
   "source": [
    "## Fine tune France 1x Planet model"
   ]
  },
  {
   "cell_type": "markdown",
   "metadata": {},
   "source": [
    "### On 1x Airbus imagery only"
   ]
  },
  {
   "cell_type": "code",
   "execution_count": 7,
   "metadata": {},
   "outputs": [],
   "source": [
    "# ============================ #\n",
    "# user-specified hyperparameters\n",
    "# ============================ #\n",
    "country = 'india'\n",
    "epochs = 100\n",
    "lr = 0.0001\n",
    "lr_decay = None\n",
    "n_filters = 32\n",
    "depth = 6\n",
    "n_classes = 1\n",
    "batch_size = 5\n",
    "model_type = 'fractal-resunet' # 'resunet-d6'\n",
    "month = 'all13'\n",
    "codes_to_keep = [1]\n",
    "ctx_name = 'gpu'\n",
    "gpu_id = 1\n",
    "boundary_kernel_size = (2,2)\n",
    "\n",
    "# trained_model = '../experiments/partial-france/fractal-resunet_3month-separate_nfilter-32_depth-6_bs-7_lr-0.001_1x-downsampled_allfields_n6759_1250px_thickness2/model.params'\n",
    "trained_model = '../experiments/india/fractal-resunet_Airbus_nfilter-32_depth-6_bs-8_lr-0.0001_original_finetuned2/model.params'\n",
    "# trained_model = None\n",
    "\n",
    "folder_suffix = '_original'\n",
    "if trained_model is None:\n",
    "    folder_suffix += '_fromscratch'\n",
    "elif 'india' in trained_model:\n",
    "    # folder_suffix += '_fromscratch-continued'\n",
    "    folder_suffix += '_finetuned2-continued'\n",
    "elif 'france' in trained_model:\n",
    "    folder_suffix += '_finetuned2'\n",
    "    \n",
    "month_name = 'Airbus'\n",
    "splits_path = '../data/splits/india_planetImagery_splits_20x20_v2.csv'\n",
    "splits_df = pd.read_csv(splits_path, dtype=str)\n",
    "splits_df['image_id'] = splits_df['image_id'].str.zfill(4)\n",
    "splits_df = splits_df.drop_duplicates('image_id')\n",
    "\n",
    "# get all img and labels\n",
    "all_img_names = []\n",
    "all_label_names = []\n",
    "img_dirs = ['../data/general_blockchain/airbus_false_color/large/original/']\n",
    "label_dirs = ['../data/general_blockchain/airbus_labels/large/original/']\n",
    "\n",
    "for img_dir, label_dir in zip(img_dirs, label_dirs):\n",
    "    label_folder_imgs = sorted(os.listdir(label_dir))\n",
    "    for label_name in label_folder_imgs:\n",
    "        img_name = 'airbus_geowiki_' + label_name.split('_')[-1].split('.')[0] + '.png'\n",
    "        img_path = os.path.join(img_dir, img_name)\n",
    "        all_img_names.append(img_path)\n",
    "        label_path = os.path.join(label_dir, label_name)\n",
    "        all_label_names.append(label_path)\n",
    "    \n",
    "# split imgs and labels into train/val/test\n",
    "all_images = pd.DataFrame({'img_path': all_img_names})\n",
    "all_images['image_id'] = all_images['img_path'].str.split('/').apply(\n",
    "    lambda x: x[-1]).str.split('.').apply(\n",
    "    lambda x: x[0]).str.split('_').apply(\n",
    "    lambda x: x[-1][1:])\n",
    "all_images = all_images.merge(splits_df[['image_id', 'fold']], on='image_id', how='left')\n",
    "train_names = all_images[all_images['fold'] == 'train']['img_path'].values\n",
    "val_names = all_images[all_images['fold'] == 'val']['img_path'].values\n",
    "test_names = all_images[all_images['fold'] == 'test']['img_path'].values\n",
    "\n",
    "all_labels = pd.DataFrame({'label_path': all_label_names})\n",
    "all_labels['image_id'] = all_labels['label_path'].str.split('/').apply(\n",
    "    lambda x: x[-1]).str.split('.').apply(\n",
    "    lambda x: x[0]).str.split('_').apply(\n",
    "    lambda x: x[-1][1:])\n",
    "all_labels = all_labels.merge(splits_df[['image_id', 'fold']], on='image_id', how='left')\n",
    "train_names_label = all_labels[all_labels['fold'] == 'train']['label_path'].values\n",
    "val_names_label = all_labels[all_labels['fold'] == 'val']['label_path'].values\n",
    "test_names_label = all_labels[all_labels['fold'] == 'test']['label_path'].values"
   ]
  },
  {
   "cell_type": "code",
   "execution_count": 8,
   "metadata": {
    "scrolled": true
   },
   "outputs": [
    {
     "name": "stdout",
     "output_type": "stream",
     "text": [
      "depth:= 0, nfilters: 32, nheads::8, widths::1\n",
      "depth:= 1, nfilters: 64, nheads::16, widths::1\n",
      "depth:= 2, nfilters: 128, nheads::32, widths::1\n",
      "depth:= 3, nfilters: 256, nheads::64, widths::1\n",
      "depth:= 4, nfilters: 512, nheads::128, widths::1\n",
      "depth:= 5, nfilters: 1024, nheads::256, widths::1\n",
      "depth:= 6, nfilters: 512, nheads::256, widths::1\n",
      "depth:= 7, nfilters: 256, nheads::128, widths::1\n",
      "depth:= 8, nfilters: 128, nheads::64, widths::1\n",
      "depth:= 9, nfilters: 64, nheads::32, widths::1\n",
      "depth:= 10, nfilters: 32, nheads::16, widths::1\n"
     ]
    },
    {
     "name": "stderr",
     "output_type": "stream",
     "text": [
      "Setting up a new session...\n",
      "Training epoch 1: 100%|██████████| 257/257 [16:00<00:00,  3.74s/it]\n",
      "Validation epoch 1: 100%|██████████| 60/60 [02:04<00:00,  2.07s/it]\n"
     ]
    },
    {
     "name": "stdout",
     "output_type": "stream",
     "text": [
      "Epoch 1:\n",
      "    Train loss 0.253, accuracy 0.898, F1-score 0.937, MCC: 0.428, Dice: 0.937\n",
      "    Val loss 0.244, accuracy 0.911, F1-score 0.946, MCC: 0.448, Dice: 0.946\n"
     ]
    },
    {
     "name": "stderr",
     "output_type": "stream",
     "text": [
      "Training epoch 2: 100%|██████████| 257/257 [15:24<00:00,  3.60s/it]\n",
      "Validation epoch 2: 100%|██████████| 60/60 [02:09<00:00,  2.17s/it]\n"
     ]
    },
    {
     "name": "stdout",
     "output_type": "stream",
     "text": [
      "Epoch 2:\n",
      "    Train loss 0.253, accuracy 0.897, F1-score 0.936, MCC: 0.430, Dice: 0.936\n",
      "    Val loss 0.237, accuracy 0.910, F1-score 0.946, MCC: 0.458, Dice: 0.946\n"
     ]
    },
    {
     "name": "stderr",
     "output_type": "stream",
     "text": [
      "Training epoch 3: 100%|██████████| 257/257 [15:57<00:00,  3.73s/it]\n",
      "Validation epoch 3: 100%|██████████| 60/60 [02:08<00:00,  2.14s/it]\n",
      "Training epoch 4:   0%|          | 0/257 [00:00<?, ?it/s]"
     ]
    },
    {
     "name": "stdout",
     "output_type": "stream",
     "text": [
      "Epoch 3:\n",
      "    Train loss 0.251, accuracy 0.900, F1-score 0.939, MCC: 0.440, Dice: 0.939\n",
      "    Val loss 0.237, accuracy 0.910, F1-score 0.949, MCC: 0.448, Dice: 0.949\n"
     ]
    },
    {
     "name": "stderr",
     "output_type": "stream",
     "text": [
      "Training epoch 4: 100%|██████████| 257/257 [15:51<00:00,  3.70s/it]\n",
      "Validation epoch 4: 100%|██████████| 60/60 [02:09<00:00,  2.16s/it]\n",
      "Training epoch 5:   0%|          | 0/257 [00:00<?, ?it/s]"
     ]
    },
    {
     "name": "stdout",
     "output_type": "stream",
     "text": [
      "Epoch 4:\n",
      "    Train loss 0.251, accuracy 0.901, F1-score 0.937, MCC: 0.443, Dice: 0.937\n",
      "    Val loss 0.236, accuracy 0.906, F1-score 0.944, MCC: 0.452, Dice: 0.944\n"
     ]
    },
    {
     "name": "stderr",
     "output_type": "stream",
     "text": [
      "Validation epoch 5: 100%|██████████| 60/60 [02:09<00:00,  2.15s/it]\n",
      "Training epoch 6:   0%|          | 0/257 [00:00<?, ?it/s]"
     ]
    },
    {
     "name": "stdout",
     "output_type": "stream",
     "text": [
      "Epoch 5:\n",
      "    Train loss 0.249, accuracy 0.899, F1-score 0.936, MCC: 0.436, Dice: 0.936\n",
      "    Val loss 0.240, accuracy 0.910, F1-score 0.947, MCC: 0.457, Dice: 0.947\n"
     ]
    },
    {
     "name": "stderr",
     "output_type": "stream",
     "text": [
      "Training epoch 6: 100%|██████████| 257/257 [15:57<00:00,  3.73s/it]\n",
      "Validation epoch 6: 100%|██████████| 60/60 [02:14<00:00,  2.23s/it]\n"
     ]
    },
    {
     "name": "stdout",
     "output_type": "stream",
     "text": [
      "Epoch 6:\n",
      "    Train loss 0.249, accuracy 0.901, F1-score 0.939, MCC: 0.440, Dice: 0.939\n",
      "    Val loss 0.236, accuracy 0.911, F1-score 0.947, MCC: 0.467, Dice: 0.947\n"
     ]
    },
    {
     "name": "stderr",
     "output_type": "stream",
     "text": [
      "Training epoch 7: 100%|██████████| 257/257 [16:03<00:00,  3.75s/it]\n",
      "Validation epoch 7: 100%|██████████| 60/60 [02:04<00:00,  2.08s/it]\n",
      "Training epoch 8:   0%|          | 0/257 [00:00<?, ?it/s]"
     ]
    },
    {
     "name": "stdout",
     "output_type": "stream",
     "text": [
      "Epoch 7:\n",
      "    Train loss 0.245, accuracy 0.903, F1-score 0.939, MCC: 0.449, Dice: 0.939\n",
      "    Val loss 0.236, accuracy 0.910, F1-score 0.947, MCC: 0.459, Dice: 0.947\n"
     ]
    },
    {
     "name": "stderr",
     "output_type": "stream",
     "text": [
      "Training epoch 8: 100%|██████████| 257/257 [15:46<00:00,  3.68s/it]\n",
      "Validation epoch 8: 100%|██████████| 60/60 [02:06<00:00,  2.11s/it]\n",
      "Training epoch 9:   0%|          | 0/257 [00:00<?, ?it/s]"
     ]
    },
    {
     "name": "stdout",
     "output_type": "stream",
     "text": [
      "Epoch 8:\n",
      "    Train loss 0.244, accuracy 0.900, F1-score 0.938, MCC: 0.444, Dice: 0.938\n",
      "    Val loss 0.237, accuracy 0.915, F1-score 0.950, MCC: 0.459, Dice: 0.950\n"
     ]
    },
    {
     "name": "stderr",
     "output_type": "stream",
     "text": [
      "Training epoch 9: 100%|██████████| 257/257 [15:14<00:00,  3.56s/it]\n",
      "Validation epoch 9: 100%|██████████| 60/60 [02:00<00:00,  2.01s/it]\n",
      "Training epoch 10:   0%|          | 0/257 [00:00<?, ?it/s]"
     ]
    },
    {
     "name": "stdout",
     "output_type": "stream",
     "text": [
      "Epoch 9:\n",
      "    Train loss 0.244, accuracy 0.899, F1-score 0.936, MCC: 0.443, Dice: 0.936\n",
      "    Val loss 0.235, accuracy 0.912, F1-score 0.947, MCC: 0.458, Dice: 0.947\n"
     ]
    },
    {
     "name": "stderr",
     "output_type": "stream",
     "text": [
      "Training epoch 10: 100%|██████████| 257/257 [15:22<00:00,  3.59s/it]\n",
      "Validation epoch 10: 100%|██████████| 60/60 [02:03<00:00,  2.05s/it]\n",
      "Training epoch 11:   0%|          | 0/257 [00:00<?, ?it/s]"
     ]
    },
    {
     "name": "stdout",
     "output_type": "stream",
     "text": [
      "Epoch 10:\n",
      "    Train loss 0.242, accuracy 0.902, F1-score 0.938, MCC: 0.446, Dice: 0.938\n",
      "    Val loss 0.238, accuracy 0.917, F1-score 0.950, MCC: 0.461, Dice: 0.950\n"
     ]
    },
    {
     "name": "stderr",
     "output_type": "stream",
     "text": [
      "Training epoch 11: 100%|██████████| 257/257 [15:25<00:00,  3.60s/it]\n",
      "Validation epoch 11: 100%|██████████| 60/60 [02:04<00:00,  2.08s/it]\n"
     ]
    },
    {
     "name": "stdout",
     "output_type": "stream",
     "text": [
      "Epoch 11:\n",
      "    Train loss 0.246, accuracy 0.901, F1-score 0.938, MCC: 0.448, Dice: 0.938\n",
      "    Val loss 0.232, accuracy 0.914, F1-score 0.950, MCC: 0.467, Dice: 0.950\n"
     ]
    },
    {
     "name": "stderr",
     "output_type": "stream",
     "text": [
      "Training epoch 12: 100%|██████████| 257/257 [15:11<00:00,  3.55s/it]\n",
      "Validation epoch 12: 100%|██████████| 60/60 [02:02<00:00,  2.04s/it]\n",
      "Training epoch 13:   0%|          | 0/257 [00:00<?, ?it/s]"
     ]
    },
    {
     "name": "stdout",
     "output_type": "stream",
     "text": [
      "Epoch 12:\n",
      "    Train loss 0.244, accuracy 0.903, F1-score 0.939, MCC: 0.452, Dice: 0.939\n",
      "    Val loss 0.234, accuracy 0.914, F1-score 0.949, MCC: 0.466, Dice: 0.949\n"
     ]
    },
    {
     "name": "stderr",
     "output_type": "stream",
     "text": [
      "Training epoch 13: 100%|██████████| 257/257 [15:03<00:00,  3.52s/it]\n",
      "Validation epoch 13: 100%|██████████| 60/60 [02:03<00:00,  2.06s/it]\n",
      "Training epoch 14:   0%|          | 0/257 [00:00<?, ?it/s]"
     ]
    },
    {
     "name": "stdout",
     "output_type": "stream",
     "text": [
      "Epoch 13:\n",
      "    Train loss 0.239, accuracy 0.902, F1-score 0.939, MCC: 0.456, Dice: 0.939\n",
      "    Val loss 0.228, accuracy 0.916, F1-score 0.951, MCC: 0.465, Dice: 0.951\n"
     ]
    },
    {
     "name": "stderr",
     "output_type": "stream",
     "text": [
      "Training epoch 14: 100%|██████████| 257/257 [14:53<00:00,  3.48s/it]\n",
      "Validation epoch 14: 100%|██████████| 60/60 [02:02<00:00,  2.04s/it]\n",
      "Training epoch 15:   0%|          | 0/257 [00:00<?, ?it/s]"
     ]
    },
    {
     "name": "stdout",
     "output_type": "stream",
     "text": [
      "Epoch 14:\n",
      "    Train loss 0.242, accuracy 0.898, F1-score 0.937, MCC: 0.450, Dice: 0.937\n",
      "    Val loss 0.231, accuracy 0.909, F1-score 0.947, MCC: 0.455, Dice: 0.947\n"
     ]
    },
    {
     "name": "stderr",
     "output_type": "stream",
     "text": [
      "Training epoch 15:  32%|███▏      | 83/257 [04:55<10:40,  3.68s/it]IOPub message rate exceeded.\n",
      "The notebook server will temporarily stop sending output\n",
      "to the client in order to avoid crashing it.\n",
      "To change this limit, set the config variable\n",
      "`--NotebookApp.iopub_msg_rate_limit`.\n",
      "\n",
      "Current values:\n",
      "NotebookApp.iopub_msg_rate_limit=1000.0 (msgs/sec)\n",
      "NotebookApp.rate_limit_window=3.0 (secs)\n",
      "\n",
      "Training epoch 29: 100%|██████████| 257/257 [15:18<00:00,  3.57s/it]\n",
      "Validation epoch 29: 100%|██████████| 60/60 [02:06<00:00,  2.11s/it]\n",
      "Training epoch 30:   0%|          | 0/257 [00:00<?, ?it/s]"
     ]
    },
    {
     "name": "stdout",
     "output_type": "stream",
     "text": [
      "Epoch 29:\n",
      "    Train loss 0.234, accuracy 0.904, F1-score 0.939, MCC: 0.458, Dice: 0.939\n",
      "    Val loss 0.224, accuracy 0.912, F1-score 0.948, MCC: 0.473, Dice: 0.948\n"
     ]
    },
    {
     "name": "stderr",
     "output_type": "stream",
     "text": [
      "Training epoch 30: 100%|██████████| 257/257 [15:14<00:00,  3.56s/it]\n",
      "Validation epoch 30: 100%|██████████| 60/60 [02:07<00:00,  2.13s/it]\n"
     ]
    },
    {
     "name": "stdout",
     "output_type": "stream",
     "text": [
      "Epoch 30:\n",
      "    Train loss 0.239, accuracy 0.902, F1-score 0.938, MCC: 0.458, Dice: 0.938\n",
      "    Val loss 0.224, accuracy 0.914, F1-score 0.949, MCC: 0.478, Dice: 0.949\n"
     ]
    },
    {
     "name": "stderr",
     "output_type": "stream",
     "text": [
      "Training epoch 31: 100%|██████████| 257/257 [15:13<00:00,  3.56s/it]\n",
      "Validation epoch 31: 100%|██████████| 60/60 [02:04<00:00,  2.08s/it]\n",
      "Training epoch 32:   0%|          | 0/257 [00:00<?, ?it/s]"
     ]
    },
    {
     "name": "stdout",
     "output_type": "stream",
     "text": [
      "Epoch 31:\n",
      "    Train loss 0.235, accuracy 0.903, F1-score 0.940, MCC: 0.461, Dice: 0.940\n",
      "    Val loss 0.228, accuracy 0.913, F1-score 0.949, MCC: 0.466, Dice: 0.949\n"
     ]
    },
    {
     "name": "stderr",
     "output_type": "stream",
     "text": [
      "Training epoch 32: 100%|██████████| 257/257 [15:17<00:00,  3.57s/it]\n",
      "Validation epoch 32: 100%|██████████| 60/60 [01:59<00:00,  1.99s/it]\n",
      "Training epoch 33:   0%|          | 0/257 [00:00<?, ?it/s]"
     ]
    },
    {
     "name": "stdout",
     "output_type": "stream",
     "text": [
      "Epoch 32:\n",
      "    Train loss 0.233, accuracy 0.904, F1-score 0.939, MCC: 0.464, Dice: 0.939\n",
      "    Val loss 0.226, accuracy 0.907, F1-score 0.945, MCC: 0.459, Dice: 0.945\n"
     ]
    },
    {
     "name": "stderr",
     "output_type": "stream",
     "text": [
      "Training epoch 33: 100%|██████████| 257/257 [15:16<00:00,  3.57s/it]\n",
      "Validation epoch 33: 100%|██████████| 60/60 [02:04<00:00,  2.08s/it]\n",
      "Training epoch 34:   0%|          | 0/257 [00:00<?, ?it/s]"
     ]
    },
    {
     "name": "stdout",
     "output_type": "stream",
     "text": [
      "Epoch 33:\n",
      "    Train loss 0.237, accuracy 0.900, F1-score 0.938, MCC: 0.457, Dice: 0.938\n",
      "    Val loss 0.223, accuracy 0.913, F1-score 0.951, MCC: 0.471, Dice: 0.951\n"
     ]
    },
    {
     "name": "stderr",
     "output_type": "stream",
     "text": [
      "Training epoch 34: 100%|██████████| 257/257 [15:12<00:00,  3.55s/it]\n",
      "Validation epoch 34: 100%|██████████| 60/60 [02:01<00:00,  2.03s/it]\n",
      "Training epoch 35:   0%|          | 0/257 [00:00<?, ?it/s]"
     ]
    },
    {
     "name": "stdout",
     "output_type": "stream",
     "text": [
      "Epoch 34:\n",
      "    Train loss 0.238, accuracy 0.903, F1-score 0.939, MCC: 0.459, Dice: 0.939\n",
      "    Val loss 0.224, accuracy 0.912, F1-score 0.948, MCC: 0.470, Dice: 0.948\n"
     ]
    },
    {
     "name": "stderr",
     "output_type": "stream",
     "text": [
      "Training epoch 35: 100%|██████████| 257/257 [15:14<00:00,  3.56s/it]\n",
      "Validation epoch 35: 100%|██████████| 60/60 [02:03<00:00,  2.06s/it]\n",
      "Training epoch 36:   0%|          | 0/257 [00:00<?, ?it/s]"
     ]
    },
    {
     "name": "stdout",
     "output_type": "stream",
     "text": [
      "Epoch 35:\n",
      "    Train loss 0.237, accuracy 0.903, F1-score 0.939, MCC: 0.462, Dice: 0.939\n",
      "    Val loss 0.229, accuracy 0.913, F1-score 0.949, MCC: 0.477, Dice: 0.949\n"
     ]
    },
    {
     "name": "stderr",
     "output_type": "stream",
     "text": [
      "Training epoch 36: 100%|██████████| 257/257 [15:17<00:00,  3.57s/it]\n",
      "Validation epoch 36: 100%|██████████| 60/60 [02:01<00:00,  2.03s/it]\n",
      "Training epoch 37:   0%|          | 0/257 [00:00<?, ?it/s]"
     ]
    },
    {
     "name": "stdout",
     "output_type": "stream",
     "text": [
      "Epoch 36:\n",
      "    Train loss 0.235, accuracy 0.903, F1-score 0.939, MCC: 0.461, Dice: 0.939\n",
      "    Val loss 0.226, accuracy 0.917, F1-score 0.949, MCC: 0.466, Dice: 0.949\n"
     ]
    },
    {
     "name": "stderr",
     "output_type": "stream",
     "text": [
      "Training epoch 37: 100%|██████████| 257/257 [15:21<00:00,  3.59s/it]\n",
      "Validation epoch 37: 100%|██████████| 60/60 [02:05<00:00,  2.10s/it]\n",
      "Training epoch 38:   0%|          | 0/257 [00:00<?, ?it/s]"
     ]
    },
    {
     "name": "stdout",
     "output_type": "stream",
     "text": [
      "Epoch 37:\n",
      "    Train loss 0.235, accuracy 0.903, F1-score 0.938, MCC: 0.460, Dice: 0.938\n",
      "    Val loss 0.228, accuracy 0.914, F1-score 0.949, MCC: 0.473, Dice: 0.949\n"
     ]
    },
    {
     "name": "stderr",
     "output_type": "stream",
     "text": [
      "Training epoch 38: 100%|██████████| 257/257 [15:25<00:00,  3.60s/it]\n",
      "Validation epoch 38:   7%|▋         | 4/60 [00:08<02:12,  2.37s/it]IOPub message rate exceeded.\n",
      "The notebook server will temporarily stop sending output\n",
      "to the client in order to avoid crashing it.\n",
      "To change this limit, set the config variable\n",
      "`--NotebookApp.iopub_msg_rate_limit`.\n",
      "\n",
      "Current values:\n",
      "NotebookApp.iopub_msg_rate_limit=1000.0 (msgs/sec)\n",
      "NotebookApp.rate_limit_window=3.0 (secs)\n",
      "\n",
      "Training epoch 53: 100%|██████████| 257/257 [15:24<00:00,  3.60s/it]\n",
      "Validation epoch 53: 100%|██████████| 60/60 [02:04<00:00,  2.08s/it]\n",
      "Training epoch 54:   0%|          | 0/257 [00:00<?, ?it/s]"
     ]
    },
    {
     "name": "stdout",
     "output_type": "stream",
     "text": [
      "Epoch 53:\n",
      "    Train loss 0.235, accuracy 0.903, F1-score 0.939, MCC: 0.460, Dice: 0.939\n",
      "    Val loss 0.222, accuracy 0.916, F1-score 0.951, MCC: 0.479, Dice: 0.951\n"
     ]
    },
    {
     "name": "stderr",
     "output_type": "stream",
     "text": [
      "Training epoch 54: 100%|██████████| 257/257 [15:13<00:00,  3.55s/it]\n",
      "Validation epoch 54: 100%|██████████| 60/60 [02:03<00:00,  2.07s/it]\n",
      "Training epoch 55:   0%|          | 0/257 [00:00<?, ?it/s]"
     ]
    },
    {
     "name": "stdout",
     "output_type": "stream",
     "text": [
      "Epoch 54:\n",
      "    Train loss 0.233, accuracy 0.901, F1-score 0.938, MCC: 0.463, Dice: 0.938\n",
      "    Val loss 0.218, accuracy 0.912, F1-score 0.950, MCC: 0.472, Dice: 0.950\n"
     ]
    },
    {
     "name": "stderr",
     "output_type": "stream",
     "text": [
      "Training epoch 55: 100%|██████████| 257/257 [15:24<00:00,  3.60s/it]\n",
      "Validation epoch 55: 100%|██████████| 60/60 [02:05<00:00,  2.09s/it]\n",
      "Training epoch 56:   0%|          | 0/257 [00:00<?, ?it/s]"
     ]
    },
    {
     "name": "stdout",
     "output_type": "stream",
     "text": [
      "Epoch 55:\n",
      "    Train loss 0.236, accuracy 0.905, F1-score 0.940, MCC: 0.467, Dice: 0.940\n",
      "    Val loss 0.225, accuracy 0.912, F1-score 0.951, MCC: 0.466, Dice: 0.951\n"
     ]
    },
    {
     "name": "stderr",
     "output_type": "stream",
     "text": [
      "Training epoch 56: 100%|██████████| 257/257 [15:14<00:00,  3.56s/it]\n",
      "Validation epoch 56: 100%|██████████| 60/60 [02:08<00:00,  2.14s/it]\n"
     ]
    },
    {
     "name": "stdout",
     "output_type": "stream",
     "text": [
      "Epoch 56:\n",
      "    Train loss 0.233, accuracy 0.901, F1-score 0.938, MCC: 0.463, Dice: 0.938\n",
      "    Val loss 0.220, accuracy 0.909, F1-score 0.949, MCC: 0.482, Dice: 0.949\n"
     ]
    },
    {
     "name": "stderr",
     "output_type": "stream",
     "text": [
      "Training epoch 57: 100%|██████████| 257/257 [15:14<00:00,  3.56s/it]\n",
      "Validation epoch 57: 100%|██████████| 60/60 [02:07<00:00,  2.12s/it]\n",
      "Training epoch 58:   0%|          | 0/257 [00:00<?, ?it/s]"
     ]
    },
    {
     "name": "stdout",
     "output_type": "stream",
     "text": [
      "Epoch 57:\n",
      "    Train loss 0.232, accuracy 0.903, F1-score 0.939, MCC: 0.465, Dice: 0.939\n",
      "    Val loss 0.223, accuracy 0.913, F1-score 0.949, MCC: 0.478, Dice: 0.949\n"
     ]
    },
    {
     "name": "stderr",
     "output_type": "stream",
     "text": [
      "Training epoch 58: 100%|██████████| 257/257 [15:22<00:00,  3.59s/it]\n",
      "Validation epoch 58: 100%|██████████| 60/60 [02:13<00:00,  2.23s/it]\n",
      "Training epoch 59:   0%|          | 0/257 [00:00<?, ?it/s]"
     ]
    },
    {
     "name": "stdout",
     "output_type": "stream",
     "text": [
      "Epoch 58:\n",
      "    Train loss 0.231, accuracy 0.903, F1-score 0.940, MCC: 0.471, Dice: 0.940\n",
      "    Val loss 0.224, accuracy 0.910, F1-score 0.947, MCC: 0.460, Dice: 0.947\n"
     ]
    },
    {
     "name": "stderr",
     "output_type": "stream",
     "text": [
      "Training epoch 59: 100%|██████████| 257/257 [16:00<00:00,  3.74s/it]\n",
      "Validation epoch 59: 100%|██████████| 60/60 [02:07<00:00,  2.12s/it]\n",
      "Training epoch 60:   0%|          | 0/257 [00:00<?, ?it/s]"
     ]
    },
    {
     "name": "stdout",
     "output_type": "stream",
     "text": [
      "Epoch 59:\n",
      "    Train loss 0.231, accuracy 0.902, F1-score 0.939, MCC: 0.469, Dice: 0.939\n",
      "    Val loss 0.223, accuracy 0.912, F1-score 0.947, MCC: 0.467, Dice: 0.947\n"
     ]
    },
    {
     "name": "stderr",
     "output_type": "stream",
     "text": [
      "Training epoch 60: 100%|██████████| 257/257 [15:44<00:00,  3.67s/it]\n",
      "Validation epoch 60: 100%|██████████| 60/60 [02:10<00:00,  2.17s/it]\n",
      "Training epoch 61:   0%|          | 0/257 [00:00<?, ?it/s]"
     ]
    },
    {
     "name": "stdout",
     "output_type": "stream",
     "text": [
      "Epoch 60:\n",
      "    Train loss 0.235, accuracy 0.900, F1-score 0.938, MCC: 0.462, Dice: 0.938\n",
      "    Val loss 0.226, accuracy 0.911, F1-score 0.948, MCC: 0.468, Dice: 0.948\n"
     ]
    },
    {
     "name": "stderr",
     "output_type": "stream",
     "text": [
      "Training epoch 61: 100%|██████████| 257/257 [15:39<00:00,  3.66s/it]\n",
      "Validation epoch 61: 100%|██████████| 60/60 [02:06<00:00,  2.11s/it]\n",
      "Training epoch 62:   0%|          | 0/257 [00:00<?, ?it/s]"
     ]
    },
    {
     "name": "stdout",
     "output_type": "stream",
     "text": [
      "Epoch 61:\n",
      "    Train loss 0.234, accuracy 0.901, F1-score 0.938, MCC: 0.463, Dice: 0.938\n",
      "    Val loss 0.226, accuracy 0.913, F1-score 0.948, MCC: 0.473, Dice: 0.948\n"
     ]
    },
    {
     "name": "stderr",
     "output_type": "stream",
     "text": [
      "Training epoch 62:  86%|████████▋ | 222/257 [13:15<02:22,  4.07s/it]IOPub message rate exceeded.\n",
      "The notebook server will temporarily stop sending output\n",
      "to the client in order to avoid crashing it.\n",
      "To change this limit, set the config variable\n",
      "`--NotebookApp.iopub_msg_rate_limit`.\n",
      "\n",
      "Current values:\n",
      "NotebookApp.iopub_msg_rate_limit=1000.0 (msgs/sec)\n",
      "NotebookApp.rate_limit_window=3.0 (secs)\n",
      "\n",
      "Training epoch 76: 100%|██████████| 257/257 [15:10<00:00,  3.54s/it]\n",
      "Validation epoch 76: 100%|██████████| 60/60 [02:09<00:00,  2.16s/it]\n"
     ]
    },
    {
     "name": "stdout",
     "output_type": "stream",
     "text": [
      "Epoch 76:\n",
      "    Train loss 0.230, accuracy 0.905, F1-score 0.940, MCC: 0.473, Dice: 0.940\n",
      "    Val loss 0.219, accuracy 0.915, F1-score 0.951, MCC: 0.488, Dice: 0.951\n"
     ]
    },
    {
     "name": "stderr",
     "output_type": "stream",
     "text": [
      "Training epoch 77: 100%|██████████| 257/257 [15:24<00:00,  3.60s/it]\n",
      "Validation epoch 77: 100%|██████████| 60/60 [02:04<00:00,  2.07s/it]\n",
      "Training epoch 78:   0%|          | 0/257 [00:00<?, ?it/s]"
     ]
    },
    {
     "name": "stdout",
     "output_type": "stream",
     "text": [
      "Epoch 77:\n",
      "    Train loss 0.228, accuracy 0.905, F1-score 0.941, MCC: 0.469, Dice: 0.941\n",
      "    Val loss 0.219, accuracy 0.916, F1-score 0.950, MCC: 0.480, Dice: 0.950\n"
     ]
    },
    {
     "name": "stderr",
     "output_type": "stream",
     "text": [
      "Training epoch 78: 100%|██████████| 257/257 [15:24<00:00,  3.60s/it]\n",
      "Validation epoch 78: 100%|██████████| 60/60 [02:05<00:00,  2.10s/it]\n",
      "Training epoch 79:   0%|          | 0/257 [00:00<?, ?it/s]"
     ]
    },
    {
     "name": "stdout",
     "output_type": "stream",
     "text": [
      "Epoch 78:\n",
      "    Train loss 0.230, accuracy 0.905, F1-score 0.941, MCC: 0.474, Dice: 0.941\n",
      "    Val loss 0.227, accuracy 0.915, F1-score 0.949, MCC: 0.480, Dice: 0.949\n"
     ]
    },
    {
     "name": "stderr",
     "output_type": "stream",
     "text": [
      "Training epoch 79: 100%|██████████| 257/257 [15:01<00:00,  3.51s/it]\n",
      "Validation epoch 79: 100%|██████████| 60/60 [02:04<00:00,  2.07s/it]\n",
      "Training epoch 80:   0%|          | 0/257 [00:00<?, ?it/s]"
     ]
    },
    {
     "name": "stdout",
     "output_type": "stream",
     "text": [
      "Epoch 79:\n",
      "    Train loss 0.230, accuracy 0.906, F1-score 0.941, MCC: 0.470, Dice: 0.941\n",
      "    Val loss 0.221, accuracy 0.918, F1-score 0.951, MCC: 0.482, Dice: 0.951\n"
     ]
    },
    {
     "name": "stderr",
     "output_type": "stream",
     "text": [
      "Training epoch 80: 100%|██████████| 257/257 [15:16<00:00,  3.57s/it]\n",
      "Validation epoch 80: 100%|██████████| 60/60 [02:01<00:00,  2.02s/it]\n",
      "Training epoch 81:   0%|          | 0/257 [00:00<?, ?it/s]"
     ]
    },
    {
     "name": "stdout",
     "output_type": "stream",
     "text": [
      "Epoch 80:\n",
      "    Train loss 0.230, accuracy 0.903, F1-score 0.939, MCC: 0.470, Dice: 0.939\n",
      "    Val loss 0.223, accuracy 0.912, F1-score 0.949, MCC: 0.478, Dice: 0.949\n"
     ]
    },
    {
     "name": "stderr",
     "output_type": "stream",
     "text": [
      "Training epoch 81: 100%|██████████| 257/257 [15:17<00:00,  3.57s/it]\n",
      "Validation epoch 81: 100%|██████████| 60/60 [02:05<00:00,  2.10s/it]\n",
      "Training epoch 82:   0%|          | 0/257 [00:00<?, ?it/s]"
     ]
    },
    {
     "name": "stdout",
     "output_type": "stream",
     "text": [
      "Epoch 81:\n",
      "    Train loss 0.229, accuracy 0.903, F1-score 0.940, MCC: 0.468, Dice: 0.940\n",
      "    Val loss 0.226, accuracy 0.916, F1-score 0.949, MCC: 0.466, Dice: 0.949\n"
     ]
    },
    {
     "name": "stderr",
     "output_type": "stream",
     "text": [
      "Training epoch 82: 100%|██████████| 257/257 [15:09<00:00,  3.54s/it]\n",
      "Validation epoch 82: 100%|██████████| 60/60 [02:02<00:00,  2.04s/it]\n",
      "Training epoch 83:   0%|          | 0/257 [00:00<?, ?it/s]"
     ]
    },
    {
     "name": "stdout",
     "output_type": "stream",
     "text": [
      "Epoch 82:\n",
      "    Train loss 0.227, accuracy 0.904, F1-score 0.941, MCC: 0.469, Dice: 0.941\n",
      "    Val loss 0.215, accuracy 0.915, F1-score 0.950, MCC: 0.486, Dice: 0.950\n"
     ]
    },
    {
     "name": "stderr",
     "output_type": "stream",
     "text": [
      "Training epoch 83: 100%|██████████| 257/257 [15:17<00:00,  3.57s/it]\n",
      "Validation epoch 83: 100%|██████████| 60/60 [02:00<00:00,  2.01s/it]\n",
      "Training epoch 84:   0%|          | 0/257 [00:00<?, ?it/s]"
     ]
    },
    {
     "name": "stdout",
     "output_type": "stream",
     "text": [
      "Epoch 83:\n",
      "    Train loss 0.231, accuracy 0.906, F1-score 0.942, MCC: 0.474, Dice: 0.942\n",
      "    Val loss 0.221, accuracy 0.914, F1-score 0.950, MCC: 0.475, Dice: 0.950\n"
     ]
    },
    {
     "name": "stderr",
     "output_type": "stream",
     "text": [
      "Training epoch 84: 100%|██████████| 257/257 [15:06<00:00,  3.53s/it]\n",
      "Validation epoch 84: 100%|██████████| 60/60 [02:05<00:00,  2.09s/it]\n",
      "Training epoch 85:   0%|          | 0/257 [00:00<?, ?it/s]"
     ]
    },
    {
     "name": "stdout",
     "output_type": "stream",
     "text": [
      "Epoch 84:\n",
      "    Train loss 0.233, accuracy 0.904, F1-score 0.941, MCC: 0.468, Dice: 0.941\n",
      "    Val loss 0.218, accuracy 0.917, F1-score 0.951, MCC: 0.481, Dice: 0.951\n"
     ]
    },
    {
     "name": "stderr",
     "output_type": "stream",
     "text": [
      "Training epoch 85: 100%|██████████| 257/257 [15:36<00:00,  3.65s/it]\n",
      "Validation epoch 85:  45%|████▌     | 27/60 [00:57<01:12,  2.21s/it]IOPub message rate exceeded.\n",
      "The notebook server will temporarily stop sending output\n",
      "to the client in order to avoid crashing it.\n",
      "To change this limit, set the config variable\n",
      "`--NotebookApp.iopub_msg_rate_limit`.\n",
      "\n",
      "Current values:\n",
      "NotebookApp.iopub_msg_rate_limit=1000.0 (msgs/sec)\n",
      "NotebookApp.rate_limit_window=3.0 (secs)\n",
      "\n",
      "Training epoch 100: 100%|██████████| 257/257 [13:55<00:00,  3.25s/it]\n",
      "Validation epoch 100: 100%|██████████| 60/60 [01:45<00:00,  1.77s/it]"
     ]
    },
    {
     "name": "stdout",
     "output_type": "stream",
     "text": [
      "Epoch 100:\n",
      "    Train loss 0.229, accuracy 0.905, F1-score 0.942, MCC: 0.475, Dice: 0.942\n",
      "    Val loss 0.222, accuracy 0.915, F1-score 0.948, MCC: 0.481, Dice: 0.948\n"
     ]
    },
    {
     "name": "stderr",
     "output_type": "stream",
     "text": [
      "\n"
     ]
    }
   ],
   "source": [
    "run_africa(country, train_names, val_names, test_names,\n",
    "           train_names_label, val_names_label, test_names_label,\n",
    "           trained_model=trained_model,\n",
    "           epochs=epochs, lr=lr, lr_decay=lr_decay, \n",
    "           model_type=model_type, n_filters=n_filters, depth=depth, n_classes=n_classes,\n",
    "           batch_size=batch_size, month=month_name,\n",
    "           codes_to_keep=codes_to_keep, \n",
    "           ctx_name=ctx_name,\n",
    "           gpu_id=gpu_id, \n",
    "           folder_suffix=folder_suffix,\n",
    "           boundary_kernel_size=boundary_kernel_size)"
   ]
  },
  {
   "cell_type": "code",
   "execution_count": null,
   "metadata": {},
   "outputs": [],
   "source": []
  }
 ],
 "metadata": {
  "kernelspec": {
   "display_name": "Environment (conda_mxnet1.6.0)",
   "language": "python",
   "name": "conda_mxnet1.6.0"
  },
  "language_info": {
   "codemirror_mode": {
    "name": "ipython",
    "version": 3
   },
   "file_extension": ".py",
   "mimetype": "text/x-python",
   "name": "python",
   "nbconvert_exporter": "python",
   "pygments_lexer": "ipython3",
   "version": "3.6.11"
  }
 },
 "nbformat": 4,
 "nbformat_minor": 2
}
