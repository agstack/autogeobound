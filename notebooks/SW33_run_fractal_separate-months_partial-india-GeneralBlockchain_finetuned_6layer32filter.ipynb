{
 "cells": [
  {
   "cell_type": "code",
   "execution_count": 1,
   "metadata": {},
   "outputs": [],
   "source": [
    "import numpy as np\n",
    "import pandas as pd\n",
    "import os\n",
    "from tqdm import tqdm\n",
    "import visdom\n",
    "\n",
    "import mxnet as mx\n",
    "from mxnet import gluon\n",
    "from mxnet import autograd\n",
    "from mxnet import image\n",
    "\n",
    "import sys\n",
    "sys.path.append('../../resuneta/src')\n",
    "sys.path.append('../../decode/FracTAL_ResUNet/models/semanticsegmentation')\n",
    "sys.path.append('../../decode/FracTAL_ResUNet/nn/loss')\n",
    "sys.path.append('../../')\n",
    "sys.path.append('../MXNet-ResUNeta/')\n",
    "\n",
    "from bound_dist import get_distance, get_boundary\n",
    "from FracTAL_ResUNet import FracTAL_ResUNet_cmtsk\n",
    "from ftnmt_loss import ftnmt_loss_masked\n",
    "from datasets import *\n",
    "\n",
    "from sklearn.metrics import matthews_corrcoef\n",
    "\n",
    "import matplotlib.pyplot as plt\n",
    "%matplotlib inline"
   ]
  },
  {
   "cell_type": "code",
   "execution_count": 2,
   "metadata": {},
   "outputs": [],
   "source": [
    "def dice_coef(x, y):\n",
    "    if type(x).__module__ == 'numpy':\n",
    "        intersection = np.logical_and(x, y)\n",
    "        return 2. * np.sum(intersection) / (np.sum(x) + np.sum(y))\n",
    "    else:\n",
    "        intersection = mx.ndarray.op.broadcast_logical_and(x, y)\n",
    "        return 2. * mx.nd.sum(intersection) / (mx.nd.sum(x) + mx.nd.sum(y))"
   ]
  },
  {
   "cell_type": "code",
   "execution_count": 3,
   "metadata": {},
   "outputs": [],
   "source": [
    "def visdom_visualize_batch(vis, img, extent, boundary, distance,\n",
    "                           extent_pred, boundary_pred, distance_pred,\n",
    "                           hsv, hsv_pred, mask, title=\"Train images\"):\n",
    "\n",
    "    img, extent, boundary, distance = img.asnumpy(), extent.asnumpy(), boundary.asnumpy(), distance.asnumpy()\n",
    "    extent_pred, boundary_pred = extent_pred.asnumpy(), boundary_pred.asnumpy()\n",
    "    distance_pred, hsv, hsv_pred = distance_pred.asnumpy(), hsv.asnumpy(), hsv_pred.asnumpy()\n",
    "    mask = mask.asnumpy()\n",
    "\n",
    "    # put everything in one window\n",
    "    batch_size, nchannels, nrows, ncols = img.shape\n",
    "    padding = 10\n",
    "    items = [img, hsv, hsv_pred, extent, extent_pred, \n",
    "             boundary, boundary_pred, distance, distance_pred,\n",
    "             mask]\n",
    "    result = np.zeros((3, len(items)*nrows + (len(items)-1)*padding, batch_size*ncols + (batch_size-1)*padding))\n",
    "\n",
    "    for j, item in enumerate(items):\n",
    "\n",
    "        if item.shape[1] == 1:\n",
    "            item = np.tile(item, (1,3,1,1)) * 255.\n",
    "\n",
    "        if j == 1 or j == 2: # convert HSV to RGB\n",
    "            item = np.moveaxis(item, 1, -1) * 255.\n",
    "            for i in range(batch_size):\n",
    "                item[i] = cv2.cvtColor(item[i].astype(np.uint8), cv2.COLOR_HSV2RGB)\n",
    "            item = np.moveaxis(item, -1, 1)\n",
    "            \n",
    "        for i in range(batch_size):\n",
    "            result[:, j*(nrows+padding):(j+1)*nrows+j*padding, i*(ncols+padding):(i+1)*ncols+i*padding] = item[i]\n",
    "    vis.images(result, nrow=1, win=title, opts={'title': title})\n"
   ]
  },
  {
   "cell_type": "code",
   "execution_count": 4,
   "metadata": {},
   "outputs": [],
   "source": [
    "def train_model(train_dataloader, model, tanimoto_dual, trainer, epoch, args):\n",
    "    \n",
    "    # initialize metrics\n",
    "    cumulative_loss = 0\n",
    "    accuracy = mx.metric.Accuracy()\n",
    "    f1 = mx.metric.F1()\n",
    "    mcc = mx.metric.MCC()\n",
    "    dice = mx.metric.CustomMetric(feval=dice_coef, name=\"Dice\")\n",
    "    if args['ctx_name'] == 'cpu':\n",
    "        ctx = mx.cpu()\n",
    "    else:\n",
    "        ctx = mx.gpu(args['gpu'])\n",
    "    \n",
    "    # training set\n",
    "    for batch_i, (img, extent, boundary, distance, hsv, mask) in enumerate(\n",
    "        tqdm(train_dataloader, desc='Training epoch {}'.format(epoch))):\n",
    "        \n",
    "        with autograd.record():\n",
    "\n",
    "            img = img.as_in_context(ctx)\n",
    "            extent = extent.as_in_context(ctx)\n",
    "            boundary = boundary.as_in_context(ctx)\n",
    "            distance = distance.as_in_context(ctx)\n",
    "            hsv = hsv.as_in_context(ctx)\n",
    "            mask = mask.as_in_context(ctx)\n",
    "            nonmask = mx.nd.ones(extent.shape).as_in_context(ctx)\n",
    "            \n",
    "            # logits, bound, dist, convc = model(img)\n",
    "            logits, bound, dist = model(img)\n",
    "            \n",
    "            # multi-task loss\n",
    "            # TODO: wrap this in a custom loss function / class\n",
    "            loss_extent = mx.nd.sum(tanimoto_dual(logits, extent, mask))\n",
    "            loss_boundary = mx.nd.sum(tanimoto_dual(bound, boundary, mask))\n",
    "            loss_distance = mx.nd.sum(tanimoto_dual(dist, distance, mask))\n",
    "\n",
    "            loss = 0.33 * (loss_extent + loss_boundary + loss_distance) # + loss_hsv)\n",
    "            \n",
    "        loss.backward()\n",
    "        trainer.step(args['batch_size'])\n",
    "        cumulative_loss += mx.nd.sum(loss).asscalar()\n",
    "        \n",
    "        logits_reshaped = logits.reshape((logits.shape[0], -1))\n",
    "        extent_reshaped = extent.reshape((extent.shape[0], -1))\n",
    "        mask_reshaped = mask.reshape((mask.shape[0], -1))\n",
    "        \n",
    "        nonmask_idx = mx.np.nonzero(mask_reshaped.as_np_ndarray())\n",
    "        nonmask_idx = mx.np.stack(nonmask_idx).as_nd_ndarray().as_in_context(ctx)\n",
    "        logits_masked = mx.nd.gather_nd(logits_reshaped, nonmask_idx)\n",
    "        extent_masked = mx.nd.gather_nd(extent_reshaped, nonmask_idx)\n",
    "\n",
    "        # accuracy\n",
    "        extent_predicted_classes = mx.nd.ceil(logits_masked - 0.5)\n",
    "        accuracy.update(extent_masked, extent_predicted_classes)\n",
    "        \n",
    "        # f1 score\n",
    "        probabilities = mx.nd.stack(1 - logits_masked, logits_masked, axis=1)\n",
    "        f1.update(extent_masked, probabilities)\n",
    "        \n",
    "        # MCC metric\n",
    "        mcc.update(extent_masked, probabilities)\n",
    "        \n",
    "        # Dice score\n",
    "        dice.update(extent_masked, extent_predicted_classes)\n",
    "        \n",
    "        # TEMPORARY to make visdom work\n",
    "        convc = hsv\n",
    "        if batch_i % args['visdom_every'] == 0:\n",
    "            visdom_visualize_batch(args['visdom'], img, extent, boundary, distance,\n",
    "                                   logits, bound, dist, hsv, convc, mask)\n",
    "\n",
    "    return cumulative_loss, accuracy, f1, mcc, dice"
   ]
  },
  {
   "cell_type": "code",
   "execution_count": 5,
   "metadata": {},
   "outputs": [],
   "source": [
    "def evaluate_model(val_dataloader, model, tanimoto_dual, epoch, args):\n",
    "    \n",
    "    # initialize metrics\n",
    "    cumulative_loss = 0\n",
    "    accuracy = mx.metric.Accuracy()\n",
    "    f1 = mx.metric.F1()\n",
    "    mcc = mx.metric.MCC()\n",
    "    dice = mx.metric.CustomMetric(feval=dice_coef, name=\"Dice\")\n",
    "    if args['ctx_name'] == 'cpu':\n",
    "        ctx = mx.cpu()\n",
    "    else:\n",
    "        ctx = mx.gpu(args['gpu'])\n",
    "    \n",
    "    # validation set\n",
    "    for batch_i, (img, extent, boundary, distance, hsv, mask) in enumerate(\n",
    "        tqdm(val_dataloader, desc='Validation epoch {}'.format(epoch))):\n",
    "\n",
    "        img = img.as_in_context(ctx)\n",
    "        extent = extent.as_in_context(ctx)\n",
    "        boundary = boundary.as_in_context(ctx)\n",
    "        distance = distance.as_in_context(ctx)\n",
    "        hsv = hsv.as_in_context(ctx)\n",
    "        mask = mask.as_in_context(ctx)\n",
    "        nonmask = mx.nd.ones(extent.shape).as_in_context(ctx)\n",
    "\n",
    "        # logits, bound, dist, convc = model(img)\n",
    "        logits, bound, dist = model(img)\n",
    "        \n",
    "        # multi-task loss\n",
    "        # TODO: wrap this in a custom loss function / class\n",
    "        loss_extent = mx.nd.sum(tanimoto_dual(logits, extent, mask))\n",
    "        loss_boundary = mx.nd.sum(tanimoto_dual(bound, boundary, mask))\n",
    "        loss_distance = mx.nd.sum(tanimoto_dual(dist, distance, mask))\n",
    "\n",
    "        loss = 0.33 * (loss_extent + loss_boundary + loss_distance) # + loss_hsv)\n",
    "        \n",
    "        # update metrics based on every batch\n",
    "        cumulative_loss += mx.nd.sum(loss).asscalar()\n",
    "        \n",
    "        # update metrics based on every batch\n",
    "        # mask out unlabeled pixels            \n",
    "        logits_reshaped = logits.reshape((logits.shape[0], -1))\n",
    "        extent_reshaped = extent.reshape((extent.shape[0], -1))\n",
    "        mask_reshaped = mask.reshape((mask.shape[0], -1))\n",
    "        \n",
    "        nonmask_idx = mx.np.nonzero(mask_reshaped.as_np_ndarray())\n",
    "        nonmask_idx = mx.np.stack(nonmask_idx).as_nd_ndarray().as_in_context(ctx)\n",
    "        logits_masked = mx.nd.gather_nd(logits_reshaped, nonmask_idx)\n",
    "        extent_masked = mx.nd.gather_nd(extent_reshaped, nonmask_idx)\n",
    "\n",
    "        # accuracy\n",
    "        extent_predicted_classes = mx.nd.ceil(logits_masked - 0.5)\n",
    "        accuracy.update(extent_masked, extent_predicted_classes)\n",
    "        \n",
    "        # f1 score\n",
    "        probabilities = mx.nd.stack(1 - logits_masked, logits_masked, axis=1)\n",
    "        f1.update(extent_masked, probabilities)\n",
    "        \n",
    "        # MCC metric\n",
    "        mcc.update(extent_masked, probabilities)\n",
    "        \n",
    "        # Dice score\n",
    "        dice.update(extent_masked, extent_predicted_classes)\n",
    "        \n",
    "        # TEMPORARY to make visdom work\n",
    "        convc = hsv\n",
    "        if batch_i % args['visdom_every'] == 0:\n",
    "            visdom_visualize_batch(args['visdom'], img, extent, boundary, distance,\n",
    "                                   logits, bound, dist, hsv, convc, mask, title=\"Val images\")\n",
    "        \n",
    "    return cumulative_loss, accuracy, f1, mcc, dice"
   ]
  },
  {
   "cell_type": "markdown",
   "metadata": {},
   "source": [
    "# Africa datasets"
   ]
  },
  {
   "cell_type": "code",
   "execution_count": 6,
   "metadata": {},
   "outputs": [],
   "source": [
    "def run_africa(country, train_names, val_names, test_names, \n",
    "               train_names_label, val_names_label, test_names_label,\n",
    "               trained_model=None,\n",
    "               epochs=100, lr=0.001, lr_decay=None, \n",
    "               model_type='resunet-d6',\n",
    "               n_filters=16, batch_size=8,\n",
    "               depth=5, n_classes=1, \n",
    "               month='janFebMar',\n",
    "               codes_to_keep=[1, 2],\n",
    "               folder_suffix='',\n",
    "               boundary_kernel_size=3,\n",
    "               ctx_name='cpu',\n",
    "               gpu_id=0):\n",
    "    \n",
    "    # Set MXNet ctx\n",
    "    if ctx_name == 'cpu':\n",
    "        ctx = mx.cpu()\n",
    "    elif ctx_name == 'gpu':\n",
    "        ctx = mx.gpu(gpu_id)\n",
    "    \n",
    "    # Set up names of directories and paths for saving\n",
    "    if trained_model is None:\n",
    "        folder_name = model_type+'_'+month+'_nfilter-'+str(n_filters)+ \\\n",
    "                      '_depth-'+str(depth)+'_bs-'+str(batch_size)+'_lr-'+str(lr)+folder_suffix\n",
    "        if lr_decay:\n",
    "            folder_name = folder_name + '_lrdecay-'+str(lr_decay)\n",
    "            \n",
    "        # define model\n",
    "        if model_type == 'resunet-d6':\n",
    "            model = ResUNet_d6(_nfilters_init=n_filters, _NClasses=n_classes)\n",
    "        elif model_type == 'resunet-d7':\n",
    "            model = ResUNet_d7(_nfilters_init=n_filters, _NClasses=n_classes)\n",
    "        elif model_type == 'fractal-resunet':\n",
    "            model = FracTAL_ResUNet_cmtsk(nfilters_init=n_filters, depth=depth, NClasses=n_classes)\n",
    "        model.initialize()\n",
    "        model.hybridize()\n",
    "        model.collect_params().reset_ctx(ctx)\n",
    "        \n",
    "    else:\n",
    "        folder_name = model_type+'_'+month+'_nfilter-'+str(n_filters)+ \\\n",
    "                      '_bs-'+str(batch_size)+'_lr-'+str(lr)+folder_suffix\n",
    "        if model_type == 'resunet-d6':\n",
    "            model = ResUNet_d6(_nfilters_init=n_filters, _NClasses=n_classes)\n",
    "        elif model_type == 'resunet-d7':\n",
    "            model = ResUNet_d7(_nfilters_init=n_filters, _NClasses=n_classes)\n",
    "        elif model_type == 'fractal-resunet':\n",
    "            model = FracTAL_ResUNet_cmtsk(nfilters_init=n_filters, depth=depth, NClasses=n_classes)\n",
    "        model.load_parameters(trained_model, ctx=ctx)\n",
    "        \n",
    "    save_path = os.path.join('../experiments/', country, folder_name)\n",
    "    if not os.path.isdir(save_path):\n",
    "        os.makedirs(save_path)\n",
    "    save_model_name = os.path.join(save_path, \"model.params\")\n",
    "    \n",
    "    # Visdom\n",
    "    env_name = country + '_' + folder_name\n",
    "    vis = visdom.Visdom(port=8097, env=env_name)\n",
    "    \n",
    "    # Arguments\n",
    "    args = {}\n",
    "    args['batch_size'] = batch_size\n",
    "    args['ctx_name'] = ctx_name\n",
    "    args['gpu'] = gpu_id\n",
    "    args['visdom'] = vis\n",
    "    args['visdom_every'] = 20\n",
    "\n",
    "    # Define train/val/test splits\n",
    "    train_dataset = AirbusMasked(\n",
    "        fold='train', \n",
    "        image_names=train_names, \n",
    "        label_names=train_names_label, \n",
    "        classes=codes_to_keep,\n",
    "        boundary_kernel_size=boundary_kernel_size)\n",
    "    val_dataset = AirbusMasked(\n",
    "        fold='val', \n",
    "        image_names=val_names, \n",
    "        label_names=val_names_label, \n",
    "        classes=codes_to_keep,\n",
    "        boundary_kernel_size=boundary_kernel_size)\n",
    "    test_dataset = AirbusMasked(\n",
    "        fold='test', \n",
    "        image_names=test_names, \n",
    "        label_names=test_names_label, \n",
    "        classes=codes_to_keep,\n",
    "        boundary_kernel_size=boundary_kernel_size)\n",
    "\n",
    "    train_dataloader = gluon.data.DataLoader(train_dataset, batch_size=batch_size, shuffle=True)\n",
    "    val_dataloader = gluon.data.DataLoader(val_dataset, batch_size=batch_size)\n",
    "    test_dataloader = gluon.data.DataLoader(test_dataset, batch_size=batch_size)\n",
    "\n",
    "    # define loss function\n",
    "    tanimoto_dual = ftnmt_loss_masked(depth=0) # Tanimoto_with_dual_masked()\n",
    "    if lr_decay:\n",
    "        schedule = mx.lr_scheduler.FactorScheduler(step=1, factor=lr_decay)\n",
    "        adam_optimizer = mx.optimizer.Adam(learning_rate=lr, lr_scheduler=schedule)\n",
    "    else:\n",
    "        adam_optimizer = mx.optimizer.Adam(learning_rate=lr)\n",
    "    trainer = gluon.Trainer(model.collect_params(), optimizer=adam_optimizer)\n",
    "\n",
    "    # containers for metrics to log\n",
    "    train_metrics = {'train_loss': [], 'train_acc': [], 'train_f1': [], \n",
    "                     'train_mcc': [], 'train_dice': []}\n",
    "    val_metrics = {'val_loss': [], 'val_acc': [], 'val_f1': [], \n",
    "                   'val_mcc': [], 'val_dice': []}\n",
    "    best_mcc = 0.0\n",
    "\n",
    "    # training loop\n",
    "    for epoch in range(1, epochs+1):\n",
    "\n",
    "        # training set\n",
    "        train_loss, train_accuracy, train_f1, train_mcc, train_dice = train_model(\n",
    "            train_dataloader, model, tanimoto_dual, trainer, epoch, args)\n",
    "\n",
    "        # training set metrics\n",
    "        train_loss_avg = train_loss / len(train_dataset)\n",
    "        train_metrics['train_loss'].append(train_loss_avg)\n",
    "        train_metrics['train_acc'].append(train_accuracy.get()[1])\n",
    "        train_metrics['train_f1'].append(train_f1.get()[1])\n",
    "        train_metrics['train_mcc'].append(train_mcc.get()[1])\n",
    "        train_metrics['train_dice'].append(train_dice.get()[1])\n",
    "\n",
    "        # validation set\n",
    "        val_loss, val_accuracy, val_f1, val_mcc, val_dice = evaluate_model(\n",
    "            val_dataloader, model, tanimoto_dual, epoch, args)\n",
    "\n",
    "        # validation set metrics\n",
    "        val_loss_avg = val_loss / len(val_dataset)\n",
    "        val_metrics['val_loss'].append(val_loss_avg)\n",
    "        val_metrics['val_acc'].append(val_accuracy.get()[1])\n",
    "        val_metrics['val_f1'].append(val_f1.get()[1])\n",
    "        val_metrics['val_mcc'].append(val_mcc.get()[1])\n",
    "        val_metrics['val_dice'].append(val_dice.get()[1])\n",
    "\n",
    "        print(\"Epoch {}:\".format(epoch))\n",
    "        print(\"    Train loss {:0.3f}, accuracy {:0.3f}, F1-score {:0.3f}, MCC: {:0.3f}, Dice: {:0.3f}\".format(\n",
    "            train_loss_avg, train_accuracy.get()[1], train_f1.get()[1], train_mcc.get()[1], train_dice.get()[1]))\n",
    "        print(\"    Val loss {:0.3f}, accuracy {:0.3f}, F1-score {:0.3f}, MCC: {:0.3f}, Dice: {:0.3f}\".format(\n",
    "            val_loss_avg, val_accuracy.get()[1], val_f1.get()[1], val_mcc.get()[1], val_dice.get()[1]))\n",
    "\n",
    "        # save model based on best MCC metric\n",
    "        if val_mcc.get()[1] > best_mcc:\n",
    "            model.save_parameters(save_model_name)\n",
    "            best_mcc = val_mcc.get()[1]\n",
    "\n",
    "        # save metrics\n",
    "        metrics = pd.concat([pd.DataFrame(train_metrics), pd.DataFrame(val_metrics)], axis=1)\n",
    "        metrics.to_csv(os.path.join(save_path, 'metrics.csv'), index=False)\n",
    "\n",
    "        # visdom\n",
    "        vis.line(Y=np.stack([train_metrics['train_loss'], val_metrics['val_loss']], axis=1), \n",
    "                 X=np.arange(1, epoch+1), win=\"Loss\", \n",
    "                 opts=dict(legend=['train loss', 'val loss'], markers=False, title=\"Losses\",\n",
    "                           xlabel=\"Epoch\", ylabel=\"Loss\")\n",
    "                )\n",
    "        vis.line(Y=np.stack([train_metrics['train_mcc'], val_metrics['val_mcc']], axis=1), \n",
    "                 X=np.arange(1, epoch+1), win=\"MCC\", \n",
    "                 opts=dict(legend=['train MCC', 'val MCC'], markers=False, title=\"MCC\",\n",
    "                           xlabel=\"Epoch\", ylabel=\"MCC\")\n",
    "                )\n"
   ]
  },
  {
   "cell_type": "code",
   "execution_count": 7,
   "metadata": {
    "scrolled": true
   },
   "outputs": [
    {
     "name": "stdout",
     "output_type": "stream",
     "text": [
      "depth:= 0, nfilters: 32, nheads::8, widths::1\n",
      "depth:= 1, nfilters: 64, nheads::16, widths::1\n",
      "depth:= 2, nfilters: 128, nheads::32, widths::1\n",
      "depth:= 3, nfilters: 256, nheads::64, widths::1\n",
      "depth:= 4, nfilters: 512, nheads::128, widths::1\n",
      "depth:= 5, nfilters: 1024, nheads::256, widths::1\n",
      "depth:= 6, nfilters: 512, nheads::256, widths::1\n",
      "depth:= 7, nfilters: 256, nheads::128, widths::1\n",
      "depth:= 8, nfilters: 128, nheads::64, widths::1\n",
      "depth:= 9, nfilters: 64, nheads::32, widths::1\n",
      "depth:= 10, nfilters: 32, nheads::16, widths::1\n"
     ]
    },
    {
     "name": "stderr",
     "output_type": "stream",
     "text": [
      "Setting up a new session...\n",
      "Training epoch 1: 100%|██████████| 1500/1500 [32:28<00:00,  1.30s/it]\n",
      "Validation epoch 1: 100%|██████████| 450/450 [04:46<00:00,  1.57it/s]\n"
     ]
    },
    {
     "name": "stdout",
     "output_type": "stream",
     "text": [
      "Epoch 1:\n",
      "    Train loss 0.369, accuracy 0.784, F1-score 0.852, MCC: 0.334, Dice: 0.852\n",
      "    Val loss 0.341, accuracy 0.807, F1-score 0.876, MCC: 0.359, Dice: 0.876\n"
     ]
    },
    {
     "name": "stderr",
     "output_type": "stream",
     "text": [
      "Training epoch 2: 100%|██████████| 1500/1500 [30:58<00:00,  1.24s/it]\n",
      "Validation epoch 2: 100%|██████████| 450/450 [04:53<00:00,  1.53it/s]\n"
     ]
    },
    {
     "name": "stdout",
     "output_type": "stream",
     "text": [
      "Epoch 2:\n",
      "    Train loss 0.361, accuracy 0.789, F1-score 0.853, MCC: 0.350, Dice: 0.853\n",
      "    Val loss 0.336, accuracy 0.810, F1-score 0.879, MCC: 0.368, Dice: 0.879\n"
     ]
    },
    {
     "name": "stderr",
     "output_type": "stream",
     "text": [
      "Training epoch 3: 100%|██████████| 1500/1500 [30:58<00:00,  1.24s/it]\n",
      "Validation epoch 3: 100%|██████████| 450/450 [05:07<00:00,  1.47it/s]\n"
     ]
    },
    {
     "name": "stdout",
     "output_type": "stream",
     "text": [
      "Epoch 3:\n",
      "    Train loss 0.359, accuracy 0.791, F1-score 0.855, MCC: 0.356, Dice: 0.855\n",
      "    Val loss 0.335, accuracy 0.810, F1-score 0.878, MCC: 0.372, Dice: 0.878\n"
     ]
    },
    {
     "name": "stderr",
     "output_type": "stream",
     "text": [
      "Training epoch 4:  22%|██▏       | 329/1500 [06:43<25:17,  1.30s/it]IOPub message rate exceeded.\n",
      "The notebook server will temporarily stop sending output\n",
      "to the client in order to avoid crashing it.\n",
      "To change this limit, set the config variable\n",
      "`--NotebookApp.iopub_msg_rate_limit`.\n",
      "\n",
      "Current values:\n",
      "NotebookApp.iopub_msg_rate_limit=1000.0 (msgs/sec)\n",
      "NotebookApp.rate_limit_window=3.0 (secs)\n",
      "\n",
      "Training epoch 5: 100%|██████████| 1500/1500 [30:58<00:00,  1.24s/it]\n",
      "Validation epoch 5: 100%|██████████| 450/450 [04:55<00:00,  1.52it/s]\n"
     ]
    },
    {
     "name": "stdout",
     "output_type": "stream",
     "text": [
      "Epoch 5:\n",
      "    Train loss 0.355, accuracy 0.794, F1-score 0.855, MCC: 0.361, Dice: 0.855\n",
      "    Val loss 0.331, accuracy 0.812, F1-score 0.879, MCC: 0.378, Dice: 0.879\n"
     ]
    },
    {
     "name": "stderr",
     "output_type": "stream",
     "text": [
      "Training epoch 6:  73%|███████▎  | 1096/1500 [22:49<07:47,  1.16s/it]IOPub message rate exceeded.\n",
      "The notebook server will temporarily stop sending output\n",
      "to the client in order to avoid crashing it.\n",
      "To change this limit, set the config variable\n",
      "`--NotebookApp.iopub_msg_rate_limit`.\n",
      "\n",
      "Current values:\n",
      "NotebookApp.iopub_msg_rate_limit=1000.0 (msgs/sec)\n",
      "NotebookApp.rate_limit_window=3.0 (secs)\n",
      "\n",
      "Training epoch 8: 100%|██████████| 1500/1500 [31:02<00:00,  1.24s/it]\n",
      "Validation epoch 8: 100%|██████████| 450/450 [04:53<00:00,  1.53it/s]\n",
      "Training epoch 9:   0%|          | 0/1500 [00:00<?, ?it/s]"
     ]
    },
    {
     "name": "stdout",
     "output_type": "stream",
     "text": [
      "Epoch 8:\n",
      "    Train loss 0.352, accuracy 0.795, F1-score 0.857, MCC: 0.367, Dice: 0.857\n",
      "    Val loss 0.331, accuracy 0.811, F1-score 0.878, MCC: 0.380, Dice: 0.878\n"
     ]
    },
    {
     "name": "stderr",
     "output_type": "stream",
     "text": [
      "Training epoch 9: 100%|██████████| 1500/1500 [31:02<00:00,  1.24s/it]\n",
      "Validation epoch 9:  46%|████▌     | 207/450 [02:21<02:29,  1.62it/s]IOPub message rate exceeded.\n",
      "The notebook server will temporarily stop sending output\n",
      "to the client in order to avoid crashing it.\n",
      "To change this limit, set the config variable\n",
      "`--NotebookApp.iopub_msg_rate_limit`.\n",
      "\n",
      "Current values:\n",
      "NotebookApp.iopub_msg_rate_limit=1000.0 (msgs/sec)\n",
      "NotebookApp.rate_limit_window=3.0 (secs)\n",
      "\n",
      "Training epoch 11: 100%|██████████| 1500/1500 [30:56<00:00,  1.24s/it]\n",
      "Validation epoch 11: 100%|██████████| 450/450 [04:54<00:00,  1.53it/s]\n",
      "Training epoch 12:   0%|          | 0/1500 [00:00<?, ?it/s]"
     ]
    },
    {
     "name": "stdout",
     "output_type": "stream",
     "text": [
      "Epoch 11:\n",
      "    Train loss 0.351, accuracy 0.796, F1-score 0.857, MCC: 0.371, Dice: 0.857\n",
      "    Val loss 0.330, accuracy 0.809, F1-score 0.876, MCC: 0.382, Dice: 0.876\n"
     ]
    },
    {
     "name": "stderr",
     "output_type": "stream",
     "text": [
      "Training epoch 12: 100%|██████████| 1500/1500 [31:02<00:00,  1.24s/it]\n",
      "Validation epoch 12: 100%|██████████| 450/450 [05:06<00:00,  1.47it/s]\n",
      "Training epoch 13:   0%|          | 0/1500 [00:00<?, ?it/s]"
     ]
    },
    {
     "name": "stdout",
     "output_type": "stream",
     "text": [
      "Epoch 12:\n",
      "    Train loss 0.350, accuracy 0.797, F1-score 0.857, MCC: 0.374, Dice: 0.857\n",
      "    Val loss 0.333, accuracy 0.809, F1-score 0.876, MCC: 0.384, Dice: 0.876\n"
     ]
    },
    {
     "name": "stderr",
     "output_type": "stream",
     "text": [
      "Training epoch 13:  26%|██▌       | 390/1500 [08:05<21:57,  1.19s/it]IOPub message rate exceeded.\n",
      "The notebook server will temporarily stop sending output\n",
      "to the client in order to avoid crashing it.\n",
      "To change this limit, set the config variable\n",
      "`--NotebookApp.iopub_msg_rate_limit`.\n",
      "\n",
      "Current values:\n",
      "NotebookApp.iopub_msg_rate_limit=1000.0 (msgs/sec)\n",
      "NotebookApp.rate_limit_window=3.0 (secs)\n",
      "\n",
      "Training epoch 14: 100%|██████████| 1500/1500 [31:08<00:00,  1.25s/it]\n",
      "Validation epoch 14: 100%|██████████| 450/450 [04:56<00:00,  1.52it/s]\n",
      "Training epoch 15:   0%|          | 0/1500 [00:00<?, ?it/s]"
     ]
    },
    {
     "name": "stdout",
     "output_type": "stream",
     "text": [
      "Epoch 14:\n",
      "    Train loss 0.348, accuracy 0.798, F1-score 0.858, MCC: 0.376, Dice: 0.858\n",
      "    Val loss 0.330, accuracy 0.809, F1-score 0.876, MCC: 0.385, Dice: 0.876\n"
     ]
    },
    {
     "name": "stderr",
     "output_type": "stream",
     "text": [
      "Training epoch 15: 100%|██████████| 1500/1500 [31:09<00:00,  1.25s/it]\n",
      "Validation epoch 15: 100%|██████████| 450/450 [05:11<00:00,  1.44it/s]\n"
     ]
    },
    {
     "name": "stdout",
     "output_type": "stream",
     "text": [
      "Epoch 15:\n",
      "    Train loss 0.349, accuracy 0.798, F1-score 0.859, MCC: 0.377, Dice: 0.859\n",
      "    Val loss 0.328, accuracy 0.807, F1-score 0.875, MCC: 0.387, Dice: 0.875\n"
     ]
    },
    {
     "name": "stderr",
     "output_type": "stream",
     "text": [
      "Training epoch 16: 100%|██████████| 1500/1500 [31:02<00:00,  1.24s/it]\n",
      "Validation epoch 16: 100%|██████████| 450/450 [04:52<00:00,  1.54it/s]\n"
     ]
    },
    {
     "name": "stdout",
     "output_type": "stream",
     "text": [
      "Epoch 16:\n",
      "    Train loss 0.348, accuracy 0.799, F1-score 0.859, MCC: 0.378, Dice: 0.859\n",
      "    Val loss 0.329, accuracy 0.809, F1-score 0.876, MCC: 0.390, Dice: 0.876\n"
     ]
    },
    {
     "name": "stderr",
     "output_type": "stream",
     "text": [
      "Training epoch 17: 100%|██████████| 1500/1500 [31:12<00:00,  1.25s/it]\n",
      "Validation epoch 17: 100%|██████████| 450/450 [04:54<00:00,  1.53it/s]\n",
      "Training epoch 18:   0%|          | 0/1500 [00:00<?, ?it/s]"
     ]
    },
    {
     "name": "stdout",
     "output_type": "stream",
     "text": [
      "Epoch 17:\n",
      "    Train loss 0.347, accuracy 0.799, F1-score 0.859, MCC: 0.379, Dice: 0.859\n",
      "    Val loss 0.329, accuracy 0.813, F1-score 0.880, MCC: 0.386, Dice: 0.880\n"
     ]
    },
    {
     "name": "stderr",
     "output_type": "stream",
     "text": [
      "Training epoch 18: 100%|██████████| 1500/1500 [31:02<00:00,  1.24s/it]\n",
      "Validation epoch 18: 100%|██████████| 450/450 [05:10<00:00,  1.45it/s]\n",
      "Training epoch 19:   0%|          | 0/1500 [00:00<?, ?it/s]"
     ]
    },
    {
     "name": "stdout",
     "output_type": "stream",
     "text": [
      "Epoch 18:\n",
      "    Train loss 0.347, accuracy 0.798, F1-score 0.858, MCC: 0.379, Dice: 0.858\n",
      "    Val loss 0.330, accuracy 0.818, F1-score 0.884, MCC: 0.380, Dice: 0.884\n"
     ]
    },
    {
     "name": "stderr",
     "output_type": "stream",
     "text": [
      "Training epoch 19: 100%|██████████| 1500/1500 [30:53<00:00,  1.24s/it]\n",
      "Validation epoch 19: 100%|██████████| 450/450 [04:51<00:00,  1.54it/s]\n",
      "Training epoch 20:   0%|          | 0/1500 [00:00<?, ?it/s]"
     ]
    },
    {
     "name": "stdout",
     "output_type": "stream",
     "text": [
      "Epoch 19:\n",
      "    Train loss 0.347, accuracy 0.798, F1-score 0.858, MCC: 0.379, Dice: 0.858\n",
      "    Val loss 0.330, accuracy 0.818, F1-score 0.884, MCC: 0.384, Dice: 0.884\n"
     ]
    },
    {
     "name": "stderr",
     "output_type": "stream",
     "text": [
      "Training epoch 20: 100%|██████████| 1500/1500 [31:13<00:00,  1.25s/it]\n",
      "Validation epoch 20: 100%|██████████| 450/450 [04:52<00:00,  1.54it/s]\n"
     ]
    },
    {
     "name": "stdout",
     "output_type": "stream",
     "text": [
      "Epoch 20:\n",
      "    Train loss 0.346, accuracy 0.800, F1-score 0.860, MCC: 0.383, Dice: 0.860\n",
      "    Val loss 0.329, accuracy 0.809, F1-score 0.876, MCC: 0.391, Dice: 0.876\n"
     ]
    },
    {
     "name": "stderr",
     "output_type": "stream",
     "text": [
      "Training epoch 21: 100%|██████████| 1500/1500 [31:00<00:00,  1.24s/it]\n",
      "Validation epoch 21: 100%|██████████| 450/450 [05:09<00:00,  1.45it/s]\n",
      "Training epoch 22:   0%|          | 0/1500 [00:00<?, ?it/s]"
     ]
    },
    {
     "name": "stdout",
     "output_type": "stream",
     "text": [
      "Epoch 21:\n",
      "    Train loss 0.346, accuracy 0.799, F1-score 0.859, MCC: 0.381, Dice: 0.859\n",
      "    Val loss 0.332, accuracy 0.808, F1-score 0.875, MCC: 0.384, Dice: 0.875\n"
     ]
    },
    {
     "name": "stderr",
     "output_type": "stream",
     "text": [
      "Training epoch 22: 100%|██████████| 1500/1500 [31:05<00:00,  1.24s/it]\n",
      "Validation epoch 22: 100%|██████████| 450/450 [04:37<00:00,  1.62it/s]\n",
      "Training epoch 23:   0%|          | 0/1500 [00:00<?, ?it/s]"
     ]
    },
    {
     "name": "stdout",
     "output_type": "stream",
     "text": [
      "Epoch 22:\n",
      "    Train loss 0.345, accuracy 0.800, F1-score 0.859, MCC: 0.382, Dice: 0.859\n",
      "    Val loss 0.331, accuracy 0.810, F1-score 0.877, MCC: 0.386, Dice: 0.877\n"
     ]
    },
    {
     "name": "stderr",
     "output_type": "stream",
     "text": [
      "Training epoch 23: 100%|██████████| 1500/1500 [27:01<00:00,  1.08s/it]\n",
      "Validation epoch 23: 100%|██████████| 450/450 [04:11<00:00,  1.79it/s]\n",
      "Training epoch 24:   0%|          | 0/1500 [00:00<?, ?it/s]"
     ]
    },
    {
     "name": "stdout",
     "output_type": "stream",
     "text": [
      "Epoch 23:\n",
      "    Train loss 0.345, accuracy 0.800, F1-score 0.860, MCC: 0.384, Dice: 0.860\n",
      "    Val loss 0.331, accuracy 0.809, F1-score 0.876, MCC: 0.385, Dice: 0.876\n"
     ]
    },
    {
     "name": "stderr",
     "output_type": "stream",
     "text": [
      "Training epoch 24: 100%|██████████| 1500/1500 [26:57<00:00,  1.08s/it]\n",
      "Validation epoch 24: 100%|██████████| 450/450 [04:11<00:00,  1.79it/s]\n",
      "Training epoch 25:   0%|          | 0/1500 [00:00<?, ?it/s]"
     ]
    },
    {
     "name": "stdout",
     "output_type": "stream",
     "text": [
      "Epoch 24:\n",
      "    Train loss 0.344, accuracy 0.801, F1-score 0.859, MCC: 0.384, Dice: 0.859\n",
      "    Val loss 0.331, accuracy 0.812, F1-score 0.879, MCC: 0.382, Dice: 0.879\n"
     ]
    },
    {
     "name": "stderr",
     "output_type": "stream",
     "text": [
      "Training epoch 25: 100%|██████████| 1500/1500 [26:57<00:00,  1.08s/it]\n",
      "Validation epoch 25: 100%|██████████| 450/450 [04:11<00:00,  1.79it/s]\n",
      "Training epoch 26:   0%|          | 0/1500 [00:00<?, ?it/s]"
     ]
    },
    {
     "name": "stdout",
     "output_type": "stream",
     "text": [
      "Epoch 25:\n",
      "    Train loss 0.345, accuracy 0.801, F1-score 0.860, MCC: 0.385, Dice: 0.860\n",
      "    Val loss 0.330, accuracy 0.818, F1-score 0.884, MCC: 0.384, Dice: 0.884\n"
     ]
    },
    {
     "name": "stderr",
     "output_type": "stream",
     "text": [
      "Training epoch 26: 100%|██████████| 1500/1500 [26:59<00:00,  1.08s/it]\n",
      "Validation epoch 26: 100%|██████████| 450/450 [04:11<00:00,  1.79it/s]\n",
      "Training epoch 27:   0%|          | 0/1500 [00:00<?, ?it/s]"
     ]
    },
    {
     "name": "stdout",
     "output_type": "stream",
     "text": [
      "Epoch 26:\n",
      "    Train loss 0.343, accuracy 0.801, F1-score 0.859, MCC: 0.385, Dice: 0.859\n",
      "    Val loss 0.330, accuracy 0.817, F1-score 0.883, MCC: 0.382, Dice: 0.883\n"
     ]
    },
    {
     "name": "stderr",
     "output_type": "stream",
     "text": [
      "Training epoch 27: 100%|██████████| 1500/1500 [27:02<00:00,  1.08s/it]\n",
      "Validation epoch 27: 100%|██████████| 450/450 [04:15<00:00,  1.76it/s]\n",
      "Training epoch 28:   0%|          | 0/1500 [00:00<?, ?it/s]"
     ]
    },
    {
     "name": "stdout",
     "output_type": "stream",
     "text": [
      "Epoch 27:\n",
      "    Train loss 0.343, accuracy 0.801, F1-score 0.861, MCC: 0.387, Dice: 0.861\n",
      "    Val loss 0.332, accuracy 0.805, F1-score 0.872, MCC: 0.389, Dice: 0.872\n"
     ]
    },
    {
     "name": "stderr",
     "output_type": "stream",
     "text": [
      "Training epoch 28: 100%|██████████| 1500/1500 [27:01<00:00,  1.08s/it]\n",
      "Validation epoch 28: 100%|██████████| 450/450 [04:10<00:00,  1.80it/s]\n",
      "Training epoch 29:   0%|          | 0/1500 [00:00<?, ?it/s]"
     ]
    },
    {
     "name": "stdout",
     "output_type": "stream",
     "text": [
      "Epoch 28:\n",
      "    Train loss 0.342, accuracy 0.801, F1-score 0.860, MCC: 0.387, Dice: 0.860\n",
      "    Val loss 0.330, accuracy 0.809, F1-score 0.876, MCC: 0.388, Dice: 0.876\n"
     ]
    },
    {
     "name": "stderr",
     "output_type": "stream",
     "text": [
      "Training epoch 29:  83%|████████▎ | 1241/1500 [22:19<06:53,  1.60s/it]IOPub message rate exceeded.\n",
      "The notebook server will temporarily stop sending output\n",
      "to the client in order to avoid crashing it.\n",
      "To change this limit, set the config variable\n",
      "`--NotebookApp.iopub_msg_rate_limit`.\n",
      "\n",
      "Current values:\n",
      "NotebookApp.iopub_msg_rate_limit=1000.0 (msgs/sec)\n",
      "NotebookApp.rate_limit_window=3.0 (secs)\n",
      "\n",
      "Validation epoch 29: 100%|██████████| 450/450 [04:11<00:00,  1.79it/s]\n",
      "Training epoch 30:   0%|          | 0/1500 [00:00<?, ?it/s]"
     ]
    },
    {
     "name": "stdout",
     "output_type": "stream",
     "text": [
      "Epoch 29:\n",
      "    Train loss 0.342, accuracy 0.802, F1-score 0.860, MCC: 0.387, Dice: 0.860\n",
      "    Val loss 0.329, accuracy 0.818, F1-score 0.884, MCC: 0.382, Dice: 0.884\n"
     ]
    },
    {
     "name": "stderr",
     "output_type": "stream",
     "text": [
      "Training epoch 30: 100%|██████████| 1500/1500 [27:19<00:00,  1.09s/it]\n",
      "Validation epoch 30: 100%|██████████| 450/450 [04:12<00:00,  1.78it/s]\n",
      "Training epoch 31:   0%|          | 0/1500 [00:00<?, ?it/s]"
     ]
    },
    {
     "name": "stdout",
     "output_type": "stream",
     "text": [
      "Epoch 30:\n",
      "    Train loss 0.342, accuracy 0.802, F1-score 0.861, MCC: 0.389, Dice: 0.861\n",
      "    Val loss 0.330, accuracy 0.812, F1-score 0.878, MCC: 0.390, Dice: 0.878\n"
     ]
    },
    {
     "name": "stderr",
     "output_type": "stream",
     "text": [
      "Training epoch 31: 100%|██████████| 1500/1500 [27:21<00:00,  1.09s/it]\n",
      "Validation epoch 31: 100%|██████████| 450/450 [04:17<00:00,  1.75it/s]\n",
      "Training epoch 32:   0%|          | 0/1500 [00:00<?, ?it/s]"
     ]
    },
    {
     "name": "stdout",
     "output_type": "stream",
     "text": [
      "Epoch 31:\n",
      "    Train loss 0.341, accuracy 0.802, F1-score 0.860, MCC: 0.388, Dice: 0.860\n",
      "    Val loss 0.331, accuracy 0.820, F1-score 0.886, MCC: 0.381, Dice: 0.886\n"
     ]
    },
    {
     "name": "stderr",
     "output_type": "stream",
     "text": [
      "Training epoch 32: 100%|██████████| 1500/1500 [27:34<00:00,  1.10s/it]\n",
      "Validation epoch 32: 100%|██████████| 450/450 [04:14<00:00,  1.77it/s]\n",
      "Training epoch 33:   0%|          | 0/1500 [00:00<?, ?it/s]"
     ]
    },
    {
     "name": "stdout",
     "output_type": "stream",
     "text": [
      "Epoch 32:\n",
      "    Train loss 0.341, accuracy 0.802, F1-score 0.859, MCC: 0.390, Dice: 0.859\n",
      "    Val loss 0.332, accuracy 0.821, F1-score 0.887, MCC: 0.377, Dice: 0.887\n"
     ]
    },
    {
     "name": "stderr",
     "output_type": "stream",
     "text": [
      "Training epoch 33: 100%|██████████| 1500/1500 [27:14<00:00,  1.09s/it]\n",
      "Validation epoch 33: 100%|██████████| 450/450 [04:13<00:00,  1.78it/s]\n",
      "Training epoch 34:   0%|          | 0/1500 [00:00<?, ?it/s]"
     ]
    },
    {
     "name": "stdout",
     "output_type": "stream",
     "text": [
      "Epoch 33:\n",
      "    Train loss 0.341, accuracy 0.802, F1-score 0.860, MCC: 0.390, Dice: 0.860\n",
      "    Val loss 0.335, accuracy 0.824, F1-score 0.890, MCC: 0.362, Dice: 0.890\n"
     ]
    },
    {
     "name": "stderr",
     "output_type": "stream",
     "text": [
      "Training epoch 34: 100%|██████████| 1500/1500 [27:22<00:00,  1.10s/it]\n",
      "Validation epoch 34: 100%|██████████| 450/450 [04:15<00:00,  1.76it/s]\n",
      "Training epoch 35:   0%|          | 0/1500 [00:00<?, ?it/s]"
     ]
    },
    {
     "name": "stdout",
     "output_type": "stream",
     "text": [
      "Epoch 34:\n",
      "    Train loss 0.341, accuracy 0.802, F1-score 0.862, MCC: 0.391, Dice: 0.862\n",
      "    Val loss 0.332, accuracy 0.824, F1-score 0.889, MCC: 0.376, Dice: 0.889\n"
     ]
    },
    {
     "name": "stderr",
     "output_type": "stream",
     "text": [
      "Training epoch 35: 100%|██████████| 1500/1500 [27:26<00:00,  1.10s/it]\n",
      "Validation epoch 35: 100%|██████████| 450/450 [04:15<00:00,  1.76it/s]\n",
      "Training epoch 36:   0%|          | 0/1500 [00:00<?, ?it/s]"
     ]
    },
    {
     "name": "stdout",
     "output_type": "stream",
     "text": [
      "Epoch 35:\n",
      "    Train loss 0.340, accuracy 0.803, F1-score 0.861, MCC: 0.392, Dice: 0.861\n",
      "    Val loss 0.331, accuracy 0.815, F1-score 0.882, MCC: 0.383, Dice: 0.882\n"
     ]
    },
    {
     "name": "stderr",
     "output_type": "stream",
     "text": [
      "Training epoch 36: 100%|██████████| 1500/1500 [27:19<00:00,  1.09s/it]\n",
      "Validation epoch 36: 100%|██████████| 450/450 [04:16<00:00,  1.76it/s]\n",
      "Training epoch 37:   0%|          | 0/1500 [00:00<?, ?it/s]"
     ]
    },
    {
     "name": "stdout",
     "output_type": "stream",
     "text": [
      "Epoch 36:\n",
      "    Train loss 0.341, accuracy 0.803, F1-score 0.861, MCC: 0.392, Dice: 0.861\n",
      "    Val loss 0.333, accuracy 0.823, F1-score 0.889, MCC: 0.373, Dice: 0.889\n"
     ]
    },
    {
     "name": "stderr",
     "output_type": "stream",
     "text": [
      "Training epoch 37: 100%|██████████| 1500/1500 [27:29<00:00,  1.10s/it]\n",
      "Validation epoch 37: 100%|██████████| 450/450 [04:13<00:00,  1.78it/s]\n",
      "Training epoch 38:   0%|          | 0/1500 [00:00<?, ?it/s]"
     ]
    },
    {
     "name": "stdout",
     "output_type": "stream",
     "text": [
      "Epoch 37:\n",
      "    Train loss 0.340, accuracy 0.803, F1-score 0.860, MCC: 0.390, Dice: 0.860\n",
      "    Val loss 0.332, accuracy 0.823, F1-score 0.888, MCC: 0.373, Dice: 0.888\n"
     ]
    },
    {
     "name": "stderr",
     "output_type": "stream",
     "text": [
      "Training epoch 38: 100%|██████████| 1500/1500 [27:18<00:00,  1.09s/it]\n",
      "Validation epoch 38: 100%|██████████| 450/450 [04:15<00:00,  1.76it/s]\n",
      "Training epoch 39:   0%|          | 0/1500 [00:00<?, ?it/s]"
     ]
    },
    {
     "name": "stdout",
     "output_type": "stream",
     "text": [
      "Epoch 38:\n",
      "    Train loss 0.340, accuracy 0.803, F1-score 0.860, MCC: 0.393, Dice: 0.860\n",
      "    Val loss 0.335, accuracy 0.824, F1-score 0.889, MCC: 0.371, Dice: 0.889\n"
     ]
    },
    {
     "name": "stderr",
     "output_type": "stream",
     "text": [
      "Training epoch 39: 100%|██████████| 1500/1500 [27:23<00:00,  1.10s/it]\n",
      "Validation epoch 39: 100%|██████████| 450/450 [04:13<00:00,  1.77it/s]\n",
      "Training epoch 40:   0%|          | 0/1500 [00:00<?, ?it/s]"
     ]
    },
    {
     "name": "stdout",
     "output_type": "stream",
     "text": [
      "Epoch 39:\n",
      "    Train loss 0.340, accuracy 0.803, F1-score 0.861, MCC: 0.392, Dice: 0.861\n",
      "    Val loss 0.333, accuracy 0.821, F1-score 0.886, MCC: 0.383, Dice: 0.886\n"
     ]
    },
    {
     "name": "stderr",
     "output_type": "stream",
     "text": [
      "Training epoch 40: 100%|██████████| 1500/1500 [27:21<00:00,  1.09s/it]\n",
      "Validation epoch 40: 100%|██████████| 450/450 [04:15<00:00,  1.76it/s]\n",
      "Training epoch 41:   0%|          | 0/1500 [00:00<?, ?it/s]"
     ]
    },
    {
     "name": "stdout",
     "output_type": "stream",
     "text": [
      "Epoch 40:\n",
      "    Train loss 0.339, accuracy 0.804, F1-score 0.861, MCC: 0.394, Dice: 0.861\n",
      "    Val loss 0.333, accuracy 0.819, F1-score 0.885, MCC: 0.382, Dice: 0.885\n"
     ]
    },
    {
     "name": "stderr",
     "output_type": "stream",
     "text": [
      "Training epoch 41: 100%|██████████| 1500/1500 [28:17<00:00,  1.13s/it]\n",
      "Validation epoch 41: 100%|██████████| 450/450 [04:37<00:00,  1.62it/s]\n",
      "Training epoch 42:   0%|          | 0/1500 [00:00<?, ?it/s]"
     ]
    },
    {
     "name": "stdout",
     "output_type": "stream",
     "text": [
      "Epoch 41:\n",
      "    Train loss 0.339, accuracy 0.804, F1-score 0.861, MCC: 0.395, Dice: 0.861\n",
      "    Val loss 0.333, accuracy 0.821, F1-score 0.886, MCC: 0.382, Dice: 0.886\n"
     ]
    },
    {
     "name": "stderr",
     "output_type": "stream",
     "text": [
      "Training epoch 42: 100%|██████████| 1500/1500 [28:38<00:00,  1.15s/it]\n",
      "Validation epoch 42: 100%|██████████| 450/450 [04:36<00:00,  1.63it/s]\n",
      "Training epoch 43:   0%|          | 0/1500 [00:00<?, ?it/s]"
     ]
    },
    {
     "name": "stdout",
     "output_type": "stream",
     "text": [
      "Epoch 42:\n",
      "    Train loss 0.339, accuracy 0.804, F1-score 0.862, MCC: 0.395, Dice: 0.862\n",
      "    Val loss 0.338, accuracy 0.815, F1-score 0.882, MCC: 0.380, Dice: 0.882\n"
     ]
    },
    {
     "name": "stderr",
     "output_type": "stream",
     "text": [
      "Training epoch 43: 100%|██████████| 1500/1500 [28:07<00:00,  1.12s/it]\n",
      "Validation epoch 43: 100%|██████████| 450/450 [04:29<00:00,  1.67it/s]\n",
      "Training epoch 44:   0%|          | 0/1500 [00:00<?, ?it/s]"
     ]
    },
    {
     "name": "stdout",
     "output_type": "stream",
     "text": [
      "Epoch 43:\n",
      "    Train loss 0.337, accuracy 0.805, F1-score 0.862, MCC: 0.397, Dice: 0.862\n",
      "    Val loss 0.336, accuracy 0.825, F1-score 0.891, MCC: 0.363, Dice: 0.891\n"
     ]
    },
    {
     "name": "stderr",
     "output_type": "stream",
     "text": [
      "Training epoch 44: 100%|██████████| 1500/1500 [27:46<00:00,  1.11s/it]\n",
      "Validation epoch 44: 100%|██████████| 450/450 [04:23<00:00,  1.71it/s]\n",
      "Training epoch 45:   0%|          | 0/1500 [00:00<?, ?it/s]"
     ]
    },
    {
     "name": "stdout",
     "output_type": "stream",
     "text": [
      "Epoch 44:\n",
      "    Train loss 0.337, accuracy 0.805, F1-score 0.862, MCC: 0.397, Dice: 0.862\n",
      "    Val loss 0.338, accuracy 0.823, F1-score 0.889, MCC: 0.364, Dice: 0.889\n"
     ]
    },
    {
     "name": "stderr",
     "output_type": "stream",
     "text": [
      "Training epoch 45: 100%|██████████| 1500/1500 [32:24<00:00,  1.30s/it]\n",
      "Validation epoch 45: 100%|██████████| 450/450 [05:17<00:00,  1.42it/s]\n",
      "Training epoch 46:   0%|          | 0/1500 [00:00<?, ?it/s]"
     ]
    },
    {
     "name": "stdout",
     "output_type": "stream",
     "text": [
      "Epoch 45:\n",
      "    Train loss 0.337, accuracy 0.804, F1-score 0.862, MCC: 0.397, Dice: 0.862\n",
      "    Val loss 0.337, accuracy 0.823, F1-score 0.889, MCC: 0.368, Dice: 0.889\n"
     ]
    },
    {
     "name": "stderr",
     "output_type": "stream",
     "text": [
      "Training epoch 46: 100%|██████████| 1500/1500 [31:14<00:00,  1.25s/it]\n",
      "Validation epoch 46: 100%|██████████| 450/450 [05:15<00:00,  1.42it/s]\n",
      "Training epoch 47:   0%|          | 0/1500 [00:00<?, ?it/s]"
     ]
    },
    {
     "name": "stdout",
     "output_type": "stream",
     "text": [
      "Epoch 46:\n",
      "    Train loss 0.338, accuracy 0.804, F1-score 0.862, MCC: 0.396, Dice: 0.862\n",
      "    Val loss 0.336, accuracy 0.825, F1-score 0.891, MCC: 0.361, Dice: 0.891\n"
     ]
    },
    {
     "name": "stderr",
     "output_type": "stream",
     "text": [
      "Training epoch 47:  96%|█████████▌| 1441/1500 [29:50<01:50,  1.87s/it]IOPub message rate exceeded.\n",
      "The notebook server will temporarily stop sending output\n",
      "to the client in order to avoid crashing it.\n",
      "To change this limit, set the config variable\n",
      "`--NotebookApp.iopub_msg_rate_limit`.\n",
      "\n",
      "Current values:\n",
      "NotebookApp.iopub_msg_rate_limit=1000.0 (msgs/sec)\n",
      "NotebookApp.rate_limit_window=3.0 (secs)\n",
      "\n",
      "Training epoch 47: 100%|██████████| 1500/1500 [31:04<00:00,  1.24s/it]\n",
      "Validation epoch 47: 100%|██████████| 450/450 [05:02<00:00,  1.49it/s]\n",
      "Training epoch 48:   0%|          | 0/1500 [00:00<?, ?it/s]"
     ]
    },
    {
     "name": "stdout",
     "output_type": "stream",
     "text": [
      "Epoch 47:\n",
      "    Train loss 0.337, accuracy 0.804, F1-score 0.862, MCC: 0.397, Dice: 0.862\n",
      "    Val loss 0.336, accuracy 0.819, F1-score 0.886, MCC: 0.371, Dice: 0.886\n"
     ]
    },
    {
     "name": "stderr",
     "output_type": "stream",
     "text": [
      "Training epoch 48: 100%|██████████| 1500/1500 [31:06<00:00,  1.24s/it]\n",
      "Validation epoch 48: 100%|██████████| 450/450 [04:50<00:00,  1.55it/s]\n",
      "Training epoch 49:   0%|          | 0/1500 [00:00<?, ?it/s]"
     ]
    },
    {
     "name": "stdout",
     "output_type": "stream",
     "text": [
      "Epoch 48:\n",
      "    Train loss 0.337, accuracy 0.804, F1-score 0.861, MCC: 0.397, Dice: 0.861\n",
      "    Val loss 0.334, accuracy 0.820, F1-score 0.886, MCC: 0.378, Dice: 0.886\n"
     ]
    },
    {
     "name": "stderr",
     "output_type": "stream",
     "text": [
      "Training epoch 49:  51%|█████     | 761/1500 [15:57<21:44,  1.76s/it]IOPub message rate exceeded.\n",
      "The notebook server will temporarily stop sending output\n",
      "to the client in order to avoid crashing it.\n",
      "To change this limit, set the config variable\n",
      "`--NotebookApp.iopub_msg_rate_limit`.\n",
      "\n",
      "Current values:\n",
      "NotebookApp.iopub_msg_rate_limit=1000.0 (msgs/sec)\n",
      "NotebookApp.rate_limit_window=3.0 (secs)\n",
      "\n",
      "Training epoch 50: 100%|██████████| 1500/1500 [31:06<00:00,  1.24s/it]\n",
      "Validation epoch 50: 100%|██████████| 450/450 [04:55<00:00,  1.52it/s]\n",
      "Training epoch 51:   0%|          | 0/1500 [00:00<?, ?it/s]"
     ]
    },
    {
     "name": "stdout",
     "output_type": "stream",
     "text": [
      "Epoch 50:\n",
      "    Train loss 0.336, accuracy 0.805, F1-score 0.862, MCC: 0.399, Dice: 0.862\n",
      "    Val loss 0.337, accuracy 0.820, F1-score 0.887, MCC: 0.369, Dice: 0.887\n"
     ]
    },
    {
     "name": "stderr",
     "output_type": "stream",
     "text": [
      "Training epoch 51: 100%|██████████| 1500/1500 [31:00<00:00,  1.24s/it]\n",
      "Validation epoch 51: 100%|██████████| 450/450 [04:47<00:00,  1.56it/s]\n",
      "Training epoch 52:   0%|          | 0/1500 [00:00<?, ?it/s]"
     ]
    },
    {
     "name": "stdout",
     "output_type": "stream",
     "text": [
      "Epoch 51:\n",
      "    Train loss 0.335, accuracy 0.805, F1-score 0.862, MCC: 0.399, Dice: 0.862\n",
      "    Val loss 0.336, accuracy 0.821, F1-score 0.887, MCC: 0.369, Dice: 0.887\n"
     ]
    },
    {
     "name": "stderr",
     "output_type": "stream",
     "text": [
      "Training epoch 52:  98%|█████████▊| 1467/1500 [30:33<00:41,  1.25s/it]IOPub message rate exceeded.\n",
      "The notebook server will temporarily stop sending output\n",
      "to the client in order to avoid crashing it.\n",
      "To change this limit, set the config variable\n",
      "`--NotebookApp.iopub_msg_rate_limit`.\n",
      "\n",
      "Current values:\n",
      "NotebookApp.iopub_msg_rate_limit=1000.0 (msgs/sec)\n",
      "NotebookApp.rate_limit_window=3.0 (secs)\n",
      "\n",
      "Training epoch 54: 100%|██████████| 1500/1500 [31:07<00:00,  1.25s/it]\n",
      "Validation epoch 54: 100%|██████████| 450/450 [05:11<00:00,  1.44it/s]\n",
      "Training epoch 55:   0%|          | 0/1500 [00:00<?, ?it/s]"
     ]
    },
    {
     "name": "stdout",
     "output_type": "stream",
     "text": [
      "Epoch 54:\n",
      "    Train loss 0.335, accuracy 0.807, F1-score 0.863, MCC: 0.401, Dice: 0.863\n",
      "    Val loss 0.342, accuracy 0.824, F1-score 0.891, MCC: 0.354, Dice: 0.891\n"
     ]
    },
    {
     "name": "stderr",
     "output_type": "stream",
     "text": [
      "Training epoch 55: 100%|██████████| 1500/1500 [30:55<00:00,  1.24s/it]\n",
      "Validation epoch 55: 100%|██████████| 450/450 [05:08<00:00,  1.46it/s]\n",
      "Training epoch 56:   0%|          | 0/1500 [00:00<?, ?it/s]"
     ]
    },
    {
     "name": "stdout",
     "output_type": "stream",
     "text": [
      "Epoch 55:\n",
      "    Train loss 0.335, accuracy 0.806, F1-score 0.863, MCC: 0.402, Dice: 0.863\n",
      "    Val loss 0.338, accuracy 0.824, F1-score 0.890, MCC: 0.364, Dice: 0.890\n"
     ]
    },
    {
     "name": "stderr",
     "output_type": "stream",
     "text": [
      "Training epoch 56:   9%|▊         | 130/1500 [02:44<25:46,  1.13s/it]IOPub message rate exceeded.\n",
      "The notebook server will temporarily stop sending output\n",
      "to the client in order to avoid crashing it.\n",
      "To change this limit, set the config variable\n",
      "`--NotebookApp.iopub_msg_rate_limit`.\n",
      "\n",
      "Current values:\n",
      "NotebookApp.iopub_msg_rate_limit=1000.0 (msgs/sec)\n",
      "NotebookApp.rate_limit_window=3.0 (secs)\n",
      "\n",
      "Training epoch 56: 100%|██████████| 1500/1500 [31:13<00:00,  1.25s/it]\n",
      "Validation epoch 56: 100%|██████████| 450/450 [04:52<00:00,  1.54it/s]\n",
      "Training epoch 57:   0%|          | 0/1500 [00:00<?, ?it/s]"
     ]
    },
    {
     "name": "stdout",
     "output_type": "stream",
     "text": [
      "Epoch 56:\n",
      "    Train loss 0.335, accuracy 0.807, F1-score 0.863, MCC: 0.402, Dice: 0.863\n",
      "    Val loss 0.337, accuracy 0.824, F1-score 0.890, MCC: 0.367, Dice: 0.890\n"
     ]
    },
    {
     "name": "stderr",
     "output_type": "stream",
     "text": [
      "Training epoch 57: 100%|██████████| 1500/1500 [31:14<00:00,  1.25s/it]\n",
      "Validation epoch 57:   9%|▊         | 39/450 [00:24<03:20,  2.05it/s]IOPub message rate exceeded.\n",
      "The notebook server will temporarily stop sending output\n",
      "to the client in order to avoid crashing it.\n",
      "To change this limit, set the config variable\n",
      "`--NotebookApp.iopub_msg_rate_limit`.\n",
      "\n",
      "Current values:\n",
      "NotebookApp.iopub_msg_rate_limit=1000.0 (msgs/sec)\n",
      "NotebookApp.rate_limit_window=3.0 (secs)\n",
      "\n",
      "Training epoch 59: 100%|██████████| 1500/1500 [31:21<00:00,  1.25s/it]\n",
      "Validation epoch 59: 100%|██████████| 450/450 [04:49<00:00,  1.56it/s]\n",
      "Training epoch 60:   0%|          | 0/1500 [00:00<?, ?it/s]"
     ]
    },
    {
     "name": "stdout",
     "output_type": "stream",
     "text": [
      "Epoch 59:\n",
      "    Train loss 0.333, accuracy 0.806, F1-score 0.863, MCC: 0.403, Dice: 0.863\n",
      "    Val loss 0.335, accuracy 0.823, F1-score 0.889, MCC: 0.364, Dice: 0.889\n"
     ]
    },
    {
     "name": "stderr",
     "output_type": "stream",
     "text": [
      "Training epoch 60: 100%|██████████| 1500/1500 [31:32<00:00,  1.26s/it]\n",
      "Validation epoch 60: 100%|██████████| 450/450 [04:48<00:00,  1.56it/s]\n",
      "Training epoch 61:   0%|          | 0/1500 [00:00<?, ?it/s]"
     ]
    },
    {
     "name": "stdout",
     "output_type": "stream",
     "text": [
      "Epoch 60:\n",
      "    Train loss 0.333, accuracy 0.807, F1-score 0.863, MCC: 0.404, Dice: 0.863\n",
      "    Val loss 0.338, accuracy 0.825, F1-score 0.891, MCC: 0.352, Dice: 0.891\n"
     ]
    },
    {
     "name": "stderr",
     "output_type": "stream",
     "text": [
      "Training epoch 61:  12%|█▏        | 173/1500 [03:47<25:54,  1.17s/it]IOPub message rate exceeded.\n",
      "The notebook server will temporarily stop sending output\n",
      "to the client in order to avoid crashing it.\n",
      "To change this limit, set the config variable\n",
      "`--NotebookApp.iopub_msg_rate_limit`.\n",
      "\n",
      "Current values:\n",
      "NotebookApp.iopub_msg_rate_limit=1000.0 (msgs/sec)\n",
      "NotebookApp.rate_limit_window=3.0 (secs)\n",
      "\n",
      "Training epoch 62: 100%|██████████| 1500/1500 [31:11<00:00,  1.25s/it]\n",
      "Validation epoch 62: 100%|██████████| 450/450 [05:17<00:00,  1.42it/s]\n",
      "Training epoch 63:   0%|          | 0/1500 [00:00<?, ?it/s]"
     ]
    },
    {
     "name": "stdout",
     "output_type": "stream",
     "text": [
      "Epoch 62:\n",
      "    Train loss 0.333, accuracy 0.807, F1-score 0.864, MCC: 0.404, Dice: 0.864\n",
      "    Val loss 0.340, accuracy 0.817, F1-score 0.884, MCC: 0.376, Dice: 0.884\n"
     ]
    },
    {
     "name": "stderr",
     "output_type": "stream",
     "text": [
      "Training epoch 63: 100%|██████████| 1500/1500 [31:07<00:00,  1.25s/it]\n",
      "Validation epoch 63: 100%|██████████| 450/450 [05:03<00:00,  1.48it/s]\n",
      "Training epoch 64:   0%|          | 0/1500 [00:00<?, ?it/s]"
     ]
    },
    {
     "name": "stdout",
     "output_type": "stream",
     "text": [
      "Epoch 63:\n",
      "    Train loss 0.332, accuracy 0.808, F1-score 0.864, MCC: 0.406, Dice: 0.864\n",
      "    Val loss 0.340, accuracy 0.821, F1-score 0.888, MCC: 0.364, Dice: 0.888\n"
     ]
    },
    {
     "name": "stderr",
     "output_type": "stream",
     "text": [
      "Training epoch 64:  58%|█████▊    | 874/1500 [18:05<10:54,  1.05s/it]IOPub message rate exceeded.\n",
      "The notebook server will temporarily stop sending output\n",
      "to the client in order to avoid crashing it.\n",
      "To change this limit, set the config variable\n",
      "`--NotebookApp.iopub_msg_rate_limit`.\n",
      "\n",
      "Current values:\n",
      "NotebookApp.iopub_msg_rate_limit=1000.0 (msgs/sec)\n",
      "NotebookApp.rate_limit_window=3.0 (secs)\n",
      "\n",
      "Validation epoch 65: 100%|██████████| 450/450 [04:51<00:00,  1.54it/s]\n",
      "Training epoch 66:   0%|          | 0/1500 [00:00<?, ?it/s]"
     ]
    },
    {
     "name": "stdout",
     "output_type": "stream",
     "text": [
      "Epoch 65:\n",
      "    Train loss 0.332, accuracy 0.807, F1-score 0.863, MCC: 0.405, Dice: 0.863\n",
      "    Val loss 0.343, accuracy 0.822, F1-score 0.889, MCC: 0.346, Dice: 0.889\n"
     ]
    },
    {
     "name": "stderr",
     "output_type": "stream",
     "text": [
      "Training epoch 66: 100%|██████████| 1500/1500 [30:46<00:00,  1.23s/it]\n",
      "Validation epoch 66: 100%|██████████| 450/450 [04:43<00:00,  1.59it/s]\n",
      "Training epoch 67:   0%|          | 0/1500 [00:00<?, ?it/s]"
     ]
    },
    {
     "name": "stdout",
     "output_type": "stream",
     "text": [
      "Epoch 66:\n",
      "    Train loss 0.331, accuracy 0.808, F1-score 0.864, MCC: 0.407, Dice: 0.864\n",
      "    Val loss 0.345, accuracy 0.825, F1-score 0.893, MCC: 0.329, Dice: 0.893\n"
     ]
    },
    {
     "name": "stderr",
     "output_type": "stream",
     "text": [
      "Training epoch 67:  42%|████▏     | 630/1500 [13:06<16:55,  1.17s/it]IOPub message rate exceeded.\n",
      "The notebook server will temporarily stop sending output\n",
      "to the client in order to avoid crashing it.\n",
      "To change this limit, set the config variable\n",
      "`--NotebookApp.iopub_msg_rate_limit`.\n",
      "\n",
      "Current values:\n",
      "NotebookApp.iopub_msg_rate_limit=1000.0 (msgs/sec)\n",
      "NotebookApp.rate_limit_window=3.0 (secs)\n",
      "\n",
      "Training epoch 69: 100%|██████████| 1500/1500 [31:38<00:00,  1.27s/it]\n",
      "Validation epoch 69: 100%|██████████| 450/450 [05:25<00:00,  1.38it/s]\n",
      "Training epoch 70:   0%|          | 0/1500 [00:00<?, ?it/s]"
     ]
    },
    {
     "name": "stdout",
     "output_type": "stream",
     "text": [
      "Epoch 69:\n",
      "    Train loss 0.331, accuracy 0.808, F1-score 0.865, MCC: 0.408, Dice: 0.865\n",
      "    Val loss 0.339, accuracy 0.820, F1-score 0.887, MCC: 0.359, Dice: 0.887\n"
     ]
    },
    {
     "name": "stderr",
     "output_type": "stream",
     "text": [
      "Training epoch 70: 100%|██████████| 1500/1500 [31:49<00:00,  1.27s/it]\n",
      "Validation epoch 70: 100%|██████████| 450/450 [05:13<00:00,  1.44it/s]\n",
      "Training epoch 71:   0%|          | 0/1500 [00:00<?, ?it/s]"
     ]
    },
    {
     "name": "stdout",
     "output_type": "stream",
     "text": [
      "Epoch 70:\n",
      "    Train loss 0.330, accuracy 0.808, F1-score 0.864, MCC: 0.409, Dice: 0.864\n",
      "    Val loss 0.340, accuracy 0.788, F1-score 0.858, MCC: 0.368, Dice: 0.858\n"
     ]
    },
    {
     "name": "stderr",
     "output_type": "stream",
     "text": [
      "Training epoch 71: 100%|██████████| 1500/1500 [31:06<00:00,  1.24s/it]\n",
      "Validation epoch 71: 100%|██████████| 450/450 [05:02<00:00,  1.49it/s]\n",
      "Training epoch 72:   0%|          | 0/1500 [00:00<?, ?it/s]"
     ]
    },
    {
     "name": "stdout",
     "output_type": "stream",
     "text": [
      "Epoch 71:\n",
      "    Train loss 0.330, accuracy 0.809, F1-score 0.865, MCC: 0.409, Dice: 0.865\n",
      "    Val loss 0.338, accuracy 0.822, F1-score 0.890, MCC: 0.340, Dice: 0.890\n"
     ]
    },
    {
     "name": "stderr",
     "output_type": "stream",
     "text": [
      "Training epoch 72: 100%|██████████| 1500/1500 [31:20<00:00,  1.25s/it]\n",
      "Validation epoch 72: 100%|██████████| 450/450 [04:54<00:00,  1.53it/s]\n",
      "Training epoch 73:   0%|          | 0/1500 [00:00<?, ?it/s]"
     ]
    },
    {
     "name": "stdout",
     "output_type": "stream",
     "text": [
      "Epoch 72:\n",
      "    Train loss 0.330, accuracy 0.809, F1-score 0.864, MCC: 0.409, Dice: 0.864\n",
      "    Val loss 0.339, accuracy 0.822, F1-score 0.888, MCC: 0.368, Dice: 0.888\n"
     ]
    },
    {
     "name": "stderr",
     "output_type": "stream",
     "text": [
      "Training epoch 73: 100%|██████████| 1500/1500 [30:56<00:00,  1.24s/it]\n",
      "Validation epoch 73: 100%|██████████| 450/450 [04:45<00:00,  1.58it/s]\n",
      "Training epoch 74:   0%|          | 0/1500 [00:00<?, ?it/s]"
     ]
    },
    {
     "name": "stdout",
     "output_type": "stream",
     "text": [
      "Epoch 73:\n",
      "    Train loss 0.329, accuracy 0.809, F1-score 0.865, MCC: 0.411, Dice: 0.865\n",
      "    Val loss 0.344, accuracy 0.823, F1-score 0.889, MCC: 0.354, Dice: 0.889\n"
     ]
    },
    {
     "name": "stderr",
     "output_type": "stream",
     "text": [
      "Training epoch 74: 100%|██████████| 1500/1500 [30:44<00:00,  1.23s/it]\n",
      "Validation epoch 74: 100%|██████████| 450/450 [04:48<00:00,  1.56it/s]\n",
      "Training epoch 75:   0%|          | 0/1500 [00:00<?, ?it/s]"
     ]
    },
    {
     "name": "stdout",
     "output_type": "stream",
     "text": [
      "Epoch 74:\n",
      "    Train loss 0.328, accuracy 0.809, F1-score 0.865, MCC: 0.410, Dice: 0.865\n",
      "    Val loss 0.366, accuracy 0.818, F1-score 0.892, MCC: 0.238, Dice: 0.892\n"
     ]
    },
    {
     "name": "stderr",
     "output_type": "stream",
     "text": [
      "Training epoch 75: 100%|██████████| 1500/1500 [30:31<00:00,  1.22s/it]\n",
      "Validation epoch 75: 100%|██████████| 450/450 [04:42<00:00,  1.59it/s]\n",
      "Training epoch 76:   0%|          | 0/1500 [00:00<?, ?it/s]"
     ]
    },
    {
     "name": "stdout",
     "output_type": "stream",
     "text": [
      "Epoch 75:\n",
      "    Train loss 0.329, accuracy 0.809, F1-score 0.865, MCC: 0.412, Dice: 0.865\n",
      "    Val loss 0.339, accuracy 0.820, F1-score 0.887, MCC: 0.365, Dice: 0.887\n"
     ]
    },
    {
     "name": "stderr",
     "output_type": "stream",
     "text": [
      "Training epoch 76: 100%|██████████| 1500/1500 [30:54<00:00,  1.24s/it]\n",
      "Validation epoch 76: 100%|██████████| 450/450 [04:52<00:00,  1.54it/s]\n",
      "Training epoch 77:   0%|          | 0/1500 [00:00<?, ?it/s]"
     ]
    },
    {
     "name": "stdout",
     "output_type": "stream",
     "text": [
      "Epoch 76:\n",
      "    Train loss 0.329, accuracy 0.809, F1-score 0.865, MCC: 0.411, Dice: 0.865\n",
      "    Val loss 0.342, accuracy 0.822, F1-score 0.888, MCC: 0.366, Dice: 0.888\n"
     ]
    },
    {
     "name": "stderr",
     "output_type": "stream",
     "text": [
      "Training epoch 77: 100%|██████████| 1500/1500 [30:56<00:00,  1.24s/it]\n",
      "Validation epoch 77: 100%|██████████| 450/450 [05:03<00:00,  1.48it/s]\n",
      "Training epoch 78:   0%|          | 0/1500 [00:00<?, ?it/s]"
     ]
    },
    {
     "name": "stdout",
     "output_type": "stream",
     "text": [
      "Epoch 77:\n",
      "    Train loss 0.328, accuracy 0.809, F1-score 0.865, MCC: 0.412, Dice: 0.865\n",
      "    Val loss 0.340, accuracy 0.825, F1-score 0.893, MCC: 0.330, Dice: 0.893\n"
     ]
    },
    {
     "name": "stderr",
     "output_type": "stream",
     "text": [
      "Training epoch 78: 100%|██████████| 1500/1500 [31:19<00:00,  1.25s/it]\n",
      "Validation epoch 78: 100%|██████████| 450/450 [05:09<00:00,  1.45it/s]\n",
      "Training epoch 79:   0%|          | 0/1500 [00:00<?, ?it/s]"
     ]
    },
    {
     "name": "stdout",
     "output_type": "stream",
     "text": [
      "Epoch 78:\n",
      "    Train loss 0.328, accuracy 0.810, F1-score 0.866, MCC: 0.414, Dice: 0.866\n",
      "    Val loss 0.342, accuracy 0.823, F1-score 0.891, MCC: 0.343, Dice: 0.891\n"
     ]
    },
    {
     "name": "stderr",
     "output_type": "stream",
     "text": [
      "Training epoch 79: 100%|██████████| 1500/1500 [31:04<00:00,  1.24s/it]\n",
      "Validation epoch 79: 100%|██████████| 450/450 [04:56<00:00,  1.52it/s]\n",
      "Training epoch 80:   0%|          | 0/1500 [00:00<?, ?it/s]"
     ]
    },
    {
     "name": "stdout",
     "output_type": "stream",
     "text": [
      "Epoch 79:\n",
      "    Train loss 0.328, accuracy 0.809, F1-score 0.865, MCC: 0.413, Dice: 0.865\n",
      "    Val loss 0.343, accuracy 0.824, F1-score 0.891, MCC: 0.339, Dice: 0.891\n"
     ]
    },
    {
     "name": "stderr",
     "output_type": "stream",
     "text": [
      "Training epoch 80: 100%|██████████| 1500/1500 [30:51<00:00,  1.23s/it]\n",
      "Validation epoch 80: 100%|██████████| 450/450 [04:45<00:00,  1.58it/s]\n",
      "Training epoch 81:   0%|          | 0/1500 [00:00<?, ?it/s]"
     ]
    },
    {
     "name": "stdout",
     "output_type": "stream",
     "text": [
      "Epoch 80:\n",
      "    Train loss 0.328, accuracy 0.810, F1-score 0.865, MCC: 0.414, Dice: 0.865\n",
      "    Val loss 0.344, accuracy 0.823, F1-score 0.890, MCC: 0.345, Dice: 0.890\n"
     ]
    },
    {
     "name": "stderr",
     "output_type": "stream",
     "text": [
      "Training epoch 81: 100%|██████████| 1500/1500 [30:49<00:00,  1.23s/it]\n",
      "Validation epoch 81: 100%|██████████| 450/450 [04:51<00:00,  1.54it/s]\n",
      "Training epoch 82:   0%|          | 0/1500 [00:00<?, ?it/s]"
     ]
    },
    {
     "name": "stdout",
     "output_type": "stream",
     "text": [
      "Epoch 81:\n",
      "    Train loss 0.327, accuracy 0.810, F1-score 0.865, MCC: 0.415, Dice: 0.865\n",
      "    Val loss 0.345, accuracy 0.816, F1-score 0.883, MCC: 0.367, Dice: 0.883\n"
     ]
    },
    {
     "name": "stderr",
     "output_type": "stream",
     "text": [
      "Training epoch 82: 100%|██████████| 1500/1500 [30:43<00:00,  1.23s/it]\n",
      "Validation epoch 82: 100%|██████████| 450/450 [04:53<00:00,  1.53it/s]\n",
      "Training epoch 83:   0%|          | 0/1500 [00:00<?, ?it/s]"
     ]
    },
    {
     "name": "stdout",
     "output_type": "stream",
     "text": [
      "Epoch 82:\n",
      "    Train loss 0.327, accuracy 0.810, F1-score 0.866, MCC: 0.414, Dice: 0.866\n",
      "    Val loss 0.348, accuracy 0.824, F1-score 0.893, MCC: 0.308, Dice: 0.893\n"
     ]
    },
    {
     "name": "stderr",
     "output_type": "stream",
     "text": [
      "Training epoch 83: 100%|██████████| 1500/1500 [31:04<00:00,  1.24s/it]\n",
      "Validation epoch 83: 100%|██████████| 450/450 [04:48<00:00,  1.56it/s]\n",
      "Training epoch 84:   0%|          | 0/1500 [00:00<?, ?it/s]"
     ]
    },
    {
     "name": "stdout",
     "output_type": "stream",
     "text": [
      "Epoch 83:\n",
      "    Train loss 0.327, accuracy 0.810, F1-score 0.865, MCC: 0.413, Dice: 0.865\n",
      "    Val loss 0.349, accuracy 0.823, F1-score 0.892, MCC: 0.315, Dice: 0.892\n"
     ]
    },
    {
     "name": "stderr",
     "output_type": "stream",
     "text": [
      "Training epoch 84: 100%|██████████| 1500/1500 [31:59<00:00,  1.28s/it]\n",
      "Validation epoch 84: 100%|██████████| 450/450 [04:51<00:00,  1.54it/s]\n",
      "Training epoch 85:   0%|          | 0/1500 [00:00<?, ?it/s]"
     ]
    },
    {
     "name": "stdout",
     "output_type": "stream",
     "text": [
      "Epoch 84:\n",
      "    Train loss 0.326, accuracy 0.810, F1-score 0.865, MCC: 0.415, Dice: 0.865\n",
      "    Val loss 0.346, accuracy 0.823, F1-score 0.889, MCC: 0.352, Dice: 0.889\n"
     ]
    },
    {
     "name": "stderr",
     "output_type": "stream",
     "text": [
      "Training epoch 85: 100%|██████████| 1500/1500 [31:51<00:00,  1.27s/it]\n",
      "Validation epoch 85: 100%|██████████| 450/450 [05:07<00:00,  1.46it/s]\n",
      "Training epoch 86:   0%|          | 0/1500 [00:00<?, ?it/s]"
     ]
    },
    {
     "name": "stdout",
     "output_type": "stream",
     "text": [
      "Epoch 85:\n",
      "    Train loss 0.326, accuracy 0.811, F1-score 0.866, MCC: 0.416, Dice: 0.866\n",
      "    Val loss 0.344, accuracy 0.817, F1-score 0.883, MCC: 0.371, Dice: 0.883\n"
     ]
    },
    {
     "name": "stderr",
     "output_type": "stream",
     "text": [
      "Training epoch 86: 100%|██████████| 1500/1500 [31:11<00:00,  1.25s/it]\n",
      "Validation epoch 86: 100%|██████████| 450/450 [05:15<00:00,  1.43it/s]\n",
      "Training epoch 87:   0%|          | 0/1500 [00:00<?, ?it/s]"
     ]
    },
    {
     "name": "stdout",
     "output_type": "stream",
     "text": [
      "Epoch 86:\n",
      "    Train loss 0.326, accuracy 0.810, F1-score 0.866, MCC: 0.416, Dice: 0.866\n",
      "    Val loss 0.344, accuracy 0.820, F1-score 0.887, MCC: 0.352, Dice: 0.887\n"
     ]
    },
    {
     "name": "stderr",
     "output_type": "stream",
     "text": [
      "Training epoch 87: 100%|██████████| 1500/1500 [31:08<00:00,  1.25s/it]\n",
      "Validation epoch 87: 100%|██████████| 450/450 [04:59<00:00,  1.50it/s]\n",
      "Training epoch 88:   0%|          | 0/1500 [00:00<?, ?it/s]"
     ]
    },
    {
     "name": "stdout",
     "output_type": "stream",
     "text": [
      "Epoch 87:\n",
      "    Train loss 0.325, accuracy 0.811, F1-score 0.865, MCC: 0.416, Dice: 0.865\n",
      "    Val loss 0.343, accuracy 0.818, F1-score 0.885, MCC: 0.362, Dice: 0.885\n"
     ]
    },
    {
     "name": "stderr",
     "output_type": "stream",
     "text": [
      "Training epoch 88: 100%|██████████| 1500/1500 [31:02<00:00,  1.24s/it]\n",
      "Validation epoch 88: 100%|██████████| 450/450 [04:53<00:00,  1.54it/s]\n",
      "Training epoch 89:   0%|          | 0/1500 [00:00<?, ?it/s]"
     ]
    },
    {
     "name": "stdout",
     "output_type": "stream",
     "text": [
      "Epoch 88:\n",
      "    Train loss 0.326, accuracy 0.811, F1-score 0.866, MCC: 0.417, Dice: 0.866\n",
      "    Val loss 0.353, accuracy 0.822, F1-score 0.891, MCC: 0.322, Dice: 0.891\n"
     ]
    },
    {
     "name": "stderr",
     "output_type": "stream",
     "text": [
      "Training epoch 89: 100%|██████████| 1500/1500 [31:09<00:00,  1.25s/it]\n",
      "Validation epoch 89: 100%|██████████| 450/450 [04:52<00:00,  1.54it/s]\n",
      "Training epoch 90:   0%|          | 0/1500 [00:00<?, ?it/s]"
     ]
    },
    {
     "name": "stdout",
     "output_type": "stream",
     "text": [
      "Epoch 89:\n",
      "    Train loss 0.325, accuracy 0.811, F1-score 0.866, MCC: 0.416, Dice: 0.866\n",
      "    Val loss 0.346, accuracy 0.824, F1-score 0.891, MCC: 0.333, Dice: 0.891\n"
     ]
    },
    {
     "name": "stderr",
     "output_type": "stream",
     "text": [
      "Training epoch 90: 100%|██████████| 1500/1500 [31:10<00:00,  1.25s/it]\n",
      "Validation epoch 90: 100%|██████████| 450/450 [04:49<00:00,  1.56it/s]\n",
      "Training epoch 91:   0%|          | 0/1500 [00:00<?, ?it/s]"
     ]
    },
    {
     "name": "stdout",
     "output_type": "stream",
     "text": [
      "Epoch 90:\n",
      "    Train loss 0.326, accuracy 0.811, F1-score 0.865, MCC: 0.415, Dice: 0.865\n",
      "    Val loss 0.347, accuracy 0.818, F1-score 0.886, MCC: 0.348, Dice: 0.886\n"
     ]
    },
    {
     "name": "stderr",
     "output_type": "stream",
     "text": [
      "Training epoch 91: 100%|██████████| 1500/1500 [31:21<00:00,  1.25s/it]\n",
      "Validation epoch 91: 100%|██████████| 450/450 [04:51<00:00,  1.54it/s]\n",
      "Training epoch 92:   0%|          | 0/1500 [00:00<?, ?it/s]"
     ]
    },
    {
     "name": "stdout",
     "output_type": "stream",
     "text": [
      "Epoch 91:\n",
      "    Train loss 0.325, accuracy 0.811, F1-score 0.867, MCC: 0.419, Dice: 0.867\n",
      "    Val loss 0.342, accuracy 0.820, F1-score 0.887, MCC: 0.347, Dice: 0.887\n"
     ]
    },
    {
     "name": "stderr",
     "output_type": "stream",
     "text": [
      "Training epoch 92: 100%|██████████| 1500/1500 [28:23<00:00,  1.14s/it]\n",
      "Validation epoch 92: 100%|██████████| 450/450 [04:15<00:00,  1.76it/s]\n",
      "Training epoch 93:   0%|          | 0/1500 [00:00<?, ?it/s]"
     ]
    },
    {
     "name": "stdout",
     "output_type": "stream",
     "text": [
      "Epoch 92:\n",
      "    Train loss 0.325, accuracy 0.811, F1-score 0.865, MCC: 0.417, Dice: 0.865\n",
      "    Val loss 0.344, accuracy 0.819, F1-score 0.886, MCC: 0.358, Dice: 0.886\n"
     ]
    },
    {
     "name": "stderr",
     "output_type": "stream",
     "text": [
      "Training epoch 93: 100%|██████████| 1500/1500 [27:21<00:00,  1.09s/it]\n",
      "Validation epoch 93: 100%|██████████| 450/450 [04:13<00:00,  1.77it/s]\n",
      "Training epoch 94:   0%|          | 0/1500 [00:00<?, ?it/s]"
     ]
    },
    {
     "name": "stdout",
     "output_type": "stream",
     "text": [
      "Epoch 93:\n",
      "    Train loss 0.324, accuracy 0.811, F1-score 0.866, MCC: 0.418, Dice: 0.866\n",
      "    Val loss 0.340, accuracy 0.822, F1-score 0.889, MCC: 0.357, Dice: 0.889\n"
     ]
    },
    {
     "name": "stderr",
     "output_type": "stream",
     "text": [
      "Training epoch 94: 100%|██████████| 1500/1500 [27:23<00:00,  1.10s/it]\n",
      "Validation epoch 94: 100%|██████████| 450/450 [04:15<00:00,  1.76it/s]\n",
      "Training epoch 95:   0%|          | 0/1500 [00:00<?, ?it/s]"
     ]
    },
    {
     "name": "stdout",
     "output_type": "stream",
     "text": [
      "Epoch 94:\n",
      "    Train loss 0.324, accuracy 0.812, F1-score 0.866, MCC: 0.420, Dice: 0.866\n",
      "    Val loss 0.350, accuracy 0.810, F1-score 0.878, MCC: 0.369, Dice: 0.878\n"
     ]
    },
    {
     "name": "stderr",
     "output_type": "stream",
     "text": [
      "Training epoch 95: 100%|██████████| 1500/1500 [27:10<00:00,  1.09s/it]\n",
      "Validation epoch 95: 100%|██████████| 450/450 [04:16<00:00,  1.75it/s]\n",
      "Training epoch 96:   0%|          | 0/1500 [00:00<?, ?it/s]"
     ]
    },
    {
     "name": "stdout",
     "output_type": "stream",
     "text": [
      "Epoch 95:\n",
      "    Train loss 0.323, accuracy 0.812, F1-score 0.867, MCC: 0.420, Dice: 0.867\n",
      "    Val loss 0.344, accuracy 0.819, F1-score 0.886, MCC: 0.360, Dice: 0.886\n"
     ]
    },
    {
     "name": "stderr",
     "output_type": "stream",
     "text": [
      "Training epoch 96: 100%|██████████| 1500/1500 [26:58<00:00,  1.08s/it]\n",
      "Validation epoch 96: 100%|██████████| 450/450 [04:11<00:00,  1.79it/s]\n",
      "Training epoch 97:   0%|          | 0/1500 [00:00<?, ?it/s]"
     ]
    },
    {
     "name": "stdout",
     "output_type": "stream",
     "text": [
      "Epoch 96:\n",
      "    Train loss 0.323, accuracy 0.811, F1-score 0.866, MCC: 0.419, Dice: 0.866\n",
      "    Val loss 0.338, accuracy 0.814, F1-score 0.881, MCC: 0.375, Dice: 0.881\n"
     ]
    },
    {
     "name": "stderr",
     "output_type": "stream",
     "text": [
      "Training epoch 97: 100%|██████████| 1500/1500 [27:07<00:00,  1.08s/it]\n",
      "Validation epoch 97: 100%|██████████| 450/450 [04:11<00:00,  1.79it/s]\n",
      "Training epoch 98:   0%|          | 0/1500 [00:00<?, ?it/s]"
     ]
    },
    {
     "name": "stdout",
     "output_type": "stream",
     "text": [
      "Epoch 97:\n",
      "    Train loss 0.324, accuracy 0.811, F1-score 0.867, MCC: 0.418, Dice: 0.867\n",
      "    Val loss 0.346, accuracy 0.820, F1-score 0.887, MCC: 0.357, Dice: 0.887\n"
     ]
    },
    {
     "name": "stderr",
     "output_type": "stream",
     "text": [
      "Training epoch 98: 100%|██████████| 1500/1500 [27:17<00:00,  1.09s/it]\n",
      "Validation epoch 98: 100%|██████████| 450/450 [04:13<00:00,  1.77it/s]\n",
      "Training epoch 99:   0%|          | 0/1500 [00:00<?, ?it/s]"
     ]
    },
    {
     "name": "stdout",
     "output_type": "stream",
     "text": [
      "Epoch 98:\n",
      "    Train loss 0.323, accuracy 0.812, F1-score 0.867, MCC: 0.421, Dice: 0.867\n",
      "    Val loss 0.345, accuracy 0.820, F1-score 0.888, MCC: 0.340, Dice: 0.888\n"
     ]
    },
    {
     "name": "stderr",
     "output_type": "stream",
     "text": [
      "Training epoch 99: 100%|██████████| 1500/1500 [27:22<00:00,  1.09s/it]\n",
      "Validation epoch 99: 100%|██████████| 450/450 [04:16<00:00,  1.76it/s]\n",
      "Training epoch 100:   0%|          | 0/1500 [00:00<?, ?it/s]"
     ]
    },
    {
     "name": "stdout",
     "output_type": "stream",
     "text": [
      "Epoch 99:\n",
      "    Train loss 0.323, accuracy 0.812, F1-score 0.867, MCC: 0.419, Dice: 0.867\n",
      "    Val loss 0.346, accuracy 0.824, F1-score 0.892, MCC: 0.337, Dice: 0.892\n"
     ]
    },
    {
     "name": "stderr",
     "output_type": "stream",
     "text": [
      "Training epoch 100: 100%|██████████| 1500/1500 [27:22<00:00,  1.10s/it]\n",
      "Validation epoch 100: 100%|██████████| 450/450 [04:16<00:00,  1.76it/s]"
     ]
    },
    {
     "name": "stdout",
     "output_type": "stream",
     "text": [
      "Epoch 100:\n",
      "    Train loss 0.322, accuracy 0.812, F1-score 0.867, MCC: 0.422, Dice: 0.867\n",
      "    Val loss 0.343, accuracy 0.817, F1-score 0.884, MCC: 0.374, Dice: 0.884\n"
     ]
    },
    {
     "name": "stderr",
     "output_type": "stream",
     "text": [
      "\n"
     ]
    }
   ],
   "source": [
    "# ============================ #\n",
    "# user-specified hyperparameters\n",
    "# ============================ #\n",
    "country = 'india'\n",
    "epochs = 100\n",
    "lr = 0.001\n",
    "lr_decay = None\n",
    "n_filters = 32\n",
    "depth = 6\n",
    "n_classes = 1\n",
    "batch_size = 8\n",
    "model_type = 'fractal-resunet' # 'resunet-d6'\n",
    "month_name = '12month-separate'\n",
    "codes_to_keep = [1]\n",
    "ctx_name = 'gpu'\n",
    "gpu_id = 1\n",
    "boundary_kernel_size = (2,2)\n",
    "\n",
    "trained_model = '../experiments/partial-france/fractal-resunet_3month-separate_nfilter-32_depth-6_bs-8_lr-0.001_2x-3x-downsampled_allfields_n6759/model.params'\n",
    "# trained_model = None\n",
    "\n",
    "folder_suffix = '_n1000'\n",
    "if trained_model is None:\n",
    "    folder_suffix += '_fromscratch'\n",
    "else:\n",
    "    folder_suffix += '_finetuned' # _2x-3x_downsampled\n",
    "    \n",
    "months = ['2020_{}'.format(str(x).zfill(2)) for x in range(8, 13)] + \\\n",
    "         ['2021_{}'.format(str(x).zfill(2)) for x in range(1, 8)]\n",
    "\n",
    "# splits_path = '../data/splits/india_planetImagery_splits_20x20_v2.csv'\n",
    "splits_path = '../data/splits/india_planetImagery_splits_20x20_n1000.csv'\n",
    "splits_df = pd.read_csv(splits_path)\n",
    "splits_df['image_id'] = splits_df['image_id'].astype(str).str.zfill(4)\n",
    "\n",
    "# get all img and labels\n",
    "all_img_names = []\n",
    "all_label_names = []\n",
    "if country == 'india':\n",
    "    img_dir = '../data/planet/india/GeneralBlockchain/monthly_mosaics_renamed_clipped_merged/'\n",
    "    label_dir = '../data/planet/india/GeneralBlockchain/extent_labels_large/'\n",
    "\n",
    "label_folder_imgs = sorted(os.listdir(label_dir))\n",
    "for month in months:\n",
    "    for label_name in label_folder_imgs:\n",
    "        img_name = label_name.split('.')[0] + '_' + month + '.tif'\n",
    "        img_path = os.path.join(img_dir, month, img_name)\n",
    "        all_img_names.append(img_path)\n",
    "        label_path = os.path.join(label_dir, label_name)\n",
    "        all_label_names.append(label_path)\n",
    "\n",
    "# split imgs and labels into train/val/test\n",
    "all_images = pd.DataFrame({'img_path': all_img_names})\n",
    "all_images['image_id'] = all_images['img_path'].str.split('/').apply(\n",
    "    lambda x: x[-1]).str.split('.').apply(\n",
    "    lambda x: x[0]).str.split('_').apply(\n",
    "    lambda x: x[0])\n",
    "all_images = all_images.merge(splits_df[['image_id', 'fold']], on='image_id', how='left')\n",
    "train_names = all_images[all_images['fold'] == 'train']['img_path'].values\n",
    "val_names = all_images[all_images['fold'] == 'val']['img_path'].values\n",
    "test_names = all_images[all_images['fold'] == 'test']['img_path'].values\n",
    "\n",
    "all_labels = pd.DataFrame({'label_path': all_label_names})\n",
    "all_labels['image_id'] = all_labels['label_path'].str.split('/').apply(\n",
    "    lambda x: x[-1]).str.split('.').apply(\n",
    "    lambda x: x[0])\n",
    "all_labels = all_labels.merge(splits_df[['image_id', 'fold']], on='image_id', how='left')\n",
    "train_names_label = all_labels[all_labels['fold'] == 'train']['label_path'].values\n",
    "val_names_label = all_labels[all_labels['fold'] == 'val']['label_path'].values\n",
    "test_names_label = all_labels[all_labels['fold'] == 'test']['label_path'].values\n",
    "\n",
    "# ============================ #\n",
    "\n",
    "run_africa(country, train_names, val_names, test_names,\n",
    "           train_names_label, val_names_label, test_names_label,\n",
    "           trained_model=trained_model,\n",
    "           epochs=epochs, lr=lr, lr_decay=lr_decay, \n",
    "           model_type=model_type, n_filters=n_filters, depth=depth, n_classes=n_classes,\n",
    "           batch_size=batch_size, month=month_name,\n",
    "           codes_to_keep=codes_to_keep, \n",
    "           ctx_name=ctx_name,\n",
    "           gpu_id=gpu_id,\n",
    "           folder_suffix=folder_suffix,\n",
    "           boundary_kernel_size=boundary_kernel_size)"
   ]
  },
  {
   "cell_type": "code",
   "execution_count": null,
   "metadata": {},
   "outputs": [],
   "source": []
  }
 ],
 "metadata": {
  "kernelspec": {
   "display_name": "Environment (conda_mxnet1.6.0)",
   "language": "python",
   "name": "conda_mxnet1.6.0"
  },
  "language_info": {
   "codemirror_mode": {
    "name": "ipython",
    "version": 3
   },
   "file_extension": ".py",
   "mimetype": "text/x-python",
   "name": "python",
   "nbconvert_exporter": "python",
   "pygments_lexer": "ipython3",
   "version": "3.6.11"
  }
 },
 "nbformat": 4,
 "nbformat_minor": 2
}
