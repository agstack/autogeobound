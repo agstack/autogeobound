{
 "cells": [
  {
   "cell_type": "code",
   "execution_count": 10,
   "metadata": {},
   "outputs": [],
   "source": [
    "import numpy as np\n",
    "import pandas as pd\n",
    "import os\n",
    "from tqdm import tqdm\n",
    "import visdom\n",
    "\n",
    "import mxnet as mx\n",
    "from mxnet import gluon\n",
    "from mxnet import autograd\n",
    "from mxnet import image\n",
    "\n",
    "import sys\n",
    "sys.path.append('../../resuneta/src')\n",
    "sys.path.append('../../resuneta/nn/loss')\n",
    "sys.path.append('../../resuneta/models')\n",
    "sys.path.append('../../')\n",
    "sys.path.append('../MXNet-ResUNeta/')\n",
    "\n",
    "from bound_dist import get_distance, get_boundary\n",
    "from loss import Tanimoto_wth_dual\n",
    "from resunet_d6_causal_mtskcolor_ddist import *\n",
    "from resunet_d7_causal_mtskcolor_ddist import *\n",
    "\n",
    "from datasets import *"
   ]
  },
  {
   "cell_type": "code",
   "execution_count": 11,
   "metadata": {},
   "outputs": [],
   "source": [
    "def dice_coef(x, y):\n",
    "    if type(x).__module__ == 'numpy':\n",
    "        intersection = np.logical_and(x, y)\n",
    "        return 2. * np.sum(intersection) / (np.sum(x) + np.sum(y))\n",
    "    else:\n",
    "        intersection = mx.ndarray.op.broadcast_logical_and(x, y)\n",
    "        return 2. * mx.nd.sum(intersection) / (mx.nd.sum(x) + mx.nd.sum(y))"
   ]
  },
  {
   "cell_type": "code",
   "execution_count": 12,
   "metadata": {},
   "outputs": [],
   "source": [
    "def visdom_visualize_batch(vis, img, extent, boundary, distance,\n",
    "                           extent_pred, boundary_pred, distance_pred,\n",
    "                           hsv, hsv_pred, title=\"Train images\"):\n",
    "\n",
    "    img, extent, boundary, distance = img.asnumpy(), extent.asnumpy(), boundary.asnumpy(), distance.asnumpy()\n",
    "    extent_pred, boundary_pred = extent_pred.asnumpy(), boundary_pred.asnumpy()\n",
    "    distance_pred, hsv, hsv_pred = distance_pred.asnumpy(), hsv.asnumpy(), hsv_pred.asnumpy()\n",
    "\n",
    "    # put everything in one window\n",
    "    batch_size, nchannels, nrows, ncols = img.shape\n",
    "    padding = 10\n",
    "    items = [img, hsv, hsv_pred, extent, extent_pred, \n",
    "             boundary, boundary_pred, distance, distance_pred]\n",
    "    result = np.zeros((3, len(items)*nrows + (len(items)-1)*padding, batch_size*ncols + (batch_size-1)*padding))\n",
    "\n",
    "    for j, item in enumerate(items):\n",
    "\n",
    "        if item.shape[1] == 1:\n",
    "            item = np.tile(item, (1,3,1,1)) * 255.\n",
    "\n",
    "        if j == 1 or j == 2: # convert HSV to RGB\n",
    "            item = np.moveaxis(item, 1, -1) * 255.\n",
    "            for i in range(batch_size):\n",
    "                item[i] = cv2.cvtColor(item[i].astype(np.uint8), cv2.COLOR_HSV2RGB)\n",
    "            item = np.moveaxis(item, -1, 1)\n",
    "            \n",
    "        for i in range(batch_size):\n",
    "            result[:, j*(nrows+padding):(j+1)*nrows+j*padding, i*(ncols+padding):(i+1)*ncols+i*padding] = item[i]\n",
    "    vis.images(result, nrow=1, win=title, opts={'title': title})\n"
   ]
  },
  {
   "cell_type": "code",
   "execution_count": 13,
   "metadata": {},
   "outputs": [],
   "source": [
    "def train_model(train_dataloader, model, tanimoto_dual, trainer, epoch, args):\n",
    "    \n",
    "    # initialize metrics\n",
    "    cumulative_loss = 0\n",
    "    accuracy = mx.metric.Accuracy()\n",
    "    f1 = mx.metric.F1()\n",
    "    mcc = mx.metric.MCC()\n",
    "    dice = mx.metric.CustomMetric(feval=dice_coef, name=\"Dice\")\n",
    "    \n",
    "    # training set\n",
    "    for batch_i, (img, extent, boundary, distance, hsv) in enumerate(\n",
    "        tqdm(train_dataloader, desc='Training epoch {}'.format(epoch))):\n",
    "        \n",
    "        with autograd.record():\n",
    "\n",
    "            img = img.as_in_context(mx.gpu(args['gpu']))\n",
    "            extent = extent.as_in_context(mx.gpu(args['gpu']))\n",
    "            boundary = boundary.as_in_context(mx.gpu(args['gpu']))\n",
    "            distance = distance.as_in_context(mx.gpu(args['gpu']))\n",
    "            hsv = hsv.as_in_context(mx.gpu(args['gpu']))\n",
    "            \n",
    "            logits, bound, dist, convc = model(img)\n",
    "            \n",
    "            # multi-task loss\n",
    "            # TODO: wrap this in a custom loss function / class\n",
    "            loss_extent = mx.nd.sum(1 - tanimoto_dual(logits, extent))\n",
    "            loss_boundary = mx.nd.sum(1 - tanimoto_dual(bound, boundary))\n",
    "            loss_distance = mx.nd.sum(1 - tanimoto_dual(dist, distance))\n",
    "            loss_hsv = mx.nd.sum(1 - tanimoto_dual(convc, hsv))\n",
    "            \n",
    "            loss = 0.25 * (loss_extent + loss_boundary + loss_distance + loss_hsv)\n",
    "            \n",
    "        loss.backward()\n",
    "        trainer.step(args['batch_size'])\n",
    "        \n",
    "        # update metrics based on every batch\n",
    "        cumulative_loss += mx.nd.sum(loss).asscalar()\n",
    "        # accuracy\n",
    "        extent_predicted_classes = mx.nd.ceil(logits[:,[0],:,:] - 0.5)\n",
    "        accuracy.update(extent, extent_predicted_classes)\n",
    "        # f1 score\n",
    "        prediction = logits[:,0,:,:].reshape(-1)\n",
    "        probabilities = mx.nd.stack(1 - prediction, prediction, axis=1)\n",
    "        f1.update(extent.reshape(-1), probabilities)\n",
    "        # MCC metric\n",
    "        mcc.update(extent.reshape(-1), probabilities)\n",
    "        # Dice score\n",
    "        dice.update(extent, extent_predicted_classes)\n",
    "        # TODO: eccentricity\n",
    "        # TODO: ...\n",
    "        \n",
    "        if batch_i % args['visdom_every'] == 0:\n",
    "            visdom_visualize_batch(args['visdom'], img, extent, boundary, distance,\n",
    "                                   logits, bound, dist, hsv, convc)\n",
    "\n",
    "    return cumulative_loss, accuracy, f1, mcc, dice\n"
   ]
  },
  {
   "cell_type": "code",
   "execution_count": 14,
   "metadata": {},
   "outputs": [],
   "source": [
    "def evaluate_model(val_dataloader, model, tanimoto_dual, epoch, args):\n",
    "    \n",
    "    # initialize metrics\n",
    "    cumulative_loss = 0\n",
    "    accuracy = mx.metric.Accuracy()\n",
    "    f1 = mx.metric.F1()\n",
    "    mcc = mx.metric.MCC()\n",
    "    dice = mx.metric.CustomMetric(feval=dice_coef, name=\"Dice\")\n",
    "    \n",
    "    # validation set\n",
    "    for batch_i, (img, extent, boundary, distance, hsv) in enumerate(\n",
    "        tqdm(val_dataloader, desc='Validation epoch {}'.format(epoch))):\n",
    "\n",
    "        img = img.as_in_context(mx.gpu(args['gpu']))\n",
    "        extent = extent.as_in_context(mx.gpu(args['gpu']))\n",
    "        boundary = boundary.as_in_context(mx.gpu(args['gpu']))\n",
    "        distance = distance.as_in_context(mx.gpu(args['gpu']))\n",
    "        hsv = hsv.as_in_context(mx.gpu(args['gpu']))\n",
    "\n",
    "        logits, bound, dist, convc = model(img)\n",
    "            \n",
    "        # multi-task loss\n",
    "        # TODO: wrap this in a custom loss function / class\n",
    "        loss_extent = mx.nd.sum(1 - tanimoto_dual(logits, extent))\n",
    "        loss_boundary = mx.nd.sum(1 - tanimoto_dual(bound, boundary))\n",
    "        loss_distance = mx.nd.sum(1 - tanimoto_dual(dist, distance))\n",
    "        loss_hsv = mx.nd.sum(1 - tanimoto_dual(convc, hsv))\n",
    "\n",
    "        loss = 0.25 * (loss_extent + loss_boundary + loss_distance + loss_hsv)\n",
    "        \n",
    "        # update metrics based on every batch\n",
    "        cumulative_loss += mx.nd.sum(loss).asscalar()\n",
    "        # accuracy\n",
    "        extent_predicted_classes = mx.nd.ceil(logits[:,[0],:,:] - 0.5)\n",
    "        accuracy.update(extent, extent_predicted_classes)\n",
    "        # f1 score\n",
    "        prediction = logits[:,0,:,:].reshape(-1)\n",
    "        probabilities = mx.nd.stack(1 - prediction, prediction, axis=1)\n",
    "        f1.update(extent.reshape(-1), probabilities)\n",
    "        # MCC metric\n",
    "        mcc.update(extent.reshape(-1), probabilities)\n",
    "        # Dice score\n",
    "        dice.update(extent, extent_predicted_classes)\n",
    "        # TODO: eccentricity\n",
    "        # TODO: ...\n",
    "        \n",
    "        if batch_i % args['visdom_every'] == 0:\n",
    "            visdom_visualize_batch(args['visdom'], img, extent, boundary, distance,\n",
    "                                   logits, bound, dist, hsv, convc, title=\"Val images\")\n",
    "        \n",
    "    return cumulative_loss, accuracy, f1, mcc, dice"
   ]
  },
  {
   "cell_type": "markdown",
   "metadata": {},
   "source": [
    "# New 10k samples in France"
   ]
  },
  {
   "cell_type": "code",
   "execution_count": 15,
   "metadata": {},
   "outputs": [],
   "source": [
    "def run_france(splits_path='../data/splits/sherrie10k_planetImagery_splits.csv',\n",
    "               epochs=100, lr=0.001, lr_decay=None, n_filters=16, batch_size=8,\n",
    "               n_classes=1, model_type='resunet-d6', month='april', \n",
    "               codes_to_keep=list(np.arange(1,29, dtype=np.uint8)), \n",
    "               image_suffix='.tif', gpu_id=0):\n",
    "    \n",
    "    \n",
    "    # Set up names of directories and paths for saving\n",
    "    if len(codes_to_keep) >= 24:\n",
    "        classes = 'all'\n",
    "    else:\n",
    "        classes = 'subset'\n",
    "    folder_name = model_type+'_'+month+'_class-'+classes+'_nfilter-'+str(n_filters)+'_bs-'+str(batch_size)+'_lr-'+str(lr)\n",
    "    if lr_decay:\n",
    "        folder_name = folder_name + '_lrdecay-'+str(lr_decay)\n",
    "    save_path = os.path.join('../experiments/france/sherrie10k/', folder_name)\n",
    "    if not os.path.isdir(save_path):\n",
    "        os.makedirs(save_path)\n",
    "    save_model_name = os.path.join(save_path, \"model.params\")\n",
    "    \n",
    "    # Directories for loading data\n",
    "    month_dict = {'april': '2019_04', 'october': '2019_10', 'january': '2019_01'}\n",
    "    month_folder = month_dict[month]\n",
    "    image_directory = os.path.join(\n",
    "        '../data/planet/france/sherrie10k/monthly_mosaics_renamed_clipped_merged/', month_folder)\n",
    "    label_directory = '../data/planet/france/sherrie10k/extent_labels/'\n",
    "\n",
    "    # Visdom\n",
    "    env_name = 'france_sherrie10k_'+folder_name\n",
    "    vis = visdom.Visdom(port=8097, env=env_name)\n",
    "    \n",
    "    # Arguments\n",
    "    args = {}\n",
    "    args['batch_size'] = batch_size\n",
    "    args['gpu'] = gpu_id\n",
    "    args['visdom'] = vis\n",
    "    args['visdom_every'] = 20\n",
    "\n",
    "    # Load train/val/test splits\n",
    "    splits_df = pd.read_csv(splits_path)\n",
    "    splits_df['image_id'] = splits_df['image_id'].astype(str).str.zfill(5)\n",
    "    train_names = splits_df[splits_df['fold'] == 'train']['image_id'].values\n",
    "    val_names = splits_df[splits_df['fold'] == 'val']['image_id'].values\n",
    "    test_names = splits_df[splits_df['fold'] == 'test']['image_id'].values\n",
    "\n",
    "    train_dataset = PlanetDatasetWithClasses(\n",
    "        image_directory, label_directory, fold='train', image_names=train_names, classes=codes_to_keep,\n",
    "        image_suffix=image_suffix)\n",
    "    val_dataset = PlanetDatasetWithClasses(\n",
    "        image_directory, label_directory, fold='val', image_names=val_names, classes=codes_to_keep,\n",
    "        image_suffix=image_suffix)\n",
    "    test_dataset = PlanetDatasetWithClasses(\n",
    "        image_directory, label_directory, fold='test', image_names=test_names, classes=codes_to_keep,\n",
    "        image_suffix=image_suffix)\n",
    "\n",
    "    train_dataloader = gluon.data.DataLoader(train_dataset, batch_size=batch_size)\n",
    "    val_dataloader = gluon.data.DataLoader(val_dataset, batch_size=batch_size)\n",
    "    test_dataloader = gluon.data.DataLoader(test_dataset, batch_size=batch_size)\n",
    "\n",
    "    # define model\n",
    "    if model_type == 'resunet-d6':\n",
    "        model = ResUNet_d6(_nfilters_init=n_filters, _NClasses=n_classes)\n",
    "    elif model_type == 'resunet-d7':\n",
    "        model = ResUNet_d7(_nfilters_init=n_filters, _NClasses=n_classes)\n",
    "    model.initialize()\n",
    "    model.hybridize()\n",
    "    model.collect_params().reset_ctx(mx.gpu(args['gpu']))\n",
    "\n",
    "    # define loss function\n",
    "    tanimoto_dual = Tanimoto_wth_dual()\n",
    "    if lr_decay:\n",
    "        schedule = mx.lr_scheduler.FactorScheduler(step=1, factor=lr_decay)\n",
    "        adam_optimizer = mx.optimizer.Adam(learning_rate=lr, lr_scheduler=schedule)\n",
    "    else:\n",
    "        adam_optimizer = mx.optimizer.Adam(learning_rate=lr)\n",
    "    trainer = gluon.Trainer(model.collect_params(), optimizer=adam_optimizer)\n",
    "\n",
    "    # containers for metrics to log\n",
    "    train_metrics = {'train_loss': [], 'train_acc': [], 'train_f1': [], \n",
    "                     'train_mcc': [], 'train_dice': []}\n",
    "    val_metrics = {'val_loss': [], 'val_acc': [], 'val_f1': [], \n",
    "                   'val_mcc': [], 'val_dice': []}\n",
    "    best_mcc = 0.0\n",
    "\n",
    "    # training loop\n",
    "    for epoch in range(1, epochs+1):\n",
    "\n",
    "        # training set\n",
    "        train_loss, train_accuracy, train_f1, train_mcc, train_dice = train_model(\n",
    "            train_dataloader, model, tanimoto_dual, trainer, epoch, args)\n",
    "\n",
    "        # training set metrics\n",
    "        train_loss_avg = train_loss / len(train_dataset)\n",
    "        train_metrics['train_loss'].append(train_loss_avg)\n",
    "        train_metrics['train_acc'].append(train_accuracy.get()[1])\n",
    "        train_metrics['train_f1'].append(train_f1.get()[1])\n",
    "        train_metrics['train_mcc'].append(train_mcc.get()[1])\n",
    "        train_metrics['train_dice'].append(train_dice.get()[1])\n",
    "\n",
    "        # validation set\n",
    "        val_loss, val_accuracy, val_f1, val_mcc, val_dice = evaluate_model(\n",
    "            val_dataloader, model, tanimoto_dual, epoch, args)\n",
    "\n",
    "        # validation set metrics\n",
    "        val_loss_avg = val_loss / len(val_dataset)\n",
    "        val_metrics['val_loss'].append(val_loss_avg)\n",
    "        val_metrics['val_acc'].append(val_accuracy.get()[1])\n",
    "        val_metrics['val_f1'].append(val_f1.get()[1])\n",
    "        val_metrics['val_mcc'].append(val_mcc.get()[1])\n",
    "        val_metrics['val_dice'].append(val_dice.get()[1])\n",
    "\n",
    "        print(\"Epoch {}:\".format(epoch))\n",
    "        print(\"    Train loss {:0.3f}, accuracy {:0.3f}, F1-score {:0.3f}, MCC: {:0.3f}, Dice: {:0.3f}\".format(\n",
    "            train_loss_avg, train_accuracy.get()[1], train_f1.get()[1], train_mcc.get()[1], train_dice.get()[1]))\n",
    "        print(\"    Val loss {:0.3f}, accuracy {:0.3f}, F1-score {:0.3f}, MCC: {:0.3f}, Dice: {:0.3f}\".format(\n",
    "            val_loss_avg, val_accuracy.get()[1], val_f1.get()[1], val_mcc.get()[1], val_dice.get()[1]))\n",
    "\n",
    "        # save model based on best MCC metric\n",
    "        if val_mcc.get()[1] > best_mcc:\n",
    "            model.save_parameters(save_model_name)\n",
    "            best_mcc = val_mcc.get()[1]\n",
    "\n",
    "        # save metrics\n",
    "        metrics = pd.concat([pd.DataFrame(train_metrics), pd.DataFrame(val_metrics)], axis=1)\n",
    "        metrics.to_csv(os.path.join(save_path, 'metrics.csv'), index=False)\n",
    "\n",
    "        # visdom\n",
    "        vis.line(Y=np.stack([train_metrics['train_loss'], val_metrics['val_loss']], axis=1), \n",
    "                 X=np.arange(1, epoch+1), win=\"Loss\", \n",
    "                 opts=dict(legend=['train loss', 'val loss'], markers=False, title=\"Losses\",\n",
    "                           xlabel=\"Epoch\", ylabel=\"Loss\")\n",
    "                )\n",
    "        vis.line(Y=np.stack([train_metrics['train_mcc'], val_metrics['val_mcc']], axis=1), \n",
    "                 X=np.arange(1, epoch+1), win=\"MCC\", \n",
    "                 opts=dict(legend=['train MCC', 'val MCC'], markers=False, title=\"MCC\",\n",
    "                           xlabel=\"Epoch\", ylabel=\"MCC\")\n",
    "                )\n"
   ]
  },
  {
   "cell_type": "code",
   "execution_count": 16,
   "metadata": {
    "scrolled": true
   },
   "outputs": [],
   "source": [
    "# # ============================ #\n",
    "# # user-specified hyperparameters\n",
    "# # ============================ #\n",
    "# epochs = 100\n",
    "# lr = 0.001\n",
    "# lr_decay = None\n",
    "# n_filters = 32\n",
    "# batch_size = 8\n",
    "# n_classes = 1\n",
    "# model_type = 'resunet-d7'\n",
    "# month = 'october'\n",
    "# codes_to_keep = list(np.arange(1,28, dtype=np.uint8))\n",
    "# gpu_id = 1\n",
    "# # ============================ #\n",
    "\n",
    "# run_france(splits_path='../data/splits/sherrie10k_planetImagery_splits_20x20.csv',\n",
    "#            epochs=epochs, lr=lr, lr_decay=lr_decay, n_filters=n_filters, batch_size=batch_size,\n",
    "#            n_classes=n_classes, model_type=model_type, month=month, image_suffix='_2019_10.tif',\n",
    "#            codes_to_keep=codes_to_keep, gpu_id=gpu_id)"
   ]
  },
  {
   "cell_type": "code",
   "execution_count": 17,
   "metadata": {},
   "outputs": [],
   "source": [
    "def run_france_all_images(splits_path='../data/splits/sherrie10k_planetImagery_splits.csv',\n",
    "                          image_directory = '../data/planet/france/sherrie10k/monthly_mosaics_renamed_clipped_merged/',\n",
    "                          label_directory = '../data/planet/france/sherrie10k/extent_labels/',\n",
    "                          epochs=100, lr=0.001, lr_decay=None, n_filters=16, batch_size=8,\n",
    "                          n_classes=1, model_type='resunet-d6', month='april', \n",
    "                          codes_to_keep=list(np.arange(1,29, dtype=np.uint8)), \n",
    "                          image_suffix='.tif', \n",
    "                          folder_suffix='',\n",
    "                          boundary_kernel_size=3,\n",
    "                          gpu_id=0):\n",
    "    \n",
    "    \n",
    "    # Set up names of directories and paths for saving\n",
    "    if len(codes_to_keep) >= 24:\n",
    "        classes = 'all'\n",
    "    elif codes_to_keep == list(range(1,10)) + [11,14,15,16,17,18,19,24,25,26,27]:\n",
    "        classes = 'notreecrops'\n",
    "    elif codes_to_keep == list(range(1,10)) + [11,14,15,16,17,18,19,21,24,25,26,27]:\n",
    "        classes = 'notreeexceptvines'\n",
    "    else:\n",
    "        classes = 'subset'\n",
    "    folder_name = model_type+'_'+month+'_class-'+classes+'_nfilter-'+str(n_filters)+ \\\n",
    "                  '_bs-'+str(batch_size)+'_lr-'+str(lr)+folder_suffix\n",
    "    if lr_decay:\n",
    "        folder_name = folder_name + '_lrdecay-'+str(lr_decay)\n",
    "    save_path = os.path.join('../experiments/france/sherrie10k/', folder_name)\n",
    "    if not os.path.isdir(save_path):\n",
    "        os.makedirs(save_path)\n",
    "    save_model_name = os.path.join(save_path, \"model.params\")\n",
    "    \n",
    "    # Visdom\n",
    "    env_name = 'france_sherrie10k_'+folder_name\n",
    "    vis = visdom.Visdom(port=8097, env=env_name)\n",
    "    \n",
    "    # Arguments\n",
    "    args = {}\n",
    "    args['batch_size'] = batch_size\n",
    "    args['gpu'] = gpu_id\n",
    "    args['visdom'] = vis\n",
    "    args['visdom_every'] = 20\n",
    "\n",
    "    # Load train/val/test splits\n",
    "    splits_df = pd.read_csv(splits_path)\n",
    "    splits_df['image_id'] = splits_df['image_id'].astype(str).str.zfill(5)\n",
    "    train_names_label = splits_df[splits_df['fold'] == 'train']['image_id'].values\n",
    "    val_names_label = splits_df[splits_df['fold'] == 'val']['image_id'].values\n",
    "    test_names_label = splits_df[splits_df['fold'] == 'test']['image_id'].values\n",
    "    train_names, val_names, test_names = [], [], []\n",
    "    for year_month in ['2019_10', '2019_07', '2019_04']:\n",
    "        train_names = train_names + [year_month+'/'+x+'_'+year_month for x in train_names_label]\n",
    "        val_names = val_names + [year_month+'/'+x+'_'+year_month for x in val_names_label]\n",
    "        test_names = test_names + [year_month+'/'+x+'_'+year_month for x in test_names_label]\n",
    "\n",
    "    train_dataset = PlanetDatasetWithClasses(\n",
    "        image_directory, label_directory, fold='train', image_names=train_names, \n",
    "        label_names=train_names_label, classes=codes_to_keep, image_suffix=image_suffix,\n",
    "        boundary_kernel_size=boundary_kernel_size)\n",
    "    val_dataset = PlanetDatasetWithClasses(\n",
    "        image_directory, label_directory, fold='val', image_names=val_names, \n",
    "        label_names=val_names_label, classes=codes_to_keep, image_suffix=image_suffix,\n",
    "        boundary_kernel_size=boundary_kernel_size)\n",
    "    test_dataset = PlanetDatasetWithClasses(\n",
    "        image_directory, label_directory, fold='test', image_names=test_names, \n",
    "        label_names=test_names_label, classes=codes_to_keep, image_suffix=image_suffix,\n",
    "        boundary_kernel_size=boundary_kernel_size)\n",
    "\n",
    "    train_dataloader = gluon.data.DataLoader(train_dataset, batch_size=batch_size)\n",
    "    val_dataloader = gluon.data.DataLoader(val_dataset, batch_size=batch_size)\n",
    "    test_dataloader = gluon.data.DataLoader(test_dataset, batch_size=batch_size)\n",
    "\n",
    "    # define model\n",
    "    if model_type == 'resunet-d6':\n",
    "        model = ResUNet_d6(_nfilters_init=n_filters, _NClasses=n_classes)\n",
    "    elif model_type == 'resunet-d7':\n",
    "        model = ResUNet_d7(_nfilters_init=n_filters, _NClasses=n_classes)\n",
    "    model.initialize()\n",
    "    model.hybridize()\n",
    "    model.collect_params().reset_ctx(mx.gpu(args['gpu']))\n",
    "\n",
    "    # define loss function\n",
    "    tanimoto_dual = Tanimoto_wth_dual()\n",
    "    if lr_decay:\n",
    "        schedule = mx.lr_scheduler.FactorScheduler(step=1, factor=lr_decay)\n",
    "        adam_optimizer = mx.optimizer.Adam(learning_rate=lr, lr_scheduler=schedule)\n",
    "    else:\n",
    "        adam_optimizer = mx.optimizer.Adam(learning_rate=lr)\n",
    "    trainer = gluon.Trainer(model.collect_params(), optimizer=adam_optimizer)\n",
    "\n",
    "    # containers for metrics to log\n",
    "    train_metrics = {'train_loss': [], 'train_acc': [], 'train_f1': [], \n",
    "                     'train_mcc': [], 'train_dice': []}\n",
    "    val_metrics = {'val_loss': [], 'val_acc': [], 'val_f1': [], \n",
    "                   'val_mcc': [], 'val_dice': []}\n",
    "    best_mcc = 0.0\n",
    "\n",
    "    # training loop\n",
    "    for epoch in range(1, epochs+1):\n",
    "\n",
    "        # training set\n",
    "        train_loss, train_accuracy, train_f1, train_mcc, train_dice = train_model(\n",
    "            train_dataloader, model, tanimoto_dual, trainer, epoch, args)\n",
    "\n",
    "        # training set metrics\n",
    "        train_loss_avg = train_loss / len(train_dataset)\n",
    "        train_metrics['train_loss'].append(train_loss_avg)\n",
    "        train_metrics['train_acc'].append(train_accuracy.get()[1])\n",
    "        train_metrics['train_f1'].append(train_f1.get()[1])\n",
    "        train_metrics['train_mcc'].append(train_mcc.get()[1])\n",
    "        train_metrics['train_dice'].append(train_dice.get()[1])\n",
    "\n",
    "        # validation set\n",
    "        val_loss, val_accuracy, val_f1, val_mcc, val_dice = evaluate_model(\n",
    "            val_dataloader, model, tanimoto_dual, epoch, args)\n",
    "\n",
    "        # validation set metrics\n",
    "        val_loss_avg = val_loss / len(val_dataset)\n",
    "        val_metrics['val_loss'].append(val_loss_avg)\n",
    "        val_metrics['val_acc'].append(val_accuracy.get()[1])\n",
    "        val_metrics['val_f1'].append(val_f1.get()[1])\n",
    "        val_metrics['val_mcc'].append(val_mcc.get()[1])\n",
    "        val_metrics['val_dice'].append(val_dice.get()[1])\n",
    "\n",
    "        print(\"Epoch {}:\".format(epoch))\n",
    "        print(\"    Train loss {:0.3f}, accuracy {:0.3f}, F1-score {:0.3f}, MCC: {:0.3f}, Dice: {:0.3f}\".format(\n",
    "            train_loss_avg, train_accuracy.get()[1], train_f1.get()[1], train_mcc.get()[1], train_dice.get()[1]))\n",
    "        print(\"    Val loss {:0.3f}, accuracy {:0.3f}, F1-score {:0.3f}, MCC: {:0.3f}, Dice: {:0.3f}\".format(\n",
    "            val_loss_avg, val_accuracy.get()[1], val_f1.get()[1], val_mcc.get()[1], val_dice.get()[1]))\n",
    "\n",
    "        # save model based on best MCC metric\n",
    "        if val_mcc.get()[1] > best_mcc:\n",
    "            model.save_parameters(save_model_name)\n",
    "            best_mcc = val_mcc.get()[1]\n",
    "\n",
    "        # save metrics\n",
    "        metrics = pd.concat([pd.DataFrame(train_metrics), pd.DataFrame(val_metrics)], axis=1)\n",
    "        metrics.to_csv(os.path.join(save_path, 'metrics.csv'), index=False)\n",
    "\n",
    "        # visdom\n",
    "        vis.line(Y=np.stack([train_metrics['train_loss'], val_metrics['val_loss']], axis=1), \n",
    "                 X=np.arange(1, epoch+1), win=\"Loss\", \n",
    "                 opts=dict(legend=['train loss', 'val loss'], markers=False, title=\"Losses\",\n",
    "                           xlabel=\"Epoch\", ylabel=\"Loss\")\n",
    "                )\n",
    "        vis.line(Y=np.stack([train_metrics['train_mcc'], val_metrics['val_mcc']], axis=1), \n",
    "                 X=np.arange(1, epoch+1), win=\"MCC\", \n",
    "                 opts=dict(legend=['train MCC', 'val MCC'], markers=False, title=\"MCC\",\n",
    "                           xlabel=\"Epoch\", ylabel=\"MCC\")\n",
    "                )\n"
   ]
  },
  {
   "cell_type": "code",
   "execution_count": null,
   "metadata": {
    "scrolled": true
   },
   "outputs": [
    {
     "name": "stderr",
     "output_type": "stream",
     "text": [
      "Setting up a new session...\n"
     ]
    },
    {
     "name": "stdout",
     "output_type": "stream",
     "text": [
      "depth:= 0, nfilters: 16\n",
      "depth:= 1, nfilters: 32\n",
      "depth:= 2, nfilters: 64\n",
      "depth:= 3, nfilters: 128\n",
      "depth:= 4, nfilters: 256\n",
      "depth:= 5, nfilters: 512\n",
      "depth:= 6, nfilters: 256\n",
      "depth:= 7, nfilters: 128\n",
      "depth:= 8, nfilters: 64\n",
      "depth:= 9, nfilters: 32\n",
      "depth:= 10, nfilters: 16\n"
     ]
    },
    {
     "name": "stderr",
     "output_type": "stream",
     "text": [
      "Training epoch 1: 100%|██████████| 2562/2562 [23:28<00:00,  1.82it/s]\n",
      "Validation epoch 1: 100%|██████████| 585/585 [03:42<00:00,  2.63it/s]\n",
      "Training epoch 2:   0%|          | 0/2562 [00:00<?, ?it/s]"
     ]
    },
    {
     "name": "stdout",
     "output_type": "stream",
     "text": [
      "Epoch 1:\n",
      "    Train loss 0.213, accuracy 0.815, F1-score 0.654, MCC: 0.533, Dice: 0.654\n",
      "    Val loss 0.214, accuracy 0.780, F1-score 0.651, MCC: 0.501, Dice: 0.651\n"
     ]
    },
    {
     "name": "stderr",
     "output_type": "stream",
     "text": [
      "Training epoch 2: 100%|██████████| 2562/2562 [23:28<00:00,  1.82it/s]\n",
      "Validation epoch 2: 100%|██████████| 585/585 [03:40<00:00,  2.65it/s]\n"
     ]
    },
    {
     "name": "stdout",
     "output_type": "stream",
     "text": [
      "Epoch 2:\n",
      "    Train loss 0.195, accuracy 0.834, F1-score 0.688, MCC: 0.577, Dice: 0.688\n",
      "    Val loss 0.196, accuracy 0.824, F1-score 0.673, MCC: 0.558, Dice: 0.673\n"
     ]
    },
    {
     "name": "stderr",
     "output_type": "stream",
     "text": [
      "Training epoch 3: 100%|██████████| 2562/2562 [23:37<00:00,  1.81it/s]\n",
      "Validation epoch 3: 100%|██████████| 585/585 [03:44<00:00,  2.61it/s]\n"
     ]
    },
    {
     "name": "stdout",
     "output_type": "stream",
     "text": [
      "Epoch 3:\n",
      "    Train loss 0.191, accuracy 0.839, F1-score 0.698, MCC: 0.589, Dice: 0.698\n",
      "    Val loss 0.193, accuracy 0.817, F1-score 0.698, MCC: 0.569, Dice: 0.698\n"
     ]
    },
    {
     "name": "stderr",
     "output_type": "stream",
     "text": [
      "Training epoch 4: 100%|██████████| 2562/2562 [24:18<00:00,  1.76it/s]\n",
      "Validation epoch 4: 100%|██████████| 585/585 [04:02<00:00,  2.41it/s]\n"
     ]
    },
    {
     "name": "stdout",
     "output_type": "stream",
     "text": [
      "Epoch 4:\n",
      "    Train loss 0.188, accuracy 0.841, F1-score 0.704, MCC: 0.596, Dice: 0.704\n",
      "    Val loss 0.192, accuracy 0.817, F1-score 0.702, MCC: 0.574, Dice: 0.702\n"
     ]
    },
    {
     "name": "stderr",
     "output_type": "stream",
     "text": [
      "Training epoch 5: 100%|██████████| 2562/2562 [25:15<00:00,  1.69it/s]\n",
      "Validation epoch 5: 100%|██████████| 585/585 [03:53<00:00,  2.51it/s]\n"
     ]
    },
    {
     "name": "stdout",
     "output_type": "stream",
     "text": [
      "Epoch 5:\n",
      "    Train loss 0.186, accuracy 0.843, F1-score 0.707, MCC: 0.601, Dice: 0.707\n",
      "    Val loss 0.186, accuracy 0.828, F1-score 0.719, MCC: 0.598, Dice: 0.719\n"
     ]
    },
    {
     "name": "stderr",
     "output_type": "stream",
     "text": [
      "Training epoch 6: 100%|██████████| 2562/2562 [24:11<00:00,  1.76it/s]\n",
      "Validation epoch 6: 100%|██████████| 585/585 [03:41<00:00,  2.64it/s]\n"
     ]
    },
    {
     "name": "stdout",
     "output_type": "stream",
     "text": [
      "Epoch 6:\n",
      "    Train loss 0.185, accuracy 0.844, F1-score 0.709, MCC: 0.603, Dice: 0.709\n",
      "    Val loss 0.185, accuracy 0.832, F1-score 0.717, MCC: 0.598, Dice: 0.717\n"
     ]
    },
    {
     "name": "stderr",
     "output_type": "stream",
     "text": [
      "Training epoch 13: 100%|██████████| 2562/2562 [23:34<00:00,  1.81it/s]\n",
      "Validation epoch 13: 100%|██████████| 585/585 [03:44<00:00,  2.60it/s]\n",
      "Training epoch 14:   0%|          | 0/2562 [00:00<?, ?it/s]"
     ]
    },
    {
     "name": "stdout",
     "output_type": "stream",
     "text": [
      "Epoch 13:\n",
      "    Train loss 0.180, accuracy 0.848, F1-score 0.718, MCC: 0.615, Dice: 0.718\n",
      "    Val loss 0.182, accuracy 0.833, F1-score 0.724, MCC: 0.607, Dice: 0.724\n"
     ]
    },
    {
     "name": "stderr",
     "output_type": "stream",
     "text": [
      "Training epoch 14: 100%|██████████| 2562/2562 [24:17<00:00,  1.76it/s]\n",
      "Validation epoch 14: 100%|██████████| 585/585 [03:58<00:00,  2.46it/s]\n",
      "Training epoch 15:   0%|          | 0/2562 [00:00<?, ?it/s]"
     ]
    },
    {
     "name": "stdout",
     "output_type": "stream",
     "text": [
      "Epoch 14:\n",
      "    Train loss 0.179, accuracy 0.849, F1-score 0.719, MCC: 0.616, Dice: 0.719\n",
      "    Val loss 0.179, accuracy 0.841, F1-score 0.731, MCC: 0.619, Dice: 0.731\n"
     ]
    },
    {
     "name": "stderr",
     "output_type": "stream",
     "text": [
      "Training epoch 15: 100%|██████████| 2562/2562 [23:51<00:00,  1.79it/s]\n",
      "Validation epoch 15: 100%|██████████| 585/585 [03:44<00:00,  2.60it/s]\n",
      "Training epoch 16:   0%|          | 0/2562 [00:00<?, ?it/s]"
     ]
    },
    {
     "name": "stdout",
     "output_type": "stream",
     "text": [
      "Epoch 15:\n",
      "    Train loss 0.179, accuracy 0.849, F1-score 0.720, MCC: 0.617, Dice: 0.720\n",
      "    Val loss 0.177, accuracy 0.842, F1-score 0.730, MCC: 0.619, Dice: 0.730\n"
     ]
    },
    {
     "name": "stderr",
     "output_type": "stream",
     "text": [
      "Training epoch 16: 100%|██████████| 2562/2562 [23:40<00:00,  1.80it/s]\n",
      "Validation epoch 16: 100%|██████████| 585/585 [03:46<00:00,  2.58it/s]\n",
      "Training epoch 17:   0%|          | 0/2562 [00:00<?, ?it/s]"
     ]
    },
    {
     "name": "stdout",
     "output_type": "stream",
     "text": [
      "Epoch 16:\n",
      "    Train loss 0.179, accuracy 0.849, F1-score 0.720, MCC: 0.617, Dice: 0.720\n",
      "    Val loss 0.179, accuracy 0.840, F1-score 0.720, MCC: 0.609, Dice: 0.720\n"
     ]
    },
    {
     "name": "stderr",
     "output_type": "stream",
     "text": [
      "Training epoch 17: 100%|██████████| 2562/2562 [24:47<00:00,  1.72it/s]\n",
      "Validation epoch 17: 100%|██████████| 585/585 [04:02<00:00,  2.41it/s]\n",
      "Training epoch 18:   0%|          | 0/2562 [00:00<?, ?it/s]"
     ]
    },
    {
     "name": "stdout",
     "output_type": "stream",
     "text": [
      "Epoch 17:\n",
      "    Train loss 0.179, accuracy 0.850, F1-score 0.721, MCC: 0.618, Dice: 0.721\n",
      "    Val loss 0.180, accuracy 0.843, F1-score 0.723, MCC: 0.614, Dice: 0.723\n"
     ]
    },
    {
     "name": "stderr",
     "output_type": "stream",
     "text": [
      "Training epoch 18:   2%|▏         | 52/2562 [00:32<23:06,  1.81it/s] "
     ]
    }
   ],
   "source": [
    "# ============================ #\n",
    "# user-specified hyperparameters\n",
    "# ============================ #\n",
    "epochs = 100\n",
    "lr = 0.001\n",
    "lr_decay = None\n",
    "n_filters = 16\n",
    "batch_size = 8\n",
    "n_classes = 1\n",
    "model_type = 'resunet-d6'\n",
    "month = 'aprJulOctSeparate'\n",
    "codes_to_keep = list(range(1,10)) + [11,14,15,16,17,18,19,21,24,25,26,27] #list(np.arange(1,28, dtype=np.uint8))\n",
    "gpu_id = 0\n",
    "# ============================ #\n",
    "\n",
    "run_france_all_images(splits_path='../data/splits/sherrie10k_planetImagery_splits_20x20_6x-downsampled.csv',\n",
    "                      image_directory = '../data/planet/france/sherrie10k/monthly_mosaics_renamed_clipped_merged/2500px/6x_downsample/',\n",
    "                      label_directory = '../data/planet/france/sherrie10k/extent_labels/2500px/6x_downsample/',\n",
    "                      epochs=epochs, lr=lr, lr_decay=lr_decay, n_filters=n_filters, batch_size=batch_size,\n",
    "                      n_classes=n_classes, model_type=model_type, month=month, image_suffix='.tif',\n",
    "                      codes_to_keep=codes_to_keep, gpu_id=gpu_id, folder_suffix='_6x-downsampled',\n",
    "                      boundary_kernel_size=(2,2))"
   ]
  },
  {
   "cell_type": "markdown",
   "metadata": {},
   "source": [
    "# Using Han and Burak's original sample locations"
   ]
  },
  {
   "cell_type": "code",
   "execution_count": 6,
   "metadata": {},
   "outputs": [],
   "source": [
    "def run_france(epochs=100, lr=0.001, lr_decay=None, n_filters=16, batch_size=8,\n",
    "               n_classes=1, model_type='resunet-d6', month='april', gpu_id=0,\n",
    "               splits_path='../data/splits/hanAndBurak_planetImagery_splits.csv',\n",
    "               n_train=1000):\n",
    "    \n",
    "    folder_name = model_type+'_'+month+'_ntrain-'+str(n_train)+'_nfilter-'+str(n_filters)+'_bs-'+str(batch_size)+'_lr-'+str(lr)\n",
    "    if lr_decay:\n",
    "        folder_name = folder_name + '_lrdecay-'+str(lr_decay)\n",
    "    save_path = '../experiments/france/'+folder_name\n",
    "    if not os.path.isdir(save_path):\n",
    "        os.makedirs(save_path)\n",
    "    save_model_name = os.path.join(save_path, \"model.params\")\n",
    "\n",
    "    image_directory = '../data/planet/france/'+month\n",
    "    label_directory = '../data/planet/france/labels/'\n",
    "\n",
    "    env_name = 'france_'+folder_name\n",
    "    vis = visdom.Visdom(port=8097, env=env_name)\n",
    "    \n",
    "    args = {}\n",
    "    args['batch_size'] = batch_size\n",
    "    args['gpu'] = gpu_id\n",
    "    args['visdom'] = vis\n",
    "    args['visdom_every'] = 10\n",
    "\n",
    "    # Load train/val/test splits\n",
    "    splits_df = pd.read_csv(splits_path)\n",
    "    train_names = splits_df[splits_df['fold'] == 'train']['image_id'].values\n",
    "    val_names = splits_df[splits_df['fold'] == 'val']['image_id'].values\n",
    "    test_names = splits_df[splits_df['fold'] == 'test']['image_id'].values\n",
    "\n",
    "    train_dataset = PlanetDataset(image_directory, label_directory, image_names=train_names)\n",
    "    val_dataset = PlanetDataset(image_directory, label_directory, image_names=val_names)\n",
    "    test_dataset = PlanetDataset(image_directory, label_directory, image_names=test_names)\n",
    "\n",
    "    train_dataloader = gluon.data.DataLoader(train_dataset, batch_size=batch_size)\n",
    "    val_dataloader = gluon.data.DataLoader(val_dataset, batch_size=batch_size)\n",
    "    test_dataloader = gluon.data.DataLoader(test_dataset, batch_size=batch_size)\n",
    "\n",
    "    # define model\n",
    "    if model_type == 'resunet-d6':\n",
    "        model = ResUNet_d6(_nfilters_init=n_filters, _NClasses=n_classes)\n",
    "    elif model_type == 'resunet-d7':\n",
    "        model = ResUNet_d7(_nfilters_init=n_filters, _NClasses=n_classes)\n",
    "    model.initialize()\n",
    "    model.hybridize()\n",
    "    model.collect_params().reset_ctx(mx.gpu(args['gpu']))\n",
    "\n",
    "    # define loss function\n",
    "    tanimoto_dual = Tanimoto_wth_dual()\n",
    "    if lr_decay:\n",
    "        schedule = mx.lr_scheduler.FactorScheduler(step=1, factor=lr_decay)\n",
    "        adam_optimizer = mx.optimizer.Adam(learning_rate=lr, lr_scheduler=schedule)\n",
    "    else:\n",
    "        adam_optimizer = mx.optimizer.Adam(learning_rate=lr)\n",
    "    trainer = gluon.Trainer(model.collect_params(), optimizer=adam_optimizer)\n",
    "\n",
    "    # containers for metrics to log\n",
    "    train_metrics = {'train_loss': [], 'train_acc': [], 'train_f1': [], \n",
    "                     'train_mcc': [], 'train_dice': []}\n",
    "    val_metrics = {'val_loss': [], 'val_acc': [], 'val_f1': [], \n",
    "                   'val_mcc': [], 'val_dice': []}\n",
    "    best_mcc = 0.0\n",
    "\n",
    "    # training loop\n",
    "    for epoch in range(1, epochs+1):\n",
    "\n",
    "        # training set\n",
    "        train_loss, train_accuracy, train_f1, train_mcc, train_dice = train_model(\n",
    "            train_dataloader, model, tanimoto_dual, trainer, epoch, args)\n",
    "\n",
    "        # training set metrics\n",
    "        train_loss_avg = train_loss / len(train_dataset)\n",
    "        train_metrics['train_loss'].append(train_loss_avg)\n",
    "        train_metrics['train_acc'].append(train_accuracy.get()[1])\n",
    "        train_metrics['train_f1'].append(train_f1.get()[1])\n",
    "        train_metrics['train_mcc'].append(train_mcc.get()[1])\n",
    "        train_metrics['train_dice'].append(train_dice.get()[1])\n",
    "\n",
    "        # validation set\n",
    "        val_loss, val_accuracy, val_f1, val_mcc, val_dice = evaluate_model(\n",
    "            val_dataloader, model, tanimoto_dual, epoch, args)\n",
    "\n",
    "        # validation set metrics\n",
    "        val_loss_avg = val_loss / len(val_dataset)\n",
    "        val_metrics['val_loss'].append(val_loss_avg)\n",
    "        val_metrics['val_acc'].append(val_accuracy.get()[1])\n",
    "        val_metrics['val_f1'].append(val_f1.get()[1])\n",
    "        val_metrics['val_mcc'].append(val_mcc.get()[1])\n",
    "        val_metrics['val_dice'].append(val_dice.get()[1])\n",
    "\n",
    "        print(\"Epoch {}:\".format(epoch))\n",
    "        print(\"    Train loss {:0.3f}, accuracy {:0.3f}, F1-score {:0.3f}, MCC: {:0.3f}, Dice: {:0.3f}\".format(\n",
    "            train_loss_avg, train_accuracy.get()[1], train_f1.get()[1], train_mcc.get()[1], train_dice.get()[1]))\n",
    "        print(\"    Val loss {:0.3f}, accuracy {:0.3f}, F1-score {:0.3f}, MCC: {:0.3f}, Dice: {:0.3f}\".format(\n",
    "            val_loss_avg, val_accuracy.get()[1], val_f1.get()[1], val_mcc.get()[1], val_dice.get()[1]))\n",
    "\n",
    "        # save model based on best MCC metric\n",
    "        if val_mcc.get()[1] > best_mcc:\n",
    "            model.save_parameters(save_model_name)\n",
    "            best_mcc = val_mcc.get()[1]\n",
    "\n",
    "        # save metrics\n",
    "        metrics = pd.concat([pd.DataFrame(train_metrics), pd.DataFrame(val_metrics)], axis=1)\n",
    "        metrics.to_csv(os.path.join(save_path, 'metrics.csv'), index=False)\n",
    "\n",
    "        # visdom\n",
    "        vis.line(Y=np.stack([train_metrics['train_loss'], val_metrics['val_loss']], axis=1), \n",
    "                 X=np.arange(1, epoch+1), win=\"Loss\", \n",
    "                 opts=dict(legend=['train loss', 'val loss'], markers=False, title=\"Losses\",\n",
    "                           xlabel=\"Epoch\", ylabel=\"Loss\")\n",
    "                )\n",
    "        vis.line(Y=np.stack([train_metrics['train_mcc'], val_metrics['val_mcc']], axis=1), \n",
    "                 X=np.arange(1, epoch+1), win=\"MCC\", \n",
    "                 opts=dict(legend=['train MCC', 'val MCC'], markers=False, title=\"MCC\",\n",
    "                           xlabel=\"Epoch\", ylabel=\"MCC\")\n",
    "                )\n"
   ]
  },
  {
   "cell_type": "code",
   "execution_count": 7,
   "metadata": {
    "scrolled": true
   },
   "outputs": [
    {
     "name": "stderr",
     "output_type": "stream",
     "text": [
      "Setting up a new session...\n"
     ]
    },
    {
     "name": "stdout",
     "output_type": "stream",
     "text": [
      "depth:= 0, nfilters: 32\n",
      "depth:= 1, nfilters: 64\n",
      "depth:= 2, nfilters: 128\n",
      "depth:= 3, nfilters: 256\n",
      "depth:= 4, nfilters: 512\n",
      "depth:= 5, nfilters: 1024\n",
      "depth:= 6, nfilters: 2048\n",
      "depth:= 7, nfilters: 1024\n",
      "depth:= 8, nfilters: 512\n",
      "depth:= 9, nfilters: 256\n",
      "depth:= 10, nfilters: 128\n",
      "depth:= 11, nfilters: 64\n",
      "depth:= 12, nfilters: 32\n"
     ]
    },
    {
     "name": "stderr",
     "output_type": "stream",
     "text": [
      "Training epoch 1: 100%|██████████| 63/63 [01:15<00:00,  1.20s/it]\n",
      "Validation epoch 1: 100%|██████████| 51/51 [00:32<00:00,  1.57it/s]\n"
     ]
    },
    {
     "name": "stdout",
     "output_type": "stream",
     "text": [
      "Epoch 1:\n",
      "    Train loss 0.284, accuracy 0.727, F1-score 0.749, MCC: 0.452, Dice: 0.749\n",
      "    Val loss 0.247, accuracy 0.730, F1-score 0.716, MCC: 0.465, Dice: 0.716\n"
     ]
    },
    {
     "name": "stderr",
     "output_type": "stream",
     "text": [
      "Training epoch 2: 100%|██████████| 63/63 [00:58<00:00,  1.07it/s]\n",
      "Validation epoch 2: 100%|██████████| 51/51 [00:29<00:00,  1.72it/s]\n"
     ]
    },
    {
     "name": "stdout",
     "output_type": "stream",
     "text": [
      "Epoch 2:\n",
      "    Train loss 0.226, accuracy 0.762, F1-score 0.784, MCC: 0.522, Dice: 0.784\n",
      "    Val loss 0.223, accuracy 0.760, F1-score 0.774, MCC: 0.507, Dice: 0.774\n"
     ]
    },
    {
     "name": "stderr",
     "output_type": "stream",
     "text": [
      "Training epoch 3: 100%|██████████| 63/63 [00:59<00:00,  1.06it/s]\n",
      "Validation epoch 3: 100%|██████████| 51/51 [00:28<00:00,  1.78it/s]\n"
     ]
    },
    {
     "name": "stdout",
     "output_type": "stream",
     "text": [
      "Epoch 3:\n",
      "    Train loss 0.212, accuracy 0.775, F1-score 0.793, MCC: 0.548, Dice: 0.793\n",
      "    Val loss 0.214, accuracy 0.765, F1-score 0.774, MCC: 0.519, Dice: 0.774\n"
     ]
    },
    {
     "name": "stderr",
     "output_type": "stream",
     "text": [
      "Training epoch 4: 100%|██████████| 63/63 [00:58<00:00,  1.07it/s]\n",
      "Validation epoch 4: 100%|██████████| 51/51 [00:28<00:00,  1.76it/s]\n"
     ]
    },
    {
     "name": "stdout",
     "output_type": "stream",
     "text": [
      "Epoch 4:\n",
      "    Train loss 0.205, accuracy 0.781, F1-score 0.799, MCC: 0.562, Dice: 0.799\n",
      "    Val loss 0.206, accuracy 0.773, F1-score 0.768, MCC: 0.545, Dice: 0.768\n"
     ]
    },
    {
     "name": "stderr",
     "output_type": "stream",
     "text": [
      "Training epoch 5: 100%|██████████| 63/63 [00:59<00:00,  1.06it/s]\n",
      "Validation epoch 5: 100%|██████████| 51/51 [00:29<00:00,  1.74it/s]\n",
      "Training epoch 6:   0%|          | 0/63 [00:00<?, ?it/s]"
     ]
    },
    {
     "name": "stdout",
     "output_type": "stream",
     "text": [
      "Epoch 5:\n",
      "    Train loss 0.200, accuracy 0.791, F1-score 0.807, MCC: 0.581, Dice: 0.807\n",
      "    Val loss 0.210, accuracy 0.777, F1-score 0.794, MCC: 0.544, Dice: 0.794\n"
     ]
    },
    {
     "name": "stderr",
     "output_type": "stream",
     "text": [
      "Training epoch 6: 100%|██████████| 63/63 [00:58<00:00,  1.08it/s]\n",
      "Validation epoch 6: 100%|██████████| 51/51 [00:28<00:00,  1.82it/s]\n"
     ]
    },
    {
     "name": "stdout",
     "output_type": "stream",
     "text": [
      "Epoch 6:\n",
      "    Train loss 0.196, accuracy 0.795, F1-score 0.810, MCC: 0.589, Dice: 0.810\n",
      "    Val loss 0.203, accuracy 0.782, F1-score 0.780, MCC: 0.560, Dice: 0.780\n"
     ]
    },
    {
     "name": "stderr",
     "output_type": "stream",
     "text": [
      "Training epoch 7: 100%|██████████| 63/63 [00:58<00:00,  1.07it/s]\n",
      "Validation epoch 7: 100%|██████████| 51/51 [00:29<00:00,  1.74it/s]\n",
      "Training epoch 8:   0%|          | 0/63 [00:00<?, ?it/s]"
     ]
    },
    {
     "name": "stdout",
     "output_type": "stream",
     "text": [
      "Epoch 7:\n",
      "    Train loss 0.193, accuracy 0.800, F1-score 0.816, MCC: 0.599, Dice: 0.816\n",
      "    Val loss 0.206, accuracy 0.776, F1-score 0.776, MCC: 0.547, Dice: 0.776\n"
     ]
    },
    {
     "name": "stderr",
     "output_type": "stream",
     "text": [
      "Training epoch 8: 100%|██████████| 63/63 [00:58<00:00,  1.08it/s]\n",
      "Validation epoch 8: 100%|██████████| 51/51 [00:28<00:00,  1.76it/s]\n"
     ]
    },
    {
     "name": "stdout",
     "output_type": "stream",
     "text": [
      "Epoch 8:\n",
      "    Train loss 0.191, accuracy 0.804, F1-score 0.820, MCC: 0.607, Dice: 0.820\n",
      "    Val loss 0.199, accuracy 0.786, F1-score 0.799, MCC: 0.562, Dice: 0.799\n"
     ]
    },
    {
     "name": "stderr",
     "output_type": "stream",
     "text": [
      "Training epoch 9: 100%|██████████| 63/63 [00:57<00:00,  1.09it/s]\n",
      "Validation epoch 9: 100%|██████████| 51/51 [00:28<00:00,  1.77it/s]\n"
     ]
    },
    {
     "name": "stdout",
     "output_type": "stream",
     "text": [
      "Epoch 9:\n",
      "    Train loss 0.189, accuracy 0.809, F1-score 0.825, MCC: 0.616, Dice: 0.825\n",
      "    Val loss 0.197, accuracy 0.790, F1-score 0.798, MCC: 0.570, Dice: 0.798\n"
     ]
    },
    {
     "name": "stderr",
     "output_type": "stream",
     "text": [
      "Training epoch 11: 100%|██████████| 63/63 [00:58<00:00,  1.08it/s]\n",
      "Validation epoch 11: 100%|██████████| 51/51 [00:28<00:00,  1.77it/s]\n",
      "Training epoch 12:   0%|          | 0/63 [00:00<?, ?it/s]"
     ]
    },
    {
     "name": "stdout",
     "output_type": "stream",
     "text": [
      "Epoch 11:\n",
      "    Train loss 0.186, accuracy 0.815, F1-score 0.830, MCC: 0.626, Dice: 0.830\n",
      "    Val loss 0.198, accuracy 0.788, F1-score 0.792, MCC: 0.568, Dice: 0.792\n"
     ]
    },
    {
     "name": "stderr",
     "output_type": "stream",
     "text": [
      "Training epoch 12: 100%|██████████| 63/63 [00:58<00:00,  1.07it/s]\n",
      "Validation epoch 12: 100%|██████████| 51/51 [00:28<00:00,  1.79it/s]\n",
      "Training epoch 13:   0%|          | 0/63 [00:00<?, ?it/s]"
     ]
    },
    {
     "name": "stdout",
     "output_type": "stream",
     "text": [
      "Epoch 12:\n",
      "    Train loss 0.186, accuracy 0.814, F1-score 0.829, MCC: 0.625, Dice: 0.829\n",
      "    Val loss 0.194, accuracy 0.791, F1-score 0.794, MCC: 0.574, Dice: 0.794\n"
     ]
    },
    {
     "name": "stderr",
     "output_type": "stream",
     "text": [
      "Training epoch 13: 100%|██████████| 63/63 [00:57<00:00,  1.09it/s]\n",
      "Validation epoch 13: 100%|██████████| 51/51 [00:28<00:00,  1.79it/s]\n",
      "Training epoch 14:   0%|          | 0/63 [00:00<?, ?it/s]"
     ]
    },
    {
     "name": "stdout",
     "output_type": "stream",
     "text": [
      "Epoch 13:\n",
      "    Train loss 0.183, accuracy 0.820, F1-score 0.834, MCC: 0.635, Dice: 0.834\n",
      "    Val loss 0.194, accuracy 0.792, F1-score 0.806, MCC: 0.572, Dice: 0.806\n"
     ]
    },
    {
     "name": "stderr",
     "output_type": "stream",
     "text": [
      "Training epoch 14: 100%|██████████| 63/63 [00:58<00:00,  1.08it/s]\n",
      "Validation epoch 14: 100%|██████████| 51/51 [00:28<00:00,  1.80it/s]\n"
     ]
    },
    {
     "name": "stdout",
     "output_type": "stream",
     "text": [
      "Epoch 14:\n",
      "    Train loss 0.181, accuracy 0.823, F1-score 0.837, MCC: 0.640, Dice: 0.837\n",
      "    Val loss 0.194, accuracy 0.793, F1-score 0.795, MCC: 0.581, Dice: 0.795\n"
     ]
    },
    {
     "name": "stderr",
     "output_type": "stream",
     "text": [
      "Training epoch 15: 100%|██████████| 63/63 [00:58<00:00,  1.08it/s]\n",
      "Validation epoch 15: 100%|██████████| 51/51 [00:28<00:00,  1.81it/s]\n",
      "Training epoch 16:   0%|          | 0/63 [00:00<?, ?it/s]"
     ]
    },
    {
     "name": "stdout",
     "output_type": "stream",
     "text": [
      "Epoch 15:\n",
      "    Train loss 0.180, accuracy 0.824, F1-score 0.838, MCC: 0.641, Dice: 0.838\n",
      "    Val loss 0.200, accuracy 0.778, F1-score 0.802, MCC: 0.546, Dice: 0.802\n"
     ]
    },
    {
     "name": "stderr",
     "output_type": "stream",
     "text": [
      "Training epoch 16: 100%|██████████| 63/63 [00:58<00:00,  1.09it/s]\n",
      "Validation epoch 16: 100%|██████████| 51/51 [00:27<00:00,  1.86it/s]\n",
      "Training epoch 17:   0%|          | 0/63 [00:00<?, ?it/s]"
     ]
    },
    {
     "name": "stdout",
     "output_type": "stream",
     "text": [
      "Epoch 16:\n",
      "    Train loss 0.180, accuracy 0.823, F1-score 0.838, MCC: 0.641, Dice: 0.838\n",
      "    Val loss 0.205, accuracy 0.767, F1-score 0.749, MCC: 0.548, Dice: 0.749\n"
     ]
    },
    {
     "name": "stderr",
     "output_type": "stream",
     "text": [
      "Training epoch 17: 100%|██████████| 63/63 [00:58<00:00,  1.09it/s]\n",
      "Validation epoch 17: 100%|██████████| 51/51 [00:28<00:00,  1.79it/s]\n",
      "Training epoch 18:   0%|          | 0/63 [00:00<?, ?it/s]"
     ]
    },
    {
     "name": "stdout",
     "output_type": "stream",
     "text": [
      "Epoch 17:\n",
      "    Train loss 0.179, accuracy 0.825, F1-score 0.839, MCC: 0.643, Dice: 0.839\n",
      "    Val loss 0.197, accuracy 0.781, F1-score 0.770, MCC: 0.566, Dice: 0.770\n"
     ]
    },
    {
     "name": "stderr",
     "output_type": "stream",
     "text": [
      "Training epoch 18: 100%|██████████| 63/63 [00:58<00:00,  1.08it/s]\n",
      "Validation epoch 18: 100%|██████████| 51/51 [00:28<00:00,  1.79it/s]\n",
      "Training epoch 19:   0%|          | 0/63 [00:00<?, ?it/s]"
     ]
    },
    {
     "name": "stdout",
     "output_type": "stream",
     "text": [
      "Epoch 18:\n",
      "    Train loss 0.177, accuracy 0.829, F1-score 0.842, MCC: 0.651, Dice: 0.842\n",
      "    Val loss 0.199, accuracy 0.793, F1-score 0.796, MCC: 0.579, Dice: 0.796\n"
     ]
    },
    {
     "name": "stderr",
     "output_type": "stream",
     "text": [
      "Training epoch 19: 100%|██████████| 63/63 [00:58<00:00,  1.08it/s]\n",
      "Validation epoch 19: 100%|██████████| 51/51 [00:28<00:00,  1.80it/s]\n",
      "Training epoch 20:   0%|          | 0/63 [00:00<?, ?it/s]"
     ]
    },
    {
     "name": "stdout",
     "output_type": "stream",
     "text": [
      "Epoch 19:\n",
      "    Train loss 0.178, accuracy 0.828, F1-score 0.842, MCC: 0.650, Dice: 0.842\n",
      "    Val loss 0.209, accuracy 0.771, F1-score 0.762, MCC: 0.544, Dice: 0.762\n"
     ]
    },
    {
     "name": "stderr",
     "output_type": "stream",
     "text": [
      "Training epoch 20: 100%|██████████| 63/63 [00:58<00:00,  1.08it/s]\n",
      "Validation epoch 20: 100%|██████████| 51/51 [00:28<00:00,  1.79it/s]\n"
     ]
    },
    {
     "name": "stdout",
     "output_type": "stream",
     "text": [
      "Epoch 20:\n",
      "    Train loss 0.176, accuracy 0.830, F1-score 0.843, MCC: 0.653, Dice: 0.843\n",
      "    Val loss 0.192, accuracy 0.799, F1-score 0.803, MCC: 0.590, Dice: 0.803\n"
     ]
    },
    {
     "name": "stderr",
     "output_type": "stream",
     "text": [
      "Training epoch 21: 100%|██████████| 63/63 [00:58<00:00,  1.08it/s]\n",
      "Validation epoch 21: 100%|██████████| 51/51 [00:28<00:00,  1.76it/s]\n",
      "Training epoch 22:   0%|          | 0/63 [00:00<?, ?it/s]"
     ]
    },
    {
     "name": "stdout",
     "output_type": "stream",
     "text": [
      "Epoch 21:\n",
      "    Train loss 0.176, accuracy 0.829, F1-score 0.843, MCC: 0.651, Dice: 0.843\n",
      "    Val loss 0.190, accuracy 0.795, F1-score 0.799, MCC: 0.584, Dice: 0.799\n"
     ]
    },
    {
     "name": "stderr",
     "output_type": "stream",
     "text": [
      "Training epoch 22: 100%|██████████| 63/63 [00:57<00:00,  1.09it/s]\n",
      "Validation epoch 22: 100%|██████████| 51/51 [00:27<00:00,  1.83it/s]\n",
      "Training epoch 23:   0%|          | 0/63 [00:00<?, ?it/s]"
     ]
    },
    {
     "name": "stdout",
     "output_type": "stream",
     "text": [
      "Epoch 22:\n",
      "    Train loss 0.174, accuracy 0.833, F1-score 0.846, MCC: 0.658, Dice: 0.846\n",
      "    Val loss 0.189, accuracy 0.799, F1-score 0.802, MCC: 0.589, Dice: 0.802\n"
     ]
    },
    {
     "name": "stderr",
     "output_type": "stream",
     "text": [
      "Training epoch 23: 100%|██████████| 63/63 [00:57<00:00,  1.10it/s]\n",
      "Validation epoch 23: 100%|██████████| 51/51 [00:28<00:00,  1.78it/s]\n",
      "Training epoch 24:   0%|          | 0/63 [00:00<?, ?it/s]"
     ]
    },
    {
     "name": "stdout",
     "output_type": "stream",
     "text": [
      "Epoch 23:\n",
      "    Train loss 0.172, accuracy 0.837, F1-score 0.850, MCC: 0.665, Dice: 0.850\n",
      "    Val loss 0.191, accuracy 0.791, F1-score 0.791, MCC: 0.575, Dice: 0.791\n"
     ]
    },
    {
     "name": "stderr",
     "output_type": "stream",
     "text": [
      "Training epoch 24: 100%|██████████| 63/63 [00:58<00:00,  1.09it/s]\n",
      "Validation epoch 24: 100%|██████████| 51/51 [00:28<00:00,  1.79it/s]\n",
      "Training epoch 25:   0%|          | 0/63 [00:00<?, ?it/s]"
     ]
    },
    {
     "name": "stdout",
     "output_type": "stream",
     "text": [
      "Epoch 24:\n",
      "    Train loss 0.172, accuracy 0.837, F1-score 0.850, MCC: 0.665, Dice: 0.850\n",
      "    Val loss 0.190, accuracy 0.793, F1-score 0.791, MCC: 0.585, Dice: 0.791\n"
     ]
    },
    {
     "name": "stderr",
     "output_type": "stream",
     "text": [
      "Training epoch 25: 100%|██████████| 63/63 [00:58<00:00,  1.08it/s]\n",
      "Validation epoch 25: 100%|██████████| 51/51 [00:28<00:00,  1.81it/s]\n",
      "Training epoch 26:   0%|          | 0/63 [00:00<?, ?it/s]"
     ]
    },
    {
     "name": "stdout",
     "output_type": "stream",
     "text": [
      "Epoch 25:\n",
      "    Train loss 0.171, accuracy 0.838, F1-score 0.851, MCC: 0.668, Dice: 0.851\n",
      "    Val loss 0.191, accuracy 0.796, F1-score 0.800, MCC: 0.584, Dice: 0.800\n"
     ]
    },
    {
     "name": "stderr",
     "output_type": "stream",
     "text": [
      "Training epoch 26: 100%|██████████| 63/63 [00:57<00:00,  1.09it/s]\n",
      "Validation epoch 26: 100%|██████████| 51/51 [00:28<00:00,  1.80it/s]\n",
      "Training epoch 27:   0%|          | 0/63 [00:00<?, ?it/s]"
     ]
    },
    {
     "name": "stdout",
     "output_type": "stream",
     "text": [
      "Epoch 26:\n",
      "    Train loss 0.171, accuracy 0.838, F1-score 0.851, MCC: 0.667, Dice: 0.851\n",
      "    Val loss 0.191, accuracy 0.797, F1-score 0.803, MCC: 0.583, Dice: 0.803\n"
     ]
    },
    {
     "name": "stderr",
     "output_type": "stream",
     "text": [
      "Training epoch 27: 100%|██████████| 63/63 [00:57<00:00,  1.10it/s]\n",
      "Validation epoch 27: 100%|██████████| 51/51 [00:28<00:00,  1.81it/s]\n",
      "Training epoch 28:   0%|          | 0/63 [00:00<?, ?it/s]"
     ]
    },
    {
     "name": "stdout",
     "output_type": "stream",
     "text": [
      "Epoch 27:\n",
      "    Train loss 0.171, accuracy 0.838, F1-score 0.850, MCC: 0.666, Dice: 0.850\n",
      "    Val loss 0.196, accuracy 0.775, F1-score 0.755, MCC: 0.560, Dice: 0.755\n"
     ]
    },
    {
     "name": "stderr",
     "output_type": "stream",
     "text": [
      "Training epoch 28: 100%|██████████| 63/63 [00:57<00:00,  1.09it/s]\n",
      "Validation epoch 28: 100%|██████████| 51/51 [00:28<00:00,  1.80it/s]\n",
      "Training epoch 29:   0%|          | 0/63 [00:00<?, ?it/s]"
     ]
    },
    {
     "name": "stdout",
     "output_type": "stream",
     "text": [
      "Epoch 28:\n",
      "    Train loss 0.170, accuracy 0.840, F1-score 0.852, MCC: 0.671, Dice: 0.852\n",
      "    Val loss 0.201, accuracy 0.767, F1-score 0.741, MCC: 0.554, Dice: 0.741\n"
     ]
    },
    {
     "name": "stderr",
     "output_type": "stream",
     "text": [
      "Training epoch 29: 100%|██████████| 63/63 [00:58<00:00,  1.08it/s]\n",
      "Validation epoch 29: 100%|██████████| 51/51 [00:28<00:00,  1.80it/s]\n"
     ]
    },
    {
     "name": "stdout",
     "output_type": "stream",
     "text": [
      "Epoch 29:\n",
      "    Train loss 0.169, accuracy 0.840, F1-score 0.853, MCC: 0.672, Dice: 0.853\n",
      "    Val loss 0.186, accuracy 0.802, F1-score 0.813, MCC: 0.592, Dice: 0.813\n"
     ]
    },
    {
     "name": "stderr",
     "output_type": "stream",
     "text": [
      "Training epoch 30: 100%|██████████| 63/63 [00:58<00:00,  1.08it/s]\n",
      "Validation epoch 30: 100%|██████████| 51/51 [00:28<00:00,  1.79it/s]\n",
      "Training epoch 31:   0%|          | 0/63 [00:00<?, ?it/s]"
     ]
    },
    {
     "name": "stdout",
     "output_type": "stream",
     "text": [
      "Epoch 30:\n",
      "    Train loss 0.168, accuracy 0.842, F1-score 0.854, MCC: 0.675, Dice: 0.854\n",
      "    Val loss 0.196, accuracy 0.782, F1-score 0.769, MCC: 0.569, Dice: 0.769\n"
     ]
    },
    {
     "name": "stderr",
     "output_type": "stream",
     "text": [
      "Training epoch 31: 100%|██████████| 63/63 [00:57<00:00,  1.09it/s]\n",
      "Validation epoch 31: 100%|██████████| 51/51 [00:28<00:00,  1.81it/s]\n",
      "Training epoch 32:   0%|          | 0/63 [00:00<?, ?it/s]"
     ]
    },
    {
     "name": "stdout",
     "output_type": "stream",
     "text": [
      "Epoch 31:\n",
      "    Train loss 0.168, accuracy 0.841, F1-score 0.854, MCC: 0.674, Dice: 0.854\n",
      "    Val loss 0.187, accuracy 0.801, F1-score 0.810, MCC: 0.591, Dice: 0.810\n"
     ]
    },
    {
     "name": "stderr",
     "output_type": "stream",
     "text": [
      "Training epoch 32: 100%|██████████| 63/63 [00:57<00:00,  1.10it/s]\n",
      "Validation epoch 32: 100%|██████████| 51/51 [00:28<00:00,  1.82it/s]\n",
      "Training epoch 33:   0%|          | 0/63 [00:00<?, ?it/s]"
     ]
    },
    {
     "name": "stdout",
     "output_type": "stream",
     "text": [
      "Epoch 32:\n",
      "    Train loss 0.167, accuracy 0.845, F1-score 0.857, MCC: 0.680, Dice: 0.857\n",
      "    Val loss 0.193, accuracy 0.782, F1-score 0.769, MCC: 0.572, Dice: 0.769\n"
     ]
    },
    {
     "name": "stderr",
     "output_type": "stream",
     "text": [
      "Training epoch 33: 100%|██████████| 63/63 [00:58<00:00,  1.08it/s]\n",
      "Validation epoch 33: 100%|██████████| 51/51 [00:28<00:00,  1.77it/s]\n"
     ]
    },
    {
     "name": "stdout",
     "output_type": "stream",
     "text": [
      "Epoch 33:\n",
      "    Train loss 0.167, accuracy 0.845, F1-score 0.857, MCC: 0.680, Dice: 0.857\n",
      "    Val loss 0.185, accuracy 0.804, F1-score 0.809, MCC: 0.599, Dice: 0.809\n"
     ]
    },
    {
     "name": "stderr",
     "output_type": "stream",
     "text": [
      "Training epoch 34: 100%|██████████| 63/63 [00:57<00:00,  1.09it/s]\n",
      "Validation epoch 34: 100%|██████████| 51/51 [00:28<00:00,  1.82it/s]\n",
      "Training epoch 35:   0%|          | 0/63 [00:00<?, ?it/s]"
     ]
    },
    {
     "name": "stdout",
     "output_type": "stream",
     "text": [
      "Epoch 34:\n",
      "    Train loss 0.166, accuracy 0.845, F1-score 0.858, MCC: 0.682, Dice: 0.858\n",
      "    Val loss 0.188, accuracy 0.797, F1-score 0.814, MCC: 0.583, Dice: 0.814\n"
     ]
    },
    {
     "name": "stderr",
     "output_type": "stream",
     "text": [
      "Training epoch 35: 100%|██████████| 63/63 [00:58<00:00,  1.08it/s]\n",
      "Validation epoch 94: 100%|██████████| 51/51 [00:28<00:00,  1.77it/s]\n",
      "Training epoch 95:   0%|          | 0/63 [00:00<?, ?it/s]"
     ]
    },
    {
     "name": "stdout",
     "output_type": "stream",
     "text": [
      "Epoch 94:\n",
      "    Train loss 0.149, accuracy 0.866, F1-score 0.877, MCC: 0.723, Dice: 0.877\n",
      "    Val loss 0.185, accuracy 0.800, F1-score 0.813, MCC: 0.589, Dice: 0.813\n"
     ]
    },
    {
     "name": "stderr",
     "output_type": "stream",
     "text": [
      "Training epoch 95: 100%|██████████| 63/63 [00:57<00:00,  1.09it/s]\n",
      "Validation epoch 95: 100%|██████████| 51/51 [00:27<00:00,  1.82it/s]\n",
      "Training epoch 96:   0%|          | 0/63 [00:00<?, ?it/s]"
     ]
    },
    {
     "name": "stdout",
     "output_type": "stream",
     "text": [
      "Epoch 95:\n",
      "    Train loss 0.148, accuracy 0.867, F1-score 0.878, MCC: 0.723, Dice: 0.878\n",
      "    Val loss 0.193, accuracy 0.786, F1-score 0.786, MCC: 0.568, Dice: 0.786\n"
     ]
    },
    {
     "name": "stderr",
     "output_type": "stream",
     "text": [
      "Training epoch 96: 100%|██████████| 63/63 [00:57<00:00,  1.09it/s]\n",
      "Validation epoch 96: 100%|██████████| 51/51 [00:28<00:00,  1.80it/s]\n",
      "Training epoch 97:   0%|          | 0/63 [00:00<?, ?it/s]"
     ]
    },
    {
     "name": "stdout",
     "output_type": "stream",
     "text": [
      "Epoch 96:\n",
      "    Train loss 0.148, accuracy 0.868, F1-score 0.879, MCC: 0.725, Dice: 0.879\n",
      "    Val loss 0.185, accuracy 0.802, F1-score 0.810, MCC: 0.595, Dice: 0.810\n"
     ]
    },
    {
     "name": "stderr",
     "output_type": "stream",
     "text": [
      "Training epoch 97: 100%|██████████| 63/63 [00:58<00:00,  1.08it/s]\n",
      "Validation epoch 97: 100%|██████████| 51/51 [00:28<00:00,  1.80it/s]\n",
      "Training epoch 98:   0%|          | 0/63 [00:00<?, ?it/s]"
     ]
    },
    {
     "name": "stdout",
     "output_type": "stream",
     "text": [
      "Epoch 97:\n",
      "    Train loss 0.148, accuracy 0.869, F1-score 0.879, MCC: 0.727, Dice: 0.879\n",
      "    Val loss 0.186, accuracy 0.800, F1-score 0.810, MCC: 0.587, Dice: 0.810\n"
     ]
    },
    {
     "name": "stderr",
     "output_type": "stream",
     "text": [
      "Training epoch 98: 100%|██████████| 63/63 [00:57<00:00,  1.10it/s]\n",
      "Validation epoch 98: 100%|██████████| 51/51 [00:27<00:00,  1.85it/s]\n",
      "Training epoch 99:   0%|          | 0/63 [00:00<?, ?it/s]"
     ]
    },
    {
     "name": "stdout",
     "output_type": "stream",
     "text": [
      "Epoch 98:\n",
      "    Train loss 0.148, accuracy 0.869, F1-score 0.879, MCC: 0.727, Dice: 0.879\n",
      "    Val loss 0.188, accuracy 0.793, F1-score 0.809, MCC: 0.575, Dice: 0.809\n"
     ]
    },
    {
     "name": "stderr",
     "output_type": "stream",
     "text": [
      "Training epoch 99: 100%|██████████| 63/63 [00:58<00:00,  1.08it/s]\n",
      "Validation epoch 99: 100%|██████████| 51/51 [00:28<00:00,  1.81it/s]\n",
      "Training epoch 100:   0%|          | 0/63 [00:00<?, ?it/s]"
     ]
    },
    {
     "name": "stdout",
     "output_type": "stream",
     "text": [
      "Epoch 99:\n",
      "    Train loss 0.148, accuracy 0.868, F1-score 0.879, MCC: 0.727, Dice: 0.879\n",
      "    Val loss 0.185, accuracy 0.800, F1-score 0.803, MCC: 0.591, Dice: 0.803\n"
     ]
    },
    {
     "name": "stderr",
     "output_type": "stream",
     "text": [
      "Training epoch 100: 100%|██████████| 63/63 [00:57<00:00,  1.09it/s]\n",
      "Validation epoch 100: 100%|██████████| 51/51 [00:27<00:00,  1.83it/s]"
     ]
    },
    {
     "name": "stdout",
     "output_type": "stream",
     "text": [
      "Epoch 100:\n",
      "    Train loss 0.147, accuracy 0.867, F1-score 0.878, MCC: 0.724, Dice: 0.878\n",
      "    Val loss 0.187, accuracy 0.801, F1-score 0.808, MCC: 0.591, Dice: 0.808\n"
     ]
    },
    {
     "name": "stderr",
     "output_type": "stream",
     "text": [
      "\n"
     ]
    }
   ],
   "source": [
    "# ============================ #\n",
    "# user-specified hyperparameters\n",
    "# ============================ #\n",
    "epochs = 100\n",
    "lr = 0.001\n",
    "lr_decay = None\n",
    "n_filters = 32\n",
    "batch_size = 8\n",
    "n_classes = 1\n",
    "model_type = 'resunet-d7'\n",
    "month = 'october'\n",
    "gpu_id = 0\n",
    "n_train = 500\n",
    "splits_path = '../data/splits/hanAndBurak_planetImagery_splits_{}.csv'.format(n_train)\n",
    "# ============================ #\n",
    "\n",
    "run_france(epochs=epochs, lr=lr, lr_decay=lr_decay, n_filters=n_filters, batch_size=batch_size,\n",
    "           n_classes=n_classes, model_type=model_type, month=month, gpu_id=gpu_id,\n",
    "           splits_path=splits_path, n_train=n_train)"
   ]
  },
  {
   "cell_type": "code",
   "execution_count": 8,
   "metadata": {},
   "outputs": [
    {
     "name": "stderr",
     "output_type": "stream",
     "text": [
      "Setting up a new session...\n"
     ]
    },
    {
     "name": "stdout",
     "output_type": "stream",
     "text": [
      "depth:= 0, nfilters: 32\n",
      "depth:= 1, nfilters: 64\n",
      "depth:= 2, nfilters: 128\n",
      "depth:= 3, nfilters: 256\n",
      "depth:= 4, nfilters: 512\n",
      "depth:= 5, nfilters: 1024\n",
      "depth:= 6, nfilters: 2048\n",
      "depth:= 7, nfilters: 1024\n",
      "depth:= 8, nfilters: 512\n",
      "depth:= 9, nfilters: 256\n",
      "depth:= 10, nfilters: 128\n",
      "depth:= 11, nfilters: 64\n",
      "depth:= 12, nfilters: 32\n"
     ]
    },
    {
     "name": "stderr",
     "output_type": "stream",
     "text": [
      "Training epoch 1: 100%|██████████| 100/100 [01:32<00:00,  1.08it/s]\n",
      "Validation epoch 1: 100%|██████████| 51/51 [00:28<00:00,  1.79it/s]\n"
     ]
    },
    {
     "name": "stdout",
     "output_type": "stream",
     "text": [
      "Epoch 1:\n",
      "    Train loss 0.261, accuracy 0.740, F1-score 0.765, MCC: 0.477, Dice: 0.765\n",
      "    Val loss 0.228, accuracy 0.757, F1-score 0.774, MCC: 0.502, Dice: 0.774\n"
     ]
    },
    {
     "name": "stderr",
     "output_type": "stream",
     "text": [
      "Training epoch 2: 100%|██████████| 100/100 [01:30<00:00,  1.10it/s]\n",
      "Validation epoch 2: 100%|██████████| 51/51 [00:28<00:00,  1.81it/s]\n"
     ]
    },
    {
     "name": "stdout",
     "output_type": "stream",
     "text": [
      "Epoch 2:\n",
      "    Train loss 0.214, accuracy 0.772, F1-score 0.791, MCC: 0.542, Dice: 0.791\n",
      "    Val loss 0.215, accuracy 0.765, F1-score 0.773, MCC: 0.519, Dice: 0.773\n"
     ]
    },
    {
     "name": "stderr",
     "output_type": "stream",
     "text": [
      "Training epoch 3: 100%|██████████| 100/100 [01:30<00:00,  1.10it/s]\n",
      "Validation epoch 3: 100%|██████████| 51/51 [00:27<00:00,  1.85it/s]\n"
     ]
    },
    {
     "name": "stdout",
     "output_type": "stream",
     "text": [
      "Epoch 3:\n",
      "    Train loss 0.205, accuracy 0.782, F1-score 0.801, MCC: 0.562, Dice: 0.801\n",
      "    Val loss 0.209, accuracy 0.767, F1-score 0.774, MCC: 0.527, Dice: 0.774\n"
     ]
    },
    {
     "name": "stderr",
     "output_type": "stream",
     "text": [
      "Training epoch 4: 100%|██████████| 100/100 [01:30<00:00,  1.10it/s]\n",
      "Validation epoch 4: 100%|██████████| 51/51 [00:28<00:00,  1.82it/s]\n"
     ]
    },
    {
     "name": "stdout",
     "output_type": "stream",
     "text": [
      "Epoch 4:\n",
      "    Train loss 0.200, accuracy 0.792, F1-score 0.810, MCC: 0.581, Dice: 0.810\n",
      "    Val loss 0.210, accuracy 0.769, F1-score 0.785, MCC: 0.528, Dice: 0.785\n"
     ]
    },
    {
     "name": "stderr",
     "output_type": "stream",
     "text": [
      "Training epoch 5: 100%|██████████| 100/100 [01:30<00:00,  1.11it/s]\n",
      "Validation epoch 5: 100%|██████████| 51/51 [00:28<00:00,  1.80it/s]\n"
     ]
    },
    {
     "name": "stdout",
     "output_type": "stream",
     "text": [
      "Epoch 5:\n",
      "    Train loss 0.196, accuracy 0.796, F1-score 0.814, MCC: 0.589, Dice: 0.814\n",
      "    Val loss 0.203, accuracy 0.783, F1-score 0.795, MCC: 0.554, Dice: 0.795\n"
     ]
    },
    {
     "name": "stderr",
     "output_type": "stream",
     "text": [
      "Training epoch 6: 100%|██████████| 100/100 [01:31<00:00,  1.10it/s]\n",
      "Validation epoch 6: 100%|██████████| 51/51 [00:27<00:00,  1.84it/s]\n"
     ]
    },
    {
     "name": "stdout",
     "output_type": "stream",
     "text": [
      "Epoch 6:\n",
      "    Train loss 0.194, accuracy 0.800, F1-score 0.819, MCC: 0.597, Dice: 0.819\n",
      "    Val loss 0.197, accuracy 0.789, F1-score 0.797, MCC: 0.567, Dice: 0.797\n"
     ]
    },
    {
     "name": "stderr",
     "output_type": "stream",
     "text": [
      "Training epoch 7: 100%|██████████| 100/100 [01:31<00:00,  1.10it/s]\n",
      "Validation epoch 7: 100%|██████████| 51/51 [00:27<00:00,  1.83it/s]\n"
     ]
    },
    {
     "name": "stdout",
     "output_type": "stream",
     "text": [
      "Epoch 7:\n",
      "    Train loss 0.191, accuracy 0.805, F1-score 0.823, MCC: 0.606, Dice: 0.823\n",
      "    Val loss 0.197, accuracy 0.791, F1-score 0.799, MCC: 0.573, Dice: 0.799\n"
     ]
    },
    {
     "name": "stderr",
     "output_type": "stream",
     "text": [
      "Training epoch 8: 100%|██████████| 100/100 [01:30<00:00,  1.11it/s]\n",
      "Validation epoch 8: 100%|██████████| 51/51 [00:27<00:00,  1.84it/s]\n",
      "Training epoch 9:   0%|          | 0/100 [00:00<?, ?it/s]"
     ]
    },
    {
     "name": "stdout",
     "output_type": "stream",
     "text": [
      "Epoch 8:\n",
      "    Train loss 0.189, accuracy 0.809, F1-score 0.826, MCC: 0.613, Dice: 0.826\n",
      "    Val loss 0.197, accuracy 0.789, F1-score 0.808, MCC: 0.568, Dice: 0.808\n"
     ]
    },
    {
     "name": "stderr",
     "output_type": "stream",
     "text": [
      "Training epoch 9: 100%|██████████| 100/100 [01:30<00:00,  1.11it/s]\n",
      "Validation epoch 9: 100%|██████████| 51/51 [00:28<00:00,  1.78it/s]\n",
      "Training epoch 10:   0%|          | 0/100 [00:00<?, ?it/s]"
     ]
    },
    {
     "name": "stdout",
     "output_type": "stream",
     "text": [
      "Epoch 9:\n",
      "    Train loss 0.187, accuracy 0.810, F1-score 0.827, MCC: 0.616, Dice: 0.827\n",
      "    Val loss 0.198, accuracy 0.791, F1-score 0.805, MCC: 0.571, Dice: 0.805\n"
     ]
    },
    {
     "name": "stderr",
     "output_type": "stream",
     "text": [
      "Training epoch 10: 100%|██████████| 100/100 [01:30<00:00,  1.10it/s]\n",
      "Validation epoch 10: 100%|██████████| 51/51 [00:27<00:00,  1.82it/s]\n"
     ]
    },
    {
     "name": "stdout",
     "output_type": "stream",
     "text": [
      "Epoch 10:\n",
      "    Train loss 0.185, accuracy 0.815, F1-score 0.832, MCC: 0.624, Dice: 0.832\n",
      "    Val loss 0.193, accuracy 0.794, F1-score 0.807, MCC: 0.579, Dice: 0.807\n"
     ]
    },
    {
     "name": "stderr",
     "output_type": "stream",
     "text": [
      "Training epoch 11: 100%|██████████| 100/100 [01:31<00:00,  1.10it/s]\n",
      "Validation epoch 11: 100%|██████████| 51/51 [00:27<00:00,  1.83it/s]\n"
     ]
    },
    {
     "name": "stdout",
     "output_type": "stream",
     "text": [
      "Epoch 11:\n",
      "    Train loss 0.184, accuracy 0.816, F1-score 0.832, MCC: 0.625, Dice: 0.832\n",
      "    Val loss 0.192, accuracy 0.795, F1-score 0.810, MCC: 0.580, Dice: 0.810\n"
     ]
    },
    {
     "name": "stderr",
     "output_type": "stream",
     "text": [
      "Training epoch 12: 100%|██████████| 100/100 [01:29<00:00,  1.11it/s]\n",
      "Validation epoch 12: 100%|██████████| 51/51 [00:27<00:00,  1.83it/s]\n",
      "Training epoch 13:   0%|          | 0/100 [00:00<?, ?it/s]"
     ]
    },
    {
     "name": "stdout",
     "output_type": "stream",
     "text": [
      "Epoch 12:\n",
      "    Train loss 0.183, accuracy 0.817, F1-score 0.833, MCC: 0.627, Dice: 0.833\n",
      "    Val loss 0.200, accuracy 0.787, F1-score 0.807, MCC: 0.564, Dice: 0.807\n"
     ]
    },
    {
     "name": "stderr",
     "output_type": "stream",
     "text": [
      "Training epoch 13: 100%|██████████| 100/100 [01:30<00:00,  1.11it/s]\n",
      "Validation epoch 13: 100%|██████████| 51/51 [00:27<00:00,  1.83it/s]\n",
      "Training epoch 14:   0%|          | 0/100 [00:00<?, ?it/s]"
     ]
    },
    {
     "name": "stdout",
     "output_type": "stream",
     "text": [
      "Epoch 13:\n",
      "    Train loss 0.182, accuracy 0.820, F1-score 0.836, MCC: 0.633, Dice: 0.836\n",
      "    Val loss 0.194, accuracy 0.793, F1-score 0.803, MCC: 0.575, Dice: 0.803\n"
     ]
    },
    {
     "name": "stderr",
     "output_type": "stream",
     "text": [
      "Training epoch 14: 100%|██████████| 100/100 [01:30<00:00,  1.11it/s]\n",
      "Validation epoch 14: 100%|██████████| 51/51 [00:27<00:00,  1.84it/s]\n",
      "Training epoch 15:   0%|          | 0/100 [00:00<?, ?it/s]"
     ]
    },
    {
     "name": "stdout",
     "output_type": "stream",
     "text": [
      "Epoch 14:\n",
      "    Train loss 0.182, accuracy 0.819, F1-score 0.836, MCC: 0.631, Dice: 0.836\n",
      "    Val loss 0.195, accuracy 0.795, F1-score 0.809, MCC: 0.578, Dice: 0.809\n"
     ]
    },
    {
     "name": "stderr",
     "output_type": "stream",
     "text": [
      "Training epoch 15: 100%|██████████| 100/100 [01:30<00:00,  1.11it/s]\n",
      "Validation epoch 15: 100%|██████████| 51/51 [00:27<00:00,  1.84it/s]\n",
      "Training epoch 16:   0%|          | 0/100 [00:00<?, ?it/s]"
     ]
    },
    {
     "name": "stdout",
     "output_type": "stream",
     "text": [
      "Epoch 15:\n",
      "    Train loss 0.181, accuracy 0.820, F1-score 0.836, MCC: 0.633, Dice: 0.836\n",
      "    Val loss 0.194, accuracy 0.794, F1-score 0.808, MCC: 0.578, Dice: 0.808\n"
     ]
    },
    {
     "name": "stderr",
     "output_type": "stream",
     "text": [
      "Training epoch 16: 100%|██████████| 100/100 [01:30<00:00,  1.10it/s]\n",
      "Validation epoch 16: 100%|██████████| 51/51 [00:27<00:00,  1.83it/s]\n",
      "Training epoch 17:   0%|          | 0/100 [00:00<?, ?it/s]"
     ]
    },
    {
     "name": "stdout",
     "output_type": "stream",
     "text": [
      "Epoch 16:\n",
      "    Train loss 0.180, accuracy 0.823, F1-score 0.840, MCC: 0.638, Dice: 0.840\n",
      "    Val loss 0.193, accuracy 0.792, F1-score 0.799, MCC: 0.577, Dice: 0.799\n"
     ]
    },
    {
     "name": "stderr",
     "output_type": "stream",
     "text": [
      "Training epoch 17: 100%|██████████| 100/100 [01:30<00:00,  1.10it/s]\n",
      "Validation epoch 17: 100%|██████████| 51/51 [00:28<00:00,  1.81it/s]\n"
     ]
    },
    {
     "name": "stdout",
     "output_type": "stream",
     "text": [
      "Epoch 17:\n",
      "    Train loss 0.178, accuracy 0.825, F1-score 0.841, MCC: 0.641, Dice: 0.841\n",
      "    Val loss 0.189, accuracy 0.798, F1-score 0.803, MCC: 0.588, Dice: 0.803\n"
     ]
    },
    {
     "name": "stderr",
     "output_type": "stream",
     "text": [
      "Training epoch 18: 100%|██████████| 100/100 [01:31<00:00,  1.09it/s]\n",
      "Validation epoch 18: 100%|██████████| 51/51 [00:27<00:00,  1.83it/s]\n",
      "Training epoch 19:   0%|          | 0/100 [00:00<?, ?it/s]"
     ]
    },
    {
     "name": "stdout",
     "output_type": "stream",
     "text": [
      "Epoch 18:\n",
      "    Train loss 0.178, accuracy 0.827, F1-score 0.843, MCC: 0.645, Dice: 0.843\n",
      "    Val loss 0.191, accuracy 0.793, F1-score 0.793, MCC: 0.579, Dice: 0.793\n"
     ]
    },
    {
     "name": "stderr",
     "output_type": "stream",
     "text": [
      "Training epoch 19: 100%|██████████| 100/100 [01:29<00:00,  1.11it/s]\n",
      "Validation epoch 19: 100%|██████████| 51/51 [00:27<00:00,  1.88it/s]\n",
      "Training epoch 20:   0%|          | 0/100 [00:00<?, ?it/s]"
     ]
    },
    {
     "name": "stdout",
     "output_type": "stream",
     "text": [
      "Epoch 19:\n",
      "    Train loss 0.177, accuracy 0.828, F1-score 0.844, MCC: 0.646, Dice: 0.844\n",
      "    Val loss 0.194, accuracy 0.788, F1-score 0.808, MCC: 0.566, Dice: 0.808\n"
     ]
    },
    {
     "name": "stderr",
     "output_type": "stream",
     "text": [
      "Training epoch 20:  23%|██▎       | 23/100 [00:22<01:15,  1.02it/s]IOPub message rate exceeded.\n",
      "The notebook server will temporarily stop sending output\n",
      "to the client in order to avoid crashing it.\n",
      "To change this limit, set the config variable\n",
      "`--NotebookApp.iopub_msg_rate_limit`.\n",
      "\n",
      "Current values:\n",
      "NotebookApp.iopub_msg_rate_limit=1000.0 (msgs/sec)\n",
      "NotebookApp.rate_limit_window=3.0 (secs)\n",
      "\n",
      "Training epoch 27: 100%|██████████| 100/100 [01:30<00:00,  1.11it/s]\n",
      "Validation epoch 27: 100%|██████████| 51/51 [00:28<00:00,  1.81it/s]\n",
      "Training epoch 28:   0%|          | 0/100 [00:00<?, ?it/s]"
     ]
    },
    {
     "name": "stdout",
     "output_type": "stream",
     "text": [
      "Epoch 27:\n",
      "    Train loss 0.171, accuracy 0.837, F1-score 0.852, MCC: 0.664, Dice: 0.852\n",
      "    Val loss 0.187, accuracy 0.798, F1-score 0.801, MCC: 0.589, Dice: 0.801\n"
     ]
    },
    {
     "name": "stderr",
     "output_type": "stream",
     "text": [
      "Training epoch 28: 100%|██████████| 100/100 [01:31<00:00,  1.10it/s]\n",
      "Validation epoch 28: 100%|██████████| 51/51 [00:28<00:00,  1.81it/s]\n"
     ]
    },
    {
     "name": "stdout",
     "output_type": "stream",
     "text": [
      "Epoch 28:\n",
      "    Train loss 0.169, accuracy 0.838, F1-score 0.853, MCC: 0.667, Dice: 0.853\n",
      "    Val loss 0.185, accuracy 0.803, F1-score 0.809, MCC: 0.597, Dice: 0.809\n"
     ]
    },
    {
     "name": "stderr",
     "output_type": "stream",
     "text": [
      "Training epoch 29: 100%|██████████| 100/100 [01:31<00:00,  1.10it/s]\n",
      "Validation epoch 29: 100%|██████████| 51/51 [00:28<00:00,  1.80it/s]\n",
      "Training epoch 30:   0%|          | 0/100 [00:00<?, ?it/s]"
     ]
    },
    {
     "name": "stdout",
     "output_type": "stream",
     "text": [
      "Epoch 29:\n",
      "    Train loss 0.169, accuracy 0.840, F1-score 0.855, MCC: 0.670, Dice: 0.855\n",
      "    Val loss 0.190, accuracy 0.784, F1-score 0.773, MCC: 0.574, Dice: 0.773\n"
     ]
    },
    {
     "name": "stderr",
     "output_type": "stream",
     "text": [
      "Training epoch 30: 100%|██████████| 100/100 [01:31<00:00,  1.10it/s]\n",
      "Validation epoch 30: 100%|██████████| 51/51 [00:27<00:00,  1.84it/s]\n",
      "Training epoch 31:   0%|          | 0/100 [00:00<?, ?it/s]"
     ]
    },
    {
     "name": "stdout",
     "output_type": "stream",
     "text": [
      "Epoch 30:\n",
      "    Train loss 0.168, accuracy 0.841, F1-score 0.856, MCC: 0.672, Dice: 0.856\n",
      "    Val loss 0.188, accuracy 0.794, F1-score 0.788, MCC: 0.590, Dice: 0.788\n"
     ]
    },
    {
     "name": "stderr",
     "output_type": "stream",
     "text": [
      "Training epoch 31: 100%|██████████| 100/100 [01:30<00:00,  1.10it/s]\n",
      "Validation epoch 31: 100%|██████████| 51/51 [00:28<00:00,  1.80it/s]\n",
      "Training epoch 32:   0%|          | 0/100 [00:00<?, ?it/s]"
     ]
    },
    {
     "name": "stdout",
     "output_type": "stream",
     "text": [
      "Epoch 31:\n",
      "    Train loss 0.169, accuracy 0.839, F1-score 0.854, MCC: 0.669, Dice: 0.854\n",
      "    Val loss 0.186, accuracy 0.800, F1-score 0.800, MCC: 0.594, Dice: 0.800\n"
     ]
    },
    {
     "name": "stderr",
     "output_type": "stream",
     "text": [
      "Training epoch 32: 100%|██████████| 100/100 [01:30<00:00,  1.10it/s]\n",
      "Validation epoch 32: 100%|██████████| 51/51 [00:27<00:00,  1.83it/s]\n"
     ]
    },
    {
     "name": "stdout",
     "output_type": "stream",
     "text": [
      "Epoch 32:\n",
      "    Train loss 0.167, accuracy 0.842, F1-score 0.857, MCC: 0.673, Dice: 0.857\n",
      "    Val loss 0.184, accuracy 0.806, F1-score 0.814, MCC: 0.604, Dice: 0.814\n"
     ]
    },
    {
     "name": "stderr",
     "output_type": "stream",
     "text": [
      "Training epoch 33: 100%|██████████| 100/100 [01:31<00:00,  1.10it/s]\n",
      "Validation epoch 33: 100%|██████████| 51/51 [00:27<00:00,  1.84it/s]\n",
      "Training epoch 34:   0%|          | 0/100 [00:00<?, ?it/s]"
     ]
    },
    {
     "name": "stdout",
     "output_type": "stream",
     "text": [
      "Epoch 33:\n",
      "    Train loss 0.167, accuracy 0.842, F1-score 0.857, MCC: 0.674, Dice: 0.857\n",
      "    Val loss 0.184, accuracy 0.803, F1-score 0.806, MCC: 0.600, Dice: 0.806\n"
     ]
    },
    {
     "name": "stderr",
     "output_type": "stream",
     "text": [
      "Training epoch 34: 100%|██████████| 100/100 [01:31<00:00,  1.10it/s]\n",
      "Validation epoch 34: 100%|██████████| 51/51 [00:28<00:00,  1.81it/s]\n",
      "Training epoch 35:   0%|          | 0/100 [00:00<?, ?it/s]"
     ]
    },
    {
     "name": "stdout",
     "output_type": "stream",
     "text": [
      "Epoch 34:\n",
      "    Train loss 0.166, accuracy 0.844, F1-score 0.859, MCC: 0.677, Dice: 0.859\n",
      "    Val loss 0.184, accuracy 0.801, F1-score 0.799, MCC: 0.598, Dice: 0.799\n"
     ]
    },
    {
     "name": "stderr",
     "output_type": "stream",
     "text": [
      "Training epoch 35: 100%|██████████| 100/100 [01:30<00:00,  1.11it/s]\n",
      "Validation epoch 35: 100%|██████████| 51/51 [00:27<00:00,  1.85it/s]\n",
      "Training epoch 36:   0%|          | 0/100 [00:00<?, ?it/s]"
     ]
    },
    {
     "name": "stdout",
     "output_type": "stream",
     "text": [
      "Epoch 35:\n",
      "    Train loss 0.166, accuracy 0.843, F1-score 0.858, MCC: 0.676, Dice: 0.858\n",
      "    Val loss 0.186, accuracy 0.799, F1-score 0.798, MCC: 0.594, Dice: 0.798\n"
     ]
    },
    {
     "name": "stderr",
     "output_type": "stream",
     "text": [
      "Training epoch 36: 100%|██████████| 100/100 [01:31<00:00,  1.10it/s]\n",
      "Validation epoch 36: 100%|██████████| 51/51 [00:28<00:00,  1.81it/s]\n",
      "Training epoch 37:   0%|          | 0/100 [00:00<?, ?it/s]"
     ]
    },
    {
     "name": "stdout",
     "output_type": "stream",
     "text": [
      "Epoch 36:\n",
      "    Train loss 0.166, accuracy 0.844, F1-score 0.859, MCC: 0.677, Dice: 0.859\n",
      "    Val loss 0.186, accuracy 0.794, F1-score 0.788, MCC: 0.588, Dice: 0.788\n"
     ]
    },
    {
     "name": "stderr",
     "output_type": "stream",
     "text": [
      "Training epoch 37: 100%|██████████| 100/100 [01:31<00:00,  1.10it/s]\n",
      "Validation epoch 37: 100%|██████████| 51/51 [00:27<00:00,  1.82it/s]\n"
     ]
    },
    {
     "name": "stdout",
     "output_type": "stream",
     "text": [
      "Epoch 37:\n",
      "    Train loss 0.165, accuracy 0.844, F1-score 0.859, MCC: 0.678, Dice: 0.859\n",
      "    Val loss 0.183, accuracy 0.810, F1-score 0.818, MCC: 0.612, Dice: 0.818\n"
     ]
    },
    {
     "name": "stderr",
     "output_type": "stream",
     "text": [
      "Training epoch 38: 100%|██████████| 100/100 [01:31<00:00,  1.09it/s]\n",
      "Validation epoch 38: 100%|██████████| 51/51 [00:28<00:00,  1.80it/s]\n",
      "Training epoch 39:   0%|          | 0/100 [00:00<?, ?it/s]"
     ]
    },
    {
     "name": "stdout",
     "output_type": "stream",
     "text": [
      "Epoch 38:\n",
      "    Train loss 0.164, accuracy 0.847, F1-score 0.862, MCC: 0.683, Dice: 0.862\n",
      "    Val loss 0.184, accuracy 0.802, F1-score 0.804, MCC: 0.600, Dice: 0.804\n"
     ]
    },
    {
     "name": "stderr",
     "output_type": "stream",
     "text": [
      "Training epoch 39: 100%|██████████| 100/100 [01:31<00:00,  1.09it/s]\n",
      "Validation epoch 39: 100%|██████████| 51/51 [00:28<00:00,  1.82it/s]\n",
      "Training epoch 40:   0%|          | 0/100 [00:00<?, ?it/s]"
     ]
    },
    {
     "name": "stdout",
     "output_type": "stream",
     "text": [
      "Epoch 39:\n",
      "    Train loss 0.164, accuracy 0.846, F1-score 0.860, MCC: 0.681, Dice: 0.860\n",
      "    Val loss 0.181, accuracy 0.810, F1-score 0.823, MCC: 0.612, Dice: 0.823\n"
     ]
    },
    {
     "name": "stderr",
     "output_type": "stream",
     "text": [
      "Training epoch 40: 100%|██████████| 100/100 [01:31<00:00,  1.10it/s]\n",
      "Validation epoch 40: 100%|██████████| 51/51 [00:28<00:00,  1.82it/s]\n",
      "Training epoch 41:   0%|          | 0/100 [00:00<?, ?it/s]"
     ]
    },
    {
     "name": "stdout",
     "output_type": "stream",
     "text": [
      "Epoch 40:\n",
      "    Train loss 0.164, accuracy 0.847, F1-score 0.861, MCC: 0.683, Dice: 0.861\n",
      "    Val loss 0.185, accuracy 0.795, F1-score 0.793, MCC: 0.589, Dice: 0.793\n"
     ]
    },
    {
     "name": "stderr",
     "output_type": "stream",
     "text": [
      "Training epoch 41: 100%|██████████| 100/100 [01:31<00:00,  1.09it/s]\n",
      "Validation epoch 41: 100%|██████████| 51/51 [00:27<00:00,  1.83it/s]\n",
      "Training epoch 42:   0%|          | 0/100 [00:00<?, ?it/s]"
     ]
    },
    {
     "name": "stdout",
     "output_type": "stream",
     "text": [
      "Epoch 41:\n",
      "    Train loss 0.164, accuracy 0.847, F1-score 0.861, MCC: 0.683, Dice: 0.861\n",
      "    Val loss 0.183, accuracy 0.799, F1-score 0.808, MCC: 0.591, Dice: 0.808\n"
     ]
    },
    {
     "name": "stderr",
     "output_type": "stream",
     "text": [
      "Training epoch 42: 100%|██████████| 100/100 [01:31<00:00,  1.09it/s]\n",
      "Validation epoch 42: 100%|██████████| 51/51 [00:27<00:00,  1.86it/s]\n",
      "Training epoch 43:   0%|          | 0/100 [00:00<?, ?it/s]"
     ]
    },
    {
     "name": "stdout",
     "output_type": "stream",
     "text": [
      "Epoch 42:\n",
      "    Train loss 0.164, accuracy 0.847, F1-score 0.861, MCC: 0.683, Dice: 0.861\n",
      "    Val loss 0.183, accuracy 0.802, F1-score 0.805, MCC: 0.598, Dice: 0.805\n"
     ]
    },
    {
     "name": "stderr",
     "output_type": "stream",
     "text": [
      "Training epoch 43: 100%|██████████| 100/100 [01:31<00:00,  1.09it/s]\n",
      "Validation epoch 43: 100%|██████████| 51/51 [00:27<00:00,  1.83it/s]\n",
      "Training epoch 44:   0%|          | 0/100 [00:00<?, ?it/s]"
     ]
    },
    {
     "name": "stdout",
     "output_type": "stream",
     "text": [
      "Epoch 43:\n",
      "    Train loss 0.163, accuracy 0.848, F1-score 0.863, MCC: 0.685, Dice: 0.863\n",
      "    Val loss 0.183, accuracy 0.809, F1-score 0.821, MCC: 0.609, Dice: 0.821\n"
     ]
    },
    {
     "name": "stderr",
     "output_type": "stream",
     "text": [
      "Training epoch 44: 100%|██████████| 100/100 [01:31<00:00,  1.09it/s]\n",
      "Validation epoch 44: 100%|██████████| 51/51 [00:27<00:00,  1.83it/s]\n",
      "Training epoch 45:   0%|          | 0/100 [00:00<?, ?it/s]"
     ]
    },
    {
     "name": "stdout",
     "output_type": "stream",
     "text": [
      "Epoch 44:\n",
      "    Train loss 0.163, accuracy 0.848, F1-score 0.863, MCC: 0.686, Dice: 0.863\n",
      "    Val loss 0.183, accuracy 0.805, F1-score 0.807, MCC: 0.608, Dice: 0.807\n"
     ]
    },
    {
     "name": "stderr",
     "output_type": "stream",
     "text": [
      "Training epoch 88: 100%|██████████| 100/100 [01:29<00:00,  1.12it/s]\n",
      "Validation epoch 88: 100%|██████████| 51/51 [00:27<00:00,  1.83it/s]\n",
      "Training epoch 89:   0%|          | 0/100 [00:00<?, ?it/s]"
     ]
    },
    {
     "name": "stdout",
     "output_type": "stream",
     "text": [
      "Epoch 88:\n",
      "    Train loss 0.150, accuracy 0.864, F1-score 0.877, MCC: 0.716, Dice: 0.877\n",
      "    Val loss 0.181, accuracy 0.811, F1-score 0.820, MCC: 0.612, Dice: 0.820\n"
     ]
    },
    {
     "name": "stderr",
     "output_type": "stream",
     "text": [
      "Training epoch 89: 100%|██████████| 100/100 [01:30<00:00,  1.11it/s]\n",
      "Validation epoch 89: 100%|██████████| 51/51 [00:27<00:00,  1.83it/s]\n",
      "Training epoch 90:   0%|          | 0/100 [00:00<?, ?it/s]"
     ]
    },
    {
     "name": "stdout",
     "output_type": "stream",
     "text": [
      "Epoch 89:\n",
      "    Train loss 0.150, accuracy 0.864, F1-score 0.877, MCC: 0.717, Dice: 0.877\n",
      "    Val loss 0.181, accuracy 0.809, F1-score 0.817, MCC: 0.608, Dice: 0.817\n"
     ]
    },
    {
     "name": "stderr",
     "output_type": "stream",
     "text": [
      "Training epoch 90: 100%|██████████| 100/100 [01:29<00:00,  1.11it/s]\n",
      "Validation epoch 90: 100%|██████████| 51/51 [00:28<00:00,  1.77it/s]\n",
      "Training epoch 91:   0%|          | 0/100 [00:00<?, ?it/s]"
     ]
    },
    {
     "name": "stdout",
     "output_type": "stream",
     "text": [
      "Epoch 90:\n",
      "    Train loss 0.149, accuracy 0.866, F1-score 0.879, MCC: 0.720, Dice: 0.879\n",
      "    Val loss 0.181, accuracy 0.811, F1-score 0.818, MCC: 0.615, Dice: 0.818\n"
     ]
    },
    {
     "name": "stderr",
     "output_type": "stream",
     "text": [
      "Training epoch 91: 100%|██████████| 100/100 [01:30<00:00,  1.10it/s]\n",
      "Validation epoch 91: 100%|██████████| 51/51 [00:28<00:00,  1.80it/s]\n",
      "Training epoch 92:   0%|          | 0/100 [00:00<?, ?it/s]"
     ]
    },
    {
     "name": "stdout",
     "output_type": "stream",
     "text": [
      "Epoch 91:\n",
      "    Train loss 0.149, accuracy 0.865, F1-score 0.879, MCC: 0.719, Dice: 0.879\n",
      "    Val loss 0.183, accuracy 0.805, F1-score 0.811, MCC: 0.603, Dice: 0.811\n"
     ]
    },
    {
     "name": "stderr",
     "output_type": "stream",
     "text": [
      "Training epoch 92: 100%|██████████| 100/100 [01:31<00:00,  1.09it/s]\n",
      "Validation epoch 92: 100%|██████████| 51/51 [00:28<00:00,  1.81it/s]\n",
      "Training epoch 93:   0%|          | 0/100 [00:00<?, ?it/s]"
     ]
    },
    {
     "name": "stdout",
     "output_type": "stream",
     "text": [
      "Epoch 92:\n",
      "    Train loss 0.149, accuracy 0.865, F1-score 0.878, MCC: 0.719, Dice: 0.878\n",
      "    Val loss 0.181, accuracy 0.811, F1-score 0.820, MCC: 0.614, Dice: 0.820\n"
     ]
    },
    {
     "name": "stderr",
     "output_type": "stream",
     "text": [
      "Training epoch 93: 100%|██████████| 100/100 [01:31<00:00,  1.09it/s]\n",
      "Validation epoch 93: 100%|██████████| 51/51 [00:27<00:00,  1.84it/s]\n",
      "Training epoch 94:   0%|          | 0/100 [00:00<?, ?it/s]"
     ]
    },
    {
     "name": "stdout",
     "output_type": "stream",
     "text": [
      "Epoch 93:\n",
      "    Train loss 0.149, accuracy 0.865, F1-score 0.878, MCC: 0.719, Dice: 0.878\n",
      "    Val loss 0.182, accuracy 0.810, F1-score 0.816, MCC: 0.613, Dice: 0.816\n"
     ]
    },
    {
     "name": "stderr",
     "output_type": "stream",
     "text": [
      "Training epoch 94: 100%|██████████| 100/100 [01:31<00:00,  1.09it/s]\n",
      "Validation epoch 94: 100%|██████████| 51/51 [00:28<00:00,  1.81it/s]\n",
      "Training epoch 95:   0%|          | 0/100 [00:00<?, ?it/s]"
     ]
    },
    {
     "name": "stdout",
     "output_type": "stream",
     "text": [
      "Epoch 94:\n",
      "    Train loss 0.149, accuracy 0.864, F1-score 0.877, MCC: 0.716, Dice: 0.877\n",
      "    Val loss 0.181, accuracy 0.812, F1-score 0.821, MCC: 0.617, Dice: 0.821\n"
     ]
    },
    {
     "name": "stderr",
     "output_type": "stream",
     "text": [
      "Training epoch 95: 100%|██████████| 100/100 [01:31<00:00,  1.10it/s]\n",
      "Validation epoch 95: 100%|██████████| 51/51 [00:28<00:00,  1.79it/s]\n",
      "Training epoch 96:   0%|          | 0/100 [00:00<?, ?it/s]"
     ]
    },
    {
     "name": "stdout",
     "output_type": "stream",
     "text": [
      "Epoch 95:\n",
      "    Train loss 0.148, accuracy 0.866, F1-score 0.879, MCC: 0.722, Dice: 0.879\n",
      "    Val loss 0.179, accuracy 0.815, F1-score 0.826, MCC: 0.620, Dice: 0.826\n"
     ]
    },
    {
     "name": "stderr",
     "output_type": "stream",
     "text": [
      "Training epoch 96: 100%|██████████| 100/100 [01:31<00:00,  1.09it/s]\n",
      "Validation epoch 96: 100%|██████████| 51/51 [00:27<00:00,  1.83it/s]\n",
      "Training epoch 97:   0%|          | 0/100 [00:00<?, ?it/s]"
     ]
    },
    {
     "name": "stdout",
     "output_type": "stream",
     "text": [
      "Epoch 96:\n",
      "    Train loss 0.148, accuracy 0.866, F1-score 0.879, MCC: 0.720, Dice: 0.879\n",
      "    Val loss 0.182, accuracy 0.808, F1-score 0.811, MCC: 0.611, Dice: 0.811\n"
     ]
    },
    {
     "name": "stderr",
     "output_type": "stream",
     "text": [
      "Training epoch 97: 100%|██████████| 100/100 [01:32<00:00,  1.08it/s]\n",
      "Validation epoch 97: 100%|██████████| 51/51 [00:28<00:00,  1.81it/s]\n",
      "Training epoch 98:   0%|          | 0/100 [00:00<?, ?it/s]"
     ]
    },
    {
     "name": "stdout",
     "output_type": "stream",
     "text": [
      "Epoch 97:\n",
      "    Train loss 0.147, accuracy 0.868, F1-score 0.880, MCC: 0.724, Dice: 0.880\n",
      "    Val loss 0.186, accuracy 0.801, F1-score 0.805, MCC: 0.596, Dice: 0.805\n"
     ]
    },
    {
     "name": "stderr",
     "output_type": "stream",
     "text": [
      "Training epoch 98: 100%|██████████| 100/100 [01:31<00:00,  1.09it/s]\n",
      "Validation epoch 98: 100%|██████████| 51/51 [00:28<00:00,  1.78it/s]\n",
      "Training epoch 99:   0%|          | 0/100 [00:00<?, ?it/s]"
     ]
    },
    {
     "name": "stdout",
     "output_type": "stream",
     "text": [
      "Epoch 98:\n",
      "    Train loss 0.147, accuracy 0.867, F1-score 0.880, MCC: 0.723, Dice: 0.880\n",
      "    Val loss 0.182, accuracy 0.811, F1-score 0.820, MCC: 0.612, Dice: 0.820\n"
     ]
    },
    {
     "name": "stderr",
     "output_type": "stream",
     "text": [
      "Training epoch 99: 100%|██████████| 100/100 [01:31<00:00,  1.09it/s]\n",
      "Validation epoch 99: 100%|██████████| 51/51 [00:28<00:00,  1.77it/s]\n",
      "Training epoch 100:   0%|          | 0/100 [00:00<?, ?it/s]"
     ]
    },
    {
     "name": "stdout",
     "output_type": "stream",
     "text": [
      "Epoch 99:\n",
      "    Train loss 0.147, accuracy 0.868, F1-score 0.881, MCC: 0.725, Dice: 0.881\n",
      "    Val loss 0.182, accuracy 0.808, F1-score 0.825, MCC: 0.608, Dice: 0.825\n"
     ]
    },
    {
     "name": "stderr",
     "output_type": "stream",
     "text": [
      "Training epoch 100: 100%|██████████| 100/100 [01:32<00:00,  1.09it/s]\n",
      "Validation epoch 100: 100%|██████████| 51/51 [00:28<00:00,  1.80it/s]"
     ]
    },
    {
     "name": "stdout",
     "output_type": "stream",
     "text": [
      "Epoch 100:\n",
      "    Train loss 0.147, accuracy 0.868, F1-score 0.881, MCC: 0.725, Dice: 0.881\n",
      "    Val loss 0.183, accuracy 0.810, F1-score 0.818, MCC: 0.610, Dice: 0.818\n"
     ]
    },
    {
     "name": "stderr",
     "output_type": "stream",
     "text": [
      "\n"
     ]
    }
   ],
   "source": [
    "# ============================ #\n",
    "# user-specified hyperparameters\n",
    "# ============================ #\n",
    "epochs = 100\n",
    "lr = 0.001\n",
    "lr_decay = None\n",
    "n_filters = 32\n",
    "batch_size = 8\n",
    "n_classes = 1\n",
    "model_type = 'resunet-d7'\n",
    "month = 'october'\n",
    "gpu_id = 0\n",
    "n_train = 800\n",
    "splits_path = '../data/splits/hanAndBurak_planetImagery_splits_{}.csv'.format(n_train)\n",
    "# ============================ #\n",
    "\n",
    "run_france(epochs=epochs, lr=lr, lr_decay=lr_decay, n_filters=n_filters, batch_size=batch_size,\n",
    "           n_classes=n_classes, model_type=model_type, month=month, gpu_id=gpu_id,\n",
    "           splits_path=splits_path, n_train=n_train)"
   ]
  },
  {
   "cell_type": "code",
   "execution_count": null,
   "metadata": {},
   "outputs": [],
   "source": []
  }
 ],
 "metadata": {
  "kernelspec": {
   "display_name": "Environment (conda_mxnet1.6.0)",
   "language": "python",
   "name": "conda_mxnet1.6.0"
  },
  "language_info": {
   "codemirror_mode": {
    "name": "ipython",
    "version": 3
   },
   "file_extension": ".py",
   "mimetype": "text/x-python",
   "name": "python",
   "nbconvert_exporter": "python",
   "pygments_lexer": "ipython3",
   "version": "3.6.11"
  }
 },
 "nbformat": 4,
 "nbformat_minor": 2
}
