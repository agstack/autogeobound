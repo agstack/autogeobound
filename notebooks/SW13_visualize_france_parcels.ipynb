{
 "cells": [
  {
   "cell_type": "code",
   "execution_count": 2,
   "metadata": {},
   "outputs": [],
   "source": [
    "import numpy as np\n",
    "import pandas as pd\n",
    "import os\n",
    "\n",
    "import imageio\n",
    "import geopandas as gpd\n",
    "from shapely.geometry import Point, Polygon\n",
    "\n",
    "import matplotlib\n",
    "import matplotlib.pyplot as plt\n",
    "from matplotlib import font_manager as fm\n",
    "import matplotlib.patches as mpatches\n",
    "import seaborn as sns\n",
    "%matplotlib inline"
   ]
  },
  {
   "cell_type": "markdown",
   "metadata": {},
   "source": [
    "# Read in parcelles graphiques"
   ]
  },
  {
   "cell_type": "code",
   "execution_count": 3,
   "metadata": {},
   "outputs": [],
   "source": [
    "rpg = gpd.read_file('../data/parcels/france/RPG_2-0__SHP_LAMB93_FR-2018_2018-01-15/RPG/1_DONNEES_LIVRAISON_2018/RPG_2-0_SHP_LAMB93_FR-2018/PARCELLES_GRAPHIQUES.shp')\n",
    "\n",
    "# fig, ax = plt.subplots(1)\n",
    "# france.plot(ax=ax)\n",
    "# plt.show()"
   ]
  },
  {
   "cell_type": "code",
   "execution_count": 4,
   "metadata": {},
   "outputs": [
    {
     "data": {
      "text/html": [
       "<div>\n",
       "<style scoped>\n",
       "    .dataframe tbody tr th:only-of-type {\n",
       "        vertical-align: middle;\n",
       "    }\n",
       "\n",
       "    .dataframe tbody tr th {\n",
       "        vertical-align: top;\n",
       "    }\n",
       "\n",
       "    .dataframe thead th {\n",
       "        text-align: right;\n",
       "    }\n",
       "</style>\n",
       "<table border=\"1\" class=\"dataframe\">\n",
       "  <thead>\n",
       "    <tr style=\"text-align: right;\">\n",
       "      <th></th>\n",
       "      <th>ID_PARCEL</th>\n",
       "      <th>SURF_PARC</th>\n",
       "      <th>CODE_CULTU</th>\n",
       "      <th>CODE_GROUP</th>\n",
       "      <th>CULTURE_D1</th>\n",
       "      <th>CULTURE_D2</th>\n",
       "      <th>geometry</th>\n",
       "    </tr>\n",
       "  </thead>\n",
       "  <tbody>\n",
       "    <tr>\n",
       "      <td>0</td>\n",
       "      <td>38812</td>\n",
       "      <td>2.68</td>\n",
       "      <td>ORH</td>\n",
       "      <td>3</td>\n",
       "      <td>None</td>\n",
       "      <td>None</td>\n",
       "      <td>POLYGON ((849735.439 6550875.519, 849737.060 6...</td>\n",
       "    </tr>\n",
       "    <tr>\n",
       "      <td>1</td>\n",
       "      <td>38905</td>\n",
       "      <td>20.49</td>\n",
       "      <td>BTH</td>\n",
       "      <td>1</td>\n",
       "      <td>None</td>\n",
       "      <td>None</td>\n",
       "      <td>POLYGON ((849968.343 6550277.717, 850033.702 6...</td>\n",
       "    </tr>\n",
       "    <tr>\n",
       "      <td>2</td>\n",
       "      <td>38801</td>\n",
       "      <td>1.49</td>\n",
       "      <td>ORH</td>\n",
       "      <td>3</td>\n",
       "      <td>None</td>\n",
       "      <td>None</td>\n",
       "      <td>POLYGON ((836239.463 6541366.745, 836239.010 6...</td>\n",
       "    </tr>\n",
       "    <tr>\n",
       "      <td>3</td>\n",
       "      <td>38816</td>\n",
       "      <td>0.27</td>\n",
       "      <td>SOG</td>\n",
       "      <td>4</td>\n",
       "      <td>None</td>\n",
       "      <td>None</td>\n",
       "      <td>POLYGON ((836672.766 6542164.668, 836609.069 6...</td>\n",
       "    </tr>\n",
       "    <tr>\n",
       "      <td>4</td>\n",
       "      <td>38907</td>\n",
       "      <td>0.19</td>\n",
       "      <td>J6S</td>\n",
       "      <td>11</td>\n",
       "      <td>None</td>\n",
       "      <td>None</td>\n",
       "      <td>POLYGON ((837134.128 6542614.464, 837103.154 6...</td>\n",
       "    </tr>\n",
       "  </tbody>\n",
       "</table>\n",
       "</div>"
      ],
      "text/plain": [
       "  ID_PARCEL  SURF_PARC CODE_CULTU CODE_GROUP CULTURE_D1 CULTURE_D2  \\\n",
       "0     38812       2.68        ORH          3       None       None   \n",
       "1     38905      20.49        BTH          1       None       None   \n",
       "2     38801       1.49        ORH          3       None       None   \n",
       "3     38816       0.27        SOG          4       None       None   \n",
       "4     38907       0.19        J6S         11       None       None   \n",
       "\n",
       "                                            geometry  \n",
       "0  POLYGON ((849735.439 6550875.519, 849737.060 6...  \n",
       "1  POLYGON ((849968.343 6550277.717, 850033.702 6...  \n",
       "2  POLYGON ((836239.463 6541366.745, 836239.010 6...  \n",
       "3  POLYGON ((836672.766 6542164.668, 836609.069 6...  \n",
       "4  POLYGON ((837134.128 6542614.464, 837103.154 6...  "
      ]
     },
     "execution_count": 4,
     "metadata": {},
     "output_type": "execute_result"
    }
   ],
   "source": [
    "rpg.head()"
   ]
  },
  {
   "cell_type": "code",
   "execution_count": 4,
   "metadata": {},
   "outputs": [
    {
     "data": {
      "text/plain": [
       "(9517878, 7)"
      ]
     },
     "execution_count": 4,
     "metadata": {},
     "output_type": "execute_result"
    }
   ],
   "source": [
    "rpg.shape"
   ]
  },
  {
   "cell_type": "markdown",
   "metadata": {},
   "source": [
    "## Plot distribution of parcels by code"
   ]
  },
  {
   "cell_type": "code",
   "execution_count": 7,
   "metadata": {},
   "outputs": [],
   "source": [
    "rpg['code'] = rpg['CODE_GROUP'].astype(int)"
   ]
  },
  {
   "cell_type": "code",
   "execution_count": 9,
   "metadata": {},
   "outputs": [],
   "source": [
    "code_distr = rpg.groupby('code').size() / rpg.shape[0]"
   ]
  },
  {
   "cell_type": "code",
   "execution_count": 16,
   "metadata": {},
   "outputs": [
    {
     "data": {
      "image/png": "[encoded data removed]",
      "text/plain": [
       "<Figure size 432x288 with 1 Axes>"
      ]
     },
     "metadata": {
      "needs_background": "light"
     },
     "output_type": "display_data"
    }
   ],
   "source": [
    "plt.bar(code_distr.reset_index()['code'], code_distr.reset_index()[0])\n",
    "plt.xlabel('Crop code')\n",
    "plt.ylabel('Number of parcels')\n",
    "plt.xticks(code_distr.reset_index()['code'])\n",
    "plt.title('Distribution of parcels by crop code')\n",
    "plt.show()"
   ]
  },
  {
   "cell_type": "markdown",
   "metadata": {},
   "source": [
    "## Plot by area"
   ]
  },
  {
   "cell_type": "code",
   "execution_count": 20,
   "metadata": {
    "scrolled": true
   },
   "outputs": [
    {
     "data": {
      "text/plain": [
       "26793.211870524858"
      ]
     },
     "execution_count": 20,
     "metadata": {},
     "output_type": "execute_result"
    }
   ],
   "source": [
    "rpg.iloc[0]['geometry'].area"
   ]
  },
  {
   "cell_type": "code",
   "execution_count": 21,
   "metadata": {},
   "outputs": [],
   "source": [
    "rpg['area'] = rpg['geometry'].apply(lambda x: x.area)"
   ]
  },
  {
   "cell_type": "code",
   "execution_count": 22,
   "metadata": {},
   "outputs": [
    {
     "data": {
      "text/html": [
       "<div>\n",
       "<style scoped>\n",
       "    .dataframe tbody tr th:only-of-type {\n",
       "        vertical-align: middle;\n",
       "    }\n",
       "\n",
       "    .dataframe tbody tr th {\n",
       "        vertical-align: top;\n",
       "    }\n",
       "\n",
       "    .dataframe thead th {\n",
       "        text-align: right;\n",
       "    }\n",
       "</style>\n",
       "<table border=\"1\" class=\"dataframe\">\n",
       "  <thead>\n",
       "    <tr style=\"text-align: right;\">\n",
       "      <th></th>\n",
       "      <th>ID_PARCEL</th>\n",
       "      <th>SURF_PARC</th>\n",
       "      <th>CODE_CULTU</th>\n",
       "      <th>CODE_GROUP</th>\n",
       "      <th>CULTURE_D1</th>\n",
       "      <th>CULTURE_D2</th>\n",
       "      <th>geometry</th>\n",
       "      <th>code</th>\n",
       "      <th>area</th>\n",
       "    </tr>\n",
       "  </thead>\n",
       "  <tbody>\n",
       "    <tr>\n",
       "      <td>0</td>\n",
       "      <td>38812</td>\n",
       "      <td>2.68</td>\n",
       "      <td>ORH</td>\n",
       "      <td>3</td>\n",
       "      <td>None</td>\n",
       "      <td>None</td>\n",
       "      <td>POLYGON ((849735.439 6550875.519, 849737.060 6...</td>\n",
       "      <td>3</td>\n",
       "      <td>26793.211871</td>\n",
       "    </tr>\n",
       "    <tr>\n",
       "      <td>1</td>\n",
       "      <td>38905</td>\n",
       "      <td>20.49</td>\n",
       "      <td>BTH</td>\n",
       "      <td>1</td>\n",
       "      <td>None</td>\n",
       "      <td>None</td>\n",
       "      <td>POLYGON ((849968.343 6550277.717, 850033.702 6...</td>\n",
       "      <td>1</td>\n",
       "      <td>204930.480450</td>\n",
       "    </tr>\n",
       "    <tr>\n",
       "      <td>2</td>\n",
       "      <td>38801</td>\n",
       "      <td>1.49</td>\n",
       "      <td>ORH</td>\n",
       "      <td>3</td>\n",
       "      <td>None</td>\n",
       "      <td>None</td>\n",
       "      <td>POLYGON ((836239.463 6541366.745, 836239.010 6...</td>\n",
       "      <td>3</td>\n",
       "      <td>14917.485525</td>\n",
       "    </tr>\n",
       "    <tr>\n",
       "      <td>3</td>\n",
       "      <td>38816</td>\n",
       "      <td>0.27</td>\n",
       "      <td>SOG</td>\n",
       "      <td>4</td>\n",
       "      <td>None</td>\n",
       "      <td>None</td>\n",
       "      <td>POLYGON ((836672.766 6542164.668, 836609.069 6...</td>\n",
       "      <td>4</td>\n",
       "      <td>2703.639982</td>\n",
       "    </tr>\n",
       "    <tr>\n",
       "      <td>4</td>\n",
       "      <td>38907</td>\n",
       "      <td>0.19</td>\n",
       "      <td>J6S</td>\n",
       "      <td>11</td>\n",
       "      <td>None</td>\n",
       "      <td>None</td>\n",
       "      <td>POLYGON ((837134.128 6542614.464, 837103.154 6...</td>\n",
       "      <td>11</td>\n",
       "      <td>1911.939187</td>\n",
       "    </tr>\n",
       "  </tbody>\n",
       "</table>\n",
       "</div>"
      ],
      "text/plain": [
       "  ID_PARCEL  SURF_PARC CODE_CULTU CODE_GROUP CULTURE_D1 CULTURE_D2  \\\n",
       "0     38812       2.68        ORH          3       None       None   \n",
       "1     38905      20.49        BTH          1       None       None   \n",
       "2     38801       1.49        ORH          3       None       None   \n",
       "3     38816       0.27        SOG          4       None       None   \n",
       "4     38907       0.19        J6S         11       None       None   \n",
       "\n",
       "                                            geometry  code           area  \n",
       "0  POLYGON ((849735.439 6550875.519, 849737.060 6...     3   26793.211871  \n",
       "1  POLYGON ((849968.343 6550277.717, 850033.702 6...     1  204930.480450  \n",
       "2  POLYGON ((836239.463 6541366.745, 836239.010 6...     3   14917.485525  \n",
       "3  POLYGON ((836672.766 6542164.668, 836609.069 6...     4    2703.639982  \n",
       "4  POLYGON ((837134.128 6542614.464, 837103.154 6...    11    1911.939187  "
      ]
     },
     "execution_count": 22,
     "metadata": {},
     "output_type": "execute_result"
    }
   ],
   "source": [
    "rpg.head()"
   ]
  },
  {
   "cell_type": "code",
   "execution_count": 23,
   "metadata": {},
   "outputs": [],
   "source": [
    "area_distr = rpg[['code', 'area']].groupby('code').sum() / rpg['area'].sum()"
   ]
  },
  {
   "cell_type": "code",
   "execution_count": 28,
   "metadata": {},
   "outputs": [
    {
     "data": {
      "image/png": "[encoded data removed]",
      "text/plain": [
       "<Figure size 432x288 with 1 Axes>"
      ]
     },
     "metadata": {
      "needs_background": "light"
     },
     "output_type": "display_data"
    }
   ],
   "source": [
    "plt.bar(area_distr.reset_index()['code'], area_distr.reset_index()['area'], color='C1')\n",
    "plt.xlabel('Crop code')\n",
    "plt.ylabel('Area of parcels')\n",
    "plt.xticks(area_distr.reset_index()['code'])\n",
    "plt.title('Distribution of parcel area by crop code')\n",
    "plt.show()"
   ]
  },
  {
   "cell_type": "markdown",
   "metadata": {},
   "source": [
    "# Ilots?"
   ]
  },
  {
   "cell_type": "code",
   "execution_count": 2,
   "metadata": {},
   "outputs": [],
   "source": [
    "ilots = gpd.read_file('../data/parcels/france/RPG_2-0__SHP_LAMB93_FR-2018_2018-01-15/RPG/1_DONNEES_LIVRAISON_2018/RPG_2-0_SHP_LAMB93_FR-2018/ILOTS_ANONYMES.shp')"
   ]
  },
  {
   "cell_type": "code",
   "execution_count": 3,
   "metadata": {},
   "outputs": [
    {
     "data": {
      "text/html": [
       "<div>\n",
       "<style scoped>\n",
       "    .dataframe tbody tr th:only-of-type {\n",
       "        vertical-align: middle;\n",
       "    }\n",
       "\n",
       "    .dataframe tbody tr th {\n",
       "        vertical-align: top;\n",
       "    }\n",
       "\n",
       "    .dataframe thead th {\n",
       "        text-align: right;\n",
       "    }\n",
       "</style>\n",
       "<table border=\"1\" class=\"dataframe\">\n",
       "  <thead>\n",
       "    <tr style=\"text-align: right;\">\n",
       "      <th></th>\n",
       "      <th>ID_ILOT</th>\n",
       "      <th>geometry</th>\n",
       "    </tr>\n",
       "  </thead>\n",
       "  <tbody>\n",
       "    <tr>\n",
       "      <td>0</td>\n",
       "      <td>14927</td>\n",
       "      <td>POLYGON ((837428.604 6543303.548, 837360.147 6...</td>\n",
       "    </tr>\n",
       "    <tr>\n",
       "      <td>1</td>\n",
       "      <td>49791</td>\n",
       "      <td>POLYGON ((837449.772 6542925.159, 837451.292 6...</td>\n",
       "    </tr>\n",
       "    <tr>\n",
       "      <td>2</td>\n",
       "      <td>14928</td>\n",
       "      <td>POLYGON ((837063.826 6544536.580, 837063.861 6...</td>\n",
       "    </tr>\n",
       "    <tr>\n",
       "      <td>3</td>\n",
       "      <td>14929</td>\n",
       "      <td>POLYGON ((837656.155 6544701.507, 837635.224 6...</td>\n",
       "    </tr>\n",
       "    <tr>\n",
       "      <td>4</td>\n",
       "      <td>35302</td>\n",
       "      <td>POLYGON ((837353.613 6546303.662, 837579.214 6...</td>\n",
       "    </tr>\n",
       "  </tbody>\n",
       "</table>\n",
       "</div>"
      ],
      "text/plain": [
       "  ID_ILOT                                           geometry\n",
       "0   14927  POLYGON ((837428.604 6543303.548, 837360.147 6...\n",
       "1   49791  POLYGON ((837449.772 6542925.159, 837451.292 6...\n",
       "2   14928  POLYGON ((837063.826 6544536.580, 837063.861 6...\n",
       "3   14929  POLYGON ((837656.155 6544701.507, 837635.224 6...\n",
       "4   35302  POLYGON ((837353.613 6546303.662, 837579.214 6..."
      ]
     },
     "execution_count": 3,
     "metadata": {},
     "output_type": "execute_result"
    }
   ],
   "source": [
    "ilots.head()"
   ]
  },
  {
   "cell_type": "code",
   "execution_count": 4,
   "metadata": {},
   "outputs": [
    {
     "data": {
      "text/plain": [
       "(5929902, 2)"
      ]
     },
     "execution_count": 4,
     "metadata": {},
     "output_type": "execute_result"
    }
   ],
   "source": [
    "ilots.shape"
   ]
  },
  {
   "cell_type": "code",
   "execution_count": null,
   "metadata": {},
   "outputs": [],
   "source": []
  }
 ],
 "metadata": {
  "kernelspec": {
   "display_name": "Environment (conda_geopython)",
   "language": "python",
   "name": "conda_geopython"
  },
  "language_info": {
   "codemirror_mode": {
    "name": "ipython",
    "version": 3
   },
   "file_extension": ".py",
   "mimetype": "text/x-python",
   "name": "python",
   "nbconvert_exporter": "python",
   "pygments_lexer": "ipython3",
   "version": "3.7.4"
  }
 },
 "nbformat": 4,
 "nbformat_minor": 2
}
