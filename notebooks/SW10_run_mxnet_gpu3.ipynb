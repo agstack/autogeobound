{
 "cells": [
  {
   "cell_type": "code",
   "execution_count": 2,
   "metadata": {},
   "outputs": [],
   "source": [
    "import numpy as np\n",
    "import pandas as pd\n",
    "import os\n",
    "from tqdm import tqdm\n",
    "import visdom\n",
    "\n",
    "import mxnet as mx\n",
    "from mxnet import gluon\n",
    "from mxnet import autograd\n",
    "from mxnet import image\n",
    "\n",
    "import sys\n",
    "sys.path.append('../../resuneta/src')\n",
    "sys.path.append('../../resuneta/nn/loss')\n",
    "sys.path.append('../../resuneta/models')\n",
    "sys.path.append('../../')\n",
    "sys.path.append('../MXNet-ResUNeta/')\n",
    "\n",
    "from bound_dist import get_distance, get_boundary\n",
    "from loss import Tanimoto_wth_dual\n",
    "from resunet_d6_causal_mtskcolor_ddist import *\n",
    "from resunet_d7_causal_mtskcolor_ddist import *\n",
    "\n",
    "from datasets import *"
   ]
  },
  {
   "cell_type": "code",
   "execution_count": 3,
   "metadata": {},
   "outputs": [],
   "source": [
    "def dice_coef(x, y):\n",
    "    if type(x).__module__ == 'numpy':\n",
    "        intersection = np.logical_and(x, y)\n",
    "        return 2. * np.sum(intersection) / (np.sum(x) + np.sum(y))\n",
    "    else:\n",
    "        intersection = mx.ndarray.op.broadcast_logical_and(x, y)\n",
    "        return 2. * mx.nd.sum(intersection) / (mx.nd.sum(x) + mx.nd.sum(y))"
   ]
  },
  {
   "cell_type": "code",
   "execution_count": 4,
   "metadata": {},
   "outputs": [],
   "source": [
    "def visdom_visualize_batch(vis, img, extent, boundary, distance,\n",
    "                           extent_pred, boundary_pred, distance_pred,\n",
    "                           hsv, hsv_pred, title=\"Train images\", n_channels=3):\n",
    "\n",
    "    img, extent, boundary, distance = img.asnumpy(), extent.asnumpy(), boundary.asnumpy(), distance.asnumpy()\n",
    "    extent_pred, boundary_pred = extent_pred.asnumpy(), boundary_pred.asnumpy()\n",
    "    distance_pred, hsv, hsv_pred = distance_pred.asnumpy(), hsv.asnumpy(), hsv_pred.asnumpy()\n",
    "\n",
    "    # put everything in one window\n",
    "    batch_size, nchannels, nrows, ncols = img.shape\n",
    "    padding = 10\n",
    "    \n",
    "    items = []\n",
    "    for i in range(img.shape[1] // n_channels):\n",
    "        items.append(img[:,i*n_channels:(i+1)*n_channels])\n",
    "    for i in range(hsv_pred.shape[1] // n_channels):\n",
    "        items.append(hsv_pred[:,i*n_channels:(i+1)*n_channels])\n",
    "    items = items + [extent, extent_pred, boundary, boundary_pred, distance, distance_pred]\n",
    "    result = np.zeros((3, len(items)*nrows + (len(items)-1)*padding, batch_size*ncols + (batch_size-1)*padding))\n",
    "\n",
    "    for j, item in enumerate(items):\n",
    "\n",
    "        if item.shape[1] == 1:\n",
    "            item = np.tile(item, (1,3,1,1)) * 255.\n",
    "\n",
    "        if (j >= img.shape[1] // n_channels) and \\\n",
    "        (j < img.shape[1] // n_channels + hsv_pred.shape[1] // n_channels): # convert HSV to RGB\n",
    "            item = np.moveaxis(item, 1, -1) * 255.\n",
    "            for i in range(batch_size):\n",
    "                item[i] = cv2.cvtColor(item[i].astype(np.uint8), cv2.COLOR_HSV2RGB)\n",
    "            item = np.moveaxis(item, -1, 1)\n",
    "            \n",
    "        for i in range(batch_size):\n",
    "            result[:, j*(nrows+padding):(j+1)*nrows+j*padding, i*(ncols+padding):(i+1)*ncols+i*padding] = item[i]\n",
    "    vis.images(result, nrow=1, win=title, opts={'title': title})\n"
   ]
  },
  {
   "cell_type": "code",
   "execution_count": 5,
   "metadata": {},
   "outputs": [],
   "source": [
    "def train_model(train_dataloader, model, tanimoto_dual, trainer, epoch, args):\n",
    "    \n",
    "    # initialize metrics\n",
    "    cumulative_loss = 0\n",
    "    accuracy = mx.metric.Accuracy()\n",
    "    f1 = mx.metric.F1()\n",
    "    mcc = mx.metric.MCC()\n",
    "    dice = mx.metric.CustomMetric(feval=dice_coef, name=\"Dice\")\n",
    "    \n",
    "    # training set\n",
    "    for batch_i, (img, extent, boundary, distance, hsv) in enumerate(\n",
    "        tqdm(train_dataloader, desc='Training epoch {}'.format(epoch))):\n",
    "        \n",
    "        with autograd.record():\n",
    "\n",
    "            img = img.as_in_context(mx.gpu(args['gpu']))\n",
    "            extent = extent.as_in_context(mx.gpu(args['gpu']))\n",
    "            boundary = boundary.as_in_context(mx.gpu(args['gpu']))\n",
    "            distance = distance.as_in_context(mx.gpu(args['gpu']))\n",
    "            hsv = hsv.as_in_context(mx.gpu(args['gpu']))\n",
    "            \n",
    "            logits, bound, dist, convc = model(img)\n",
    "            \n",
    "            # multi-task loss\n",
    "            # TODO: wrap this in a custom loss function / class\n",
    "            loss_extent = mx.nd.sum(1 - tanimoto_dual(logits, extent))\n",
    "            loss_boundary = mx.nd.sum(1 - tanimoto_dual(bound, boundary))\n",
    "            loss_distance = mx.nd.sum(1 - tanimoto_dual(dist, distance))\n",
    "            loss_hsv = mx.nd.sum(1 - tanimoto_dual(convc, hsv))\n",
    "            \n",
    "            loss = 0.25 * (loss_extent + loss_boundary + loss_distance + loss_hsv)\n",
    "            \n",
    "        loss.backward()\n",
    "        trainer.step(args['batch_size'])\n",
    "        \n",
    "        # update metrics based on every batch\n",
    "        cumulative_loss += mx.nd.sum(loss).asscalar()\n",
    "        # accuracy\n",
    "        extent_predicted_classes = mx.nd.ceil(logits[:,[0],:,:] - 0.5)\n",
    "        accuracy.update(extent, extent_predicted_classes)\n",
    "        # f1 score\n",
    "        prediction = logits[:,0,:,:].reshape(-1)\n",
    "        probabilities = mx.nd.stack(1 - prediction, prediction, axis=1)\n",
    "        f1.update(extent.reshape(-1), probabilities)\n",
    "        # MCC metric\n",
    "        mcc.update(extent.reshape(-1), probabilities)\n",
    "        # Dice score\n",
    "        dice.update(extent, extent_predicted_classes)\n",
    "        # TODO: eccentricity\n",
    "        # TODO: ...\n",
    "        \n",
    "        if batch_i % args['visdom_every'] == 0:\n",
    "            visdom_visualize_batch(args['visdom'], img, extent, boundary, distance,\n",
    "                                   logits, bound, dist, hsv, convc)\n",
    "\n",
    "    return cumulative_loss, accuracy, f1, mcc, dice\n"
   ]
  },
  {
   "cell_type": "code",
   "execution_count": 6,
   "metadata": {},
   "outputs": [],
   "source": [
    "def evaluate_model(val_dataloader, model, tanimoto_dual, epoch, args):\n",
    "    \n",
    "    # initialize metrics\n",
    "    cumulative_loss = 0\n",
    "    accuracy = mx.metric.Accuracy()\n",
    "    f1 = mx.metric.F1()\n",
    "    mcc = mx.metric.MCC()\n",
    "    dice = mx.metric.CustomMetric(feval=dice_coef, name=\"Dice\")\n",
    "    \n",
    "    # validation set\n",
    "    for batch_i, (img, extent, boundary, distance, hsv) in enumerate(\n",
    "        tqdm(val_dataloader, desc='Validation epoch {}'.format(epoch))):\n",
    "\n",
    "        img = img.as_in_context(mx.gpu(args['gpu']))\n",
    "        extent = extent.as_in_context(mx.gpu(args['gpu']))\n",
    "        boundary = boundary.as_in_context(mx.gpu(args['gpu']))\n",
    "        distance = distance.as_in_context(mx.gpu(args['gpu']))\n",
    "        hsv = hsv.as_in_context(mx.gpu(args['gpu']))\n",
    "\n",
    "        logits, bound, dist, convc = model(img)\n",
    "            \n",
    "        # multi-task loss\n",
    "        # TODO: wrap this in a custom loss function / class\n",
    "        loss_extent = mx.nd.sum(1 - tanimoto_dual(logits, extent))\n",
    "        loss_boundary = mx.nd.sum(1 - tanimoto_dual(bound, boundary))\n",
    "        loss_distance = mx.nd.sum(1 - tanimoto_dual(dist, distance))\n",
    "        loss_hsv = mx.nd.sum(1 - tanimoto_dual(convc, hsv))\n",
    "\n",
    "        loss = 0.25 * (loss_extent + loss_boundary + loss_distance + loss_hsv)\n",
    "        \n",
    "        # update metrics based on every batch\n",
    "        cumulative_loss += mx.nd.sum(loss).asscalar()\n",
    "        # accuracy\n",
    "        extent_predicted_classes = mx.nd.ceil(logits[:,[0],:,:] - 0.5)\n",
    "        accuracy.update(extent, extent_predicted_classes)\n",
    "        # f1 score\n",
    "        prediction = logits[:,0,:,:].reshape(-1)\n",
    "        probabilities = mx.nd.stack(1 - prediction, prediction, axis=1)\n",
    "        f1.update(extent.reshape(-1), probabilities)\n",
    "        # MCC metric\n",
    "        mcc.update(extent.reshape(-1), probabilities)\n",
    "        # Dice score\n",
    "        dice.update(extent, extent_predicted_classes)\n",
    "        # TODO: eccentricity\n",
    "        # TODO: ...\n",
    "        \n",
    "        if batch_i % args['visdom_every'] == 0:\n",
    "            visdom_visualize_batch(args['visdom'], img, extent, boundary, distance,\n",
    "                                   logits, bound, dist, hsv, convc, title=\"Val images\")\n",
    "        \n",
    "    return cumulative_loss, accuracy, f1, mcc, dice"
   ]
  },
  {
   "cell_type": "markdown",
   "metadata": {},
   "source": [
    "# New 10k France samples"
   ]
  },
  {
   "cell_type": "code",
   "execution_count": 7,
   "metadata": {},
   "outputs": [],
   "source": [
    "def run_france(splits_path='../data/splits/sherrie10k_planetImagery_splits.csv',\n",
    "               epochs=100, lr=0.001, lr_decay=None, n_filters=16, batch_size=8,\n",
    "               n_classes=1, model_type='resunet-d6', month='april', \n",
    "               codes_to_keep=list(np.arange(1,29, dtype=np.uint8)), \n",
    "               image_suffix='.tif', gpu_id=0):\n",
    "    \n",
    "    \n",
    "    # Set up names of directories and paths for saving\n",
    "    if len(codes_to_keep) >= 24:\n",
    "        classes = 'all'\n",
    "    else:\n",
    "        classes = 'subset'\n",
    "    folder_name = model_type+'_'+month+'_class-'+classes+'_nfilter-'+str(n_filters)+'_bs-'+str(batch_size)+'_lr-'+str(lr)\n",
    "    if lr_decay:\n",
    "        folder_name = folder_name + '_lrdecay-'+str(lr_decay)\n",
    "    save_path = os.path.join('../experiments/france/sherrie10k/', folder_name)\n",
    "    if not os.path.isdir(save_path):\n",
    "        os.makedirs(save_path)\n",
    "    save_model_name = os.path.join(save_path, \"model.params\")\n",
    "    \n",
    "    # Directories for loading data\n",
    "    month_dict = {'april': '2019_04', 'october': '2019_10', 'january': '2019_01'}\n",
    "    month_folder = month_dict[month]\n",
    "    image_directory = os.path.join(\n",
    "        '../data/planet/france/sherrie10k/monthly_mosaics_renamed_clipped_merged/', month_folder)\n",
    "    label_directory = '../data/planet/france/sherrie10k/extent_labels/'\n",
    "\n",
    "    # Visdom\n",
    "    env_name = 'france_sherrie10k_'+folder_name\n",
    "    vis = visdom.Visdom(port=8097, env=env_name)\n",
    "    \n",
    "    # Arguments\n",
    "    args = {}\n",
    "    args['batch_size'] = batch_size\n",
    "    args['gpu'] = gpu_id\n",
    "    args['visdom'] = vis\n",
    "    args['visdom_every'] = 20\n",
    "\n",
    "    # Load train/val/test splits\n",
    "    splits_df = pd.read_csv(splits_path)\n",
    "    splits_df['image_id'] = splits_df['image_id'].astype(str).str.zfill(5)\n",
    "    train_names = splits_df[splits_df['fold'] == 'train']['image_id'].values\n",
    "    val_names = splits_df[splits_df['fold'] == 'val']['image_id'].values\n",
    "    test_names = splits_df[splits_df['fold'] == 'test']['image_id'].values\n",
    "\n",
    "    train_dataset = PlanetDatasetWithClasses(\n",
    "        image_directory, label_directory, fold='train', image_names=train_names, classes=codes_to_keep,\n",
    "        image_suffix=image_suffix)\n",
    "    val_dataset = PlanetDatasetWithClasses(\n",
    "        image_directory, label_directory, fold='val', image_names=val_names, classes=codes_to_keep,\n",
    "        image_suffix=image_suffix)\n",
    "    test_dataset = PlanetDatasetWithClasses(\n",
    "        image_directory, label_directory, fold='test', image_names=test_names, classes=codes_to_keep,\n",
    "        image_suffix=image_suffix)\n",
    "\n",
    "    train_dataloader = gluon.data.DataLoader(train_dataset, batch_size=batch_size)\n",
    "    val_dataloader = gluon.data.DataLoader(val_dataset, batch_size=batch_size)\n",
    "    test_dataloader = gluon.data.DataLoader(test_dataset, batch_size=batch_size)\n",
    "\n",
    "    # define model\n",
    "    if model_type == 'resunet-d6':\n",
    "        model = ResUNet_d6(_nfilters_init=n_filters, _NClasses=n_classes)\n",
    "    elif model_type == 'resunet-d7':\n",
    "        model = ResUNet_d7(_nfilters_init=n_filters, _NClasses=n_classes)\n",
    "    model.initialize()\n",
    "    model.hybridize()\n",
    "    model.collect_params().reset_ctx(mx.gpu(args['gpu']))\n",
    "\n",
    "    # define loss function\n",
    "    tanimoto_dual = Tanimoto_wth_dual()\n",
    "    if lr_decay:\n",
    "        schedule = mx.lr_scheduler.FactorScheduler(step=1, factor=lr_decay)\n",
    "        adam_optimizer = mx.optimizer.Adam(learning_rate=lr, lr_scheduler=schedule)\n",
    "    else:\n",
    "        adam_optimizer = mx.optimizer.Adam(learning_rate=lr)\n",
    "    trainer = gluon.Trainer(model.collect_params(), optimizer=adam_optimizer)\n",
    "\n",
    "    # containers for metrics to log\n",
    "    train_metrics = {'train_loss': [], 'train_acc': [], 'train_f1': [], \n",
    "                     'train_mcc': [], 'train_dice': []}\n",
    "    val_metrics = {'val_loss': [], 'val_acc': [], 'val_f1': [], \n",
    "                   'val_mcc': [], 'val_dice': []}\n",
    "    best_mcc = 0.0\n",
    "\n",
    "    # training loop\n",
    "    for epoch in range(1, epochs+1):\n",
    "\n",
    "        # training set\n",
    "        train_loss, train_accuracy, train_f1, train_mcc, train_dice = train_model(\n",
    "            train_dataloader, model, tanimoto_dual, trainer, epoch, args)\n",
    "\n",
    "        # training set metrics\n",
    "        train_loss_avg = train_loss / len(train_dataset)\n",
    "        train_metrics['train_loss'].append(train_loss_avg)\n",
    "        train_metrics['train_acc'].append(train_accuracy.get()[1])\n",
    "        train_metrics['train_f1'].append(train_f1.get()[1])\n",
    "        train_metrics['train_mcc'].append(train_mcc.get()[1])\n",
    "        train_metrics['train_dice'].append(train_dice.get()[1])\n",
    "\n",
    "        # validation set\n",
    "        val_loss, val_accuracy, val_f1, val_mcc, val_dice = evaluate_model(\n",
    "            val_dataloader, model, tanimoto_dual, epoch, args)\n",
    "\n",
    "        # validation set metrics\n",
    "        val_loss_avg = val_loss / len(val_dataset)\n",
    "        val_metrics['val_loss'].append(val_loss_avg)\n",
    "        val_metrics['val_acc'].append(val_accuracy.get()[1])\n",
    "        val_metrics['val_f1'].append(val_f1.get()[1])\n",
    "        val_metrics['val_mcc'].append(val_mcc.get()[1])\n",
    "        val_metrics['val_dice'].append(val_dice.get()[1])\n",
    "\n",
    "        print(\"Epoch {}:\".format(epoch))\n",
    "        print(\"    Train loss {:0.3f}, accuracy {:0.3f}, F1-score {:0.3f}, MCC: {:0.3f}, Dice: {:0.3f}\".format(\n",
    "            train_loss_avg, train_accuracy.get()[1], train_f1.get()[1], train_mcc.get()[1], train_dice.get()[1]))\n",
    "        print(\"    Val loss {:0.3f}, accuracy {:0.3f}, F1-score {:0.3f}, MCC: {:0.3f}, Dice: {:0.3f}\".format(\n",
    "            val_loss_avg, val_accuracy.get()[1], val_f1.get()[1], val_mcc.get()[1], val_dice.get()[1]))\n",
    "\n",
    "        # save model based on best MCC metric\n",
    "        if val_mcc.get()[1] > best_mcc:\n",
    "            model.save_parameters(save_model_name)\n",
    "            best_mcc = val_mcc.get()[1]\n",
    "\n",
    "        # save metrics\n",
    "        metrics = pd.concat([pd.DataFrame(train_metrics), pd.DataFrame(val_metrics)], axis=1)\n",
    "        metrics.to_csv(os.path.join(save_path, 'metrics.csv'), index=False)\n",
    "\n",
    "        # visdom\n",
    "        vis.line(Y=np.stack([train_metrics['train_loss'], val_metrics['val_loss']], axis=1), \n",
    "                 X=np.arange(1, epoch+1), win=\"Loss\", \n",
    "                 opts=dict(legend=['train loss', 'val loss'], markers=False, title=\"Losses\",\n",
    "                           xlabel=\"Epoch\", ylabel=\"Loss\")\n",
    "                )\n",
    "        vis.line(Y=np.stack([train_metrics['train_mcc'], val_metrics['val_mcc']], axis=1), \n",
    "                 X=np.arange(1, epoch+1), win=\"MCC\", \n",
    "                 opts=dict(legend=['train MCC', 'val MCC'], markers=False, title=\"MCC\",\n",
    "                           xlabel=\"Epoch\", ylabel=\"MCC\")\n",
    "                )\n"
   ]
  },
  {
   "cell_type": "code",
   "execution_count": 8,
   "metadata": {},
   "outputs": [],
   "source": [
    "# # ============================ #\n",
    "# # user-specified hyperparameters\n",
    "# # ============================ #\n",
    "# epochs = 100\n",
    "# lr = 0.001\n",
    "# lr_decay = None\n",
    "# n_filters = 16\n",
    "# batch_size = 8\n",
    "# n_classes = 1\n",
    "# model_type = 'resunet-d6'\n",
    "# month = 'october'\n",
    "# gpu_id = 1\n",
    "# # ============================ #\n",
    "\n",
    "# run_france(splits_path='../data/splits/sherrie10k_planetImagery_splits_4000.csv',\n",
    "#            epochs=epochs, lr=lr, lr_decay=lr_decay, n_filters=n_filters, batch_size=batch_size,\n",
    "#            n_classes=n_classes, model_type=model_type, month=month, image_suffix='_2019_10.tif',\n",
    "#            n_train=4000, gpu_id=gpu_id)"
   ]
  },
  {
   "cell_type": "code",
   "execution_count": 9,
   "metadata": {},
   "outputs": [],
   "source": [
    "def run_multitemporal_france(splits_path='../data/splits/sherrie10k_planetImagery_splits.csv',\n",
    "                             epochs=100, lr=0.001, lr_decay=None, n_filters=16, batch_size=8,\n",
    "                             n_classes=1, model_type='resunet-d6',\n",
    "                             image_directories=['../data/planet/france/sherrie10k/monthly_mosaics_renamed_clipped_merged/2019_10/',\n",
    "                                                '../data/planet/france/sherrie10k/monthly_mosaics_renamed_clipped_merged/2019_04/'],\n",
    "                             label_directory=['../data/planet/france/sherrie10k/extent_labels/'],\n",
    "                             codes_to_keep=list(np.arange(1,29, dtype=np.uint8)),\n",
    "                             months='aprOct',\n",
    "                             image_suffixes=['.tif', '.tif'], gpu_id=0):\n",
    "    # Set up names of directories and paths for saving\n",
    "    if len(codes_to_keep) >= 24:\n",
    "        classes = 'all'\n",
    "    elif codes_to_keep == list(range(1,10)) + [11,14,15,16,17,18,19,24,25,26,27]:\n",
    "        classes = 'notreecrops'\n",
    "    elif codes_to_keep == list(range(1,10)) + [11,14,15,16,17,18,19,21,24,25,26,27]:\n",
    "        classes = 'notreeexceptvines'\n",
    "    else:\n",
    "        classes = 'subset'\n",
    "    folder_name = model_type+'_'+months+'_class-'+classes+'_nfilter-'+str(n_filters)+'_bs-'+str(batch_size)+'_lr-'+str(lr)\n",
    "    if lr_decay:\n",
    "        folder_name = folder_name + '_lrdecay-'+str(lr_decay)\n",
    "    save_path = os.path.join('../experiments/france/sherrie10k/', folder_name)\n",
    "    if not os.path.isdir(save_path):\n",
    "        os.makedirs(save_path)\n",
    "    save_model_name = os.path.join(save_path, \"model.params\")\n",
    "\n",
    "    # Visdom\n",
    "    env_name = 'france_sherrie10k_'+folder_name\n",
    "    vis = visdom.Visdom(port=8097, env=env_name)\n",
    "    \n",
    "    # Arguments\n",
    "    args = {}\n",
    "    args['batch_size'] = batch_size\n",
    "    args['gpu'] = gpu_id\n",
    "    args['visdom'] = vis\n",
    "    args['visdom_every'] = 20\n",
    "\n",
    "    # Load train/val/test splits\n",
    "    splits_df = pd.read_csv(splits_path)\n",
    "    splits_df['image_id'] = splits_df['image_id'].astype(str).str.zfill(5)\n",
    "    train_names = splits_df[splits_df['fold'] == 'train']['image_id'].values\n",
    "    val_names = splits_df[splits_df['fold'] == 'val']['image_id'].values\n",
    "    test_names = splits_df[splits_df['fold'] == 'test']['image_id'].values\n",
    "    \n",
    "    train_dataset = PlanetMultitempWithClasses(\n",
    "        image_directories, label_directory, fold='train', image_names=train_names, classes=codes_to_keep,\n",
    "        image_suffixes=image_suffixes, label_suffix='.png', n_channels=3)\n",
    "    val_dataset = PlanetMultitempWithClasses(\n",
    "        image_directories, label_directory, fold='val', image_names=val_names, classes=codes_to_keep,\n",
    "        image_suffixes=image_suffixes, label_suffix='.png', n_channels=3)\n",
    "    test_dataset = PlanetMultitempWithClasses(\n",
    "        image_directories, label_directory, fold='test', image_names=test_names, classes=codes_to_keep,\n",
    "        image_suffixes=image_suffixes, label_suffix='.png', n_channels=3)\n",
    "\n",
    "    train_dataloader = gluon.data.DataLoader(train_dataset, batch_size=batch_size)\n",
    "    val_dataloader = gluon.data.DataLoader(val_dataset, batch_size=batch_size)\n",
    "    test_dataloader = gluon.data.DataLoader(test_dataset, batch_size=batch_size)\n",
    "\n",
    "    # define model\n",
    "    if model_type == 'resunet-d6':\n",
    "        model = ResUNet_d6(_nfilters_init=n_filters, _NClasses=n_classes,\n",
    "                           hsv_outchannels=len(image_directories)*3)\n",
    "    elif model_type == 'resunet-d7':\n",
    "        model = ResUNet_d7(_nfilters_init=n_filters, _NClasses=n_classes,\n",
    "                           hsv_outchannels=len(image_directories)*3)\n",
    "    model.initialize()\n",
    "    model.hybridize()\n",
    "    model.collect_params().reset_ctx(mx.gpu(args['gpu']))\n",
    "\n",
    "    # define loss function\n",
    "    tanimoto_dual = Tanimoto_wth_dual()\n",
    "    if lr_decay:\n",
    "        schedule = mx.lr_scheduler.FactorScheduler(step=1, factor=lr_decay)\n",
    "        adam_optimizer = mx.optimizer.Adam(learning_rate=lr, lr_scheduler=schedule)\n",
    "    else:\n",
    "        adam_optimizer = mx.optimizer.Adam(learning_rate=lr)\n",
    "    trainer = gluon.Trainer(model.collect_params(), optimizer=adam_optimizer)\n",
    "\n",
    "    # containers for metrics to log\n",
    "    train_metrics = {'train_loss': [], 'train_acc': [], 'train_f1': [], \n",
    "                     'train_mcc': [], 'train_dice': []}\n",
    "    val_metrics = {'val_loss': [], 'val_acc': [], 'val_f1': [], \n",
    "                   'val_mcc': [], 'val_dice': []}\n",
    "    best_mcc = 0.0\n",
    "\n",
    "    # training loop\n",
    "    for epoch in range(1, epochs+1):\n",
    "\n",
    "        # training set\n",
    "        train_loss, train_accuracy, train_f1, train_mcc, train_dice = train_model(\n",
    "            train_dataloader, model, tanimoto_dual, trainer, epoch, args)\n",
    "\n",
    "        # training set metrics\n",
    "        train_loss_avg = train_loss / len(train_dataset)\n",
    "        train_metrics['train_loss'].append(train_loss_avg)\n",
    "        train_metrics['train_acc'].append(train_accuracy.get()[1])\n",
    "        train_metrics['train_f1'].append(train_f1.get()[1])\n",
    "        train_metrics['train_mcc'].append(train_mcc.get()[1])\n",
    "        train_metrics['train_dice'].append(train_dice.get()[1])\n",
    "\n",
    "        # validation set\n",
    "        val_loss, val_accuracy, val_f1, val_mcc, val_dice = evaluate_model(\n",
    "            val_dataloader, model, tanimoto_dual, epoch, args)\n",
    "\n",
    "        # validation set metrics\n",
    "        val_loss_avg = val_loss / len(val_dataset)\n",
    "        val_metrics['val_loss'].append(val_loss_avg)\n",
    "        val_metrics['val_acc'].append(val_accuracy.get()[1])\n",
    "        val_metrics['val_f1'].append(val_f1.get()[1])\n",
    "        val_metrics['val_mcc'].append(val_mcc.get()[1])\n",
    "        val_metrics['val_dice'].append(val_dice.get()[1])\n",
    "\n",
    "        print(\"Epoch {}:\".format(epoch))\n",
    "        print(\"    Train loss {:0.3f}, accuracy {:0.3f}, F1-score {:0.3f}, MCC: {:0.3f}, Dice: {:0.3f}\".format(\n",
    "            train_loss_avg, train_accuracy.get()[1], train_f1.get()[1], train_mcc.get()[1], train_dice.get()[1]))\n",
    "        print(\"    Val loss {:0.3f}, accuracy {:0.3f}, F1-score {:0.3f}, MCC: {:0.3f}, Dice: {:0.3f}\".format(\n",
    "            val_loss_avg, val_accuracy.get()[1], val_f1.get()[1], val_mcc.get()[1], val_dice.get()[1]))\n",
    "\n",
    "        # save model based on best MCC metric\n",
    "        if val_mcc.get()[1] > best_mcc:\n",
    "            model.save_parameters(save_model_name)\n",
    "            best_mcc = val_mcc.get()[1]\n",
    "\n",
    "        # save metrics\n",
    "        metrics = pd.concat([pd.DataFrame(train_metrics), pd.DataFrame(val_metrics)], axis=1)\n",
    "        metrics.to_csv(os.path.join(save_path, 'metrics.csv'), index=False)\n",
    "\n",
    "        # visdom\n",
    "        vis.line(Y=np.stack([train_metrics['train_loss'], val_metrics['val_loss']], axis=1), \n",
    "                 X=np.arange(1, epoch+1), win=\"Loss\", \n",
    "                 opts=dict(legend=['train loss', 'val loss'], markers=False, title=\"Losses\",\n",
    "                           xlabel=\"Epoch\", ylabel=\"Loss\")\n",
    "                )\n",
    "        vis.line(Y=np.stack([train_metrics['train_mcc'], val_metrics['val_mcc']], axis=1), \n",
    "                 X=np.arange(1, epoch+1), win=\"MCC\", \n",
    "                 opts=dict(legend=['train MCC', 'val MCC'], markers=False, title=\"MCC\",\n",
    "                           xlabel=\"Epoch\", ylabel=\"MCC\")\n",
    "                )\n"
   ]
  },
  {
   "cell_type": "code",
   "execution_count": 11,
   "metadata": {
    "scrolled": true
   },
   "outputs": [
    {
     "name": "stderr",
     "output_type": "stream",
     "text": [
      "Setting up a new session...\n"
     ]
    },
    {
     "name": "stdout",
     "output_type": "stream",
     "text": [
      "depth:= 0, nfilters: 16\n",
      "depth:= 1, nfilters: 32\n",
      "depth:= 2, nfilters: 64\n",
      "depth:= 3, nfilters: 128\n",
      "depth:= 4, nfilters: 256\n",
      "depth:= 5, nfilters: 512\n",
      "depth:= 6, nfilters: 256\n",
      "depth:= 7, nfilters: 128\n",
      "depth:= 8, nfilters: 64\n",
      "depth:= 9, nfilters: 32\n",
      "depth:= 10, nfilters: 16\n"
     ]
    },
    {
     "name": "stderr",
     "output_type": "stream",
     "text": [
      "Training epoch 1: 100%|██████████| 856/856 [11:08<00:00,  1.28it/s]\n",
      "Validation epoch 1: 100%|██████████| 196/196 [01:59<00:00,  1.65it/s]\n"
     ]
    },
    {
     "name": "stdout",
     "output_type": "stream",
     "text": [
      "Epoch 1:\n",
      "    Train loss 0.226, accuracy 0.786, F1-score 0.744, MCC: 0.571, Dice: 0.744\n",
      "    Val loss 0.184, accuracy 0.837, F1-score 0.817, MCC: 0.664, Dice: 0.817\n"
     ]
    },
    {
     "name": "stderr",
     "output_type": "stream",
     "text": [
      "Training epoch 2: 100%|██████████| 856/856 [11:50<00:00,  1.20it/s]\n",
      "Training epoch 3: 100%|██████████| 856/856 [10:59<00:00,  1.30it/s]s]\n",
      "Validation epoch 3: 100%|██████████| 196/196 [01:54<00:00,  1.72it/s]\n"
     ]
    },
    {
     "name": "stdout",
     "output_type": "stream",
     "text": [
      "Epoch 3:\n",
      "    Train loss 0.187, accuracy 0.824, F1-score 0.789, MCC: 0.643, Dice: 0.789\n",
      "    Val loss 0.165, accuracy 0.857, F1-score 0.842, MCC: 0.707, Dice: 0.842\n"
     ]
    },
    {
     "name": "stderr",
     "output_type": "stream",
     "text": [
      "Training epoch 4: 100%|██████████| 856/856 [11:00<00:00,  1.30it/s]\n",
      "Validation epoch 4: 100%|██████████| 196/196 [01:55<00:00,  1.70it/s]\n"
     ]
    },
    {
     "name": "stdout",
     "output_type": "stream",
     "text": [
      "Epoch 4:\n",
      "    Train loss 0.180, accuracy 0.832, F1-score 0.799, MCC: 0.658, Dice: 0.799\n",
      "    Val loss 0.163, accuracy 0.857, F1-score 0.841, MCC: 0.707, Dice: 0.841\n"
     ]
    },
    {
     "name": "stderr",
     "output_type": "stream",
     "text": [
      "Training epoch 18: 100%|██████████| 856/856 [11:01<00:00,  1.29it/s]\n",
      "Validation epoch 18: 100%|██████████| 196/196 [01:54<00:00,  1.71it/s]\n",
      "Training epoch 19:   0%|          | 0/856 [00:00<?, ?it/s]"
     ]
    },
    {
     "name": "stdout",
     "output_type": "stream",
     "text": [
      "Epoch 18:\n",
      "    Train loss 0.161, accuracy 0.855, F1-score 0.826, MCC: 0.700, Dice: 0.826\n",
      "    Val loss 0.151, accuracy 0.869, F1-score 0.855, MCC: 0.732, Dice: 0.855\n"
     ]
    },
    {
     "name": "stderr",
     "output_type": "stream",
     "text": [
      "Training epoch 28: 100%|██████████| 856/856 [10:58<00:00,  1.30it/s]\n",
      "Validation epoch 28: 100%|██████████| 196/196 [01:56<00:00,  1.69it/s]\n",
      "Training epoch 29:   0%|          | 0/856 [00:00<?, ?it/s]"
     ]
    },
    {
     "name": "stdout",
     "output_type": "stream",
     "text": [
      "Epoch 28:\n",
      "    Train loss 0.156, accuracy 0.861, F1-score 0.834, MCC: 0.711, Dice: 0.834\n",
      "    Val loss 0.149, accuracy 0.873, F1-score 0.855, MCC: 0.737, Dice: 0.855\n"
     ]
    },
    {
     "name": "stderr",
     "output_type": "stream",
     "text": [
      "Training epoch 29: 100%|██████████| 856/856 [10:54<00:00,  1.31it/s]\n",
      "Validation epoch 29: 100%|██████████| 196/196 [01:53<00:00,  1.73it/s]\n",
      "Training epoch 30:   0%|          | 0/856 [00:00<?, ?it/s]"
     ]
    },
    {
     "name": "stdout",
     "output_type": "stream",
     "text": [
      "Epoch 29:\n",
      "    Train loss 0.156, accuracy 0.861, F1-score 0.835, MCC: 0.712, Dice: 0.835\n",
      "    Val loss 0.148, accuracy 0.872, F1-score 0.858, MCC: 0.738, Dice: 0.858\n"
     ]
    },
    {
     "name": "stderr",
     "output_type": "stream",
     "text": [
      "Training epoch 30: 100%|██████████| 856/856 [10:59<00:00,  1.30it/s]\n",
      "Validation epoch 30:  96%|█████████▋| 189/196 [01:52<00:03,  2.03it/s]IOPub message rate exceeded.\n",
      "The notebook server will temporarily stop sending output\n",
      "to the client in order to avoid crashing it.\n",
      "To change this limit, set the config variable\n",
      "`--NotebookApp.iopub_msg_rate_limit`.\n",
      "\n",
      "Current values:\n",
      "NotebookApp.iopub_msg_rate_limit=1000.0 (msgs/sec)\n",
      "NotebookApp.rate_limit_window=3.0 (secs)\n",
      "\n",
      "Training epoch 34: 100%|██████████| 856/856 [09:22<00:00,  1.52it/s]\n",
      "Validation epoch 34: 100%|██████████| 196/196 [01:38<00:00,  1.99it/s]\n",
      "Training epoch 35:   0%|          | 0/856 [00:00<?, ?it/s]"
     ]
    },
    {
     "name": "stdout",
     "output_type": "stream",
     "text": [
      "Epoch 34:\n",
      "    Train loss 0.155, accuracy 0.863, F1-score 0.837, MCC: 0.716, Dice: 0.837\n",
      "    Val loss 0.149, accuracy 0.869, F1-score 0.853, MCC: 0.731, Dice: 0.853\n"
     ]
    },
    {
     "name": "stderr",
     "output_type": "stream",
     "text": [
      "Training epoch 35: 100%|██████████| 856/856 [09:22<00:00,  1.52it/s]\n",
      "Validation epoch 35: 100%|██████████| 196/196 [01:39<00:00,  1.97it/s]\n",
      "Training epoch 36:   0%|          | 0/856 [00:00<?, ?it/s]"
     ]
    },
    {
     "name": "stdout",
     "output_type": "stream",
     "text": [
      "Epoch 35:\n",
      "    Train loss 0.155, accuracy 0.865, F1-score 0.839, MCC: 0.719, Dice: 0.839\n",
      "    Val loss 0.148, accuracy 0.871, F1-score 0.855, MCC: 0.735, Dice: 0.855\n"
     ]
    },
    {
     "name": "stderr",
     "output_type": "stream",
     "text": [
      "Training epoch 36: 100%|██████████| 856/856 [09:23<00:00,  1.52it/s]\n",
      "Validation epoch 36: 100%|██████████| 196/196 [01:39<00:00,  1.98it/s]\n",
      "Training epoch 37:   0%|          | 0/856 [00:00<?, ?it/s]"
     ]
    },
    {
     "name": "stdout",
     "output_type": "stream",
     "text": [
      "Epoch 36:\n",
      "    Train loss 0.154, accuracy 0.865, F1-score 0.839, MCC: 0.720, Dice: 0.839\n",
      "    Val loss 0.148, accuracy 0.873, F1-score 0.853, MCC: 0.737, Dice: 0.853\n"
     ]
    },
    {
     "name": "stderr",
     "output_type": "stream",
     "text": [
      "Training epoch 37:   4%|▍         | 36/856 [00:24<07:34,  1.81it/s]IOPub message rate exceeded.\n",
      "The notebook server will temporarily stop sending output\n",
      "to the client in order to avoid crashing it.\n",
      "To change this limit, set the config variable\n",
      "`--NotebookApp.iopub_msg_rate_limit`.\n",
      "\n",
      "Current values:\n",
      "NotebookApp.iopub_msg_rate_limit=1000.0 (msgs/sec)\n",
      "NotebookApp.rate_limit_window=3.0 (secs)\n",
      "\n",
      "Training epoch 52: 100%|██████████| 856/856 [09:20<00:00,  1.53it/s]]\n",
      "Validation epoch 52: 100%|██████████| 196/196 [01:37<00:00,  2.01it/s]\n"
     ]
    },
    {
     "name": "stdout",
     "output_type": "stream",
     "text": [
      "Epoch 52:\n",
      "    Train loss 0.151, accuracy 0.870, F1-score 0.845, MCC: 0.728, Dice: 0.845\n",
      "    Val loss 0.145, accuracy 0.877, F1-score 0.862, MCC: 0.746, Dice: 0.862\n"
     ]
    },
    {
     "name": "stderr",
     "output_type": "stream",
     "text": [
      "Training epoch 53: 100%|██████████| 856/856 [09:20<00:00,  1.53it/s]\n",
      "Validation epoch 53: 100%|██████████| 196/196 [01:38<00:00,  2.00it/s]\n",
      "Training epoch 54:   0%|          | 0/856 [00:00<?, ?it/s]"
     ]
    },
    {
     "name": "stdout",
     "output_type": "stream",
     "text": [
      "Epoch 53:\n",
      "    Train loss 0.151, accuracy 0.868, F1-score 0.844, MCC: 0.726, Dice: 0.844\n",
      "    Val loss 0.146, accuracy 0.873, F1-score 0.858, MCC: 0.740, Dice: 0.858\n"
     ]
    },
    {
     "name": "stderr",
     "output_type": "stream",
     "text": [
      "Training epoch 54: 100%|██████████| 856/856 [09:20<00:00,  1.53it/s]\n",
      "Validation epoch 54: 100%|██████████| 196/196 [01:39<00:00,  1.97it/s]\n",
      "Training epoch 55:   0%|          | 0/856 [00:00<?, ?it/s]"
     ]
    },
    {
     "name": "stdout",
     "output_type": "stream",
     "text": [
      "Epoch 54:\n",
      "    Train loss 0.150, accuracy 0.870, F1-score 0.846, MCC: 0.729, Dice: 0.846\n",
      "    Val loss 0.146, accuracy 0.875, F1-score 0.859, MCC: 0.743, Dice: 0.859\n"
     ]
    },
    {
     "name": "stderr",
     "output_type": "stream",
     "text": [
      "Training epoch 55:   1%|          | 6/856 [00:05<13:26,  1.05it/s]IOPub message rate exceeded.\n",
      "The notebook server will temporarily stop sending output\n",
      "to the client in order to avoid crashing it.\n",
      "To change this limit, set the config variable\n",
      "`--NotebookApp.iopub_msg_rate_limit`.\n",
      "\n",
      "Current values:\n",
      "NotebookApp.iopub_msg_rate_limit=1000.0 (msgs/sec)\n",
      "NotebookApp.rate_limit_window=3.0 (secs)\n",
      "\n",
      "Training epoch 59: 100%|██████████| 856/856 [09:21<00:00,  1.52it/s]\n",
      "Validation epoch 59: 100%|██████████| 196/196 [01:38<00:00,  1.98it/s]\n",
      "Training epoch 60:   0%|          | 0/856 [00:00<?, ?it/s]"
     ]
    },
    {
     "name": "stdout",
     "output_type": "stream",
     "text": [
      "Epoch 59:\n",
      "    Train loss 0.149, accuracy 0.871, F1-score 0.847, MCC: 0.731, Dice: 0.847\n",
      "    Val loss 0.145, accuracy 0.874, F1-score 0.859, MCC: 0.741, Dice: 0.859\n"
     ]
    },
    {
     "name": "stderr",
     "output_type": "stream",
     "text": [
      "Training epoch 60: 100%|██████████| 856/856 [09:21<00:00,  1.52it/s]\n",
      "Validation epoch 60: 100%|██████████| 196/196 [01:39<00:00,  1.98it/s]\n",
      "Training epoch 61:   0%|          | 0/856 [00:00<?, ?it/s]"
     ]
    },
    {
     "name": "stdout",
     "output_type": "stream",
     "text": [
      "Epoch 60:\n",
      "    Train loss 0.149, accuracy 0.871, F1-score 0.848, MCC: 0.732, Dice: 0.848\n",
      "    Val loss 0.147, accuracy 0.872, F1-score 0.858, MCC: 0.738, Dice: 0.858\n"
     ]
    },
    {
     "name": "stderr",
     "output_type": "stream",
     "text": [
      "Training epoch 61: 100%|██████████| 856/856 [09:21<00:00,  1.53it/s]\n",
      "Validation epoch 61: 100%|██████████| 196/196 [01:38<00:00,  1.98it/s]\n",
      "Training epoch 62:   0%|          | 0/856 [00:00<?, ?it/s]"
     ]
    },
    {
     "name": "stdout",
     "output_type": "stream",
     "text": [
      "Epoch 61:\n",
      "    Train loss 0.150, accuracy 0.871, F1-score 0.847, MCC: 0.731, Dice: 0.847\n",
      "    Val loss 0.145, accuracy 0.877, F1-score 0.863, MCC: 0.747, Dice: 0.863\n"
     ]
    },
    {
     "name": "stderr",
     "output_type": "stream",
     "text": [
      "Training epoch 62: 100%|██████████| 856/856 [09:30<00:00,  1.50it/s]\n",
      "Validation epoch 62: 100%|██████████| 196/196 [01:40<00:00,  1.96it/s]\n",
      "Training epoch 63:   0%|          | 0/856 [00:00<?, ?it/s]"
     ]
    },
    {
     "name": "stdout",
     "output_type": "stream",
     "text": [
      "Epoch 62:\n",
      "    Train loss 0.149, accuracy 0.871, F1-score 0.849, MCC: 0.733, Dice: 0.849\n",
      "    Val loss 0.147, accuracy 0.866, F1-score 0.853, MCC: 0.730, Dice: 0.853\n"
     ]
    },
    {
     "name": "stderr",
     "output_type": "stream",
     "text": [
      "Training epoch 63: 100%|██████████| 856/856 [09:26<00:00,  1.51it/s]\n",
      "Validation epoch 63: 100%|██████████| 196/196 [01:40<00:00,  1.95it/s]\n",
      "Training epoch 64:   0%|          | 0/856 [00:00<?, ?it/s]"
     ]
    },
    {
     "name": "stdout",
     "output_type": "stream",
     "text": [
      "Epoch 63:\n",
      "    Train loss 0.149, accuracy 0.873, F1-score 0.850, MCC: 0.735, Dice: 0.850\n",
      "    Val loss 0.147, accuracy 0.871, F1-score 0.855, MCC: 0.735, Dice: 0.855\n"
     ]
    },
    {
     "name": "stderr",
     "output_type": "stream",
     "text": [
      "Training epoch 64: 100%|██████████| 856/856 [10:08<00:00,  1.41it/s]\n",
      "Validation epoch 64: 100%|██████████| 196/196 [01:55<00:00,  1.69it/s]\n",
      "Training epoch 65:   0%|          | 0/856 [00:00<?, ?it/s]"
     ]
    },
    {
     "name": "stdout",
     "output_type": "stream",
     "text": [
      "Epoch 64:\n",
      "    Train loss 0.148, accuracy 0.872, F1-score 0.849, MCC: 0.734, Dice: 0.849\n",
      "    Val loss 0.146, accuracy 0.874, F1-score 0.860, MCC: 0.742, Dice: 0.860\n"
     ]
    },
    {
     "name": "stderr",
     "output_type": "stream",
     "text": [
      "Training epoch 65: 100%|██████████| 856/856 [10:36<00:00,  1.34it/s]\n",
      "Validation epoch 65: 100%|██████████| 196/196 [01:55<00:00,  1.70it/s]\n"
     ]
    },
    {
     "name": "stdout",
     "output_type": "stream",
     "text": [
      "Epoch 65:\n",
      "    Train loss 0.149, accuracy 0.872, F1-score 0.849, MCC: 0.733, Dice: 0.849\n",
      "    Val loss 0.144, accuracy 0.878, F1-score 0.865, MCC: 0.750, Dice: 0.865\n"
     ]
    },
    {
     "name": "stderr",
     "output_type": "stream",
     "text": [
      "Training epoch 66: 100%|██████████| 856/856 [10:36<00:00,  1.34it/s]\n",
      "Validation epoch 66: 100%|██████████| 196/196 [01:57<00:00,  1.66it/s]\n",
      "Training epoch 67:   0%|          | 0/856 [00:00<?, ?it/s]"
     ]
    },
    {
     "name": "stdout",
     "output_type": "stream",
     "text": [
      "Epoch 66:\n",
      "    Train loss 0.149, accuracy 0.872, F1-score 0.848, MCC: 0.733, Dice: 0.848\n",
      "    Val loss 0.145, accuracy 0.878, F1-score 0.864, MCC: 0.749, Dice: 0.864\n"
     ]
    },
    {
     "name": "stderr",
     "output_type": "stream",
     "text": [
      "Training epoch 67: 100%|██████████| 856/856 [10:41<00:00,  1.33it/s]\n",
      "Validation epoch 67: 100%|██████████| 196/196 [01:53<00:00,  1.72it/s]\n",
      "Training epoch 68:   0%|          | 0/856 [00:00<?, ?it/s]"
     ]
    },
    {
     "name": "stdout",
     "output_type": "stream",
     "text": [
      "Epoch 67:\n",
      "    Train loss 0.149, accuracy 0.872, F1-score 0.848, MCC: 0.733, Dice: 0.848\n",
      "    Val loss 0.145, accuracy 0.875, F1-score 0.861, MCC: 0.744, Dice: 0.861\n"
     ]
    },
    {
     "name": "stderr",
     "output_type": "stream",
     "text": [
      "Training epoch 68: 100%|██████████| 856/856 [10:30<00:00,  1.36it/s]\n",
      "Validation epoch 68: 100%|██████████| 196/196 [01:54<00:00,  1.71it/s]\n",
      "Training epoch 69:   0%|          | 0/856 [00:00<?, ?it/s]"
     ]
    },
    {
     "name": "stdout",
     "output_type": "stream",
     "text": [
      "Epoch 68:\n",
      "    Train loss 0.147, accuracy 0.874, F1-score 0.851, MCC: 0.737, Dice: 0.851\n",
      "    Val loss 0.144, accuracy 0.879, F1-score 0.863, MCC: 0.749, Dice: 0.863\n"
     ]
    },
    {
     "name": "stderr",
     "output_type": "stream",
     "text": [
      "Training epoch 69: 100%|██████████| 856/856 [10:47<00:00,  1.32it/s]\n",
      "Validation epoch 69: 100%|██████████| 196/196 [01:54<00:00,  1.71it/s]\n",
      "Training epoch 70:   0%|          | 0/856 [00:00<?, ?it/s]"
     ]
    },
    {
     "name": "stdout",
     "output_type": "stream",
     "text": [
      "Epoch 69:\n",
      "    Train loss 0.148, accuracy 0.874, F1-score 0.851, MCC: 0.737, Dice: 0.851\n",
      "    Val loss 0.145, accuracy 0.875, F1-score 0.862, MCC: 0.744, Dice: 0.862\n"
     ]
    },
    {
     "name": "stderr",
     "output_type": "stream",
     "text": [
      "Training epoch 70: 100%|██████████| 856/856 [10:30<00:00,  1.36it/s]\n",
      "Validation epoch 70: 100%|██████████| 196/196 [01:54<00:00,  1.72it/s]\n",
      "Training epoch 71:   0%|          | 0/856 [00:00<?, ?it/s]"
     ]
    },
    {
     "name": "stdout",
     "output_type": "stream",
     "text": [
      "Epoch 70:\n",
      "    Train loss 0.147, accuracy 0.874, F1-score 0.851, MCC: 0.737, Dice: 0.851\n",
      "    Val loss 0.144, accuracy 0.878, F1-score 0.864, MCC: 0.750, Dice: 0.864\n"
     ]
    },
    {
     "name": "stderr",
     "output_type": "stream",
     "text": [
      "Training epoch 71: 100%|██████████| 856/856 [10:44<00:00,  1.33it/s]\n",
      "Validation epoch 71: 100%|██████████| 196/196 [01:56<00:00,  1.69it/s]\n",
      "Training epoch 72:   0%|          | 0/856 [00:00<?, ?it/s]"
     ]
    },
    {
     "name": "stdout",
     "output_type": "stream",
     "text": [
      "Epoch 71:\n",
      "    Train loss 0.148, accuracy 0.873, F1-score 0.850, MCC: 0.735, Dice: 0.850\n",
      "    Val loss 0.144, accuracy 0.875, F1-score 0.862, MCC: 0.745, Dice: 0.862\n"
     ]
    },
    {
     "name": "stderr",
     "output_type": "stream",
     "text": [
      "Training epoch 72: 100%|██████████| 856/856 [10:35<00:00,  1.35it/s]\n",
      "Validation epoch 72: 100%|██████████| 196/196 [01:55<00:00,  1.70it/s]\n",
      "Training epoch 73:   0%|          | 0/856 [00:00<?, ?it/s]"
     ]
    },
    {
     "name": "stdout",
     "output_type": "stream",
     "text": [
      "Epoch 72:\n",
      "    Train loss 0.148, accuracy 0.873, F1-score 0.850, MCC: 0.736, Dice: 0.850\n",
      "    Val loss 0.144, accuracy 0.875, F1-score 0.863, MCC: 0.746, Dice: 0.863\n"
     ]
    },
    {
     "name": "stderr",
     "output_type": "stream",
     "text": [
      "Training epoch 73: 100%|██████████| 856/856 [10:34<00:00,  1.35it/s]\n",
      "Validation epoch 73: 100%|██████████| 196/196 [01:54<00:00,  1.71it/s]\n"
     ]
    },
    {
     "name": "stdout",
     "output_type": "stream",
     "text": [
      "Epoch 73:\n",
      "    Train loss 0.148, accuracy 0.874, F1-score 0.851, MCC: 0.737, Dice: 0.851\n",
      "    Val loss 0.142, accuracy 0.882, F1-score 0.866, MCC: 0.755, Dice: 0.866\n"
     ]
    },
    {
     "name": "stderr",
     "output_type": "stream",
     "text": [
      "Training epoch 74: 100%|██████████| 856/856 [10:44<00:00,  1.33it/s]\n",
      "Validation epoch 74: 100%|██████████| 196/196 [01:55<00:00,  1.69it/s]\n",
      "Training epoch 75:   0%|          | 0/856 [00:00<?, ?it/s]"
     ]
    },
    {
     "name": "stdout",
     "output_type": "stream",
     "text": [
      "Epoch 74:\n",
      "    Train loss 0.147, accuracy 0.874, F1-score 0.851, MCC: 0.737, Dice: 0.851\n",
      "    Val loss 0.144, accuracy 0.875, F1-score 0.860, MCC: 0.743, Dice: 0.860\n"
     ]
    },
    {
     "name": "stderr",
     "output_type": "stream",
     "text": [
      "Training epoch 75: 100%|██████████| 856/856 [10:29<00:00,  1.36it/s]\n",
      "Validation epoch 75: 100%|██████████| 196/196 [01:54<00:00,  1.71it/s]\n",
      "Training epoch 76:   0%|          | 0/856 [00:00<?, ?it/s]"
     ]
    },
    {
     "name": "stdout",
     "output_type": "stream",
     "text": [
      "Epoch 75:\n",
      "    Train loss 0.147, accuracy 0.874, F1-score 0.851, MCC: 0.737, Dice: 0.851\n",
      "    Val loss 0.144, accuracy 0.877, F1-score 0.863, MCC: 0.747, Dice: 0.863\n"
     ]
    },
    {
     "name": "stderr",
     "output_type": "stream",
     "text": [
      "Training epoch 76: 100%|██████████| 856/856 [10:47<00:00,  1.32it/s]\n",
      "Validation epoch 76: 100%|██████████| 196/196 [01:53<00:00,  1.72it/s]\n",
      "Training epoch 77:   0%|          | 0/856 [00:00<?, ?it/s]"
     ]
    },
    {
     "name": "stdout",
     "output_type": "stream",
     "text": [
      "Epoch 76:\n",
      "    Train loss 0.147, accuracy 0.874, F1-score 0.851, MCC: 0.738, Dice: 0.851\n",
      "    Val loss 0.142, accuracy 0.881, F1-score 0.865, MCC: 0.753, Dice: 0.865\n"
     ]
    },
    {
     "name": "stderr",
     "output_type": "stream",
     "text": [
      "Training epoch 77: 100%|██████████| 856/856 [10:32<00:00,  1.35it/s]\n",
      "Validation epoch 77: 100%|██████████| 196/196 [01:56<00:00,  1.68it/s]\n",
      "Training epoch 78:   0%|          | 0/856 [00:00<?, ?it/s]"
     ]
    },
    {
     "name": "stdout",
     "output_type": "stream",
     "text": [
      "Epoch 77:\n",
      "    Train loss 0.147, accuracy 0.874, F1-score 0.851, MCC: 0.738, Dice: 0.851\n",
      "    Val loss 0.148, accuracy 0.871, F1-score 0.858, MCC: 0.737, Dice: 0.858\n"
     ]
    },
    {
     "name": "stderr",
     "output_type": "stream",
     "text": [
      "Training epoch 78: 100%|██████████| 856/856 [10:36<00:00,  1.35it/s]\n",
      "Validation epoch 78: 100%|██████████| 196/196 [01:53<00:00,  1.72it/s]\n"
     ]
    },
    {
     "name": "stdout",
     "output_type": "stream",
     "text": [
      "Epoch 78:\n",
      "    Train loss 0.147, accuracy 0.875, F1-score 0.852, MCC: 0.739, Dice: 0.852\n",
      "    Val loss 0.141, accuracy 0.883, F1-score 0.867, MCC: 0.757, Dice: 0.867\n"
     ]
    },
    {
     "name": "stderr",
     "output_type": "stream",
     "text": [
      "Training epoch 79: 100%|██████████| 856/856 [10:45<00:00,  1.33it/s]\n",
      "Validation epoch 79: 100%|██████████| 196/196 [01:54<00:00,  1.71it/s]\n",
      "Training epoch 80:   0%|          | 0/856 [00:00<?, ?it/s]"
     ]
    },
    {
     "name": "stdout",
     "output_type": "stream",
     "text": [
      "Epoch 79:\n",
      "    Train loss 0.147, accuracy 0.875, F1-score 0.852, MCC: 0.739, Dice: 0.852\n",
      "    Val loss 0.144, accuracy 0.876, F1-score 0.862, MCC: 0.746, Dice: 0.862\n"
     ]
    },
    {
     "name": "stderr",
     "output_type": "stream",
     "text": [
      "Training epoch 80: 100%|██████████| 856/856 [10:32<00:00,  1.35it/s]\n",
      "Validation epoch 80: 100%|██████████| 196/196 [01:53<00:00,  1.73it/s]\n",
      "Training epoch 81:   0%|          | 0/856 [00:00<?, ?it/s]"
     ]
    },
    {
     "name": "stdout",
     "output_type": "stream",
     "text": [
      "Epoch 80:\n",
      "    Train loss 0.146, accuracy 0.876, F1-score 0.853, MCC: 0.740, Dice: 0.853\n",
      "    Val loss 0.142, accuracy 0.883, F1-score 0.868, MCC: 0.757, Dice: 0.868\n"
     ]
    },
    {
     "name": "stderr",
     "output_type": "stream",
     "text": [
      "Training epoch 81: 100%|██████████| 856/856 [10:47<00:00,  1.32it/s]\n",
      "Validation epoch 81: 100%|██████████| 196/196 [01:53<00:00,  1.73it/s]\n",
      "Training epoch 82:   0%|          | 0/856 [00:00<?, ?it/s]"
     ]
    },
    {
     "name": "stdout",
     "output_type": "stream",
     "text": [
      "Epoch 81:\n",
      "    Train loss 0.147, accuracy 0.875, F1-score 0.852, MCC: 0.739, Dice: 0.852\n",
      "    Val loss 0.144, accuracy 0.876, F1-score 0.861, MCC: 0.746, Dice: 0.861\n"
     ]
    },
    {
     "name": "stderr",
     "output_type": "stream",
     "text": [
      "Training epoch 82: 100%|██████████| 856/856 [10:31<00:00,  1.35it/s]\n",
      "Validation epoch 82: 100%|██████████| 196/196 [01:53<00:00,  1.73it/s]\n",
      "Training epoch 83:   0%|          | 0/856 [00:00<?, ?it/s]"
     ]
    },
    {
     "name": "stdout",
     "output_type": "stream",
     "text": [
      "Epoch 82:\n",
      "    Train loss 0.146, accuracy 0.875, F1-score 0.852, MCC: 0.739, Dice: 0.852\n",
      "    Val loss 0.145, accuracy 0.878, F1-score 0.864, MCC: 0.749, Dice: 0.864\n"
     ]
    },
    {
     "name": "stderr",
     "output_type": "stream",
     "text": [
      "Training epoch 83: 100%|██████████| 856/856 [10:43<00:00,  1.33it/s]\n",
      "Validation epoch 83: 100%|██████████| 196/196 [01:55<00:00,  1.70it/s]\n",
      "Training epoch 84:   0%|          | 0/856 [00:00<?, ?it/s]"
     ]
    },
    {
     "name": "stdout",
     "output_type": "stream",
     "text": [
      "Epoch 83:\n",
      "    Train loss 0.146, accuracy 0.876, F1-score 0.853, MCC: 0.740, Dice: 0.853\n",
      "    Val loss 0.143, accuracy 0.879, F1-score 0.865, MCC: 0.752, Dice: 0.865\n"
     ]
    },
    {
     "name": "stderr",
     "output_type": "stream",
     "text": [
      "Training epoch 84: 100%|██████████| 856/856 [10:41<00:00,  1.34it/s]\n",
      "Validation epoch 84: 100%|██████████| 196/196 [01:54<00:00,  1.70it/s]\n",
      "Training epoch 85:   0%|          | 0/856 [00:00<?, ?it/s]"
     ]
    },
    {
     "name": "stdout",
     "output_type": "stream",
     "text": [
      "Epoch 84:\n",
      "    Train loss 0.146, accuracy 0.877, F1-score 0.854, MCC: 0.742, Dice: 0.854\n",
      "    Val loss 0.143, accuracy 0.878, F1-score 0.864, MCC: 0.749, Dice: 0.864\n"
     ]
    },
    {
     "name": "stderr",
     "output_type": "stream",
     "text": [
      "Training epoch 85: 100%|██████████| 856/856 [10:30<00:00,  1.36it/s]\n",
      "Validation epoch 85: 100%|██████████| 196/196 [01:53<00:00,  1.72it/s]\n"
     ]
    },
    {
     "name": "stdout",
     "output_type": "stream",
     "text": [
      "Epoch 85:\n",
      "    Train loss 0.146, accuracy 0.876, F1-score 0.854, MCC: 0.741, Dice: 0.854\n",
      "    Val loss 0.141, accuracy 0.883, F1-score 0.867, MCC: 0.758, Dice: 0.867\n"
     ]
    },
    {
     "name": "stderr",
     "output_type": "stream",
     "text": [
      "Training epoch 86: 100%|██████████| 856/856 [10:43<00:00,  1.33it/s]\n",
      "Validation epoch 86: 100%|██████████| 196/196 [01:56<00:00,  1.69it/s]\n",
      "Training epoch 87:   0%|          | 0/856 [00:00<?, ?it/s]"
     ]
    },
    {
     "name": "stdout",
     "output_type": "stream",
     "text": [
      "Epoch 86:\n",
      "    Train loss 0.146, accuracy 0.876, F1-score 0.854, MCC: 0.742, Dice: 0.854\n",
      "    Val loss 0.143, accuracy 0.882, F1-score 0.866, MCC: 0.755, Dice: 0.866\n"
     ]
    },
    {
     "name": "stderr",
     "output_type": "stream",
     "text": [
      "Training epoch 87: 100%|██████████| 856/856 [10:34<00:00,  1.35it/s]\n",
      "Validation epoch 87: 100%|██████████| 196/196 [01:54<00:00,  1.71it/s]\n",
      "Training epoch 88:   0%|          | 0/856 [00:00<?, ?it/s]"
     ]
    },
    {
     "name": "stdout",
     "output_type": "stream",
     "text": [
      "Epoch 87:\n",
      "    Train loss 0.145, accuracy 0.877, F1-score 0.855, MCC: 0.743, Dice: 0.855\n",
      "    Val loss 0.143, accuracy 0.877, F1-score 0.862, MCC: 0.748, Dice: 0.862\n"
     ]
    },
    {
     "name": "stderr",
     "output_type": "stream",
     "text": [
      "Training epoch 88: 100%|██████████| 856/856 [10:43<00:00,  1.33it/s]\n",
      "Validation epoch 88: 100%|██████████| 196/196 [01:56<00:00,  1.68it/s]\n",
      "Training epoch 89:   0%|          | 0/856 [00:00<?, ?it/s]"
     ]
    },
    {
     "name": "stdout",
     "output_type": "stream",
     "text": [
      "Epoch 88:\n",
      "    Train loss 0.145, accuracy 0.877, F1-score 0.855, MCC: 0.742, Dice: 0.855\n",
      "    Val loss 0.143, accuracy 0.878, F1-score 0.863, MCC: 0.749, Dice: 0.863\n"
     ]
    },
    {
     "name": "stderr",
     "output_type": "stream",
     "text": [
      "Training epoch 89: 100%|██████████| 856/856 [10:37<00:00,  1.34it/s]\n",
      "Validation epoch 89: 100%|██████████| 196/196 [01:55<00:00,  1.70it/s]\n",
      "Training epoch 90:   0%|          | 0/856 [00:00<?, ?it/s]"
     ]
    },
    {
     "name": "stdout",
     "output_type": "stream",
     "text": [
      "Epoch 89:\n",
      "    Train loss 0.145, accuracy 0.877, F1-score 0.855, MCC: 0.744, Dice: 0.855\n",
      "    Val loss 0.142, accuracy 0.882, F1-score 0.865, MCC: 0.755, Dice: 0.865\n"
     ]
    },
    {
     "name": "stderr",
     "output_type": "stream",
     "text": [
      "Training epoch 90: 100%|██████████| 856/856 [10:35<00:00,  1.35it/s]\n",
      "Validation epoch 90: 100%|██████████| 196/196 [01:55<00:00,  1.70it/s]\n",
      "Training epoch 91:   0%|          | 0/856 [00:00<?, ?it/s]"
     ]
    },
    {
     "name": "stdout",
     "output_type": "stream",
     "text": [
      "Epoch 90:\n",
      "    Train loss 0.145, accuracy 0.876, F1-score 0.853, MCC: 0.741, Dice: 0.853\n",
      "    Val loss 0.141, accuracy 0.881, F1-score 0.866, MCC: 0.755, Dice: 0.866\n"
     ]
    },
    {
     "name": "stderr",
     "output_type": "stream",
     "text": [
      "Training epoch 91: 100%|██████████| 856/856 [10:46<00:00,  1.32it/s]\n",
      "Validation epoch 91: 100%|██████████| 196/196 [01:52<00:00,  1.75it/s]\n",
      "Training epoch 92:   0%|          | 0/856 [00:00<?, ?it/s]"
     ]
    },
    {
     "name": "stdout",
     "output_type": "stream",
     "text": [
      "Epoch 91:\n",
      "    Train loss 0.146, accuracy 0.876, F1-score 0.854, MCC: 0.741, Dice: 0.854\n",
      "    Val loss 0.145, accuracy 0.875, F1-score 0.860, MCC: 0.744, Dice: 0.860\n"
     ]
    },
    {
     "name": "stderr",
     "output_type": "stream",
     "text": [
      "Training epoch 92: 100%|██████████| 856/856 [10:33<00:00,  1.35it/s]\n",
      "Validation epoch 92: 100%|██████████| 196/196 [01:56<00:00,  1.69it/s]\n",
      "Training epoch 93:   0%|          | 0/856 [00:00<?, ?it/s]"
     ]
    },
    {
     "name": "stdout",
     "output_type": "stream",
     "text": [
      "Epoch 92:\n",
      "    Train loss 0.145, accuracy 0.877, F1-score 0.855, MCC: 0.743, Dice: 0.855\n",
      "    Val loss 0.143, accuracy 0.876, F1-score 0.862, MCC: 0.748, Dice: 0.862\n"
     ]
    },
    {
     "name": "stderr",
     "output_type": "stream",
     "text": [
      "Training epoch 93: 100%|██████████| 856/856 [10:44<00:00,  1.33it/s]\n",
      "Validation epoch 93: 100%|██████████| 196/196 [01:54<00:00,  1.71it/s]\n",
      "Training epoch 94:   0%|          | 0/856 [00:00<?, ?it/s]"
     ]
    },
    {
     "name": "stdout",
     "output_type": "stream",
     "text": [
      "Epoch 93:\n",
      "    Train loss 0.145, accuracy 0.878, F1-score 0.856, MCC: 0.745, Dice: 0.856\n",
      "    Val loss 0.144, accuracy 0.877, F1-score 0.864, MCC: 0.748, Dice: 0.864\n"
     ]
    },
    {
     "name": "stderr",
     "output_type": "stream",
     "text": [
      "Training epoch 94: 100%|██████████| 856/856 [10:36<00:00,  1.35it/s]\n",
      "Validation epoch 94: 100%|██████████| 196/196 [01:54<00:00,  1.72it/s]\n",
      "Training epoch 95:   0%|          | 0/856 [00:00<?, ?it/s]"
     ]
    },
    {
     "name": "stdout",
     "output_type": "stream",
     "text": [
      "Epoch 94:\n",
      "    Train loss 0.145, accuracy 0.877, F1-score 0.855, MCC: 0.744, Dice: 0.855\n",
      "    Val loss 0.142, accuracy 0.882, F1-score 0.867, MCC: 0.756, Dice: 0.867\n"
     ]
    },
    {
     "name": "stderr",
     "output_type": "stream",
     "text": [
      "Training epoch 95: 100%|██████████| 856/856 [10:43<00:00,  1.33it/s]\n",
      "Validation epoch 95: 100%|██████████| 196/196 [01:54<00:00,  1.71it/s]\n"
     ]
    },
    {
     "name": "stdout",
     "output_type": "stream",
     "text": [
      "Epoch 95:\n",
      "    Train loss 0.144, accuracy 0.878, F1-score 0.857, MCC: 0.746, Dice: 0.857\n",
      "    Val loss 0.142, accuracy 0.884, F1-score 0.867, MCC: 0.759, Dice: 0.867\n"
     ]
    },
    {
     "name": "stderr",
     "output_type": "stream",
     "text": [
      "Training epoch 96: 100%|██████████| 856/856 [10:45<00:00,  1.33it/s]\n",
      "Validation epoch 96: 100%|██████████| 196/196 [01:55<00:00,  1.70it/s]\n",
      "Training epoch 97:   0%|          | 0/856 [00:00<?, ?it/s]"
     ]
    },
    {
     "name": "stdout",
     "output_type": "stream",
     "text": [
      "Epoch 96:\n",
      "    Train loss 0.145, accuracy 0.877, F1-score 0.855, MCC: 0.743, Dice: 0.855\n",
      "    Val loss 0.145, accuracy 0.874, F1-score 0.860, MCC: 0.742, Dice: 0.860\n"
     ]
    },
    {
     "name": "stderr",
     "output_type": "stream",
     "text": [
      "Training epoch 97: 100%|██████████| 856/856 [10:34<00:00,  1.35it/s]\n",
      "Validation epoch 97: 100%|██████████| 196/196 [01:53<00:00,  1.72it/s]\n",
      "Training epoch 98:   0%|          | 0/856 [00:00<?, ?it/s]"
     ]
    },
    {
     "name": "stdout",
     "output_type": "stream",
     "text": [
      "Epoch 97:\n",
      "    Train loss 0.144, accuracy 0.879, F1-score 0.857, MCC: 0.747, Dice: 0.857\n",
      "    Val loss 0.143, accuracy 0.880, F1-score 0.865, MCC: 0.752, Dice: 0.865\n"
     ]
    },
    {
     "name": "stderr",
     "output_type": "stream",
     "text": [
      "Training epoch 98: 100%|██████████| 856/856 [10:44<00:00,  1.33it/s]\n",
      "Validation epoch 98: 100%|██████████| 196/196 [01:56<00:00,  1.68it/s]\n",
      "Training epoch 99:   0%|          | 0/856 [00:00<?, ?it/s]"
     ]
    },
    {
     "name": "stdout",
     "output_type": "stream",
     "text": [
      "Epoch 98:\n",
      "    Train loss 0.144, accuracy 0.878, F1-score 0.856, MCC: 0.744, Dice: 0.856\n",
      "    Val loss 0.143, accuracy 0.879, F1-score 0.863, MCC: 0.750, Dice: 0.863\n"
     ]
    },
    {
     "name": "stderr",
     "output_type": "stream",
     "text": [
      "Training epoch 99: 100%|██████████| 856/856 [10:35<00:00,  1.35it/s]\n",
      "Validation epoch 99: 100%|██████████| 196/196 [01:56<00:00,  1.69it/s]\n",
      "Training epoch 100:   0%|          | 0/856 [00:00<?, ?it/s]"
     ]
    },
    {
     "name": "stdout",
     "output_type": "stream",
     "text": [
      "Epoch 99:\n",
      "    Train loss 0.144, accuracy 0.879, F1-score 0.857, MCC: 0.747, Dice: 0.857\n",
      "    Val loss 0.142, accuracy 0.881, F1-score 0.862, MCC: 0.753, Dice: 0.862\n"
     ]
    },
    {
     "name": "stderr",
     "output_type": "stream",
     "text": [
      "Training epoch 100: 100%|██████████| 856/856 [10:45<00:00,  1.33it/s]\n",
      "Validation epoch 100: 100%|██████████| 196/196 [01:56<00:00,  1.68it/s]"
     ]
    },
    {
     "name": "stdout",
     "output_type": "stream",
     "text": [
      "Epoch 100:\n",
      "    Train loss 0.144, accuracy 0.878, F1-score 0.856, MCC: 0.745, Dice: 0.856\n",
      "    Val loss 0.146, accuracy 0.870, F1-score 0.855, MCC: 0.735, Dice: 0.855\n"
     ]
    },
    {
     "name": "stderr",
     "output_type": "stream",
     "text": [
      "\n"
     ]
    }
   ],
   "source": [
    "# ============================ #\n",
    "# user-specified hyperparameters\n",
    "# ============================ #\n",
    "epochs = 100\n",
    "lr = 0.001\n",
    "lr_decay = None\n",
    "n_filters = 16\n",
    "batch_size = 8\n",
    "n_classes = 1\n",
    "model_type = 'resunet-d6'\n",
    "months = 'aprOct'\n",
    "codes_to_keep = list(range(1,10)) + [11,14,15,16,17,18,19,21,24,25,26,27]\n",
    "gpu_id = 3\n",
    "# ============================ #\n",
    "\n",
    "run_multitemporal_france(splits_path='../data/splits/sherrie10k_planetImagery_splits_20x20.csv',\n",
    "                         epochs=epochs, lr=lr, lr_decay=lr_decay, n_filters=n_filters, batch_size=batch_size,\n",
    "                         n_classes=n_classes, model_type=model_type,\n",
    "                         image_directories=['../data/planet/france/sherrie10k/monthly_mosaics_renamed_clipped_merged/2019_10/',\n",
    "                                            '../data/planet/france/sherrie10k/monthly_mosaics_renamed_clipped_merged/2019_04/'],\n",
    "                         label_directory='../data/planet/france/sherrie10k/extent_labels/',\n",
    "                         codes_to_keep=codes_to_keep, months=months,\n",
    "                         image_suffixes=['_2019_10.tif', '_2019_04.tif'], gpu_id=gpu_id)"
   ]
  },
  {
   "cell_type": "markdown",
   "metadata": {},
   "source": [
    "# Han and Burak"
   ]
  },
  {
   "cell_type": "code",
   "execution_count": 6,
   "metadata": {},
   "outputs": [],
   "source": [
    "def run_france(epochs=100, lr=0.001, lr_decay=None, n_filters=16, batch_size=8,\n",
    "               n_classes=1, model_type='resunet-d6', month='april', gpu_id=0):\n",
    "    \n",
    "    folder_name = model_type+'_'+month+'_nfilter-'+str(n_filters)+'_bs-'+str(batch_size)+'_lr-'+str(lr)\n",
    "    if lr_decay:\n",
    "        folder_name = folder_name + '_lrdecay-'+str(lr_decay)\n",
    "    save_path = '../experiments/france/'+folder_name\n",
    "    if not os.path.isdir(save_path):\n",
    "        os.makedirs(save_path)\n",
    "    save_model_name = os.path.join(save_path, \"model.params\")\n",
    "\n",
    "    image_directory = '../data/planet/france/'+month\n",
    "    label_directory = '../data/planet/france/labels/'\n",
    "\n",
    "    env_name = 'france_'+folder_name\n",
    "    vis = visdom.Visdom(port=8097, env=env_name)\n",
    "    \n",
    "    args = {}\n",
    "    args['batch_size'] = batch_size\n",
    "    args['gpu'] = gpu_id\n",
    "    args['visdom'] = vis\n",
    "    args['visdom_every'] = 10\n",
    "\n",
    "    # Load train/val/test splits\n",
    "    splits_df = pd.read_csv('../data/splits/hanAndBurak_planetImagery_splits.csv')\n",
    "    train_names = splits_df[splits_df['fold'] == 'train']['image_id'].values\n",
    "    val_names = splits_df[splits_df['fold'] == 'val']['image_id'].values\n",
    "    test_names = splits_df[splits_df['fold'] == 'test']['image_id'].values\n",
    "\n",
    "    train_dataset = PlanetDataset(image_directory, label_directory, image_names=train_names)\n",
    "    val_dataset = PlanetDataset(image_directory, label_directory, image_names=val_names)\n",
    "    test_dataset = PlanetDataset(image_directory, label_directory, image_names=test_names)\n",
    "\n",
    "    train_dataloader = gluon.data.DataLoader(train_dataset, batch_size=batch_size)\n",
    "    val_dataloader = gluon.data.DataLoader(val_dataset, batch_size=batch_size)\n",
    "    test_dataloader = gluon.data.DataLoader(test_dataset, batch_size=batch_size)\n",
    "\n",
    "    # define model\n",
    "    if model_type == 'resunet-d6':\n",
    "        model = ResUNet_d6(_nfilters_init=n_filters, _NClasses=n_classes)\n",
    "    elif model_type == 'resunet-d7':\n",
    "        model = ResUNet_d7(_nfilters_init=n_filters, _NClasses=n_classes)\n",
    "    model.initialize()\n",
    "    model.hybridize()\n",
    "    model.collect_params().reset_ctx(mx.gpu(args['gpu']))\n",
    "\n",
    "    # define loss function\n",
    "    tanimoto_dual = Tanimoto_wth_dual()\n",
    "    if lr_decay:\n",
    "        schedule = mx.lr_scheduler.FactorScheduler(step=1, factor=lr_decay)\n",
    "        adam_optimizer = mx.optimizer.Adam(learning_rate=lr, lr_scheduler=schedule)\n",
    "    else:\n",
    "        adam_optimizer = mx.optimizer.Adam(learning_rate=lr)\n",
    "    trainer = gluon.Trainer(model.collect_params(), optimizer=adam_optimizer)\n",
    "\n",
    "    # containers for metrics to log\n",
    "    train_metrics = {'train_loss': [], 'train_acc': [], 'train_f1': [], \n",
    "                     'train_mcc': [], 'train_dice': []}\n",
    "    val_metrics = {'val_loss': [], 'val_acc': [], 'val_f1': [], \n",
    "                   'val_mcc': [], 'val_dice': []}\n",
    "    best_mcc = 0.0\n",
    "\n",
    "    # training loop\n",
    "    for epoch in range(1, epochs+1):\n",
    "\n",
    "        # training set\n",
    "        train_loss, train_accuracy, train_f1, train_mcc, train_dice = train_model(\n",
    "            train_dataloader, model, tanimoto_dual, trainer, epoch, args)\n",
    "\n",
    "        # training set metrics\n",
    "        train_loss_avg = train_loss / len(train_dataset)\n",
    "        train_metrics['train_loss'].append(train_loss_avg)\n",
    "        train_metrics['train_acc'].append(train_accuracy.get()[1])\n",
    "        train_metrics['train_f1'].append(train_f1.get()[1])\n",
    "        train_metrics['train_mcc'].append(train_mcc.get()[1])\n",
    "        train_metrics['train_dice'].append(train_dice.get()[1])\n",
    "\n",
    "        # validation set\n",
    "        val_loss, val_accuracy, val_f1, val_mcc, val_dice = evaluate_model(\n",
    "            val_dataloader, model, tanimoto_dual, epoch, args)\n",
    "\n",
    "        # validation set metrics\n",
    "        val_loss_avg = val_loss / len(val_dataset)\n",
    "        val_metrics['val_loss'].append(val_loss_avg)\n",
    "        val_metrics['val_acc'].append(val_accuracy.get()[1])\n",
    "        val_metrics['val_f1'].append(val_f1.get()[1])\n",
    "        val_metrics['val_mcc'].append(val_mcc.get()[1])\n",
    "        val_metrics['val_dice'].append(val_dice.get()[1])\n",
    "\n",
    "        print(\"Epoch {}:\".format(epoch))\n",
    "        print(\"    Train loss {:0.3f}, accuracy {:0.3f}, F1-score {:0.3f}, MCC: {:0.3f}, Dice: {:0.3f}\".format(\n",
    "            train_loss_avg, train_accuracy.get()[1], train_f1.get()[1], train_mcc.get()[1], train_dice.get()[1]))\n",
    "        print(\"    Val loss {:0.3f}, accuracy {:0.3f}, F1-score {:0.3f}, MCC: {:0.3f}, Dice: {:0.3f}\".format(\n",
    "            val_loss_avg, val_accuracy.get()[1], val_f1.get()[1], val_mcc.get()[1], val_dice.get()[1]))\n",
    "\n",
    "        # save model based on best MCC metric\n",
    "        if val_mcc.get()[1] > best_mcc:\n",
    "            model.save_parameters(save_model_name)\n",
    "            best_mcc = val_mcc.get()[1]\n",
    "\n",
    "        # save metrics\n",
    "        metrics = pd.concat([pd.DataFrame(train_metrics), pd.DataFrame(val_metrics)], axis=1)\n",
    "        metrics.to_csv(os.path.join(save_path, 'metrics.csv'), index=False)\n",
    "\n",
    "        # visdom\n",
    "        vis.line(Y=np.stack([train_metrics['train_loss'], val_metrics['val_loss']], axis=1), \n",
    "                 X=np.arange(1, epoch+1), win=\"Loss\", \n",
    "                 opts=dict(legend=['train loss', 'val loss'], markers=False, title=\"Losses\",\n",
    "                           xlabel=\"Epoch\", ylabel=\"Loss\")\n",
    "                )\n",
    "        vis.line(Y=np.stack([train_metrics['train_mcc'], val_metrics['val_mcc']], axis=1), \n",
    "                 X=np.arange(1, epoch+1), win=\"MCC\", \n",
    "                 opts=dict(legend=['train MCC', 'val MCC'], markers=False, title=\"MCC\",\n",
    "                           xlabel=\"Epoch\", ylabel=\"MCC\")\n",
    "                )\n"
   ]
  },
  {
   "cell_type": "code",
   "execution_count": 7,
   "metadata": {
    "scrolled": true
   },
   "outputs": [
    {
     "name": "stderr",
     "output_type": "stream",
     "text": [
      "Setting up a new session...\n"
     ]
    },
    {
     "name": "stdout",
     "output_type": "stream",
     "text": [
      "depth:= 0, nfilters: 16\n",
      "depth:= 1, nfilters: 32\n",
      "depth:= 2, nfilters: 64\n",
      "depth:= 3, nfilters: 128\n",
      "depth:= 4, nfilters: 256\n",
      "depth:= 5, nfilters: 512\n",
      "depth:= 6, nfilters: 1024\n",
      "depth:= 7, nfilters: 512\n",
      "depth:= 8, nfilters: 256\n",
      "depth:= 9, nfilters: 128\n",
      "depth:= 10, nfilters: 64\n",
      "depth:= 11, nfilters: 32\n",
      "depth:= 12, nfilters: 16\n"
     ]
    },
    {
     "name": "stderr",
     "output_type": "stream",
     "text": [
      "Training epoch 1: 100%|██████████| 155/155 [02:30<00:00,  1.03it/s]\n",
      "Validation epoch 1: 100%|██████████| 51/51 [00:40<00:00,  1.26it/s]\n"
     ]
    },
    {
     "name": "stdout",
     "output_type": "stream",
     "text": [
      "Epoch 1:\n",
      "    Train loss 0.265, accuracy 0.656, F1-score 0.685, MCC: 0.308, Dice: 0.685\n",
      "    Val loss 0.324, accuracy 0.493, F1-score 0.145, MCC: 0.126, Dice: 0.145\n"
     ]
    },
    {
     "name": "stderr",
     "output_type": "stream",
     "text": [
      "Training epoch 2: 100%|██████████| 155/155 [02:21<00:00,  1.09it/s]\n",
      "Validation epoch 2: 100%|██████████| 51/51 [00:36<00:00,  1.39it/s]\n"
     ]
    },
    {
     "name": "stdout",
     "output_type": "stream",
     "text": [
      "Epoch 2:\n",
      "    Train loss 0.241, accuracy 0.704, F1-score 0.732, MCC: 0.403, Dice: 0.732\n",
      "    Val loss 0.248, accuracy 0.690, F1-score 0.646, MCC: 0.414, Dice: 0.646\n"
     ]
    },
    {
     "name": "stderr",
     "output_type": "stream",
     "text": [
      "Training epoch 3: 100%|██████████| 155/155 [02:29<00:00,  1.04it/s]\n",
      "Validation epoch 3: 100%|██████████| 51/51 [00:38<00:00,  1.33it/s]\n",
      "Training epoch 4:   0%|          | 0/155 [00:00<?, ?it/s]"
     ]
    },
    {
     "name": "stdout",
     "output_type": "stream",
     "text": [
      "Epoch 3:\n",
      "    Train loss 0.231, accuracy 0.721, F1-score 0.747, MCC: 0.440, Dice: 0.747\n",
      "    Val loss 0.280, accuracy 0.566, F1-score 0.356, MCC: 0.264, Dice: 0.356\n"
     ]
    },
    {
     "name": "stderr",
     "output_type": "stream",
     "text": [
      "Training epoch 4: 100%|██████████| 155/155 [02:28<00:00,  1.04it/s]\n",
      "Validation epoch 4: 100%|██████████| 51/51 [00:40<00:00,  1.26it/s]\n"
     ]
    },
    {
     "name": "stdout",
     "output_type": "stream",
     "text": [
      "Epoch 4:\n",
      "    Train loss 0.225, accuracy 0.734, F1-score 0.756, MCC: 0.467, Dice: 0.756\n",
      "    Val loss 0.225, accuracy 0.728, F1-score 0.728, MCC: 0.455, Dice: 0.728\n"
     ]
    },
    {
     "name": "stderr",
     "output_type": "stream",
     "text": [
      "Training epoch 5: 100%|██████████| 155/155 [02:33<00:00,  1.01it/s]\n",
      "Validation epoch 5: 100%|██████████| 51/51 [00:38<00:00,  1.33it/s]\n",
      "Training epoch 6:   0%|          | 0/155 [00:00<?, ?it/s]"
     ]
    },
    {
     "name": "stdout",
     "output_type": "stream",
     "text": [
      "Epoch 5:\n",
      "    Train loss 0.220, accuracy 0.742, F1-score 0.762, MCC: 0.482, Dice: 0.762\n",
      "    Val loss 0.240, accuracy 0.689, F1-score 0.622, MCC: 0.437, Dice: 0.622\n"
     ]
    },
    {
     "name": "stderr",
     "output_type": "stream",
     "text": [
      "Training epoch 6: 100%|██████████| 155/155 [02:30<00:00,  1.03it/s]\n",
      "Validation epoch 6: 100%|██████████| 51/51 [00:39<00:00,  1.29it/s]\n"
     ]
    },
    {
     "name": "stdout",
     "output_type": "stream",
     "text": [
      "Epoch 6:\n",
      "    Train loss 0.216, accuracy 0.749, F1-score 0.769, MCC: 0.498, Dice: 0.769\n",
      "    Val loss 0.220, accuracy 0.738, F1-score 0.723, MCC: 0.492, Dice: 0.723\n"
     ]
    },
    {
     "name": "stderr",
     "output_type": "stream",
     "text": [
      "Training epoch 7: 100%|██████████| 155/155 [02:39<00:00,  1.03s/it]\n",
      "Validation epoch 7: 100%|██████████| 51/51 [00:43<00:00,  1.17it/s]\n"
     ]
    },
    {
     "name": "stdout",
     "output_type": "stream",
     "text": [
      "Epoch 7:\n",
      "    Train loss 0.214, accuracy 0.756, F1-score 0.775, MCC: 0.511, Dice: 0.775\n",
      "    Val loss 0.213, accuracy 0.756, F1-score 0.762, MCC: 0.509, Dice: 0.762\n"
     ]
    },
    {
     "name": "stderr",
     "output_type": "stream",
     "text": [
      "Training epoch 8: 100%|██████████| 155/155 [02:42<00:00,  1.05s/it]\n",
      "Validation epoch 8: 100%|██████████| 51/51 [00:41<00:00,  1.22it/s]\n",
      "Training epoch 9:   0%|          | 0/155 [00:00<?, ?it/s]"
     ]
    },
    {
     "name": "stdout",
     "output_type": "stream",
     "text": [
      "Epoch 8:\n",
      "    Train loss 0.213, accuracy 0.758, F1-score 0.777, MCC: 0.517, Dice: 0.777\n",
      "    Val loss 0.223, accuracy 0.729, F1-score 0.699, MCC: 0.484, Dice: 0.699\n"
     ]
    },
    {
     "name": "stderr",
     "output_type": "stream",
     "text": [
      "Training epoch 9: 100%|██████████| 155/155 [02:44<00:00,  1.06s/it]\n",
      "Validation epoch 9: 100%|██████████| 51/51 [00:43<00:00,  1.17it/s]\n",
      "Training epoch 10:   0%|          | 0/155 [00:00<?, ?it/s]"
     ]
    },
    {
     "name": "stdout",
     "output_type": "stream",
     "text": [
      "Epoch 9:\n",
      "    Train loss 0.211, accuracy 0.764, F1-score 0.782, MCC: 0.527, Dice: 0.782\n",
      "    Val loss 0.231, accuracy 0.706, F1-score 0.656, MCC: 0.454, Dice: 0.656\n"
     ]
    },
    {
     "name": "stderr",
     "output_type": "stream",
     "text": [
      "Training epoch 10: 100%|██████████| 155/155 [02:50<00:00,  1.10s/it]\n",
      "Validation epoch 10: 100%|██████████| 51/51 [00:45<00:00,  1.13it/s]\n",
      "Training epoch 11:   0%|          | 0/155 [00:00<?, ?it/s]"
     ]
    },
    {
     "name": "stdout",
     "output_type": "stream",
     "text": [
      "Epoch 10:\n",
      "    Train loss 0.209, accuracy 0.767, F1-score 0.785, MCC: 0.533, Dice: 0.785\n",
      "    Val loss 0.217, accuracy 0.741, F1-score 0.722, MCC: 0.500, Dice: 0.722\n"
     ]
    },
    {
     "name": "stderr",
     "output_type": "stream",
     "text": [
      "Training epoch 11: 100%|██████████| 155/155 [02:53<00:00,  1.12s/it]\n",
      "Validation epoch 11: 100%|██████████| 51/51 [00:43<00:00,  1.16it/s]\n",
      "Training epoch 12:   0%|          | 0/155 [00:00<?, ?it/s]"
     ]
    },
    {
     "name": "stdout",
     "output_type": "stream",
     "text": [
      "Epoch 11:\n",
      "    Train loss 0.208, accuracy 0.770, F1-score 0.788, MCC: 0.538, Dice: 0.788\n",
      "    Val loss 0.218, accuracy 0.733, F1-score 0.704, MCC: 0.487, Dice: 0.704\n"
     ]
    },
    {
     "name": "stderr",
     "output_type": "stream",
     "text": [
      "Training epoch 12: 100%|██████████| 155/155 [02:53<00:00,  1.12s/it]\n",
      "Validation epoch 12: 100%|██████████| 51/51 [00:44<00:00,  1.14it/s]\n",
      "Training epoch 13:   0%|          | 0/155 [00:00<?, ?it/s]"
     ]
    },
    {
     "name": "stdout",
     "output_type": "stream",
     "text": [
      "Epoch 12:\n",
      "    Train loss 0.206, accuracy 0.772, F1-score 0.790, MCC: 0.542, Dice: 0.790\n",
      "    Val loss 0.231, accuracy 0.683, F1-score 0.604, MCC: 0.428, Dice: 0.604\n"
     ]
    },
    {
     "name": "stderr",
     "output_type": "stream",
     "text": [
      "Training epoch 13: 100%|██████████| 155/155 [02:51<00:00,  1.11s/it]\n",
      "Validation epoch 13: 100%|██████████| 51/51 [00:46<00:00,  1.10it/s]\n",
      "Training epoch 14:   0%|          | 0/155 [00:00<?, ?it/s]"
     ]
    },
    {
     "name": "stdout",
     "output_type": "stream",
     "text": [
      "Epoch 13:\n",
      "    Train loss 0.206, accuracy 0.775, F1-score 0.792, MCC: 0.547, Dice: 0.792\n",
      "    Val loss 0.212, accuracy 0.748, F1-score 0.732, MCC: 0.507, Dice: 0.732\n"
     ]
    },
    {
     "name": "stderr",
     "output_type": "stream",
     "text": [
      "Training epoch 14: 100%|██████████| 155/155 [02:52<00:00,  1.11s/it]\n",
      "Validation epoch 14: 100%|██████████| 51/51 [00:46<00:00,  1.11it/s]\n",
      "Training epoch 15:   0%|          | 0/155 [00:00<?, ?it/s]"
     ]
    },
    {
     "name": "stdout",
     "output_type": "stream",
     "text": [
      "Epoch 14:\n",
      "    Train loss 0.204, accuracy 0.776, F1-score 0.793, MCC: 0.550, Dice: 0.793\n",
      "    Val loss 0.213, accuracy 0.743, F1-score 0.728, MCC: 0.499, Dice: 0.728\n"
     ]
    },
    {
     "name": "stderr",
     "output_type": "stream",
     "text": [
      "Training epoch 15: 100%|██████████| 155/155 [02:55<00:00,  1.13s/it]\n",
      "Validation epoch 15: 100%|██████████| 51/51 [00:44<00:00,  1.13it/s]\n",
      "Training epoch 16:   0%|          | 0/155 [00:00<?, ?it/s]"
     ]
    },
    {
     "name": "stdout",
     "output_type": "stream",
     "text": [
      "Epoch 15:\n",
      "    Train loss 0.204, accuracy 0.776, F1-score 0.794, MCC: 0.549, Dice: 0.794\n",
      "    Val loss 0.215, accuracy 0.741, F1-score 0.722, MCC: 0.497, Dice: 0.722\n"
     ]
    },
    {
     "name": "stderr",
     "output_type": "stream",
     "text": [
      "Training epoch 16: 100%|██████████| 155/155 [02:50<00:00,  1.10s/it]\n",
      "Validation epoch 16: 100%|██████████| 51/51 [00:46<00:00,  1.10it/s]\n",
      "Training epoch 17:   0%|          | 0/155 [00:00<?, ?it/s]"
     ]
    },
    {
     "name": "stdout",
     "output_type": "stream",
     "text": [
      "Epoch 16:\n",
      "    Train loss 0.203, accuracy 0.777, F1-score 0.795, MCC: 0.551, Dice: 0.795\n",
      "    Val loss 0.237, accuracy 0.657, F1-score 0.546, MCC: 0.392, Dice: 0.546\n"
     ]
    },
    {
     "name": "stderr",
     "output_type": "stream",
     "text": [
      "Training epoch 17: 100%|██████████| 155/155 [02:47<00:00,  1.08s/it]\n",
      "Validation epoch 17: 100%|██████████| 51/51 [00:46<00:00,  1.09it/s]\n",
      "Training epoch 18:   0%|          | 0/155 [00:00<?, ?it/s]"
     ]
    },
    {
     "name": "stdout",
     "output_type": "stream",
     "text": [
      "Epoch 17:\n",
      "    Train loss 0.202, accuracy 0.779, F1-score 0.797, MCC: 0.555, Dice: 0.797\n",
      "    Val loss 0.231, accuracy 0.694, F1-score 0.626, MCC: 0.440, Dice: 0.626\n"
     ]
    },
    {
     "name": "stderr",
     "output_type": "stream",
     "text": [
      "Training epoch 18: 100%|██████████| 155/155 [02:52<00:00,  1.11s/it]\n",
      "Validation epoch 18: 100%|██████████| 51/51 [00:43<00:00,  1.17it/s]\n",
      "Training epoch 19:   0%|          | 0/155 [00:00<?, ?it/s]"
     ]
    },
    {
     "name": "stdout",
     "output_type": "stream",
     "text": [
      "Epoch 18:\n",
      "    Train loss 0.202, accuracy 0.780, F1-score 0.798, MCC: 0.556, Dice: 0.798\n",
      "    Val loss 0.223, accuracy 0.708, F1-score 0.653, MCC: 0.459, Dice: 0.653\n"
     ]
    },
    {
     "name": "stderr",
     "output_type": "stream",
     "text": [
      "Training epoch 19: 100%|██████████| 155/155 [02:51<00:00,  1.11s/it]\n",
      "Validation epoch 19: 100%|██████████| 51/51 [00:47<00:00,  1.08it/s]\n",
      "Training epoch 20:   0%|          | 0/155 [00:00<?, ?it/s]"
     ]
    },
    {
     "name": "stdout",
     "output_type": "stream",
     "text": [
      "Epoch 19:\n",
      "    Train loss 0.201, accuracy 0.782, F1-score 0.799, MCC: 0.559, Dice: 0.799\n",
      "    Val loss 0.233, accuracy 0.668, F1-score 0.566, MCC: 0.411, Dice: 0.566\n"
     ]
    },
    {
     "name": "stderr",
     "output_type": "stream",
     "text": [
      "Training epoch 20: 100%|██████████| 155/155 [02:52<00:00,  1.11s/it]\n",
      "Validation epoch 20: 100%|██████████| 51/51 [00:44<00:00,  1.13it/s]\n",
      "Training epoch 21:   0%|          | 0/155 [00:00<?, ?it/s]"
     ]
    },
    {
     "name": "stdout",
     "output_type": "stream",
     "text": [
      "Epoch 20:\n",
      "    Train loss 0.200, accuracy 0.784, F1-score 0.801, MCC: 0.563, Dice: 0.801\n",
      "    Val loss 0.213, accuracy 0.741, F1-score 0.725, MCC: 0.490, Dice: 0.725\n"
     ]
    },
    {
     "name": "stderr",
     "output_type": "stream",
     "text": [
      "Training epoch 21: 100%|██████████| 155/155 [02:52<00:00,  1.12s/it]\n",
      "Validation epoch 21: 100%|██████████| 51/51 [00:47<00:00,  1.08it/s]\n",
      "Training epoch 22:   0%|          | 0/155 [00:00<?, ?it/s]"
     ]
    },
    {
     "name": "stdout",
     "output_type": "stream",
     "text": [
      "Epoch 21:\n",
      "    Train loss 0.200, accuracy 0.785, F1-score 0.802, MCC: 0.564, Dice: 0.802\n",
      "    Val loss 0.219, accuracy 0.725, F1-score 0.700, MCC: 0.463, Dice: 0.700\n"
     ]
    },
    {
     "name": "stderr",
     "output_type": "stream",
     "text": [
      "Training epoch 22: 100%|██████████| 155/155 [02:55<00:00,  1.13s/it]\n",
      "Validation epoch 22: 100%|██████████| 51/51 [00:43<00:00,  1.18it/s]\n",
      "Training epoch 23:   0%|          | 0/155 [00:00<?, ?it/s]"
     ]
    },
    {
     "name": "stdout",
     "output_type": "stream",
     "text": [
      "Epoch 22:\n",
      "    Train loss 0.200, accuracy 0.784, F1-score 0.801, MCC: 0.563, Dice: 0.801\n",
      "    Val loss 0.220, accuracy 0.721, F1-score 0.681, MCC: 0.471, Dice: 0.681\n"
     ]
    },
    {
     "name": "stderr",
     "output_type": "stream",
     "text": [
      "Training epoch 23: 100%|██████████| 155/155 [02:50<00:00,  1.10s/it]\n",
      "Validation epoch 23: 100%|██████████| 51/51 [00:46<00:00,  1.09it/s]\n",
      "Training epoch 24:   0%|          | 0/155 [00:00<?, ?it/s]"
     ]
    },
    {
     "name": "stdout",
     "output_type": "stream",
     "text": [
      "Epoch 23:\n",
      "    Train loss 0.199, accuracy 0.786, F1-score 0.803, MCC: 0.566, Dice: 0.803\n",
      "    Val loss 0.212, accuracy 0.748, F1-score 0.729, MCC: 0.508, Dice: 0.729\n"
     ]
    },
    {
     "name": "stderr",
     "output_type": "stream",
     "text": [
      "Training epoch 24: 100%|██████████| 155/155 [02:55<00:00,  1.14s/it]\n",
      "Validation epoch 24: 100%|██████████| 51/51 [00:43<00:00,  1.17it/s]\n",
      "Training epoch 25:   0%|          | 0/155 [00:00<?, ?it/s]"
     ]
    },
    {
     "name": "stdout",
     "output_type": "stream",
     "text": [
      "Epoch 24:\n",
      "    Train loss 0.198, accuracy 0.789, F1-score 0.805, MCC: 0.571, Dice: 0.805\n",
      "    Val loss 0.222, accuracy 0.715, F1-score 0.666, MCC: 0.471, Dice: 0.666\n"
     ]
    },
    {
     "name": "stderr",
     "output_type": "stream",
     "text": [
      "Training epoch 25: 100%|██████████| 155/155 [02:54<00:00,  1.12s/it]\n",
      "Validation epoch 25: 100%|██████████| 51/51 [00:46<00:00,  1.09it/s]\n",
      "Training epoch 26:   0%|          | 0/155 [00:00<?, ?it/s]"
     ]
    },
    {
     "name": "stdout",
     "output_type": "stream",
     "text": [
      "Epoch 25:\n",
      "    Train loss 0.197, accuracy 0.789, F1-score 0.806, MCC: 0.571, Dice: 0.806\n",
      "    Val loss 0.221, accuracy 0.705, F1-score 0.656, MCC: 0.442, Dice: 0.656\n"
     ]
    },
    {
     "name": "stderr",
     "output_type": "stream",
     "text": [
      "Training epoch 26: 100%|██████████| 155/155 [02:52<00:00,  1.11s/it]\n",
      "Validation epoch 26: 100%|██████████| 51/51 [00:45<00:00,  1.12it/s]\n",
      "Training epoch 27:   0%|          | 0/155 [00:00<?, ?it/s]"
     ]
    },
    {
     "name": "stdout",
     "output_type": "stream",
     "text": [
      "Epoch 26:\n",
      "    Train loss 0.198, accuracy 0.790, F1-score 0.806, MCC: 0.571, Dice: 0.806\n",
      "    Val loss 0.213, accuracy 0.751, F1-score 0.745, MCC: 0.504, Dice: 0.745\n"
     ]
    },
    {
     "name": "stderr",
     "output_type": "stream",
     "text": [
      "Training epoch 27: 100%|██████████| 155/155 [02:51<00:00,  1.11s/it]\n",
      "Validation epoch 27: 100%|██████████| 51/51 [00:45<00:00,  1.12it/s]\n"
     ]
    },
    {
     "name": "stdout",
     "output_type": "stream",
     "text": [
      "Epoch 27:\n",
      "    Train loss 0.196, accuracy 0.792, F1-score 0.808, MCC: 0.575, Dice: 0.808\n",
      "    Val loss 0.209, accuracy 0.755, F1-score 0.741, MCC: 0.525, Dice: 0.741\n"
     ]
    },
    {
     "name": "stderr",
     "output_type": "stream",
     "text": [
      "Training epoch 28: 100%|██████████| 155/155 [02:51<00:00,  1.11s/it]\n",
      "Validation epoch 28: 100%|██████████| 51/51 [00:42<00:00,  1.21it/s]\n",
      "Training epoch 29:   0%|          | 0/155 [00:00<?, ?it/s]"
     ]
    },
    {
     "name": "stdout",
     "output_type": "stream",
     "text": [
      "Epoch 28:\n",
      "    Train loss 0.196, accuracy 0.794, F1-score 0.810, MCC: 0.579, Dice: 0.810\n",
      "    Val loss 0.220, accuracy 0.718, F1-score 0.682, MCC: 0.456, Dice: 0.682\n"
     ]
    },
    {
     "name": "stderr",
     "output_type": "stream",
     "text": [
      "Training epoch 29: 100%|██████████| 155/155 [02:51<00:00,  1.11s/it]\n",
      "Validation epoch 29: 100%|██████████| 51/51 [00:43<00:00,  1.16it/s]\n",
      "Training epoch 30:   0%|          | 0/155 [00:00<?, ?it/s]"
     ]
    },
    {
     "name": "stdout",
     "output_type": "stream",
     "text": [
      "Epoch 29:\n",
      "    Train loss 0.195, accuracy 0.797, F1-score 0.812, MCC: 0.582, Dice: 0.812\n",
      "    Val loss 0.221, accuracy 0.714, F1-score 0.669, MCC: 0.459, Dice: 0.669\n"
     ]
    },
    {
     "name": "stderr",
     "output_type": "stream",
     "text": [
      "Training epoch 30: 100%|██████████| 155/155 [02:53<00:00,  1.12s/it]\n",
      "Validation epoch 30: 100%|██████████| 51/51 [00:45<00:00,  1.12it/s]\n",
      "Training epoch 31:   0%|          | 0/155 [00:00<?, ?it/s]"
     ]
    },
    {
     "name": "stdout",
     "output_type": "stream",
     "text": [
      "Epoch 30:\n",
      "    Train loss 0.195, accuracy 0.794, F1-score 0.810, MCC: 0.579, Dice: 0.810\n",
      "    Val loss 0.219, accuracy 0.711, F1-score 0.671, MCC: 0.446, Dice: 0.671\n"
     ]
    },
    {
     "name": "stderr",
     "output_type": "stream",
     "text": [
      "Training epoch 31: 100%|██████████| 155/155 [02:53<00:00,  1.12s/it]\n",
      "Validation epoch 31: 100%|██████████| 51/51 [00:43<00:00,  1.16it/s]\n",
      "Training epoch 32:   0%|          | 0/155 [00:00<?, ?it/s]"
     ]
    },
    {
     "name": "stdout",
     "output_type": "stream",
     "text": [
      "Epoch 31:\n",
      "    Train loss 0.194, accuracy 0.796, F1-score 0.812, MCC: 0.582, Dice: 0.812\n",
      "    Val loss 0.222, accuracy 0.710, F1-score 0.658, MCC: 0.454, Dice: 0.658\n"
     ]
    },
    {
     "name": "stderr",
     "output_type": "stream",
     "text": [
      "Training epoch 32: 100%|██████████| 155/155 [02:51<00:00,  1.11s/it]\n",
      "Validation epoch 32: 100%|██████████| 51/51 [00:42<00:00,  1.21it/s]\n",
      "Training epoch 33:   0%|          | 0/155 [00:00<?, ?it/s]"
     ]
    },
    {
     "name": "stdout",
     "output_type": "stream",
     "text": [
      "Epoch 32:\n",
      "    Train loss 0.193, accuracy 0.799, F1-score 0.813, MCC: 0.585, Dice: 0.813\n",
      "    Val loss 0.208, accuracy 0.752, F1-score 0.749, MCC: 0.504, Dice: 0.749\n"
     ]
    },
    {
     "name": "stderr",
     "output_type": "stream",
     "text": [
      "Training epoch 33: 100%|██████████| 155/155 [02:51<00:00,  1.11s/it]\n",
      "Validation epoch 33: 100%|██████████| 51/51 [00:44<00:00,  1.15it/s]\n",
      "Training epoch 34:   0%|          | 0/155 [00:00<?, ?it/s]"
     ]
    },
    {
     "name": "stdout",
     "output_type": "stream",
     "text": [
      "Epoch 33:\n",
      "    Train loss 0.194, accuracy 0.796, F1-score 0.811, MCC: 0.581, Dice: 0.811\n",
      "    Val loss 0.214, accuracy 0.733, F1-score 0.715, MCC: 0.476, Dice: 0.715\n"
     ]
    },
    {
     "name": "stderr",
     "output_type": "stream",
     "text": [
      "Training epoch 34: 100%|██████████| 155/155 [02:51<00:00,  1.11s/it]\n",
      "Validation epoch 34: 100%|██████████| 51/51 [00:46<00:00,  1.11it/s]\n",
      "Training epoch 35:   0%|          | 0/155 [00:00<?, ?it/s]"
     ]
    },
    {
     "name": "stdout",
     "output_type": "stream",
     "text": [
      "Epoch 34:\n",
      "    Train loss 0.194, accuracy 0.798, F1-score 0.813, MCC: 0.585, Dice: 0.813\n",
      "    Val loss 0.214, accuracy 0.735, F1-score 0.723, MCC: 0.472, Dice: 0.723\n"
     ]
    },
    {
     "name": "stderr",
     "output_type": "stream",
     "text": [
      "Training epoch 35: 100%|██████████| 155/155 [02:57<00:00,  1.15s/it]\n",
      "Validation epoch 35: 100%|██████████| 51/51 [00:44<00:00,  1.15it/s]\n",
      "Training epoch 36:   0%|          | 0/155 [00:00<?, ?it/s]"
     ]
    },
    {
     "name": "stdout",
     "output_type": "stream",
     "text": [
      "Epoch 35:\n",
      "    Train loss 0.193, accuracy 0.801, F1-score 0.815, MCC: 0.588, Dice: 0.815\n",
      "    Val loss 0.214, accuracy 0.737, F1-score 0.763, MCC: 0.464, Dice: 0.763\n"
     ]
    },
    {
     "name": "stderr",
     "output_type": "stream",
     "text": [
      "Training epoch 36: 100%|██████████| 155/155 [02:55<00:00,  1.13s/it]\n",
      "Validation epoch 36: 100%|██████████| 51/51 [00:44<00:00,  1.16it/s]\n",
      "Training epoch 37:   0%|          | 0/155 [00:00<?, ?it/s]"
     ]
    },
    {
     "name": "stdout",
     "output_type": "stream",
     "text": [
      "Epoch 36:\n",
      "    Train loss 0.191, accuracy 0.803, F1-score 0.818, MCC: 0.593, Dice: 0.818\n",
      "    Val loss 0.219, accuracy 0.735, F1-score 0.715, MCC: 0.482, Dice: 0.715\n"
     ]
    },
    {
     "name": "stderr",
     "output_type": "stream",
     "text": [
      "Training epoch 37: 100%|██████████| 155/155 [02:51<00:00,  1.11s/it]\n",
      "Validation epoch 37: 100%|██████████| 51/51 [00:45<00:00,  1.13it/s]\n",
      "Training epoch 38:   0%|          | 0/155 [00:00<?, ?it/s]"
     ]
    },
    {
     "name": "stdout",
     "output_type": "stream",
     "text": [
      "Epoch 37:\n",
      "    Train loss 0.191, accuracy 0.803, F1-score 0.817, MCC: 0.592, Dice: 0.817\n",
      "    Val loss 0.225, accuracy 0.710, F1-score 0.681, MCC: 0.434, Dice: 0.681\n"
     ]
    },
    {
     "name": "stderr",
     "output_type": "stream",
     "text": [
      "Training epoch 38: 100%|██████████| 155/155 [02:52<00:00,  1.11s/it]\n",
      "Validation epoch 38: 100%|██████████| 51/51 [00:44<00:00,  1.15it/s]\n",
      "Training epoch 39:   0%|          | 0/155 [00:00<?, ?it/s]"
     ]
    },
    {
     "name": "stdout",
     "output_type": "stream",
     "text": [
      "Epoch 38:\n",
      "    Train loss 0.191, accuracy 0.804, F1-score 0.818, MCC: 0.594, Dice: 0.818\n",
      "    Val loss 0.214, accuracy 0.735, F1-score 0.731, MCC: 0.468, Dice: 0.731\n"
     ]
    },
    {
     "name": "stderr",
     "output_type": "stream",
     "text": [
      "Training epoch 39: 100%|██████████| 155/155 [02:51<00:00,  1.10s/it]\n",
      "Validation epoch 39: 100%|██████████| 51/51 [00:46<00:00,  1.09it/s]\n",
      "Training epoch 40:   0%|          | 0/155 [00:00<?, ?it/s]"
     ]
    },
    {
     "name": "stdout",
     "output_type": "stream",
     "text": [
      "Epoch 39:\n",
      "    Train loss 0.191, accuracy 0.803, F1-score 0.816, MCC: 0.591, Dice: 0.816\n",
      "    Val loss 0.208, accuracy 0.754, F1-score 0.748, MCC: 0.507, Dice: 0.748\n"
     ]
    },
    {
     "name": "stderr",
     "output_type": "stream",
     "text": [
      "Training epoch 40: 100%|██████████| 155/155 [02:52<00:00,  1.12s/it]\n",
      "Validation epoch 40: 100%|██████████| 51/51 [00:45<00:00,  1.13it/s]\n",
      "Training epoch 41:   0%|          | 0/155 [00:00<?, ?it/s]"
     ]
    },
    {
     "name": "stdout",
     "output_type": "stream",
     "text": [
      "Epoch 40:\n",
      "    Train loss 0.190, accuracy 0.805, F1-score 0.819, MCC: 0.597, Dice: 0.819\n",
      "    Val loss 0.206, accuracy 0.756, F1-score 0.743, MCC: 0.520, Dice: 0.743\n"
     ]
    },
    {
     "name": "stderr",
     "output_type": "stream",
     "text": [
      "Training epoch 41: 100%|██████████| 155/155 [02:56<00:00,  1.14s/it]\n",
      "Validation epoch 41: 100%|██████████| 51/51 [00:47<00:00,  1.08it/s]\n",
      "Training epoch 42:   0%|          | 0/155 [00:00<?, ?it/s]"
     ]
    },
    {
     "name": "stdout",
     "output_type": "stream",
     "text": [
      "Epoch 41:\n",
      "    Train loss 0.189, accuracy 0.808, F1-score 0.821, MCC: 0.600, Dice: 0.821\n",
      "    Val loss 0.206, accuracy 0.758, F1-score 0.780, MCC: 0.507, Dice: 0.780\n"
     ]
    },
    {
     "name": "stderr",
     "output_type": "stream",
     "text": [
      "Training epoch 42: 100%|██████████| 155/155 [02:54<00:00,  1.13s/it]\n",
      "Validation epoch 42: 100%|██████████| 51/51 [00:44<00:00,  1.15it/s]\n",
      "Training epoch 43:   0%|          | 0/155 [00:00<?, ?it/s]"
     ]
    },
    {
     "name": "stdout",
     "output_type": "stream",
     "text": [
      "Epoch 42:\n",
      "    Train loss 0.189, accuracy 0.807, F1-score 0.820, MCC: 0.598, Dice: 0.820\n",
      "    Val loss 0.207, accuracy 0.759, F1-score 0.773, MCC: 0.510, Dice: 0.773\n"
     ]
    },
    {
     "name": "stderr",
     "output_type": "stream",
     "text": [
      "Training epoch 43: 100%|██████████| 155/155 [02:54<00:00,  1.12s/it]\n",
      "Validation epoch 43: 100%|██████████| 51/51 [00:47<00:00,  1.07it/s]\n"
     ]
    },
    {
     "name": "stdout",
     "output_type": "stream",
     "text": [
      "Epoch 43:\n",
      "    Train loss 0.189, accuracy 0.806, F1-score 0.819, MCC: 0.598, Dice: 0.819\n",
      "    Val loss 0.201, accuracy 0.769, F1-score 0.763, MCC: 0.542, Dice: 0.763\n"
     ]
    },
    {
     "name": "stderr",
     "output_type": "stream",
     "text": [
      "Training epoch 44: 100%|██████████| 155/155 [02:52<00:00,  1.11s/it]\n",
      "Validation epoch 44: 100%|██████████| 51/51 [00:44<00:00,  1.14it/s]\n",
      "Training epoch 45:   0%|          | 0/155 [00:00<?, ?it/s]"
     ]
    },
    {
     "name": "stdout",
     "output_type": "stream",
     "text": [
      "Epoch 44:\n",
      "    Train loss 0.189, accuracy 0.807, F1-score 0.820, MCC: 0.599, Dice: 0.820\n",
      "    Val loss 0.205, accuracy 0.759, F1-score 0.782, MCC: 0.509, Dice: 0.782\n"
     ]
    },
    {
     "name": "stderr",
     "output_type": "stream",
     "text": [
      "Training epoch 45: 100%|██████████| 155/155 [02:49<00:00,  1.09s/it]\n",
      "Validation epoch 45: 100%|██████████| 51/51 [00:44<00:00,  1.15it/s]\n",
      "Training epoch 46:   0%|          | 0/155 [00:00<?, ?it/s]"
     ]
    },
    {
     "name": "stdout",
     "output_type": "stream",
     "text": [
      "Epoch 45:\n",
      "    Train loss 0.187, accuracy 0.810, F1-score 0.822, MCC: 0.604, Dice: 0.822\n",
      "    Val loss 0.210, accuracy 0.750, F1-score 0.739, MCC: 0.507, Dice: 0.739\n"
     ]
    },
    {
     "name": "stderr",
     "output_type": "stream",
     "text": [
      "Training epoch 46: 100%|██████████| 155/155 [02:51<00:00,  1.10s/it]\n",
      "Validation epoch 46: 100%|██████████| 51/51 [00:47<00:00,  1.07it/s]\n",
      "Training epoch 47:   0%|          | 0/155 [00:00<?, ?it/s]"
     ]
    },
    {
     "name": "stdout",
     "output_type": "stream",
     "text": [
      "Epoch 46:\n",
      "    Train loss 0.187, accuracy 0.810, F1-score 0.822, MCC: 0.603, Dice: 0.822\n",
      "    Val loss 0.210, accuracy 0.729, F1-score 0.685, MCC: 0.493, Dice: 0.685\n"
     ]
    },
    {
     "name": "stderr",
     "output_type": "stream",
     "text": [
      "Training epoch 47: 100%|██████████| 155/155 [02:51<00:00,  1.11s/it]\n",
      "Validation epoch 47: 100%|██████████| 51/51 [00:46<00:00,  1.10it/s]\n",
      "Training epoch 48:   0%|          | 0/155 [00:00<?, ?it/s]"
     ]
    },
    {
     "name": "stdout",
     "output_type": "stream",
     "text": [
      "Epoch 47:\n",
      "    Train loss 0.186, accuracy 0.813, F1-score 0.825, MCC: 0.610, Dice: 0.825\n",
      "    Val loss 0.206, accuracy 0.750, F1-score 0.727, MCC: 0.515, Dice: 0.727\n"
     ]
    },
    {
     "name": "stderr",
     "output_type": "stream",
     "text": [
      "Training epoch 48: 100%|██████████| 155/155 [02:54<00:00,  1.13s/it]\n",
      "Validation epoch 48: 100%|██████████| 51/51 [00:44<00:00,  1.15it/s]\n",
      "Training epoch 49:   0%|          | 0/155 [00:00<?, ?it/s]"
     ]
    },
    {
     "name": "stdout",
     "output_type": "stream",
     "text": [
      "Epoch 48:\n",
      "    Train loss 0.186, accuracy 0.812, F1-score 0.824, MCC: 0.607, Dice: 0.824\n",
      "    Val loss 0.199, accuracy 0.772, F1-score 0.771, MCC: 0.542, Dice: 0.771\n"
     ]
    },
    {
     "name": "stderr",
     "output_type": "stream",
     "text": [
      "Training epoch 49: 100%|██████████| 155/155 [02:51<00:00,  1.11s/it]\n",
      "Validation epoch 49: 100%|██████████| 51/51 [00:43<00:00,  1.17it/s]\n"
     ]
    },
    {
     "name": "stdout",
     "output_type": "stream",
     "text": [
      "Epoch 49:\n",
      "    Train loss 0.186, accuracy 0.812, F1-score 0.824, MCC: 0.607, Dice: 0.824\n",
      "    Val loss 0.199, accuracy 0.771, F1-score 0.763, MCC: 0.549, Dice: 0.763\n"
     ]
    },
    {
     "name": "stderr",
     "output_type": "stream",
     "text": [
      "Training epoch 50: 100%|██████████| 155/155 [02:53<00:00,  1.12s/it]\n",
      "Validation epoch 50: 100%|██████████| 51/51 [00:46<00:00,  1.11it/s]\n"
     ]
    },
    {
     "name": "stdout",
     "output_type": "stream",
     "text": [
      "Epoch 50:\n",
      "    Train loss 0.186, accuracy 0.813, F1-score 0.825, MCC: 0.609, Dice: 0.825\n",
      "    Val loss 0.197, accuracy 0.779, F1-score 0.780, MCC: 0.557, Dice: 0.780\n"
     ]
    },
    {
     "name": "stderr",
     "output_type": "stream",
     "text": [
      "Training epoch 51: 100%|██████████| 155/155 [02:53<00:00,  1.12s/it]\n",
      "Validation epoch 51: 100%|██████████| 51/51 [00:41<00:00,  1.22it/s]\n",
      "Training epoch 52:   0%|          | 0/155 [00:00<?, ?it/s]"
     ]
    },
    {
     "name": "stdout",
     "output_type": "stream",
     "text": [
      "Epoch 51:\n",
      "    Train loss 0.185, accuracy 0.814, F1-score 0.826, MCC: 0.611, Dice: 0.826\n",
      "    Val loss 0.211, accuracy 0.748, F1-score 0.737, MCC: 0.496, Dice: 0.737\n"
     ]
    },
    {
     "name": "stderr",
     "output_type": "stream",
     "text": [
      "Training epoch 52: 100%|██████████| 155/155 [02:54<00:00,  1.13s/it]\n",
      "Validation epoch 52: 100%|██████████| 51/51 [00:46<00:00,  1.10it/s]\n",
      "Training epoch 53:   0%|          | 0/155 [00:00<?, ?it/s]"
     ]
    },
    {
     "name": "stdout",
     "output_type": "stream",
     "text": [
      "Epoch 52:\n",
      "    Train loss 0.184, accuracy 0.814, F1-score 0.826, MCC: 0.611, Dice: 0.826\n",
      "    Val loss 0.198, accuracy 0.777, F1-score 0.776, MCC: 0.553, Dice: 0.776\n"
     ]
    },
    {
     "name": "stderr",
     "output_type": "stream",
     "text": [
      "Training epoch 53: 100%|██████████| 155/155 [02:52<00:00,  1.11s/it]\n",
      "Validation epoch 53: 100%|██████████| 51/51 [00:46<00:00,  1.09it/s]\n",
      "Training epoch 54:   0%|          | 0/155 [00:00<?, ?it/s]"
     ]
    },
    {
     "name": "stdout",
     "output_type": "stream",
     "text": [
      "Epoch 53:\n",
      "    Train loss 0.184, accuracy 0.814, F1-score 0.825, MCC: 0.611, Dice: 0.825\n",
      "    Val loss 0.203, accuracy 0.771, F1-score 0.768, MCC: 0.543, Dice: 0.768\n"
     ]
    },
    {
     "name": "stderr",
     "output_type": "stream",
     "text": [
      "Training epoch 54: 100%|██████████| 155/155 [02:49<00:00,  1.09s/it]\n",
      "Validation epoch 54: 100%|██████████| 51/51 [00:47<00:00,  1.08it/s]\n",
      "Training epoch 55:   0%|          | 0/155 [00:00<?, ?it/s]"
     ]
    },
    {
     "name": "stdout",
     "output_type": "stream",
     "text": [
      "Epoch 54:\n",
      "    Train loss 0.184, accuracy 0.815, F1-score 0.827, MCC: 0.613, Dice: 0.827\n",
      "    Val loss 0.212, accuracy 0.749, F1-score 0.731, MCC: 0.511, Dice: 0.731\n"
     ]
    },
    {
     "name": "stderr",
     "output_type": "stream",
     "text": [
      "Training epoch 55: 100%|██████████| 155/155 [02:51<00:00,  1.11s/it]\n",
      "Validation epoch 55: 100%|██████████| 51/51 [00:44<00:00,  1.14it/s]\n",
      "Training epoch 56:   0%|          | 0/155 [00:00<?, ?it/s]"
     ]
    },
    {
     "name": "stdout",
     "output_type": "stream",
     "text": [
      "Epoch 55:\n",
      "    Train loss 0.183, accuracy 0.817, F1-score 0.828, MCC: 0.616, Dice: 0.828\n",
      "    Val loss 0.199, accuracy 0.777, F1-score 0.794, MCC: 0.544, Dice: 0.794\n"
     ]
    },
    {
     "name": "stderr",
     "output_type": "stream",
     "text": [
      "Training epoch 56: 100%|██████████| 155/155 [02:50<00:00,  1.10s/it]\n",
      "Validation epoch 56: 100%|██████████| 51/51 [00:46<00:00,  1.11it/s]\n",
      "Training epoch 57:   0%|          | 0/155 [00:00<?, ?it/s]"
     ]
    },
    {
     "name": "stdout",
     "output_type": "stream",
     "text": [
      "Epoch 56:\n",
      "    Train loss 0.183, accuracy 0.815, F1-score 0.827, MCC: 0.613, Dice: 0.827\n",
      "    Val loss 0.202, accuracy 0.762, F1-score 0.742, MCC: 0.541, Dice: 0.742\n"
     ]
    },
    {
     "name": "stderr",
     "output_type": "stream",
     "text": [
      "Training epoch 57: 100%|██████████| 155/155 [02:53<00:00,  1.12s/it]\n",
      "Validation epoch 57: 100%|██████████| 51/51 [00:44<00:00,  1.14it/s]\n",
      "Training epoch 58:   0%|          | 0/155 [00:00<?, ?it/s]"
     ]
    },
    {
     "name": "stdout",
     "output_type": "stream",
     "text": [
      "Epoch 57:\n",
      "    Train loss 0.183, accuracy 0.817, F1-score 0.828, MCC: 0.616, Dice: 0.828\n",
      "    Val loss 0.201, accuracy 0.766, F1-score 0.759, MCC: 0.535, Dice: 0.759\n"
     ]
    },
    {
     "name": "stderr",
     "output_type": "stream",
     "text": [
      "Training epoch 58: 100%|██████████| 155/155 [02:53<00:00,  1.12s/it]\n",
      "Validation epoch 58: 100%|██████████| 51/51 [00:46<00:00,  1.10it/s]\n",
      "Training epoch 59:   0%|          | 0/155 [00:00<?, ?it/s]"
     ]
    },
    {
     "name": "stdout",
     "output_type": "stream",
     "text": [
      "Epoch 58:\n",
      "    Train loss 0.183, accuracy 0.816, F1-score 0.827, MCC: 0.615, Dice: 0.827\n",
      "    Val loss 0.202, accuracy 0.767, F1-score 0.756, MCC: 0.541, Dice: 0.756\n"
     ]
    },
    {
     "name": "stderr",
     "output_type": "stream",
     "text": [
      "Training epoch 59: 100%|██████████| 155/155 [02:52<00:00,  1.11s/it]\n",
      "Validation epoch 59: 100%|██████████| 51/51 [00:46<00:00,  1.10it/s]\n",
      "Training epoch 60:   0%|          | 0/155 [00:00<?, ?it/s]"
     ]
    },
    {
     "name": "stdout",
     "output_type": "stream",
     "text": [
      "Epoch 59:\n",
      "    Train loss 0.184, accuracy 0.813, F1-score 0.825, MCC: 0.610, Dice: 0.825\n",
      "    Val loss 0.196, accuracy 0.777, F1-score 0.775, MCC: 0.554, Dice: 0.775\n"
     ]
    },
    {
     "name": "stderr",
     "output_type": "stream",
     "text": [
      "Training epoch 60: 100%|██████████| 155/155 [02:50<00:00,  1.10s/it]\n",
      "Validation epoch 60: 100%|██████████| 51/51 [00:45<00:00,  1.13it/s]\n",
      "Training epoch 61:   0%|          | 0/155 [00:00<?, ?it/s]"
     ]
    },
    {
     "name": "stdout",
     "output_type": "stream",
     "text": [
      "Epoch 60:\n",
      "    Train loss 0.183, accuracy 0.816, F1-score 0.828, MCC: 0.615, Dice: 0.828\n",
      "    Val loss 0.211, accuracy 0.739, F1-score 0.711, MCC: 0.495, Dice: 0.711\n"
     ]
    },
    {
     "name": "stderr",
     "output_type": "stream",
     "text": [
      "Training epoch 61: 100%|██████████| 155/155 [02:55<00:00,  1.14s/it]\n",
      "Validation epoch 61: 100%|██████████| 51/51 [00:45<00:00,  1.12it/s]\n"
     ]
    },
    {
     "name": "stdout",
     "output_type": "stream",
     "text": [
      "Epoch 61:\n",
      "    Train loss 0.182, accuracy 0.819, F1-score 0.830, MCC: 0.619, Dice: 0.830\n",
      "    Val loss 0.196, accuracy 0.779, F1-score 0.780, MCC: 0.559, Dice: 0.780\n"
     ]
    },
    {
     "name": "stderr",
     "output_type": "stream",
     "text": [
      "Training epoch 62: 100%|██████████| 155/155 [02:53<00:00,  1.12s/it]\n",
      "Validation epoch 62: 100%|██████████| 51/51 [00:45<00:00,  1.12it/s]\n"
     ]
    },
    {
     "name": "stdout",
     "output_type": "stream",
     "text": [
      "Epoch 62:\n",
      "    Train loss 0.182, accuracy 0.818, F1-score 0.829, MCC: 0.618, Dice: 0.829\n",
      "    Val loss 0.196, accuracy 0.782, F1-score 0.780, MCC: 0.564, Dice: 0.780\n"
     ]
    },
    {
     "name": "stderr",
     "output_type": "stream",
     "text": [
      "Training epoch 63: 100%|██████████| 155/155 [02:52<00:00,  1.11s/it]\n",
      "Validation epoch 63: 100%|██████████| 51/51 [00:43<00:00,  1.16it/s]\n",
      "Training epoch 64:   0%|          | 0/155 [00:00<?, ?it/s]"
     ]
    },
    {
     "name": "stdout",
     "output_type": "stream",
     "text": [
      "Epoch 63:\n",
      "    Train loss 0.181, accuracy 0.819, F1-score 0.830, MCC: 0.620, Dice: 0.830\n",
      "    Val loss 0.209, accuracy 0.747, F1-score 0.723, MCC: 0.508, Dice: 0.723\n"
     ]
    },
    {
     "name": "stderr",
     "output_type": "stream",
     "text": [
      "Training epoch 64: 100%|██████████| 155/155 [02:52<00:00,  1.11s/it]\n",
      "Validation epoch 64: 100%|██████████| 51/51 [00:45<00:00,  1.11it/s]\n",
      "Training epoch 65:   0%|          | 0/155 [00:00<?, ?it/s]"
     ]
    },
    {
     "name": "stdout",
     "output_type": "stream",
     "text": [
      "Epoch 64:\n",
      "    Train loss 0.181, accuracy 0.819, F1-score 0.829, MCC: 0.619, Dice: 0.829\n",
      "    Val loss 0.197, accuracy 0.779, F1-score 0.781, MCC: 0.555, Dice: 0.781\n"
     ]
    },
    {
     "name": "stderr",
     "output_type": "stream",
     "text": [
      "Training epoch 65: 100%|██████████| 155/155 [02:53<00:00,  1.12s/it]\n",
      "Validation epoch 65: 100%|██████████| 51/51 [00:47<00:00,  1.07it/s]\n",
      "Training epoch 66:   0%|          | 0/155 [00:00<?, ?it/s]"
     ]
    },
    {
     "name": "stdout",
     "output_type": "stream",
     "text": [
      "Epoch 65:\n",
      "    Train loss 0.181, accuracy 0.819, F1-score 0.830, MCC: 0.620, Dice: 0.830\n",
      "    Val loss 0.197, accuracy 0.776, F1-score 0.767, MCC: 0.559, Dice: 0.767\n"
     ]
    },
    {
     "name": "stderr",
     "output_type": "stream",
     "text": [
      "Training epoch 66: 100%|██████████| 155/155 [02:53<00:00,  1.12s/it]\n",
      "Validation epoch 66: 100%|██████████| 51/51 [00:46<00:00,  1.09it/s]\n",
      "Training epoch 67:   0%|          | 0/155 [00:00<?, ?it/s]"
     ]
    },
    {
     "name": "stdout",
     "output_type": "stream",
     "text": [
      "Epoch 66:\n",
      "    Train loss 0.181, accuracy 0.820, F1-score 0.831, MCC: 0.621, Dice: 0.831\n",
      "    Val loss 0.195, accuracy 0.782, F1-score 0.783, MCC: 0.563, Dice: 0.783\n"
     ]
    },
    {
     "name": "stderr",
     "output_type": "stream",
     "text": [
      "Training epoch 67: 100%|██████████| 155/155 [02:48<00:00,  1.09s/it]\n",
      "Validation epoch 67: 100%|██████████| 51/51 [00:45<00:00,  1.12it/s]\n"
     ]
    },
    {
     "name": "stdout",
     "output_type": "stream",
     "text": [
      "Epoch 67:\n",
      "    Train loss 0.179, accuracy 0.823, F1-score 0.833, MCC: 0.626, Dice: 0.833\n",
      "    Val loss 0.194, accuracy 0.781, F1-score 0.776, MCC: 0.565, Dice: 0.776\n"
     ]
    },
    {
     "name": "stderr",
     "output_type": "stream",
     "text": [
      "Training epoch 68: 100%|██████████| 155/155 [02:52<00:00,  1.11s/it]\n",
      "Validation epoch 68: 100%|██████████| 51/51 [00:44<00:00,  1.14it/s]\n",
      "Training epoch 69:   0%|          | 0/155 [00:00<?, ?it/s]"
     ]
    },
    {
     "name": "stdout",
     "output_type": "stream",
     "text": [
      "Epoch 68:\n",
      "    Train loss 0.180, accuracy 0.821, F1-score 0.832, MCC: 0.623, Dice: 0.832\n",
      "    Val loss 0.201, accuracy 0.770, F1-score 0.796, MCC: 0.534, Dice: 0.796\n"
     ]
    },
    {
     "name": "stderr",
     "output_type": "stream",
     "text": [
      "Training epoch 69: 100%|██████████| 155/155 [02:53<00:00,  1.12s/it]\n",
      "Validation epoch 69: 100%|██████████| 51/51 [00:42<00:00,  1.19it/s]\n",
      "Training epoch 70:   0%|          | 0/155 [00:00<?, ?it/s]"
     ]
    },
    {
     "name": "stdout",
     "output_type": "stream",
     "text": [
      "Epoch 69:\n",
      "    Train loss 0.181, accuracy 0.820, F1-score 0.830, MCC: 0.620, Dice: 0.830\n",
      "    Val loss 0.201, accuracy 0.756, F1-score 0.733, MCC: 0.533, Dice: 0.733\n"
     ]
    },
    {
     "name": "stderr",
     "output_type": "stream",
     "text": [
      "Training epoch 70: 100%|██████████| 155/155 [02:50<00:00,  1.10s/it]\n",
      "Validation epoch 70: 100%|██████████| 51/51 [00:44<00:00,  1.15it/s]\n",
      "Training epoch 71:   0%|          | 0/155 [00:00<?, ?it/s]"
     ]
    },
    {
     "name": "stdout",
     "output_type": "stream",
     "text": [
      "Epoch 70:\n",
      "    Train loss 0.180, accuracy 0.822, F1-score 0.832, MCC: 0.625, Dice: 0.832\n",
      "    Val loss 0.205, accuracy 0.764, F1-score 0.775, MCC: 0.520, Dice: 0.775\n"
     ]
    },
    {
     "name": "stderr",
     "output_type": "stream",
     "text": [
      "Training epoch 71: 100%|██████████| 155/155 [02:50<00:00,  1.10s/it]\n",
      "Validation epoch 71: 100%|██████████| 51/51 [00:45<00:00,  1.11it/s]\n",
      "Training epoch 72:   0%|          | 0/155 [00:00<?, ?it/s]"
     ]
    },
    {
     "name": "stdout",
     "output_type": "stream",
     "text": [
      "Epoch 71:\n",
      "    Train loss 0.180, accuracy 0.822, F1-score 0.832, MCC: 0.625, Dice: 0.832\n",
      "    Val loss 0.202, accuracy 0.752, F1-score 0.790, MCC: 0.506, Dice: 0.790\n"
     ]
    },
    {
     "name": "stderr",
     "output_type": "stream",
     "text": [
      "Training epoch 72: 100%|██████████| 155/155 [02:55<00:00,  1.13s/it]\n",
      "Validation epoch 72: 100%|██████████| 51/51 [00:46<00:00,  1.10it/s]\n",
      "Training epoch 73:   0%|          | 0/155 [00:00<?, ?it/s]"
     ]
    },
    {
     "name": "stdout",
     "output_type": "stream",
     "text": [
      "Epoch 72:\n",
      "    Train loss 0.180, accuracy 0.821, F1-score 0.831, MCC: 0.623, Dice: 0.831\n",
      "    Val loss 0.314, accuracy 0.572, F1-score 0.706, MCC: 0.152, Dice: 0.706\n"
     ]
    },
    {
     "name": "stderr",
     "output_type": "stream",
     "text": [
      "Training epoch 73: 100%|██████████| 155/155 [02:52<00:00,  1.11s/it]\n",
      "Validation epoch 73: 100%|██████████| 51/51 [00:46<00:00,  1.11it/s]\n",
      "Training epoch 74:   0%|          | 0/155 [00:00<?, ?it/s]"
     ]
    },
    {
     "name": "stdout",
     "output_type": "stream",
     "text": [
      "Epoch 73:\n",
      "    Train loss 0.184, accuracy 0.813, F1-score 0.824, MCC: 0.610, Dice: 0.824\n",
      "    Val loss 0.211, accuracy 0.718, F1-score 0.662, MCC: 0.489, Dice: 0.662\n"
     ]
    },
    {
     "name": "stderr",
     "output_type": "stream",
     "text": [
      "Training epoch 74: 100%|██████████| 155/155 [02:52<00:00,  1.11s/it]\n",
      "Validation epoch 74: 100%|██████████| 51/51 [00:44<00:00,  1.14it/s]\n",
      "Training epoch 75:   0%|          | 0/155 [00:00<?, ?it/s]"
     ]
    },
    {
     "name": "stdout",
     "output_type": "stream",
     "text": [
      "Epoch 74:\n",
      "    Train loss 0.181, accuracy 0.819, F1-score 0.830, MCC: 0.621, Dice: 0.830\n",
      "    Val loss 0.198, accuracy 0.773, F1-score 0.764, MCC: 0.551, Dice: 0.764\n"
     ]
    },
    {
     "name": "stderr",
     "output_type": "stream",
     "text": [
      "Training epoch 75: 100%|██████████| 155/155 [02:52<00:00,  1.11s/it]\n",
      "Validation epoch 75: 100%|██████████| 51/51 [00:44<00:00,  1.14it/s]\n",
      "Training epoch 76:   0%|          | 0/155 [00:00<?, ?it/s]"
     ]
    },
    {
     "name": "stdout",
     "output_type": "stream",
     "text": [
      "Epoch 75:\n",
      "    Train loss 0.180, accuracy 0.822, F1-score 0.832, MCC: 0.625, Dice: 0.832\n",
      "    Val loss 0.198, accuracy 0.777, F1-score 0.775, MCC: 0.555, Dice: 0.775\n"
     ]
    },
    {
     "name": "stderr",
     "output_type": "stream",
     "text": [
      "Training epoch 76: 100%|██████████| 155/155 [02:54<00:00,  1.13s/it]\n",
      "Validation epoch 76: 100%|██████████| 51/51 [00:44<00:00,  1.14it/s]\n",
      "Training epoch 77:   0%|          | 0/155 [00:00<?, ?it/s]"
     ]
    },
    {
     "name": "stdout",
     "output_type": "stream",
     "text": [
      "Epoch 76:\n",
      "    Train loss 0.180, accuracy 0.821, F1-score 0.831, MCC: 0.624, Dice: 0.831\n",
      "    Val loss 0.197, accuracy 0.779, F1-score 0.778, MCC: 0.556, Dice: 0.778\n"
     ]
    },
    {
     "name": "stderr",
     "output_type": "stream",
     "text": [
      "Training epoch 77: 100%|██████████| 155/155 [02:51<00:00,  1.11s/it]\n",
      "Validation epoch 77: 100%|██████████| 51/51 [00:45<00:00,  1.12it/s]\n"
     ]
    },
    {
     "name": "stdout",
     "output_type": "stream",
     "text": [
      "Epoch 77:\n",
      "    Train loss 0.180, accuracy 0.821, F1-score 0.831, MCC: 0.624, Dice: 0.831\n",
      "    Val loss 0.192, accuracy 0.791, F1-score 0.805, MCC: 0.576, Dice: 0.805\n"
     ]
    },
    {
     "name": "stderr",
     "output_type": "stream",
     "text": [
      "Training epoch 78: 100%|██████████| 155/155 [02:52<00:00,  1.12s/it]\n",
      "Validation epoch 78: 100%|██████████| 51/51 [00:46<00:00,  1.09it/s]\n",
      "Training epoch 79:   0%|          | 0/155 [00:00<?, ?it/s]"
     ]
    },
    {
     "name": "stdout",
     "output_type": "stream",
     "text": [
      "Epoch 78:\n",
      "    Train loss 0.179, accuracy 0.822, F1-score 0.832, MCC: 0.626, Dice: 0.832\n",
      "    Val loss 0.200, accuracy 0.767, F1-score 0.750, MCC: 0.549, Dice: 0.750\n"
     ]
    },
    {
     "name": "stderr",
     "output_type": "stream",
     "text": [
      "Training epoch 79: 100%|██████████| 155/155 [02:49<00:00,  1.09s/it]\n",
      "Validation epoch 79: 100%|██████████| 51/51 [00:46<00:00,  1.11it/s]\n",
      "Training epoch 80:   0%|          | 0/155 [00:00<?, ?it/s]"
     ]
    },
    {
     "name": "stdout",
     "output_type": "stream",
     "text": [
      "Epoch 79:\n",
      "    Train loss 0.179, accuracy 0.822, F1-score 0.831, MCC: 0.624, Dice: 0.831\n",
      "    Val loss 0.202, accuracy 0.765, F1-score 0.794, MCC: 0.528, Dice: 0.794\n"
     ]
    },
    {
     "name": "stderr",
     "output_type": "stream",
     "text": [
      "Training epoch 80: 100%|██████████| 155/155 [02:52<00:00,  1.11s/it]\n",
      "Validation epoch 80: 100%|██████████| 51/51 [00:46<00:00,  1.10it/s]\n",
      "Training epoch 81:   0%|          | 0/155 [00:00<?, ?it/s]"
     ]
    },
    {
     "name": "stdout",
     "output_type": "stream",
     "text": [
      "Epoch 80:\n",
      "    Train loss 0.178, accuracy 0.824, F1-score 0.835, MCC: 0.629, Dice: 0.835\n",
      "    Val loss 0.233, accuracy 0.676, F1-score 0.586, MCC: 0.424, Dice: 0.586\n"
     ]
    },
    {
     "name": "stderr",
     "output_type": "stream",
     "text": [
      "Training epoch 81: 100%|██████████| 155/155 [02:53<00:00,  1.12s/it]\n",
      "Validation epoch 81: 100%|██████████| 51/51 [00:45<00:00,  1.12it/s]\n",
      "Training epoch 82:   0%|          | 0/155 [00:00<?, ?it/s]"
     ]
    },
    {
     "name": "stdout",
     "output_type": "stream",
     "text": [
      "Epoch 81:\n",
      "    Train loss 0.178, accuracy 0.824, F1-score 0.834, MCC: 0.629, Dice: 0.834\n",
      "    Val loss 0.209, accuracy 0.748, F1-score 0.717, MCC: 0.520, Dice: 0.717\n"
     ]
    },
    {
     "name": "stderr",
     "output_type": "stream",
     "text": [
      "Training epoch 82: 100%|██████████| 155/155 [02:51<00:00,  1.11s/it]\n",
      "Validation epoch 82: 100%|██████████| 51/51 [00:45<00:00,  1.12it/s]\n",
      "Training epoch 83:   0%|          | 0/155 [00:00<?, ?it/s]"
     ]
    },
    {
     "name": "stdout",
     "output_type": "stream",
     "text": [
      "Epoch 82:\n",
      "    Train loss 0.180, accuracy 0.821, F1-score 0.831, MCC: 0.624, Dice: 0.831\n",
      "    Val loss 0.197, accuracy 0.776, F1-score 0.778, MCC: 0.549, Dice: 0.778\n"
     ]
    },
    {
     "name": "stderr",
     "output_type": "stream",
     "text": [
      "Training epoch 83: 100%|██████████| 155/155 [02:52<00:00,  1.12s/it]\n",
      "Validation epoch 83: 100%|██████████| 51/51 [00:46<00:00,  1.09it/s]\n",
      "Training epoch 84:   0%|          | 0/155 [00:00<?, ?it/s]"
     ]
    },
    {
     "name": "stdout",
     "output_type": "stream",
     "text": [
      "Epoch 83:\n",
      "    Train loss 0.178, accuracy 0.824, F1-score 0.834, MCC: 0.630, Dice: 0.834\n",
      "    Val loss 0.199, accuracy 0.775, F1-score 0.782, MCC: 0.545, Dice: 0.782\n"
     ]
    },
    {
     "name": "stderr",
     "output_type": "stream",
     "text": [
      "Training epoch 84: 100%|██████████| 155/155 [02:52<00:00,  1.11s/it]\n",
      "Validation epoch 84: 100%|██████████| 51/51 [00:46<00:00,  1.09it/s]\n",
      "Training epoch 85:   0%|          | 0/155 [00:00<?, ?it/s]"
     ]
    },
    {
     "name": "stdout",
     "output_type": "stream",
     "text": [
      "Epoch 84:\n",
      "    Train loss 0.177, accuracy 0.825, F1-score 0.834, MCC: 0.630, Dice: 0.834\n",
      "    Val loss 0.202, accuracy 0.768, F1-score 0.757, MCC: 0.541, Dice: 0.757\n"
     ]
    },
    {
     "name": "stderr",
     "output_type": "stream",
     "text": [
      "Training epoch 85: 100%|██████████| 155/155 [02:52<00:00,  1.12s/it]\n",
      "Validation epoch 85: 100%|██████████| 51/51 [00:44<00:00,  1.14it/s]\n",
      "Training epoch 86:   0%|          | 0/155 [00:00<?, ?it/s]"
     ]
    },
    {
     "name": "stdout",
     "output_type": "stream",
     "text": [
      "Epoch 85:\n",
      "    Train loss 0.179, accuracy 0.822, F1-score 0.832, MCC: 0.625, Dice: 0.832\n",
      "    Val loss 0.198, accuracy 0.776, F1-score 0.770, MCC: 0.556, Dice: 0.770\n"
     ]
    },
    {
     "name": "stderr",
     "output_type": "stream",
     "text": [
      "Training epoch 86: 100%|██████████| 155/155 [02:53<00:00,  1.12s/it]\n",
      "Validation epoch 86: 100%|██████████| 51/51 [00:48<00:00,  1.06it/s]\n",
      "Training epoch 87:   0%|          | 0/155 [00:00<?, ?it/s]"
     ]
    },
    {
     "name": "stdout",
     "output_type": "stream",
     "text": [
      "Epoch 86:\n",
      "    Train loss 0.178, accuracy 0.823, F1-score 0.833, MCC: 0.627, Dice: 0.833\n",
      "    Val loss 0.269, accuracy 0.659, F1-score 0.738, MCC: 0.329, Dice: 0.738\n"
     ]
    },
    {
     "name": "stderr",
     "output_type": "stream",
     "text": [
      "Training epoch 87: 100%|██████████| 155/155 [02:50<00:00,  1.10s/it]\n",
      "Validation epoch 87: 100%|██████████| 51/51 [00:47<00:00,  1.06it/s]\n",
      "Training epoch 88:   0%|          | 0/155 [00:00<?, ?it/s]"
     ]
    },
    {
     "name": "stdout",
     "output_type": "stream",
     "text": [
      "Epoch 87:\n",
      "    Train loss 0.178, accuracy 0.824, F1-score 0.834, MCC: 0.628, Dice: 0.834\n",
      "    Val loss 0.198, accuracy 0.770, F1-score 0.795, MCC: 0.534, Dice: 0.795\n"
     ]
    },
    {
     "name": "stderr",
     "output_type": "stream",
     "text": [
      "Training epoch 88: 100%|██████████| 155/155 [02:51<00:00,  1.11s/it]\n",
      "Validation epoch 88: 100%|██████████| 51/51 [00:45<00:00,  1.12it/s]\n",
      "Training epoch 89:   0%|          | 0/155 [00:00<?, ?it/s]"
     ]
    },
    {
     "name": "stdout",
     "output_type": "stream",
     "text": [
      "Epoch 88:\n",
      "    Train loss 0.176, accuracy 0.827, F1-score 0.836, MCC: 0.634, Dice: 0.836\n",
      "    Val loss 0.201, accuracy 0.778, F1-score 0.768, MCC: 0.560, Dice: 0.768\n"
     ]
    },
    {
     "name": "stderr",
     "output_type": "stream",
     "text": [
      "Training epoch 89: 100%|██████████| 155/155 [02:55<00:00,  1.13s/it]\n",
      "Validation epoch 89: 100%|██████████| 51/51 [00:44<00:00,  1.14it/s]\n",
      "Training epoch 90:   0%|          | 0/155 [00:00<?, ?it/s]"
     ]
    },
    {
     "name": "stdout",
     "output_type": "stream",
     "text": [
      "Epoch 89:\n",
      "    Train loss 0.176, accuracy 0.827, F1-score 0.837, MCC: 0.635, Dice: 0.837\n",
      "    Val loss 0.193, accuracy 0.786, F1-score 0.793, MCC: 0.567, Dice: 0.793\n"
     ]
    },
    {
     "name": "stderr",
     "output_type": "stream",
     "text": [
      "Training epoch 90: 100%|██████████| 155/155 [02:52<00:00,  1.12s/it]\n",
      "Validation epoch 90: 100%|██████████| 51/51 [00:45<00:00,  1.12it/s]\n",
      "Training epoch 91:   0%|          | 0/155 [00:00<?, ?it/s]"
     ]
    },
    {
     "name": "stdout",
     "output_type": "stream",
     "text": [
      "Epoch 90:\n",
      "    Train loss 0.177, accuracy 0.825, F1-score 0.835, MCC: 0.631, Dice: 0.835\n",
      "    Val loss 0.196, accuracy 0.781, F1-score 0.778, MCC: 0.561, Dice: 0.778\n"
     ]
    },
    {
     "name": "stderr",
     "output_type": "stream",
     "text": [
      "Training epoch 91: 100%|██████████| 155/155 [02:52<00:00,  1.11s/it]\n",
      "Validation epoch 91: 100%|██████████| 51/51 [00:45<00:00,  1.11it/s]\n",
      "Training epoch 92:   0%|          | 0/155 [00:00<?, ?it/s]"
     ]
    },
    {
     "name": "stdout",
     "output_type": "stream",
     "text": [
      "Epoch 91:\n",
      "    Train loss 0.176, accuracy 0.827, F1-score 0.836, MCC: 0.634, Dice: 0.836\n",
      "    Val loss 0.193, accuracy 0.789, F1-score 0.794, MCC: 0.572, Dice: 0.794\n"
     ]
    },
    {
     "name": "stderr",
     "output_type": "stream",
     "text": [
      "Training epoch 92: 100%|██████████| 155/155 [02:38<00:00,  1.02s/it]\n",
      "Validation epoch 92: 100%|██████████| 51/51 [00:42<00:00,  1.20it/s]\n",
      "Training epoch 93:   0%|          | 0/155 [00:00<?, ?it/s]"
     ]
    },
    {
     "name": "stdout",
     "output_type": "stream",
     "text": [
      "Epoch 92:\n",
      "    Train loss 0.176, accuracy 0.827, F1-score 0.837, MCC: 0.636, Dice: 0.837\n",
      "    Val loss 0.201, accuracy 0.761, F1-score 0.737, MCC: 0.547, Dice: 0.737\n"
     ]
    },
    {
     "name": "stderr",
     "output_type": "stream",
     "text": [
      "Training epoch 93: 100%|██████████| 155/155 [02:40<00:00,  1.04s/it]\n",
      "Validation epoch 93: 100%|██████████| 51/51 [00:42<00:00,  1.20it/s]\n",
      "Training epoch 94:   0%|          | 0/155 [00:00<?, ?it/s]"
     ]
    },
    {
     "name": "stdout",
     "output_type": "stream",
     "text": [
      "Epoch 93:\n",
      "    Train loss 0.176, accuracy 0.827, F1-score 0.837, MCC: 0.634, Dice: 0.837\n",
      "    Val loss 0.192, accuracy 0.785, F1-score 0.782, MCC: 0.575, Dice: 0.782\n"
     ]
    },
    {
     "name": "stderr",
     "output_type": "stream",
     "text": [
      "Training epoch 94: 100%|██████████| 155/155 [02:35<00:00,  1.00s/it]\n",
      "Validation epoch 94: 100%|██████████| 51/51 [00:37<00:00,  1.37it/s]\n",
      "Training epoch 95:   0%|          | 0/155 [00:00<?, ?it/s]"
     ]
    },
    {
     "name": "stdout",
     "output_type": "stream",
     "text": [
      "Epoch 94:\n",
      "    Train loss 0.176, accuracy 0.827, F1-score 0.837, MCC: 0.635, Dice: 0.837\n",
      "    Val loss 0.196, accuracy 0.782, F1-score 0.785, MCC: 0.559, Dice: 0.785\n"
     ]
    },
    {
     "name": "stderr",
     "output_type": "stream",
     "text": [
      "Training epoch 95: 100%|██████████| 155/155 [02:31<00:00,  1.02it/s]\n",
      "Validation epoch 95: 100%|██████████| 51/51 [00:38<00:00,  1.34it/s]\n",
      "Training epoch 96:   0%|          | 0/155 [00:00<?, ?it/s]"
     ]
    },
    {
     "name": "stdout",
     "output_type": "stream",
     "text": [
      "Epoch 95:\n",
      "    Train loss 0.176, accuracy 0.827, F1-score 0.837, MCC: 0.636, Dice: 0.837\n",
      "    Val loss 0.209, accuracy 0.746, F1-score 0.716, MCC: 0.520, Dice: 0.716\n"
     ]
    },
    {
     "name": "stderr",
     "output_type": "stream",
     "text": [
      "Training epoch 96: 100%|██████████| 155/155 [02:30<00:00,  1.03it/s]\n",
      "Validation epoch 96: 100%|██████████| 51/51 [00:37<00:00,  1.35it/s]\n",
      "Training epoch 97:   0%|          | 0/155 [00:00<?, ?it/s]"
     ]
    },
    {
     "name": "stdout",
     "output_type": "stream",
     "text": [
      "Epoch 96:\n",
      "    Train loss 0.176, accuracy 0.827, F1-score 0.837, MCC: 0.634, Dice: 0.837\n",
      "    Val loss 0.212, accuracy 0.730, F1-score 0.683, MCC: 0.502, Dice: 0.683\n"
     ]
    },
    {
     "name": "stderr",
     "output_type": "stream",
     "text": [
      "Training epoch 97: 100%|██████████| 155/155 [02:31<00:00,  1.02it/s]\n",
      "Validation epoch 97: 100%|██████████| 51/51 [00:37<00:00,  1.34it/s]\n",
      "Training epoch 98:   0%|          | 0/155 [00:00<?, ?it/s]"
     ]
    },
    {
     "name": "stdout",
     "output_type": "stream",
     "text": [
      "Epoch 97:\n",
      "    Train loss 0.174, accuracy 0.829, F1-score 0.838, MCC: 0.639, Dice: 0.838\n",
      "    Val loss 0.199, accuracy 0.773, F1-score 0.764, MCC: 0.555, Dice: 0.764\n"
     ]
    },
    {
     "name": "stderr",
     "output_type": "stream",
     "text": [
      "Training epoch 98: 100%|██████████| 155/155 [02:30<00:00,  1.03it/s]\n",
      "Validation epoch 98: 100%|██████████| 51/51 [00:40<00:00,  1.27it/s]\n",
      "Training epoch 99:   0%|          | 0/155 [00:00<?, ?it/s]"
     ]
    },
    {
     "name": "stdout",
     "output_type": "stream",
     "text": [
      "Epoch 98:\n",
      "    Train loss 0.176, accuracy 0.827, F1-score 0.837, MCC: 0.634, Dice: 0.837\n",
      "    Val loss 0.193, accuracy 0.788, F1-score 0.797, MCC: 0.570, Dice: 0.797\n"
     ]
    },
    {
     "name": "stderr",
     "output_type": "stream",
     "text": [
      "Training epoch 99: 100%|██████████| 155/155 [02:29<00:00,  1.03it/s]\n",
      "Validation epoch 99: 100%|██████████| 51/51 [00:40<00:00,  1.26it/s]\n",
      "Training epoch 100:   0%|          | 0/155 [00:00<?, ?it/s]"
     ]
    },
    {
     "name": "stdout",
     "output_type": "stream",
     "text": [
      "Epoch 99:\n",
      "    Train loss 0.176, accuracy 0.828, F1-score 0.838, MCC: 0.637, Dice: 0.838\n",
      "    Val loss 0.195, accuracy 0.787, F1-score 0.790, MCC: 0.574, Dice: 0.790\n"
     ]
    },
    {
     "name": "stderr",
     "output_type": "stream",
     "text": [
      "Training epoch 100: 100%|██████████| 155/155 [02:31<00:00,  1.02it/s]\n",
      "Validation epoch 100: 100%|██████████| 51/51 [00:40<00:00,  1.27it/s]"
     ]
    },
    {
     "name": "stdout",
     "output_type": "stream",
     "text": [
      "Epoch 100:\n",
      "    Train loss 0.175, accuracy 0.829, F1-score 0.839, MCC: 0.638, Dice: 0.839\n",
      "    Val loss 0.204, accuracy 0.760, F1-score 0.737, MCC: 0.543, Dice: 0.737\n"
     ]
    },
    {
     "name": "stderr",
     "output_type": "stream",
     "text": [
      "\n"
     ]
    }
   ],
   "source": [
    "# ============================ #\n",
    "# user-specified hyperparameters\n",
    "# ============================ #\n",
    "epochs = 100\n",
    "lr = 0.01\n",
    "lr_decay = None\n",
    "n_filters = 16\n",
    "batch_size = 8\n",
    "n_classes = 1\n",
    "model_type = 'resunet-d7'\n",
    "month = 'april'\n",
    "gpu_id = 2\n",
    "# ============================ #\n",
    "\n",
    "run_france(epochs=epochs, lr=lr, lr_decay=lr_decay, n_filters=n_filters, batch_size=batch_size,\n",
    "           n_classes=n_classes, model_type=model_type, month=month, gpu_id=gpu_id)"
   ]
  },
  {
   "cell_type": "code",
   "execution_count": null,
   "metadata": {},
   "outputs": [],
   "source": []
  }
 ],
 "metadata": {
  "kernelspec": {
   "display_name": "Environment (conda_mxnet1.6.0)",
   "language": "python",
   "name": "conda_mxnet1.6.0"
  },
  "language_info": {
   "codemirror_mode": {
    "name": "ipython",
    "version": 3
   },
   "file_extension": ".py",
   "mimetype": "text/x-python",
   "name": "python",
   "nbconvert_exporter": "python",
   "pygments_lexer": "ipython3",
   "version": "3.6.11"
  }
 },
 "nbformat": 4,
 "nbformat_minor": 2
}
