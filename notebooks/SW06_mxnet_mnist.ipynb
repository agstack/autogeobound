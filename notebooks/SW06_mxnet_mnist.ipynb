{
 "cells": [
  {
   "cell_type": "code",
   "execution_count": 7,
   "metadata": {},
   "outputs": [],
   "source": [
    "import numpy as np\n",
    "import pandas as pd\n",
    "import matplotlib.pyplot as plt\n",
    "import seaborn as sns\n",
    "%matplotlib inline"
   ]
  },
  {
   "cell_type": "code",
   "execution_count": 13,
   "metadata": {},
   "outputs": [],
   "source": [
    "from __future__ import print_function\n",
    "import mxnet as mx\n",
    "from mxnet import gluon\n",
    "from mxnet.gluon import nn\n",
    "from mxnet import autograd as ag\n",
    "import mxnet.ndarray as F"
   ]
  },
  {
   "cell_type": "markdown",
   "metadata": {},
   "source": [
    "## Load MNIST dataset"
   ]
  },
  {
   "cell_type": "code",
   "execution_count": 9,
   "metadata": {
    "scrolled": true
   },
   "outputs": [
    {
     "data": {
      "image/png": "[encoded data removed]",
      "text/plain": [
       "<Figure size 432x288 with 1 Axes>"
      ]
     },
     "metadata": {
      "needs_background": "light"
     },
     "output_type": "display_data"
    }
   ],
   "source": [
    "# Fixing the random seed\n",
    "mx.random.seed(42)\n",
    "\n",
    "mnist = mx.test_utils.get_mnist()\n",
    "\n",
    "plt.imshow(np.moveaxis(mnist['train_data'][0], 0, -1))\n",
    "plt.show()"
   ]
  },
  {
   "cell_type": "code",
   "execution_count": 10,
   "metadata": {},
   "outputs": [],
   "source": [
    "batch_size = 100\n",
    "train_data = mx.io.NDArrayIter(mnist['train_data'], mnist['train_label'], batch_size, shuffle=True)\n",
    "val_data = mx.io.NDArrayIter(mnist['test_data'], mnist['test_label'], batch_size)"
   ]
  },
  {
   "cell_type": "markdown",
   "metadata": {},
   "source": [
    "## Define CNN"
   ]
  },
  {
   "cell_type": "code",
   "execution_count": 14,
   "metadata": {},
   "outputs": [],
   "source": [
    "class Net(gluon.Block):\n",
    "    def __init__(self, **kwargs):\n",
    "        super(Net, self).__init__(**kwargs)\n",
    "        with self.name_scope():\n",
    "            # layers created in name_scope will inherit name space\n",
    "            # from parent layer.\n",
    "            self.conv1 = nn.Conv2D(20, kernel_size=(5,5))\n",
    "            self.pool1 = nn.MaxPool2D(pool_size=(2,2), strides = (2,2))\n",
    "            self.conv2 = nn.Conv2D(50, kernel_size=(5,5))\n",
    "            self.pool2 = nn.MaxPool2D(pool_size=(2,2), strides = (2,2))\n",
    "            self.fc1 = nn.Dense(500)\n",
    "            self.fc2 = nn.Dense(10)\n",
    "\n",
    "    def forward(self, x):\n",
    "        x = self.pool1(F.tanh(self.conv1(x)))\n",
    "        x = self.pool2(F.tanh(self.conv2(x)))\n",
    "        # 0 means copy over size from corresponding dimension.\n",
    "        # -1 means infer size from the rest of dimensions.\n",
    "        x = x.reshape((0, -1))\n",
    "        x = F.tanh(self.fc1(x))\n",
    "        x = F.tanh(self.fc2(x))\n",
    "        return x"
   ]
  },
  {
   "cell_type": "code",
   "execution_count": 15,
   "metadata": {},
   "outputs": [],
   "source": [
    "net = Net()"
   ]
  },
  {
   "cell_type": "code",
   "execution_count": 16,
   "metadata": {},
   "outputs": [],
   "source": [
    "# set the context on GPU is available otherwise CPU\n",
    "ctx = [mx.gpu() if mx.test_utils.list_gpus() else mx.cpu()]\n",
    "net.initialize(mx.init.Xavier(magnitude=2.24), ctx=ctx)\n",
    "trainer = gluon.Trainer(net.collect_params(), 'sgd', {'learning_rate': 0.03})"
   ]
  },
  {
   "cell_type": "code",
   "execution_count": 19,
   "metadata": {},
   "outputs": [
    {
     "name": "stdout",
     "output_type": "stream",
     "text": [
      "training acc at epoch 0: accuracy=0.867700\n",
      "training acc at epoch 1: accuracy=0.942400\n",
      "training acc at epoch 2: accuracy=0.957383\n",
      "training acc at epoch 3: accuracy=0.965150\n",
      "training acc at epoch 4: accuracy=0.969567\n",
      "training acc at epoch 5: accuracy=0.973217\n",
      "training acc at epoch 6: accuracy=0.975250\n",
      "training acc at epoch 7: accuracy=0.977633\n",
      "training acc at epoch 8: accuracy=0.979367\n",
      "training acc at epoch 9: accuracy=0.980400\n"
     ]
    }
   ],
   "source": [
    "# Use Accuracy as the evaluation metric.\n",
    "metric = mx.metric.Accuracy()\n",
    "softmax_cross_entropy_loss = gluon.loss.SoftmaxCrossEntropyLoss()\n",
    "epoch = 10\n",
    "\n",
    "for i in range(epoch):\n",
    "    # Reset the train data iterator.\n",
    "    train_data.reset()\n",
    "    # Loop over the train data iterator.\n",
    "    for batch in train_data:\n",
    "        # Splits train data into multiple slices along batch_axis\n",
    "        # and copy each slice into a context.\n",
    "        data = gluon.utils.split_and_load(batch.data[0], ctx_list=ctx, batch_axis=0)\n",
    "        # Splits train labels into multiple slices along batch_axis\n",
    "        # and copy each slice into a context.\n",
    "        label = gluon.utils.split_and_load(batch.label[0], ctx_list=ctx, batch_axis=0)\n",
    "        outputs = []\n",
    "        # Inside training scope\n",
    "        with ag.record():\n",
    "            for x, y in zip(data, label):\n",
    "                z = net(x)\n",
    "                # Computes softmax cross entropy loss.\n",
    "                loss = softmax_cross_entropy_loss(z, y)\n",
    "                # Backpropogate the error for one iteration.\n",
    "                loss.backward()\n",
    "                outputs.append(z)\n",
    "        # Updates internal evaluation\n",
    "        metric.update(label, outputs)\n",
    "        # Make one step of parameter update. Trainer needs to know the\n",
    "        # batch size of data to normalize the gradient by 1/batch_size.\n",
    "        trainer.step(batch.data[0].shape[0])\n",
    "    # Gets the evaluation result.\n",
    "    name, acc = metric.get()\n",
    "    # Reset evaluation result to initial state.\n",
    "    metric.reset()\n",
    "    print('training acc at epoch %d: %s=%f'%(i, name, acc))"
   ]
  },
  {
   "cell_type": "code",
   "execution_count": 20,
   "metadata": {
    "scrolled": true
   },
   "outputs": [
    {
     "data": {
      "text/plain": [
       "\n",
       "[[[[0. 0. 0. ... 0. 0. 0.]\n",
       "   [0. 0. 0. ... 0. 0. 0.]\n",
       "   [0. 0. 0. ... 0. 0. 0.]\n",
       "   ...\n",
       "   [0. 0. 0. ... 0. 0. 0.]\n",
       "   [0. 0. 0. ... 0. 0. 0.]\n",
       "   [0. 0. 0. ... 0. 0. 0.]]]\n",
       "\n",
       "\n",
       " [[[0. 0. 0. ... 0. 0. 0.]\n",
       "   [0. 0. 0. ... 0. 0. 0.]\n",
       "   [0. 0. 0. ... 0. 0. 0.]\n",
       "   ...\n",
       "   [0. 0. 0. ... 0. 0. 0.]\n",
       "   [0. 0. 0. ... 0. 0. 0.]\n",
       "   [0. 0. 0. ... 0. 0. 0.]]]\n",
       "\n",
       "\n",
       " [[[0. 0. 0. ... 0. 0. 0.]\n",
       "   [0. 0. 0. ... 0. 0. 0.]\n",
       "   [0. 0. 0. ... 0. 0. 0.]\n",
       "   ...\n",
       "   [0. 0. 0. ... 0. 0. 0.]\n",
       "   [0. 0. 0. ... 0. 0. 0.]\n",
       "   [0. 0. 0. ... 0. 0. 0.]]]\n",
       "\n",
       "\n",
       " ...\n",
       "\n",
       "\n",
       " [[[0. 0. 0. ... 0. 0. 0.]\n",
       "   [0. 0. 0. ... 0. 0. 0.]\n",
       "   [0. 0. 0. ... 0. 0. 0.]\n",
       "   ...\n",
       "   [0. 0. 0. ... 0. 0. 0.]\n",
       "   [0. 0. 0. ... 0. 0. 0.]\n",
       "   [0. 0. 0. ... 0. 0. 0.]]]\n",
       "\n",
       "\n",
       " [[[0. 0. 0. ... 0. 0. 0.]\n",
       "   [0. 0. 0. ... 0. 0. 0.]\n",
       "   [0. 0. 0. ... 0. 0. 0.]\n",
       "   ...\n",
       "   [0. 0. 0. ... 0. 0. 0.]\n",
       "   [0. 0. 0. ... 0. 0. 0.]\n",
       "   [0. 0. 0. ... 0. 0. 0.]]]\n",
       "\n",
       "\n",
       " [[[0. 0. 0. ... 0. 0. 0.]\n",
       "   [0. 0. 0. ... 0. 0. 0.]\n",
       "   [0. 0. 0. ... 0. 0. 0.]\n",
       "   ...\n",
       "   [0. 0. 0. ... 0. 0. 0.]\n",
       "   [0. 0. 0. ... 0. 0. 0.]\n",
       "   [0. 0. 0. ... 0. 0. 0.]]]]\n",
       "<NDArray 100x1x28x28 @cpu(0)>"
      ]
     },
     "execution_count": 20,
     "metadata": {},
     "output_type": "execute_result"
    }
   ],
   "source": [
    "x"
   ]
  },
  {
   "cell_type": "code",
   "execution_count": null,
   "metadata": {},
   "outputs": [],
   "source": []
  }
 ],
 "metadata": {
  "kernelspec": {
   "display_name": "Environment (conda_mxnet)",
   "language": "python",
   "name": "conda_mxnet"
  },
  "language_info": {
   "codemirror_mode": {
    "name": "ipython",
    "version": 3
   },
   "file_extension": ".py",
   "mimetype": "text/x-python",
   "name": "python",
   "nbconvert_exporter": "python",
   "pygments_lexer": "ipython3",
   "version": "3.6.11"
  }
 },
 "nbformat": 4,
 "nbformat_minor": 2
}
