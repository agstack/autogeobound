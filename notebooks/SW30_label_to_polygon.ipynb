{
 "cells": [
  {
   "cell_type": "code",
   "execution_count": 12,
   "metadata": {},
   "outputs": [],
   "source": [
    "import numpy as np\n",
    "import pandas as pd\n",
    "import random\n",
    "import csv\n",
    "import os\n",
    "import matplotlib.pyplot as plt\n",
    "from collections import defaultdict\n",
    "import pprint\n",
    "from tqdm import tqdm\n",
    "\n",
    "import imageio\n",
    "import shapefile\n",
    "from json import dumps\n",
    "import fiona\n",
    "from pyproj import Proj#, transform\n",
    "import pyproj\n",
    "import geopandas\n",
    "\n",
    "import shapely\n",
    "from shapely.geometry import Polygon\n",
    "from shapely.geometry import shape\n",
    "from functools import partial\n",
    "from shapely.ops import transform\n",
    "from shapely.strtree import STRtree"
   ]
  },
  {
   "cell_type": "markdown",
   "metadata": {},
   "source": [
    "# Transform labels to polygon"
   ]
  },
  {
   "cell_type": "code",
   "execution_count": 2,
   "metadata": {},
   "outputs": [],
   "source": [
    "df = pd.read_csv('../mount/data/GeneralBlockchain/demo_results/structure.csv')\n",
    "base_dir = '../mount/data/GeneralBlockchain/demo_results/'"
   ]
  },
  {
   "cell_type": "code",
   "execution_count": 3,
   "metadata": {},
   "outputs": [
    {
     "data": {
      "text/html": [
       "<div>\n",
       "<style scoped>\n",
       "    .dataframe tbody tr th:only-of-type {\n",
       "        vertical-align: middle;\n",
       "    }\n",
       "\n",
       "    .dataframe tbody tr th {\n",
       "        vertical-align: top;\n",
       "    }\n",
       "\n",
       "    .dataframe thead th {\n",
       "        text-align: right;\n",
       "    }\n",
       "</style>\n",
       "<table border=\"1\" class=\"dataframe\">\n",
       "  <thead>\n",
       "    <tr style=\"text-align: right;\">\n",
       "      <th></th>\n",
       "      <th>#</th>\n",
       "      <th>Taxonomy</th>\n",
       "      <th>Class</th>\n",
       "      <th>Template Name</th>\n",
       "      <th>Template Image</th>\n",
       "      <th>File Folder</th>\n",
       "      <th>Image</th>\n",
       "      <th>Filename</th>\n",
       "      <th>Tag</th>\n",
       "      <th>Mask</th>\n",
       "      <th>...</th>\n",
       "      <th>Left</th>\n",
       "      <th>Width</th>\n",
       "      <th>Height</th>\n",
       "      <th>Points</th>\n",
       "      <th>Text Annotation</th>\n",
       "      <th>Minimal Top</th>\n",
       "      <th>Minimal Left</th>\n",
       "      <th>Minimal Width</th>\n",
       "      <th>Minimal Height</th>\n",
       "      <th>Attributes</th>\n",
       "    </tr>\n",
       "  </thead>\n",
       "  <tbody>\n",
       "    <tr>\n",
       "      <td>0</td>\n",
       "      <td>1</td>\n",
       "      <td>NaN</td>\n",
       "      <td>SSM Stanford Test</td>\n",
       "      <td>NaN</td>\n",
       "      <td>NaN</td>\n",
       "      <td>NaN</td>\n",
       "      <td>images/1fc9a2dd4c098b77299cfe0d6e65d9d3151399b...</td>\n",
       "      <td>airbus_geowiki_A02.png</td>\n",
       "      <td>tags/8Fz6Tzj9W8XFSo5MY_WvxDQmNADBsp56xT2.jpeg</td>\n",
       "      <td>masks/8Fz6Tzj9W8XFSo5MY_WvxDQmNADBsp56xT2.png</td>\n",
       "      <td>...</td>\n",
       "      <td>0</td>\n",
       "      <td>910</td>\n",
       "      <td>905</td>\n",
       "      <td>NaN</td>\n",
       "      <td>NaN</td>\n",
       "      <td>0.0</td>\n",
       "      <td>0.0</td>\n",
       "      <td>910.0</td>\n",
       "      <td>905.0</td>\n",
       "      <td>NaN</td>\n",
       "    </tr>\n",
       "    <tr>\n",
       "      <td>1</td>\n",
       "      <td>2</td>\n",
       "      <td>NaN</td>\n",
       "      <td>SSM Stanford Test</td>\n",
       "      <td>Crop</td>\n",
       "      <td>NaN</td>\n",
       "      <td>NaN</td>\n",
       "      <td>images/1fc9a2dd4c098b77299cfe0d6e65d9d3151399b...</td>\n",
       "      <td>airbus_geowiki_A02.png</td>\n",
       "      <td>tags/8Fz6Tzj9W8XFSo5MY_drcfXT4TLRJ6263hR.jpeg</td>\n",
       "      <td>masks/8Fz6Tzj9W8XFSo5MY_drcfXT4TLRJ6263hR.png</td>\n",
       "      <td>...</td>\n",
       "      <td>443</td>\n",
       "      <td>83</td>\n",
       "      <td>174</td>\n",
       "      <td>NaN</td>\n",
       "      <td>NaN</td>\n",
       "      <td>375.0</td>\n",
       "      <td>443.0</td>\n",
       "      <td>83.0</td>\n",
       "      <td>174.0</td>\n",
       "      <td>NaN</td>\n",
       "    </tr>\n",
       "    <tr>\n",
       "      <td>2</td>\n",
       "      <td>3</td>\n",
       "      <td>NaN</td>\n",
       "      <td>SSM Stanford Test</td>\n",
       "      <td>Background</td>\n",
       "      <td>NaN</td>\n",
       "      <td>NaN</td>\n",
       "      <td>images/1fc9a2dd4c098b77299cfe0d6e65d9d3151399b...</td>\n",
       "      <td>airbus_geowiki_A02.png</td>\n",
       "      <td>tags/8Fz6Tzj9W8XFSo5MY_s7fiD8J9orZZ6D3rh.jpeg</td>\n",
       "      <td>masks/8Fz6Tzj9W8XFSo5MY_s7fiD8J9orZZ6D3rh.png</td>\n",
       "      <td>...</td>\n",
       "      <td>0</td>\n",
       "      <td>910</td>\n",
       "      <td>905</td>\n",
       "      <td>NaN</td>\n",
       "      <td>NaN</td>\n",
       "      <td>0.0</td>\n",
       "      <td>0.0</td>\n",
       "      <td>910.0</td>\n",
       "      <td>905.0</td>\n",
       "      <td>NaN</td>\n",
       "    </tr>\n",
       "    <tr>\n",
       "      <td>3</td>\n",
       "      <td>4</td>\n",
       "      <td>NaN</td>\n",
       "      <td>SSM Stanford Test</td>\n",
       "      <td>NaN</td>\n",
       "      <td>NaN</td>\n",
       "      <td>NaN</td>\n",
       "      <td>images/757aae0779c4aad5ad3f15072309f7246705b84...</td>\n",
       "      <td>airbus_geowiki_A03.png</td>\n",
       "      <td>tags/26KHeD6C7EeNbBHYG_nNG6pyJ2CtM2ucgoJ.jpeg</td>\n",
       "      <td>masks/26KHeD6C7EeNbBHYG_nNG6pyJ2CtM2ucgoJ.png</td>\n",
       "      <td>...</td>\n",
       "      <td>0</td>\n",
       "      <td>908</td>\n",
       "      <td>903</td>\n",
       "      <td>NaN</td>\n",
       "      <td>NaN</td>\n",
       "      <td>0.0</td>\n",
       "      <td>0.0</td>\n",
       "      <td>908.0</td>\n",
       "      <td>903.0</td>\n",
       "      <td>NaN</td>\n",
       "    </tr>\n",
       "    <tr>\n",
       "      <td>4</td>\n",
       "      <td>5</td>\n",
       "      <td>NaN</td>\n",
       "      <td>SSM Stanford Test</td>\n",
       "      <td>Background</td>\n",
       "      <td>NaN</td>\n",
       "      <td>NaN</td>\n",
       "      <td>images/757aae0779c4aad5ad3f15072309f7246705b84...</td>\n",
       "      <td>airbus_geowiki_A03.png</td>\n",
       "      <td>tags/26KHeD6C7EeNbBHYG_kCphgWAPf6imrFDuG.jpeg</td>\n",
       "      <td>masks/26KHeD6C7EeNbBHYG_kCphgWAPf6imrFDuG.png</td>\n",
       "      <td>...</td>\n",
       "      <td>0</td>\n",
       "      <td>908</td>\n",
       "      <td>903</td>\n",
       "      <td>NaN</td>\n",
       "      <td>NaN</td>\n",
       "      <td>0.0</td>\n",
       "      <td>0.0</td>\n",
       "      <td>908.0</td>\n",
       "      <td>903.0</td>\n",
       "      <td>NaN</td>\n",
       "    </tr>\n",
       "  </tbody>\n",
       "</table>\n",
       "<p>5 rows × 22 columns</p>\n",
       "</div>"
      ],
      "text/plain": [
       "   #  Taxonomy              Class Template Name  Template Image  File Folder  \\\n",
       "0  1       NaN  SSM Stanford Test           NaN             NaN          NaN   \n",
       "1  2       NaN  SSM Stanford Test          Crop             NaN          NaN   \n",
       "2  3       NaN  SSM Stanford Test    Background             NaN          NaN   \n",
       "3  4       NaN  SSM Stanford Test           NaN             NaN          NaN   \n",
       "4  5       NaN  SSM Stanford Test    Background             NaN          NaN   \n",
       "\n",
       "                                               Image                Filename  \\\n",
       "0  images/1fc9a2dd4c098b77299cfe0d6e65d9d3151399b...  airbus_geowiki_A02.png   \n",
       "1  images/1fc9a2dd4c098b77299cfe0d6e65d9d3151399b...  airbus_geowiki_A02.png   \n",
       "2  images/1fc9a2dd4c098b77299cfe0d6e65d9d3151399b...  airbus_geowiki_A02.png   \n",
       "3  images/757aae0779c4aad5ad3f15072309f7246705b84...  airbus_geowiki_A03.png   \n",
       "4  images/757aae0779c4aad5ad3f15072309f7246705b84...  airbus_geowiki_A03.png   \n",
       "\n",
       "                                             Tag  \\\n",
       "0  tags/8Fz6Tzj9W8XFSo5MY_WvxDQmNADBsp56xT2.jpeg   \n",
       "1  tags/8Fz6Tzj9W8XFSo5MY_drcfXT4TLRJ6263hR.jpeg   \n",
       "2  tags/8Fz6Tzj9W8XFSo5MY_s7fiD8J9orZZ6D3rh.jpeg   \n",
       "3  tags/26KHeD6C7EeNbBHYG_nNG6pyJ2CtM2ucgoJ.jpeg   \n",
       "4  tags/26KHeD6C7EeNbBHYG_kCphgWAPf6imrFDuG.jpeg   \n",
       "\n",
       "                                            Mask  ... Left  Width  Height  \\\n",
       "0  masks/8Fz6Tzj9W8XFSo5MY_WvxDQmNADBsp56xT2.png  ...    0    910     905   \n",
       "1  masks/8Fz6Tzj9W8XFSo5MY_drcfXT4TLRJ6263hR.png  ...  443     83     174   \n",
       "2  masks/8Fz6Tzj9W8XFSo5MY_s7fiD8J9orZZ6D3rh.png  ...    0    910     905   \n",
       "3  masks/26KHeD6C7EeNbBHYG_nNG6pyJ2CtM2ucgoJ.png  ...    0    908     903   \n",
       "4  masks/26KHeD6C7EeNbBHYG_kCphgWAPf6imrFDuG.png  ...    0    908     903   \n",
       "\n",
       "   Points  Text Annotation  Minimal Top  Minimal Left  Minimal Width  \\\n",
       "0     NaN              NaN          0.0           0.0          910.0   \n",
       "1     NaN              NaN        375.0         443.0           83.0   \n",
       "2     NaN              NaN          0.0           0.0          910.0   \n",
       "3     NaN              NaN          0.0           0.0          908.0   \n",
       "4     NaN              NaN          0.0           0.0          908.0   \n",
       "\n",
       "   Minimal Height  Attributes  \n",
       "0           905.0         NaN  \n",
       "1           174.0         NaN  \n",
       "2           905.0         NaN  \n",
       "3           903.0         NaN  \n",
       "4           903.0         NaN  \n",
       "\n",
       "[5 rows x 22 columns]"
      ]
     },
     "execution_count": 3,
     "metadata": {},
     "output_type": "execute_result"
    }
   ],
   "source": [
    "df.head()"
   ]
  },
  {
   "cell_type": "code",
   "execution_count": 8,
   "metadata": {},
   "outputs": [],
   "source": [
    "full_labels = df[df['Template Name'].isna() & ~df['Mask'].isna()].reset_index(drop=True)"
   ]
  },
  {
   "cell_type": "code",
   "execution_count": 26,
   "metadata": {
    "scrolled": true
   },
   "outputs": [
    {
     "name": "stdout",
     "output_type": "stream",
     "text": [
      "[[  0   0   0]\n",
      " [ 65 209  39]]\n"
     ]
    },
    {
     "data": {
      "image/png": "[encoded data removed]",
      "text/plain": [
       "<Figure size 432x288 with 1 Axes>"
      ]
     },
     "metadata": {
      "needs_background": "light"
     },
     "output_type": "display_data"
    },
    {
     "name": "stdout",
     "output_type": "stream",
     "text": [
      "[[  0   0   0]\n",
      " [217  56  94]]\n"
     ]
    },
    {
     "data": {
      "image/png": "[encoded data removed]",
      "text/plain": [
       "<Figure size 432x288 with 1 Axes>"
      ]
     },
     "metadata": {
      "needs_background": "light"
     },
     "output_type": "display_data"
    },
    {
     "ename": "KeyboardInterrupt",
     "evalue": "",
     "output_type": "error",
     "traceback": [
      "\u001b[0;31m---------------------------------------------------------------------------\u001b[0m",
      "\u001b[0;31mKeyboardInterrupt\u001b[0m                         Traceback (most recent call last)",
      "\u001b[0;32m<ipython-input-26-481020c1cf73>\u001b[0m in \u001b[0;36m<module>\u001b[0;34m\u001b[0m\n\u001b[1;32m      1\u001b[0m \u001b[0;32mfor\u001b[0m \u001b[0mi\u001b[0m\u001b[0;34m,\u001b[0m \u001b[0mrow\u001b[0m \u001b[0;32min\u001b[0m \u001b[0mfull_labels\u001b[0m\u001b[0;34m.\u001b[0m\u001b[0miterrows\u001b[0m\u001b[0;34m(\u001b[0m\u001b[0;34m)\u001b[0m\u001b[0;34m:\u001b[0m\u001b[0;34m\u001b[0m\u001b[0;34m\u001b[0m\u001b[0m\n\u001b[1;32m      2\u001b[0m     \u001b[0mmask\u001b[0m \u001b[0;34m=\u001b[0m \u001b[0mimageio\u001b[0m\u001b[0;34m.\u001b[0m\u001b[0mimread\u001b[0m\u001b[0;34m(\u001b[0m\u001b[0mos\u001b[0m\u001b[0;34m.\u001b[0m\u001b[0mpath\u001b[0m\u001b[0;34m.\u001b[0m\u001b[0mjoin\u001b[0m\u001b[0;34m(\u001b[0m\u001b[0mbase_dir\u001b[0m\u001b[0;34m,\u001b[0m \u001b[0mrow\u001b[0m\u001b[0;34m[\u001b[0m\u001b[0;34m'Mask'\u001b[0m\u001b[0;34m]\u001b[0m\u001b[0;34m)\u001b[0m\u001b[0;34m)\u001b[0m\u001b[0;34m\u001b[0m\u001b[0;34m\u001b[0m\u001b[0m\n\u001b[0;32m----> 3\u001b[0;31m     \u001b[0mprint\u001b[0m\u001b[0;34m(\u001b[0m\u001b[0mnp\u001b[0m\u001b[0;34m.\u001b[0m\u001b[0munique\u001b[0m\u001b[0;34m(\u001b[0m\u001b[0mmask\u001b[0m\u001b[0;34m[\u001b[0m\u001b[0;34m:\u001b[0m\u001b[0;34m,\u001b[0m\u001b[0;34m:\u001b[0m\u001b[0;34m,\u001b[0m\u001b[0;34m:\u001b[0m\u001b[0;36m3\u001b[0m\u001b[0;34m]\u001b[0m\u001b[0;34m.\u001b[0m\u001b[0mreshape\u001b[0m\u001b[0;34m(\u001b[0m\u001b[0;34m-\u001b[0m\u001b[0;36m1\u001b[0m\u001b[0;34m,\u001b[0m \u001b[0;36m3\u001b[0m\u001b[0;34m)\u001b[0m\u001b[0;34m,\u001b[0m \u001b[0maxis\u001b[0m\u001b[0;34m=\u001b[0m\u001b[0;36m0\u001b[0m\u001b[0;34m)\u001b[0m\u001b[0;34m)\u001b[0m\u001b[0;34m\u001b[0m\u001b[0;34m\u001b[0m\u001b[0m\n\u001b[0m\u001b[1;32m      4\u001b[0m     \u001b[0mplt\u001b[0m\u001b[0;34m.\u001b[0m\u001b[0mimshow\u001b[0m\u001b[0;34m(\u001b[0m\u001b[0mmask\u001b[0m\u001b[0;34m)\u001b[0m\u001b[0;34m\u001b[0m\u001b[0;34m\u001b[0m\u001b[0m\n\u001b[1;32m      5\u001b[0m     \u001b[0mplt\u001b[0m\u001b[0;34m.\u001b[0m\u001b[0mshow\u001b[0m\u001b[0;34m(\u001b[0m\u001b[0;34m)\u001b[0m\u001b[0;34m\u001b[0m\u001b[0;34m\u001b[0m\u001b[0m\n",
      "\u001b[0;32m<__array_function__ internals>\u001b[0m in \u001b[0;36munique\u001b[0;34m(*args, **kwargs)\u001b[0m\n",
      "\u001b[0;32m~/anaconda3/envs/geopython/lib/python3.7/site-packages/numpy/lib/arraysetops.py\u001b[0m in \u001b[0;36munique\u001b[0;34m(ar, return_index, return_inverse, return_counts, axis)\u001b[0m\n\u001b[1;32m    303\u001b[0m \u001b[0;34m\u001b[0m\u001b[0m\n\u001b[1;32m    304\u001b[0m     output = _unique1d(consolidated, return_index,\n\u001b[0;32m--> 305\u001b[0;31m                        return_inverse, return_counts)\n\u001b[0m\u001b[1;32m    306\u001b[0m     \u001b[0moutput\u001b[0m \u001b[0;34m=\u001b[0m \u001b[0;34m(\u001b[0m\u001b[0mreshape_uniq\u001b[0m\u001b[0;34m(\u001b[0m\u001b[0moutput\u001b[0m\u001b[0;34m[\u001b[0m\u001b[0;36m0\u001b[0m\u001b[0;34m]\u001b[0m\u001b[0;34m)\u001b[0m\u001b[0;34m,\u001b[0m\u001b[0;34m)\u001b[0m \u001b[0;34m+\u001b[0m \u001b[0moutput\u001b[0m\u001b[0;34m[\u001b[0m\u001b[0;36m1\u001b[0m\u001b[0;34m:\u001b[0m\u001b[0;34m]\u001b[0m\u001b[0;34m\u001b[0m\u001b[0;34m\u001b[0m\u001b[0m\n\u001b[1;32m    307\u001b[0m     \u001b[0;32mreturn\u001b[0m \u001b[0m_unpack_tuple\u001b[0m\u001b[0;34m(\u001b[0m\u001b[0moutput\u001b[0m\u001b[0;34m)\u001b[0m\u001b[0;34m\u001b[0m\u001b[0;34m\u001b[0m\u001b[0m\n",
      "\u001b[0;32m~/anaconda3/envs/geopython/lib/python3.7/site-packages/numpy/lib/arraysetops.py\u001b[0m in \u001b[0;36m_unique1d\u001b[0;34m(ar, return_index, return_inverse, return_counts)\u001b[0m\n\u001b[1;32m    321\u001b[0m         \u001b[0maux\u001b[0m \u001b[0;34m=\u001b[0m \u001b[0mar\u001b[0m\u001b[0;34m[\u001b[0m\u001b[0mperm\u001b[0m\u001b[0;34m]\u001b[0m\u001b[0;34m\u001b[0m\u001b[0;34m\u001b[0m\u001b[0m\n\u001b[1;32m    322\u001b[0m     \u001b[0;32melse\u001b[0m\u001b[0;34m:\u001b[0m\u001b[0;34m\u001b[0m\u001b[0;34m\u001b[0m\u001b[0m\n\u001b[0;32m--> 323\u001b[0;31m         \u001b[0mar\u001b[0m\u001b[0;34m.\u001b[0m\u001b[0msort\u001b[0m\u001b[0;34m(\u001b[0m\u001b[0;34m)\u001b[0m\u001b[0;34m\u001b[0m\u001b[0;34m\u001b[0m\u001b[0m\n\u001b[0m\u001b[1;32m    324\u001b[0m         \u001b[0maux\u001b[0m \u001b[0;34m=\u001b[0m \u001b[0mar\u001b[0m\u001b[0;34m\u001b[0m\u001b[0;34m\u001b[0m\u001b[0m\n\u001b[1;32m    325\u001b[0m     \u001b[0mmask\u001b[0m \u001b[0;34m=\u001b[0m \u001b[0mnp\u001b[0m\u001b[0;34m.\u001b[0m\u001b[0mempty\u001b[0m\u001b[0;34m(\u001b[0m\u001b[0maux\u001b[0m\u001b[0;34m.\u001b[0m\u001b[0mshape\u001b[0m\u001b[0;34m,\u001b[0m \u001b[0mdtype\u001b[0m\u001b[0;34m=\u001b[0m\u001b[0mnp\u001b[0m\u001b[0;34m.\u001b[0m\u001b[0mbool_\u001b[0m\u001b[0;34m)\u001b[0m\u001b[0;34m\u001b[0m\u001b[0;34m\u001b[0m\u001b[0m\n",
      "\u001b[0;31mKeyboardInterrupt\u001b[0m: "
     ]
    }
   ],
   "source": [
    "for i, row in full_labels.iterrows():\n",
    "    mask = imageio.imread(os.path.join(base_dir, row['Mask']))\n",
    "    print(np.unique(mask[:,:,:3].reshape(-1, 3), axis=0))\n",
    "    plt.imshow(mask)\n",
    "    plt.show()"
   ]
  },
  {
   "cell_type": "code",
   "execution_count": 27,
   "metadata": {},
   "outputs": [],
   "source": [
    "crop_color = [ 65, 209,  39]\n",
    "noncrop_color = [217,  56,  94]"
   ]
  },
  {
   "cell_type": "code",
   "execution_count": null,
   "metadata": {},
   "outputs": [],
   "source": []
  }
 ],
 "metadata": {
  "kernelspec": {
   "display_name": "Environment (conda_geopython)",
   "language": "python",
   "name": "conda_geopython"
  },
  "language_info": {
   "codemirror_mode": {
    "name": "ipython",
    "version": 3
   },
   "file_extension": ".py",
   "mimetype": "text/x-python",
   "name": "python",
   "nbconvert_exporter": "python",
   "pygments_lexer": "ipython3",
   "version": "3.7.4"
  }
 },
 "nbformat": 4,
 "nbformat_minor": 2
}
