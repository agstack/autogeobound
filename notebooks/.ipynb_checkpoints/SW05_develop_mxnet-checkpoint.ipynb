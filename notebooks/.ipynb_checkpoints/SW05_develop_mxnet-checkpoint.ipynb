{
 "cells": [
  {
   "cell_type": "code",
   "execution_count": 1,
   "metadata": {},
   "outputs": [],
   "source": [
    "import numpy as np\n",
    "import pandas as pd\n",
    "import os\n",
    "import rasterio\n",
    "import imageio\n",
    "import cv2\n",
    "from tqdm import tqdm\n",
    "import matplotlib.pyplot as plt\n",
    "import seaborn as sns\n",
    "%matplotlib inline\n",
    "\n",
    "import mxnet as mx\n",
    "from mxnet import gluon\n",
    "from mxnet import autograd\n",
    "from mxnet import image\n",
    "from sklearn.model_selection import train_test_split\n",
    "\n",
    "import sys\n",
    "sys.path.append('../../resuneta/src')\n",
    "sys.path.append('../../resuneta/nn/loss')\n",
    "sys.path.append('../../resuneta/models')\n",
    "sys.path.append('../../')\n",
    "\n",
    "from bound_dist import get_distance, get_boundary\n",
    "from loss import Tanimoto_wth_dual\n",
    "from resunet_d6_causal_mtskcolor_ddist import ResUNet_d6\n",
    "from resunet_d7_causal_mtskcolor_ddist import *"
   ]
  },
  {
   "cell_type": "markdown",
   "metadata": {},
   "source": [
    "# Dataset"
   ]
  },
  {
   "cell_type": "code",
   "execution_count": 5,
   "metadata": {},
   "outputs": [],
   "source": [
    "class PlanetDataset(gluon.data.Dataset):\n",
    "    \n",
    "    def __init__(self, image_directory, label_directory, image_names=None,\n",
    "                 image_suffix='.jpeg', label_suffix='.png'):\n",
    "        self.image_directory = image_directory\n",
    "        self.label_directory = label_directory\n",
    "        \n",
    "        self.image_suffix = image_suffix\n",
    "        self.label_suffix = label_suffix\n",
    "        \n",
    "        if image_names is None:\n",
    "            image_names = os.listdir(image_directory)\n",
    "            self.image_names = [x.split('.')[0] for x in image_names]\n",
    "        else:\n",
    "            self.image_names = image_names\n",
    "        \n",
    "    def __getitem__(self, item):\n",
    "        image_path = os.path.join(self.image_directory, \n",
    "                                  str(self.image_names[item]) + self.image_suffix)\n",
    "        image = cv2.cvtColor(cv2.imread(image_path), cv2.COLOR_BGR2RGB)\n",
    "        # TODO: change this\n",
    "        image = image[:256, :256]\n",
    "        \n",
    "        extent_path = os.path.join(self.label_directory, \n",
    "                                   str(self.image_names[item]) + self.label_suffix)\n",
    "        extent_mask = imageio.imread(extent_path)\n",
    "        # TODO: change this\n",
    "        extent_mask = extent_mask[:256, :256] / 255\n",
    "        boundary_mask = get_boundary(extent_mask)\n",
    "        distance_mask = get_distance(extent_mask)\n",
    "        image_hsv = cv2.cvtColor(image, cv2.COLOR_RGB2HSV)\n",
    "        \n",
    "        image = mx.nd.array(np.moveaxis(image, -1, 0))\n",
    "        image_hsv = mx.nd.array(np.moveaxis(image_hsv, -1, 0))\n",
    "        \n",
    "        extent_mask = mx.nd.array(np.expand_dims(extent_mask, 0))\n",
    "        boundary_mask = mx.nd.array(np.expand_dims(boundary_mask, 0))\n",
    "        distance_mask = mx.nd.array(np.expand_dims(distance_mask, 0))\n",
    "        \n",
    "        return image, extent_mask, boundary_mask, distance_mask, image_hsv\n",
    "    \n",
    "    def __len__(self):\n",
    "        return len(self.image_names)"
   ]
  },
  {
   "cell_type": "markdown",
   "metadata": {},
   "source": [
    "# Dataloader"
   ]
  },
  {
   "cell_type": "code",
   "execution_count": 6,
   "metadata": {},
   "outputs": [],
   "source": [
    "image_directory = '../data/planet/france/april/'\n",
    "label_directory = '../data/planet/france/labels/'\n",
    "\n",
    "# all_names = os.listdir(image_directory)\n",
    "# all_names = [x.split('.')[0] for x in all_names]\n",
    "# trainval_names, test_names = train_test_split(all_names, test_size=0.2)\n",
    "# train_names, val_names = train_test_split(trainval_names, test_size=0.2)\n",
    "\n",
    "# Load train/val/test splits\n",
    "splits_df = pd.read_csv('../data/splits/hanAndBurak_planetImagery_splits.csv')\n",
    "train_names = splits_df[splits_df['fold'] == 'train']['image_id'].values\n",
    "val_names = splits_df[splits_df['fold'] == 'val']['image_id'].values\n",
    "test_names = splits_df[splits_df['fold'] == 'test']['image_id'].values\n",
    "\n",
    "train_dataset = PlanetDataset(image_directory, label_directory, image_names=train_names)\n",
    "val_dataset = PlanetDataset(image_directory, label_directory, image_names=val_names)\n",
    "test_dataset = PlanetDataset(image_directory, label_directory, image_names=test_names)"
   ]
  },
  {
   "cell_type": "code",
   "execution_count": 7,
   "metadata": {},
   "outputs": [
    {
     "name": "stdout",
     "output_type": "stream",
     "text": [
      "img_batch has shape (4, 3, 256, 256)\n",
      "extent_batch has shape (4, 1, 256, 256)\n"
     ]
    }
   ],
   "source": [
    "batch_size = 4\n",
    "train_dataloader = gluon.data.DataLoader(train_dataset, batch_size=batch_size)\n",
    "val_dataloader = gluon.data.DataLoader(val_dataset, batch_size=batch_size)\n",
    "test_dataloader = gluon.data.DataLoader(test_dataset, batch_size=batch_size)\n",
    "\n",
    "for img_batch, extent_batch, boundary_batch, distance_batch, hsv_batch in train_dataloader:\n",
    "    print(\"img_batch has shape {}\".format(img_batch.shape))\n",
    "    print(\"extent_batch has shape {}\".format(extent_batch.shape))\n",
    "    \n",
    "    break"
   ]
  },
  {
   "cell_type": "code",
   "execution_count": 8,
   "metadata": {},
   "outputs": [
    {
     "data": {
      "text/plain": [
       "786432"
      ]
     },
     "execution_count": 8,
     "metadata": {},
     "output_type": "execute_result"
    }
   ],
   "source": [
    "img_batch.size"
   ]
  },
  {
   "cell_type": "markdown",
   "metadata": {},
   "source": [
    "# Training loop"
   ]
  },
  {
   "cell_type": "code",
   "execution_count": 14,
   "metadata": {},
   "outputs": [],
   "source": [
    "def train_model(train_dataloader, model, tanimoto_dual, trainer, epoch):\n",
    "    \n",
    "    # initialize metrics\n",
    "    cumulative_loss = 0\n",
    "    accuracy = mx.metric.Accuracy()\n",
    "    f1 = mx.metric.F1()\n",
    "    mcc = mx.metric.MCC()\n",
    "    \n",
    "    # training set\n",
    "    for batch_i, (img, extent, boundary, distance, hsv) in enumerate(\n",
    "        tqdm(train_dataloader, desc='Training epoch {}'.format(epoch))):\n",
    "        \n",
    "        with autograd.record():\n",
    "\n",
    "            img = img.as_in_context(mx.gpu())\n",
    "            extent = extent.as_in_context(mx.gpu())\n",
    "            boundary = boundary.as_in_context(mx.gpu())\n",
    "            distance = distance.as_in_context(mx.gpu())\n",
    "            hsv = hsv.as_in_context(mx.gpu())\n",
    "            \n",
    "            logits, bound, dist, convc = model(img)\n",
    "            \n",
    "            # multi-task loss\n",
    "            # TODO: wrap this in a custom loss function / class\n",
    "            loss_extent = sum(1 - tanimoto_dual(logits, extent))\n",
    "            loss_boundary = sum(1 - tanimoto_dual(bound, boundary))\n",
    "            loss_distance = sum(1 - tanimoto_dual(dist, distance))\n",
    "            loss_hsv = sum(1 - tanimoto_dual(convc, hsv))\n",
    "            \n",
    "            loss = 0.25 * (loss_extent + loss_boundary + loss_distance + loss_hsv)\n",
    "            \n",
    "        loss.backward()\n",
    "        trainer.step(batch_size)\n",
    "        \n",
    "        # update metrics based on every batch\n",
    "        cumulative_loss += mx.nd.sum(loss).asscalar()\n",
    "        # accuracy\n",
    "        extent_predicted_classes = mx.nd.ceil(logits[:,[0],:,:] - 0.5)\n",
    "        accuracy.update(extent, extent_predicted_classes)\n",
    "        # f1 score\n",
    "        prediction = logits[:,0,:,:].reshape(-1)\n",
    "        probabilities = mx.nd.stack(1 - prediction, prediction, axis=1)\n",
    "        f1.update(extent.reshape(-1), probabilities)\n",
    "        # MCC metric\n",
    "        mcc.update(extent.reshape(-1), probabilities)\n",
    "        # TODO: eccentricity\n",
    "        # TODO: ...\n",
    "        \n",
    "    return cumulative_loss, accuracy, f1, mcc"
   ]
  },
  {
   "cell_type": "code",
   "execution_count": 15,
   "metadata": {
    "scrolled": false
   },
   "outputs": [
    {
     "name": "stderr",
     "output_type": "stream",
     "text": [
      "\r",
      "Training epoch 1:   0%|          | 0/310 [00:00<?, ?it/s]"
     ]
    },
    {
     "name": "stdout",
     "output_type": "stream",
     "text": [
      "depth:= 0, nfilters: 8\n",
      "depth:= 1, nfilters: 16\n",
      "depth:= 2, nfilters: 32\n",
      "depth:= 3, nfilters: 64\n",
      "depth:= 4, nfilters: 128\n",
      "depth:= 5, nfilters: 256\n",
      "depth:= 6, nfilters: 128\n",
      "depth:= 7, nfilters: 64\n",
      "depth:= 8, nfilters: 32\n",
      "depth:= 9, nfilters: 16\n",
      "depth:= 10, nfilters: 8\n"
     ]
    },
    {
     "name": "stderr",
     "output_type": "stream",
     "text": [
      "Training epoch 1:   4%|▎         | 11/310 [00:14<06:39,  1.33s/it]\n"
     ]
    },
    {
     "ename": "KeyboardInterrupt",
     "evalue": "",
     "output_type": "error",
     "traceback": [
      "\u001b[0;31m---------------------------------------------------------------------------\u001b[0m",
      "\u001b[0;31mKeyboardInterrupt\u001b[0m                         Traceback (most recent call last)",
      "\u001b[0;32m<ipython-input-15-176e6c683b0d>\u001b[0m in \u001b[0;36m<module>\u001b[0;34m\u001b[0m\n\u001b[1;32m     24\u001b[0m     \u001b[0;31m# training set\u001b[0m\u001b[0;34m\u001b[0m\u001b[0;34m\u001b[0m\u001b[0;34m\u001b[0m\u001b[0m\n\u001b[1;32m     25\u001b[0m     train_loss, train_accuracy, train_f1, train_mcc = train_model(\n\u001b[0;32m---> 26\u001b[0;31m         train_dataloader, model, tanimoto_dual, trainer, epoch)\n\u001b[0m\u001b[1;32m     27\u001b[0m \u001b[0;34m\u001b[0m\u001b[0m\n\u001b[1;32m     28\u001b[0m     \u001b[0;31m# training set metrics\u001b[0m\u001b[0;34m\u001b[0m\u001b[0;34m\u001b[0m\u001b[0;34m\u001b[0m\u001b[0m\n",
      "\u001b[0;32m<ipython-input-14-3f6e534276b3>\u001b[0m in \u001b[0;36mtrain_model\u001b[0;34m(train_dataloader, model, tanimoto_dual, trainer, epoch)\u001b[0m\n\u001b[1;32m     34\u001b[0m \u001b[0;34m\u001b[0m\u001b[0m\n\u001b[1;32m     35\u001b[0m         \u001b[0;31m# update metrics based on every batch\u001b[0m\u001b[0;34m\u001b[0m\u001b[0;34m\u001b[0m\u001b[0;34m\u001b[0m\u001b[0m\n\u001b[0;32m---> 36\u001b[0;31m         \u001b[0mcumulative_loss\u001b[0m \u001b[0;34m+=\u001b[0m \u001b[0mmx\u001b[0m\u001b[0;34m.\u001b[0m\u001b[0mnd\u001b[0m\u001b[0;34m.\u001b[0m\u001b[0msum\u001b[0m\u001b[0;34m(\u001b[0m\u001b[0mloss\u001b[0m\u001b[0;34m)\u001b[0m\u001b[0;34m.\u001b[0m\u001b[0masscalar\u001b[0m\u001b[0;34m(\u001b[0m\u001b[0;34m)\u001b[0m\u001b[0;34m\u001b[0m\u001b[0;34m\u001b[0m\u001b[0m\n\u001b[0m\u001b[1;32m     37\u001b[0m         \u001b[0;31m# accuracy\u001b[0m\u001b[0;34m\u001b[0m\u001b[0;34m\u001b[0m\u001b[0;34m\u001b[0m\u001b[0m\n\u001b[1;32m     38\u001b[0m         \u001b[0mextent_predicted_classes\u001b[0m \u001b[0;34m=\u001b[0m \u001b[0mmx\u001b[0m\u001b[0;34m.\u001b[0m\u001b[0mnd\u001b[0m\u001b[0;34m.\u001b[0m\u001b[0mceil\u001b[0m\u001b[0;34m(\u001b[0m\u001b[0mlogits\u001b[0m\u001b[0;34m[\u001b[0m\u001b[0;34m:\u001b[0m\u001b[0;34m,\u001b[0m\u001b[0;34m[\u001b[0m\u001b[0;36m0\u001b[0m\u001b[0;34m]\u001b[0m\u001b[0;34m,\u001b[0m\u001b[0;34m:\u001b[0m\u001b[0;34m,\u001b[0m\u001b[0;34m:\u001b[0m\u001b[0;34m]\u001b[0m \u001b[0;34m-\u001b[0m \u001b[0;36m0.5\u001b[0m\u001b[0;34m)\u001b[0m\u001b[0;34m\u001b[0m\u001b[0;34m\u001b[0m\u001b[0m\n",
      "\u001b[0;32m~/anaconda3/envs/mxnet1.6.0/lib/python3.6/site-packages/mxnet/ndarray/ndarray.py\u001b[0m in \u001b[0;36masscalar\u001b[0;34m(self)\u001b[0m\n\u001b[1;32m   2551\u001b[0m         \u001b[0;32mif\u001b[0m \u001b[0mself\u001b[0m\u001b[0;34m.\u001b[0m\u001b[0mshape\u001b[0m \u001b[0;34m!=\u001b[0m \u001b[0;34m(\u001b[0m\u001b[0;36m1\u001b[0m\u001b[0;34m,\u001b[0m\u001b[0;34m)\u001b[0m\u001b[0;34m:\u001b[0m\u001b[0;34m\u001b[0m\u001b[0;34m\u001b[0m\u001b[0m\n\u001b[1;32m   2552\u001b[0m             \u001b[0;32mraise\u001b[0m \u001b[0mValueError\u001b[0m\u001b[0;34m(\u001b[0m\u001b[0;34m\"The current array is not a scalar\"\u001b[0m\u001b[0;34m)\u001b[0m\u001b[0;34m\u001b[0m\u001b[0;34m\u001b[0m\u001b[0m\n\u001b[0;32m-> 2553\u001b[0;31m         \u001b[0;32mreturn\u001b[0m \u001b[0mself\u001b[0m\u001b[0;34m.\u001b[0m\u001b[0masnumpy\u001b[0m\u001b[0;34m(\u001b[0m\u001b[0;34m)\u001b[0m\u001b[0;34m[\u001b[0m\u001b[0;36m0\u001b[0m\u001b[0;34m]\u001b[0m\u001b[0;34m\u001b[0m\u001b[0;34m\u001b[0m\u001b[0m\n\u001b[0m\u001b[1;32m   2554\u001b[0m \u001b[0;34m\u001b[0m\u001b[0m\n\u001b[1;32m   2555\u001b[0m     \u001b[0;32mdef\u001b[0m \u001b[0mastype\u001b[0m\u001b[0;34m(\u001b[0m\u001b[0mself\u001b[0m\u001b[0;34m,\u001b[0m \u001b[0mdtype\u001b[0m\u001b[0;34m,\u001b[0m \u001b[0mcopy\u001b[0m\u001b[0;34m=\u001b[0m\u001b[0;32mTrue\u001b[0m\u001b[0;34m)\u001b[0m\u001b[0;34m:\u001b[0m\u001b[0;34m\u001b[0m\u001b[0;34m\u001b[0m\u001b[0m\n",
      "\u001b[0;32m~/anaconda3/envs/mxnet1.6.0/lib/python3.6/site-packages/mxnet/ndarray/ndarray.py\u001b[0m in \u001b[0;36masnumpy\u001b[0;34m(self)\u001b[0m\n\u001b[1;32m   2533\u001b[0m             \u001b[0mself\u001b[0m\u001b[0;34m.\u001b[0m\u001b[0mhandle\u001b[0m\u001b[0;34m,\u001b[0m\u001b[0;34m\u001b[0m\u001b[0;34m\u001b[0m\u001b[0m\n\u001b[1;32m   2534\u001b[0m             \u001b[0mdata\u001b[0m\u001b[0;34m.\u001b[0m\u001b[0mctypes\u001b[0m\u001b[0;34m.\u001b[0m\u001b[0mdata_as\u001b[0m\u001b[0;34m(\u001b[0m\u001b[0mctypes\u001b[0m\u001b[0;34m.\u001b[0m\u001b[0mc_void_p\u001b[0m\u001b[0;34m)\u001b[0m\u001b[0;34m,\u001b[0m\u001b[0;34m\u001b[0m\u001b[0;34m\u001b[0m\u001b[0m\n\u001b[0;32m-> 2535\u001b[0;31m             ctypes.c_size_t(data.size)))\n\u001b[0m\u001b[1;32m   2536\u001b[0m         \u001b[0;32mreturn\u001b[0m \u001b[0mdata\u001b[0m\u001b[0;34m\u001b[0m\u001b[0;34m\u001b[0m\u001b[0m\n\u001b[1;32m   2537\u001b[0m \u001b[0;34m\u001b[0m\u001b[0m\n",
      "\u001b[0;31mKeyboardInterrupt\u001b[0m: "
     ]
    }
   ],
   "source": [
    "# hyperparameters\n",
    "lr = 0.001\n",
    "epochs = 2\n",
    "batch_size = 4\n",
    "\n",
    "# define model\n",
    "model = ResUNet_d6(_nfilters_init=8, _NClasses=2)\n",
    "model.initialize()\n",
    "model.hybridize()\n",
    "model.collect_params().reset_ctx(mx.gpu())\n",
    "\n",
    "# define loss function\n",
    "tanimoto_dual = Tanimoto_wth_dual()\n",
    "softmax_cross_entropy = gluon.loss.SoftmaxCrossEntropyLoss()\n",
    "trainer = gluon.Trainer(model.collect_params(),\n",
    "                        'adam', {'learning_rate': lr})\n",
    "\n",
    "# containers for metrics to log\n",
    "train_metrics = {'train_loss': [], 'train_acc': [], 'train_f1': [], \n",
    "                 'train_mcc': []}\n",
    "val_metrics = {'val_loss': [], 'val_acc': [], 'val_f1': [], \n",
    "               'val_mcc': []}\n",
    "\n",
    "# training loop\n",
    "for epoch in range(1, epochs+1):\n",
    "    \n",
    "    # training set\n",
    "    train_loss, train_accuracy, train_f1, train_mcc = train_model(\n",
    "        train_dataloader, model, tanimoto_dual, trainer, epoch)\n",
    "        \n",
    "    # training set metrics\n",
    "    train_loss_avg = train_loss / len(train_dataset)\n",
    "    train_metrics['train_loss'].append(train_loss_avg)\n",
    "    train_metrics['train_acc'].append(train_accuracy.get()[1])\n",
    "    train_metrics['train_f1'].append(train_f1.get()[1])\n",
    "    train_metrics['train_mcc'].append(train_mcc.get()[1])\n",
    "    \n",
    "    # validation set\n",
    "    #TODO\n",
    "    \n",
    "    # validation set metrics\n",
    "    #TODO\n",
    "    \n",
    "    print(\"Epoch {}:\".format(epoch))\n",
    "    print(\"    Train loss {:0.3f}, accuracy {:0.3f}, F1-score {:0.3f}, MCC: {:0.3f}\".format(\n",
    "        train_loss_avg, train_accuracy.get()[1], train_f1.get()[1], train_mcc.get()[1]))\n",
    "    print(\"    Val loss {:0.3f}, accuracy {:0.3f}, F1-score {:0.3f}, MCC: {:0.3f}\".format(\n",
    "        val_loss_avg, val_accuracy.get()[1], val_f1.get()[1], val_mcc.get()[1]))\n",
    "    \n",
    "    # save model\n",
    "    # TODO"
   ]
  },
  {
   "cell_type": "code",
   "execution_count": null,
   "metadata": {},
   "outputs": [],
   "source": [
    "#             img = img.astype('float32')\n",
    "#             extent = extent.astype('float32')\n",
    "#             boundary = boundary.astype('float32')\n",
    "#             distance = distance.astype('float32')\n",
    "#             hsv = hsv.astype('float32')"
   ]
  },
  {
   "cell_type": "code",
   "execution_count": null,
   "metadata": {},
   "outputs": [],
   "source": []
  }
 ],
 "metadata": {
  "kernelspec": {
   "display_name": "Environment (conda_mxnet1.6.0)",
   "language": "python",
   "name": "conda_mxnet1.6.0"
  },
  "language_info": {
   "codemirror_mode": {
    "name": "ipython",
    "version": 3
   },
   "file_extension": ".py",
   "mimetype": "text/x-python",
   "name": "python",
   "nbconvert_exporter": "python",
   "pygments_lexer": "ipython3",
   "version": "3.6.11"
  }
 },
 "nbformat": 4,
 "nbformat_minor": 2
}
