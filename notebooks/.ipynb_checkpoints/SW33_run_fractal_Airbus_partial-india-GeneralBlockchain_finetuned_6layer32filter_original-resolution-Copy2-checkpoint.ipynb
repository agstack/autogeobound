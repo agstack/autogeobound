{
 "cells": [
  {
   "cell_type": "code",
   "execution_count": 1,
   "metadata": {},
   "outputs": [],
   "source": [
    "import numpy as np\n",
    "import pandas as pd\n",
    "import os\n",
    "from tqdm import tqdm\n",
    "import visdom\n",
    "\n",
    "import mxnet as mx\n",
    "from mxnet import gluon\n",
    "from mxnet import autograd\n",
    "from mxnet import image\n",
    "\n",
    "import sys\n",
    "sys.path.append('../../resuneta/src')\n",
    "sys.path.append('../../decode/FracTAL_ResUNet/models/semanticsegmentation')\n",
    "sys.path.append('../../decode/FracTAL_ResUNet/nn/loss')\n",
    "sys.path.append('../../')\n",
    "sys.path.append('../MXNet-ResUNeta/')\n",
    "\n",
    "from bound_dist import get_distance, get_boundary\n",
    "from FracTAL_ResUNet import FracTAL_ResUNet_cmtsk\n",
    "from ftnmt_loss import ftnmt_loss_masked\n",
    "from datasets import *\n",
    "\n",
    "from sklearn.metrics import matthews_corrcoef\n",
    "\n",
    "import matplotlib.pyplot as plt\n",
    "%matplotlib inline"
   ]
  },
  {
   "cell_type": "code",
   "execution_count": 2,
   "metadata": {},
   "outputs": [],
   "source": [
    "def dice_coef(x, y):\n",
    "    if type(x).__module__ == 'numpy':\n",
    "        intersection = np.logical_and(x, y)\n",
    "        return 2. * np.sum(intersection) / (np.sum(x) + np.sum(y))\n",
    "    else:\n",
    "        intersection = mx.ndarray.op.broadcast_logical_and(x, y)\n",
    "        return 2. * mx.nd.sum(intersection) / (mx.nd.sum(x) + mx.nd.sum(y))"
   ]
  },
  {
   "cell_type": "code",
   "execution_count": 3,
   "metadata": {},
   "outputs": [],
   "source": [
    "def visdom_visualize_batch(vis, img, extent, boundary, distance,\n",
    "                           extent_pred, boundary_pred, distance_pred,\n",
    "                           hsv, hsv_pred, mask, title=\"Train images\"):\n",
    "\n",
    "    img, extent, boundary, distance = img.asnumpy(), extent.asnumpy(), boundary.asnumpy(), distance.asnumpy()\n",
    "    extent_pred, boundary_pred = extent_pred.asnumpy(), boundary_pred.asnumpy()\n",
    "    distance_pred, hsv, hsv_pred = distance_pred.asnumpy(), hsv.asnumpy(), hsv_pred.asnumpy()\n",
    "    mask = mask.asnumpy()\n",
    "\n",
    "    # put everything in one window\n",
    "    batch_size, nchannels, nrows, ncols = img.shape\n",
    "    padding = 10\n",
    "    items = [img, hsv, hsv_pred, extent, extent_pred, \n",
    "             boundary, boundary_pred, distance, distance_pred,\n",
    "             mask]\n",
    "    result = np.zeros((3, len(items)*nrows + (len(items)-1)*padding, batch_size*ncols + (batch_size-1)*padding))\n",
    "\n",
    "    for j, item in enumerate(items):\n",
    "\n",
    "        if item.shape[1] == 1:\n",
    "            item = np.tile(item, (1,3,1,1)) * 255.\n",
    "\n",
    "        if j == 1 or j == 2: # convert HSV to RGB\n",
    "            item = np.moveaxis(item, 1, -1) * 255.\n",
    "            for i in range(batch_size):\n",
    "                item[i] = cv2.cvtColor(item[i].astype(np.uint8), cv2.COLOR_HSV2RGB)\n",
    "            item = np.moveaxis(item, -1, 1)\n",
    "            \n",
    "        for i in range(batch_size):\n",
    "            result[:, j*(nrows+padding):(j+1)*nrows+j*padding, i*(ncols+padding):(i+1)*ncols+i*padding] = item[i]\n",
    "    vis.images(result, nrow=1, win=title, opts={'title': title})\n"
   ]
  },
  {
   "cell_type": "code",
   "execution_count": 4,
   "metadata": {},
   "outputs": [],
   "source": [
    "def train_model(train_dataloader, model, tanimoto_dual, trainer, epoch, args):\n",
    "    \n",
    "    # initialize metrics\n",
    "    cumulative_loss = 0\n",
    "    accuracy = mx.metric.Accuracy()\n",
    "    f1 = mx.metric.F1()\n",
    "    mcc = mx.metric.MCC()\n",
    "    dice = mx.metric.CustomMetric(feval=dice_coef, name=\"Dice\")\n",
    "    if args['ctx_name'] == 'cpu':\n",
    "        ctx = mx.cpu()\n",
    "    else:\n",
    "        ctx = mx.gpu(args['gpu'])\n",
    "    \n",
    "    # training set\n",
    "    for batch_i, (img, extent, boundary, distance, hsv, mask) in enumerate(\n",
    "        tqdm(train_dataloader, desc='Training epoch {}'.format(epoch))):\n",
    "        \n",
    "        with autograd.record():\n",
    "\n",
    "            img = img.as_in_context(ctx)\n",
    "            extent = extent.as_in_context(ctx)\n",
    "            boundary = boundary.as_in_context(ctx)\n",
    "            distance = distance.as_in_context(ctx)\n",
    "            hsv = hsv.as_in_context(ctx)\n",
    "            mask = mask.as_in_context(ctx)\n",
    "            nonmask = mx.nd.ones(extent.shape).as_in_context(ctx)\n",
    "            \n",
    "            # logits, bound, dist, convc = model(img)\n",
    "            logits, bound, dist = model(img)\n",
    "            \n",
    "            # multi-task loss\n",
    "            # TODO: wrap this in a custom loss function / class\n",
    "            loss_extent = mx.nd.sum(tanimoto_dual(logits, extent, mask))\n",
    "            loss_boundary = mx.nd.sum(tanimoto_dual(bound, boundary, mask))\n",
    "            loss_distance = mx.nd.sum(tanimoto_dual(dist, distance, mask))\n",
    "\n",
    "            loss = 0.33 * (loss_extent + loss_boundary + loss_distance) # + loss_hsv)\n",
    "            \n",
    "        loss.backward()\n",
    "        trainer.step(args['batch_size'])\n",
    "        cumulative_loss += mx.nd.sum(loss).asscalar()\n",
    "        \n",
    "        logits_reshaped = logits.reshape((logits.shape[0], -1))\n",
    "        extent_reshaped = extent.reshape((extent.shape[0], -1))\n",
    "        mask_reshaped = mask.reshape((mask.shape[0], -1))\n",
    "        \n",
    "        nonmask_idx = mx.np.nonzero(mask_reshaped.as_np_ndarray())\n",
    "        nonmask_idx = mx.np.stack(nonmask_idx).as_nd_ndarray().as_in_context(ctx)\n",
    "        logits_masked = mx.nd.gather_nd(logits_reshaped, nonmask_idx)\n",
    "        extent_masked = mx.nd.gather_nd(extent_reshaped, nonmask_idx)\n",
    "\n",
    "        # accuracy\n",
    "        extent_predicted_classes = mx.nd.ceil(logits_masked - 0.5)\n",
    "        accuracy.update(extent_masked, extent_predicted_classes)\n",
    "        \n",
    "        # f1 score\n",
    "        probabilities = mx.nd.stack(1 - logits_masked, logits_masked, axis=1)\n",
    "        f1.update(extent_masked, probabilities)\n",
    "        \n",
    "        # MCC metric\n",
    "        mcc.update(extent_masked, probabilities)\n",
    "        \n",
    "        # Dice score\n",
    "        dice.update(extent_masked, extent_predicted_classes)\n",
    "        \n",
    "        # TEMPORARY to make visdom work\n",
    "        convc = hsv\n",
    "        if batch_i % args['visdom_every'] == 0:\n",
    "            visdom_visualize_batch(args['visdom'], img, extent, boundary, distance,\n",
    "                                   logits, bound, dist, hsv, convc, mask)\n",
    "\n",
    "    return cumulative_loss, accuracy, f1, mcc, dice"
   ]
  },
  {
   "cell_type": "code",
   "execution_count": 5,
   "metadata": {},
   "outputs": [],
   "source": [
    "def evaluate_model(val_dataloader, model, tanimoto_dual, epoch, args):\n",
    "    \n",
    "    # initialize metrics\n",
    "    cumulative_loss = 0\n",
    "    accuracy = mx.metric.Accuracy()\n",
    "    f1 = mx.metric.F1()\n",
    "    mcc = mx.metric.MCC()\n",
    "    dice = mx.metric.CustomMetric(feval=dice_coef, name=\"Dice\")\n",
    "    if args['ctx_name'] == 'cpu':\n",
    "        ctx = mx.cpu()\n",
    "    else:\n",
    "        ctx = mx.gpu(args['gpu'])\n",
    "    \n",
    "    # validation set\n",
    "    for batch_i, (img, extent, boundary, distance, hsv, mask) in enumerate(\n",
    "        tqdm(val_dataloader, desc='Validation epoch {}'.format(epoch))):\n",
    "\n",
    "        img = img.as_in_context(ctx)\n",
    "        extent = extent.as_in_context(ctx)\n",
    "        boundary = boundary.as_in_context(ctx)\n",
    "        distance = distance.as_in_context(ctx)\n",
    "        hsv = hsv.as_in_context(ctx)\n",
    "        mask = mask.as_in_context(ctx)\n",
    "        nonmask = mx.nd.ones(extent.shape).as_in_context(ctx)\n",
    "\n",
    "        # logits, bound, dist, convc = model(img)\n",
    "        logits, bound, dist = model(img)\n",
    "        \n",
    "        # multi-task loss\n",
    "        # TODO: wrap this in a custom loss function / class\n",
    "        loss_extent = mx.nd.sum(tanimoto_dual(logits, extent, mask))\n",
    "        loss_boundary = mx.nd.sum(tanimoto_dual(bound, boundary, mask))\n",
    "        loss_distance = mx.nd.sum(tanimoto_dual(dist, distance, mask))\n",
    "\n",
    "        loss = 0.33 * (loss_extent + loss_boundary + loss_distance) # + loss_hsv)\n",
    "        \n",
    "        # update metrics based on every batch\n",
    "        cumulative_loss += mx.nd.sum(loss).asscalar()\n",
    "        \n",
    "        # update metrics based on every batch\n",
    "        # mask out unlabeled pixels            \n",
    "        logits_reshaped = logits.reshape((logits.shape[0], -1))\n",
    "        extent_reshaped = extent.reshape((extent.shape[0], -1))\n",
    "        mask_reshaped = mask.reshape((mask.shape[0], -1))\n",
    "        \n",
    "        nonmask_idx = mx.np.nonzero(mask_reshaped.as_np_ndarray())\n",
    "        nonmask_idx = mx.np.stack(nonmask_idx).as_nd_ndarray().as_in_context(ctx)\n",
    "        logits_masked = mx.nd.gather_nd(logits_reshaped, nonmask_idx)\n",
    "        extent_masked = mx.nd.gather_nd(extent_reshaped, nonmask_idx)\n",
    "\n",
    "        # accuracy\n",
    "        extent_predicted_classes = mx.nd.ceil(logits_masked - 0.5)\n",
    "        accuracy.update(extent_masked, extent_predicted_classes)\n",
    "        \n",
    "        # f1 score\n",
    "        probabilities = mx.nd.stack(1 - logits_masked, logits_masked, axis=1)\n",
    "        f1.update(extent_masked, probabilities)\n",
    "        \n",
    "        # MCC metric\n",
    "        mcc.update(extent_masked, probabilities)\n",
    "        \n",
    "        # Dice score\n",
    "        dice.update(extent_masked, extent_predicted_classes)\n",
    "        \n",
    "        # TEMPORARY to make visdom work\n",
    "        convc = hsv\n",
    "        if batch_i % args['visdom_every'] == 0:\n",
    "            visdom_visualize_batch(args['visdom'], img, extent, boundary, distance,\n",
    "                                   logits, bound, dist, hsv, convc, mask, title=\"Val images\")\n",
    "        \n",
    "    return cumulative_loss, accuracy, f1, mcc, dice"
   ]
  },
  {
   "cell_type": "markdown",
   "metadata": {},
   "source": [
    "# Africa datasets"
   ]
  },
  {
   "cell_type": "code",
   "execution_count": 6,
   "metadata": {},
   "outputs": [],
   "source": [
    "def run_africa(country, train_names, val_names, test_names, \n",
    "               train_names_label, val_names_label, test_names_label,\n",
    "               trained_model=None, month='Airbus',\n",
    "               epochs=100, lr=0.001, lr_decay=None, n_filters=16, batch_size=8,\n",
    "               model_type='fractal-resunet', depth=5, n_classes=1, \n",
    "               codes_to_keep=[1, 2],\n",
    "               folder_suffix='',\n",
    "               boundary_kernel_size=3,\n",
    "               ctx_name='cpu',\n",
    "               gpu_id=0):\n",
    "    \n",
    "    # Set MXNet ctx\n",
    "    if ctx_name == 'cpu':\n",
    "        ctx = mx.cpu()\n",
    "    elif ctx_name == 'gpu':\n",
    "        ctx = mx.gpu(gpu_id)\n",
    "    \n",
    "    # Set up names of directories and paths for saving\n",
    "    if trained_model is None:\n",
    "        folder_name = model_type+'_'+month+'_nfilter-'+str(n_filters)+'_depth-'+str(depth)+ \\\n",
    "                      '_bs-'+str(batch_size)+'_lr-'+str(lr)+folder_suffix\n",
    "        if lr_decay:\n",
    "            folder_name = folder_name + '_lrdecay-'+str(lr_decay)\n",
    "            \n",
    "        # define model\n",
    "        if model_type == 'resunet-d6':\n",
    "            model = ResUNet_d6(_nfilters_init=n_filters, _NClasses=n_classes)\n",
    "        elif model_type == 'resunet-d7':\n",
    "            model = ResUNet_d7(_nfilters_init=n_filters, _NClasses=n_classes)\n",
    "        elif model_type == 'fractal-resunet':\n",
    "            model = FracTAL_ResUNet_cmtsk(nfilters_init=n_filters, depth=depth, NClasses=n_classes)\n",
    "        model.initialize()\n",
    "        model.hybridize()\n",
    "        model.collect_params().reset_ctx(ctx)\n",
    "        \n",
    "    else:\n",
    "        folder_name = model_type+'_'+month+'_nfilter-'+str(n_filters)+'_depth-'+str(depth)+ \\\n",
    "                      '_bs-'+str(batch_size)+'_lr-'+str(lr)+folder_suffix\n",
    "        if model_type == 'resunet-d6':\n",
    "            model = ResUNet_d6(_nfilters_init=n_filters, _NClasses=n_classes)\n",
    "        elif model_type == 'resunet-d7':\n",
    "            model = ResUNet_d7(_nfilters_init=n_filters, _NClasses=n_classes)\n",
    "        elif model_type == 'fractal-resunet':\n",
    "            model = FracTAL_ResUNet_cmtsk(nfilters_init=n_filters, depth=depth, NClasses=n_classes)\n",
    "        model.load_parameters(trained_model, ctx=ctx)\n",
    "        \n",
    "    save_path = os.path.join('../experiments/', country, folder_name)\n",
    "    if not os.path.isdir(save_path):\n",
    "        os.makedirs(save_path)\n",
    "    save_model_name = os.path.join(save_path, \"model.params\")\n",
    "    \n",
    "    # Visdom\n",
    "    env_name = country + '_' + folder_name\n",
    "    vis = visdom.Visdom(port=8097, env=env_name)\n",
    "    \n",
    "    # Arguments\n",
    "    args = {}\n",
    "    args['batch_size'] = batch_size\n",
    "    args['ctx_name'] = ctx_name\n",
    "    args['gpu'] = gpu_id\n",
    "    args['visdom'] = vis\n",
    "    args['visdom_every'] = 20\n",
    "\n",
    "    # Define train/val/test splits\n",
    "    train_dataset = AirbusMasked(\n",
    "        fold='train', \n",
    "        image_names=train_names, \n",
    "        label_names=train_names_label, \n",
    "        classes=codes_to_keep,\n",
    "        boundary_kernel_size=boundary_kernel_size)\n",
    "    val_dataset = AirbusMasked(\n",
    "        fold='val', \n",
    "        image_names=val_names, \n",
    "        label_names=val_names_label, \n",
    "        classes=codes_to_keep,\n",
    "        boundary_kernel_size=boundary_kernel_size)\n",
    "    test_dataset = AirbusMasked(\n",
    "        fold='test', \n",
    "        image_names=test_names, \n",
    "        label_names=test_names_label, \n",
    "        classes=codes_to_keep,\n",
    "        boundary_kernel_size=boundary_kernel_size)\n",
    "\n",
    "    train_dataloader = gluon.data.DataLoader(train_dataset, batch_size=batch_size, shuffle=True)\n",
    "    val_dataloader = gluon.data.DataLoader(val_dataset, batch_size=batch_size)\n",
    "    test_dataloader = gluon.data.DataLoader(test_dataset, batch_size=batch_size)\n",
    "\n",
    "    # define loss function\n",
    "    tanimoto_dual = ftnmt_loss_masked(depth=0) # Tanimoto_with_dual_masked()\n",
    "    if lr_decay:\n",
    "        schedule = mx.lr_scheduler.FactorScheduler(step=1, factor=lr_decay)\n",
    "        adam_optimizer = mx.optimizer.Adam(learning_rate=lr, lr_scheduler=schedule)\n",
    "    else:\n",
    "        adam_optimizer = mx.optimizer.Adam(learning_rate=lr)\n",
    "    trainer = gluon.Trainer(model.collect_params(), optimizer=adam_optimizer)\n",
    "\n",
    "    # containers for metrics to log\n",
    "    train_metrics = {'train_loss': [], 'train_acc': [], 'train_f1': [], \n",
    "                     'train_mcc': [], 'train_dice': []}\n",
    "    val_metrics = {'val_loss': [], 'val_acc': [], 'val_f1': [], \n",
    "                   'val_mcc': [], 'val_dice': []}\n",
    "    best_mcc = 0.0\n",
    "\n",
    "    # training loop\n",
    "    for epoch in range(1, epochs+1):\n",
    "\n",
    "        # training set\n",
    "        train_loss, train_accuracy, train_f1, train_mcc, train_dice = train_model(\n",
    "            train_dataloader, model, tanimoto_dual, trainer, epoch, args)\n",
    "\n",
    "        # training set metrics\n",
    "        train_loss_avg = train_loss / len(train_dataset)\n",
    "        train_metrics['train_loss'].append(train_loss_avg)\n",
    "        train_metrics['train_acc'].append(train_accuracy.get()[1])\n",
    "        train_metrics['train_f1'].append(train_f1.get()[1])\n",
    "        train_metrics['train_mcc'].append(train_mcc.get()[1])\n",
    "        train_metrics['train_dice'].append(train_dice.get()[1])\n",
    "\n",
    "        # validation set\n",
    "        val_loss, val_accuracy, val_f1, val_mcc, val_dice = evaluate_model(\n",
    "            val_dataloader, model, tanimoto_dual, epoch, args)\n",
    "\n",
    "        # validation set metrics\n",
    "        val_loss_avg = val_loss / len(val_dataset)\n",
    "        val_metrics['val_loss'].append(val_loss_avg)\n",
    "        val_metrics['val_acc'].append(val_accuracy.get()[1])\n",
    "        val_metrics['val_f1'].append(val_f1.get()[1])\n",
    "        val_metrics['val_mcc'].append(val_mcc.get()[1])\n",
    "        val_metrics['val_dice'].append(val_dice.get()[1])\n",
    "\n",
    "        print(\"Epoch {}:\".format(epoch))\n",
    "        print(\"    Train loss {:0.3f}, accuracy {:0.3f}, F1-score {:0.3f}, MCC: {:0.3f}, Dice: {:0.3f}\".format(\n",
    "            train_loss_avg, train_accuracy.get()[1], train_f1.get()[1], train_mcc.get()[1], train_dice.get()[1]))\n",
    "        print(\"    Val loss {:0.3f}, accuracy {:0.3f}, F1-score {:0.3f}, MCC: {:0.3f}, Dice: {:0.3f}\".format(\n",
    "            val_loss_avg, val_accuracy.get()[1], val_f1.get()[1], val_mcc.get()[1], val_dice.get()[1]))\n",
    "\n",
    "        # save model based on best MCC metric\n",
    "        if val_mcc.get()[1] > best_mcc:\n",
    "            model.save_parameters(save_model_name)\n",
    "            best_mcc = val_mcc.get()[1]\n",
    "\n",
    "        # save metrics\n",
    "        metrics = pd.concat([pd.DataFrame(train_metrics), pd.DataFrame(val_metrics)], axis=1)\n",
    "        metrics.to_csv(os.path.join(save_path, 'metrics.csv'), index=False)\n",
    "\n",
    "        # visdom\n",
    "        vis.line(Y=np.stack([train_metrics['train_loss'], val_metrics['val_loss']], axis=1), \n",
    "                 X=np.arange(1, epoch+1), win=\"Loss\", \n",
    "                 opts=dict(legend=['train loss', 'val loss'], markers=False, title=\"Losses\",\n",
    "                           xlabel=\"Epoch\", ylabel=\"Loss\")\n",
    "                )\n",
    "        vis.line(Y=np.stack([train_metrics['train_mcc'], val_metrics['val_mcc']], axis=1), \n",
    "                 X=np.arange(1, epoch+1), win=\"MCC\", \n",
    "                 opts=dict(legend=['train MCC', 'val MCC'], markers=False, title=\"MCC\",\n",
    "                           xlabel=\"Epoch\", ylabel=\"MCC\")\n",
    "                )\n"
   ]
  },
  {
   "cell_type": "markdown",
   "metadata": {},
   "source": [
    "### Run on 1x-3x downsampled Airbus imagery"
   ]
  },
  {
   "cell_type": "code",
   "execution_count": 7,
   "metadata": {
    "collapsed": true
   },
   "outputs": [
    {
     "name": "stdout",
     "output_type": "stream",
     "text": [
      "depth:= 0, nfilters: 32, nheads::8, widths::1\n",
      "depth:= 1, nfilters: 64, nheads::16, widths::1\n",
      "depth:= 2, nfilters: 128, nheads::32, widths::1\n",
      "depth:= 3, nfilters: 256, nheads::64, widths::1\n",
      "depth:= 4, nfilters: 512, nheads::128, widths::1\n",
      "depth:= 5, nfilters: 1024, nheads::256, widths::1\n",
      "depth:= 6, nfilters: 512, nheads::256, widths::1\n",
      "depth:= 7, nfilters: 256, nheads::128, widths::1\n",
      "depth:= 8, nfilters: 128, nheads::64, widths::1\n",
      "depth:= 9, nfilters: 64, nheads::32, widths::1\n",
      "depth:= 10, nfilters: 32, nheads::16, widths::1\n"
     ]
    },
    {
     "name": "stderr",
     "output_type": "stream",
     "text": [
      "Setting up a new session...\n",
      "Training epoch 1:  14%|█▍        | 107/769 [01:52<11:35,  1.05s/it]\n"
     ]
    },
    {
     "ename": "KeyboardInterrupt",
     "evalue": "",
     "output_type": "error",
     "traceback": [
      "\u001b[0;31m---------------------------------------------------------------------------\u001b[0m",
      "\u001b[0;31mKeyboardInterrupt\u001b[0m                         Traceback (most recent call last)",
      "\u001b[0;32m<ipython-input-7-89174eaac6ec>\u001b[0m in \u001b[0;36m<module>\u001b[0;34m\u001b[0m\n\u001b[1;32m     87\u001b[0m            \u001b[0mgpu_id\u001b[0m\u001b[0;34m=\u001b[0m\u001b[0mgpu_id\u001b[0m\u001b[0;34m,\u001b[0m\u001b[0;34m\u001b[0m\u001b[0;34m\u001b[0m\u001b[0m\n\u001b[1;32m     88\u001b[0m            \u001b[0mfolder_suffix\u001b[0m\u001b[0;34m=\u001b[0m\u001b[0mfolder_suffix\u001b[0m\u001b[0;34m,\u001b[0m\u001b[0;34m\u001b[0m\u001b[0;34m\u001b[0m\u001b[0m\n\u001b[0;32m---> 89\u001b[0;31m            boundary_kernel_size=boundary_kernel_size)\n\u001b[0m",
      "\u001b[0;32m<ipython-input-6-63fd61006de6>\u001b[0m in \u001b[0;36mrun_africa\u001b[0;34m(country, train_names, val_names, test_names, train_names_label, val_names_label, test_names_label, trained_model, month, epochs, lr, lr_decay, n_filters, batch_size, model_type, depth, n_classes, codes_to_keep, folder_suffix, boundary_kernel_size, ctx_name, gpu_id)\u001b[0m\n\u001b[1;32m    107\u001b[0m         \u001b[0;31m# training set\u001b[0m\u001b[0;34m\u001b[0m\u001b[0;34m\u001b[0m\u001b[0;34m\u001b[0m\u001b[0m\n\u001b[1;32m    108\u001b[0m         train_loss, train_accuracy, train_f1, train_mcc, train_dice = train_model(\n\u001b[0;32m--> 109\u001b[0;31m             train_dataloader, model, tanimoto_dual, trainer, epoch, args)\n\u001b[0m\u001b[1;32m    110\u001b[0m \u001b[0;34m\u001b[0m\u001b[0m\n\u001b[1;32m    111\u001b[0m         \u001b[0;31m# training set metrics\u001b[0m\u001b[0;34m\u001b[0m\u001b[0;34m\u001b[0m\u001b[0;34m\u001b[0m\u001b[0m\n",
      "\u001b[0;32m<ipython-input-4-5ee6e94e3209>\u001b[0m in \u001b[0;36mtrain_model\u001b[0;34m(train_dataloader, model, tanimoto_dual, trainer, epoch, args)\u001b[0m\n\u001b[1;32m     39\u001b[0m         \u001b[0mloss\u001b[0m\u001b[0;34m.\u001b[0m\u001b[0mbackward\u001b[0m\u001b[0;34m(\u001b[0m\u001b[0;34m)\u001b[0m\u001b[0;34m\u001b[0m\u001b[0;34m\u001b[0m\u001b[0m\n\u001b[1;32m     40\u001b[0m         \u001b[0mtrainer\u001b[0m\u001b[0;34m.\u001b[0m\u001b[0mstep\u001b[0m\u001b[0;34m(\u001b[0m\u001b[0margs\u001b[0m\u001b[0;34m[\u001b[0m\u001b[0;34m'batch_size'\u001b[0m\u001b[0;34m]\u001b[0m\u001b[0;34m)\u001b[0m\u001b[0;34m\u001b[0m\u001b[0;34m\u001b[0m\u001b[0m\n\u001b[0;32m---> 41\u001b[0;31m         \u001b[0mcumulative_loss\u001b[0m \u001b[0;34m+=\u001b[0m \u001b[0mmx\u001b[0m\u001b[0;34m.\u001b[0m\u001b[0mnd\u001b[0m\u001b[0;34m.\u001b[0m\u001b[0msum\u001b[0m\u001b[0;34m(\u001b[0m\u001b[0mloss\u001b[0m\u001b[0;34m)\u001b[0m\u001b[0;34m.\u001b[0m\u001b[0masscalar\u001b[0m\u001b[0;34m(\u001b[0m\u001b[0;34m)\u001b[0m\u001b[0;34m\u001b[0m\u001b[0;34m\u001b[0m\u001b[0m\n\u001b[0m\u001b[1;32m     42\u001b[0m \u001b[0;34m\u001b[0m\u001b[0m\n\u001b[1;32m     43\u001b[0m         \u001b[0mlogits_reshaped\u001b[0m \u001b[0;34m=\u001b[0m \u001b[0mlogits\u001b[0m\u001b[0;34m.\u001b[0m\u001b[0mreshape\u001b[0m\u001b[0;34m(\u001b[0m\u001b[0;34m(\u001b[0m\u001b[0mlogits\u001b[0m\u001b[0;34m.\u001b[0m\u001b[0mshape\u001b[0m\u001b[0;34m[\u001b[0m\u001b[0;36m0\u001b[0m\u001b[0;34m]\u001b[0m\u001b[0;34m,\u001b[0m \u001b[0;34m-\u001b[0m\u001b[0;36m1\u001b[0m\u001b[0;34m)\u001b[0m\u001b[0;34m)\u001b[0m\u001b[0;34m\u001b[0m\u001b[0;34m\u001b[0m\u001b[0m\n",
      "\u001b[0;32m~/anaconda3/envs/mxnet1.6.0/lib/python3.6/site-packages/mxnet/ndarray/ndarray.py\u001b[0m in \u001b[0;36masscalar\u001b[0;34m(self)\u001b[0m\n\u001b[1;32m   2551\u001b[0m         \u001b[0;32mif\u001b[0m \u001b[0mself\u001b[0m\u001b[0;34m.\u001b[0m\u001b[0mshape\u001b[0m \u001b[0;34m!=\u001b[0m \u001b[0;34m(\u001b[0m\u001b[0;36m1\u001b[0m\u001b[0;34m,\u001b[0m\u001b[0;34m)\u001b[0m\u001b[0;34m:\u001b[0m\u001b[0;34m\u001b[0m\u001b[0;34m\u001b[0m\u001b[0m\n\u001b[1;32m   2552\u001b[0m             \u001b[0;32mraise\u001b[0m \u001b[0mValueError\u001b[0m\u001b[0;34m(\u001b[0m\u001b[0;34m\"The current array is not a scalar\"\u001b[0m\u001b[0;34m)\u001b[0m\u001b[0;34m\u001b[0m\u001b[0;34m\u001b[0m\u001b[0m\n\u001b[0;32m-> 2553\u001b[0;31m         \u001b[0;32mreturn\u001b[0m \u001b[0mself\u001b[0m\u001b[0;34m.\u001b[0m\u001b[0masnumpy\u001b[0m\u001b[0;34m(\u001b[0m\u001b[0;34m)\u001b[0m\u001b[0;34m[\u001b[0m\u001b[0;36m0\u001b[0m\u001b[0;34m]\u001b[0m\u001b[0;34m\u001b[0m\u001b[0;34m\u001b[0m\u001b[0m\n\u001b[0m\u001b[1;32m   2554\u001b[0m \u001b[0;34m\u001b[0m\u001b[0m\n\u001b[1;32m   2555\u001b[0m     \u001b[0;32mdef\u001b[0m \u001b[0mastype\u001b[0m\u001b[0;34m(\u001b[0m\u001b[0mself\u001b[0m\u001b[0;34m,\u001b[0m \u001b[0mdtype\u001b[0m\u001b[0;34m,\u001b[0m \u001b[0mcopy\u001b[0m\u001b[0;34m=\u001b[0m\u001b[0;32mTrue\u001b[0m\u001b[0;34m)\u001b[0m\u001b[0;34m:\u001b[0m\u001b[0;34m\u001b[0m\u001b[0;34m\u001b[0m\u001b[0m\n",
      "\u001b[0;32m~/anaconda3/envs/mxnet1.6.0/lib/python3.6/site-packages/mxnet/ndarray/ndarray.py\u001b[0m in \u001b[0;36masnumpy\u001b[0;34m(self)\u001b[0m\n\u001b[1;32m   2533\u001b[0m             \u001b[0mself\u001b[0m\u001b[0;34m.\u001b[0m\u001b[0mhandle\u001b[0m\u001b[0;34m,\u001b[0m\u001b[0;34m\u001b[0m\u001b[0;34m\u001b[0m\u001b[0m\n\u001b[1;32m   2534\u001b[0m             \u001b[0mdata\u001b[0m\u001b[0;34m.\u001b[0m\u001b[0mctypes\u001b[0m\u001b[0;34m.\u001b[0m\u001b[0mdata_as\u001b[0m\u001b[0;34m(\u001b[0m\u001b[0mctypes\u001b[0m\u001b[0;34m.\u001b[0m\u001b[0mc_void_p\u001b[0m\u001b[0;34m)\u001b[0m\u001b[0;34m,\u001b[0m\u001b[0;34m\u001b[0m\u001b[0;34m\u001b[0m\u001b[0m\n\u001b[0;32m-> 2535\u001b[0;31m             ctypes.c_size_t(data.size)))\n\u001b[0m\u001b[1;32m   2536\u001b[0m         \u001b[0;32mreturn\u001b[0m \u001b[0mdata\u001b[0m\u001b[0;34m\u001b[0m\u001b[0;34m\u001b[0m\u001b[0m\n\u001b[1;32m   2537\u001b[0m \u001b[0;34m\u001b[0m\u001b[0m\n",
      "\u001b[0;31mKeyboardInterrupt\u001b[0m: "
     ]
    }
   ],
   "source": [
    "# ============================ #\n",
    "# user-specified hyperparameters\n",
    "# ============================ #\n",
    "country = 'india'\n",
    "epochs = 100\n",
    "lr = 0.001\n",
    "lr_decay = None\n",
    "n_filters = 32\n",
    "depth = 6\n",
    "n_classes = 1\n",
    "batch_size = 5\n",
    "model_type = 'fractal-resunet' # 'resunet-d6'\n",
    "month = 'all13'\n",
    "codes_to_keep = [1]\n",
    "ctx_name = 'gpu'\n",
    "gpu_id = 0\n",
    "boundary_kernel_size = (2,2)\n",
    "\n",
    "trained_model = '../experiments/partial-france/fractal-resunet_3month-separate_nfilter-32_depth-6_bs-8_lr-0.001_2x-3x-downsampled_allfields_n6759/model.params'\n",
    "# trained_model = '../experiments/india/fractal-resunet_Airbus_nfilter-32_depth-6_bs-5_lr-0.001_3x-downsampled-erosion2px_n200_fromscratch/model.params'\n",
    "# trained_model = None\n",
    "\n",
    "folder_suffix = '_1x-3x-downsampled-erosion2px'\n",
    "if trained_model is None:\n",
    "    folder_suffix += '_fromscratch'\n",
    "elif 'india' in trained_model:\n",
    "    folder_suffix += '_fromscratch-continued'\n",
    "elif 'france' in trained_model:\n",
    "    folder_suffix += '_finetuned'\n",
    "    \n",
    "month_name = 'Airbus'\n",
    "splits_path = '../data/splits/india_planetImagery_splits_20x20_v2.csv'\n",
    "splits_df = pd.read_csv(splits_path, dtype=str)\n",
    "splits_df['image_id'] = splits_df['image_id'].str.zfill(4)\n",
    "splits_df = splits_df.drop_duplicates('image_id')\n",
    "\n",
    "# get all img and labels\n",
    "all_img_names = []\n",
    "all_label_names = []\n",
    "img_dirs = ['../data/general_blockchain/airbus_false_color/large/original/',\n",
    "            '../data/general_blockchain/airbus_false_color/large/2x_downsample/',\n",
    "            '../data/general_blockchain/airbus_false_color/large/3x_downsample/']\n",
    "label_dirs = ['../data/general_blockchain/airbus_labels/large/original/',\n",
    "              '../data/general_blockchain/airbus_labels/large/2x_downsample_erosion1px/',\n",
    "              '../data/general_blockchain/airbus_labels/large/3x_downsample_erosion2px/']\n",
    "\n",
    "for img_dir, label_dir in zip(img_dirs, label_dirs):\n",
    "    label_folder_imgs = sorted(os.listdir(label_dir))\n",
    "    for label_name in label_folder_imgs:\n",
    "        img_name = 'airbus_geowiki_' + label_name.split('_')[-1].split('.')[0] + '.png'\n",
    "        img_path = os.path.join(img_dir, img_name)\n",
    "        all_img_names.append(img_path)\n",
    "        label_path = os.path.join(label_dir, label_name)\n",
    "        all_label_names.append(label_path)\n",
    "    \n",
    "# split imgs and labels into train/val/test\n",
    "all_images = pd.DataFrame({'img_path': all_img_names})\n",
    "all_images['image_id'] = all_images['img_path'].str.split('/').apply(\n",
    "    lambda x: x[-1]).str.split('.').apply(\n",
    "    lambda x: x[0]).str.split('_').apply(\n",
    "    lambda x: x[-1][1:])\n",
    "all_images = all_images.merge(splits_df[['image_id', 'fold']], on='image_id', how='left')\n",
    "train_names = all_images[all_images['fold'] == 'train']['img_path'].values\n",
    "val_names = all_images[all_images['fold'] == 'val']['img_path'].values\n",
    "test_names = all_images[all_images['fold'] == 'test']['img_path'].values\n",
    "\n",
    "all_labels = pd.DataFrame({'label_path': all_label_names})\n",
    "all_labels['image_id'] = all_labels['label_path'].str.split('/').apply(\n",
    "    lambda x: x[-1]).str.split('.').apply(\n",
    "    lambda x: x[0]).str.split('_').apply(\n",
    "    lambda x: x[-1][1:])\n",
    "all_labels = all_labels.merge(splits_df[['image_id', 'fold']], on='image_id', how='left')\n",
    "train_names_label = all_labels[all_labels['fold'] == 'train']['label_path'].values\n",
    "val_names_label = all_labels[all_labels['fold'] == 'val']['label_path'].values\n",
    "test_names_label = all_labels[all_labels['fold'] == 'test']['label_path'].values\n",
    "\n",
    "# ============================ #\n",
    "\n",
    "run_africa(country, train_names, val_names, test_names,\n",
    "           train_names_label, val_names_label, test_names_label,\n",
    "           trained_model=trained_model,\n",
    "           epochs=epochs, lr=lr, lr_decay=lr_decay, \n",
    "           model_type=model_type, n_filters=n_filters, depth=depth, n_classes=n_classes,\n",
    "           batch_size=batch_size, month=month_name,\n",
    "           codes_to_keep=codes_to_keep, \n",
    "           ctx_name=ctx_name,\n",
    "           gpu_id=gpu_id, \n",
    "           folder_suffix=folder_suffix,\n",
    "           boundary_kernel_size=boundary_kernel_size)"
   ]
  },
  {
   "cell_type": "markdown",
   "metadata": {},
   "source": [
    "### Only original resolution imagery"
   ]
  },
  {
   "cell_type": "code",
   "execution_count": 7,
   "metadata": {
    "scrolled": true
   },
   "outputs": [
    {
     "name": "stdout",
     "output_type": "stream",
     "text": [
      "depth:= 0, nfilters: 32, nheads::8, widths::1\n",
      "depth:= 1, nfilters: 64, nheads::16, widths::1\n",
      "depth:= 2, nfilters: 128, nheads::32, widths::1\n",
      "depth:= 3, nfilters: 256, nheads::64, widths::1\n",
      "depth:= 4, nfilters: 512, nheads::128, widths::1\n",
      "depth:= 5, nfilters: 1024, nheads::256, widths::1\n",
      "depth:= 6, nfilters: 512, nheads::256, widths::1\n",
      "depth:= 7, nfilters: 256, nheads::128, widths::1\n",
      "depth:= 8, nfilters: 128, nheads::64, widths::1\n",
      "depth:= 9, nfilters: 64, nheads::32, widths::1\n",
      "depth:= 10, nfilters: 32, nheads::16, widths::1\n"
     ]
    },
    {
     "name": "stderr",
     "output_type": "stream",
     "text": [
      "Setting up a new session...\n",
      "Training epoch 1: 100%|██████████| 257/257 [14:25<00:00,  3.37s/it]\n",
      "Validation epoch 1: 100%|██████████| 60/60 [01:46<00:00,  1.77s/it]\n"
     ]
    },
    {
     "name": "stdout",
     "output_type": "stream",
     "text": [
      "Epoch 1:\n",
      "    Train loss 0.230, accuracy 0.901, F1-score 0.940, MCC: 0.464, Dice: 0.940\n",
      "    Val loss 0.227, accuracy 0.912, F1-score 0.949, MCC: 0.473, Dice: 0.949\n"
     ]
    },
    {
     "name": "stderr",
     "output_type": "stream",
     "text": [
      "Training epoch 2: 100%|██████████| 257/257 [14:33<00:00,  3.40s/it]\n",
      "Validation epoch 2: 100%|██████████| 60/60 [02:04<00:00,  2.07s/it]\n"
     ]
    },
    {
     "name": "stdout",
     "output_type": "stream",
     "text": [
      "Epoch 2:\n",
      "    Train loss 0.226, accuracy 0.904, F1-score 0.940, MCC: 0.473, Dice: 0.940\n",
      "    Val loss 0.223, accuracy 0.913, F1-score 0.948, MCC: 0.482, Dice: 0.948\n"
     ]
    },
    {
     "name": "stderr",
     "output_type": "stream",
     "text": [
      "Training epoch 3: 100%|██████████| 257/257 [15:14<00:00,  3.56s/it]\n",
      "Validation epoch 3: 100%|██████████| 60/60 [02:01<00:00,  2.02s/it]\n",
      "Training epoch 4:   0%|          | 0/257 [00:00<?, ?it/s]"
     ]
    },
    {
     "name": "stdout",
     "output_type": "stream",
     "text": [
      "Epoch 3:\n",
      "    Train loss 0.226, accuracy 0.904, F1-score 0.940, MCC: 0.471, Dice: 0.940\n",
      "    Val loss 0.219, accuracy 0.918, F1-score 0.951, MCC: 0.475, Dice: 0.951\n"
     ]
    },
    {
     "name": "stderr",
     "output_type": "stream",
     "text": [
      "Training epoch 4: 100%|██████████| 257/257 [15:27<00:00,  3.61s/it]\n",
      "Validation epoch 4: 100%|██████████| 60/60 [02:08<00:00,  2.15s/it]\n",
      "Training epoch 5:   0%|          | 0/257 [00:00<?, ?it/s]"
     ]
    },
    {
     "name": "stdout",
     "output_type": "stream",
     "text": [
      "Epoch 4:\n",
      "    Train loss 0.227, accuracy 0.906, F1-score 0.941, MCC: 0.478, Dice: 0.941\n",
      "    Val loss 0.225, accuracy 0.914, F1-score 0.950, MCC: 0.470, Dice: 0.950\n"
     ]
    },
    {
     "name": "stderr",
     "output_type": "stream",
     "text": [
      "Training epoch 5: 100%|██████████| 257/257 [15:40<00:00,  3.66s/it]\n",
      "Validation epoch 5: 100%|██████████| 60/60 [02:11<00:00,  2.19s/it]\n",
      "Training epoch 6:   0%|          | 0/257 [00:00<?, ?it/s]"
     ]
    },
    {
     "name": "stdout",
     "output_type": "stream",
     "text": [
      "Epoch 5:\n",
      "    Train loss 0.226, accuracy 0.904, F1-score 0.941, MCC: 0.475, Dice: 0.941\n",
      "    Val loss 0.224, accuracy 0.913, F1-score 0.948, MCC: 0.476, Dice: 0.948\n"
     ]
    },
    {
     "name": "stderr",
     "output_type": "stream",
     "text": [
      "Training epoch 6: 100%|██████████| 257/257 [15:41<00:00,  3.67s/it]\n",
      "Validation epoch 6: 100%|██████████| 60/60 [02:10<00:00,  2.18s/it]\n",
      "Training epoch 7:   0%|          | 0/257 [00:00<?, ?it/s]"
     ]
    },
    {
     "name": "stdout",
     "output_type": "stream",
     "text": [
      "Epoch 6:\n",
      "    Train loss 0.228, accuracy 0.905, F1-score 0.941, MCC: 0.478, Dice: 0.941\n",
      "    Val loss 0.220, accuracy 0.918, F1-score 0.951, MCC: 0.479, Dice: 0.951\n"
     ]
    },
    {
     "name": "stderr",
     "output_type": "stream",
     "text": [
      "Training epoch 7: 100%|██████████| 257/257 [15:46<00:00,  3.68s/it]\n",
      "Validation epoch 7: 100%|██████████| 60/60 [02:10<00:00,  2.17s/it]\n",
      "Training epoch 8:   0%|          | 0/257 [00:00<?, ?it/s]"
     ]
    },
    {
     "name": "stdout",
     "output_type": "stream",
     "text": [
      "Epoch 7:\n",
      "    Train loss 0.226, accuracy 0.904, F1-score 0.942, MCC: 0.474, Dice: 0.942\n",
      "    Val loss 0.219, accuracy 0.915, F1-score 0.949, MCC: 0.479, Dice: 0.949\n"
     ]
    },
    {
     "name": "stderr",
     "output_type": "stream",
     "text": [
      "Training epoch 8: 100%|██████████| 257/257 [15:45<00:00,  3.68s/it]\n",
      "Validation epoch 8: 100%|██████████| 60/60 [02:10<00:00,  2.17s/it]\n",
      "Training epoch 9:   0%|          | 0/257 [00:00<?, ?it/s]"
     ]
    },
    {
     "name": "stdout",
     "output_type": "stream",
     "text": [
      "Epoch 8:\n",
      "    Train loss 0.228, accuracy 0.903, F1-score 0.940, MCC: 0.473, Dice: 0.940\n",
      "    Val loss 0.220, accuracy 0.915, F1-score 0.950, MCC: 0.475, Dice: 0.950\n"
     ]
    },
    {
     "name": "stderr",
     "output_type": "stream",
     "text": [
      "Training epoch 9: 100%|██████████| 257/257 [15:43<00:00,  3.67s/it]\n",
      "Validation epoch 9: 100%|██████████| 60/60 [02:10<00:00,  2.17s/it]\n",
      "Training epoch 10:   0%|          | 0/257 [00:00<?, ?it/s]"
     ]
    },
    {
     "name": "stdout",
     "output_type": "stream",
     "text": [
      "Epoch 9:\n",
      "    Train loss 0.224, accuracy 0.907, F1-score 0.942, MCC: 0.475, Dice: 0.942\n",
      "    Val loss 0.219, accuracy 0.915, F1-score 0.950, MCC: 0.468, Dice: 0.950\n"
     ]
    },
    {
     "name": "stderr",
     "output_type": "stream",
     "text": [
      "Training epoch 10: 100%|██████████| 257/257 [15:26<00:00,  3.60s/it]\n",
      "Validation epoch 10: 100%|██████████| 60/60 [02:06<00:00,  2.12s/it]\n",
      "Training epoch 11:   0%|          | 0/257 [00:00<?, ?it/s]"
     ]
    },
    {
     "name": "stdout",
     "output_type": "stream",
     "text": [
      "Epoch 10:\n",
      "    Train loss 0.226, accuracy 0.904, F1-score 0.940, MCC: 0.477, Dice: 0.940\n",
      "    Val loss 0.226, accuracy 0.919, F1-score 0.953, MCC: 0.477, Dice: 0.953\n"
     ]
    },
    {
     "name": "stderr",
     "output_type": "stream",
     "text": [
      "Training epoch 11: 100%|██████████| 257/257 [15:09<00:00,  3.54s/it]\n",
      "Validation epoch 11: 100%|██████████| 60/60 [02:00<00:00,  2.00s/it]\n"
     ]
    },
    {
     "name": "stdout",
     "output_type": "stream",
     "text": [
      "Epoch 11:\n",
      "    Train loss 0.224, accuracy 0.905, F1-score 0.941, MCC: 0.473, Dice: 0.941\n",
      "    Val loss 0.222, accuracy 0.914, F1-score 0.950, MCC: 0.484, Dice: 0.950\n"
     ]
    },
    {
     "name": "stderr",
     "output_type": "stream",
     "text": [
      "Training epoch 12: 100%|██████████| 257/257 [15:11<00:00,  3.55s/it]\n",
      "Validation epoch 12: 100%|██████████| 60/60 [02:02<00:00,  2.04s/it]\n",
      "Training epoch 13:   0%|          | 0/257 [00:00<?, ?it/s]"
     ]
    },
    {
     "name": "stdout",
     "output_type": "stream",
     "text": [
      "Epoch 12:\n",
      "    Train loss 0.228, accuracy 0.908, F1-score 0.941, MCC: 0.476, Dice: 0.941\n",
      "    Val loss 0.216, accuracy 0.915, F1-score 0.952, MCC: 0.483, Dice: 0.952\n"
     ]
    },
    {
     "name": "stderr",
     "output_type": "stream",
     "text": [
      "Training epoch 13: 100%|██████████| 257/257 [15:04<00:00,  3.52s/it]\n",
      "Validation epoch 13: 100%|██████████| 60/60 [02:05<00:00,  2.09s/it]\n",
      "Training epoch 14:   0%|          | 0/257 [00:00<?, ?it/s]"
     ]
    },
    {
     "name": "stdout",
     "output_type": "stream",
     "text": [
      "Epoch 13:\n",
      "    Train loss 0.224, accuracy 0.906, F1-score 0.942, MCC: 0.478, Dice: 0.942\n",
      "    Val loss 0.219, accuracy 0.913, F1-score 0.950, MCC: 0.472, Dice: 0.950\n"
     ]
    },
    {
     "name": "stderr",
     "output_type": "stream",
     "text": [
      "Training epoch 14: 100%|██████████| 257/257 [15:09<00:00,  3.54s/it]\n",
      "Validation epoch 14: 100%|██████████| 60/60 [02:03<00:00,  2.05s/it]\n",
      "Training epoch 15:   0%|          | 0/257 [00:00<?, ?it/s]"
     ]
    },
    {
     "name": "stdout",
     "output_type": "stream",
     "text": [
      "Epoch 14:\n",
      "    Train loss 0.225, accuracy 0.907, F1-score 0.941, MCC: 0.479, Dice: 0.941\n",
      "    Val loss 0.223, accuracy 0.912, F1-score 0.949, MCC: 0.475, Dice: 0.949\n"
     ]
    },
    {
     "name": "stderr",
     "output_type": "stream",
     "text": [
      "Training epoch 15: 100%|██████████| 257/257 [15:04<00:00,  3.52s/it]\n",
      "Validation epoch 15: 100%|██████████| 60/60 [01:59<00:00,  2.00s/it]\n",
      "Training epoch 16:   0%|          | 0/257 [00:00<?, ?it/s]"
     ]
    },
    {
     "name": "stdout",
     "output_type": "stream",
     "text": [
      "Epoch 15:\n",
      "    Train loss 0.223, accuracy 0.903, F1-score 0.941, MCC: 0.476, Dice: 0.941\n",
      "    Val loss 0.230, accuracy 0.909, F1-score 0.946, MCC: 0.472, Dice: 0.946\n"
     ]
    },
    {
     "name": "stderr",
     "output_type": "stream",
     "text": [
      "Training epoch 16:  91%|█████████▏| 235/257 [13:45<01:12,  3.31s/it]IOPub message rate exceeded.\n",
      "The notebook server will temporarily stop sending output\n",
      "to the client in order to avoid crashing it.\n",
      "To change this limit, set the config variable\n",
      "`--NotebookApp.iopub_msg_rate_limit`.\n",
      "\n",
      "Current values:\n",
      "NotebookApp.iopub_msg_rate_limit=1000.0 (msgs/sec)\n",
      "NotebookApp.rate_limit_window=3.0 (secs)\n",
      "\n",
      "Training epoch 31: 100%|██████████| 257/257 [14:59<00:00,  3.50s/it]\n",
      "Validation epoch 31: 100%|██████████| 60/60 [02:01<00:00,  2.03s/it]\n",
      "Training epoch 32:   0%|          | 0/257 [00:00<?, ?it/s]"
     ]
    },
    {
     "name": "stdout",
     "output_type": "stream",
     "text": [
      "Epoch 31:\n",
      "    Train loss 0.225, accuracy 0.906, F1-score 0.942, MCC: 0.480, Dice: 0.942\n",
      "    Val loss 0.219, accuracy 0.916, F1-score 0.951, MCC: 0.481, Dice: 0.951\n"
     ]
    },
    {
     "name": "stderr",
     "output_type": "stream",
     "text": [
      "Training epoch 32: 100%|██████████| 257/257 [15:15<00:00,  3.56s/it]\n",
      "Validation epoch 32: 100%|██████████| 60/60 [02:04<00:00,  2.07s/it]\n",
      "Training epoch 33:   0%|          | 0/257 [00:00<?, ?it/s]"
     ]
    },
    {
     "name": "stdout",
     "output_type": "stream",
     "text": [
      "Epoch 32:\n",
      "    Train loss 0.222, accuracy 0.906, F1-score 0.941, MCC: 0.483, Dice: 0.941\n",
      "    Val loss 0.223, accuracy 0.911, F1-score 0.949, MCC: 0.479, Dice: 0.949\n"
     ]
    },
    {
     "name": "stderr",
     "output_type": "stream",
     "text": [
      "Training epoch 33: 100%|██████████| 257/257 [15:12<00:00,  3.55s/it]\n",
      "Validation epoch 33: 100%|██████████| 60/60 [02:04<00:00,  2.07s/it]\n",
      "Training epoch 34:   0%|          | 0/257 [00:00<?, ?it/s]"
     ]
    },
    {
     "name": "stdout",
     "output_type": "stream",
     "text": [
      "Epoch 33:\n",
      "    Train loss 0.223, accuracy 0.907, F1-score 0.940, MCC: 0.479, Dice: 0.940\n",
      "    Val loss 0.224, accuracy 0.914, F1-score 0.950, MCC: 0.484, Dice: 0.950\n"
     ]
    },
    {
     "name": "stderr",
     "output_type": "stream",
     "text": [
      "Training epoch 34: 100%|██████████| 257/257 [15:13<00:00,  3.55s/it]\n",
      "Validation epoch 34: 100%|██████████| 60/60 [02:01<00:00,  2.03s/it]\n",
      "Training epoch 35:   0%|          | 0/257 [00:00<?, ?it/s]"
     ]
    },
    {
     "name": "stdout",
     "output_type": "stream",
     "text": [
      "Epoch 34:\n",
      "    Train loss 0.224, accuracy 0.904, F1-score 0.940, MCC: 0.470, Dice: 0.940\n",
      "    Val loss 0.221, accuracy 0.916, F1-score 0.950, MCC: 0.472, Dice: 0.950\n"
     ]
    },
    {
     "name": "stderr",
     "output_type": "stream",
     "text": [
      "Training epoch 35: 100%|██████████| 257/257 [15:09<00:00,  3.54s/it]\n",
      "Validation epoch 35: 100%|██████████| 60/60 [02:03<00:00,  2.05s/it]\n",
      "Training epoch 36:   0%|          | 0/257 [00:00<?, ?it/s]"
     ]
    },
    {
     "name": "stdout",
     "output_type": "stream",
     "text": [
      "Epoch 35:\n",
      "    Train loss 0.225, accuracy 0.903, F1-score 0.940, MCC: 0.478, Dice: 0.940\n",
      "    Val loss 0.219, accuracy 0.916, F1-score 0.952, MCC: 0.475, Dice: 0.952\n"
     ]
    },
    {
     "name": "stderr",
     "output_type": "stream",
     "text": [
      "Training epoch 36: 100%|██████████| 257/257 [15:02<00:00,  3.51s/it]\n",
      "Validation epoch 36: 100%|██████████| 60/60 [02:02<00:00,  2.04s/it]\n",
      "Training epoch 37:   0%|          | 0/257 [00:00<?, ?it/s]"
     ]
    },
    {
     "name": "stdout",
     "output_type": "stream",
     "text": [
      "Epoch 36:\n",
      "    Train loss 0.221, accuracy 0.907, F1-score 0.942, MCC: 0.482, Dice: 0.942\n",
      "    Val loss 0.214, accuracy 0.913, F1-score 0.949, MCC: 0.471, Dice: 0.949\n"
     ]
    },
    {
     "name": "stderr",
     "output_type": "stream",
     "text": [
      "Training epoch 37: 100%|██████████| 257/257 [15:13<00:00,  3.55s/it]\n",
      "Validation epoch 37: 100%|██████████| 60/60 [02:05<00:00,  2.10s/it]\n",
      "Training epoch 38:   0%|          | 0/257 [00:00<?, ?it/s]"
     ]
    },
    {
     "name": "stdout",
     "output_type": "stream",
     "text": [
      "Epoch 37:\n",
      "    Train loss 0.223, accuracy 0.907, F1-score 0.942, MCC: 0.475, Dice: 0.942\n",
      "    Val loss 0.221, accuracy 0.914, F1-score 0.949, MCC: 0.480, Dice: 0.949\n"
     ]
    },
    {
     "name": "stderr",
     "output_type": "stream",
     "text": [
      "Training epoch 38: 100%|██████████| 257/257 [15:14<00:00,  3.56s/it]\n",
      "Validation epoch 38: 100%|██████████| 60/60 [02:01<00:00,  2.03s/it]\n",
      "Training epoch 39:   0%|          | 0/257 [00:00<?, ?it/s]"
     ]
    },
    {
     "name": "stdout",
     "output_type": "stream",
     "text": [
      "Epoch 38:\n",
      "    Train loss 0.222, accuracy 0.908, F1-score 0.940, MCC: 0.481, Dice: 0.940\n",
      "    Val loss 0.225, accuracy 0.913, F1-score 0.947, MCC: 0.468, Dice: 0.947\n"
     ]
    },
    {
     "name": "stderr",
     "output_type": "stream",
     "text": [
      "Training epoch 39: 100%|██████████| 257/257 [15:13<00:00,  3.55s/it]\n",
      "Validation epoch 39: 100%|██████████| 60/60 [02:03<00:00,  2.05s/it]\n",
      "Training epoch 40:   0%|          | 0/257 [00:00<?, ?it/s]"
     ]
    },
    {
     "name": "stdout",
     "output_type": "stream",
     "text": [
      "Epoch 39:\n",
      "    Train loss 0.223, accuracy 0.907, F1-score 0.943, MCC: 0.481, Dice: 0.943\n",
      "    Val loss 0.216, accuracy 0.913, F1-score 0.949, MCC: 0.475, Dice: 0.949\n"
     ]
    },
    {
     "name": "stderr",
     "output_type": "stream",
     "text": [
      "Training epoch 40:  70%|███████   | 180/257 [10:30<04:18,  3.36s/it]IOPub message rate exceeded.\n",
      "The notebook server will temporarily stop sending output\n",
      "to the client in order to avoid crashing it.\n",
      "To change this limit, set the config variable\n",
      "`--NotebookApp.iopub_msg_rate_limit`.\n",
      "\n",
      "Current values:\n",
      "NotebookApp.iopub_msg_rate_limit=1000.0 (msgs/sec)\n",
      "NotebookApp.rate_limit_window=3.0 (secs)\n",
      "\n",
      "Training epoch 54: 100%|██████████| 257/257 [15:04<00:00,  3.52s/it]\n",
      "Validation epoch 54: 100%|██████████| 60/60 [02:03<00:00,  2.06s/it]\n",
      "Training epoch 55:   0%|          | 0/257 [00:00<?, ?it/s]"
     ]
    },
    {
     "name": "stdout",
     "output_type": "stream",
     "text": [
      "Epoch 54:\n",
      "    Train loss 0.221, accuracy 0.906, F1-score 0.943, MCC: 0.482, Dice: 0.943\n",
      "    Val loss 0.222, accuracy 0.918, F1-score 0.952, MCC: 0.478, Dice: 0.952\n"
     ]
    },
    {
     "name": "stderr",
     "output_type": "stream",
     "text": [
      "Training epoch 55: 100%|██████████| 257/257 [15:11<00:00,  3.55s/it]\n",
      "Validation epoch 55: 100%|██████████| 60/60 [01:58<00:00,  1.97s/it]\n",
      "Training epoch 56:   0%|          | 0/257 [00:00<?, ?it/s]"
     ]
    },
    {
     "name": "stdout",
     "output_type": "stream",
     "text": [
      "Epoch 55:\n",
      "    Train loss 0.222, accuracy 0.906, F1-score 0.942, MCC: 0.478, Dice: 0.942\n",
      "    Val loss 0.226, accuracy 0.915, F1-score 0.951, MCC: 0.472, Dice: 0.951\n"
     ]
    },
    {
     "name": "stderr",
     "output_type": "stream",
     "text": [
      "Training epoch 56: 100%|██████████| 257/257 [14:58<00:00,  3.49s/it]\n",
      "Validation epoch 56: 100%|██████████| 60/60 [02:03<00:00,  2.06s/it]\n",
      "Training epoch 57:   0%|          | 0/257 [00:00<?, ?it/s]"
     ]
    },
    {
     "name": "stdout",
     "output_type": "stream",
     "text": [
      "Epoch 56:\n",
      "    Train loss 0.220, accuracy 0.905, F1-score 0.941, MCC: 0.484, Dice: 0.941\n",
      "    Val loss 0.223, accuracy 0.913, F1-score 0.948, MCC: 0.478, Dice: 0.948\n"
     ]
    },
    {
     "name": "stderr",
     "output_type": "stream",
     "text": [
      "Training epoch 57: 100%|██████████| 257/257 [15:02<00:00,  3.51s/it]\n",
      "Validation epoch 57: 100%|██████████| 60/60 [02:06<00:00,  2.10s/it]\n",
      "Training epoch 58:   0%|          | 0/257 [00:00<?, ?it/s]"
     ]
    },
    {
     "name": "stdout",
     "output_type": "stream",
     "text": [
      "Epoch 57:\n",
      "    Train loss 0.222, accuracy 0.907, F1-score 0.942, MCC: 0.479, Dice: 0.942\n",
      "    Val loss 0.224, accuracy 0.911, F1-score 0.947, MCC: 0.483, Dice: 0.947\n"
     ]
    },
    {
     "name": "stderr",
     "output_type": "stream",
     "text": [
      "Training epoch 58: 100%|██████████| 257/257 [14:56<00:00,  3.49s/it]\n",
      "Validation epoch 58: 100%|██████████| 60/60 [02:04<00:00,  2.07s/it]\n",
      "Training epoch 59:   0%|          | 0/257 [00:00<?, ?it/s]"
     ]
    },
    {
     "name": "stdout",
     "output_type": "stream",
     "text": [
      "Epoch 58:\n",
      "    Train loss 0.223, accuracy 0.907, F1-score 0.942, MCC: 0.484, Dice: 0.942\n",
      "    Val loss 0.225, accuracy 0.917, F1-score 0.950, MCC: 0.476, Dice: 0.950\n"
     ]
    },
    {
     "name": "stderr",
     "output_type": "stream",
     "text": [
      "Training epoch 59: 100%|██████████| 257/257 [15:10<00:00,  3.54s/it]\n",
      "Validation epoch 59: 100%|██████████| 60/60 [02:08<00:00,  2.13s/it]\n",
      "Training epoch 60:   0%|          | 0/257 [00:00<?, ?it/s]"
     ]
    },
    {
     "name": "stdout",
     "output_type": "stream",
     "text": [
      "Epoch 59:\n",
      "    Train loss 0.220, accuracy 0.907, F1-score 0.943, MCC: 0.486, Dice: 0.943\n",
      "    Val loss 0.219, accuracy 0.914, F1-score 0.950, MCC: 0.477, Dice: 0.950\n"
     ]
    },
    {
     "name": "stderr",
     "output_type": "stream",
     "text": [
      "Training epoch 60: 100%|██████████| 257/257 [15:17<00:00,  3.57s/it]\n",
      "Validation epoch 60: 100%|██████████| 60/60 [02:09<00:00,  2.16s/it]\n",
      "Training epoch 61:   0%|          | 0/257 [00:00<?, ?it/s]"
     ]
    },
    {
     "name": "stdout",
     "output_type": "stream",
     "text": [
      "Epoch 60:\n",
      "    Train loss 0.224, accuracy 0.906, F1-score 0.941, MCC: 0.477, Dice: 0.941\n",
      "    Val loss 0.224, accuracy 0.910, F1-score 0.948, MCC: 0.468, Dice: 0.948\n"
     ]
    },
    {
     "name": "stderr",
     "output_type": "stream",
     "text": [
      "Training epoch 61: 100%|██████████| 257/257 [15:41<00:00,  3.66s/it]\n",
      "Validation epoch 61: 100%|██████████| 60/60 [02:15<00:00,  2.25s/it]\n",
      "Training epoch 62:   0%|          | 0/257 [00:00<?, ?it/s]"
     ]
    },
    {
     "name": "stdout",
     "output_type": "stream",
     "text": [
      "Epoch 61:\n",
      "    Train loss 0.224, accuracy 0.905, F1-score 0.942, MCC: 0.485, Dice: 0.942\n",
      "    Val loss 0.217, accuracy 0.915, F1-score 0.951, MCC: 0.485, Dice: 0.951\n"
     ]
    },
    {
     "name": "stderr",
     "output_type": "stream",
     "text": [
      "Training epoch 62: 100%|██████████| 257/257 [15:27<00:00,  3.61s/it]\n",
      "Validation epoch 62: 100%|██████████| 60/60 [02:14<00:00,  2.24s/it]\n",
      "Training epoch 63:   0%|          | 0/257 [00:00<?, ?it/s]"
     ]
    },
    {
     "name": "stdout",
     "output_type": "stream",
     "text": [
      "Epoch 62:\n",
      "    Train loss 0.222, accuracy 0.904, F1-score 0.941, MCC: 0.485, Dice: 0.941\n",
      "    Val loss 0.223, accuracy 0.911, F1-score 0.947, MCC: 0.472, Dice: 0.947\n"
     ]
    },
    {
     "name": "stderr",
     "output_type": "stream",
     "text": [
      "Training epoch 63:  47%|████▋     | 122/257 [07:26<09:04,  4.03s/it]IOPub message rate exceeded.\n",
      "The notebook server will temporarily stop sending output\n",
      "to the client in order to avoid crashing it.\n",
      "To change this limit, set the config variable\n",
      "`--NotebookApp.iopub_msg_rate_limit`.\n",
      "\n",
      "Current values:\n",
      "NotebookApp.iopub_msg_rate_limit=1000.0 (msgs/sec)\n",
      "NotebookApp.rate_limit_window=3.0 (secs)\n",
      "\n",
      "Training epoch 77: 100%|██████████| 257/257 [14:56<00:00,  3.49s/it]\n",
      "Validation epoch 77: 100%|██████████| 60/60 [02:05<00:00,  2.09s/it]\n",
      "Training epoch 78:   0%|          | 0/257 [00:00<?, ?it/s]"
     ]
    },
    {
     "name": "stdout",
     "output_type": "stream",
     "text": [
      "Epoch 77:\n",
      "    Train loss 0.221, accuracy 0.905, F1-score 0.941, MCC: 0.482, Dice: 0.941\n",
      "    Val loss 0.221, accuracy 0.913, F1-score 0.950, MCC: 0.482, Dice: 0.950\n"
     ]
    },
    {
     "name": "stderr",
     "output_type": "stream",
     "text": [
      "Training epoch 78: 100%|██████████| 257/257 [15:10<00:00,  3.54s/it]\n",
      "Validation epoch 78: 100%|██████████| 60/60 [02:03<00:00,  2.06s/it]\n",
      "Training epoch 79:   0%|          | 0/257 [00:00<?, ?it/s]"
     ]
    },
    {
     "name": "stdout",
     "output_type": "stream",
     "text": [
      "Epoch 78:\n",
      "    Train loss 0.221, accuracy 0.905, F1-score 0.942, MCC: 0.482, Dice: 0.942\n",
      "    Val loss 0.219, accuracy 0.915, F1-score 0.950, MCC: 0.470, Dice: 0.950\n"
     ]
    },
    {
     "name": "stderr",
     "output_type": "stream",
     "text": [
      "Training epoch 79: 100%|██████████| 257/257 [15:06<00:00,  3.53s/it]\n",
      "Validation epoch 79: 100%|██████████| 60/60 [02:01<00:00,  2.03s/it]\n",
      "Training epoch 80:   0%|          | 0/257 [00:00<?, ?it/s]"
     ]
    },
    {
     "name": "stdout",
     "output_type": "stream",
     "text": [
      "Epoch 79:\n",
      "    Train loss 0.222, accuracy 0.907, F1-score 0.943, MCC: 0.487, Dice: 0.943\n",
      "    Val loss 0.221, accuracy 0.916, F1-score 0.949, MCC: 0.477, Dice: 0.949\n"
     ]
    },
    {
     "name": "stderr",
     "output_type": "stream",
     "text": [
      "Training epoch 80: 100%|██████████| 257/257 [15:11<00:00,  3.55s/it]\n",
      "Validation epoch 80: 100%|██████████| 60/60 [02:04<00:00,  2.07s/it]\n",
      "Training epoch 81:   0%|          | 0/257 [00:00<?, ?it/s]"
     ]
    },
    {
     "name": "stdout",
     "output_type": "stream",
     "text": [
      "Epoch 80:\n",
      "    Train loss 0.219, accuracy 0.908, F1-score 0.943, MCC: 0.487, Dice: 0.943\n",
      "    Val loss 0.217, accuracy 0.913, F1-score 0.949, MCC: 0.475, Dice: 0.949\n"
     ]
    },
    {
     "name": "stderr",
     "output_type": "stream",
     "text": [
      "Training epoch 81: 100%|██████████| 257/257 [15:04<00:00,  3.52s/it]\n",
      "Validation epoch 81: 100%|██████████| 60/60 [02:04<00:00,  2.08s/it]\n",
      "Training epoch 82:   0%|          | 0/257 [00:00<?, ?it/s]"
     ]
    },
    {
     "name": "stdout",
     "output_type": "stream",
     "text": [
      "Epoch 81:\n",
      "    Train loss 0.220, accuracy 0.906, F1-score 0.942, MCC: 0.481, Dice: 0.942\n",
      "    Val loss 0.222, accuracy 0.916, F1-score 0.949, MCC: 0.480, Dice: 0.949\n"
     ]
    },
    {
     "name": "stderr",
     "output_type": "stream",
     "text": [
      "Training epoch 82: 100%|██████████| 257/257 [15:16<00:00,  3.57s/it]\n",
      "Validation epoch 82: 100%|██████████| 60/60 [02:03<00:00,  2.06s/it]\n",
      "Training epoch 83:   0%|          | 0/257 [00:00<?, ?it/s]"
     ]
    },
    {
     "name": "stdout",
     "output_type": "stream",
     "text": [
      "Epoch 82:\n",
      "    Train loss 0.225, accuracy 0.909, F1-score 0.943, MCC: 0.484, Dice: 0.943\n",
      "    Val loss 0.219, accuracy 0.915, F1-score 0.949, MCC: 0.474, Dice: 0.949\n"
     ]
    },
    {
     "name": "stderr",
     "output_type": "stream",
     "text": [
      "Training epoch 83: 100%|██████████| 257/257 [15:15<00:00,  3.56s/it]\n",
      "Validation epoch 83: 100%|██████████| 60/60 [01:58<00:00,  1.98s/it]\n",
      "Training epoch 84:   0%|          | 0/257 [00:00<?, ?it/s]"
     ]
    },
    {
     "name": "stdout",
     "output_type": "stream",
     "text": [
      "Epoch 83:\n",
      "    Train loss 0.221, accuracy 0.907, F1-score 0.942, MCC: 0.488, Dice: 0.942\n",
      "    Val loss 0.221, accuracy 0.915, F1-score 0.951, MCC: 0.463, Dice: 0.951\n"
     ]
    },
    {
     "name": "stderr",
     "output_type": "stream",
     "text": [
      "Training epoch 84: 100%|██████████| 257/257 [14:59<00:00,  3.50s/it]\n",
      "Validation epoch 84: 100%|██████████| 60/60 [02:03<00:00,  2.05s/it]\n",
      "Training epoch 85:   0%|          | 0/257 [00:00<?, ?it/s]"
     ]
    },
    {
     "name": "stdout",
     "output_type": "stream",
     "text": [
      "Epoch 84:\n",
      "    Train loss 0.223, accuracy 0.908, F1-score 0.942, MCC: 0.483, Dice: 0.942\n",
      "    Val loss 0.223, accuracy 0.915, F1-score 0.949, MCC: 0.473, Dice: 0.949\n"
     ]
    },
    {
     "name": "stderr",
     "output_type": "stream",
     "text": [
      "Training epoch 85: 100%|██████████| 257/257 [15:09<00:00,  3.54s/it]\n",
      "Validation epoch 85: 100%|██████████| 60/60 [02:01<00:00,  2.02s/it]\n",
      "Training epoch 86:   0%|          | 0/257 [00:00<?, ?it/s]"
     ]
    },
    {
     "name": "stdout",
     "output_type": "stream",
     "text": [
      "Epoch 85:\n",
      "    Train loss 0.221, accuracy 0.906, F1-score 0.942, MCC: 0.484, Dice: 0.942\n",
      "    Val loss 0.222, accuracy 0.918, F1-score 0.952, MCC: 0.486, Dice: 0.952\n"
     ]
    },
    {
     "name": "stderr",
     "output_type": "stream",
     "text": [
      "Training epoch 86: 100%|██████████| 257/257 [15:05<00:00,  3.52s/it]\n",
      "Validation epoch 86:  92%|█████████▏| 55/60 [01:53<00:09,  1.87s/it]IOPub message rate exceeded.\n",
      "The notebook server will temporarily stop sending output\n",
      "to the client in order to avoid crashing it.\n",
      "To change this limit, set the config variable\n",
      "`--NotebookApp.iopub_msg_rate_limit`.\n",
      "\n",
      "Current values:\n",
      "NotebookApp.iopub_msg_rate_limit=1000.0 (msgs/sec)\n",
      "NotebookApp.rate_limit_window=3.0 (secs)\n",
      "\n"
     ]
    }
   ],
   "source": [
    "# ============================ #\n",
    "# user-specified hyperparameters\n",
    "# ============================ #\n",
    "country = 'india'\n",
    "epochs = 200\n",
    "lr = 0.0003\n",
    "lr_decay = None\n",
    "n_filters = 32\n",
    "depth = 6\n",
    "n_classes = 1\n",
    "batch_size = 5\n",
    "model_type = 'fractal-resunet' # 'resunet-d6'\n",
    "month = 'all13'\n",
    "codes_to_keep = [1]\n",
    "ctx_name = 'gpu'\n",
    "gpu_id = 0\n",
    "boundary_kernel_size = (2,2)\n",
    "\n",
    "# trained_model = '../experiments/partial-france/fractal-resunet_3month-separate_nfilter-32_depth-6_bs-8_lr-0.001_2x-3x-downsampled_allfields_n6759/model.params'\n",
    "trained_model = '../experiments/india/fractal-resunet_Airbus_nfilter-32_depth-6_bs-5_lr-0.001_original-resolution_fromscratch-continued/model.params'\n",
    "# trained_model = None\n",
    "\n",
    "folder_suffix = '_original-resolution'\n",
    "if trained_model is None:\n",
    "    folder_suffix += '_fromscratch'\n",
    "elif 'india' in trained_model:\n",
    "    folder_suffix += '_fromscratch-continued2'\n",
    "elif 'france' in trained_model:\n",
    "    folder_suffix += '_finetuned'\n",
    "    \n",
    "month_name = 'Airbus'\n",
    "splits_path = '../data/splits/india_planetImagery_splits_20x20_v2.csv'\n",
    "splits_df = pd.read_csv(splits_path, dtype=str)\n",
    "splits_df['image_id'] = splits_df['image_id'].str.zfill(4)\n",
    "splits_df = splits_df.drop_duplicates('image_id')\n",
    "\n",
    "# get all img and labels\n",
    "all_img_names = []\n",
    "all_label_names = []\n",
    "img_dir = '../data/general_blockchain/airbus_false_color/large/original/'\n",
    "label_dir = '../data/general_blockchain/airbus_labels/large/original/'\n",
    "\n",
    "label_folder_imgs = sorted(os.listdir(label_dir))\n",
    "for label_name in label_folder_imgs:\n",
    "    img_name = 'airbus_geowiki_' + label_name.split('_')[-1].split('.')[0] + '.png'\n",
    "    img_path = os.path.join(img_dir, img_name)\n",
    "    all_img_names.append(img_path)\n",
    "    label_path = os.path.join(label_dir, label_name)\n",
    "    all_label_names.append(label_path)\n",
    "    \n",
    "# split imgs and labels into train/val/test\n",
    "all_images = pd.DataFrame({'img_path': all_img_names})\n",
    "all_images['image_id'] = all_images['img_path'].str.split('/').apply(\n",
    "    lambda x: x[-1]).str.split('.').apply(\n",
    "    lambda x: x[0]).str.split('_').apply(\n",
    "    lambda x: x[-1][1:])\n",
    "all_images = all_images.merge(splits_df[['image_id', 'fold']], on='image_id', how='left')\n",
    "train_names = all_images[all_images['fold'] == 'train']['img_path'].values\n",
    "val_names = all_images[all_images['fold'] == 'val']['img_path'].values\n",
    "test_names = all_images[all_images['fold'] == 'test']['img_path'].values\n",
    "\n",
    "all_labels = pd.DataFrame({'label_path': all_label_names})\n",
    "all_labels['image_id'] = all_labels['label_path'].str.split('/').apply(\n",
    "    lambda x: x[-1]).str.split('.').apply(\n",
    "    lambda x: x[0]).str.split('_').apply(\n",
    "    lambda x: x[-1][1:])\n",
    "all_labels = all_labels.merge(splits_df[['image_id', 'fold']], on='image_id', how='left')\n",
    "train_names_label = all_labels[all_labels['fold'] == 'train']['label_path'].values\n",
    "val_names_label = all_labels[all_labels['fold'] == 'val']['label_path'].values\n",
    "test_names_label = all_labels[all_labels['fold'] == 'test']['label_path'].values\n",
    "\n",
    "# ============================ #\n",
    "\n",
    "run_africa(country, train_names, val_names, test_names,\n",
    "           train_names_label, val_names_label, test_names_label,\n",
    "           trained_model=trained_model,\n",
    "           epochs=epochs, lr=lr, lr_decay=lr_decay, \n",
    "           model_type=model_type, n_filters=n_filters, depth=depth, n_classes=n_classes,\n",
    "           batch_size=batch_size, month=month_name,\n",
    "           codes_to_keep=codes_to_keep, \n",
    "           ctx_name=ctx_name,\n",
    "           gpu_id=gpu_id, \n",
    "           folder_suffix=folder_suffix,\n",
    "           boundary_kernel_size=boundary_kernel_size)"
   ]
  },
  {
   "cell_type": "markdown",
   "metadata": {},
   "source": [
    "## Dataset size experiment"
   ]
  },
  {
   "cell_type": "code",
   "execution_count": 7,
   "metadata": {
    "scrolled": true
   },
   "outputs": [
    {
     "name": "stdout",
     "output_type": "stream",
     "text": [
      "depth:= 0, nfilters: 32, nheads::8, widths::1\n",
      "depth:= 1, nfilters: 64, nheads::16, widths::1\n",
      "depth:= 2, nfilters: 128, nheads::32, widths::1\n",
      "depth:= 3, nfilters: 256, nheads::64, widths::1\n",
      "depth:= 4, nfilters: 512, nheads::128, widths::1\n",
      "depth:= 5, nfilters: 1024, nheads::256, widths::1\n",
      "depth:= 6, nfilters: 512, nheads::256, widths::1\n",
      "depth:= 7, nfilters: 256, nheads::128, widths::1\n",
      "depth:= 8, nfilters: 128, nheads::64, widths::1\n",
      "depth:= 9, nfilters: 64, nheads::32, widths::1\n",
      "depth:= 10, nfilters: 32, nheads::16, widths::1\n"
     ]
    },
    {
     "name": "stderr",
     "output_type": "stream",
     "text": [
      "Setting up a new session...\n",
      "Training epoch 1: 100%|██████████| 13/13 [00:59<00:00,  4.59s/it]\n",
      "Validation epoch 1: 100%|██████████| 38/38 [01:37<00:00,  2.56s/it]\n"
     ]
    },
    {
     "name": "stdout",
     "output_type": "stream",
     "text": [
      "Epoch 1:\n",
      "    Train loss 0.314, accuracy 0.884, F1-score 0.931, MCC: 0.392, Dice: 0.931\n",
      "    Val loss 0.316, accuracy 0.895, F1-score 0.939, MCC: 0.413, Dice: 0.939\n"
     ]
    },
    {
     "name": "stderr",
     "output_type": "stream",
     "text": [
      "Training epoch 2: 100%|██████████| 13/13 [00:47<00:00,  3.66s/it]\n",
      "Validation epoch 2: 100%|██████████| 38/38 [01:45<00:00,  2.78s/it]\n",
      "Training epoch 3:   0%|          | 0/13 [00:00<?, ?it/s]"
     ]
    },
    {
     "name": "stdout",
     "output_type": "stream",
     "text": [
      "Epoch 2:\n",
      "    Train loss 0.321, accuracy 0.875, F1-score 0.926, MCC: 0.399, Dice: 0.926\n",
      "    Val loss 0.316, accuracy 0.893, F1-score 0.939, MCC: 0.410, Dice: 0.939\n"
     ]
    },
    {
     "name": "stderr",
     "output_type": "stream",
     "text": [
      "Training epoch 3: 100%|██████████| 13/13 [00:44<00:00,  3.42s/it]\n",
      "Validation epoch 3: 100%|██████████| 38/38 [01:42<00:00,  2.70s/it]\n"
     ]
    },
    {
     "name": "stdout",
     "output_type": "stream",
     "text": [
      "Epoch 3:\n",
      "    Train loss 0.308, accuracy 0.883, F1-score 0.928, MCC: 0.387, Dice: 0.928\n",
      "    Val loss 0.297, accuracy 0.896, F1-score 0.941, MCC: 0.420, Dice: 0.941\n"
     ]
    },
    {
     "name": "stderr",
     "output_type": "stream",
     "text": [
      "Training epoch 4: 100%|██████████| 13/13 [00:45<00:00,  3.49s/it]\n",
      "Validation epoch 4: 100%|██████████| 38/38 [01:43<00:00,  2.72s/it]\n",
      "Training epoch 5:   0%|          | 0/13 [00:00<?, ?it/s]"
     ]
    },
    {
     "name": "stdout",
     "output_type": "stream",
     "text": [
      "Epoch 4:\n",
      "    Train loss 0.317, accuracy 0.872, F1-score 0.924, MCC: 0.382, Dice: 0.924\n",
      "    Val loss 0.296, accuracy 0.898, F1-score 0.942, MCC: 0.407, Dice: 0.942\n"
     ]
    },
    {
     "name": "stderr",
     "output_type": "stream",
     "text": [
      "Training epoch 5: 100%|██████████| 13/13 [00:44<00:00,  3.39s/it]\n",
      "Validation epoch 5: 100%|██████████| 38/38 [01:42<00:00,  2.71s/it]\n",
      "Training epoch 6:   0%|          | 0/13 [00:00<?, ?it/s]"
     ]
    },
    {
     "name": "stdout",
     "output_type": "stream",
     "text": [
      "Epoch 5:\n",
      "    Train loss 0.309, accuracy 0.887, F1-score 0.933, MCC: 0.411, Dice: 0.933\n",
      "    Val loss 0.295, accuracy 0.900, F1-score 0.943, MCC: 0.416, Dice: 0.943\n"
     ]
    },
    {
     "name": "stderr",
     "output_type": "stream",
     "text": [
      "Training epoch 6: 100%|██████████| 13/13 [00:44<00:00,  3.45s/it]\n",
      "Validation epoch 6: 100%|██████████| 38/38 [01:41<00:00,  2.68s/it]\n"
     ]
    },
    {
     "name": "stdout",
     "output_type": "stream",
     "text": [
      "Epoch 6:\n",
      "    Train loss 0.302, accuracy 0.883, F1-score 0.932, MCC: 0.405, Dice: 0.932\n",
      "    Val loss 0.294, accuracy 0.905, F1-score 0.946, MCC: 0.425, Dice: 0.946\n"
     ]
    },
    {
     "name": "stderr",
     "output_type": "stream",
     "text": [
      "Training epoch 7: 100%|██████████| 13/13 [00:45<00:00,  3.50s/it]\n",
      "Validation epoch 7: 100%|██████████| 38/38 [01:41<00:00,  2.67s/it]\n",
      "Training epoch 8:   0%|          | 0/13 [00:00<?, ?it/s]"
     ]
    },
    {
     "name": "stdout",
     "output_type": "stream",
     "text": [
      "Epoch 7:\n",
      "    Train loss 0.310, accuracy 0.887, F1-score 0.932, MCC: 0.393, Dice: 0.932\n",
      "    Val loss 0.284, accuracy 0.898, F1-score 0.943, MCC: 0.407, Dice: 0.943\n"
     ]
    },
    {
     "name": "stderr",
     "output_type": "stream",
     "text": [
      "Training epoch 8: 100%|██████████| 13/13 [00:46<00:00,  3.58s/it]\n",
      "Validation epoch 8: 100%|██████████| 38/38 [01:42<00:00,  2.71s/it]\n",
      "Training epoch 9:   0%|          | 0/13 [00:00<?, ?it/s]"
     ]
    },
    {
     "name": "stdout",
     "output_type": "stream",
     "text": [
      "Epoch 8:\n",
      "    Train loss 0.290, accuracy 0.887, F1-score 0.935, MCC: 0.399, Dice: 0.935\n",
      "    Val loss 0.276, accuracy 0.908, F1-score 0.948, MCC: 0.420, Dice: 0.948\n"
     ]
    },
    {
     "name": "stderr",
     "output_type": "stream",
     "text": [
      "Training epoch 9: 100%|██████████| 13/13 [00:47<00:00,  3.66s/it]\n",
      "Validation epoch 9: 100%|██████████| 38/38 [01:40<00:00,  2.65s/it]\n",
      "Training epoch 10:   0%|          | 0/13 [00:00<?, ?it/s]"
     ]
    },
    {
     "name": "stdout",
     "output_type": "stream",
     "text": [
      "Epoch 9:\n",
      "    Train loss 0.305, accuracy 0.897, F1-score 0.938, MCC: 0.395, Dice: 0.938\n",
      "    Val loss 0.279, accuracy 0.907, F1-score 0.946, MCC: 0.409, Dice: 0.946\n"
     ]
    },
    {
     "name": "stderr",
     "output_type": "stream",
     "text": [
      "Training epoch 10: 100%|██████████| 13/13 [00:45<00:00,  3.47s/it]\n",
      "Validation epoch 10: 100%|██████████| 38/38 [01:44<00:00,  2.76s/it]\n"
     ]
    },
    {
     "name": "stdout",
     "output_type": "stream",
     "text": [
      "Epoch 10:\n",
      "    Train loss 0.283, accuracy 0.897, F1-score 0.937, MCC: 0.419, Dice: 0.937\n",
      "    Val loss 0.277, accuracy 0.906, F1-score 0.947, MCC: 0.426, Dice: 0.947\n"
     ]
    },
    {
     "name": "stderr",
     "output_type": "stream",
     "text": [
      "Training epoch 11: 100%|██████████| 13/13 [00:44<00:00,  3.42s/it]\n",
      "Validation epoch 11: 100%|██████████| 38/38 [01:41<00:00,  2.68s/it]\n",
      "Training epoch 12:   0%|          | 0/13 [00:00<?, ?it/s]"
     ]
    },
    {
     "name": "stdout",
     "output_type": "stream",
     "text": [
      "Epoch 11:\n",
      "    Train loss 0.295, accuracy 0.901, F1-score 0.941, MCC: 0.409, Dice: 0.941\n",
      "    Val loss 0.276, accuracy 0.903, F1-score 0.945, MCC: 0.408, Dice: 0.945\n"
     ]
    },
    {
     "name": "stderr",
     "output_type": "stream",
     "text": [
      "Training epoch 12: 100%|██████████| 13/13 [00:45<00:00,  3.50s/it]\n",
      "Validation epoch 12: 100%|██████████| 38/38 [01:41<00:00,  2.68s/it]\n",
      "Training epoch 13:   0%|          | 0/13 [00:00<?, ?it/s]"
     ]
    },
    {
     "name": "stdout",
     "output_type": "stream",
     "text": [
      "Epoch 12:\n",
      "    Train loss 0.277, accuracy 0.895, F1-score 0.940, MCC: 0.411, Dice: 0.940\n",
      "    Val loss 0.273, accuracy 0.911, F1-score 0.950, MCC: 0.411, Dice: 0.950\n"
     ]
    },
    {
     "name": "stderr",
     "output_type": "stream",
     "text": [
      "Training epoch 13: 100%|██████████| 13/13 [00:43<00:00,  3.34s/it]\n",
      "Validation epoch 13: 100%|██████████| 38/38 [01:37<00:00,  2.58s/it]\n",
      "Training epoch 14:   0%|          | 0/13 [00:00<?, ?it/s]"
     ]
    },
    {
     "name": "stdout",
     "output_type": "stream",
     "text": [
      "Epoch 13:\n",
      "    Train loss 0.275, accuracy 0.898, F1-score 0.941, MCC: 0.436, Dice: 0.941\n",
      "    Val loss 0.269, accuracy 0.907, F1-score 0.945, MCC: 0.413, Dice: 0.945\n"
     ]
    },
    {
     "name": "stderr",
     "output_type": "stream",
     "text": [
      "Training epoch 14: 100%|██████████| 13/13 [00:45<00:00,  3.47s/it]\n",
      "Validation epoch 14: 100%|██████████| 38/38 [01:42<00:00,  2.70s/it]\n",
      "Training epoch 15:   0%|          | 0/13 [00:00<?, ?it/s]"
     ]
    },
    {
     "name": "stdout",
     "output_type": "stream",
     "text": [
      "Epoch 14:\n",
      "    Train loss 0.277, accuracy 0.895, F1-score 0.937, MCC: 0.416, Dice: 0.937\n",
      "    Val loss 0.268, accuracy 0.911, F1-score 0.950, MCC: 0.418, Dice: 0.950\n"
     ]
    },
    {
     "name": "stderr",
     "output_type": "stream",
     "text": [
      "Training epoch 15: 100%|██████████| 13/13 [00:44<00:00,  3.39s/it]\n",
      "Validation epoch 15: 100%|██████████| 38/38 [01:43<00:00,  2.72s/it]\n",
      "Training epoch 16:   0%|          | 0/13 [00:00<?, ?it/s]"
     ]
    },
    {
     "name": "stdout",
     "output_type": "stream",
     "text": [
      "Epoch 15:\n",
      "    Train loss 0.273, accuracy 0.890, F1-score 0.936, MCC: 0.414, Dice: 0.936\n",
      "    Val loss 0.264, accuracy 0.914, F1-score 0.951, MCC: 0.418, Dice: 0.951\n"
     ]
    },
    {
     "name": "stderr",
     "output_type": "stream",
     "text": [
      "Training epoch 16: 100%|██████████| 13/13 [00:46<00:00,  3.54s/it]\n",
      "Validation epoch 16: 100%|██████████| 38/38 [01:41<00:00,  2.67s/it]\n",
      "Training epoch 17:   0%|          | 0/13 [00:00<?, ?it/s]"
     ]
    },
    {
     "name": "stdout",
     "output_type": "stream",
     "text": [
      "Epoch 16:\n",
      "    Train loss 0.279, accuracy 0.899, F1-score 0.942, MCC: 0.412, Dice: 0.942\n",
      "    Val loss 0.268, accuracy 0.910, F1-score 0.949, MCC: 0.424, Dice: 0.949\n"
     ]
    },
    {
     "name": "stderr",
     "output_type": "stream",
     "text": [
      "Training epoch 17: 100%|██████████| 13/13 [00:48<00:00,  3.76s/it]\n",
      "Validation epoch 17: 100%|██████████| 38/38 [01:38<00:00,  2.60s/it]\n"
     ]
    },
    {
     "name": "stdout",
     "output_type": "stream",
     "text": [
      "Epoch 17:\n",
      "    Train loss 0.268, accuracy 0.897, F1-score 0.940, MCC: 0.427, Dice: 0.940\n",
      "    Val loss 0.264, accuracy 0.910, F1-score 0.948, MCC: 0.432, Dice: 0.948\n"
     ]
    },
    {
     "name": "stderr",
     "output_type": "stream",
     "text": [
      "Training epoch 18: 100%|██████████| 13/13 [00:43<00:00,  3.38s/it]\n",
      "Validation epoch 18: 100%|██████████| 38/38 [01:42<00:00,  2.71s/it]\n",
      "Training epoch 19:   0%|          | 0/13 [00:00<?, ?it/s]"
     ]
    },
    {
     "name": "stdout",
     "output_type": "stream",
     "text": [
      "Epoch 18:\n",
      "    Train loss 0.281, accuracy 0.896, F1-score 0.937, MCC: 0.426, Dice: 0.937\n",
      "    Val loss 0.259, accuracy 0.911, F1-score 0.950, MCC: 0.421, Dice: 0.950\n"
     ]
    },
    {
     "name": "stderr",
     "output_type": "stream",
     "text": [
      "Training epoch 19: 100%|██████████| 13/13 [00:46<00:00,  3.58s/it]\n",
      "Validation epoch 19: 100%|██████████| 38/38 [01:43<00:00,  2.72s/it]\n",
      "Training epoch 20:   0%|          | 0/13 [00:00<?, ?it/s]"
     ]
    },
    {
     "name": "stdout",
     "output_type": "stream",
     "text": [
      "Epoch 19:\n",
      "    Train loss 0.271, accuracy 0.903, F1-score 0.942, MCC: 0.414, Dice: 0.942\n",
      "    Val loss 0.266, accuracy 0.911, F1-score 0.949, MCC: 0.424, Dice: 0.949\n"
     ]
    },
    {
     "name": "stderr",
     "output_type": "stream",
     "text": [
      "Training epoch 20: 100%|██████████| 13/13 [00:45<00:00,  3.48s/it]\n",
      "Validation epoch 20: 100%|██████████| 38/38 [01:47<00:00,  2.83s/it]\n",
      "Training epoch 21:   0%|          | 0/13 [00:00<?, ?it/s]"
     ]
    },
    {
     "name": "stdout",
     "output_type": "stream",
     "text": [
      "Epoch 20:\n",
      "    Train loss 0.272, accuracy 0.898, F1-score 0.937, MCC: 0.435, Dice: 0.937\n",
      "    Val loss 0.262, accuracy 0.912, F1-score 0.949, MCC: 0.421, Dice: 0.949\n"
     ]
    },
    {
     "name": "stderr",
     "output_type": "stream",
     "text": [
      "Training epoch 21: 100%|██████████| 13/13 [00:48<00:00,  3.72s/it]\n",
      "Validation epoch 21: 100%|██████████| 38/38 [01:41<00:00,  2.67s/it]\n",
      "Training epoch 22:   0%|          | 0/13 [00:00<?, ?it/s]"
     ]
    },
    {
     "name": "stdout",
     "output_type": "stream",
     "text": [
      "Epoch 21:\n",
      "    Train loss 0.265, accuracy 0.889, F1-score 0.929, MCC: 0.402, Dice: 0.929\n",
      "    Val loss 0.268, accuracy 0.914, F1-score 0.949, MCC: 0.423, Dice: 0.949\n"
     ]
    },
    {
     "name": "stderr",
     "output_type": "stream",
     "text": [
      "Training epoch 22: 100%|██████████| 13/13 [00:45<00:00,  3.48s/it]\n",
      "Validation epoch 22: 100%|██████████| 38/38 [01:42<00:00,  2.69s/it]\n",
      "Training epoch 23:   0%|          | 0/13 [00:00<?, ?it/s]"
     ]
    },
    {
     "name": "stdout",
     "output_type": "stream",
     "text": [
      "Epoch 22:\n",
      "    Train loss 0.260, accuracy 0.903, F1-score 0.942, MCC: 0.436, Dice: 0.942\n",
      "    Val loss 0.265, accuracy 0.910, F1-score 0.947, MCC: 0.420, Dice: 0.947\n"
     ]
    },
    {
     "name": "stderr",
     "output_type": "stream",
     "text": [
      "Training epoch 23: 100%|██████████| 13/13 [00:47<00:00,  3.66s/it]\n",
      "Validation epoch 23: 100%|██████████| 38/38 [01:43<00:00,  2.73s/it]\n",
      "Training epoch 24:   0%|          | 0/13 [00:00<?, ?it/s]"
     ]
    },
    {
     "name": "stdout",
     "output_type": "stream",
     "text": [
      "Epoch 23:\n",
      "    Train loss 0.263, accuracy 0.899, F1-score 0.940, MCC: 0.431, Dice: 0.940\n",
      "    Val loss 0.252, accuracy 0.909, F1-score 0.948, MCC: 0.426, Dice: 0.948\n"
     ]
    },
    {
     "name": "stderr",
     "output_type": "stream",
     "text": [
      "Training epoch 24: 100%|██████████| 13/13 [00:44<00:00,  3.39s/it]\n",
      "Validation epoch 24: 100%|██████████| 38/38 [01:43<00:00,  2.71s/it]\n",
      "Training epoch 25:   0%|          | 0/13 [00:00<?, ?it/s]"
     ]
    },
    {
     "name": "stdout",
     "output_type": "stream",
     "text": [
      "Epoch 24:\n",
      "    Train loss 0.253, accuracy 0.905, F1-score 0.939, MCC: 0.428, Dice: 0.939\n",
      "    Val loss 0.258, accuracy 0.908, F1-score 0.947, MCC: 0.427, Dice: 0.947\n"
     ]
    },
    {
     "name": "stderr",
     "output_type": "stream",
     "text": [
      "Training epoch 25: 100%|██████████| 13/13 [00:47<00:00,  3.62s/it]\n",
      "Validation epoch 25: 100%|██████████| 38/38 [01:41<00:00,  2.67s/it]\n"
     ]
    },
    {
     "name": "stdout",
     "output_type": "stream",
     "text": [
      "Epoch 25:\n",
      "    Train loss 0.269, accuracy 0.893, F1-score 0.938, MCC: 0.412, Dice: 0.938\n",
      "    Val loss 0.257, accuracy 0.912, F1-score 0.949, MCC: 0.436, Dice: 0.949\n"
     ]
    },
    {
     "name": "stderr",
     "output_type": "stream",
     "text": [
      "Training epoch 26: 100%|██████████| 13/13 [00:41<00:00,  3.21s/it]\n",
      "Validation epoch 26: 100%|██████████| 38/38 [01:39<00:00,  2.61s/it]\n"
     ]
    },
    {
     "name": "stdout",
     "output_type": "stream",
     "text": [
      "Epoch 26:\n",
      "    Train loss 0.274, accuracy 0.893, F1-score 0.940, MCC: 0.431, Dice: 0.940\n",
      "    Val loss 0.260, accuracy 0.912, F1-score 0.952, MCC: 0.439, Dice: 0.952\n"
     ]
    },
    {
     "name": "stderr",
     "output_type": "stream",
     "text": [
      "Training epoch 27: 100%|██████████| 13/13 [00:43<00:00,  3.36s/it]\n",
      "Validation epoch 27: 100%|██████████| 38/38 [01:44<00:00,  2.76s/it]\n",
      "Training epoch 28:   0%|          | 0/13 [00:00<?, ?it/s]"
     ]
    },
    {
     "name": "stdout",
     "output_type": "stream",
     "text": [
      "Epoch 27:\n",
      "    Train loss 0.280, accuracy 0.898, F1-score 0.939, MCC: 0.429, Dice: 0.939\n",
      "    Val loss 0.257, accuracy 0.910, F1-score 0.948, MCC: 0.424, Dice: 0.948\n"
     ]
    },
    {
     "name": "stderr",
     "output_type": "stream",
     "text": [
      "Training epoch 28: 100%|██████████| 13/13 [00:47<00:00,  3.64s/it]\n",
      "Validation epoch 28: 100%|██████████| 38/38 [01:43<00:00,  2.72s/it]\n",
      "Training epoch 29:   0%|          | 0/13 [00:00<?, ?it/s]"
     ]
    },
    {
     "name": "stdout",
     "output_type": "stream",
     "text": [
      "Epoch 28:\n",
      "    Train loss 0.249, accuracy 0.895, F1-score 0.939, MCC: 0.447, Dice: 0.939\n",
      "    Val loss 0.261, accuracy 0.904, F1-score 0.946, MCC: 0.423, Dice: 0.946\n"
     ]
    },
    {
     "name": "stderr",
     "output_type": "stream",
     "text": [
      "Training epoch 29: 100%|██████████| 13/13 [00:45<00:00,  3.47s/it]\n",
      "Validation epoch 29: 100%|██████████| 38/38 [01:42<00:00,  2.71s/it]\n",
      "Training epoch 30:   0%|          | 0/13 [00:00<?, ?it/s]"
     ]
    },
    {
     "name": "stdout",
     "output_type": "stream",
     "text": [
      "Epoch 29:\n",
      "    Train loss 0.257, accuracy 0.897, F1-score 0.938, MCC: 0.453, Dice: 0.938\n",
      "    Val loss 0.260, accuracy 0.906, F1-score 0.946, MCC: 0.430, Dice: 0.946\n"
     ]
    },
    {
     "name": "stderr",
     "output_type": "stream",
     "text": [
      "Training epoch 30: 100%|██████████| 13/13 [00:44<00:00,  3.42s/it]\n",
      "Validation epoch 30: 100%|██████████| 38/38 [01:45<00:00,  2.77s/it]\n",
      "Training epoch 31:   0%|          | 0/13 [00:00<?, ?it/s]"
     ]
    },
    {
     "name": "stdout",
     "output_type": "stream",
     "text": [
      "Epoch 30:\n",
      "    Train loss 0.251, accuracy 0.903, F1-score 0.942, MCC: 0.454, Dice: 0.942\n",
      "    Val loss 0.253, accuracy 0.911, F1-score 0.948, MCC: 0.425, Dice: 0.948\n"
     ]
    },
    {
     "name": "stderr",
     "output_type": "stream",
     "text": [
      "Training epoch 31: 100%|██████████| 13/13 [00:46<00:00,  3.55s/it]\n",
      "Validation epoch 31: 100%|██████████| 38/38 [01:48<00:00,  2.86s/it]\n",
      "Training epoch 32:   0%|          | 0/13 [00:00<?, ?it/s]"
     ]
    },
    {
     "name": "stdout",
     "output_type": "stream",
     "text": [
      "Epoch 31:\n",
      "    Train loss 0.265, accuracy 0.888, F1-score 0.936, MCC: 0.428, Dice: 0.936\n",
      "    Val loss 0.249, accuracy 0.914, F1-score 0.951, MCC: 0.428, Dice: 0.951\n"
     ]
    },
    {
     "name": "stderr",
     "output_type": "stream",
     "text": [
      "Training epoch 32: 100%|██████████| 13/13 [00:41<00:00,  3.22s/it]\n",
      "Validation epoch 32: 100%|██████████| 38/38 [01:45<00:00,  2.78s/it]\n",
      "Training epoch 33:   0%|          | 0/13 [00:00<?, ?it/s]"
     ]
    },
    {
     "name": "stdout",
     "output_type": "stream",
     "text": [
      "Epoch 32:\n",
      "    Train loss 0.253, accuracy 0.906, F1-score 0.944, MCC: 0.458, Dice: 0.944\n",
      "    Val loss 0.260, accuracy 0.913, F1-score 0.951, MCC: 0.430, Dice: 0.951\n"
     ]
    },
    {
     "name": "stderr",
     "output_type": "stream",
     "text": [
      "Training epoch 33: 100%|██████████| 13/13 [00:43<00:00,  3.36s/it]\n",
      "Validation epoch 33: 100%|██████████| 38/38 [01:44<00:00,  2.75s/it]\n",
      "Training epoch 34:   0%|          | 0/13 [00:00<?, ?it/s]"
     ]
    },
    {
     "name": "stdout",
     "output_type": "stream",
     "text": [
      "Epoch 33:\n",
      "    Train loss 0.259, accuracy 0.888, F1-score 0.936, MCC: 0.435, Dice: 0.936\n",
      "    Val loss 0.252, accuracy 0.909, F1-score 0.948, MCC: 0.424, Dice: 0.948\n"
     ]
    },
    {
     "name": "stderr",
     "output_type": "stream",
     "text": [
      "Training epoch 34: 100%|██████████| 13/13 [00:47<00:00,  3.67s/it]\n",
      "Validation epoch 34: 100%|██████████| 38/38 [01:42<00:00,  2.70s/it]\n",
      "Training epoch 35:   0%|          | 0/13 [00:00<?, ?it/s]"
     ]
    },
    {
     "name": "stdout",
     "output_type": "stream",
     "text": [
      "Epoch 34:\n",
      "    Train loss 0.274, accuracy 0.895, F1-score 0.938, MCC: 0.422, Dice: 0.938\n",
      "    Val loss 0.251, accuracy 0.908, F1-score 0.947, MCC: 0.429, Dice: 0.947\n"
     ]
    },
    {
     "name": "stderr",
     "output_type": "stream",
     "text": [
      "Training epoch 35: 100%|██████████| 13/13 [00:43<00:00,  3.38s/it]\n",
      "Validation epoch 35: 100%|██████████| 38/38 [01:43<00:00,  2.72s/it]\n",
      "Training epoch 36:   0%|          | 0/13 [00:00<?, ?it/s]"
     ]
    },
    {
     "name": "stdout",
     "output_type": "stream",
     "text": [
      "Epoch 35:\n",
      "    Train loss 0.251, accuracy 0.894, F1-score 0.938, MCC: 0.429, Dice: 0.938\n",
      "    Val loss 0.253, accuracy 0.912, F1-score 0.949, MCC: 0.434, Dice: 0.949\n"
     ]
    },
    {
     "name": "stderr",
     "output_type": "stream",
     "text": [
      "Training epoch 36: 100%|██████████| 13/13 [00:42<00:00,  3.25s/it]\n",
      "Validation epoch 36: 100%|██████████| 38/38 [01:47<00:00,  2.84s/it]\n",
      "Training epoch 37:   0%|          | 0/13 [00:00<?, ?it/s]"
     ]
    },
    {
     "name": "stdout",
     "output_type": "stream",
     "text": [
      "Epoch 36:\n",
      "    Train loss 0.247, accuracy 0.898, F1-score 0.938, MCC: 0.432, Dice: 0.938\n",
      "    Val loss 0.250, accuracy 0.911, F1-score 0.949, MCC: 0.429, Dice: 0.949\n"
     ]
    },
    {
     "name": "stderr",
     "output_type": "stream",
     "text": [
      "Training epoch 37: 100%|██████████| 13/13 [00:44<00:00,  3.45s/it]\n",
      "Validation epoch 37: 100%|██████████| 38/38 [01:49<00:00,  2.87s/it]\n",
      "Training epoch 38:   0%|          | 0/13 [00:00<?, ?it/s]"
     ]
    },
    {
     "name": "stdout",
     "output_type": "stream",
     "text": [
      "Epoch 37:\n",
      "    Train loss 0.253, accuracy 0.903, F1-score 0.942, MCC: 0.457, Dice: 0.942\n",
      "    Val loss 0.254, accuracy 0.911, F1-score 0.950, MCC: 0.432, Dice: 0.950\n"
     ]
    },
    {
     "name": "stderr",
     "output_type": "stream",
     "text": [
      "Training epoch 38: 100%|██████████| 13/13 [00:47<00:00,  3.64s/it]\n",
      "Validation epoch 38: 100%|██████████| 38/38 [01:39<00:00,  2.63s/it]\n",
      "Training epoch 39:   0%|          | 0/13 [00:00<?, ?it/s]"
     ]
    },
    {
     "name": "stdout",
     "output_type": "stream",
     "text": [
      "Epoch 38:\n",
      "    Train loss 0.248, accuracy 0.901, F1-score 0.942, MCC: 0.473, Dice: 0.942\n",
      "    Val loss 0.246, accuracy 0.908, F1-score 0.948, MCC: 0.433, Dice: 0.948\n"
     ]
    },
    {
     "name": "stderr",
     "output_type": "stream",
     "text": [
      "Training epoch 39: 100%|██████████| 13/13 [00:47<00:00,  3.64s/it]\n",
      "Validation epoch 39: 100%|██████████| 38/38 [01:41<00:00,  2.67s/it]\n",
      "Training epoch 40:   0%|          | 0/13 [00:00<?, ?it/s]"
     ]
    },
    {
     "name": "stdout",
     "output_type": "stream",
     "text": [
      "Epoch 39:\n",
      "    Train loss 0.265, accuracy 0.897, F1-score 0.940, MCC: 0.422, Dice: 0.940\n",
      "    Val loss 0.253, accuracy 0.910, F1-score 0.947, MCC: 0.434, Dice: 0.947\n"
     ]
    },
    {
     "name": "stderr",
     "output_type": "stream",
     "text": [
      "Training epoch 40: 100%|██████████| 13/13 [00:46<00:00,  3.60s/it]\n",
      "Validation epoch 40: 100%|██████████| 38/38 [01:43<00:00,  2.73s/it]\n",
      "Training epoch 41:   0%|          | 0/13 [00:00<?, ?it/s]"
     ]
    },
    {
     "name": "stdout",
     "output_type": "stream",
     "text": [
      "Epoch 40:\n",
      "    Train loss 0.244, accuracy 0.901, F1-score 0.936, MCC: 0.448, Dice: 0.936\n",
      "    Val loss 0.253, accuracy 0.913, F1-score 0.951, MCC: 0.439, Dice: 0.951\n"
     ]
    },
    {
     "name": "stderr",
     "output_type": "stream",
     "text": [
      "Training epoch 41: 100%|██████████| 13/13 [00:45<00:00,  3.47s/it]\n",
      "Validation epoch 41: 100%|██████████| 38/38 [01:45<00:00,  2.79s/it]\n",
      "Training epoch 42:   0%|          | 0/13 [00:00<?, ?it/s]"
     ]
    },
    {
     "name": "stdout",
     "output_type": "stream",
     "text": [
      "Epoch 41:\n",
      "    Train loss 0.242, accuracy 0.901, F1-score 0.943, MCC: 0.448, Dice: 0.943\n",
      "    Val loss 0.259, accuracy 0.909, F1-score 0.948, MCC: 0.432, Dice: 0.948\n"
     ]
    },
    {
     "name": "stderr",
     "output_type": "stream",
     "text": [
      "Training epoch 42: 100%|██████████| 13/13 [00:48<00:00,  3.69s/it]\n",
      "Validation epoch 42: 100%|██████████| 38/38 [01:51<00:00,  2.93s/it]\n"
     ]
    },
    {
     "name": "stdout",
     "output_type": "stream",
     "text": [
      "Epoch 42:\n",
      "    Train loss 0.247, accuracy 0.892, F1-score 0.934, MCC: 0.452, Dice: 0.934\n",
      "    Val loss 0.248, accuracy 0.911, F1-score 0.949, MCC: 0.444, Dice: 0.949\n"
     ]
    },
    {
     "name": "stderr",
     "output_type": "stream",
     "text": [
      "Training epoch 43: 100%|██████████| 13/13 [00:44<00:00,  3.41s/it]\n",
      "Validation epoch 43: 100%|██████████| 38/38 [01:40<00:00,  2.64s/it]\n",
      "Training epoch 44:   0%|          | 0/13 [00:00<?, ?it/s]"
     ]
    },
    {
     "name": "stdout",
     "output_type": "stream",
     "text": [
      "Epoch 43:\n",
      "    Train loss 0.265, accuracy 0.897, F1-score 0.940, MCC: 0.458, Dice: 0.940\n",
      "    Val loss 0.254, accuracy 0.915, F1-score 0.950, MCC: 0.442, Dice: 0.950\n"
     ]
    },
    {
     "name": "stderr",
     "output_type": "stream",
     "text": [
      "Training epoch 44: 100%|██████████| 13/13 [00:44<00:00,  3.45s/it]\n",
      "Validation epoch 44: 100%|██████████| 38/38 [01:42<00:00,  2.70s/it]\n",
      "Training epoch 45:   0%|          | 0/13 [00:00<?, ?it/s]"
     ]
    },
    {
     "name": "stdout",
     "output_type": "stream",
     "text": [
      "Epoch 44:\n",
      "    Train loss 0.247, accuracy 0.900, F1-score 0.944, MCC: 0.457, Dice: 0.944\n",
      "    Val loss 0.254, accuracy 0.910, F1-score 0.950, MCC: 0.439, Dice: 0.950\n"
     ]
    },
    {
     "name": "stderr",
     "output_type": "stream",
     "text": [
      "Training epoch 45: 100%|██████████| 13/13 [00:45<00:00,  3.49s/it]\n",
      "Validation epoch 45: 100%|██████████| 38/38 [01:44<00:00,  2.75s/it]\n",
      "Training epoch 46:   0%|          | 0/13 [00:00<?, ?it/s]"
     ]
    },
    {
     "name": "stdout",
     "output_type": "stream",
     "text": [
      "Epoch 45:\n",
      "    Train loss 0.256, accuracy 0.898, F1-score 0.938, MCC: 0.447, Dice: 0.938\n",
      "    Val loss 0.249, accuracy 0.912, F1-score 0.950, MCC: 0.440, Dice: 0.950\n"
     ]
    },
    {
     "name": "stderr",
     "output_type": "stream",
     "text": [
      "Training epoch 46: 100%|██████████| 13/13 [00:47<00:00,  3.68s/it]\n",
      "Validation epoch 46: 100%|██████████| 38/38 [01:42<00:00,  2.69s/it]\n"
     ]
    },
    {
     "name": "stdout",
     "output_type": "stream",
     "text": [
      "Epoch 46:\n",
      "    Train loss 0.258, accuracy 0.897, F1-score 0.938, MCC: 0.476, Dice: 0.938\n",
      "    Val loss 0.245, accuracy 0.914, F1-score 0.950, MCC: 0.444, Dice: 0.950\n"
     ]
    },
    {
     "name": "stderr",
     "output_type": "stream",
     "text": [
      "Training epoch 47: 100%|██████████| 13/13 [00:45<00:00,  3.50s/it]\n",
      "Validation epoch 47: 100%|██████████| 38/38 [01:40<00:00,  2.65s/it]\n",
      "Training epoch 48:   0%|          | 0/13 [00:00<?, ?it/s]"
     ]
    },
    {
     "name": "stdout",
     "output_type": "stream",
     "text": [
      "Epoch 47:\n",
      "    Train loss 0.243, accuracy 0.901, F1-score 0.941, MCC: 0.448, Dice: 0.941\n",
      "    Val loss 0.246, accuracy 0.911, F1-score 0.948, MCC: 0.437, Dice: 0.948\n"
     ]
    },
    {
     "name": "stderr",
     "output_type": "stream",
     "text": [
      "Training epoch 48: 100%|██████████| 13/13 [00:45<00:00,  3.50s/it]\n",
      "Validation epoch 48: 100%|██████████| 38/38 [01:45<00:00,  2.78s/it]\n"
     ]
    },
    {
     "name": "stdout",
     "output_type": "stream",
     "text": [
      "Epoch 48:\n",
      "    Train loss 0.249, accuracy 0.892, F1-score 0.937, MCC: 0.456, Dice: 0.937\n",
      "    Val loss 0.248, accuracy 0.911, F1-score 0.949, MCC: 0.445, Dice: 0.949\n"
     ]
    },
    {
     "name": "stderr",
     "output_type": "stream",
     "text": [
      "Training epoch 49: 100%|██████████| 13/13 [00:45<00:00,  3.50s/it]\n",
      "Validation epoch 49: 100%|██████████| 38/38 [01:45<00:00,  2.77s/it]\n",
      "Training epoch 50:   0%|          | 0/13 [00:00<?, ?it/s]"
     ]
    },
    {
     "name": "stdout",
     "output_type": "stream",
     "text": [
      "Epoch 49:\n",
      "    Train loss 0.251, accuracy 0.901, F1-score 0.941, MCC: 0.459, Dice: 0.941\n",
      "    Val loss 0.249, accuracy 0.912, F1-score 0.948, MCC: 0.440, Dice: 0.948\n"
     ]
    },
    {
     "name": "stderr",
     "output_type": "stream",
     "text": [
      "Training epoch 50: 100%|██████████| 13/13 [00:44<00:00,  3.43s/it]\n",
      "Validation epoch 50: 100%|██████████| 38/38 [01:40<00:00,  2.66s/it]\n",
      "Training epoch 51:   0%|          | 0/13 [00:00<?, ?it/s]"
     ]
    },
    {
     "name": "stdout",
     "output_type": "stream",
     "text": [
      "Epoch 50:\n",
      "    Train loss 0.255, accuracy 0.898, F1-score 0.940, MCC: 0.462, Dice: 0.940\n",
      "    Val loss 0.248, accuracy 0.909, F1-score 0.949, MCC: 0.433, Dice: 0.949\n"
     ]
    },
    {
     "name": "stderr",
     "output_type": "stream",
     "text": [
      "Training epoch 51: 100%|██████████| 13/13 [00:41<00:00,  3.23s/it]\n",
      "Validation epoch 51: 100%|██████████| 38/38 [01:42<00:00,  2.70s/it]\n",
      "Training epoch 52:   0%|          | 0/13 [00:00<?, ?it/s]"
     ]
    },
    {
     "name": "stdout",
     "output_type": "stream",
     "text": [
      "Epoch 51:\n",
      "    Train loss 0.258, accuracy 0.886, F1-score 0.931, MCC: 0.434, Dice: 0.931\n",
      "    Val loss 0.248, accuracy 0.908, F1-score 0.947, MCC: 0.441, Dice: 0.947\n"
     ]
    },
    {
     "name": "stderr",
     "output_type": "stream",
     "text": [
      "Training epoch 52: 100%|██████████| 13/13 [00:45<00:00,  3.48s/it]\n",
      "Validation epoch 52: 100%|██████████| 38/38 [01:45<00:00,  2.77s/it]\n",
      "Training epoch 53:   0%|          | 0/13 [00:00<?, ?it/s]"
     ]
    },
    {
     "name": "stdout",
     "output_type": "stream",
     "text": [
      "Epoch 52:\n",
      "    Train loss 0.236, accuracy 0.897, F1-score 0.938, MCC: 0.469, Dice: 0.938\n",
      "    Val loss 0.251, accuracy 0.908, F1-score 0.948, MCC: 0.433, Dice: 0.948\n"
     ]
    },
    {
     "name": "stderr",
     "output_type": "stream",
     "text": [
      "Training epoch 53: 100%|██████████| 13/13 [00:43<00:00,  3.38s/it]\n",
      "Validation epoch 53: 100%|██████████| 38/38 [01:43<00:00,  2.73s/it]\n"
     ]
    },
    {
     "name": "stdout",
     "output_type": "stream",
     "text": [
      "Epoch 53:\n",
      "    Train loss 0.243, accuracy 0.899, F1-score 0.941, MCC: 0.456, Dice: 0.941\n",
      "    Val loss 0.248, accuracy 0.911, F1-score 0.947, MCC: 0.448, Dice: 0.947\n"
     ]
    },
    {
     "name": "stderr",
     "output_type": "stream",
     "text": [
      "Training epoch 54: 100%|██████████| 13/13 [00:45<00:00,  3.52s/it]\n",
      "Validation epoch 54: 100%|██████████| 38/38 [01:46<00:00,  2.81s/it]\n",
      "Training epoch 55:   0%|          | 0/13 [00:00<?, ?it/s]"
     ]
    },
    {
     "name": "stdout",
     "output_type": "stream",
     "text": [
      "Epoch 54:\n",
      "    Train loss 0.244, accuracy 0.893, F1-score 0.935, MCC: 0.457, Dice: 0.935\n",
      "    Val loss 0.249, accuracy 0.908, F1-score 0.946, MCC: 0.443, Dice: 0.946\n"
     ]
    },
    {
     "name": "stderr",
     "output_type": "stream",
     "text": [
      "Training epoch 55: 100%|██████████| 13/13 [00:44<00:00,  3.45s/it]\n",
      "Validation epoch 55: 100%|██████████| 38/38 [01:40<00:00,  2.64s/it]\n",
      "Training epoch 56:   0%|          | 0/13 [00:00<?, ?it/s]"
     ]
    },
    {
     "name": "stdout",
     "output_type": "stream",
     "text": [
      "Epoch 55:\n",
      "    Train loss 0.242, accuracy 0.899, F1-score 0.940, MCC: 0.466, Dice: 0.940\n",
      "    Val loss 0.241, accuracy 0.907, F1-score 0.947, MCC: 0.437, Dice: 0.947\n"
     ]
    },
    {
     "name": "stderr",
     "output_type": "stream",
     "text": [
      "Training epoch 56: 100%|██████████| 13/13 [00:46<00:00,  3.55s/it]\n",
      "Validation epoch 56: 100%|██████████| 38/38 [01:47<00:00,  2.83s/it]\n",
      "Training epoch 57:   0%|          | 0/13 [00:00<?, ?it/s]"
     ]
    },
    {
     "name": "stdout",
     "output_type": "stream",
     "text": [
      "Epoch 56:\n",
      "    Train loss 0.252, accuracy 0.894, F1-score 0.939, MCC: 0.446, Dice: 0.939\n",
      "    Val loss 0.241, accuracy 0.908, F1-score 0.947, MCC: 0.433, Dice: 0.947\n"
     ]
    },
    {
     "name": "stderr",
     "output_type": "stream",
     "text": [
      "Training epoch 57: 100%|██████████| 13/13 [00:44<00:00,  3.45s/it]\n",
      "Validation epoch 57: 100%|██████████| 38/38 [01:40<00:00,  2.63s/it]\n",
      "Training epoch 58:   0%|          | 0/13 [00:00<?, ?it/s]"
     ]
    },
    {
     "name": "stdout",
     "output_type": "stream",
     "text": [
      "Epoch 57:\n",
      "    Train loss 0.243, accuracy 0.898, F1-score 0.941, MCC: 0.456, Dice: 0.941\n",
      "    Val loss 0.244, accuracy 0.905, F1-score 0.946, MCC: 0.438, Dice: 0.946\n"
     ]
    },
    {
     "name": "stderr",
     "output_type": "stream",
     "text": [
      "Training epoch 58: 100%|██████████| 13/13 [00:45<00:00,  3.49s/it]\n",
      "Validation epoch 58: 100%|██████████| 38/38 [01:46<00:00,  2.80s/it]\n",
      "Training epoch 59:   0%|          | 0/13 [00:00<?, ?it/s]"
     ]
    },
    {
     "name": "stdout",
     "output_type": "stream",
     "text": [
      "Epoch 58:\n",
      "    Train loss 0.247, accuracy 0.900, F1-score 0.938, MCC: 0.448, Dice: 0.938\n",
      "    Val loss 0.252, accuracy 0.908, F1-score 0.947, MCC: 0.447, Dice: 0.947\n"
     ]
    },
    {
     "name": "stderr",
     "output_type": "stream",
     "text": [
      "Training epoch 59: 100%|██████████| 13/13 [00:45<00:00,  3.46s/it]\n",
      "Validation epoch 59: 100%|██████████| 38/38 [01:46<00:00,  2.80s/it]\n",
      "Training epoch 60:   0%|          | 0/13 [00:00<?, ?it/s]"
     ]
    },
    {
     "name": "stdout",
     "output_type": "stream",
     "text": [
      "Epoch 59:\n",
      "    Train loss 0.239, accuracy 0.905, F1-score 0.943, MCC: 0.471, Dice: 0.943\n",
      "    Val loss 0.247, accuracy 0.913, F1-score 0.950, MCC: 0.442, Dice: 0.950\n"
     ]
    },
    {
     "name": "stderr",
     "output_type": "stream",
     "text": [
      "Training epoch 60: 100%|██████████| 13/13 [00:47<00:00,  3.62s/it]\n",
      "Validation epoch 60: 100%|██████████| 38/38 [01:46<00:00,  2.79s/it]\n",
      "Training epoch 61:   0%|          | 0/13 [00:00<?, ?it/s]"
     ]
    },
    {
     "name": "stdout",
     "output_type": "stream",
     "text": [
      "Epoch 60:\n",
      "    Train loss 0.255, accuracy 0.904, F1-score 0.944, MCC: 0.482, Dice: 0.944\n",
      "    Val loss 0.241, accuracy 0.905, F1-score 0.946, MCC: 0.438, Dice: 0.946\n"
     ]
    },
    {
     "name": "stderr",
     "output_type": "stream",
     "text": [
      "Training epoch 61: 100%|██████████| 13/13 [00:45<00:00,  3.47s/it]\n",
      "Validation epoch 61: 100%|██████████| 38/38 [01:43<00:00,  2.72s/it]\n",
      "Training epoch 62:   0%|          | 0/13 [00:00<?, ?it/s]"
     ]
    },
    {
     "name": "stdout",
     "output_type": "stream",
     "text": [
      "Epoch 61:\n",
      "    Train loss 0.258, accuracy 0.902, F1-score 0.943, MCC: 0.459, Dice: 0.943\n",
      "    Val loss 0.245, accuracy 0.907, F1-score 0.947, MCC: 0.448, Dice: 0.947\n"
     ]
    },
    {
     "name": "stderr",
     "output_type": "stream",
     "text": [
      "Training epoch 62: 100%|██████████| 13/13 [00:46<00:00,  3.58s/it]\n",
      "Validation epoch 62: 100%|██████████| 38/38 [01:46<00:00,  2.80s/it]\n"
     ]
    },
    {
     "name": "stdout",
     "output_type": "stream",
     "text": [
      "Epoch 62:\n",
      "    Train loss 0.255, accuracy 0.905, F1-score 0.942, MCC: 0.445, Dice: 0.942\n",
      "    Val loss 0.247, accuracy 0.913, F1-score 0.950, MCC: 0.451, Dice: 0.950\n"
     ]
    },
    {
     "name": "stderr",
     "output_type": "stream",
     "text": [
      "Training epoch 63: 100%|██████████| 13/13 [00:46<00:00,  3.54s/it]\n",
      "Validation epoch 63: 100%|██████████| 38/38 [01:47<00:00,  2.82s/it]\n"
     ]
    },
    {
     "name": "stdout",
     "output_type": "stream",
     "text": [
      "Epoch 63:\n",
      "    Train loss 0.238, accuracy 0.899, F1-score 0.937, MCC: 0.463, Dice: 0.937\n",
      "    Val loss 0.242, accuracy 0.908, F1-score 0.948, MCC: 0.452, Dice: 0.948\n"
     ]
    },
    {
     "name": "stderr",
     "output_type": "stream",
     "text": [
      "Training epoch 64: 100%|██████████| 13/13 [00:46<00:00,  3.57s/it]\n",
      "Validation epoch 64: 100%|██████████| 38/38 [01:44<00:00,  2.76s/it]\n",
      "Training epoch 65:   0%|          | 0/13 [00:00<?, ?it/s]"
     ]
    },
    {
     "name": "stdout",
     "output_type": "stream",
     "text": [
      "Epoch 64:\n",
      "    Train loss 0.235, accuracy 0.900, F1-score 0.940, MCC: 0.454, Dice: 0.940\n",
      "    Val loss 0.238, accuracy 0.907, F1-score 0.947, MCC: 0.443, Dice: 0.947\n"
     ]
    },
    {
     "name": "stderr",
     "output_type": "stream",
     "text": [
      "Training epoch 65: 100%|██████████| 13/13 [00:42<00:00,  3.26s/it]\n",
      "Validation epoch 65: 100%|██████████| 38/38 [01:34<00:00,  2.47s/it]\n",
      "Training epoch 66:   0%|          | 0/13 [00:00<?, ?it/s]"
     ]
    },
    {
     "name": "stdout",
     "output_type": "stream",
     "text": [
      "Epoch 65:\n",
      "    Train loss 0.251, accuracy 0.899, F1-score 0.938, MCC: 0.463, Dice: 0.938\n",
      "    Val loss 0.250, accuracy 0.906, F1-score 0.947, MCC: 0.438, Dice: 0.947\n"
     ]
    },
    {
     "name": "stderr",
     "output_type": "stream",
     "text": [
      "Training epoch 66: 100%|██████████| 13/13 [00:43<00:00,  3.36s/it]\n",
      "Validation epoch 66: 100%|██████████| 38/38 [01:38<00:00,  2.60s/it]\n",
      "Training epoch 67:   0%|          | 0/13 [00:00<?, ?it/s]"
     ]
    },
    {
     "name": "stdout",
     "output_type": "stream",
     "text": [
      "Epoch 66:\n",
      "    Train loss 0.246, accuracy 0.905, F1-score 0.942, MCC: 0.486, Dice: 0.942\n",
      "    Val loss 0.249, accuracy 0.907, F1-score 0.948, MCC: 0.439, Dice: 0.948\n"
     ]
    },
    {
     "name": "stderr",
     "output_type": "stream",
     "text": [
      "Training epoch 67: 100%|██████████| 13/13 [00:41<00:00,  3.17s/it]\n",
      "Validation epoch 67: 100%|██████████| 38/38 [01:37<00:00,  2.58s/it]\n",
      "Training epoch 68:   0%|          | 0/13 [00:00<?, ?it/s]"
     ]
    },
    {
     "name": "stdout",
     "output_type": "stream",
     "text": [
      "Epoch 67:\n",
      "    Train loss 0.247, accuracy 0.893, F1-score 0.936, MCC: 0.455, Dice: 0.936\n",
      "    Val loss 0.244, accuracy 0.907, F1-score 0.948, MCC: 0.440, Dice: 0.948\n"
     ]
    },
    {
     "name": "stderr",
     "output_type": "stream",
     "text": [
      "Training epoch 68: 100%|██████████| 13/13 [00:42<00:00,  3.25s/it]\n",
      "Validation epoch 68: 100%|██████████| 38/38 [01:41<00:00,  2.67s/it]\n",
      "Training epoch 69:   0%|          | 0/13 [00:00<?, ?it/s]"
     ]
    },
    {
     "name": "stdout",
     "output_type": "stream",
     "text": [
      "Epoch 68:\n",
      "    Train loss 0.246, accuracy 0.887, F1-score 0.935, MCC: 0.456, Dice: 0.935\n",
      "    Val loss 0.239, accuracy 0.909, F1-score 0.948, MCC: 0.451, Dice: 0.948\n"
     ]
    },
    {
     "name": "stderr",
     "output_type": "stream",
     "text": [
      "Training epoch 69: 100%|██████████| 13/13 [00:42<00:00,  3.24s/it]\n",
      "Validation epoch 69: 100%|██████████| 38/38 [01:32<00:00,  2.43s/it]\n",
      "Training epoch 70:   0%|          | 0/13 [00:00<?, ?it/s]"
     ]
    },
    {
     "name": "stdout",
     "output_type": "stream",
     "text": [
      "Epoch 69:\n",
      "    Train loss 0.255, accuracy 0.897, F1-score 0.938, MCC: 0.461, Dice: 0.938\n",
      "    Val loss 0.245, accuracy 0.910, F1-score 0.949, MCC: 0.438, Dice: 0.949\n"
     ]
    },
    {
     "name": "stderr",
     "output_type": "stream",
     "text": [
      "Training epoch 70: 100%|██████████| 13/13 [00:42<00:00,  3.27s/it]\n",
      "Validation epoch 70: 100%|██████████| 38/38 [01:36<00:00,  2.54s/it]\n",
      "Training epoch 71:   0%|          | 0/13 [00:00<?, ?it/s]"
     ]
    },
    {
     "name": "stdout",
     "output_type": "stream",
     "text": [
      "Epoch 70:\n",
      "    Train loss 0.250, accuracy 0.893, F1-score 0.937, MCC: 0.433, Dice: 0.937\n",
      "    Val loss 0.246, accuracy 0.907, F1-score 0.948, MCC: 0.446, Dice: 0.948\n"
     ]
    },
    {
     "name": "stderr",
     "output_type": "stream",
     "text": [
      "Training epoch 71: 100%|██████████| 13/13 [00:43<00:00,  3.37s/it]\n",
      "Validation epoch 71: 100%|██████████| 38/38 [01:40<00:00,  2.64s/it]\n",
      "Training epoch 72:   0%|          | 0/13 [00:00<?, ?it/s]"
     ]
    },
    {
     "name": "stdout",
     "output_type": "stream",
     "text": [
      "Epoch 71:\n",
      "    Train loss 0.248, accuracy 0.893, F1-score 0.935, MCC: 0.443, Dice: 0.935\n",
      "    Val loss 0.239, accuracy 0.911, F1-score 0.950, MCC: 0.440, Dice: 0.950\n"
     ]
    },
    {
     "name": "stderr",
     "output_type": "stream",
     "text": [
      "Training epoch 72: 100%|██████████| 13/13 [00:41<00:00,  3.17s/it]\n",
      "Validation epoch 72: 100%|██████████| 38/38 [01:36<00:00,  2.53s/it]\n"
     ]
    },
    {
     "name": "stdout",
     "output_type": "stream",
     "text": [
      "Epoch 72:\n",
      "    Train loss 0.237, accuracy 0.902, F1-score 0.944, MCC: 0.473, Dice: 0.944\n",
      "    Val loss 0.244, accuracy 0.906, F1-score 0.946, MCC: 0.454, Dice: 0.946\n"
     ]
    },
    {
     "name": "stderr",
     "output_type": "stream",
     "text": [
      "Training epoch 73: 100%|██████████| 13/13 [00:41<00:00,  3.22s/it]\n",
      "Validation epoch 73: 100%|██████████| 38/38 [01:34<00:00,  2.48s/it]\n",
      "Training epoch 74:   0%|          | 0/13 [00:00<?, ?it/s]"
     ]
    },
    {
     "name": "stdout",
     "output_type": "stream",
     "text": [
      "Epoch 73:\n",
      "    Train loss 0.240, accuracy 0.895, F1-score 0.938, MCC: 0.461, Dice: 0.938\n",
      "    Val loss 0.244, accuracy 0.908, F1-score 0.948, MCC: 0.442, Dice: 0.948\n"
     ]
    },
    {
     "name": "stderr",
     "output_type": "stream",
     "text": [
      "Training epoch 74: 100%|██████████| 13/13 [00:40<00:00,  3.13s/it]\n",
      "Validation epoch 74: 100%|██████████| 38/38 [01:36<00:00,  2.53s/it]\n",
      "Training epoch 75:   0%|          | 0/13 [00:00<?, ?it/s]"
     ]
    },
    {
     "name": "stdout",
     "output_type": "stream",
     "text": [
      "Epoch 74:\n",
      "    Train loss 0.246, accuracy 0.896, F1-score 0.941, MCC: 0.463, Dice: 0.941\n",
      "    Val loss 0.245, accuracy 0.911, F1-score 0.948, MCC: 0.452, Dice: 0.948\n"
     ]
    },
    {
     "name": "stderr",
     "output_type": "stream",
     "text": [
      "Training epoch 75: 100%|██████████| 13/13 [00:42<00:00,  3.30s/it]\n",
      "Validation epoch 75: 100%|██████████| 38/38 [01:39<00:00,  2.61s/it]\n",
      "Training epoch 76:   0%|          | 0/13 [00:00<?, ?it/s]"
     ]
    },
    {
     "name": "stdout",
     "output_type": "stream",
     "text": [
      "Epoch 75:\n",
      "    Train loss 0.237, accuracy 0.901, F1-score 0.937, MCC: 0.444, Dice: 0.937\n",
      "    Val loss 0.240, accuracy 0.915, F1-score 0.951, MCC: 0.438, Dice: 0.951\n"
     ]
    },
    {
     "name": "stderr",
     "output_type": "stream",
     "text": [
      "Training epoch 76: 100%|██████████| 13/13 [00:41<00:00,  3.16s/it]\n",
      "Validation epoch 76: 100%|██████████| 38/38 [01:40<00:00,  2.64s/it]\n",
      "Training epoch 77:   0%|          | 0/13 [00:00<?, ?it/s]"
     ]
    },
    {
     "name": "stdout",
     "output_type": "stream",
     "text": [
      "Epoch 76:\n",
      "    Train loss 0.239, accuracy 0.896, F1-score 0.940, MCC: 0.464, Dice: 0.940\n",
      "    Val loss 0.244, accuracy 0.907, F1-score 0.947, MCC: 0.451, Dice: 0.947\n"
     ]
    },
    {
     "name": "stderr",
     "output_type": "stream",
     "text": [
      "Training epoch 77: 100%|██████████| 13/13 [00:42<00:00,  3.27s/it]\n",
      "Validation epoch 77: 100%|██████████| 38/38 [01:36<00:00,  2.53s/it]\n",
      "Training epoch 78:   0%|          | 0/13 [00:00<?, ?it/s]"
     ]
    },
    {
     "name": "stdout",
     "output_type": "stream",
     "text": [
      "Epoch 77:\n",
      "    Train loss 0.236, accuracy 0.898, F1-score 0.937, MCC: 0.474, Dice: 0.937\n",
      "    Val loss 0.242, accuracy 0.912, F1-score 0.950, MCC: 0.448, Dice: 0.950\n"
     ]
    },
    {
     "name": "stderr",
     "output_type": "stream",
     "text": [
      "Training epoch 78: 100%|██████████| 13/13 [00:43<00:00,  3.32s/it]\n",
      "Validation epoch 78: 100%|██████████| 38/38 [01:38<00:00,  2.59s/it]\n",
      "Training epoch 79:   0%|          | 0/13 [00:00<?, ?it/s]"
     ]
    },
    {
     "name": "stdout",
     "output_type": "stream",
     "text": [
      "Epoch 78:\n",
      "    Train loss 0.230, accuracy 0.900, F1-score 0.942, MCC: 0.466, Dice: 0.942\n",
      "    Val loss 0.246, accuracy 0.905, F1-score 0.945, MCC: 0.442, Dice: 0.945\n"
     ]
    },
    {
     "name": "stderr",
     "output_type": "stream",
     "text": [
      "Training epoch 79: 100%|██████████| 13/13 [00:42<00:00,  3.30s/it]\n",
      "Validation epoch 79: 100%|██████████| 38/38 [01:35<00:00,  2.53s/it]\n",
      "Training epoch 80:   0%|          | 0/13 [00:00<?, ?it/s]"
     ]
    },
    {
     "name": "stdout",
     "output_type": "stream",
     "text": [
      "Epoch 79:\n",
      "    Train loss 0.230, accuracy 0.892, F1-score 0.936, MCC: 0.442, Dice: 0.936\n",
      "    Val loss 0.246, accuracy 0.912, F1-score 0.950, MCC: 0.449, Dice: 0.950\n"
     ]
    },
    {
     "name": "stderr",
     "output_type": "stream",
     "text": [
      "Training epoch 80: 100%|██████████| 13/13 [00:43<00:00,  3.34s/it]\n",
      "Validation epoch 80: 100%|██████████| 38/38 [01:42<00:00,  2.69s/it]\n",
      "Training epoch 81:   0%|          | 0/13 [00:00<?, ?it/s]"
     ]
    },
    {
     "name": "stdout",
     "output_type": "stream",
     "text": [
      "Epoch 80:\n",
      "    Train loss 0.231, accuracy 0.893, F1-score 0.938, MCC: 0.472, Dice: 0.938\n",
      "    Val loss 0.248, accuracy 0.911, F1-score 0.949, MCC: 0.442, Dice: 0.949\n"
     ]
    },
    {
     "name": "stderr",
     "output_type": "stream",
     "text": [
      "Training epoch 81: 100%|██████████| 13/13 [00:44<00:00,  3.40s/it]\n",
      "Validation epoch 81: 100%|██████████| 38/38 [01:36<00:00,  2.54s/it]\n",
      "Training epoch 82:   0%|          | 0/13 [00:00<?, ?it/s]"
     ]
    },
    {
     "name": "stdout",
     "output_type": "stream",
     "text": [
      "Epoch 81:\n",
      "    Train loss 0.236, accuracy 0.903, F1-score 0.936, MCC: 0.467, Dice: 0.936\n",
      "    Val loss 0.239, accuracy 0.905, F1-score 0.948, MCC: 0.444, Dice: 0.948\n"
     ]
    },
    {
     "name": "stderr",
     "output_type": "stream",
     "text": [
      "Training epoch 82: 100%|██████████| 13/13 [00:43<00:00,  3.31s/it]\n",
      "Validation epoch 82: 100%|██████████| 38/38 [01:36<00:00,  2.53s/it]\n",
      "Training epoch 83:   0%|          | 0/13 [00:00<?, ?it/s]"
     ]
    },
    {
     "name": "stdout",
     "output_type": "stream",
     "text": [
      "Epoch 82:\n",
      "    Train loss 0.249, accuracy 0.892, F1-score 0.938, MCC: 0.464, Dice: 0.938\n",
      "    Val loss 0.243, accuracy 0.913, F1-score 0.950, MCC: 0.449, Dice: 0.950\n"
     ]
    },
    {
     "name": "stderr",
     "output_type": "stream",
     "text": [
      "Training epoch 83: 100%|██████████| 13/13 [00:41<00:00,  3.19s/it]\n",
      "Validation epoch 83: 100%|██████████| 38/38 [01:29<00:00,  2.36s/it]\n",
      "Training epoch 84:   0%|          | 0/13 [00:00<?, ?it/s]"
     ]
    },
    {
     "name": "stdout",
     "output_type": "stream",
     "text": [
      "Epoch 83:\n",
      "    Train loss 0.244, accuracy 0.900, F1-score 0.941, MCC: 0.474, Dice: 0.941\n",
      "    Val loss 0.243, accuracy 0.910, F1-score 0.950, MCC: 0.447, Dice: 0.950\n"
     ]
    },
    {
     "name": "stderr",
     "output_type": "stream",
     "text": [
      "Training epoch 84: 100%|██████████| 13/13 [00:41<00:00,  3.21s/it]\n",
      "Validation epoch 84: 100%|██████████| 38/38 [01:34<00:00,  2.48s/it]\n"
     ]
    },
    {
     "name": "stdout",
     "output_type": "stream",
     "text": [
      "Epoch 84:\n",
      "    Train loss 0.230, accuracy 0.892, F1-score 0.936, MCC: 0.451, Dice: 0.936\n",
      "    Val loss 0.236, accuracy 0.909, F1-score 0.948, MCC: 0.458, Dice: 0.948\n"
     ]
    },
    {
     "name": "stderr",
     "output_type": "stream",
     "text": [
      "Training epoch 85: 100%|██████████| 13/13 [00:39<00:00,  3.03s/it]\n",
      "Validation epoch 85: 100%|██████████| 38/38 [01:39<00:00,  2.61s/it]\n",
      "Training epoch 86:   0%|          | 0/13 [00:00<?, ?it/s]"
     ]
    },
    {
     "name": "stdout",
     "output_type": "stream",
     "text": [
      "Epoch 85:\n",
      "    Train loss 0.238, accuracy 0.901, F1-score 0.938, MCC: 0.463, Dice: 0.938\n",
      "    Val loss 0.246, accuracy 0.909, F1-score 0.947, MCC: 0.451, Dice: 0.947\n"
     ]
    },
    {
     "name": "stderr",
     "output_type": "stream",
     "text": [
      "Training epoch 86: 100%|██████████| 13/13 [00:39<00:00,  3.06s/it]\n",
      "Validation epoch 86: 100%|██████████| 38/38 [01:34<00:00,  2.48s/it]\n",
      "Training epoch 87:   0%|          | 0/13 [00:00<?, ?it/s]"
     ]
    },
    {
     "name": "stdout",
     "output_type": "stream",
     "text": [
      "Epoch 86:\n",
      "    Train loss 0.246, accuracy 0.898, F1-score 0.938, MCC: 0.457, Dice: 0.938\n",
      "    Val loss 0.246, accuracy 0.902, F1-score 0.946, MCC: 0.439, Dice: 0.946\n"
     ]
    },
    {
     "name": "stderr",
     "output_type": "stream",
     "text": [
      "Training epoch 87: 100%|██████████| 13/13 [00:37<00:00,  2.89s/it]\n",
      "Validation epoch 87: 100%|██████████| 38/38 [01:28<00:00,  2.33s/it]\n",
      "Training epoch 88:   0%|          | 0/13 [00:00<?, ?it/s]"
     ]
    },
    {
     "name": "stdout",
     "output_type": "stream",
     "text": [
      "Epoch 87:\n",
      "    Train loss 0.232, accuracy 0.907, F1-score 0.944, MCC: 0.483, Dice: 0.944\n",
      "    Val loss 0.240, accuracy 0.909, F1-score 0.949, MCC: 0.445, Dice: 0.949\n"
     ]
    },
    {
     "name": "stderr",
     "output_type": "stream",
     "text": [
      "Training epoch 88: 100%|██████████| 13/13 [00:40<00:00,  3.08s/it]\n",
      "Validation epoch 88: 100%|██████████| 38/38 [01:30<00:00,  2.39s/it]\n"
     ]
    },
    {
     "name": "stdout",
     "output_type": "stream",
     "text": [
      "Epoch 88:\n",
      "    Train loss 0.246, accuracy 0.904, F1-score 0.943, MCC: 0.471, Dice: 0.943\n",
      "    Val loss 0.241, accuracy 0.909, F1-score 0.947, MCC: 0.459, Dice: 0.947\n"
     ]
    },
    {
     "name": "stderr",
     "output_type": "stream",
     "text": [
      "Training epoch 89: 100%|██████████| 13/13 [00:41<00:00,  3.17s/it]\n",
      "Validation epoch 89: 100%|██████████| 38/38 [01:29<00:00,  2.35s/it]\n",
      "Training epoch 90:   0%|          | 0/13 [00:00<?, ?it/s]"
     ]
    },
    {
     "name": "stdout",
     "output_type": "stream",
     "text": [
      "Epoch 89:\n",
      "    Train loss 0.236, accuracy 0.901, F1-score 0.939, MCC: 0.475, Dice: 0.939\n",
      "    Val loss 0.238, accuracy 0.910, F1-score 0.947, MCC: 0.455, Dice: 0.947\n"
     ]
    },
    {
     "name": "stderr",
     "output_type": "stream",
     "text": [
      "Training epoch 90: 100%|██████████| 13/13 [00:37<00:00,  2.92s/it]\n",
      "Validation epoch 90: 100%|██████████| 38/38 [01:33<00:00,  2.46s/it]\n"
     ]
    },
    {
     "name": "stdout",
     "output_type": "stream",
     "text": [
      "Epoch 90:\n",
      "    Train loss 0.245, accuracy 0.898, F1-score 0.934, MCC: 0.491, Dice: 0.934\n",
      "    Val loss 0.239, accuracy 0.907, F1-score 0.946, MCC: 0.462, Dice: 0.946\n"
     ]
    },
    {
     "name": "stderr",
     "output_type": "stream",
     "text": [
      "Training epoch 91: 100%|██████████| 13/13 [00:40<00:00,  3.14s/it]\n",
      "Validation epoch 91: 100%|██████████| 38/38 [01:29<00:00,  2.34s/it]\n",
      "Training epoch 92:   0%|          | 0/13 [00:00<?, ?it/s]"
     ]
    },
    {
     "name": "stdout",
     "output_type": "stream",
     "text": [
      "Epoch 91:\n",
      "    Train loss 0.241, accuracy 0.900, F1-score 0.942, MCC: 0.488, Dice: 0.942\n",
      "    Val loss 0.242, accuracy 0.909, F1-score 0.948, MCC: 0.461, Dice: 0.948\n"
     ]
    },
    {
     "name": "stderr",
     "output_type": "stream",
     "text": [
      "Training epoch 92: 100%|██████████| 13/13 [00:39<00:00,  3.07s/it]\n",
      "Validation epoch 92: 100%|██████████| 38/38 [01:29<00:00,  2.35s/it]\n",
      "Training epoch 93:   0%|          | 0/13 [00:00<?, ?it/s]"
     ]
    },
    {
     "name": "stdout",
     "output_type": "stream",
     "text": [
      "Epoch 92:\n",
      "    Train loss 0.241, accuracy 0.899, F1-score 0.940, MCC: 0.485, Dice: 0.940\n",
      "    Val loss 0.239, accuracy 0.909, F1-score 0.949, MCC: 0.460, Dice: 0.949\n"
     ]
    },
    {
     "name": "stderr",
     "output_type": "stream",
     "text": [
      "Training epoch 93: 100%|██████████| 13/13 [00:36<00:00,  2.78s/it]\n",
      "Validation epoch 93: 100%|██████████| 38/38 [01:31<00:00,  2.42s/it]\n",
      "Training epoch 94:   0%|          | 0/13 [00:00<?, ?it/s]"
     ]
    },
    {
     "name": "stdout",
     "output_type": "stream",
     "text": [
      "Epoch 93:\n",
      "    Train loss 0.242, accuracy 0.900, F1-score 0.942, MCC: 0.466, Dice: 0.942\n",
      "    Val loss 0.235, accuracy 0.909, F1-score 0.950, MCC: 0.451, Dice: 0.950\n"
     ]
    },
    {
     "name": "stderr",
     "output_type": "stream",
     "text": [
      "Training epoch 94: 100%|██████████| 13/13 [00:39<00:00,  3.07s/it]\n",
      "Validation epoch 94: 100%|██████████| 38/38 [01:30<00:00,  2.38s/it]\n",
      "Training epoch 95:   0%|          | 0/13 [00:00<?, ?it/s]"
     ]
    },
    {
     "name": "stdout",
     "output_type": "stream",
     "text": [
      "Epoch 94:\n",
      "    Train loss 0.241, accuracy 0.890, F1-score 0.935, MCC: 0.456, Dice: 0.935\n",
      "    Val loss 0.241, accuracy 0.907, F1-score 0.948, MCC: 0.446, Dice: 0.948\n"
     ]
    },
    {
     "name": "stderr",
     "output_type": "stream",
     "text": [
      "Training epoch 95: 100%|██████████| 13/13 [00:38<00:00,  2.95s/it]\n",
      "Validation epoch 95: 100%|██████████| 38/38 [01:26<00:00,  2.28s/it]\n",
      "Training epoch 96:   0%|          | 0/13 [00:00<?, ?it/s]"
     ]
    },
    {
     "name": "stdout",
     "output_type": "stream",
     "text": [
      "Epoch 95:\n",
      "    Train loss 0.239, accuracy 0.897, F1-score 0.940, MCC: 0.464, Dice: 0.940\n",
      "    Val loss 0.241, accuracy 0.913, F1-score 0.949, MCC: 0.457, Dice: 0.949\n"
     ]
    },
    {
     "name": "stderr",
     "output_type": "stream",
     "text": [
      "Training epoch 96: 100%|██████████| 13/13 [00:38<00:00,  2.93s/it]\n",
      "Validation epoch 96: 100%|██████████| 38/38 [01:26<00:00,  2.27s/it]\n",
      "Training epoch 97:   0%|          | 0/13 [00:00<?, ?it/s]"
     ]
    },
    {
     "name": "stdout",
     "output_type": "stream",
     "text": [
      "Epoch 96:\n",
      "    Train loss 0.233, accuracy 0.910, F1-score 0.944, MCC: 0.471, Dice: 0.944\n",
      "    Val loss 0.241, accuracy 0.912, F1-score 0.949, MCC: 0.448, Dice: 0.949\n"
     ]
    },
    {
     "name": "stderr",
     "output_type": "stream",
     "text": [
      "Training epoch 97: 100%|██████████| 13/13 [00:38<00:00,  2.98s/it]\n",
      "Validation epoch 97: 100%|██████████| 38/38 [01:33<00:00,  2.47s/it]\n",
      "Training epoch 98:   0%|          | 0/13 [00:00<?, ?it/s]"
     ]
    },
    {
     "name": "stdout",
     "output_type": "stream",
     "text": [
      "Epoch 97:\n",
      "    Train loss 0.246, accuracy 0.910, F1-score 0.945, MCC: 0.488, Dice: 0.945\n",
      "    Val loss 0.239, accuracy 0.913, F1-score 0.951, MCC: 0.454, Dice: 0.951\n"
     ]
    },
    {
     "name": "stderr",
     "output_type": "stream",
     "text": [
      "Training epoch 98: 100%|██████████| 13/13 [00:39<00:00,  3.02s/it]\n",
      "Validation epoch 98: 100%|██████████| 38/38 [01:36<00:00,  2.54s/it]\n",
      "Training epoch 99:   0%|          | 0/13 [00:00<?, ?it/s]"
     ]
    },
    {
     "name": "stdout",
     "output_type": "stream",
     "text": [
      "Epoch 98:\n",
      "    Train loss 0.233, accuracy 0.895, F1-score 0.936, MCC: 0.470, Dice: 0.936\n",
      "    Val loss 0.237, accuracy 0.912, F1-score 0.951, MCC: 0.442, Dice: 0.951\n"
     ]
    },
    {
     "name": "stderr",
     "output_type": "stream",
     "text": [
      "Training epoch 99: 100%|██████████| 13/13 [00:43<00:00,  3.33s/it]\n",
      "Validation epoch 99: 100%|██████████| 38/38 [01:30<00:00,  2.38s/it]\n",
      "Training epoch 100:   0%|          | 0/13 [00:00<?, ?it/s]"
     ]
    },
    {
     "name": "stdout",
     "output_type": "stream",
     "text": [
      "Epoch 99:\n",
      "    Train loss 0.233, accuracy 0.899, F1-score 0.938, MCC: 0.464, Dice: 0.938\n",
      "    Val loss 0.241, accuracy 0.910, F1-score 0.949, MCC: 0.440, Dice: 0.949\n"
     ]
    },
    {
     "name": "stderr",
     "output_type": "stream",
     "text": [
      "Training epoch 100: 100%|██████████| 13/13 [00:40<00:00,  3.09s/it]\n",
      "Validation epoch 100: 100%|██████████| 38/38 [01:28<00:00,  2.33s/it]\n",
      "Training epoch 101:   0%|          | 0/13 [00:00<?, ?it/s]"
     ]
    },
    {
     "name": "stdout",
     "output_type": "stream",
     "text": [
      "Epoch 100:\n",
      "    Train loss 0.240, accuracy 0.902, F1-score 0.943, MCC: 0.462, Dice: 0.943\n",
      "    Val loss 0.240, accuracy 0.914, F1-score 0.950, MCC: 0.450, Dice: 0.950\n"
     ]
    },
    {
     "name": "stderr",
     "output_type": "stream",
     "text": [
      "Training epoch 101: 100%|██████████| 13/13 [00:42<00:00,  3.24s/it]\n",
      "Validation epoch 101: 100%|██████████| 38/38 [01:33<00:00,  2.46s/it]\n",
      "Training epoch 102:   0%|          | 0/13 [00:00<?, ?it/s]"
     ]
    },
    {
     "name": "stdout",
     "output_type": "stream",
     "text": [
      "Epoch 101:\n",
      "    Train loss 0.227, accuracy 0.908, F1-score 0.944, MCC: 0.484, Dice: 0.944\n",
      "    Val loss 0.239, accuracy 0.909, F1-score 0.949, MCC: 0.445, Dice: 0.949\n"
     ]
    },
    {
     "name": "stderr",
     "output_type": "stream",
     "text": [
      "Training epoch 102: 100%|██████████| 13/13 [00:41<00:00,  3.22s/it]\n",
      "Validation epoch 102: 100%|██████████| 38/38 [01:35<00:00,  2.51s/it]\n",
      "Training epoch 103:   0%|          | 0/13 [00:00<?, ?it/s]"
     ]
    },
    {
     "name": "stdout",
     "output_type": "stream",
     "text": [
      "Epoch 102:\n",
      "    Train loss 0.234, accuracy 0.901, F1-score 0.943, MCC: 0.466, Dice: 0.943\n",
      "    Val loss 0.245, accuracy 0.915, F1-score 0.953, MCC: 0.459, Dice: 0.953\n"
     ]
    },
    {
     "name": "stderr",
     "output_type": "stream",
     "text": [
      "Training epoch 103: 100%|██████████| 13/13 [00:41<00:00,  3.17s/it]\n",
      "Validation epoch 103: 100%|██████████| 38/38 [01:33<00:00,  2.46s/it]\n",
      "Training epoch 104:   0%|          | 0/13 [00:00<?, ?it/s]"
     ]
    },
    {
     "name": "stdout",
     "output_type": "stream",
     "text": [
      "Epoch 103:\n",
      "    Train loss 0.231, accuracy 0.902, F1-score 0.944, MCC: 0.485, Dice: 0.944\n",
      "    Val loss 0.237, accuracy 0.905, F1-score 0.947, MCC: 0.447, Dice: 0.947\n"
     ]
    },
    {
     "name": "stderr",
     "output_type": "stream",
     "text": [
      "Training epoch 104: 100%|██████████| 13/13 [00:39<00:00,  3.04s/it]\n",
      "Validation epoch 104: 100%|██████████| 38/38 [01:31<00:00,  2.42s/it]\n",
      "Training epoch 105:   0%|          | 0/13 [00:00<?, ?it/s]"
     ]
    },
    {
     "name": "stdout",
     "output_type": "stream",
     "text": [
      "Epoch 104:\n",
      "    Train loss 0.226, accuracy 0.905, F1-score 0.942, MCC: 0.474, Dice: 0.942\n",
      "    Val loss 0.240, accuracy 0.913, F1-score 0.949, MCC: 0.452, Dice: 0.949\n"
     ]
    },
    {
     "name": "stderr",
     "output_type": "stream",
     "text": [
      "Training epoch 105: 100%|██████████| 13/13 [00:41<00:00,  3.19s/it]\n",
      "Validation epoch 105: 100%|██████████| 38/38 [01:36<00:00,  2.54s/it]\n",
      "Training epoch 106:   0%|          | 0/13 [00:00<?, ?it/s]"
     ]
    },
    {
     "name": "stdout",
     "output_type": "stream",
     "text": [
      "Epoch 105:\n",
      "    Train loss 0.247, accuracy 0.903, F1-score 0.940, MCC: 0.489, Dice: 0.940\n",
      "    Val loss 0.242, accuracy 0.909, F1-score 0.948, MCC: 0.459, Dice: 0.948\n"
     ]
    },
    {
     "name": "stderr",
     "output_type": "stream",
     "text": [
      "Training epoch 106: 100%|██████████| 13/13 [00:39<00:00,  3.00s/it]\n",
      "Validation epoch 106: 100%|██████████| 38/38 [01:32<00:00,  2.44s/it]\n",
      "Training epoch 107:   0%|          | 0/13 [00:00<?, ?it/s]"
     ]
    },
    {
     "name": "stdout",
     "output_type": "stream",
     "text": [
      "Epoch 106:\n",
      "    Train loss 0.240, accuracy 0.902, F1-score 0.939, MCC: 0.473, Dice: 0.939\n",
      "    Val loss 0.232, accuracy 0.910, F1-score 0.949, MCC: 0.459, Dice: 0.949\n"
     ]
    },
    {
     "name": "stderr",
     "output_type": "stream",
     "text": [
      "Training epoch 107: 100%|██████████| 13/13 [00:39<00:00,  3.02s/it]\n",
      "Validation epoch 107: 100%|██████████| 38/38 [01:28<00:00,  2.34s/it]\n",
      "Training epoch 108:   0%|          | 0/13 [00:00<?, ?it/s]"
     ]
    },
    {
     "name": "stdout",
     "output_type": "stream",
     "text": [
      "Epoch 107:\n",
      "    Train loss 0.231, accuracy 0.901, F1-score 0.941, MCC: 0.472, Dice: 0.941\n",
      "    Val loss 0.245, accuracy 0.910, F1-score 0.949, MCC: 0.440, Dice: 0.949\n"
     ]
    },
    {
     "name": "stderr",
     "output_type": "stream",
     "text": [
      "Training epoch 108: 100%|██████████| 13/13 [00:41<00:00,  3.19s/it]\n",
      "Validation epoch 108: 100%|██████████| 38/38 [01:31<00:00,  2.42s/it]\n"
     ]
    },
    {
     "name": "stdout",
     "output_type": "stream",
     "text": [
      "Epoch 108:\n",
      "    Train loss 0.238, accuracy 0.900, F1-score 0.938, MCC: 0.454, Dice: 0.938\n",
      "    Val loss 0.238, accuracy 0.916, F1-score 0.953, MCC: 0.464, Dice: 0.953\n"
     ]
    },
    {
     "name": "stderr",
     "output_type": "stream",
     "text": [
      "Training epoch 109: 100%|██████████| 13/13 [00:44<00:00,  3.41s/it]\n",
      "Validation epoch 109: 100%|██████████| 38/38 [01:34<00:00,  2.48s/it]\n",
      "Training epoch 110:   0%|          | 0/13 [00:00<?, ?it/s]"
     ]
    },
    {
     "name": "stdout",
     "output_type": "stream",
     "text": [
      "Epoch 109:\n",
      "    Train loss 0.232, accuracy 0.903, F1-score 0.942, MCC: 0.478, Dice: 0.942\n",
      "    Val loss 0.237, accuracy 0.910, F1-score 0.949, MCC: 0.449, Dice: 0.949\n"
     ]
    },
    {
     "name": "stderr",
     "output_type": "stream",
     "text": [
      "Training epoch 110: 100%|██████████| 13/13 [00:40<00:00,  3.09s/it]\n",
      "Validation epoch 110: 100%|██████████| 38/38 [01:31<00:00,  2.41s/it]\n",
      "Training epoch 111:   0%|          | 0/13 [00:00<?, ?it/s]"
     ]
    },
    {
     "name": "stdout",
     "output_type": "stream",
     "text": [
      "Epoch 110:\n",
      "    Train loss 0.234, accuracy 0.900, F1-score 0.936, MCC: 0.486, Dice: 0.936\n",
      "    Val loss 0.241, accuracy 0.909, F1-score 0.947, MCC: 0.452, Dice: 0.947\n"
     ]
    },
    {
     "name": "stderr",
     "output_type": "stream",
     "text": [
      "Training epoch 111: 100%|██████████| 13/13 [00:41<00:00,  3.17s/it]\n",
      "Validation epoch 111: 100%|██████████| 38/38 [01:32<00:00,  2.45s/it]\n",
      "Training epoch 112:   0%|          | 0/13 [00:00<?, ?it/s]"
     ]
    },
    {
     "name": "stdout",
     "output_type": "stream",
     "text": [
      "Epoch 111:\n",
      "    Train loss 0.240, accuracy 0.904, F1-score 0.940, MCC: 0.482, Dice: 0.940\n",
      "    Val loss 0.238, accuracy 0.912, F1-score 0.949, MCC: 0.451, Dice: 0.949\n"
     ]
    },
    {
     "name": "stderr",
     "output_type": "stream",
     "text": [
      "Training epoch 112: 100%|██████████| 13/13 [00:39<00:00,  3.02s/it]\n",
      "Validation epoch 112: 100%|██████████| 38/38 [01:33<00:00,  2.45s/it]\n",
      "Training epoch 113:   0%|          | 0/13 [00:00<?, ?it/s]"
     ]
    },
    {
     "name": "stdout",
     "output_type": "stream",
     "text": [
      "Epoch 112:\n",
      "    Train loss 0.242, accuracy 0.900, F1-score 0.938, MCC: 0.451, Dice: 0.938\n",
      "    Val loss 0.236, accuracy 0.912, F1-score 0.950, MCC: 0.446, Dice: 0.950\n"
     ]
    },
    {
     "name": "stderr",
     "output_type": "stream",
     "text": [
      "Training epoch 113: 100%|██████████| 13/13 [00:39<00:00,  3.05s/it]\n",
      "Validation epoch 113: 100%|██████████| 38/38 [01:33<00:00,  2.47s/it]\n",
      "Training epoch 114:   0%|          | 0/13 [00:00<?, ?it/s]"
     ]
    },
    {
     "name": "stdout",
     "output_type": "stream",
     "text": [
      "Epoch 113:\n",
      "    Train loss 0.233, accuracy 0.900, F1-score 0.942, MCC: 0.472, Dice: 0.942\n",
      "    Val loss 0.232, accuracy 0.909, F1-score 0.950, MCC: 0.450, Dice: 0.950\n"
     ]
    },
    {
     "name": "stderr",
     "output_type": "stream",
     "text": [
      "Training epoch 114: 100%|██████████| 13/13 [00:43<00:00,  3.34s/it]\n",
      "Validation epoch 114: 100%|██████████| 38/38 [01:33<00:00,  2.46s/it]\n",
      "Training epoch 115:   0%|          | 0/13 [00:00<?, ?it/s]"
     ]
    },
    {
     "name": "stdout",
     "output_type": "stream",
     "text": [
      "Epoch 114:\n",
      "    Train loss 0.246, accuracy 0.895, F1-score 0.939, MCC: 0.465, Dice: 0.939\n",
      "    Val loss 0.233, accuracy 0.909, F1-score 0.949, MCC: 0.462, Dice: 0.949\n"
     ]
    },
    {
     "name": "stderr",
     "output_type": "stream",
     "text": [
      "Training epoch 115: 100%|██████████| 13/13 [00:38<00:00,  3.00s/it]\n",
      "Validation epoch 115: 100%|██████████| 38/38 [01:29<00:00,  2.35s/it]\n",
      "Training epoch 116:   0%|          | 0/13 [00:00<?, ?it/s]"
     ]
    },
    {
     "name": "stdout",
     "output_type": "stream",
     "text": [
      "Epoch 115:\n",
      "    Train loss 0.227, accuracy 0.901, F1-score 0.942, MCC: 0.476, Dice: 0.942\n",
      "    Val loss 0.244, accuracy 0.908, F1-score 0.949, MCC: 0.451, Dice: 0.949\n"
     ]
    },
    {
     "name": "stderr",
     "output_type": "stream",
     "text": [
      "Training epoch 116: 100%|██████████| 13/13 [00:40<00:00,  3.12s/it]\n",
      "Validation epoch 116: 100%|██████████| 38/38 [01:31<00:00,  2.40s/it]\n",
      "Training epoch 117:   0%|          | 0/13 [00:00<?, ?it/s]"
     ]
    },
    {
     "name": "stdout",
     "output_type": "stream",
     "text": [
      "Epoch 116:\n",
      "    Train loss 0.238, accuracy 0.895, F1-score 0.939, MCC: 0.478, Dice: 0.939\n",
      "    Val loss 0.240, accuracy 0.910, F1-score 0.949, MCC: 0.440, Dice: 0.949\n"
     ]
    },
    {
     "name": "stderr",
     "output_type": "stream",
     "text": [
      "Training epoch 117: 100%|██████████| 13/13 [00:39<00:00,  3.04s/it]\n",
      "Validation epoch 117: 100%|██████████| 38/38 [01:29<00:00,  2.36s/it]\n",
      "Training epoch 118:   0%|          | 0/13 [00:00<?, ?it/s]"
     ]
    },
    {
     "name": "stdout",
     "output_type": "stream",
     "text": [
      "Epoch 117:\n",
      "    Train loss 0.227, accuracy 0.900, F1-score 0.940, MCC: 0.480, Dice: 0.940\n",
      "    Val loss 0.242, accuracy 0.910, F1-score 0.947, MCC: 0.454, Dice: 0.947\n"
     ]
    },
    {
     "name": "stderr",
     "output_type": "stream",
     "text": [
      "Training epoch 118: 100%|██████████| 13/13 [00:39<00:00,  3.06s/it]\n",
      "Validation epoch 118: 100%|██████████| 38/38 [01:34<00:00,  2.49s/it]\n",
      "Training epoch 119:   0%|          | 0/13 [00:00<?, ?it/s]"
     ]
    },
    {
     "name": "stdout",
     "output_type": "stream",
     "text": [
      "Epoch 118:\n",
      "    Train loss 0.226, accuracy 0.908, F1-score 0.940, MCC: 0.493, Dice: 0.940\n",
      "    Val loss 0.237, accuracy 0.905, F1-score 0.947, MCC: 0.444, Dice: 0.947\n"
     ]
    },
    {
     "name": "stderr",
     "output_type": "stream",
     "text": [
      "Training epoch 119: 100%|██████████| 13/13 [00:36<00:00,  2.84s/it]\n",
      "Validation epoch 119: 100%|██████████| 38/38 [01:34<00:00,  2.49s/it]\n",
      "Training epoch 120:   0%|          | 0/13 [00:00<?, ?it/s]"
     ]
    },
    {
     "name": "stdout",
     "output_type": "stream",
     "text": [
      "Epoch 119:\n",
      "    Train loss 0.239, accuracy 0.904, F1-score 0.944, MCC: 0.463, Dice: 0.944\n",
      "    Val loss 0.239, accuracy 0.910, F1-score 0.949, MCC: 0.458, Dice: 0.949\n"
     ]
    },
    {
     "name": "stderr",
     "output_type": "stream",
     "text": [
      "Training epoch 120: 100%|██████████| 13/13 [00:39<00:00,  3.01s/it]\n",
      "Validation epoch 120: 100%|██████████| 38/38 [01:35<00:00,  2.50s/it]\n",
      "Training epoch 121:   0%|          | 0/13 [00:00<?, ?it/s]"
     ]
    },
    {
     "name": "stdout",
     "output_type": "stream",
     "text": [
      "Epoch 120:\n",
      "    Train loss 0.239, accuracy 0.902, F1-score 0.941, MCC: 0.472, Dice: 0.941\n",
      "    Val loss 0.242, accuracy 0.910, F1-score 0.948, MCC: 0.445, Dice: 0.948\n"
     ]
    },
    {
     "name": "stderr",
     "output_type": "stream",
     "text": [
      "Training epoch 121: 100%|██████████| 13/13 [00:41<00:00,  3.22s/it]\n",
      "Validation epoch 121: 100%|██████████| 38/38 [01:31<00:00,  2.40s/it]\n",
      "Training epoch 122:   0%|          | 0/13 [00:00<?, ?it/s]"
     ]
    },
    {
     "name": "stdout",
     "output_type": "stream",
     "text": [
      "Epoch 121:\n",
      "    Train loss 0.235, accuracy 0.898, F1-score 0.939, MCC: 0.464, Dice: 0.939\n",
      "    Val loss 0.239, accuracy 0.911, F1-score 0.949, MCC: 0.448, Dice: 0.949\n"
     ]
    },
    {
     "name": "stderr",
     "output_type": "stream",
     "text": [
      "Training epoch 122: 100%|██████████| 13/13 [00:42<00:00,  3.25s/it]\n",
      "Validation epoch 122: 100%|██████████| 38/38 [01:30<00:00,  2.38s/it]\n",
      "Training epoch 123:   0%|          | 0/13 [00:00<?, ?it/s]"
     ]
    },
    {
     "name": "stdout",
     "output_type": "stream",
     "text": [
      "Epoch 122:\n",
      "    Train loss 0.227, accuracy 0.895, F1-score 0.940, MCC: 0.488, Dice: 0.940\n",
      "    Val loss 0.243, accuracy 0.906, F1-score 0.947, MCC: 0.440, Dice: 0.947\n"
     ]
    },
    {
     "name": "stderr",
     "output_type": "stream",
     "text": [
      "Training epoch 123: 100%|██████████| 13/13 [00:42<00:00,  3.27s/it]\n",
      "Validation epoch 123: 100%|██████████| 38/38 [01:35<00:00,  2.51s/it]\n",
      "Training epoch 124:   0%|          | 0/13 [00:00<?, ?it/s]"
     ]
    },
    {
     "name": "stdout",
     "output_type": "stream",
     "text": [
      "Epoch 123:\n",
      "    Train loss 0.222, accuracy 0.904, F1-score 0.944, MCC: 0.488, Dice: 0.944\n",
      "    Val loss 0.238, accuracy 0.907, F1-score 0.946, MCC: 0.450, Dice: 0.946\n"
     ]
    },
    {
     "name": "stderr",
     "output_type": "stream",
     "text": [
      "Training epoch 124: 100%|██████████| 13/13 [00:38<00:00,  3.00s/it]\n",
      "Validation epoch 124: 100%|██████████| 38/38 [01:35<00:00,  2.52s/it]\n",
      "Training epoch 125:   0%|          | 0/13 [00:00<?, ?it/s]"
     ]
    },
    {
     "name": "stdout",
     "output_type": "stream",
     "text": [
      "Epoch 124:\n",
      "    Train loss 0.241, accuracy 0.911, F1-score 0.944, MCC: 0.480, Dice: 0.944\n",
      "    Val loss 0.237, accuracy 0.905, F1-score 0.947, MCC: 0.447, Dice: 0.947\n"
     ]
    },
    {
     "name": "stderr",
     "output_type": "stream",
     "text": [
      "Training epoch 125: 100%|██████████| 13/13 [00:40<00:00,  3.13s/it]\n",
      "Validation epoch 125: 100%|██████████| 38/38 [01:35<00:00,  2.51s/it]\n",
      "Training epoch 126:   0%|          | 0/13 [00:00<?, ?it/s]"
     ]
    },
    {
     "name": "stdout",
     "output_type": "stream",
     "text": [
      "Epoch 125:\n",
      "    Train loss 0.226, accuracy 0.899, F1-score 0.942, MCC: 0.486, Dice: 0.942\n",
      "    Val loss 0.236, accuracy 0.908, F1-score 0.948, MCC: 0.452, Dice: 0.948\n"
     ]
    },
    {
     "name": "stderr",
     "output_type": "stream",
     "text": [
      "Training epoch 126: 100%|██████████| 13/13 [00:40<00:00,  3.12s/it]\n",
      "Validation epoch 126: 100%|██████████| 38/38 [01:29<00:00,  2.36s/it]\n",
      "Training epoch 127:   0%|          | 0/13 [00:00<?, ?it/s]"
     ]
    },
    {
     "name": "stdout",
     "output_type": "stream",
     "text": [
      "Epoch 126:\n",
      "    Train loss 0.240, accuracy 0.905, F1-score 0.944, MCC: 0.486, Dice: 0.944\n",
      "    Val loss 0.240, accuracy 0.908, F1-score 0.949, MCC: 0.450, Dice: 0.949\n"
     ]
    },
    {
     "name": "stderr",
     "output_type": "stream",
     "text": [
      "Training epoch 127: 100%|██████████| 13/13 [00:40<00:00,  3.14s/it]\n",
      "Validation epoch 127: 100%|██████████| 38/38 [01:33<00:00,  2.47s/it]\n",
      "Training epoch 128:   0%|          | 0/13 [00:00<?, ?it/s]"
     ]
    },
    {
     "name": "stdout",
     "output_type": "stream",
     "text": [
      "Epoch 127:\n",
      "    Train loss 0.228, accuracy 0.895, F1-score 0.938, MCC: 0.485, Dice: 0.938\n",
      "    Val loss 0.239, accuracy 0.907, F1-score 0.947, MCC: 0.452, Dice: 0.947\n"
     ]
    },
    {
     "name": "stderr",
     "output_type": "stream",
     "text": [
      "Training epoch 128: 100%|██████████| 13/13 [00:37<00:00,  2.92s/it]\n",
      "Validation epoch 128: 100%|██████████| 38/38 [01:32<00:00,  2.44s/it]\n",
      "Training epoch 129:   0%|          | 0/13 [00:00<?, ?it/s]"
     ]
    },
    {
     "name": "stdout",
     "output_type": "stream",
     "text": [
      "Epoch 128:\n",
      "    Train loss 0.236, accuracy 0.897, F1-score 0.936, MCC: 0.469, Dice: 0.936\n",
      "    Val loss 0.242, accuracy 0.908, F1-score 0.948, MCC: 0.452, Dice: 0.948\n"
     ]
    },
    {
     "name": "stderr",
     "output_type": "stream",
     "text": [
      "Training epoch 129: 100%|██████████| 13/13 [00:39<00:00,  3.07s/it]\n",
      "Validation epoch 129: 100%|██████████| 38/38 [01:32<00:00,  2.43s/it]\n",
      "Training epoch 130:   0%|          | 0/13 [00:00<?, ?it/s]"
     ]
    },
    {
     "name": "stdout",
     "output_type": "stream",
     "text": [
      "Epoch 129:\n",
      "    Train loss 0.252, accuracy 0.892, F1-score 0.936, MCC: 0.480, Dice: 0.936\n",
      "    Val loss 0.232, accuracy 0.913, F1-score 0.949, MCC: 0.464, Dice: 0.949\n"
     ]
    },
    {
     "name": "stderr",
     "output_type": "stream",
     "text": [
      "Training epoch 130: 100%|██████████| 13/13 [00:41<00:00,  3.22s/it]\n",
      "Validation epoch 130: 100%|██████████| 38/38 [01:33<00:00,  2.45s/it]\n",
      "Training epoch 131:   0%|          | 0/13 [00:00<?, ?it/s]"
     ]
    },
    {
     "name": "stdout",
     "output_type": "stream",
     "text": [
      "Epoch 130:\n",
      "    Train loss 0.236, accuracy 0.901, F1-score 0.943, MCC: 0.463, Dice: 0.943\n",
      "    Val loss 0.240, accuracy 0.909, F1-score 0.949, MCC: 0.452, Dice: 0.949\n"
     ]
    },
    {
     "name": "stderr",
     "output_type": "stream",
     "text": [
      "Training epoch 131: 100%|██████████| 13/13 [00:42<00:00,  3.27s/it]\n",
      "Validation epoch 131: 100%|██████████| 38/38 [01:34<00:00,  2.49s/it]\n",
      "Training epoch 132:   0%|          | 0/13 [00:00<?, ?it/s]"
     ]
    },
    {
     "name": "stdout",
     "output_type": "stream",
     "text": [
      "Epoch 131:\n",
      "    Train loss 0.231, accuracy 0.900, F1-score 0.943, MCC: 0.493, Dice: 0.943\n",
      "    Val loss 0.238, accuracy 0.909, F1-score 0.949, MCC: 0.455, Dice: 0.949\n"
     ]
    },
    {
     "name": "stderr",
     "output_type": "stream",
     "text": [
      "Training epoch 132: 100%|██████████| 13/13 [00:39<00:00,  3.04s/it]\n",
      "Validation epoch 132: 100%|██████████| 38/38 [01:37<00:00,  2.56s/it]\n",
      "Training epoch 133:   0%|          | 0/13 [00:00<?, ?it/s]"
     ]
    },
    {
     "name": "stdout",
     "output_type": "stream",
     "text": [
      "Epoch 132:\n",
      "    Train loss 0.224, accuracy 0.900, F1-score 0.940, MCC: 0.479, Dice: 0.940\n",
      "    Val loss 0.242, accuracy 0.911, F1-score 0.949, MCC: 0.460, Dice: 0.949\n"
     ]
    },
    {
     "name": "stderr",
     "output_type": "stream",
     "text": [
      "Training epoch 133: 100%|██████████| 13/13 [00:41<00:00,  3.18s/it]\n",
      "Validation epoch 133: 100%|██████████| 38/38 [01:28<00:00,  2.33s/it]\n",
      "Training epoch 134:   0%|          | 0/13 [00:00<?, ?it/s]"
     ]
    },
    {
     "name": "stdout",
     "output_type": "stream",
     "text": [
      "Epoch 133:\n",
      "    Train loss 0.233, accuracy 0.907, F1-score 0.945, MCC: 0.489, Dice: 0.945\n",
      "    Val loss 0.245, accuracy 0.913, F1-score 0.950, MCC: 0.449, Dice: 0.950\n"
     ]
    },
    {
     "name": "stderr",
     "output_type": "stream",
     "text": [
      "Training epoch 134: 100%|██████████| 13/13 [00:41<00:00,  3.20s/it]\n",
      "Validation epoch 134: 100%|██████████| 38/38 [01:27<00:00,  2.31s/it]\n",
      "Training epoch 135:   0%|          | 0/13 [00:00<?, ?it/s]"
     ]
    },
    {
     "name": "stdout",
     "output_type": "stream",
     "text": [
      "Epoch 134:\n",
      "    Train loss 0.230, accuracy 0.905, F1-score 0.945, MCC: 0.483, Dice: 0.945\n",
      "    Val loss 0.238, accuracy 0.913, F1-score 0.949, MCC: 0.456, Dice: 0.949\n"
     ]
    },
    {
     "name": "stderr",
     "output_type": "stream",
     "text": [
      "Training epoch 135: 100%|██████████| 13/13 [00:40<00:00,  3.08s/it]\n",
      "Validation epoch 135: 100%|██████████| 38/38 [01:35<00:00,  2.52s/it]\n",
      "Training epoch 136:   0%|          | 0/13 [00:00<?, ?it/s]"
     ]
    },
    {
     "name": "stdout",
     "output_type": "stream",
     "text": [
      "Epoch 135:\n",
      "    Train loss 0.231, accuracy 0.903, F1-score 0.940, MCC: 0.470, Dice: 0.940\n",
      "    Val loss 0.241, accuracy 0.910, F1-score 0.948, MCC: 0.447, Dice: 0.948\n"
     ]
    },
    {
     "name": "stderr",
     "output_type": "stream",
     "text": [
      "Training epoch 136: 100%|██████████| 13/13 [00:40<00:00,  3.09s/it]\n",
      "Validation epoch 136: 100%|██████████| 38/38 [01:37<00:00,  2.57s/it]\n",
      "Training epoch 137:   0%|          | 0/13 [00:00<?, ?it/s]"
     ]
    },
    {
     "name": "stdout",
     "output_type": "stream",
     "text": [
      "Epoch 136:\n",
      "    Train loss 0.223, accuracy 0.913, F1-score 0.948, MCC: 0.499, Dice: 0.948\n",
      "    Val loss 0.234, accuracy 0.910, F1-score 0.948, MCC: 0.452, Dice: 0.948\n"
     ]
    },
    {
     "name": "stderr",
     "output_type": "stream",
     "text": [
      "Training epoch 137: 100%|██████████| 13/13 [00:39<00:00,  3.05s/it]\n",
      "Validation epoch 137: 100%|██████████| 38/38 [01:34<00:00,  2.48s/it]\n",
      "Training epoch 138:   0%|          | 0/13 [00:00<?, ?it/s]"
     ]
    },
    {
     "name": "stdout",
     "output_type": "stream",
     "text": [
      "Epoch 137:\n",
      "    Train loss 0.233, accuracy 0.898, F1-score 0.942, MCC: 0.467, Dice: 0.942\n",
      "    Val loss 0.233, accuracy 0.910, F1-score 0.949, MCC: 0.450, Dice: 0.949\n"
     ]
    },
    {
     "name": "stderr",
     "output_type": "stream",
     "text": [
      "Training epoch 138: 100%|██████████| 13/13 [00:41<00:00,  3.21s/it]\n",
      "Validation epoch 138: 100%|██████████| 38/38 [01:33<00:00,  2.46s/it]\n",
      "Training epoch 139:   0%|          | 0/13 [00:00<?, ?it/s]"
     ]
    },
    {
     "name": "stdout",
     "output_type": "stream",
     "text": [
      "Epoch 138:\n",
      "    Train loss 0.231, accuracy 0.899, F1-score 0.940, MCC: 0.483, Dice: 0.940\n",
      "    Val loss 0.234, accuracy 0.907, F1-score 0.948, MCC: 0.448, Dice: 0.948\n"
     ]
    },
    {
     "name": "stderr",
     "output_type": "stream",
     "text": [
      "Training epoch 139: 100%|██████████| 13/13 [00:38<00:00,  2.97s/it]\n",
      "Validation epoch 139: 100%|██████████| 38/38 [01:32<00:00,  2.45s/it]\n",
      "Training epoch 140:   0%|          | 0/13 [00:00<?, ?it/s]"
     ]
    },
    {
     "name": "stdout",
     "output_type": "stream",
     "text": [
      "Epoch 139:\n",
      "    Train loss 0.227, accuracy 0.894, F1-score 0.940, MCC: 0.481, Dice: 0.940\n",
      "    Val loss 0.242, accuracy 0.909, F1-score 0.949, MCC: 0.441, Dice: 0.949\n"
     ]
    },
    {
     "name": "stderr",
     "output_type": "stream",
     "text": [
      "Training epoch 140: 100%|██████████| 13/13 [00:38<00:00,  2.98s/it]\n",
      "Validation epoch 140: 100%|██████████| 38/38 [01:35<00:00,  2.51s/it]\n",
      "Training epoch 141:   0%|          | 0/13 [00:00<?, ?it/s]"
     ]
    },
    {
     "name": "stdout",
     "output_type": "stream",
     "text": [
      "Epoch 140:\n",
      "    Train loss 0.232, accuracy 0.909, F1-score 0.944, MCC: 0.474, Dice: 0.944\n",
      "    Val loss 0.233, accuracy 0.909, F1-score 0.948, MCC: 0.452, Dice: 0.948\n"
     ]
    },
    {
     "name": "stderr",
     "output_type": "stream",
     "text": [
      "Training epoch 141: 100%|██████████| 13/13 [00:39<00:00,  3.06s/it]\n",
      "Validation epoch 141: 100%|██████████| 38/38 [01:34<00:00,  2.47s/it]\n",
      "Training epoch 142:   0%|          | 0/13 [00:00<?, ?it/s]"
     ]
    },
    {
     "name": "stdout",
     "output_type": "stream",
     "text": [
      "Epoch 141:\n",
      "    Train loss 0.238, accuracy 0.905, F1-score 0.943, MCC: 0.476, Dice: 0.943\n",
      "    Val loss 0.242, accuracy 0.905, F1-score 0.945, MCC: 0.435, Dice: 0.945\n"
     ]
    },
    {
     "name": "stderr",
     "output_type": "stream",
     "text": [
      "Training epoch 142: 100%|██████████| 13/13 [00:42<00:00,  3.30s/it]\n",
      "Validation epoch 142: 100%|██████████| 38/38 [01:32<00:00,  2.45s/it]\n",
      "Training epoch 143:   0%|          | 0/13 [00:00<?, ?it/s]"
     ]
    },
    {
     "name": "stdout",
     "output_type": "stream",
     "text": [
      "Epoch 142:\n",
      "    Train loss 0.238, accuracy 0.908, F1-score 0.941, MCC: 0.473, Dice: 0.941\n",
      "    Val loss 0.235, accuracy 0.912, F1-score 0.951, MCC: 0.452, Dice: 0.951\n"
     ]
    },
    {
     "name": "stderr",
     "output_type": "stream",
     "text": [
      "Training epoch 143: 100%|██████████| 13/13 [00:41<00:00,  3.22s/it]\n",
      "Validation epoch 143: 100%|██████████| 38/38 [01:34<00:00,  2.48s/it]\n",
      "Training epoch 144:   0%|          | 0/13 [00:00<?, ?it/s]"
     ]
    },
    {
     "name": "stdout",
     "output_type": "stream",
     "text": [
      "Epoch 143:\n",
      "    Train loss 0.230, accuracy 0.906, F1-score 0.946, MCC: 0.483, Dice: 0.946\n",
      "    Val loss 0.238, accuracy 0.906, F1-score 0.947, MCC: 0.444, Dice: 0.947\n"
     ]
    },
    {
     "name": "stderr",
     "output_type": "stream",
     "text": [
      "Training epoch 144: 100%|██████████| 13/13 [00:40<00:00,  3.13s/it]\n",
      "Validation epoch 144: 100%|██████████| 38/38 [01:34<00:00,  2.48s/it]\n",
      "Training epoch 145:   0%|          | 0/13 [00:00<?, ?it/s]"
     ]
    },
    {
     "name": "stdout",
     "output_type": "stream",
     "text": [
      "Epoch 144:\n",
      "    Train loss 0.223, accuracy 0.897, F1-score 0.940, MCC: 0.471, Dice: 0.940\n",
      "    Val loss 0.237, accuracy 0.905, F1-score 0.947, MCC: 0.446, Dice: 0.947\n"
     ]
    },
    {
     "name": "stderr",
     "output_type": "stream",
     "text": [
      "Training epoch 145: 100%|██████████| 13/13 [00:39<00:00,  3.05s/it]\n",
      "Validation epoch 145: 100%|██████████| 38/38 [01:32<00:00,  2.43s/it]\n",
      "Training epoch 146:   0%|          | 0/13 [00:00<?, ?it/s]"
     ]
    },
    {
     "name": "stdout",
     "output_type": "stream",
     "text": [
      "Epoch 145:\n",
      "    Train loss 0.228, accuracy 0.899, F1-score 0.940, MCC: 0.487, Dice: 0.940\n",
      "    Val loss 0.237, accuracy 0.910, F1-score 0.947, MCC: 0.451, Dice: 0.947\n"
     ]
    },
    {
     "name": "stderr",
     "output_type": "stream",
     "text": [
      "Training epoch 146: 100%|██████████| 13/13 [00:42<00:00,  3.23s/it]\n",
      "Validation epoch 146: 100%|██████████| 38/38 [01:30<00:00,  2.38s/it]\n",
      "Training epoch 147:   0%|          | 0/13 [00:00<?, ?it/s]"
     ]
    },
    {
     "name": "stdout",
     "output_type": "stream",
     "text": [
      "Epoch 146:\n",
      "    Train loss 0.227, accuracy 0.896, F1-score 0.935, MCC: 0.466, Dice: 0.935\n",
      "    Val loss 0.242, accuracy 0.903, F1-score 0.943, MCC: 0.433, Dice: 0.943\n"
     ]
    },
    {
     "name": "stderr",
     "output_type": "stream",
     "text": [
      "Training epoch 147: 100%|██████████| 13/13 [00:43<00:00,  3.37s/it]\n",
      "Validation epoch 147: 100%|██████████| 38/38 [01:35<00:00,  2.50s/it]\n",
      "Training epoch 148:   0%|          | 0/13 [00:00<?, ?it/s]"
     ]
    },
    {
     "name": "stdout",
     "output_type": "stream",
     "text": [
      "Epoch 147:\n",
      "    Train loss 0.239, accuracy 0.900, F1-score 0.941, MCC: 0.485, Dice: 0.941\n",
      "    Val loss 0.233, accuracy 0.911, F1-score 0.950, MCC: 0.453, Dice: 0.950\n"
     ]
    },
    {
     "name": "stderr",
     "output_type": "stream",
     "text": [
      "Training epoch 148: 100%|██████████| 13/13 [00:42<00:00,  3.26s/it]\n",
      "Validation epoch 148: 100%|██████████| 38/38 [01:34<00:00,  2.48s/it]\n",
      "Training epoch 149:   0%|          | 0/13 [00:00<?, ?it/s]"
     ]
    },
    {
     "name": "stdout",
     "output_type": "stream",
     "text": [
      "Epoch 148:\n",
      "    Train loss 0.236, accuracy 0.907, F1-score 0.945, MCC: 0.483, Dice: 0.945\n",
      "    Val loss 0.239, accuracy 0.909, F1-score 0.949, MCC: 0.452, Dice: 0.949\n"
     ]
    },
    {
     "name": "stderr",
     "output_type": "stream",
     "text": [
      "Training epoch 149: 100%|██████████| 13/13 [00:39<00:00,  3.06s/it]\n",
      "Validation epoch 149: 100%|██████████| 38/38 [01:36<00:00,  2.54s/it]\n",
      "Training epoch 150:   0%|          | 0/13 [00:00<?, ?it/s]"
     ]
    },
    {
     "name": "stdout",
     "output_type": "stream",
     "text": [
      "Epoch 149:\n",
      "    Train loss 0.232, accuracy 0.901, F1-score 0.941, MCC: 0.473, Dice: 0.941\n",
      "    Val loss 0.234, accuracy 0.914, F1-score 0.951, MCC: 0.454, Dice: 0.951\n"
     ]
    },
    {
     "name": "stderr",
     "output_type": "stream",
     "text": [
      "Training epoch 150: 100%|██████████| 13/13 [00:38<00:00,  2.97s/it]\n",
      "Validation epoch 150: 100%|██████████| 38/38 [01:32<00:00,  2.44s/it]\n",
      "Training epoch 151:   0%|          | 0/13 [00:00<?, ?it/s]"
     ]
    },
    {
     "name": "stdout",
     "output_type": "stream",
     "text": [
      "Epoch 150:\n",
      "    Train loss 0.231, accuracy 0.900, F1-score 0.942, MCC: 0.487, Dice: 0.942\n",
      "    Val loss 0.242, accuracy 0.911, F1-score 0.948, MCC: 0.444, Dice: 0.948\n"
     ]
    },
    {
     "name": "stderr",
     "output_type": "stream",
     "text": [
      "Training epoch 151: 100%|██████████| 13/13 [00:41<00:00,  3.23s/it]\n",
      "Validation epoch 151: 100%|██████████| 38/38 [01:35<00:00,  2.51s/it]\n",
      "Training epoch 152:   0%|          | 0/13 [00:00<?, ?it/s]"
     ]
    },
    {
     "name": "stdout",
     "output_type": "stream",
     "text": [
      "Epoch 151:\n",
      "    Train loss 0.235, accuracy 0.898, F1-score 0.942, MCC: 0.476, Dice: 0.942\n",
      "    Val loss 0.235, accuracy 0.911, F1-score 0.949, MCC: 0.463, Dice: 0.949\n"
     ]
    },
    {
     "name": "stderr",
     "output_type": "stream",
     "text": [
      "Training epoch 152: 100%|██████████| 13/13 [00:41<00:00,  3.22s/it]\n",
      "Validation epoch 152: 100%|██████████| 38/38 [01:33<00:00,  2.45s/it]\n",
      "Training epoch 153:   0%|          | 0/13 [00:00<?, ?it/s]"
     ]
    },
    {
     "name": "stdout",
     "output_type": "stream",
     "text": [
      "Epoch 152:\n",
      "    Train loss 0.232, accuracy 0.903, F1-score 0.942, MCC: 0.486, Dice: 0.942\n",
      "    Val loss 0.237, accuracy 0.912, F1-score 0.949, MCC: 0.460, Dice: 0.949\n"
     ]
    },
    {
     "name": "stderr",
     "output_type": "stream",
     "text": [
      "Training epoch 153: 100%|██████████| 13/13 [00:42<00:00,  3.25s/it]\n",
      "Validation epoch 153: 100%|██████████| 38/38 [01:34<00:00,  2.49s/it]\n",
      "Training epoch 154:   0%|          | 0/13 [00:00<?, ?it/s]"
     ]
    },
    {
     "name": "stdout",
     "output_type": "stream",
     "text": [
      "Epoch 153:\n",
      "    Train loss 0.228, accuracy 0.896, F1-score 0.939, MCC: 0.472, Dice: 0.939\n",
      "    Val loss 0.239, accuracy 0.913, F1-score 0.950, MCC: 0.452, Dice: 0.950\n"
     ]
    },
    {
     "name": "stderr",
     "output_type": "stream",
     "text": [
      "Training epoch 154: 100%|██████████| 13/13 [00:39<00:00,  3.06s/it]\n",
      "Validation epoch 154: 100%|██████████| 38/38 [01:34<00:00,  2.49s/it]\n",
      "Training epoch 155:   0%|          | 0/13 [00:00<?, ?it/s]"
     ]
    },
    {
     "name": "stdout",
     "output_type": "stream",
     "text": [
      "Epoch 154:\n",
      "    Train loss 0.231, accuracy 0.892, F1-score 0.935, MCC: 0.473, Dice: 0.935\n",
      "    Val loss 0.234, accuracy 0.909, F1-score 0.948, MCC: 0.445, Dice: 0.948\n"
     ]
    },
    {
     "name": "stderr",
     "output_type": "stream",
     "text": [
      "Training epoch 155: 100%|██████████| 13/13 [00:38<00:00,  2.97s/it]\n",
      "Validation epoch 155: 100%|██████████| 38/38 [01:30<00:00,  2.39s/it]\n",
      "Training epoch 156:   0%|          | 0/13 [00:00<?, ?it/s]"
     ]
    },
    {
     "name": "stdout",
     "output_type": "stream",
     "text": [
      "Epoch 155:\n",
      "    Train loss 0.225, accuracy 0.911, F1-score 0.946, MCC: 0.504, Dice: 0.946\n",
      "    Val loss 0.234, accuracy 0.905, F1-score 0.946, MCC: 0.439, Dice: 0.946\n"
     ]
    },
    {
     "name": "stderr",
     "output_type": "stream",
     "text": [
      "Training epoch 156: 100%|██████████| 13/13 [00:38<00:00,  2.98s/it]\n",
      "Validation epoch 156: 100%|██████████| 38/38 [01:31<00:00,  2.42s/it]\n",
      "Training epoch 157:   0%|          | 0/13 [00:00<?, ?it/s]"
     ]
    },
    {
     "name": "stdout",
     "output_type": "stream",
     "text": [
      "Epoch 156:\n",
      "    Train loss 0.227, accuracy 0.900, F1-score 0.940, MCC: 0.473, Dice: 0.940\n",
      "    Val loss 0.248, accuracy 0.910, F1-score 0.948, MCC: 0.442, Dice: 0.948\n"
     ]
    },
    {
     "name": "stderr",
     "output_type": "stream",
     "text": [
      "Training epoch 157: 100%|██████████| 13/13 [00:38<00:00,  2.95s/it]\n",
      "Validation epoch 157: 100%|██████████| 38/38 [01:31<00:00,  2.41s/it]\n",
      "Training epoch 158:   0%|          | 0/13 [00:00<?, ?it/s]"
     ]
    },
    {
     "name": "stdout",
     "output_type": "stream",
     "text": [
      "Epoch 157:\n",
      "    Train loss 0.228, accuracy 0.903, F1-score 0.942, MCC: 0.497, Dice: 0.942\n",
      "    Val loss 0.233, accuracy 0.909, F1-score 0.949, MCC: 0.446, Dice: 0.949\n"
     ]
    },
    {
     "name": "stderr",
     "output_type": "stream",
     "text": [
      "Training epoch 158: 100%|██████████| 13/13 [00:40<00:00,  3.09s/it]\n",
      "Validation epoch 158: 100%|██████████| 38/38 [01:33<00:00,  2.46s/it]\n",
      "Training epoch 159:   0%|          | 0/13 [00:00<?, ?it/s]"
     ]
    },
    {
     "name": "stdout",
     "output_type": "stream",
     "text": [
      "Epoch 158:\n",
      "    Train loss 0.234, accuracy 0.898, F1-score 0.940, MCC: 0.488, Dice: 0.940\n",
      "    Val loss 0.232, accuracy 0.911, F1-score 0.951, MCC: 0.463, Dice: 0.951\n"
     ]
    },
    {
     "name": "stderr",
     "output_type": "stream",
     "text": [
      "Training epoch 159: 100%|██████████| 13/13 [00:42<00:00,  3.27s/it]\n",
      "Validation epoch 159: 100%|██████████| 38/38 [01:34<00:00,  2.50s/it]\n",
      "Training epoch 160:   0%|          | 0/13 [00:00<?, ?it/s]"
     ]
    },
    {
     "name": "stdout",
     "output_type": "stream",
     "text": [
      "Epoch 159:\n",
      "    Train loss 0.230, accuracy 0.903, F1-score 0.944, MCC: 0.479, Dice: 0.944\n",
      "    Val loss 0.239, accuracy 0.908, F1-score 0.948, MCC: 0.454, Dice: 0.948\n"
     ]
    },
    {
     "name": "stderr",
     "output_type": "stream",
     "text": [
      "Training epoch 160: 100%|██████████| 13/13 [00:39<00:00,  3.07s/it]\n",
      "Validation epoch 160: 100%|██████████| 38/38 [01:30<00:00,  2.39s/it]\n",
      "Training epoch 161:   0%|          | 0/13 [00:00<?, ?it/s]"
     ]
    },
    {
     "name": "stdout",
     "output_type": "stream",
     "text": [
      "Epoch 160:\n",
      "    Train loss 0.228, accuracy 0.899, F1-score 0.939, MCC: 0.462, Dice: 0.939\n",
      "    Val loss 0.238, accuracy 0.908, F1-score 0.947, MCC: 0.452, Dice: 0.947\n"
     ]
    },
    {
     "name": "stderr",
     "output_type": "stream",
     "text": [
      "Training epoch 161: 100%|██████████| 13/13 [00:41<00:00,  3.17s/it]\n",
      "Validation epoch 161: 100%|██████████| 38/38 [01:33<00:00,  2.46s/it]\n",
      "Training epoch 162:   0%|          | 0/13 [00:00<?, ?it/s]"
     ]
    },
    {
     "name": "stdout",
     "output_type": "stream",
     "text": [
      "Epoch 161:\n",
      "    Train loss 0.236, accuracy 0.900, F1-score 0.942, MCC: 0.475, Dice: 0.942\n",
      "    Val loss 0.230, accuracy 0.911, F1-score 0.950, MCC: 0.448, Dice: 0.950\n"
     ]
    },
    {
     "name": "stderr",
     "output_type": "stream",
     "text": [
      "Training epoch 162: 100%|██████████| 13/13 [00:40<00:00,  3.11s/it]\n",
      "Validation epoch 162: 100%|██████████| 38/38 [01:32<00:00,  2.43s/it]\n",
      "Training epoch 163:   0%|          | 0/13 [00:00<?, ?it/s]"
     ]
    },
    {
     "name": "stdout",
     "output_type": "stream",
     "text": [
      "Epoch 162:\n",
      "    Train loss 0.230, accuracy 0.908, F1-score 0.946, MCC: 0.492, Dice: 0.946\n",
      "    Val loss 0.238, accuracy 0.911, F1-score 0.948, MCC: 0.447, Dice: 0.948\n"
     ]
    },
    {
     "name": "stderr",
     "output_type": "stream",
     "text": [
      "Training epoch 163: 100%|██████████| 13/13 [00:38<00:00,  2.95s/it]\n",
      "Validation epoch 163: 100%|██████████| 38/38 [01:29<00:00,  2.36s/it]\n",
      "Training epoch 164:   0%|          | 0/13 [00:00<?, ?it/s]"
     ]
    },
    {
     "name": "stdout",
     "output_type": "stream",
     "text": [
      "Epoch 163:\n",
      "    Train loss 0.243, accuracy 0.900, F1-score 0.943, MCC: 0.469, Dice: 0.943\n",
      "    Val loss 0.231, accuracy 0.912, F1-score 0.950, MCC: 0.458, Dice: 0.950\n"
     ]
    },
    {
     "name": "stderr",
     "output_type": "stream",
     "text": [
      "Training epoch 164: 100%|██████████| 13/13 [00:38<00:00,  2.97s/it]\n",
      "Validation epoch 164: 100%|██████████| 38/38 [01:29<00:00,  2.36s/it]\n",
      "Training epoch 165:   0%|          | 0/13 [00:00<?, ?it/s]"
     ]
    },
    {
     "name": "stdout",
     "output_type": "stream",
     "text": [
      "Epoch 164:\n",
      "    Train loss 0.235, accuracy 0.904, F1-score 0.943, MCC: 0.479, Dice: 0.943\n",
      "    Val loss 0.242, accuracy 0.910, F1-score 0.948, MCC: 0.456, Dice: 0.948\n"
     ]
    },
    {
     "name": "stderr",
     "output_type": "stream",
     "text": [
      "Training epoch 165: 100%|██████████| 13/13 [00:41<00:00,  3.17s/it]\n",
      "Validation epoch 165: 100%|██████████| 38/38 [01:31<00:00,  2.42s/it]\n",
      "Training epoch 166:   0%|          | 0/13 [00:00<?, ?it/s]"
     ]
    },
    {
     "name": "stdout",
     "output_type": "stream",
     "text": [
      "Epoch 165:\n",
      "    Train loss 0.232, accuracy 0.905, F1-score 0.942, MCC: 0.492, Dice: 0.942\n",
      "    Val loss 0.232, accuracy 0.911, F1-score 0.951, MCC: 0.457, Dice: 0.951\n"
     ]
    },
    {
     "name": "stderr",
     "output_type": "stream",
     "text": [
      "Training epoch 166: 100%|██████████| 13/13 [00:39<00:00,  3.03s/it]\n",
      "Validation epoch 166: 100%|██████████| 38/38 [01:31<00:00,  2.40s/it]\n",
      "Training epoch 167:   0%|          | 0/13 [00:00<?, ?it/s]"
     ]
    },
    {
     "name": "stdout",
     "output_type": "stream",
     "text": [
      "Epoch 166:\n",
      "    Train loss 0.244, accuracy 0.909, F1-score 0.944, MCC: 0.482, Dice: 0.944\n",
      "    Val loss 0.239, accuracy 0.905, F1-score 0.946, MCC: 0.454, Dice: 0.946\n"
     ]
    },
    {
     "name": "stderr",
     "output_type": "stream",
     "text": [
      "Training epoch 167: 100%|██████████| 13/13 [00:39<00:00,  3.01s/it]\n",
      "Validation epoch 167: 100%|██████████| 38/38 [01:32<00:00,  2.43s/it]\n",
      "Training epoch 168:   0%|          | 0/13 [00:00<?, ?it/s]"
     ]
    },
    {
     "name": "stdout",
     "output_type": "stream",
     "text": [
      "Epoch 167:\n",
      "    Train loss 0.222, accuracy 0.896, F1-score 0.938, MCC: 0.482, Dice: 0.938\n",
      "    Val loss 0.245, accuracy 0.910, F1-score 0.949, MCC: 0.462, Dice: 0.949\n"
     ]
    },
    {
     "name": "stderr",
     "output_type": "stream",
     "text": [
      "Training epoch 168: 100%|██████████| 13/13 [00:39<00:00,  3.08s/it]\n",
      "Validation epoch 168: 100%|██████████| 38/38 [01:30<00:00,  2.38s/it]\n",
      "Training epoch 169:   0%|          | 0/13 [00:00<?, ?it/s]"
     ]
    },
    {
     "name": "stdout",
     "output_type": "stream",
     "text": [
      "Epoch 168:\n",
      "    Train loss 0.226, accuracy 0.902, F1-score 0.941, MCC: 0.489, Dice: 0.941\n",
      "    Val loss 0.237, accuracy 0.905, F1-score 0.945, MCC: 0.453, Dice: 0.945\n"
     ]
    },
    {
     "name": "stderr",
     "output_type": "stream",
     "text": [
      "Training epoch 169: 100%|██████████| 13/13 [00:40<00:00,  3.12s/it]\n",
      "Validation epoch 169: 100%|██████████| 38/38 [01:28<00:00,  2.33s/it]\n"
     ]
    },
    {
     "name": "stdout",
     "output_type": "stream",
     "text": [
      "Epoch 169:\n",
      "    Train loss 0.244, accuracy 0.907, F1-score 0.940, MCC: 0.481, Dice: 0.940\n",
      "    Val loss 0.238, accuracy 0.911, F1-score 0.950, MCC: 0.466, Dice: 0.950\n"
     ]
    },
    {
     "name": "stderr",
     "output_type": "stream",
     "text": [
      "Training epoch 170: 100%|██████████| 13/13 [00:38<00:00,  2.95s/it]\n",
      "Validation epoch 170: 100%|██████████| 38/38 [01:28<00:00,  2.32s/it]\n",
      "Training epoch 171:   0%|          | 0/13 [00:00<?, ?it/s]"
     ]
    },
    {
     "name": "stdout",
     "output_type": "stream",
     "text": [
      "Epoch 170:\n",
      "    Train loss 0.233, accuracy 0.909, F1-score 0.944, MCC: 0.475, Dice: 0.944\n",
      "    Val loss 0.234, accuracy 0.910, F1-score 0.948, MCC: 0.450, Dice: 0.948\n"
     ]
    },
    {
     "name": "stderr",
     "output_type": "stream",
     "text": [
      "Training epoch 171: 100%|██████████| 13/13 [00:37<00:00,  2.90s/it]\n",
      "Validation epoch 171: 100%|██████████| 38/38 [01:31<00:00,  2.40s/it]\n",
      "Training epoch 172:   0%|          | 0/13 [00:00<?, ?it/s]"
     ]
    },
    {
     "name": "stdout",
     "output_type": "stream",
     "text": [
      "Epoch 171:\n",
      "    Train loss 0.226, accuracy 0.906, F1-score 0.946, MCC: 0.494, Dice: 0.946\n",
      "    Val loss 0.235, accuracy 0.907, F1-score 0.949, MCC: 0.449, Dice: 0.949\n"
     ]
    },
    {
     "name": "stderr",
     "output_type": "stream",
     "text": [
      "Training epoch 172: 100%|██████████| 13/13 [00:39<00:00,  3.01s/it]\n",
      "Validation epoch 172: 100%|██████████| 38/38 [01:28<00:00,  2.32s/it]\n",
      "Training epoch 173:   0%|          | 0/13 [00:00<?, ?it/s]"
     ]
    },
    {
     "name": "stdout",
     "output_type": "stream",
     "text": [
      "Epoch 172:\n",
      "    Train loss 0.222, accuracy 0.902, F1-score 0.941, MCC: 0.485, Dice: 0.941\n",
      "    Val loss 0.236, accuracy 0.910, F1-score 0.949, MCC: 0.451, Dice: 0.949\n"
     ]
    },
    {
     "name": "stderr",
     "output_type": "stream",
     "text": [
      "Training epoch 173: 100%|██████████| 13/13 [00:39<00:00,  3.05s/it]\n",
      "Validation epoch 173: 100%|██████████| 38/38 [01:29<00:00,  2.36s/it]\n",
      "Training epoch 174:   0%|          | 0/13 [00:00<?, ?it/s]"
     ]
    },
    {
     "name": "stdout",
     "output_type": "stream",
     "text": [
      "Epoch 173:\n",
      "    Train loss 0.238, accuracy 0.896, F1-score 0.939, MCC: 0.473, Dice: 0.939\n",
      "    Val loss 0.238, accuracy 0.906, F1-score 0.947, MCC: 0.451, Dice: 0.947\n"
     ]
    },
    {
     "name": "stderr",
     "output_type": "stream",
     "text": [
      "Training epoch 174: 100%|██████████| 13/13 [00:40<00:00,  3.11s/it]\n",
      "Validation epoch 174: 100%|██████████| 38/38 [01:34<00:00,  2.48s/it]\n",
      "Training epoch 175:   0%|          | 0/13 [00:00<?, ?it/s]"
     ]
    },
    {
     "name": "stdout",
     "output_type": "stream",
     "text": [
      "Epoch 174:\n",
      "    Train loss 0.218, accuracy 0.902, F1-score 0.938, MCC: 0.471, Dice: 0.938\n",
      "    Val loss 0.240, accuracy 0.911, F1-score 0.949, MCC: 0.462, Dice: 0.949\n"
     ]
    },
    {
     "name": "stderr",
     "output_type": "stream",
     "text": [
      "Training epoch 175: 100%|██████████| 13/13 [00:40<00:00,  3.14s/it]\n",
      "Validation epoch 175: 100%|██████████| 38/38 [01:34<00:00,  2.48s/it]\n",
      "Training epoch 176:   0%|          | 0/13 [00:00<?, ?it/s]"
     ]
    },
    {
     "name": "stdout",
     "output_type": "stream",
     "text": [
      "Epoch 175:\n",
      "    Train loss 0.220, accuracy 0.904, F1-score 0.941, MCC: 0.495, Dice: 0.941\n",
      "    Val loss 0.234, accuracy 0.909, F1-score 0.948, MCC: 0.452, Dice: 0.948\n"
     ]
    },
    {
     "name": "stderr",
     "output_type": "stream",
     "text": [
      "Training epoch 176: 100%|██████████| 13/13 [00:38<00:00,  3.00s/it]\n",
      "Validation epoch 176: 100%|██████████| 38/38 [01:30<00:00,  2.38s/it]\n",
      "Training epoch 177:   0%|          | 0/13 [00:00<?, ?it/s]"
     ]
    },
    {
     "name": "stdout",
     "output_type": "stream",
     "text": [
      "Epoch 176:\n",
      "    Train loss 0.230, accuracy 0.906, F1-score 0.941, MCC: 0.466, Dice: 0.941\n",
      "    Val loss 0.240, accuracy 0.905, F1-score 0.947, MCC: 0.433, Dice: 0.947\n"
     ]
    },
    {
     "name": "stderr",
     "output_type": "stream",
     "text": [
      "Training epoch 177: 100%|██████████| 13/13 [00:39<00:00,  3.03s/it]\n",
      "Validation epoch 177: 100%|██████████| 38/38 [01:28<00:00,  2.32s/it]\n",
      "Training epoch 178:   0%|          | 0/13 [00:00<?, ?it/s]"
     ]
    },
    {
     "name": "stdout",
     "output_type": "stream",
     "text": [
      "Epoch 177:\n",
      "    Train loss 0.239, accuracy 0.893, F1-score 0.936, MCC: 0.464, Dice: 0.936\n",
      "    Val loss 0.235, accuracy 0.908, F1-score 0.948, MCC: 0.455, Dice: 0.948\n"
     ]
    },
    {
     "name": "stderr",
     "output_type": "stream",
     "text": [
      "Training epoch 178: 100%|██████████| 13/13 [00:38<00:00,  2.97s/it]\n",
      "Validation epoch 178: 100%|██████████| 38/38 [01:31<00:00,  2.41s/it]\n",
      "Training epoch 179:   0%|          | 0/13 [00:00<?, ?it/s]"
     ]
    },
    {
     "name": "stdout",
     "output_type": "stream",
     "text": [
      "Epoch 178:\n",
      "    Train loss 0.226, accuracy 0.906, F1-score 0.943, MCC: 0.503, Dice: 0.943\n",
      "    Val loss 0.235, accuracy 0.910, F1-score 0.948, MCC: 0.452, Dice: 0.948\n"
     ]
    },
    {
     "name": "stderr",
     "output_type": "stream",
     "text": [
      "Training epoch 179: 100%|██████████| 13/13 [00:39<00:00,  3.04s/it]\n",
      "Validation epoch 179: 100%|██████████| 38/38 [01:35<00:00,  2.52s/it]\n",
      "Training epoch 180:   0%|          | 0/13 [00:00<?, ?it/s]"
     ]
    },
    {
     "name": "stdout",
     "output_type": "stream",
     "text": [
      "Epoch 179:\n",
      "    Train loss 0.221, accuracy 0.904, F1-score 0.944, MCC: 0.502, Dice: 0.944\n",
      "    Val loss 0.234, accuracy 0.911, F1-score 0.950, MCC: 0.462, Dice: 0.950\n"
     ]
    },
    {
     "name": "stderr",
     "output_type": "stream",
     "text": [
      "Training epoch 180: 100%|██████████| 13/13 [00:39<00:00,  3.00s/it]\n",
      "Validation epoch 180: 100%|██████████| 38/38 [01:28<00:00,  2.32s/it]\n",
      "Training epoch 181:   0%|          | 0/13 [00:00<?, ?it/s]"
     ]
    },
    {
     "name": "stdout",
     "output_type": "stream",
     "text": [
      "Epoch 180:\n",
      "    Train loss 0.232, accuracy 0.902, F1-score 0.940, MCC: 0.480, Dice: 0.940\n",
      "    Val loss 0.237, accuracy 0.909, F1-score 0.947, MCC: 0.450, Dice: 0.947\n"
     ]
    },
    {
     "name": "stderr",
     "output_type": "stream",
     "text": [
      "Training epoch 181: 100%|██████████| 13/13 [00:38<00:00,  2.97s/it]\n",
      "Validation epoch 181: 100%|██████████| 38/38 [01:28<00:00,  2.33s/it]\n",
      "Training epoch 182:   0%|          | 0/13 [00:00<?, ?it/s]"
     ]
    },
    {
     "name": "stdout",
     "output_type": "stream",
     "text": [
      "Epoch 181:\n",
      "    Train loss 0.227, accuracy 0.902, F1-score 0.944, MCC: 0.481, Dice: 0.944\n",
      "    Val loss 0.234, accuracy 0.907, F1-score 0.948, MCC: 0.454, Dice: 0.948\n"
     ]
    },
    {
     "name": "stderr",
     "output_type": "stream",
     "text": [
      "Training epoch 182: 100%|██████████| 13/13 [00:38<00:00,  2.98s/it]\n",
      "Validation epoch 182: 100%|██████████| 38/38 [01:30<00:00,  2.39s/it]\n",
      "Training epoch 183:   0%|          | 0/13 [00:00<?, ?it/s]"
     ]
    },
    {
     "name": "stdout",
     "output_type": "stream",
     "text": [
      "Epoch 182:\n",
      "    Train loss 0.233, accuracy 0.902, F1-score 0.940, MCC: 0.475, Dice: 0.940\n",
      "    Val loss 0.233, accuracy 0.907, F1-score 0.947, MCC: 0.453, Dice: 0.947\n"
     ]
    },
    {
     "name": "stderr",
     "output_type": "stream",
     "text": [
      "Training epoch 183: 100%|██████████| 13/13 [00:38<00:00,  2.99s/it]\n",
      "Validation epoch 183: 100%|██████████| 38/38 [01:33<00:00,  2.46s/it]\n",
      "Training epoch 184:   0%|          | 0/13 [00:00<?, ?it/s]"
     ]
    },
    {
     "name": "stdout",
     "output_type": "stream",
     "text": [
      "Epoch 183:\n",
      "    Train loss 0.238, accuracy 0.887, F1-score 0.932, MCC: 0.458, Dice: 0.932\n",
      "    Val loss 0.235, accuracy 0.910, F1-score 0.949, MCC: 0.464, Dice: 0.949\n"
     ]
    },
    {
     "name": "stderr",
     "output_type": "stream",
     "text": [
      "Training epoch 184: 100%|██████████| 13/13 [00:37<00:00,  2.91s/it]\n",
      "Validation epoch 184: 100%|██████████| 38/38 [01:30<00:00,  2.39s/it]\n",
      "Training epoch 185:   0%|          | 0/13 [00:00<?, ?it/s]"
     ]
    },
    {
     "name": "stdout",
     "output_type": "stream",
     "text": [
      "Epoch 184:\n",
      "    Train loss 0.230, accuracy 0.903, F1-score 0.942, MCC: 0.476, Dice: 0.942\n",
      "    Val loss 0.235, accuracy 0.911, F1-score 0.950, MCC: 0.456, Dice: 0.950\n"
     ]
    },
    {
     "name": "stderr",
     "output_type": "stream",
     "text": [
      "Training epoch 185: 100%|██████████| 13/13 [00:41<00:00,  3.22s/it]\n",
      "Validation epoch 185: 100%|██████████| 38/38 [01:31<00:00,  2.41s/it]\n",
      "Training epoch 186:   0%|          | 0/13 [00:00<?, ?it/s]"
     ]
    },
    {
     "name": "stdout",
     "output_type": "stream",
     "text": [
      "Epoch 185:\n",
      "    Train loss 0.235, accuracy 0.903, F1-score 0.938, MCC: 0.464, Dice: 0.938\n",
      "    Val loss 0.233, accuracy 0.908, F1-score 0.948, MCC: 0.452, Dice: 0.948\n"
     ]
    },
    {
     "name": "stderr",
     "output_type": "stream",
     "text": [
      "Training epoch 186: 100%|██████████| 13/13 [00:41<00:00,  3.23s/it]\n",
      "Validation epoch 186: 100%|██████████| 38/38 [01:28<00:00,  2.34s/it]\n",
      "Training epoch 187:   0%|          | 0/13 [00:00<?, ?it/s]"
     ]
    },
    {
     "name": "stdout",
     "output_type": "stream",
     "text": [
      "Epoch 186:\n",
      "    Train loss 0.237, accuracy 0.899, F1-score 0.942, MCC: 0.460, Dice: 0.942\n",
      "    Val loss 0.243, accuracy 0.905, F1-score 0.944, MCC: 0.448, Dice: 0.944\n"
     ]
    },
    {
     "name": "stderr",
     "output_type": "stream",
     "text": [
      "Training epoch 187: 100%|██████████| 13/13 [00:40<00:00,  3.14s/it]\n",
      "Validation epoch 187: 100%|██████████| 38/38 [01:30<00:00,  2.38s/it]\n"
     ]
    },
    {
     "name": "stdout",
     "output_type": "stream",
     "text": [
      "Epoch 187:\n",
      "    Train loss 0.222, accuracy 0.908, F1-score 0.942, MCC: 0.494, Dice: 0.942\n",
      "    Val loss 0.231, accuracy 0.910, F1-score 0.950, MCC: 0.467, Dice: 0.950\n"
     ]
    },
    {
     "name": "stderr",
     "output_type": "stream",
     "text": [
      "Training epoch 188: 100%|██████████| 13/13 [00:39<00:00,  3.05s/it]\n",
      "Validation epoch 188: 100%|██████████| 38/38 [01:36<00:00,  2.53s/it]\n",
      "Training epoch 189:   0%|          | 0/13 [00:00<?, ?it/s]"
     ]
    },
    {
     "name": "stdout",
     "output_type": "stream",
     "text": [
      "Epoch 188:\n",
      "    Train loss 0.234, accuracy 0.899, F1-score 0.942, MCC: 0.482, Dice: 0.942\n",
      "    Val loss 0.238, accuracy 0.908, F1-score 0.948, MCC: 0.438, Dice: 0.948\n"
     ]
    },
    {
     "name": "stderr",
     "output_type": "stream",
     "text": [
      "Training epoch 189: 100%|██████████| 13/13 [00:39<00:00,  3.05s/it]\n",
      "Validation epoch 189: 100%|██████████| 38/38 [01:32<00:00,  2.42s/it]\n",
      "Training epoch 190:   0%|          | 0/13 [00:00<?, ?it/s]"
     ]
    },
    {
     "name": "stdout",
     "output_type": "stream",
     "text": [
      "Epoch 189:\n",
      "    Train loss 0.234, accuracy 0.897, F1-score 0.938, MCC: 0.493, Dice: 0.938\n",
      "    Val loss 0.242, accuracy 0.905, F1-score 0.947, MCC: 0.457, Dice: 0.947\n"
     ]
    },
    {
     "name": "stderr",
     "output_type": "stream",
     "text": [
      "Training epoch 190: 100%|██████████| 13/13 [00:40<00:00,  3.09s/it]\n",
      "Validation epoch 190: 100%|██████████| 38/38 [01:24<00:00,  2.22s/it]\n",
      "Training epoch 191:   0%|          | 0/13 [00:00<?, ?it/s]"
     ]
    },
    {
     "name": "stdout",
     "output_type": "stream",
     "text": [
      "Epoch 190:\n",
      "    Train loss 0.221, accuracy 0.899, F1-score 0.940, MCC: 0.486, Dice: 0.940\n",
      "    Val loss 0.235, accuracy 0.909, F1-score 0.949, MCC: 0.454, Dice: 0.949\n"
     ]
    },
    {
     "name": "stderr",
     "output_type": "stream",
     "text": [
      "Training epoch 191: 100%|██████████| 13/13 [00:40<00:00,  3.10s/it]\n",
      "Validation epoch 191: 100%|██████████| 38/38 [01:31<00:00,  2.40s/it]\n",
      "Training epoch 192:   0%|          | 0/13 [00:00<?, ?it/s]"
     ]
    },
    {
     "name": "stdout",
     "output_type": "stream",
     "text": [
      "Epoch 191:\n",
      "    Train loss 0.218, accuracy 0.903, F1-score 0.942, MCC: 0.491, Dice: 0.942\n",
      "    Val loss 0.236, accuracy 0.910, F1-score 0.949, MCC: 0.452, Dice: 0.949\n"
     ]
    },
    {
     "name": "stderr",
     "output_type": "stream",
     "text": [
      "Training epoch 192: 100%|██████████| 13/13 [00:38<00:00,  2.97s/it]\n",
      "Validation epoch 192: 100%|██████████| 38/38 [01:33<00:00,  2.46s/it]\n",
      "Training epoch 193:   0%|          | 0/13 [00:00<?, ?it/s]"
     ]
    },
    {
     "name": "stdout",
     "output_type": "stream",
     "text": [
      "Epoch 192:\n",
      "    Train loss 0.226, accuracy 0.906, F1-score 0.944, MCC: 0.508, Dice: 0.944\n",
      "    Val loss 0.234, accuracy 0.912, F1-score 0.949, MCC: 0.446, Dice: 0.949\n"
     ]
    },
    {
     "name": "stderr",
     "output_type": "stream",
     "text": [
      "Training epoch 193: 100%|██████████| 13/13 [00:40<00:00,  3.09s/it]\n",
      "Validation epoch 193: 100%|██████████| 38/38 [01:27<00:00,  2.31s/it]\n",
      "Training epoch 194:   0%|          | 0/13 [00:00<?, ?it/s]"
     ]
    },
    {
     "name": "stdout",
     "output_type": "stream",
     "text": [
      "Epoch 193:\n",
      "    Train loss 0.227, accuracy 0.898, F1-score 0.943, MCC: 0.486, Dice: 0.943\n",
      "    Val loss 0.235, accuracy 0.912, F1-score 0.948, MCC: 0.464, Dice: 0.948\n"
     ]
    },
    {
     "name": "stderr",
     "output_type": "stream",
     "text": [
      "Training epoch 194: 100%|██████████| 13/13 [00:40<00:00,  3.08s/it]\n",
      "Validation epoch 194: 100%|██████████| 38/38 [01:30<00:00,  2.38s/it]\n",
      "Training epoch 195:   0%|          | 0/13 [00:00<?, ?it/s]"
     ]
    },
    {
     "name": "stdout",
     "output_type": "stream",
     "text": [
      "Epoch 194:\n",
      "    Train loss 0.226, accuracy 0.906, F1-score 0.944, MCC: 0.499, Dice: 0.944\n",
      "    Val loss 0.230, accuracy 0.907, F1-score 0.948, MCC: 0.461, Dice: 0.948\n"
     ]
    },
    {
     "name": "stderr",
     "output_type": "stream",
     "text": [
      "Training epoch 195: 100%|██████████| 13/13 [00:39<00:00,  3.05s/it]\n",
      "Validation epoch 195: 100%|██████████| 38/38 [01:33<00:00,  2.47s/it]\n",
      "Training epoch 196:   0%|          | 0/13 [00:00<?, ?it/s]"
     ]
    },
    {
     "name": "stdout",
     "output_type": "stream",
     "text": [
      "Epoch 195:\n",
      "    Train loss 0.219, accuracy 0.903, F1-score 0.942, MCC: 0.495, Dice: 0.942\n",
      "    Val loss 0.228, accuracy 0.912, F1-score 0.951, MCC: 0.462, Dice: 0.951\n"
     ]
    },
    {
     "name": "stderr",
     "output_type": "stream",
     "text": [
      "Training epoch 196: 100%|██████████| 13/13 [00:39<00:00,  3.01s/it]\n",
      "Validation epoch 196: 100%|██████████| 38/38 [01:33<00:00,  2.46s/it]\n",
      "Training epoch 197:   0%|          | 0/13 [00:00<?, ?it/s]"
     ]
    },
    {
     "name": "stdout",
     "output_type": "stream",
     "text": [
      "Epoch 196:\n",
      "    Train loss 0.221, accuracy 0.900, F1-score 0.941, MCC: 0.486, Dice: 0.941\n",
      "    Val loss 0.235, accuracy 0.907, F1-score 0.948, MCC: 0.451, Dice: 0.948\n"
     ]
    },
    {
     "name": "stderr",
     "output_type": "stream",
     "text": [
      "Training epoch 197: 100%|██████████| 13/13 [00:39<00:00,  3.05s/it]\n",
      "Validation epoch 197: 100%|██████████| 38/38 [01:29<00:00,  2.35s/it]\n",
      "Training epoch 198:   0%|          | 0/13 [00:00<?, ?it/s]"
     ]
    },
    {
     "name": "stdout",
     "output_type": "stream",
     "text": [
      "Epoch 197:\n",
      "    Train loss 0.220, accuracy 0.908, F1-score 0.948, MCC: 0.501, Dice: 0.948\n",
      "    Val loss 0.233, accuracy 0.911, F1-score 0.949, MCC: 0.460, Dice: 0.949\n"
     ]
    },
    {
     "name": "stderr",
     "output_type": "stream",
     "text": [
      "Training epoch 198: 100%|██████████| 13/13 [00:39<00:00,  3.03s/it]\n",
      "Validation epoch 198: 100%|██████████| 38/38 [01:27<00:00,  2.30s/it]\n",
      "Training epoch 199:   0%|          | 0/13 [00:00<?, ?it/s]"
     ]
    },
    {
     "name": "stdout",
     "output_type": "stream",
     "text": [
      "Epoch 198:\n",
      "    Train loss 0.227, accuracy 0.908, F1-score 0.946, MCC: 0.498, Dice: 0.946\n",
      "    Val loss 0.227, accuracy 0.910, F1-score 0.949, MCC: 0.454, Dice: 0.949\n"
     ]
    },
    {
     "name": "stderr",
     "output_type": "stream",
     "text": [
      "Training epoch 199: 100%|██████████| 13/13 [00:41<00:00,  3.19s/it]\n",
      "Validation epoch 199: 100%|██████████| 38/38 [01:29<00:00,  2.36s/it]\n",
      "Training epoch 200:   0%|          | 0/13 [00:00<?, ?it/s]"
     ]
    },
    {
     "name": "stdout",
     "output_type": "stream",
     "text": [
      "Epoch 199:\n",
      "    Train loss 0.228, accuracy 0.893, F1-score 0.936, MCC: 0.476, Dice: 0.936\n",
      "    Val loss 0.227, accuracy 0.909, F1-score 0.947, MCC: 0.458, Dice: 0.947\n"
     ]
    },
    {
     "name": "stderr",
     "output_type": "stream",
     "text": [
      "Training epoch 200: 100%|██████████| 13/13 [00:38<00:00,  2.97s/it]\n",
      "Validation epoch 200: 100%|██████████| 38/38 [01:29<00:00,  2.37s/it]\n",
      "Training epoch 201:   0%|          | 0/13 [00:00<?, ?it/s]"
     ]
    },
    {
     "name": "stdout",
     "output_type": "stream",
     "text": [
      "Epoch 200:\n",
      "    Train loss 0.245, accuracy 0.900, F1-score 0.939, MCC: 0.476, Dice: 0.939\n",
      "    Val loss 0.235, accuracy 0.908, F1-score 0.947, MCC: 0.448, Dice: 0.947\n"
     ]
    },
    {
     "name": "stderr",
     "output_type": "stream",
     "text": [
      "Training epoch 201: 100%|██████████| 13/13 [00:38<00:00,  2.96s/it]\n",
      "Validation epoch 201: 100%|██████████| 38/38 [01:31<00:00,  2.41s/it]\n",
      "Training epoch 202:   0%|          | 0/13 [00:00<?, ?it/s]"
     ]
    },
    {
     "name": "stdout",
     "output_type": "stream",
     "text": [
      "Epoch 201:\n",
      "    Train loss 0.229, accuracy 0.905, F1-score 0.942, MCC: 0.475, Dice: 0.942\n",
      "    Val loss 0.236, accuracy 0.910, F1-score 0.950, MCC: 0.462, Dice: 0.950\n"
     ]
    },
    {
     "name": "stderr",
     "output_type": "stream",
     "text": [
      "Training epoch 202: 100%|██████████| 13/13 [00:38<00:00,  2.96s/it]\n",
      "Validation epoch 202: 100%|██████████| 38/38 [01:29<00:00,  2.35s/it]\n",
      "Training epoch 203:   0%|          | 0/13 [00:00<?, ?it/s]"
     ]
    },
    {
     "name": "stdout",
     "output_type": "stream",
     "text": [
      "Epoch 202:\n",
      "    Train loss 0.224, accuracy 0.900, F1-score 0.943, MCC: 0.478, Dice: 0.943\n",
      "    Val loss 0.237, accuracy 0.907, F1-score 0.948, MCC: 0.456, Dice: 0.948\n"
     ]
    },
    {
     "name": "stderr",
     "output_type": "stream",
     "text": [
      "Training epoch 203: 100%|██████████| 13/13 [00:41<00:00,  3.17s/it]\n",
      "Validation epoch 203: 100%|██████████| 38/38 [01:33<00:00,  2.46s/it]\n",
      "Training epoch 204:   0%|          | 0/13 [00:00<?, ?it/s]"
     ]
    },
    {
     "name": "stdout",
     "output_type": "stream",
     "text": [
      "Epoch 203:\n",
      "    Train loss 0.226, accuracy 0.907, F1-score 0.946, MCC: 0.502, Dice: 0.946\n",
      "    Val loss 0.237, accuracy 0.909, F1-score 0.948, MCC: 0.449, Dice: 0.948\n"
     ]
    },
    {
     "name": "stderr",
     "output_type": "stream",
     "text": [
      "Training epoch 204: 100%|██████████| 13/13 [00:41<00:00,  3.16s/it]\n",
      "Validation epoch 204: 100%|██████████| 38/38 [01:40<00:00,  2.65s/it]\n",
      "Training epoch 205:   0%|          | 0/13 [00:00<?, ?it/s]"
     ]
    },
    {
     "name": "stdout",
     "output_type": "stream",
     "text": [
      "Epoch 204:\n",
      "    Train loss 0.223, accuracy 0.906, F1-score 0.943, MCC: 0.498, Dice: 0.943\n",
      "    Val loss 0.241, accuracy 0.908, F1-score 0.947, MCC: 0.453, Dice: 0.947\n"
     ]
    },
    {
     "name": "stderr",
     "output_type": "stream",
     "text": [
      "Training epoch 205: 100%|██████████| 13/13 [00:41<00:00,  3.19s/it]\n",
      "Validation epoch 205: 100%|██████████| 38/38 [01:31<00:00,  2.41s/it]\n",
      "Training epoch 206:   0%|          | 0/13 [00:00<?, ?it/s]"
     ]
    },
    {
     "name": "stdout",
     "output_type": "stream",
     "text": [
      "Epoch 205:\n",
      "    Train loss 0.231, accuracy 0.899, F1-score 0.941, MCC: 0.490, Dice: 0.941\n",
      "    Val loss 0.236, accuracy 0.904, F1-score 0.947, MCC: 0.454, Dice: 0.947\n"
     ]
    },
    {
     "name": "stderr",
     "output_type": "stream",
     "text": [
      "Training epoch 206: 100%|██████████| 13/13 [00:40<00:00,  3.12s/it]\n",
      "Validation epoch 206: 100%|██████████| 38/38 [01:25<00:00,  2.26s/it]\n",
      "Training epoch 207:   0%|          | 0/13 [00:00<?, ?it/s]"
     ]
    },
    {
     "name": "stdout",
     "output_type": "stream",
     "text": [
      "Epoch 206:\n",
      "    Train loss 0.227, accuracy 0.901, F1-score 0.944, MCC: 0.484, Dice: 0.944\n",
      "    Val loss 0.233, accuracy 0.908, F1-score 0.947, MCC: 0.449, Dice: 0.947\n"
     ]
    },
    {
     "name": "stderr",
     "output_type": "stream",
     "text": [
      "Training epoch 207: 100%|██████████| 13/13 [00:40<00:00,  3.14s/it]\n",
      "Validation epoch 207: 100%|██████████| 38/38 [01:26<00:00,  2.27s/it]\n",
      "Training epoch 208:   0%|          | 0/13 [00:00<?, ?it/s]"
     ]
    },
    {
     "name": "stdout",
     "output_type": "stream",
     "text": [
      "Epoch 207:\n",
      "    Train loss 0.234, accuracy 0.900, F1-score 0.942, MCC: 0.499, Dice: 0.942\n",
      "    Val loss 0.234, accuracy 0.907, F1-score 0.948, MCC: 0.455, Dice: 0.948\n"
     ]
    },
    {
     "name": "stderr",
     "output_type": "stream",
     "text": [
      "Training epoch 208: 100%|██████████| 13/13 [00:39<00:00,  3.07s/it]\n",
      "Validation epoch 208: 100%|██████████| 38/38 [01:28<00:00,  2.34s/it]\n"
     ]
    },
    {
     "name": "stdout",
     "output_type": "stream",
     "text": [
      "Epoch 208:\n",
      "    Train loss 0.224, accuracy 0.901, F1-score 0.939, MCC: 0.487, Dice: 0.939\n",
      "    Val loss 0.227, accuracy 0.909, F1-score 0.948, MCC: 0.468, Dice: 0.948\n"
     ]
    },
    {
     "name": "stderr",
     "output_type": "stream",
     "text": [
      "Training epoch 209: 100%|██████████| 13/13 [00:37<00:00,  2.91s/it]\n",
      "Validation epoch 209: 100%|██████████| 38/38 [01:31<00:00,  2.40s/it]\n",
      "Training epoch 210:   0%|          | 0/13 [00:00<?, ?it/s]"
     ]
    },
    {
     "name": "stdout",
     "output_type": "stream",
     "text": [
      "Epoch 209:\n",
      "    Train loss 0.230, accuracy 0.900, F1-score 0.939, MCC: 0.494, Dice: 0.939\n",
      "    Val loss 0.232, accuracy 0.910, F1-score 0.948, MCC: 0.448, Dice: 0.948\n"
     ]
    },
    {
     "name": "stderr",
     "output_type": "stream",
     "text": [
      "Training epoch 210: 100%|██████████| 13/13 [00:38<00:00,  2.98s/it]\n",
      "Validation epoch 210: 100%|██████████| 38/38 [01:29<00:00,  2.35s/it]\n",
      "Training epoch 211:   0%|          | 0/13 [00:00<?, ?it/s]"
     ]
    },
    {
     "name": "stdout",
     "output_type": "stream",
     "text": [
      "Epoch 210:\n",
      "    Train loss 0.240, accuracy 0.899, F1-score 0.942, MCC: 0.491, Dice: 0.942\n",
      "    Val loss 0.236, accuracy 0.909, F1-score 0.947, MCC: 0.457, Dice: 0.947\n"
     ]
    },
    {
     "name": "stderr",
     "output_type": "stream",
     "text": [
      "Training epoch 211: 100%|██████████| 13/13 [00:37<00:00,  2.87s/it]\n",
      "Validation epoch 211: 100%|██████████| 38/38 [01:32<00:00,  2.43s/it]\n",
      "Training epoch 212:   0%|          | 0/13 [00:00<?, ?it/s]"
     ]
    },
    {
     "name": "stdout",
     "output_type": "stream",
     "text": [
      "Epoch 211:\n",
      "    Train loss 0.223, accuracy 0.896, F1-score 0.938, MCC: 0.467, Dice: 0.938\n",
      "    Val loss 0.234, accuracy 0.910, F1-score 0.950, MCC: 0.450, Dice: 0.950\n"
     ]
    },
    {
     "name": "stderr",
     "output_type": "stream",
     "text": [
      "Training epoch 212: 100%|██████████| 13/13 [00:38<00:00,  2.95s/it]\n",
      "Validation epoch 212: 100%|██████████| 38/38 [01:31<00:00,  2.40s/it]\n",
      "Training epoch 213:   0%|          | 0/13 [00:00<?, ?it/s]"
     ]
    },
    {
     "name": "stdout",
     "output_type": "stream",
     "text": [
      "Epoch 212:\n",
      "    Train loss 0.224, accuracy 0.908, F1-score 0.945, MCC: 0.476, Dice: 0.945\n",
      "    Val loss 0.238, accuracy 0.906, F1-score 0.946, MCC: 0.443, Dice: 0.946\n"
     ]
    },
    {
     "name": "stderr",
     "output_type": "stream",
     "text": [
      "Training epoch 213: 100%|██████████| 13/13 [00:38<00:00,  2.94s/it]\n",
      "Validation epoch 213: 100%|██████████| 38/38 [01:28<00:00,  2.34s/it]\n",
      "Training epoch 214:   0%|          | 0/13 [00:00<?, ?it/s]"
     ]
    },
    {
     "name": "stdout",
     "output_type": "stream",
     "text": [
      "Epoch 213:\n",
      "    Train loss 0.228, accuracy 0.900, F1-score 0.942, MCC: 0.486, Dice: 0.942\n",
      "    Val loss 0.235, accuracy 0.907, F1-score 0.947, MCC: 0.451, Dice: 0.947\n"
     ]
    },
    {
     "name": "stderr",
     "output_type": "stream",
     "text": [
      "Training epoch 214: 100%|██████████| 13/13 [00:38<00:00,  2.95s/it]\n",
      "Validation epoch 214: 100%|██████████| 38/38 [01:26<00:00,  2.28s/it]\n",
      "Training epoch 215:   0%|          | 0/13 [00:00<?, ?it/s]"
     ]
    },
    {
     "name": "stdout",
     "output_type": "stream",
     "text": [
      "Epoch 214:\n",
      "    Train loss 0.231, accuracy 0.914, F1-score 0.948, MCC: 0.504, Dice: 0.948\n",
      "    Val loss 0.238, accuracy 0.910, F1-score 0.949, MCC: 0.448, Dice: 0.949\n"
     ]
    },
    {
     "name": "stderr",
     "output_type": "stream",
     "text": [
      "Training epoch 215: 100%|██████████| 13/13 [00:40<00:00,  3.11s/it]\n",
      "Validation epoch 215: 100%|██████████| 38/38 [01:26<00:00,  2.28s/it]\n",
      "Training epoch 216:   0%|          | 0/13 [00:00<?, ?it/s]"
     ]
    },
    {
     "name": "stdout",
     "output_type": "stream",
     "text": [
      "Epoch 215:\n",
      "    Train loss 0.222, accuracy 0.910, F1-score 0.946, MCC: 0.488, Dice: 0.946\n",
      "    Val loss 0.245, accuracy 0.908, F1-score 0.947, MCC: 0.449, Dice: 0.947\n"
     ]
    },
    {
     "name": "stderr",
     "output_type": "stream",
     "text": [
      "Training epoch 216: 100%|██████████| 13/13 [00:41<00:00,  3.17s/it]\n",
      "Validation epoch 216: 100%|██████████| 38/38 [01:29<00:00,  2.34s/it]\n",
      "Training epoch 217:   0%|          | 0/13 [00:00<?, ?it/s]"
     ]
    },
    {
     "name": "stdout",
     "output_type": "stream",
     "text": [
      "Epoch 216:\n",
      "    Train loss 0.235, accuracy 0.894, F1-score 0.941, MCC: 0.471, Dice: 0.941\n",
      "    Val loss 0.237, accuracy 0.909, F1-score 0.949, MCC: 0.453, Dice: 0.949\n"
     ]
    },
    {
     "name": "stderr",
     "output_type": "stream",
     "text": [
      "Training epoch 217: 100%|██████████| 13/13 [00:37<00:00,  2.87s/it]\n",
      "Validation epoch 217: 100%|██████████| 38/38 [01:29<00:00,  2.35s/it]\n",
      "Training epoch 218:   0%|          | 0/13 [00:00<?, ?it/s]"
     ]
    },
    {
     "name": "stdout",
     "output_type": "stream",
     "text": [
      "Epoch 217:\n",
      "    Train loss 0.231, accuracy 0.902, F1-score 0.944, MCC: 0.486, Dice: 0.944\n",
      "    Val loss 0.240, accuracy 0.903, F1-score 0.946, MCC: 0.451, Dice: 0.946\n"
     ]
    },
    {
     "name": "stderr",
     "output_type": "stream",
     "text": [
      "Training epoch 218: 100%|██████████| 13/13 [00:39<00:00,  3.07s/it]\n",
      "Validation epoch 218: 100%|██████████| 38/38 [01:27<00:00,  2.32s/it]\n",
      "Training epoch 219:   0%|          | 0/13 [00:00<?, ?it/s]"
     ]
    },
    {
     "name": "stdout",
     "output_type": "stream",
     "text": [
      "Epoch 218:\n",
      "    Train loss 0.231, accuracy 0.911, F1-score 0.948, MCC: 0.511, Dice: 0.948\n",
      "    Val loss 0.235, accuracy 0.908, F1-score 0.947, MCC: 0.450, Dice: 0.947\n"
     ]
    },
    {
     "name": "stderr",
     "output_type": "stream",
     "text": [
      "Training epoch 219: 100%|██████████| 13/13 [00:40<00:00,  3.11s/it]\n",
      "Validation epoch 219: 100%|██████████| 38/38 [01:27<00:00,  2.30s/it]\n",
      "Training epoch 220:   0%|          | 0/13 [00:00<?, ?it/s]"
     ]
    },
    {
     "name": "stdout",
     "output_type": "stream",
     "text": [
      "Epoch 219:\n",
      "    Train loss 0.224, accuracy 0.903, F1-score 0.943, MCC: 0.483, Dice: 0.943\n",
      "    Val loss 0.238, accuracy 0.909, F1-score 0.949, MCC: 0.448, Dice: 0.949\n"
     ]
    },
    {
     "name": "stderr",
     "output_type": "stream",
     "text": [
      "Training epoch 220: 100%|██████████| 13/13 [00:41<00:00,  3.20s/it]\n",
      "Validation epoch 220: 100%|██████████| 38/38 [01:25<00:00,  2.25s/it]\n",
      "Training epoch 221:   0%|          | 0/13 [00:00<?, ?it/s]"
     ]
    },
    {
     "name": "stdout",
     "output_type": "stream",
     "text": [
      "Epoch 220:\n",
      "    Train loss 0.220, accuracy 0.908, F1-score 0.948, MCC: 0.509, Dice: 0.948\n",
      "    Val loss 0.236, accuracy 0.911, F1-score 0.949, MCC: 0.451, Dice: 0.949\n"
     ]
    },
    {
     "name": "stderr",
     "output_type": "stream",
     "text": [
      "Training epoch 221: 100%|██████████| 13/13 [00:40<00:00,  3.14s/it]\n",
      "Validation epoch 221: 100%|██████████| 38/38 [01:28<00:00,  2.33s/it]\n",
      "Training epoch 222:   0%|          | 0/13 [00:00<?, ?it/s]"
     ]
    },
    {
     "name": "stdout",
     "output_type": "stream",
     "text": [
      "Epoch 221:\n",
      "    Train loss 0.233, accuracy 0.905, F1-score 0.943, MCC: 0.504, Dice: 0.943\n",
      "    Val loss 0.229, accuracy 0.912, F1-score 0.949, MCC: 0.450, Dice: 0.949\n"
     ]
    },
    {
     "name": "stderr",
     "output_type": "stream",
     "text": [
      "Training epoch 222: 100%|██████████| 13/13 [00:39<00:00,  3.01s/it]\n",
      "Validation epoch 222: 100%|██████████| 38/38 [01:28<00:00,  2.32s/it]\n",
      "Training epoch 223:   0%|          | 0/13 [00:00<?, ?it/s]"
     ]
    },
    {
     "name": "stdout",
     "output_type": "stream",
     "text": [
      "Epoch 222:\n",
      "    Train loss 0.225, accuracy 0.909, F1-score 0.944, MCC: 0.481, Dice: 0.944\n",
      "    Val loss 0.231, accuracy 0.912, F1-score 0.949, MCC: 0.466, Dice: 0.949\n"
     ]
    },
    {
     "name": "stderr",
     "output_type": "stream",
     "text": [
      "Training epoch 223: 100%|██████████| 13/13 [00:38<00:00,  2.97s/it]\n",
      "Validation epoch 223: 100%|██████████| 38/38 [01:29<00:00,  2.36s/it]\n",
      "Training epoch 224:   0%|          | 0/13 [00:00<?, ?it/s]"
     ]
    },
    {
     "name": "stdout",
     "output_type": "stream",
     "text": [
      "Epoch 223:\n",
      "    Train loss 0.227, accuracy 0.901, F1-score 0.941, MCC: 0.498, Dice: 0.941\n",
      "    Val loss 0.236, accuracy 0.911, F1-score 0.950, MCC: 0.446, Dice: 0.950\n"
     ]
    },
    {
     "name": "stderr",
     "output_type": "stream",
     "text": [
      "Training epoch 224: 100%|██████████| 13/13 [00:38<00:00,  2.99s/it]\n",
      "Validation epoch 224: 100%|██████████| 38/38 [01:28<00:00,  2.32s/it]\n",
      "Training epoch 225:   0%|          | 0/13 [00:00<?, ?it/s]"
     ]
    },
    {
     "name": "stdout",
     "output_type": "stream",
     "text": [
      "Epoch 224:\n",
      "    Train loss 0.233, accuracy 0.905, F1-score 0.944, MCC: 0.487, Dice: 0.944\n",
      "    Val loss 0.236, accuracy 0.909, F1-score 0.948, MCC: 0.458, Dice: 0.948\n"
     ]
    },
    {
     "name": "stderr",
     "output_type": "stream",
     "text": [
      "Training epoch 225: 100%|██████████| 13/13 [00:39<00:00,  3.04s/it]\n",
      "Validation epoch 225: 100%|██████████| 38/38 [01:28<00:00,  2.34s/it]\n",
      "Training epoch 226:   0%|          | 0/13 [00:00<?, ?it/s]"
     ]
    },
    {
     "name": "stdout",
     "output_type": "stream",
     "text": [
      "Epoch 225:\n",
      "    Train loss 0.229, accuracy 0.909, F1-score 0.948, MCC: 0.509, Dice: 0.948\n",
      "    Val loss 0.232, accuracy 0.907, F1-score 0.948, MCC: 0.468, Dice: 0.948\n"
     ]
    },
    {
     "name": "stderr",
     "output_type": "stream",
     "text": [
      "Training epoch 226: 100%|██████████| 13/13 [00:39<00:00,  3.04s/it]\n",
      "Validation epoch 226: 100%|██████████| 38/38 [01:32<00:00,  2.42s/it]\n",
      "Training epoch 227:   0%|          | 0/13 [00:00<?, ?it/s]"
     ]
    },
    {
     "name": "stdout",
     "output_type": "stream",
     "text": [
      "Epoch 226:\n",
      "    Train loss 0.223, accuracy 0.903, F1-score 0.943, MCC: 0.498, Dice: 0.943\n",
      "    Val loss 0.233, accuracy 0.909, F1-score 0.949, MCC: 0.459, Dice: 0.949\n"
     ]
    },
    {
     "name": "stderr",
     "output_type": "stream",
     "text": [
      "Training epoch 227: 100%|██████████| 13/13 [00:37<00:00,  2.90s/it]\n",
      "Validation epoch 227: 100%|██████████| 38/38 [01:28<00:00,  2.33s/it]\n",
      "Training epoch 228:   0%|          | 0/13 [00:00<?, ?it/s]"
     ]
    },
    {
     "name": "stdout",
     "output_type": "stream",
     "text": [
      "Epoch 227:\n",
      "    Train loss 0.235, accuracy 0.907, F1-score 0.945, MCC: 0.485, Dice: 0.945\n",
      "    Val loss 0.234, accuracy 0.912, F1-score 0.949, MCC: 0.453, Dice: 0.949\n"
     ]
    },
    {
     "name": "stderr",
     "output_type": "stream",
     "text": [
      "Training epoch 228: 100%|██████████| 13/13 [00:40<00:00,  3.14s/it]\n",
      "Validation epoch 228: 100%|██████████| 38/38 [01:27<00:00,  2.29s/it]\n",
      "Training epoch 229:   0%|          | 0/13 [00:00<?, ?it/s]"
     ]
    },
    {
     "name": "stdout",
     "output_type": "stream",
     "text": [
      "Epoch 228:\n",
      "    Train loss 0.221, accuracy 0.903, F1-score 0.941, MCC: 0.486, Dice: 0.941\n",
      "    Val loss 0.242, accuracy 0.909, F1-score 0.947, MCC: 0.451, Dice: 0.947\n"
     ]
    },
    {
     "name": "stderr",
     "output_type": "stream",
     "text": [
      "Training epoch 229: 100%|██████████| 13/13 [00:36<00:00,  2.84s/it]\n",
      "Validation epoch 229: 100%|██████████| 38/38 [01:26<00:00,  2.29s/it]\n",
      "Training epoch 230:   0%|          | 0/13 [00:00<?, ?it/s]"
     ]
    },
    {
     "name": "stdout",
     "output_type": "stream",
     "text": [
      "Epoch 229:\n",
      "    Train loss 0.213, accuracy 0.907, F1-score 0.945, MCC: 0.485, Dice: 0.945\n",
      "    Val loss 0.238, accuracy 0.914, F1-score 0.951, MCC: 0.455, Dice: 0.951\n"
     ]
    },
    {
     "name": "stderr",
     "output_type": "stream",
     "text": [
      "Training epoch 230: 100%|██████████| 13/13 [00:37<00:00,  2.86s/it]\n",
      "Validation epoch 230: 100%|██████████| 38/38 [01:30<00:00,  2.39s/it]\n",
      "Training epoch 231:   0%|          | 0/13 [00:00<?, ?it/s]"
     ]
    },
    {
     "name": "stdout",
     "output_type": "stream",
     "text": [
      "Epoch 230:\n",
      "    Train loss 0.232, accuracy 0.905, F1-score 0.942, MCC: 0.497, Dice: 0.942\n",
      "    Val loss 0.235, accuracy 0.912, F1-score 0.950, MCC: 0.453, Dice: 0.950\n"
     ]
    },
    {
     "name": "stderr",
     "output_type": "stream",
     "text": [
      "Training epoch 231: 100%|██████████| 13/13 [00:39<00:00,  3.05s/it]\n",
      "Validation epoch 231: 100%|██████████| 38/38 [01:32<00:00,  2.44s/it]\n",
      "Training epoch 232:   0%|          | 0/13 [00:00<?, ?it/s]"
     ]
    },
    {
     "name": "stdout",
     "output_type": "stream",
     "text": [
      "Epoch 231:\n",
      "    Train loss 0.218, accuracy 0.907, F1-score 0.945, MCC: 0.481, Dice: 0.945\n",
      "    Val loss 0.232, accuracy 0.907, F1-score 0.947, MCC: 0.460, Dice: 0.947\n"
     ]
    },
    {
     "name": "stderr",
     "output_type": "stream",
     "text": [
      "Training epoch 232: 100%|██████████| 13/13 [00:40<00:00,  3.08s/it]\n",
      "Validation epoch 232: 100%|██████████| 38/38 [01:27<00:00,  2.31s/it]\n",
      "Training epoch 233:   0%|          | 0/13 [00:00<?, ?it/s]"
     ]
    },
    {
     "name": "stdout",
     "output_type": "stream",
     "text": [
      "Epoch 232:\n",
      "    Train loss 0.233, accuracy 0.907, F1-score 0.940, MCC: 0.490, Dice: 0.940\n",
      "    Val loss 0.233, accuracy 0.908, F1-score 0.948, MCC: 0.447, Dice: 0.948\n"
     ]
    },
    {
     "name": "stderr",
     "output_type": "stream",
     "text": [
      "Training epoch 233: 100%|██████████| 13/13 [00:39<00:00,  3.01s/it]\n",
      "Validation epoch 233: 100%|██████████| 38/38 [01:27<00:00,  2.29s/it]\n",
      "Training epoch 234:   0%|          | 0/13 [00:00<?, ?it/s]"
     ]
    },
    {
     "name": "stdout",
     "output_type": "stream",
     "text": [
      "Epoch 233:\n",
      "    Train loss 0.224, accuracy 0.914, F1-score 0.947, MCC: 0.517, Dice: 0.947\n",
      "    Val loss 0.237, accuracy 0.908, F1-score 0.948, MCC: 0.446, Dice: 0.948\n"
     ]
    },
    {
     "name": "stderr",
     "output_type": "stream",
     "text": [
      "Training epoch 234: 100%|██████████| 13/13 [00:38<00:00,  2.94s/it]\n",
      "Validation epoch 234: 100%|██████████| 38/38 [01:24<00:00,  2.22s/it]\n",
      "Training epoch 235:   0%|          | 0/13 [00:00<?, ?it/s]"
     ]
    },
    {
     "name": "stdout",
     "output_type": "stream",
     "text": [
      "Epoch 234:\n",
      "    Train loss 0.232, accuracy 0.901, F1-score 0.940, MCC: 0.495, Dice: 0.940\n",
      "    Val loss 0.231, accuracy 0.910, F1-score 0.949, MCC: 0.457, Dice: 0.949\n"
     ]
    },
    {
     "name": "stderr",
     "output_type": "stream",
     "text": [
      "Training epoch 235: 100%|██████████| 13/13 [00:38<00:00,  2.92s/it]\n",
      "Validation epoch 235: 100%|██████████| 38/38 [01:31<00:00,  2.41s/it]\n",
      "Training epoch 236:   0%|          | 0/13 [00:00<?, ?it/s]"
     ]
    },
    {
     "name": "stdout",
     "output_type": "stream",
     "text": [
      "Epoch 235:\n",
      "    Train loss 0.230, accuracy 0.897, F1-score 0.937, MCC: 0.490, Dice: 0.937\n",
      "    Val loss 0.236, accuracy 0.909, F1-score 0.949, MCC: 0.446, Dice: 0.949\n"
     ]
    },
    {
     "name": "stderr",
     "output_type": "stream",
     "text": [
      "Training epoch 236: 100%|██████████| 13/13 [00:37<00:00,  2.85s/it]\n",
      "Validation epoch 236: 100%|██████████| 38/38 [01:28<00:00,  2.34s/it]\n",
      "Training epoch 237:   0%|          | 0/13 [00:00<?, ?it/s]"
     ]
    },
    {
     "name": "stdout",
     "output_type": "stream",
     "text": [
      "Epoch 236:\n",
      "    Train loss 0.227, accuracy 0.906, F1-score 0.943, MCC: 0.509, Dice: 0.943\n",
      "    Val loss 0.238, accuracy 0.909, F1-score 0.947, MCC: 0.454, Dice: 0.947\n"
     ]
    },
    {
     "name": "stderr",
     "output_type": "stream",
     "text": [
      "Training epoch 237: 100%|██████████| 13/13 [00:39<00:00,  3.04s/it]\n",
      "Validation epoch 237: 100%|██████████| 38/38 [01:29<00:00,  2.36s/it]\n",
      "Training epoch 238:   0%|          | 0/13 [00:00<?, ?it/s]"
     ]
    },
    {
     "name": "stdout",
     "output_type": "stream",
     "text": [
      "Epoch 237:\n",
      "    Train loss 0.227, accuracy 0.906, F1-score 0.944, MCC: 0.514, Dice: 0.944\n",
      "    Val loss 0.231, accuracy 0.906, F1-score 0.947, MCC: 0.451, Dice: 0.947\n"
     ]
    },
    {
     "name": "stderr",
     "output_type": "stream",
     "text": [
      "Training epoch 238: 100%|██████████| 13/13 [00:39<00:00,  3.05s/it]\n",
      "Validation epoch 238: 100%|██████████| 38/38 [01:27<00:00,  2.31s/it]\n",
      "Training epoch 239:   0%|          | 0/13 [00:00<?, ?it/s]"
     ]
    },
    {
     "name": "stdout",
     "output_type": "stream",
     "text": [
      "Epoch 238:\n",
      "    Train loss 0.231, accuracy 0.902, F1-score 0.938, MCC: 0.470, Dice: 0.938\n",
      "    Val loss 0.236, accuracy 0.910, F1-score 0.948, MCC: 0.452, Dice: 0.948\n"
     ]
    },
    {
     "name": "stderr",
     "output_type": "stream",
     "text": [
      "Training epoch 239: 100%|██████████| 13/13 [00:37<00:00,  2.87s/it]\n",
      "Validation epoch 239: 100%|██████████| 38/38 [01:29<00:00,  2.35s/it]\n",
      "Training epoch 240:   0%|          | 0/13 [00:00<?, ?it/s]"
     ]
    },
    {
     "name": "stdout",
     "output_type": "stream",
     "text": [
      "Epoch 239:\n",
      "    Train loss 0.222, accuracy 0.896, F1-score 0.936, MCC: 0.466, Dice: 0.936\n",
      "    Val loss 0.234, accuracy 0.909, F1-score 0.946, MCC: 0.451, Dice: 0.946\n"
     ]
    },
    {
     "name": "stderr",
     "output_type": "stream",
     "text": [
      "Training epoch 240: 100%|██████████| 13/13 [00:39<00:00,  3.03s/it]\n",
      "Validation epoch 240: 100%|██████████| 38/38 [01:30<00:00,  2.39s/it]\n",
      "Training epoch 241:   0%|          | 0/13 [00:00<?, ?it/s]"
     ]
    },
    {
     "name": "stdout",
     "output_type": "stream",
     "text": [
      "Epoch 240:\n",
      "    Train loss 0.227, accuracy 0.904, F1-score 0.943, MCC: 0.498, Dice: 0.943\n",
      "    Val loss 0.238, accuracy 0.907, F1-score 0.947, MCC: 0.451, Dice: 0.947\n"
     ]
    },
    {
     "name": "stderr",
     "output_type": "stream",
     "text": [
      "Training epoch 241: 100%|██████████| 13/13 [00:38<00:00,  2.99s/it]\n",
      "Validation epoch 241: 100%|██████████| 38/38 [01:26<00:00,  2.27s/it]\n",
      "Training epoch 242:   0%|          | 0/13 [00:00<?, ?it/s]"
     ]
    },
    {
     "name": "stdout",
     "output_type": "stream",
     "text": [
      "Epoch 241:\n",
      "    Train loss 0.224, accuracy 0.904, F1-score 0.945, MCC: 0.496, Dice: 0.945\n",
      "    Val loss 0.232, accuracy 0.908, F1-score 0.948, MCC: 0.458, Dice: 0.948\n"
     ]
    },
    {
     "name": "stderr",
     "output_type": "stream",
     "text": [
      "Training epoch 242: 100%|██████████| 13/13 [00:40<00:00,  3.14s/it]\n",
      "Validation epoch 242: 100%|██████████| 38/38 [01:28<00:00,  2.34s/it]\n",
      "Training epoch 243:   0%|          | 0/13 [00:00<?, ?it/s]"
     ]
    },
    {
     "name": "stdout",
     "output_type": "stream",
     "text": [
      "Epoch 242:\n",
      "    Train loss 0.220, accuracy 0.911, F1-score 0.945, MCC: 0.504, Dice: 0.945\n",
      "    Val loss 0.234, accuracy 0.910, F1-score 0.949, MCC: 0.457, Dice: 0.949\n"
     ]
    },
    {
     "name": "stderr",
     "output_type": "stream",
     "text": [
      "Training epoch 243: 100%|██████████| 13/13 [00:40<00:00,  3.10s/it]\n",
      "Validation epoch 243: 100%|██████████| 38/38 [01:28<00:00,  2.32s/it]\n",
      "Training epoch 244:   0%|          | 0/13 [00:00<?, ?it/s]"
     ]
    },
    {
     "name": "stdout",
     "output_type": "stream",
     "text": [
      "Epoch 243:\n",
      "    Train loss 0.224, accuracy 0.907, F1-score 0.943, MCC: 0.510, Dice: 0.943\n",
      "    Val loss 0.233, accuracy 0.911, F1-score 0.949, MCC: 0.459, Dice: 0.949\n"
     ]
    },
    {
     "name": "stderr",
     "output_type": "stream",
     "text": [
      "Training epoch 244: 100%|██████████| 13/13 [00:35<00:00,  2.72s/it]\n",
      "Validation epoch 244: 100%|██████████| 38/38 [01:27<00:00,  2.30s/it]\n",
      "Training epoch 245:   0%|          | 0/13 [00:00<?, ?it/s]"
     ]
    },
    {
     "name": "stdout",
     "output_type": "stream",
     "text": [
      "Epoch 244:\n",
      "    Train loss 0.243, accuracy 0.911, F1-score 0.944, MCC: 0.469, Dice: 0.944\n",
      "    Val loss 0.236, accuracy 0.909, F1-score 0.948, MCC: 0.460, Dice: 0.948\n"
     ]
    },
    {
     "name": "stderr",
     "output_type": "stream",
     "text": [
      "Training epoch 245: 100%|██████████| 13/13 [00:36<00:00,  2.79s/it]\n",
      "Validation epoch 245: 100%|██████████| 38/38 [01:28<00:00,  2.32s/it]\n",
      "Training epoch 246:   0%|          | 0/13 [00:00<?, ?it/s]"
     ]
    },
    {
     "name": "stdout",
     "output_type": "stream",
     "text": [
      "Epoch 245:\n",
      "    Train loss 0.220, accuracy 0.902, F1-score 0.943, MCC: 0.494, Dice: 0.943\n",
      "    Val loss 0.236, accuracy 0.912, F1-score 0.950, MCC: 0.459, Dice: 0.950\n"
     ]
    },
    {
     "name": "stderr",
     "output_type": "stream",
     "text": [
      "Training epoch 246: 100%|██████████| 13/13 [00:38<00:00,  2.93s/it]\n",
      "Validation epoch 246: 100%|██████████| 38/38 [01:30<00:00,  2.39s/it]\n",
      "Training epoch 247:   0%|          | 0/13 [00:00<?, ?it/s]"
     ]
    },
    {
     "name": "stdout",
     "output_type": "stream",
     "text": [
      "Epoch 246:\n",
      "    Train loss 0.230, accuracy 0.907, F1-score 0.942, MCC: 0.497, Dice: 0.942\n",
      "    Val loss 0.232, accuracy 0.915, F1-score 0.952, MCC: 0.455, Dice: 0.952\n"
     ]
    },
    {
     "name": "stderr",
     "output_type": "stream",
     "text": [
      "Training epoch 247: 100%|██████████| 13/13 [00:39<00:00,  3.01s/it]\n",
      "Validation epoch 247: 100%|██████████| 38/38 [01:26<00:00,  2.27s/it]\n",
      "Training epoch 248:   0%|          | 0/13 [00:00<?, ?it/s]"
     ]
    },
    {
     "name": "stdout",
     "output_type": "stream",
     "text": [
      "Epoch 247:\n",
      "    Train loss 0.223, accuracy 0.903, F1-score 0.939, MCC: 0.504, Dice: 0.939\n",
      "    Val loss 0.238, accuracy 0.911, F1-score 0.949, MCC: 0.450, Dice: 0.949\n"
     ]
    },
    {
     "name": "stderr",
     "output_type": "stream",
     "text": [
      "Training epoch 248: 100%|██████████| 13/13 [00:38<00:00,  2.93s/it]\n",
      "Validation epoch 248: 100%|██████████| 38/38 [01:32<00:00,  2.43s/it]\n",
      "Training epoch 249:   0%|          | 0/13 [00:00<?, ?it/s]"
     ]
    },
    {
     "name": "stdout",
     "output_type": "stream",
     "text": [
      "Epoch 248:\n",
      "    Train loss 0.221, accuracy 0.907, F1-score 0.942, MCC: 0.487, Dice: 0.942\n",
      "    Val loss 0.237, accuracy 0.905, F1-score 0.947, MCC: 0.447, Dice: 0.947\n"
     ]
    },
    {
     "name": "stderr",
     "output_type": "stream",
     "text": [
      "Training epoch 249: 100%|██████████| 13/13 [00:38<00:00,  2.95s/it]\n",
      "Validation epoch 249: 100%|██████████| 38/38 [01:32<00:00,  2.43s/it]\n"
     ]
    },
    {
     "name": "stdout",
     "output_type": "stream",
     "text": [
      "Epoch 249:\n",
      "    Train loss 0.228, accuracy 0.904, F1-score 0.943, MCC: 0.498, Dice: 0.943\n",
      "    Val loss 0.227, accuracy 0.915, F1-score 0.952, MCC: 0.470, Dice: 0.952\n"
     ]
    },
    {
     "name": "stderr",
     "output_type": "stream",
     "text": [
      "Training epoch 250: 100%|██████████| 13/13 [00:39<00:00,  3.01s/it]\n",
      "Validation epoch 250: 100%|██████████| 38/38 [01:27<00:00,  2.30s/it]\n",
      "Training epoch 251:   0%|          | 0/13 [00:00<?, ?it/s]"
     ]
    },
    {
     "name": "stdout",
     "output_type": "stream",
     "text": [
      "Epoch 250:\n",
      "    Train loss 0.218, accuracy 0.899, F1-score 0.939, MCC: 0.488, Dice: 0.939\n",
      "    Val loss 0.246, accuracy 0.910, F1-score 0.948, MCC: 0.451, Dice: 0.948\n"
     ]
    },
    {
     "name": "stderr",
     "output_type": "stream",
     "text": [
      "Training epoch 251: 100%|██████████| 13/13 [00:36<00:00,  2.81s/it]\n",
      "Validation epoch 251: 100%|██████████| 38/38 [01:33<00:00,  2.46s/it]\n",
      "Training epoch 252:   0%|          | 0/13 [00:00<?, ?it/s]"
     ]
    },
    {
     "name": "stdout",
     "output_type": "stream",
     "text": [
      "Epoch 251:\n",
      "    Train loss 0.220, accuracy 0.907, F1-score 0.943, MCC: 0.484, Dice: 0.943\n",
      "    Val loss 0.229, accuracy 0.914, F1-score 0.951, MCC: 0.462, Dice: 0.951\n"
     ]
    },
    {
     "name": "stderr",
     "output_type": "stream",
     "text": [
      "Training epoch 252: 100%|██████████| 13/13 [00:38<00:00,  2.94s/it]\n",
      "Validation epoch 252: 100%|██████████| 38/38 [01:31<00:00,  2.41s/it]\n",
      "Training epoch 253:   0%|          | 0/13 [00:00<?, ?it/s]"
     ]
    },
    {
     "name": "stdout",
     "output_type": "stream",
     "text": [
      "Epoch 252:\n",
      "    Train loss 0.228, accuracy 0.906, F1-score 0.944, MCC: 0.500, Dice: 0.944\n",
      "    Val loss 0.236, accuracy 0.909, F1-score 0.949, MCC: 0.448, Dice: 0.949\n"
     ]
    },
    {
     "name": "stderr",
     "output_type": "stream",
     "text": [
      "Training epoch 253: 100%|██████████| 13/13 [00:36<00:00,  2.78s/it]\n",
      "Validation epoch 253: 100%|██████████| 38/38 [01:29<00:00,  2.36s/it]\n",
      "Training epoch 254:   0%|          | 0/13 [00:00<?, ?it/s]"
     ]
    },
    {
     "name": "stdout",
     "output_type": "stream",
     "text": [
      "Epoch 253:\n",
      "    Train loss 0.219, accuracy 0.907, F1-score 0.947, MCC: 0.499, Dice: 0.947\n",
      "    Val loss 0.230, accuracy 0.907, F1-score 0.947, MCC: 0.450, Dice: 0.947\n"
     ]
    },
    {
     "name": "stderr",
     "output_type": "stream",
     "text": [
      "Training epoch 254: 100%|██████████| 13/13 [00:38<00:00,  2.94s/it]\n",
      "Validation epoch 254: 100%|██████████| 38/38 [01:26<00:00,  2.28s/it]\n",
      "Training epoch 255:   0%|          | 0/13 [00:00<?, ?it/s]"
     ]
    },
    {
     "name": "stdout",
     "output_type": "stream",
     "text": [
      "Epoch 254:\n",
      "    Train loss 0.217, accuracy 0.905, F1-score 0.942, MCC: 0.491, Dice: 0.942\n",
      "    Val loss 0.234, accuracy 0.909, F1-score 0.947, MCC: 0.449, Dice: 0.947\n"
     ]
    },
    {
     "name": "stderr",
     "output_type": "stream",
     "text": [
      "Training epoch 255: 100%|██████████| 13/13 [00:40<00:00,  3.11s/it]\n",
      "Validation epoch 255: 100%|██████████| 38/38 [01:33<00:00,  2.46s/it]\n",
      "Training epoch 256:   0%|          | 0/13 [00:00<?, ?it/s]"
     ]
    },
    {
     "name": "stdout",
     "output_type": "stream",
     "text": [
      "Epoch 255:\n",
      "    Train loss 0.228, accuracy 0.909, F1-score 0.943, MCC: 0.484, Dice: 0.943\n",
      "    Val loss 0.233, accuracy 0.911, F1-score 0.950, MCC: 0.446, Dice: 0.950\n"
     ]
    },
    {
     "name": "stderr",
     "output_type": "stream",
     "text": [
      "Training epoch 256: 100%|██████████| 13/13 [00:38<00:00,  2.96s/it]\n",
      "Validation epoch 256: 100%|██████████| 38/38 [01:28<00:00,  2.33s/it]\n",
      "Training epoch 257:   0%|          | 0/13 [00:00<?, ?it/s]"
     ]
    },
    {
     "name": "stdout",
     "output_type": "stream",
     "text": [
      "Epoch 256:\n",
      "    Train loss 0.227, accuracy 0.894, F1-score 0.938, MCC: 0.494, Dice: 0.938\n",
      "    Val loss 0.238, accuracy 0.905, F1-score 0.947, MCC: 0.440, Dice: 0.947\n"
     ]
    },
    {
     "name": "stderr",
     "output_type": "stream",
     "text": [
      "Training epoch 257: 100%|██████████| 13/13 [00:37<00:00,  2.87s/it]\n",
      "Validation epoch 257: 100%|██████████| 38/38 [01:28<00:00,  2.32s/it]\n",
      "Training epoch 258:   0%|          | 0/13 [00:00<?, ?it/s]"
     ]
    },
    {
     "name": "stdout",
     "output_type": "stream",
     "text": [
      "Epoch 257:\n",
      "    Train loss 0.223, accuracy 0.903, F1-score 0.941, MCC: 0.494, Dice: 0.941\n",
      "    Val loss 0.244, accuracy 0.909, F1-score 0.947, MCC: 0.451, Dice: 0.947\n"
     ]
    },
    {
     "name": "stderr",
     "output_type": "stream",
     "text": [
      "Training epoch 258: 100%|██████████| 13/13 [00:40<00:00,  3.11s/it]\n",
      "Validation epoch 258: 100%|██████████| 38/38 [01:29<00:00,  2.36s/it]\n",
      "Training epoch 259:   0%|          | 0/13 [00:00<?, ?it/s]"
     ]
    },
    {
     "name": "stdout",
     "output_type": "stream",
     "text": [
      "Epoch 258:\n",
      "    Train loss 0.224, accuracy 0.908, F1-score 0.948, MCC: 0.496, Dice: 0.948\n",
      "    Val loss 0.235, accuracy 0.915, F1-score 0.951, MCC: 0.457, Dice: 0.951\n"
     ]
    },
    {
     "name": "stderr",
     "output_type": "stream",
     "text": [
      "Training epoch 259: 100%|██████████| 13/13 [00:39<00:00,  3.02s/it]\n",
      "Validation epoch 259: 100%|██████████| 38/38 [01:26<00:00,  2.28s/it]\n",
      "Training epoch 260:   0%|          | 0/13 [00:00<?, ?it/s]"
     ]
    },
    {
     "name": "stdout",
     "output_type": "stream",
     "text": [
      "Epoch 259:\n",
      "    Train loss 0.214, accuracy 0.901, F1-score 0.938, MCC: 0.482, Dice: 0.938\n",
      "    Val loss 0.235, accuracy 0.914, F1-score 0.951, MCC: 0.457, Dice: 0.951\n"
     ]
    },
    {
     "name": "stderr",
     "output_type": "stream",
     "text": [
      "Training epoch 260: 100%|██████████| 13/13 [00:39<00:00,  3.01s/it]\n",
      "Validation epoch 260: 100%|██████████| 38/38 [01:28<00:00,  2.34s/it]\n",
      "Training epoch 261:   0%|          | 0/13 [00:00<?, ?it/s]"
     ]
    },
    {
     "name": "stdout",
     "output_type": "stream",
     "text": [
      "Epoch 260:\n",
      "    Train loss 0.219, accuracy 0.904, F1-score 0.942, MCC: 0.495, Dice: 0.942\n",
      "    Val loss 0.234, accuracy 0.905, F1-score 0.947, MCC: 0.451, Dice: 0.947\n"
     ]
    },
    {
     "name": "stderr",
     "output_type": "stream",
     "text": [
      "Training epoch 261: 100%|██████████| 13/13 [00:38<00:00,  2.94s/it]\n",
      "Validation epoch 261: 100%|██████████| 38/38 [01:30<00:00,  2.37s/it]\n",
      "Training epoch 262:   0%|          | 0/13 [00:00<?, ?it/s]"
     ]
    },
    {
     "name": "stdout",
     "output_type": "stream",
     "text": [
      "Epoch 261:\n",
      "    Train loss 0.229, accuracy 0.900, F1-score 0.940, MCC: 0.489, Dice: 0.940\n",
      "    Val loss 0.234, accuracy 0.910, F1-score 0.949, MCC: 0.452, Dice: 0.949\n"
     ]
    },
    {
     "name": "stderr",
     "output_type": "stream",
     "text": [
      "Training epoch 262: 100%|██████████| 13/13 [00:39<00:00,  3.02s/it]\n",
      "Validation epoch 262: 100%|██████████| 38/38 [01:29<00:00,  2.36s/it]\n",
      "Training epoch 263:   0%|          | 0/13 [00:00<?, ?it/s]"
     ]
    },
    {
     "name": "stdout",
     "output_type": "stream",
     "text": [
      "Epoch 262:\n",
      "    Train loss 0.233, accuracy 0.905, F1-score 0.942, MCC: 0.475, Dice: 0.942\n",
      "    Val loss 0.229, accuracy 0.905, F1-score 0.947, MCC: 0.461, Dice: 0.947\n"
     ]
    },
    {
     "name": "stderr",
     "output_type": "stream",
     "text": [
      "Training epoch 263: 100%|██████████| 13/13 [00:39<00:00,  3.03s/it]\n",
      "Validation epoch 263: 100%|██████████| 38/38 [01:28<00:00,  2.32s/it]\n",
      "Training epoch 264:   0%|          | 0/13 [00:00<?, ?it/s]"
     ]
    },
    {
     "name": "stdout",
     "output_type": "stream",
     "text": [
      "Epoch 263:\n",
      "    Train loss 0.228, accuracy 0.909, F1-score 0.948, MCC: 0.497, Dice: 0.948\n",
      "    Val loss 0.233, accuracy 0.909, F1-score 0.948, MCC: 0.461, Dice: 0.948\n"
     ]
    },
    {
     "name": "stderr",
     "output_type": "stream",
     "text": [
      "Training epoch 264: 100%|██████████| 13/13 [00:39<00:00,  3.01s/it]\n",
      "Validation epoch 264: 100%|██████████| 38/38 [01:25<00:00,  2.26s/it]\n",
      "Training epoch 265:   0%|          | 0/13 [00:00<?, ?it/s]"
     ]
    },
    {
     "name": "stdout",
     "output_type": "stream",
     "text": [
      "Epoch 264:\n",
      "    Train loss 0.215, accuracy 0.898, F1-score 0.940, MCC: 0.492, Dice: 0.940\n",
      "    Val loss 0.241, accuracy 0.912, F1-score 0.952, MCC: 0.454, Dice: 0.952\n"
     ]
    },
    {
     "name": "stderr",
     "output_type": "stream",
     "text": [
      "Training epoch 265: 100%|██████████| 13/13 [00:37<00:00,  2.85s/it]\n",
      "Validation epoch 265: 100%|██████████| 38/38 [01:31<00:00,  2.40s/it]\n",
      "Training epoch 266:   0%|          | 0/13 [00:00<?, ?it/s]"
     ]
    },
    {
     "name": "stdout",
     "output_type": "stream",
     "text": [
      "Epoch 265:\n",
      "    Train loss 0.227, accuracy 0.904, F1-score 0.944, MCC: 0.496, Dice: 0.944\n",
      "    Val loss 0.234, accuracy 0.911, F1-score 0.950, MCC: 0.458, Dice: 0.950\n"
     ]
    },
    {
     "name": "stderr",
     "output_type": "stream",
     "text": [
      "Training epoch 266: 100%|██████████| 13/13 [00:38<00:00,  2.93s/it]\n",
      "Validation epoch 266: 100%|██████████| 38/38 [01:27<00:00,  2.31s/it]\n",
      "Training epoch 267:   0%|          | 0/13 [00:00<?, ?it/s]"
     ]
    },
    {
     "name": "stdout",
     "output_type": "stream",
     "text": [
      "Epoch 266:\n",
      "    Train loss 0.224, accuracy 0.904, F1-score 0.943, MCC: 0.475, Dice: 0.943\n",
      "    Val loss 0.236, accuracy 0.912, F1-score 0.950, MCC: 0.459, Dice: 0.950\n"
     ]
    },
    {
     "name": "stderr",
     "output_type": "stream",
     "text": [
      "Training epoch 267: 100%|██████████| 13/13 [00:40<00:00,  3.10s/it]\n",
      "Validation epoch 267: 100%|██████████| 38/38 [01:26<00:00,  2.27s/it]\n",
      "Training epoch 268:   0%|          | 0/13 [00:00<?, ?it/s]"
     ]
    },
    {
     "name": "stdout",
     "output_type": "stream",
     "text": [
      "Epoch 267:\n",
      "    Train loss 0.232, accuracy 0.917, F1-score 0.950, MCC: 0.508, Dice: 0.950\n",
      "    Val loss 0.238, accuracy 0.909, F1-score 0.948, MCC: 0.454, Dice: 0.948\n"
     ]
    },
    {
     "name": "stderr",
     "output_type": "stream",
     "text": [
      "Training epoch 268: 100%|██████████| 13/13 [00:39<00:00,  3.03s/it]\n",
      "Validation epoch 268: 100%|██████████| 38/38 [01:29<00:00,  2.35s/it]\n",
      "Training epoch 269:   0%|          | 0/13 [00:00<?, ?it/s]"
     ]
    },
    {
     "name": "stdout",
     "output_type": "stream",
     "text": [
      "Epoch 268:\n",
      "    Train loss 0.225, accuracy 0.908, F1-score 0.947, MCC: 0.515, Dice: 0.947\n",
      "    Val loss 0.243, accuracy 0.910, F1-score 0.949, MCC: 0.454, Dice: 0.949\n"
     ]
    },
    {
     "name": "stderr",
     "output_type": "stream",
     "text": [
      "Training epoch 269: 100%|██████████| 13/13 [00:39<00:00,  3.02s/it]\n",
      "Validation epoch 269: 100%|██████████| 38/38 [01:32<00:00,  2.44s/it]\n",
      "Training epoch 270:   0%|          | 0/13 [00:00<?, ?it/s]"
     ]
    },
    {
     "name": "stdout",
     "output_type": "stream",
     "text": [
      "Epoch 269:\n",
      "    Train loss 0.221, accuracy 0.908, F1-score 0.945, MCC: 0.499, Dice: 0.945\n",
      "    Val loss 0.237, accuracy 0.907, F1-score 0.946, MCC: 0.453, Dice: 0.946\n"
     ]
    },
    {
     "name": "stderr",
     "output_type": "stream",
     "text": [
      "Training epoch 270: 100%|██████████| 13/13 [00:37<00:00,  2.85s/it]\n",
      "Validation epoch 270: 100%|██████████| 38/38 [01:31<00:00,  2.40s/it]\n",
      "Training epoch 271:   0%|          | 0/13 [00:00<?, ?it/s]"
     ]
    },
    {
     "name": "stdout",
     "output_type": "stream",
     "text": [
      "Epoch 270:\n",
      "    Train loss 0.228, accuracy 0.911, F1-score 0.944, MCC: 0.477, Dice: 0.944\n",
      "    Val loss 0.240, accuracy 0.910, F1-score 0.949, MCC: 0.451, Dice: 0.949\n"
     ]
    },
    {
     "name": "stderr",
     "output_type": "stream",
     "text": [
      "Training epoch 271: 100%|██████████| 13/13 [00:39<00:00,  3.04s/it]\n",
      "Validation epoch 271: 100%|██████████| 38/38 [01:33<00:00,  2.46s/it]\n",
      "Training epoch 272:   0%|          | 0/13 [00:00<?, ?it/s]"
     ]
    },
    {
     "name": "stdout",
     "output_type": "stream",
     "text": [
      "Epoch 271:\n",
      "    Train loss 0.220, accuracy 0.906, F1-score 0.946, MCC: 0.493, Dice: 0.946\n",
      "    Val loss 0.235, accuracy 0.908, F1-score 0.948, MCC: 0.451, Dice: 0.948\n"
     ]
    },
    {
     "name": "stderr",
     "output_type": "stream",
     "text": [
      "Training epoch 272: 100%|██████████| 13/13 [00:39<00:00,  3.02s/it]\n",
      "Validation epoch 272: 100%|██████████| 38/38 [01:24<00:00,  2.22s/it]\n",
      "Training epoch 273:   0%|          | 0/13 [00:00<?, ?it/s]"
     ]
    },
    {
     "name": "stdout",
     "output_type": "stream",
     "text": [
      "Epoch 272:\n",
      "    Train loss 0.215, accuracy 0.911, F1-score 0.948, MCC: 0.511, Dice: 0.948\n",
      "    Val loss 0.234, accuracy 0.908, F1-score 0.949, MCC: 0.454, Dice: 0.949\n"
     ]
    },
    {
     "name": "stderr",
     "output_type": "stream",
     "text": [
      "Training epoch 273: 100%|██████████| 13/13 [00:35<00:00,  2.73s/it]\n",
      "Validation epoch 273: 100%|██████████| 38/38 [01:27<00:00,  2.30s/it]\n",
      "Training epoch 274:   0%|          | 0/13 [00:00<?, ?it/s]"
     ]
    },
    {
     "name": "stdout",
     "output_type": "stream",
     "text": [
      "Epoch 273:\n",
      "    Train loss 0.230, accuracy 0.902, F1-score 0.946, MCC: 0.483, Dice: 0.946\n",
      "    Val loss 0.237, accuracy 0.909, F1-score 0.949, MCC: 0.458, Dice: 0.949\n"
     ]
    },
    {
     "name": "stderr",
     "output_type": "stream",
     "text": [
      "Training epoch 274: 100%|██████████| 13/13 [00:38<00:00,  2.95s/it]\n",
      "Validation epoch 274: 100%|██████████| 38/38 [01:29<00:00,  2.35s/it]\n",
      "Training epoch 275:   0%|          | 0/13 [00:00<?, ?it/s]"
     ]
    },
    {
     "name": "stdout",
     "output_type": "stream",
     "text": [
      "Epoch 274:\n",
      "    Train loss 0.228, accuracy 0.898, F1-score 0.940, MCC: 0.500, Dice: 0.940\n",
      "    Val loss 0.234, accuracy 0.906, F1-score 0.947, MCC: 0.453, Dice: 0.947\n"
     ]
    },
    {
     "name": "stderr",
     "output_type": "stream",
     "text": [
      "Training epoch 275: 100%|██████████| 13/13 [00:38<00:00,  2.96s/it]\n",
      "Validation epoch 275: 100%|██████████| 38/38 [01:27<00:00,  2.30s/it]\n",
      "Training epoch 276:   0%|          | 0/13 [00:00<?, ?it/s]"
     ]
    },
    {
     "name": "stdout",
     "output_type": "stream",
     "text": [
      "Epoch 275:\n",
      "    Train loss 0.225, accuracy 0.905, F1-score 0.946, MCC: 0.491, Dice: 0.946\n",
      "    Val loss 0.235, accuracy 0.912, F1-score 0.949, MCC: 0.451, Dice: 0.949\n"
     ]
    },
    {
     "name": "stderr",
     "output_type": "stream",
     "text": [
      "Training epoch 276: 100%|██████████| 13/13 [00:40<00:00,  3.14s/it]\n",
      "Validation epoch 276: 100%|██████████| 38/38 [01:26<00:00,  2.28s/it]\n",
      "Training epoch 277:   0%|          | 0/13 [00:00<?, ?it/s]"
     ]
    },
    {
     "name": "stdout",
     "output_type": "stream",
     "text": [
      "Epoch 276:\n",
      "    Train loss 0.228, accuracy 0.912, F1-score 0.943, MCC: 0.499, Dice: 0.943\n",
      "    Val loss 0.237, accuracy 0.910, F1-score 0.949, MCC: 0.448, Dice: 0.949\n"
     ]
    },
    {
     "name": "stderr",
     "output_type": "stream",
     "text": [
      "Training epoch 277: 100%|██████████| 13/13 [00:40<00:00,  3.09s/it]\n",
      "Validation epoch 277: 100%|██████████| 38/38 [01:30<00:00,  2.39s/it]\n",
      "Training epoch 278:   0%|          | 0/13 [00:00<?, ?it/s]"
     ]
    },
    {
     "name": "stdout",
     "output_type": "stream",
     "text": [
      "Epoch 277:\n",
      "    Train loss 0.227, accuracy 0.905, F1-score 0.942, MCC: 0.503, Dice: 0.942\n",
      "    Val loss 0.234, accuracy 0.910, F1-score 0.950, MCC: 0.460, Dice: 0.950\n"
     ]
    },
    {
     "name": "stderr",
     "output_type": "stream",
     "text": [
      "Training epoch 278: 100%|██████████| 13/13 [00:39<00:00,  3.02s/it]\n",
      "Validation epoch 278: 100%|██████████| 38/38 [01:30<00:00,  2.39s/it]\n",
      "Training epoch 279:   0%|          | 0/13 [00:00<?, ?it/s]"
     ]
    },
    {
     "name": "stdout",
     "output_type": "stream",
     "text": [
      "Epoch 278:\n",
      "    Train loss 0.221, accuracy 0.895, F1-score 0.938, MCC: 0.483, Dice: 0.938\n",
      "    Val loss 0.234, accuracy 0.909, F1-score 0.948, MCC: 0.461, Dice: 0.948\n"
     ]
    },
    {
     "name": "stderr",
     "output_type": "stream",
     "text": [
      "Training epoch 279: 100%|██████████| 13/13 [00:38<00:00,  2.92s/it]\n",
      "Validation epoch 279: 100%|██████████| 38/38 [01:27<00:00,  2.31s/it]\n",
      "Training epoch 280:   0%|          | 0/13 [00:00<?, ?it/s]"
     ]
    },
    {
     "name": "stdout",
     "output_type": "stream",
     "text": [
      "Epoch 279:\n",
      "    Train loss 0.223, accuracy 0.908, F1-score 0.945, MCC: 0.501, Dice: 0.945\n",
      "    Val loss 0.236, accuracy 0.906, F1-score 0.946, MCC: 0.451, Dice: 0.946\n"
     ]
    },
    {
     "name": "stderr",
     "output_type": "stream",
     "text": [
      "Training epoch 280: 100%|██████████| 13/13 [00:41<00:00,  3.21s/it]\n",
      "Validation epoch 280: 100%|██████████| 38/38 [01:23<00:00,  2.19s/it]\n",
      "Training epoch 281:   0%|          | 0/13 [00:00<?, ?it/s]"
     ]
    },
    {
     "name": "stdout",
     "output_type": "stream",
     "text": [
      "Epoch 280:\n",
      "    Train loss 0.215, accuracy 0.903, F1-score 0.940, MCC: 0.480, Dice: 0.940\n",
      "    Val loss 0.234, accuracy 0.908, F1-score 0.948, MCC: 0.455, Dice: 0.948\n"
     ]
    },
    {
     "name": "stderr",
     "output_type": "stream",
     "text": [
      "Training epoch 281: 100%|██████████| 13/13 [00:39<00:00,  3.07s/it]\n",
      "Validation epoch 281: 100%|██████████| 38/38 [01:28<00:00,  2.33s/it]\n",
      "Training epoch 282:   0%|          | 0/13 [00:00<?, ?it/s]"
     ]
    },
    {
     "name": "stdout",
     "output_type": "stream",
     "text": [
      "Epoch 281:\n",
      "    Train loss 0.220, accuracy 0.902, F1-score 0.942, MCC: 0.494, Dice: 0.942\n",
      "    Val loss 0.232, accuracy 0.906, F1-score 0.947, MCC: 0.449, Dice: 0.947\n"
     ]
    },
    {
     "name": "stderr",
     "output_type": "stream",
     "text": [
      "Training epoch 282: 100%|██████████| 13/13 [00:39<00:00,  3.04s/it]\n",
      "Validation epoch 282: 100%|██████████| 38/38 [01:28<00:00,  2.33s/it]\n",
      "Training epoch 283:   0%|          | 0/13 [00:00<?, ?it/s]"
     ]
    },
    {
     "name": "stdout",
     "output_type": "stream",
     "text": [
      "Epoch 282:\n",
      "    Train loss 0.221, accuracy 0.905, F1-score 0.943, MCC: 0.512, Dice: 0.943\n",
      "    Val loss 0.233, accuracy 0.909, F1-score 0.946, MCC: 0.446, Dice: 0.946\n"
     ]
    },
    {
     "name": "stderr",
     "output_type": "stream",
     "text": [
      "Training epoch 283: 100%|██████████| 13/13 [00:39<00:00,  3.04s/it]\n",
      "Validation epoch 283: 100%|██████████| 38/38 [01:29<00:00,  2.34s/it]\n",
      "Training epoch 284:   0%|          | 0/13 [00:00<?, ?it/s]"
     ]
    },
    {
     "name": "stdout",
     "output_type": "stream",
     "text": [
      "Epoch 283:\n",
      "    Train loss 0.213, accuracy 0.908, F1-score 0.945, MCC: 0.512, Dice: 0.945\n",
      "    Val loss 0.235, accuracy 0.907, F1-score 0.947, MCC: 0.446, Dice: 0.947\n"
     ]
    },
    {
     "name": "stderr",
     "output_type": "stream",
     "text": [
      "Training epoch 284: 100%|██████████| 13/13 [00:36<00:00,  2.85s/it]\n",
      "Validation epoch 284: 100%|██████████| 38/38 [01:27<00:00,  2.31s/it]\n",
      "Training epoch 285:   0%|          | 0/13 [00:00<?, ?it/s]"
     ]
    },
    {
     "name": "stdout",
     "output_type": "stream",
     "text": [
      "Epoch 284:\n",
      "    Train loss 0.228, accuracy 0.901, F1-score 0.942, MCC: 0.493, Dice: 0.942\n",
      "    Val loss 0.231, accuracy 0.906, F1-score 0.947, MCC: 0.449, Dice: 0.947\n"
     ]
    },
    {
     "name": "stderr",
     "output_type": "stream",
     "text": [
      "Training epoch 285: 100%|██████████| 13/13 [00:42<00:00,  3.25s/it]\n",
      "Validation epoch 285: 100%|██████████| 38/38 [01:28<00:00,  2.34s/it]\n",
      "Training epoch 286:   0%|          | 0/13 [00:00<?, ?it/s]"
     ]
    },
    {
     "name": "stdout",
     "output_type": "stream",
     "text": [
      "Epoch 285:\n",
      "    Train loss 0.228, accuracy 0.902, F1-score 0.941, MCC: 0.482, Dice: 0.941\n",
      "    Val loss 0.234, accuracy 0.908, F1-score 0.949, MCC: 0.443, Dice: 0.949\n"
     ]
    },
    {
     "name": "stderr",
     "output_type": "stream",
     "text": [
      "Training epoch 286: 100%|██████████| 13/13 [00:36<00:00,  2.80s/it]\n",
      "Validation epoch 286: 100%|██████████| 38/38 [01:30<00:00,  2.38s/it]\n",
      "Training epoch 287:   0%|          | 0/13 [00:00<?, ?it/s]"
     ]
    },
    {
     "name": "stdout",
     "output_type": "stream",
     "text": [
      "Epoch 286:\n",
      "    Train loss 0.220, accuracy 0.900, F1-score 0.940, MCC: 0.479, Dice: 0.940\n",
      "    Val loss 0.238, accuracy 0.906, F1-score 0.948, MCC: 0.457, Dice: 0.948\n"
     ]
    },
    {
     "name": "stderr",
     "output_type": "stream",
     "text": [
      "Training epoch 287: 100%|██████████| 13/13 [00:38<00:00,  2.93s/it]\n",
      "Validation epoch 287: 100%|██████████| 38/38 [01:28<00:00,  2.32s/it]\n",
      "Training epoch 288:   0%|          | 0/13 [00:00<?, ?it/s]"
     ]
    },
    {
     "name": "stdout",
     "output_type": "stream",
     "text": [
      "Epoch 287:\n",
      "    Train loss 0.214, accuracy 0.902, F1-score 0.941, MCC: 0.496, Dice: 0.941\n",
      "    Val loss 0.228, accuracy 0.911, F1-score 0.950, MCC: 0.467, Dice: 0.950\n"
     ]
    },
    {
     "name": "stderr",
     "output_type": "stream",
     "text": [
      "Training epoch 288: 100%|██████████| 13/13 [00:38<00:00,  2.94s/it]\n",
      "Validation epoch 288: 100%|██████████| 38/38 [01:27<00:00,  2.30s/it]\n",
      "Training epoch 289:   0%|          | 0/13 [00:00<?, ?it/s]"
     ]
    },
    {
     "name": "stdout",
     "output_type": "stream",
     "text": [
      "Epoch 288:\n",
      "    Train loss 0.225, accuracy 0.910, F1-score 0.946, MCC: 0.503, Dice: 0.946\n",
      "    Val loss 0.231, accuracy 0.912, F1-score 0.951, MCC: 0.449, Dice: 0.951\n"
     ]
    },
    {
     "name": "stderr",
     "output_type": "stream",
     "text": [
      "Training epoch 289: 100%|██████████| 13/13 [00:40<00:00,  3.14s/it]\n",
      "Validation epoch 289: 100%|██████████| 38/38 [01:30<00:00,  2.37s/it]\n",
      "Training epoch 290:   0%|          | 0/13 [00:00<?, ?it/s]"
     ]
    },
    {
     "name": "stdout",
     "output_type": "stream",
     "text": [
      "Epoch 289:\n",
      "    Train loss 0.224, accuracy 0.904, F1-score 0.939, MCC: 0.475, Dice: 0.939\n",
      "    Val loss 0.233, accuracy 0.911, F1-score 0.951, MCC: 0.464, Dice: 0.951\n"
     ]
    },
    {
     "name": "stderr",
     "output_type": "stream",
     "text": [
      "Training epoch 290: 100%|██████████| 13/13 [00:37<00:00,  2.90s/it]\n",
      "Validation epoch 290: 100%|██████████| 38/38 [01:27<00:00,  2.31s/it]\n",
      "Training epoch 291:   0%|          | 0/13 [00:00<?, ?it/s]"
     ]
    },
    {
     "name": "stdout",
     "output_type": "stream",
     "text": [
      "Epoch 290:\n",
      "    Train loss 0.217, accuracy 0.908, F1-score 0.940, MCC: 0.503, Dice: 0.940\n",
      "    Val loss 0.234, accuracy 0.912, F1-score 0.950, MCC: 0.458, Dice: 0.950\n"
     ]
    },
    {
     "name": "stderr",
     "output_type": "stream",
     "text": [
      "Training epoch 291: 100%|██████████| 13/13 [00:40<00:00,  3.13s/it]\n",
      "Validation epoch 291: 100%|██████████| 38/38 [01:29<00:00,  2.36s/it]\n",
      "Training epoch 292:   0%|          | 0/13 [00:00<?, ?it/s]"
     ]
    },
    {
     "name": "stdout",
     "output_type": "stream",
     "text": [
      "Epoch 291:\n",
      "    Train loss 0.238, accuracy 0.906, F1-score 0.945, MCC: 0.496, Dice: 0.945\n",
      "    Val loss 0.233, accuracy 0.908, F1-score 0.947, MCC: 0.444, Dice: 0.947\n"
     ]
    },
    {
     "name": "stderr",
     "output_type": "stream",
     "text": [
      "Training epoch 292: 100%|██████████| 13/13 [00:40<00:00,  3.14s/it]\n",
      "Validation epoch 292: 100%|██████████| 38/38 [01:33<00:00,  2.46s/it]\n",
      "Training epoch 293:   0%|          | 0/13 [00:00<?, ?it/s]"
     ]
    },
    {
     "name": "stdout",
     "output_type": "stream",
     "text": [
      "Epoch 292:\n",
      "    Train loss 0.222, accuracy 0.905, F1-score 0.943, MCC: 0.495, Dice: 0.943\n",
      "    Val loss 0.234, accuracy 0.910, F1-score 0.948, MCC: 0.459, Dice: 0.948\n"
     ]
    },
    {
     "name": "stderr",
     "output_type": "stream",
     "text": [
      "Training epoch 293: 100%|██████████| 13/13 [00:40<00:00,  3.14s/it]\n",
      "Validation epoch 293: 100%|██████████| 38/38 [01:30<00:00,  2.38s/it]\n",
      "Training epoch 294:   0%|          | 0/13 [00:00<?, ?it/s]"
     ]
    },
    {
     "name": "stdout",
     "output_type": "stream",
     "text": [
      "Epoch 293:\n",
      "    Train loss 0.218, accuracy 0.903, F1-score 0.942, MCC: 0.493, Dice: 0.942\n",
      "    Val loss 0.230, accuracy 0.903, F1-score 0.946, MCC: 0.451, Dice: 0.946\n"
     ]
    },
    {
     "name": "stderr",
     "output_type": "stream",
     "text": [
      "Training epoch 294: 100%|██████████| 13/13 [00:37<00:00,  2.88s/it]\n",
      "Validation epoch 294: 100%|██████████| 38/38 [01:28<00:00,  2.33s/it]\n",
      "Training epoch 295:   0%|          | 0/13 [00:00<?, ?it/s]"
     ]
    },
    {
     "name": "stdout",
     "output_type": "stream",
     "text": [
      "Epoch 294:\n",
      "    Train loss 0.217, accuracy 0.902, F1-score 0.942, MCC: 0.495, Dice: 0.942\n",
      "    Val loss 0.233, accuracy 0.907, F1-score 0.947, MCC: 0.451, Dice: 0.947\n"
     ]
    },
    {
     "name": "stderr",
     "output_type": "stream",
     "text": [
      "Training epoch 295: 100%|██████████| 13/13 [00:39<00:00,  3.04s/it]\n",
      "Validation epoch 295: 100%|██████████| 38/38 [01:27<00:00,  2.31s/it]\n",
      "Training epoch 296:   0%|          | 0/13 [00:00<?, ?it/s]"
     ]
    },
    {
     "name": "stdout",
     "output_type": "stream",
     "text": [
      "Epoch 295:\n",
      "    Train loss 0.213, accuracy 0.899, F1-score 0.941, MCC: 0.484, Dice: 0.941\n",
      "    Val loss 0.231, accuracy 0.912, F1-score 0.951, MCC: 0.459, Dice: 0.951\n"
     ]
    },
    {
     "name": "stderr",
     "output_type": "stream",
     "text": [
      "Training epoch 296: 100%|██████████| 13/13 [00:37<00:00,  2.89s/it]\n",
      "Validation epoch 296: 100%|██████████| 38/38 [01:27<00:00,  2.30s/it]\n",
      "Training epoch 297:   0%|          | 0/13 [00:00<?, ?it/s]"
     ]
    },
    {
     "name": "stdout",
     "output_type": "stream",
     "text": [
      "Epoch 296:\n",
      "    Train loss 0.226, accuracy 0.905, F1-score 0.941, MCC: 0.478, Dice: 0.941\n",
      "    Val loss 0.242, accuracy 0.908, F1-score 0.948, MCC: 0.438, Dice: 0.948\n"
     ]
    },
    {
     "name": "stderr",
     "output_type": "stream",
     "text": [
      "Training epoch 297: 100%|██████████| 13/13 [00:41<00:00,  3.17s/it]\n",
      "Validation epoch 297: 100%|██████████| 38/38 [01:27<00:00,  2.30s/it]\n",
      "Training epoch 298:   0%|          | 0/13 [00:00<?, ?it/s]"
     ]
    },
    {
     "name": "stdout",
     "output_type": "stream",
     "text": [
      "Epoch 297:\n",
      "    Train loss 0.239, accuracy 0.900, F1-score 0.940, MCC: 0.482, Dice: 0.940\n",
      "    Val loss 0.228, accuracy 0.908, F1-score 0.947, MCC: 0.450, Dice: 0.947\n"
     ]
    },
    {
     "name": "stderr",
     "output_type": "stream",
     "text": [
      "Training epoch 298: 100%|██████████| 13/13 [00:39<00:00,  3.01s/it]\n",
      "Validation epoch 298: 100%|██████████| 38/38 [01:28<00:00,  2.32s/it]\n",
      "Training epoch 299:   0%|          | 0/13 [00:00<?, ?it/s]"
     ]
    },
    {
     "name": "stdout",
     "output_type": "stream",
     "text": [
      "Epoch 298:\n",
      "    Train loss 0.220, accuracy 0.906, F1-score 0.944, MCC: 0.508, Dice: 0.944\n",
      "    Val loss 0.235, accuracy 0.910, F1-score 0.950, MCC: 0.460, Dice: 0.950\n"
     ]
    },
    {
     "name": "stderr",
     "output_type": "stream",
     "text": [
      "Training epoch 299: 100%|██████████| 13/13 [00:37<00:00,  2.92s/it]\n",
      "Validation epoch 299: 100%|██████████| 38/38 [01:29<00:00,  2.36s/it]\n",
      "Training epoch 300:   0%|          | 0/13 [00:00<?, ?it/s]"
     ]
    },
    {
     "name": "stdout",
     "output_type": "stream",
     "text": [
      "Epoch 299:\n",
      "    Train loss 0.220, accuracy 0.912, F1-score 0.950, MCC: 0.506, Dice: 0.950\n",
      "    Val loss 0.238, accuracy 0.910, F1-score 0.949, MCC: 0.454, Dice: 0.949\n"
     ]
    },
    {
     "name": "stderr",
     "output_type": "stream",
     "text": [
      "Training epoch 300: 100%|██████████| 13/13 [00:37<00:00,  2.91s/it]\n",
      "Validation epoch 300: 100%|██████████| 38/38 [01:29<00:00,  2.36s/it]"
     ]
    },
    {
     "name": "stdout",
     "output_type": "stream",
     "text": [
      "Epoch 300:\n",
      "    Train loss 0.223, accuracy 0.908, F1-score 0.946, MCC: 0.505, Dice: 0.946\n",
      "    Val loss 0.230, accuracy 0.910, F1-score 0.949, MCC: 0.455, Dice: 0.949\n"
     ]
    },
    {
     "name": "stderr",
     "output_type": "stream",
     "text": [
      "\n"
     ]
    }
   ],
   "source": [
    "# ============================ #\n",
    "# user-specified hyperparameters\n",
    "# ============================ #\n",
    "country = 'india'\n",
    "epochs = 300\n",
    "lr = 0.0001\n",
    "lr_decay = None\n",
    "n_filters = 32\n",
    "depth = 6\n",
    "n_classes = 1\n",
    "batch_size = 8\n",
    "model_type = 'fractal-resunet' # 'resunet-d6'\n",
    "month = 'all13'\n",
    "codes_to_keep = [1]\n",
    "ctx_name = 'gpu'\n",
    "gpu_id = 2\n",
    "boundary_kernel_size = (2,2)\n",
    "\n",
    "trained_model = '../experiments/partial-france/fractal-resunet_3month-separate_nfilter-32_depth-6_bs-7_lr-0.001_1x-downsampled_allfields_n6759_1250px_thickness2/model.params'\n",
    "# trained_model = '../experiments/india/fractal-resunet_Airbus_nfilter-32_depth-6_bs-8_lr-0.001_original-resolution_n20_fromscratch/model.params'\n",
    "# trained_model = None\n",
    "\n",
    "folder_suffix = '_original-resolution_n100'\n",
    "if trained_model is None:\n",
    "    folder_suffix += '_fromscratch'\n",
    "elif 'india' in trained_model:\n",
    "    folder_suffix += '_fromscratch-continued'\n",
    "elif 'france' in trained_model:\n",
    "    folder_suffix += '_finetuned'\n",
    "\n",
    "month_name = 'Airbus'\n",
    "splits_path = '../data/splits/india_planetImagery_splits_20x20_n100.csv'\n",
    "splits_df = pd.read_csv(splits_path, dtype=str)\n",
    "splits_df['image_id'] = splits_df['image_id'].str.zfill(4)\n",
    "splits_df = splits_df.drop_duplicates('image_id')\n",
    "\n",
    "# get all img and labels\n",
    "all_img_names = []\n",
    "all_label_names = []\n",
    "img_dir = '../data/general_blockchain/airbus_false_color/large/original/'\n",
    "label_dir = '../data/general_blockchain/airbus_labels/large/original/'\n",
    "\n",
    "label_folder_imgs = sorted(os.listdir(label_dir))\n",
    "for label_name in label_folder_imgs:\n",
    "    img_name = 'airbus_geowiki_' + label_name.split('_')[-1].split('.')[0] + '.png'\n",
    "    img_path = os.path.join(img_dir, img_name)\n",
    "    all_img_names.append(img_path)\n",
    "    label_path = os.path.join(label_dir, label_name)\n",
    "    all_label_names.append(label_path)\n",
    "    \n",
    "# split imgs and labels into train/val/test\n",
    "all_images = pd.DataFrame({'img_path': all_img_names})\n",
    "all_images['image_id'] = all_images['img_path'].str.split('/').apply(\n",
    "    lambda x: x[-1]).str.split('.').apply(\n",
    "    lambda x: x[0]).str.split('_').apply(\n",
    "    lambda x: x[-1][1:])\n",
    "all_images = all_images.merge(splits_df[['image_id', 'fold']], on='image_id', how='left')\n",
    "train_names = all_images[all_images['fold'] == 'train']['img_path'].values\n",
    "val_names = all_images[all_images['fold'] == 'val']['img_path'].values\n",
    "test_names = all_images[all_images['fold'] == 'test']['img_path'].values\n",
    "\n",
    "all_labels = pd.DataFrame({'label_path': all_label_names})\n",
    "all_labels['image_id'] = all_labels['label_path'].str.split('/').apply(\n",
    "    lambda x: x[-1]).str.split('.').apply(\n",
    "    lambda x: x[0]).str.split('_').apply(\n",
    "    lambda x: x[-1][1:])\n",
    "all_labels = all_labels.merge(splits_df[['image_id', 'fold']], on='image_id', how='left')\n",
    "train_names_label = all_labels[all_labels['fold'] == 'train']['label_path'].values\n",
    "val_names_label = all_labels[all_labels['fold'] == 'val']['label_path'].values\n",
    "test_names_label = all_labels[all_labels['fold'] == 'test']['label_path'].values\n",
    "\n",
    "# ============================ #\n",
    "\n",
    "run_africa(country, train_names, val_names, test_names,\n",
    "           train_names_label, val_names_label, test_names_label,\n",
    "           trained_model=trained_model,\n",
    "           epochs=epochs, lr=lr, lr_decay=lr_decay, \n",
    "           model_type=model_type, n_filters=n_filters, depth=depth, n_classes=n_classes,\n",
    "           batch_size=batch_size, month=month_name,\n",
    "           codes_to_keep=codes_to_keep, \n",
    "           ctx_name=ctx_name,\n",
    "           gpu_id=gpu_id, \n",
    "           folder_suffix=folder_suffix,\n",
    "           boundary_kernel_size=boundary_kernel_size)"
   ]
  },
  {
   "cell_type": "code",
   "execution_count": 8,
   "metadata": {},
   "outputs": [
    {
     "name": "stdout",
     "output_type": "stream",
     "text": [
      "done\n"
     ]
    }
   ],
   "source": [
    "print(\"done\")"
   ]
  },
  {
   "cell_type": "code",
   "execution_count": null,
   "metadata": {},
   "outputs": [],
   "source": []
  }
 ],
 "metadata": {
  "kernelspec": {
   "display_name": "Environment (conda_mxnet1.6.0)",
   "language": "python",
   "name": "conda_mxnet1.6.0"
  },
  "language_info": {
   "codemirror_mode": {
    "name": "ipython",
    "version": 3
   },
   "file_extension": ".py",
   "mimetype": "text/x-python",
   "name": "python",
   "nbconvert_exporter": "python",
   "pygments_lexer": "ipython3",
   "version": "3.6.11"
  }
 },
 "nbformat": 4,
 "nbformat_minor": 2
}
