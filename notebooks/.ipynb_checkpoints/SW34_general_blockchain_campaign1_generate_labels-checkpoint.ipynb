{
 "cells": [
  {
   "cell_type": "code",
   "execution_count": 1,
   "metadata": {},
   "outputs": [],
   "source": [
    "import sys\n",
    "import os\n",
    "import json\n",
    "import numpy as np\n",
    "import pandas as pd\n",
    "import geopandas as gpd\n",
    "import imageio\n",
    "from datetime import datetime, date, timedelta\n",
    "import matplotlib.pyplot as plt\n",
    "%matplotlib inline\n",
    "\n",
    "from shapely.geometry import box, Polygon\n",
    "from PIL import Image\n",
    "from PIL import ImageFont\n",
    "from PIL import ImageDraw\n",
    "\n",
    "import matplotlib.font_manager as font_manager\n",
    "font_files = font_manager.findSystemFonts()"
   ]
  },
  {
   "cell_type": "markdown",
   "metadata": {},
   "source": [
    "# Labeling results"
   ]
  },
  {
   "cell_type": "markdown",
   "metadata": {},
   "source": [
    "Steps to polygonize the labels were done in Descartes Labs, and areas of the polygons were computed in Google Earth Engine."
   ]
  },
  {
   "cell_type": "code",
   "execution_count": 5,
   "metadata": {},
   "outputs": [],
   "source": [
    "polygons = gpd.read_file('../mount/data/GeneralBlockchain/campaign_results/india_fields_with_area.shp')"
   ]
  },
  {
   "cell_type": "code",
   "execution_count": 6,
   "metadata": {},
   "outputs": [
    {
     "data": {
      "text/plain": [
       "(8735, 3)"
      ]
     },
     "execution_count": 6,
     "metadata": {},
     "output_type": "execute_result"
    }
   ],
   "source": [
    "polygons.shape"
   ]
  },
  {
   "cell_type": "code",
   "execution_count": 4,
   "metadata": {},
   "outputs": [
    {
     "data": {
      "text/html": [
       "<div>\n",
       "<style scoped>\n",
       "    .dataframe tbody tr th:only-of-type {\n",
       "        vertical-align: middle;\n",
       "    }\n",
       "\n",
       "    .dataframe tbody tr th {\n",
       "        vertical-align: top;\n",
       "    }\n",
       "\n",
       "    .dataframe thead th {\n",
       "        text-align: right;\n",
       "    }\n",
       "</style>\n",
       "<table border=\"1\" class=\"dataframe\">\n",
       "  <thead>\n",
       "    <tr style=\"text-align: right;\">\n",
       "      <th></th>\n",
       "      <th>area</th>\n",
       "      <th>sample</th>\n",
       "      <th>geometry</th>\n",
       "    </tr>\n",
       "  </thead>\n",
       "  <tbody>\n",
       "    <tr>\n",
       "      <td>0</td>\n",
       "      <td>6462.733773</td>\n",
       "      <td>1</td>\n",
       "      <td>POLYGON ((77.43552 25.71931, 77.43553 25.71956...</td>\n",
       "    </tr>\n",
       "    <tr>\n",
       "      <td>1</td>\n",
       "      <td>6005.326545</td>\n",
       "      <td>1</td>\n",
       "      <td>POLYGON ((77.43818 25.71866, 77.43818 25.71868...</td>\n",
       "    </tr>\n",
       "    <tr>\n",
       "      <td>2</td>\n",
       "      <td>7184.723355</td>\n",
       "      <td>1</td>\n",
       "      <td>POLYGON ((77.43461 25.71852, 77.43461 25.71859...</td>\n",
       "    </tr>\n",
       "    <tr>\n",
       "      <td>3</td>\n",
       "      <td>5508.084686</td>\n",
       "      <td>1</td>\n",
       "      <td>POLYGON ((77.43587 25.71827, 77.43587 25.71831...</td>\n",
       "    </tr>\n",
       "    <tr>\n",
       "      <td>4</td>\n",
       "      <td>13474.999528</td>\n",
       "      <td>1</td>\n",
       "      <td>POLYGON ((77.43658 25.71620, 77.43658 25.71625...</td>\n",
       "    </tr>\n",
       "  </tbody>\n",
       "</table>\n",
       "</div>"
      ],
      "text/plain": [
       "           area  sample                                           geometry\n",
       "0   6462.733773       1  POLYGON ((77.43552 25.71931, 77.43553 25.71956...\n",
       "1   6005.326545       1  POLYGON ((77.43818 25.71866, 77.43818 25.71868...\n",
       "2   7184.723355       1  POLYGON ((77.43461 25.71852, 77.43461 25.71859...\n",
       "3   5508.084686       1  POLYGON ((77.43587 25.71827, 77.43587 25.71831...\n",
       "4  13474.999528       1  POLYGON ((77.43658 25.71620, 77.43658 25.71625..."
      ]
     },
     "execution_count": 4,
     "metadata": {},
     "output_type": "execute_result"
    }
   ],
   "source": [
    "polygons.head()"
   ]
  },
  {
   "cell_type": "code",
   "execution_count": 13,
   "metadata": {},
   "outputs": [
    {
     "data": {
      "text/plain": [
       "array([ 1.        ,  1.29154967,  1.66810054,  2.15443469,  2.7825594 ,\n",
       "        3.59381366,  4.64158883,  5.9948425 ,  7.74263683, 10.        ])"
      ]
     },
     "execution_count": 13,
     "metadata": {},
     "output_type": "execute_result"
    }
   ],
   "source": [
    "np.logspace(0, 1, 10)"
   ]
  },
  {
   "cell_type": "code",
   "execution_count": 61,
   "metadata": {},
   "outputs": [
    {
     "data": {
      "image/png": "[encoded data removed]",
      "text/plain": [
       "<Figure size 432x288 with 1 Axes>"
      ]
     },
     "metadata": {
      "needs_background": "light"
     },
     "output_type": "display_data"
    }
   ],
   "source": [
    "plt.hist(polygons['area'] / 10000, bins=np.logspace(-2.3,1,20))\n",
    "plt.xscale('log')\n",
    "plt.title('Distribution of field size')\n",
    "plt.xlabel('Field area (ha)')\n",
    "plt.ylabel('Count')\n",
    "plt.show()"
   ]
  },
  {
   "cell_type": "markdown",
   "metadata": {},
   "source": [
    "# Sample image centers"
   ]
  },
  {
   "cell_type": "code",
   "execution_count": 7,
   "metadata": {},
   "outputs": [],
   "source": [
    "min_lons = []\n",
    "min_lats = []\n",
    "max_lons = []\n",
    "max_lats = []\n",
    "for i, row in polygons.iterrows():\n",
    "    lons = row['geometry'].exterior.coords.xy[0]\n",
    "    lats = row['geometry'].exterior.coords.xy[1]\n",
    "    min_lons.append(np.min(lons))\n",
    "    min_lats.append(np.min(lats))\n",
    "    max_lons.append(np.max(lons))\n",
    "    max_lats.append(np.max(lats))"
   ]
  },
  {
   "cell_type": "code",
   "execution_count": 8,
   "metadata": {},
   "outputs": [],
   "source": [
    "polygons['min_lon'] = min_lons\n",
    "polygons['min_lat'] = min_lats\n",
    "polygons['max_lon'] = max_lons\n",
    "polygons['max_lat'] = max_lats"
   ]
  },
  {
   "cell_type": "code",
   "execution_count": 9,
   "metadata": {},
   "outputs": [],
   "source": [
    "mins = polygons[['sample', 'min_lon', 'min_lat']].groupby('sample').min().reset_index()\n",
    "maxs = polygons[['sample', 'max_lon', 'max_lat']].groupby('sample').max().reset_index()"
   ]
  },
  {
   "cell_type": "code",
   "execution_count": 10,
   "metadata": {},
   "outputs": [],
   "source": [
    "df = mins.merge(maxs, on='sample', how='inner')"
   ]
  },
  {
   "cell_type": "code",
   "execution_count": 12,
   "metadata": {},
   "outputs": [],
   "source": [
    "df['dx'] = 1./(111111. * np.cos(df['min_lat'] * np.pi / 180.)) * 214 * 3\n",
    "dy = 1./111111. * 214 * 3\n",
    "\n",
    "df['min_lon_for_sampling'] = df['max_lon'] - df['dx']\n",
    "df['max_lon_for_sampling'] = df['min_lon'] + df['dx']\n",
    "df['min_lat_for_sampling'] = df['max_lat'] - dy\n",
    "df['max_lat_for_sampling'] = df['min_lat'] + dy"
   ]
  },
  {
   "cell_type": "code",
   "execution_count": 13,
   "metadata": {},
   "outputs": [],
   "source": [
    "# sample image centers from bounds\n",
    "samples = []\n",
    "bbox_min_lons = []\n",
    "bbox_min_lats = []\n",
    "bbox_max_lons = []\n",
    "bbox_max_lats = []\n",
    "\n",
    "for i, row in df.iterrows():\n",
    "    count = 0\n",
    "    \n",
    "    while count < 3:\n",
    "        x = np.random.uniform(low=row['min_lon_for_sampling'], high=row['max_lon_for_sampling'])\n",
    "        y = np.random.uniform(low=row['min_lat_for_sampling'], high=row['max_lat_for_sampling'])\n",
    "\n",
    "        box_min_lon = x - row['dx']\n",
    "        box_max_lon = x + row['dx']\n",
    "        box_min_lat = y - dy\n",
    "        box_max_lat = y + dy\n",
    "\n",
    "        bbox = box(box_min_lon, box_min_lat, box_max_lon, box_max_lat)\n",
    "\n",
    "        intersects = False\n",
    "        polys = polygons[polygons['sample'] == row['sample']]\n",
    "        for j, poly in polys.iterrows():\n",
    "            if poly['geometry'].intersects(bbox):\n",
    "                intersects = True\n",
    "        if intersects:\n",
    "            count += 1\n",
    "            samples.append(row['sample'])\n",
    "            bbox_min_lons.append(box_min_lon)\n",
    "            bbox_min_lats.append(box_min_lat)\n",
    "            bbox_max_lons.append(box_max_lon)\n",
    "            bbox_max_lats.append(box_max_lat)"
   ]
  },
  {
   "cell_type": "code",
   "execution_count": 14,
   "metadata": {},
   "outputs": [],
   "source": [
    "# bbox dataframe housing bounding boxes for Planet images\n",
    "image_ids = [str(x).zfill(4) + y for x, y in list(\n",
    "    zip(np.array(samples, dtype=int), ['a', 'b', 'c'] * (len(samples) // 3)))]\n",
    "bbox_df = pd.DataFrame({\n",
    "    \"image_id\": image_ids,\n",
    "    \"min_lon\": bbox_min_lons,\n",
    "    \"min_lat\": bbox_min_lats,\n",
    "    \"max_lon\": bbox_max_lons,\n",
    "    \"max_lat\": bbox_max_lats\n",
    "})"
   ]
  },
  {
   "cell_type": "code",
   "execution_count": 16,
   "metadata": {},
   "outputs": [],
   "source": [
    "bbox_df.to_csv('../data/planet/india/GeneralBlockchain/bbox_india_GB_v1.csv', index=False)"
   ]
  },
  {
   "cell_type": "code",
   "execution_count": 18,
   "metadata": {},
   "outputs": [
    {
     "data": {
      "text/html": [
       "<div>\n",
       "<style scoped>\n",
       "    .dataframe tbody tr th:only-of-type {\n",
       "        vertical-align: middle;\n",
       "    }\n",
       "\n",
       "    .dataframe tbody tr th {\n",
       "        vertical-align: top;\n",
       "    }\n",
       "\n",
       "    .dataframe thead th {\n",
       "        text-align: right;\n",
       "    }\n",
       "</style>\n",
       "<table border=\"1\" class=\"dataframe\">\n",
       "  <thead>\n",
       "    <tr style=\"text-align: right;\">\n",
       "      <th></th>\n",
       "      <th>image_id</th>\n",
       "      <th>min_lon</th>\n",
       "      <th>min_lat</th>\n",
       "      <th>max_lon</th>\n",
       "      <th>max_lat</th>\n",
       "    </tr>\n",
       "  </thead>\n",
       "  <tbody>\n",
       "    <tr>\n",
       "      <td>0</td>\n",
       "      <td>0001a</td>\n",
       "      <td>77.431186</td>\n",
       "      <td>25.711210</td>\n",
       "      <td>77.444012</td>\n",
       "      <td>25.722766</td>\n",
       "    </tr>\n",
       "    <tr>\n",
       "      <td>1</td>\n",
       "      <td>0001b</td>\n",
       "      <td>77.434433</td>\n",
       "      <td>25.709826</td>\n",
       "      <td>77.447259</td>\n",
       "      <td>25.721382</td>\n",
       "    </tr>\n",
       "    <tr>\n",
       "      <td>2</td>\n",
       "      <td>0001c</td>\n",
       "      <td>77.426457</td>\n",
       "      <td>25.713601</td>\n",
       "      <td>77.439283</td>\n",
       "      <td>25.725157</td>\n",
       "    </tr>\n",
       "    <tr>\n",
       "      <td>3</td>\n",
       "      <td>0002a</td>\n",
       "      <td>76.598109</td>\n",
       "      <td>27.190678</td>\n",
       "      <td>76.611101</td>\n",
       "      <td>27.202234</td>\n",
       "    </tr>\n",
       "    <tr>\n",
       "      <td>4</td>\n",
       "      <td>0002b</td>\n",
       "      <td>76.598915</td>\n",
       "      <td>27.189477</td>\n",
       "      <td>76.611906</td>\n",
       "      <td>27.201033</td>\n",
       "    </tr>\n",
       "  </tbody>\n",
       "</table>\n",
       "</div>"
      ],
      "text/plain": [
       "  image_id    min_lon    min_lat    max_lon    max_lat\n",
       "0    0001a  77.431186  25.711210  77.444012  25.722766\n",
       "1    0001b  77.434433  25.709826  77.447259  25.721382\n",
       "2    0001c  77.426457  25.713601  77.439283  25.725157\n",
       "3    0002a  76.598109  27.190678  76.611101  27.202234\n",
       "4    0002b  76.598915  27.189477  76.611906  27.201033"
      ]
     },
     "execution_count": 18,
     "metadata": {},
     "output_type": "execute_result"
    }
   ],
   "source": [
    "bbox_df.head()"
   ]
  },
  {
   "cell_type": "code",
   "execution_count": 40,
   "metadata": {},
   "outputs": [],
   "source": [
    "# bbox dataframe for maximum extent of Planet images we will want to download\n",
    "bbox_df_download = df[['sample', 'min_lon_for_sampling', 'min_lat_for_sampling',\n",
    "    'max_lon_for_sampling', 'max_lat_for_sampling']].rename({\n",
    "    'min_lon_for_sampling': 'min_lon',\n",
    "    'min_lat_for_sampling': 'min_lat',\n",
    "    'max_lon_for_sampling': 'max_lon',\n",
    "    'max_lat_for_sampling': 'max_lat'\n",
    "}, axis=1)\n",
    "bbox_df_download['min_lon'] = bbox_df_download['min_lon'] - df['dx']\n",
    "bbox_df_download['max_lon'] = bbox_df_download['max_lon'] + df['dx']\n",
    "bbox_df_download['min_lat'] = bbox_df_download['min_lat'] - dy\n",
    "bbox_df_download['max_lat'] = bbox_df_download['max_lat'] + dy\n",
    "bbox_df_download['image_id'] = bbox_df_download['sample'].astype(str).str.zfill(4)"
   ]
  },
  {
   "cell_type": "code",
   "execution_count": 41,
   "metadata": {},
   "outputs": [
    {
     "data": {
      "text/html": [
       "<div>\n",
       "<style scoped>\n",
       "    .dataframe tbody tr th:only-of-type {\n",
       "        vertical-align: middle;\n",
       "    }\n",
       "\n",
       "    .dataframe tbody tr th {\n",
       "        vertical-align: top;\n",
       "    }\n",
       "\n",
       "    .dataframe thead th {\n",
       "        text-align: right;\n",
       "    }\n",
       "</style>\n",
       "<table border=\"1\" class=\"dataframe\">\n",
       "  <thead>\n",
       "    <tr style=\"text-align: right;\">\n",
       "      <th></th>\n",
       "      <th>image_id</th>\n",
       "      <th>min_lon</th>\n",
       "      <th>min_lat</th>\n",
       "      <th>max_lon</th>\n",
       "      <th>max_lat</th>\n",
       "    </tr>\n",
       "  </thead>\n",
       "  <tbody>\n",
       "    <tr>\n",
       "      <td>0</td>\n",
       "      <td>0001</td>\n",
       "      <td>77.426281</td>\n",
       "      <td>25.708583</td>\n",
       "      <td>77.447435</td>\n",
       "      <td>25.727361</td>\n",
       "    </tr>\n",
       "    <tr>\n",
       "      <td>1</td>\n",
       "      <td>0002</td>\n",
       "      <td>76.594832</td>\n",
       "      <td>27.184024</td>\n",
       "      <td>76.614239</td>\n",
       "      <td>27.202949</td>\n",
       "    </tr>\n",
       "    <tr>\n",
       "      <td>2</td>\n",
       "      <td>0003</td>\n",
       "      <td>80.584134</td>\n",
       "      <td>27.467418</td>\n",
       "      <td>80.607517</td>\n",
       "      <td>27.485268</td>\n",
       "    </tr>\n",
       "    <tr>\n",
       "      <td>3</td>\n",
       "      <td>0004</td>\n",
       "      <td>78.076010</td>\n",
       "      <td>21.107982</td>\n",
       "      <td>78.098756</td>\n",
       "      <td>21.128650</td>\n",
       "    </tr>\n",
       "    <tr>\n",
       "      <td>4</td>\n",
       "      <td>0005</td>\n",
       "      <td>75.017378</td>\n",
       "      <td>31.016537</td>\n",
       "      <td>75.040594</td>\n",
       "      <td>31.036791</td>\n",
       "    </tr>\n",
       "  </tbody>\n",
       "</table>\n",
       "</div>"
      ],
      "text/plain": [
       "  image_id    min_lon    min_lat    max_lon    max_lat\n",
       "0     0001  77.426281  25.708583  77.447435  25.727361\n",
       "1     0002  76.594832  27.184024  76.614239  27.202949\n",
       "2     0003  80.584134  27.467418  80.607517  27.485268\n",
       "3     0004  78.076010  21.107982  78.098756  21.128650\n",
       "4     0005  75.017378  31.016537  75.040594  31.036791"
      ]
     },
     "execution_count": 41,
     "metadata": {},
     "output_type": "execute_result"
    }
   ],
   "source": [
    "bbox_df_download = bbox_df_download.drop('sample', axis=1)[\n",
    "    ['image_id', 'min_lon', 'min_lat', 'max_lon', 'max_lat']]\n",
    "bbox_df_download.head()"
   ]
  },
  {
   "cell_type": "code",
   "execution_count": 42,
   "metadata": {},
   "outputs": [],
   "source": [
    "bbox_df_download.to_csv('../data/planet/india/GeneralBlockchain/bbox_india_GB_download.csv', index=False)"
   ]
  },
  {
   "cell_type": "code",
   "execution_count": 50,
   "metadata": {},
   "outputs": [],
   "source": [
    "for i, row in bbox_df.groupby('label_id').min().reset_index().iterrows():\n",
    "    image_id = row['label_id']\n",
    "    lon = bbox_df_download[bbox_df_download['image_id'] == image_id]['min_lon'].values[0]\n",
    "    lat = bbox_df_download[bbox_df_download['image_id'] == image_id]['min_lat'].values[0]\n",
    "    if row['min_lon'] < lon:\n",
    "        print(\"min_lon < min_lon_for_sampling\")\n",
    "    if row['min_lat'] < lat:\n",
    "        print(\"min_lat < min_lat_for_sampling\")\n",
    "        \n",
    "for i, row in bbox_df.groupby('label_id').max().reset_index().iterrows():\n",
    "    image_id = row['label_id']\n",
    "    lon = bbox_df_download[bbox_df_download['image_id'] == image_id]['max_lon'].values[0]\n",
    "    lat = bbox_df_download[bbox_df_download['image_id'] == image_id]['max_lat'].values[0]\n",
    "    if row['max_lon'] > lon:\n",
    "        print(\"max_lon > max_lon_for_sampling\")\n",
    "    if row['max_lat'] > lat:\n",
    "        print(\"max_lat < max_lat_for_sampling\")"
   ]
  },
  {
   "cell_type": "markdown",
   "metadata": {},
   "source": [
    "### For GEE"
   ]
  },
  {
   "cell_type": "code",
   "execution_count": 57,
   "metadata": {},
   "outputs": [],
   "source": [
    "# shapefile version for GEE visualization\n",
    "# now outdated - generated new boxes\n",
    "bbox_list = []\n",
    "for i, row in bbox_df.iterrows():\n",
    "    bbox_list.append(box(row['min_lon'], row['min_lat'], row['max_lon'], row['max_lat']))"
   ]
  },
  {
   "cell_type": "code",
   "execution_count": 59,
   "metadata": {},
   "outputs": [],
   "source": [
    "bbox_gdf = gpd.GeoDataFrame(pd.DataFrame({\n",
    "    \"sample\": np.array(samples, dtype=int)\n",
    "}), geometry=bbox_list, crs={'init': 'epsg:4326'})"
   ]
  },
  {
   "cell_type": "code",
   "execution_count": 60,
   "metadata": {},
   "outputs": [],
   "source": [
    "bbox_gdf.to_file('../mount/data/GeneralBlockchain/campaign_results/bbox_india_GB.shp')"
   ]
  },
  {
   "cell_type": "code",
   "execution_count": null,
   "metadata": {},
   "outputs": [],
   "source": []
  }
 ],
 "metadata": {
  "kernelspec": {
   "display_name": "Environment (conda_geopython)",
   "language": "python",
   "name": "conda_geopython"
  },
  "language_info": {
   "codemirror_mode": {
    "name": "ipython",
    "version": 3
   },
   "file_extension": ".py",
   "mimetype": "text/x-python",
   "name": "python",
   "nbconvert_exporter": "python",
   "pygments_lexer": "ipython3",
   "version": "3.7.4"
  }
 },
 "nbformat": 4,
 "nbformat_minor": 2
}
