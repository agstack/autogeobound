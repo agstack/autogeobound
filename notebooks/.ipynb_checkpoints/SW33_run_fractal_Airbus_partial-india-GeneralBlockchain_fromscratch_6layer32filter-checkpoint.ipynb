{
 "cells": [
  {
   "cell_type": "code",
   "execution_count": 1,
   "metadata": {},
   "outputs": [],
   "source": [
    "import numpy as np\n",
    "import pandas as pd\n",
    "import os\n",
    "from tqdm import tqdm\n",
    "import visdom\n",
    "\n",
    "import mxnet as mx\n",
    "from mxnet import gluon\n",
    "from mxnet import autograd\n",
    "from mxnet import image\n",
    "\n",
    "import sys\n",
    "sys.path.append('../../resuneta/src')\n",
    "sys.path.append('../../decode/FracTAL_ResUNet/models/semanticsegmentation')\n",
    "sys.path.append('../../decode/FracTAL_ResUNet/nn/loss')\n",
    "sys.path.append('../../')\n",
    "sys.path.append('../MXNet-ResUNeta/')\n",
    "\n",
    "from bound_dist import get_distance, get_boundary\n",
    "from FracTAL_ResUNet import FracTAL_ResUNet_cmtsk\n",
    "from ftnmt_loss import ftnmt_loss_masked\n",
    "from datasets import *\n",
    "\n",
    "from sklearn.metrics import matthews_corrcoef\n",
    "\n",
    "import matplotlib.pyplot as plt\n",
    "%matplotlib inline"
   ]
  },
  {
   "cell_type": "code",
   "execution_count": 2,
   "metadata": {},
   "outputs": [],
   "source": [
    "def dice_coef(x, y):\n",
    "    if type(x).__module__ == 'numpy':\n",
    "        intersection = np.logical_and(x, y)\n",
    "        return 2. * np.sum(intersection) / (np.sum(x) + np.sum(y))\n",
    "    else:\n",
    "        intersection = mx.ndarray.op.broadcast_logical_and(x, y)\n",
    "        return 2. * mx.nd.sum(intersection) / (mx.nd.sum(x) + mx.nd.sum(y))"
   ]
  },
  {
   "cell_type": "code",
   "execution_count": 3,
   "metadata": {},
   "outputs": [],
   "source": [
    "def visdom_visualize_batch(vis, img, extent, boundary, distance,\n",
    "                           extent_pred, boundary_pred, distance_pred,\n",
    "                           hsv, hsv_pred, mask, title=\"Train images\"):\n",
    "\n",
    "    img, extent, boundary, distance = img.asnumpy(), extent.asnumpy(), boundary.asnumpy(), distance.asnumpy()\n",
    "    extent_pred, boundary_pred = extent_pred.asnumpy(), boundary_pred.asnumpy()\n",
    "    distance_pred, hsv, hsv_pred = distance_pred.asnumpy(), hsv.asnumpy(), hsv_pred.asnumpy()\n",
    "    mask = mask.asnumpy()\n",
    "\n",
    "    # put everything in one window\n",
    "    batch_size, nchannels, nrows, ncols = img.shape\n",
    "    padding = 10\n",
    "    items = [img, hsv, hsv_pred, extent, extent_pred, \n",
    "             boundary, boundary_pred, distance, distance_pred,\n",
    "             mask]\n",
    "    result = np.zeros((3, len(items)*nrows + (len(items)-1)*padding, batch_size*ncols + (batch_size-1)*padding))\n",
    "\n",
    "    for j, item in enumerate(items):\n",
    "\n",
    "        if item.shape[1] == 1:\n",
    "            item = np.tile(item, (1,3,1,1)) * 255.\n",
    "\n",
    "        if j == 1 or j == 2: # convert HSV to RGB\n",
    "            item = np.moveaxis(item, 1, -1) * 255.\n",
    "            for i in range(batch_size):\n",
    "                item[i] = cv2.cvtColor(item[i].astype(np.uint8), cv2.COLOR_HSV2RGB)\n",
    "            item = np.moveaxis(item, -1, 1)\n",
    "            \n",
    "        for i in range(batch_size):\n",
    "            result[:, j*(nrows+padding):(j+1)*nrows+j*padding, i*(ncols+padding):(i+1)*ncols+i*padding] = item[i]\n",
    "    vis.images(result, nrow=1, win=title, opts={'title': title})\n"
   ]
  },
  {
   "cell_type": "code",
   "execution_count": 4,
   "metadata": {},
   "outputs": [],
   "source": [
    "def train_model(train_dataloader, model, tanimoto_dual, trainer, epoch, args):\n",
    "    \n",
    "    # initialize metrics\n",
    "    cumulative_loss = 0\n",
    "    accuracy = mx.metric.Accuracy()\n",
    "    f1 = mx.metric.F1()\n",
    "    mcc = mx.metric.MCC()\n",
    "    dice = mx.metric.CustomMetric(feval=dice_coef, name=\"Dice\")\n",
    "    if args['ctx_name'] == 'cpu':\n",
    "        ctx = mx.cpu()\n",
    "    else:\n",
    "        ctx = mx.gpu(args['gpu'])\n",
    "    \n",
    "    # training set\n",
    "    for batch_i, (img, extent, boundary, distance, hsv, mask) in enumerate(\n",
    "        tqdm(train_dataloader, desc='Training epoch {}'.format(epoch))):\n",
    "        \n",
    "        with autograd.record():\n",
    "\n",
    "            img = img.as_in_context(ctx)\n",
    "            extent = extent.as_in_context(ctx)\n",
    "            boundary = boundary.as_in_context(ctx)\n",
    "            distance = distance.as_in_context(ctx)\n",
    "            hsv = hsv.as_in_context(ctx)\n",
    "            mask = mask.as_in_context(ctx)\n",
    "            nonmask = mx.nd.ones(extent.shape).as_in_context(ctx)\n",
    "            \n",
    "            # logits, bound, dist, convc = model(img)\n",
    "            logits, bound, dist = model(img)\n",
    "            \n",
    "            # multi-task loss\n",
    "            # TODO: wrap this in a custom loss function / class\n",
    "            loss_extent = mx.nd.sum(tanimoto_dual(logits, extent, mask))\n",
    "            loss_boundary = mx.nd.sum(tanimoto_dual(bound, boundary, mask))\n",
    "            loss_distance = mx.nd.sum(tanimoto_dual(dist, distance, mask))\n",
    "\n",
    "            loss = 0.33 * (loss_extent + loss_boundary + loss_distance) # + loss_hsv)\n",
    "            \n",
    "        loss.backward()\n",
    "        trainer.step(args['batch_size'])\n",
    "        cumulative_loss += mx.nd.sum(loss).asscalar()\n",
    "        \n",
    "        logits_reshaped = logits.reshape((logits.shape[0], -1))\n",
    "        extent_reshaped = extent.reshape((extent.shape[0], -1))\n",
    "        mask_reshaped = mask.reshape((mask.shape[0], -1))\n",
    "        \n",
    "        nonmask_idx = mx.np.nonzero(mask_reshaped.as_np_ndarray())\n",
    "        nonmask_idx = mx.np.stack(nonmask_idx).as_nd_ndarray().as_in_context(ctx)\n",
    "        logits_masked = mx.nd.gather_nd(logits_reshaped, nonmask_idx)\n",
    "        extent_masked = mx.nd.gather_nd(extent_reshaped, nonmask_idx)\n",
    "\n",
    "        # accuracy\n",
    "        extent_predicted_classes = mx.nd.ceil(logits_masked - 0.5)\n",
    "        accuracy.update(extent_masked, extent_predicted_classes)\n",
    "        \n",
    "        # f1 score\n",
    "        probabilities = mx.nd.stack(1 - logits_masked, logits_masked, axis=1)\n",
    "        f1.update(extent_masked, probabilities)\n",
    "        \n",
    "        # MCC metric\n",
    "        mcc.update(extent_masked, probabilities)\n",
    "        \n",
    "        # Dice score\n",
    "        dice.update(extent_masked, extent_predicted_classes)\n",
    "        \n",
    "        # TEMPORARY to make visdom work\n",
    "        convc = hsv\n",
    "        if batch_i % args['visdom_every'] == 0:\n",
    "            visdom_visualize_batch(args['visdom'], img, extent, boundary, distance,\n",
    "                                   logits, bound, dist, hsv, convc, mask)\n",
    "\n",
    "    return cumulative_loss, accuracy, f1, mcc, dice"
   ]
  },
  {
   "cell_type": "code",
   "execution_count": 5,
   "metadata": {},
   "outputs": [],
   "source": [
    "def evaluate_model(val_dataloader, model, tanimoto_dual, epoch, args):\n",
    "    \n",
    "    # initialize metrics\n",
    "    cumulative_loss = 0\n",
    "    accuracy = mx.metric.Accuracy()\n",
    "    f1 = mx.metric.F1()\n",
    "    mcc = mx.metric.MCC()\n",
    "    dice = mx.metric.CustomMetric(feval=dice_coef, name=\"Dice\")\n",
    "    if args['ctx_name'] == 'cpu':\n",
    "        ctx = mx.cpu()\n",
    "    else:\n",
    "        ctx = mx.gpu(args['gpu'])\n",
    "    \n",
    "    # validation set\n",
    "    for batch_i, (img, extent, boundary, distance, hsv, mask) in enumerate(\n",
    "        tqdm(val_dataloader, desc='Validation epoch {}'.format(epoch))):\n",
    "\n",
    "        img = img.as_in_context(ctx)\n",
    "        extent = extent.as_in_context(ctx)\n",
    "        boundary = boundary.as_in_context(ctx)\n",
    "        distance = distance.as_in_context(ctx)\n",
    "        hsv = hsv.as_in_context(ctx)\n",
    "        mask = mask.as_in_context(ctx)\n",
    "        nonmask = mx.nd.ones(extent.shape).as_in_context(ctx)\n",
    "\n",
    "        # logits, bound, dist, convc = model(img)\n",
    "        logits, bound, dist = model(img)\n",
    "        \n",
    "        # multi-task loss\n",
    "        # TODO: wrap this in a custom loss function / class\n",
    "        loss_extent = mx.nd.sum(tanimoto_dual(logits, extent, mask))\n",
    "        loss_boundary = mx.nd.sum(tanimoto_dual(bound, boundary, mask))\n",
    "        loss_distance = mx.nd.sum(tanimoto_dual(dist, distance, mask))\n",
    "\n",
    "        loss = 0.33 * (loss_extent + loss_boundary + loss_distance) # + loss_hsv)\n",
    "        \n",
    "        # update metrics based on every batch\n",
    "        cumulative_loss += mx.nd.sum(loss).asscalar()\n",
    "        \n",
    "        # update metrics based on every batch\n",
    "        # mask out unlabeled pixels            \n",
    "        logits_reshaped = logits.reshape((logits.shape[0], -1))\n",
    "        extent_reshaped = extent.reshape((extent.shape[0], -1))\n",
    "        mask_reshaped = mask.reshape((mask.shape[0], -1))\n",
    "        \n",
    "        nonmask_idx = mx.np.nonzero(mask_reshaped.as_np_ndarray())\n",
    "        nonmask_idx = mx.np.stack(nonmask_idx).as_nd_ndarray().as_in_context(ctx)\n",
    "        logits_masked = mx.nd.gather_nd(logits_reshaped, nonmask_idx)\n",
    "        extent_masked = mx.nd.gather_nd(extent_reshaped, nonmask_idx)\n",
    "\n",
    "        # accuracy\n",
    "        extent_predicted_classes = mx.nd.ceil(logits_masked - 0.5)\n",
    "        accuracy.update(extent_masked, extent_predicted_classes)\n",
    "        \n",
    "        # f1 score\n",
    "        probabilities = mx.nd.stack(1 - logits_masked, logits_masked, axis=1)\n",
    "        f1.update(extent_masked, probabilities)\n",
    "        \n",
    "        # MCC metric\n",
    "        mcc.update(extent_masked, probabilities)\n",
    "        \n",
    "        # Dice score\n",
    "        dice.update(extent_masked, extent_predicted_classes)\n",
    "        \n",
    "        # TEMPORARY to make visdom work\n",
    "        convc = hsv\n",
    "        if batch_i % args['visdom_every'] == 0:\n",
    "            visdom_visualize_batch(args['visdom'], img, extent, boundary, distance,\n",
    "                                   logits, bound, dist, hsv, convc, mask, title=\"Val images\")\n",
    "        \n",
    "    return cumulative_loss, accuracy, f1, mcc, dice"
   ]
  },
  {
   "cell_type": "markdown",
   "metadata": {},
   "source": [
    "# Africa datasets"
   ]
  },
  {
   "cell_type": "code",
   "execution_count": 6,
   "metadata": {},
   "outputs": [],
   "source": [
    "def run_africa(country, train_names, val_names, test_names, \n",
    "               train_names_label, val_names_label, test_names_label,\n",
    "               trained_model=None, month='Airbus',\n",
    "               epochs=100, lr=0.001, lr_decay=None, n_filters=16, batch_size=8,\n",
    "               model_type='fractal-resunet', depth=5, n_classes=1, \n",
    "               codes_to_keep=[1, 2],\n",
    "               folder_suffix='',\n",
    "               boundary_kernel_size=3,\n",
    "               ctx_name='cpu',\n",
    "               gpu_id=0):\n",
    "    \n",
    "    # Set MXNet ctx\n",
    "    if ctx_name == 'cpu':\n",
    "        ctx = mx.cpu()\n",
    "    elif ctx_name == 'gpu':\n",
    "        ctx = mx.gpu(gpu_id)\n",
    "    \n",
    "    # Set up names of directories and paths for saving\n",
    "    if trained_model is None:\n",
    "        folder_name = model_type+'_'+month+'_nfilter-'+str(n_filters)+'_depth-'+str(depth)+ \\\n",
    "                      '_bs-'+str(batch_size)+'_lr-'+str(lr)+folder_suffix\n",
    "        if lr_decay:\n",
    "            folder_name = folder_name + '_lrdecay-'+str(lr_decay)\n",
    "            \n",
    "        # define model\n",
    "        if model_type == 'resunet-d6':\n",
    "            model = ResUNet_d6(_nfilters_init=n_filters, _NClasses=n_classes)\n",
    "        elif model_type == 'resunet-d7':\n",
    "            model = ResUNet_d7(_nfilters_init=n_filters, _NClasses=n_classes)\n",
    "        elif model_type == 'fractal-resunet':\n",
    "            model = FracTAL_ResUNet_cmtsk(nfilters_init=n_filters, depth=depth, NClasses=n_classes)\n",
    "        model.initialize()\n",
    "        model.hybridize()\n",
    "        model.collect_params().reset_ctx(ctx)\n",
    "        \n",
    "    else:\n",
    "        folder_name = model_type+'_'+month+'_nfilter-'+str(n_filters)+'_depth-'+str(depth)+ \\\n",
    "                      '_bs-'+str(batch_size)+'_lr-'+str(lr)+folder_suffix\n",
    "        if model_type == 'resunet-d6':\n",
    "            model = ResUNet_d6(_nfilters_init=n_filters, _NClasses=n_classes)\n",
    "        elif model_type == 'resunet-d7':\n",
    "            model = ResUNet_d7(_nfilters_init=n_filters, _NClasses=n_classes)\n",
    "        elif model_type == 'fractal-resunet':\n",
    "            model = FracTAL_ResUNet_cmtsk(nfilters_init=n_filters, depth=depth, NClasses=n_classes)\n",
    "        model.load_parameters(trained_model, ctx=ctx)\n",
    "        \n",
    "    save_path = os.path.join('../experiments/', country, folder_name)\n",
    "    if not os.path.isdir(save_path):\n",
    "        os.makedirs(save_path)\n",
    "    save_model_name = os.path.join(save_path, \"model.params\")\n",
    "    \n",
    "    # Visdom\n",
    "    env_name = country + '_' + folder_name\n",
    "    vis = visdom.Visdom(port=8097, env=env_name)\n",
    "    \n",
    "    # Arguments\n",
    "    args = {}\n",
    "    args['batch_size'] = batch_size\n",
    "    args['ctx_name'] = ctx_name\n",
    "    args['gpu'] = gpu_id\n",
    "    args['visdom'] = vis\n",
    "    args['visdom_every'] = 20\n",
    "\n",
    "    # Define train/val/test splits\n",
    "    train_dataset = AirbusMasked(\n",
    "        fold='train', \n",
    "        image_names=train_names, \n",
    "        label_names=train_names_label, \n",
    "        classes=codes_to_keep,\n",
    "        boundary_kernel_size=boundary_kernel_size)\n",
    "    val_dataset = AirbusMasked(\n",
    "        fold='val', \n",
    "        image_names=val_names, \n",
    "        label_names=val_names_label, \n",
    "        classes=codes_to_keep,\n",
    "        boundary_kernel_size=boundary_kernel_size)\n",
    "    test_dataset = AirbusMasked(\n",
    "        fold='test', \n",
    "        image_names=test_names, \n",
    "        label_names=test_names_label, \n",
    "        classes=codes_to_keep,\n",
    "        boundary_kernel_size=boundary_kernel_size)\n",
    "\n",
    "    train_dataloader = gluon.data.DataLoader(train_dataset, batch_size=batch_size, shuffle=True)\n",
    "    val_dataloader = gluon.data.DataLoader(val_dataset, batch_size=batch_size)\n",
    "    test_dataloader = gluon.data.DataLoader(test_dataset, batch_size=batch_size)\n",
    "\n",
    "    # define loss function\n",
    "    tanimoto_dual = ftnmt_loss_masked(depth=0) # Tanimoto_with_dual_masked()\n",
    "    if lr_decay:\n",
    "        schedule = mx.lr_scheduler.FactorScheduler(step=1, factor=lr_decay)\n",
    "        adam_optimizer = mx.optimizer.Adam(learning_rate=lr, lr_scheduler=schedule)\n",
    "    else:\n",
    "        adam_optimizer = mx.optimizer.Adam(learning_rate=lr)\n",
    "    trainer = gluon.Trainer(model.collect_params(), optimizer=adam_optimizer)\n",
    "\n",
    "    # containers for metrics to log\n",
    "    train_metrics = {'train_loss': [], 'train_acc': [], 'train_f1': [], \n",
    "                     'train_mcc': [], 'train_dice': []}\n",
    "    val_metrics = {'val_loss': [], 'val_acc': [], 'val_f1': [], \n",
    "                   'val_mcc': [], 'val_dice': []}\n",
    "    best_mcc = 0.0\n",
    "\n",
    "    # training loop\n",
    "    for epoch in range(1, epochs+1):\n",
    "\n",
    "        # training set\n",
    "        train_loss, train_accuracy, train_f1, train_mcc, train_dice = train_model(\n",
    "            train_dataloader, model, tanimoto_dual, trainer, epoch, args)\n",
    "\n",
    "        # training set metrics\n",
    "        train_loss_avg = train_loss / len(train_dataset)\n",
    "        train_metrics['train_loss'].append(train_loss_avg)\n",
    "        train_metrics['train_acc'].append(train_accuracy.get()[1])\n",
    "        train_metrics['train_f1'].append(train_f1.get()[1])\n",
    "        train_metrics['train_mcc'].append(train_mcc.get()[1])\n",
    "        train_metrics['train_dice'].append(train_dice.get()[1])\n",
    "\n",
    "        # validation set\n",
    "        val_loss, val_accuracy, val_f1, val_mcc, val_dice = evaluate_model(\n",
    "            val_dataloader, model, tanimoto_dual, epoch, args)\n",
    "\n",
    "        # validation set metrics\n",
    "        val_loss_avg = val_loss / len(val_dataset)\n",
    "        val_metrics['val_loss'].append(val_loss_avg)\n",
    "        val_metrics['val_acc'].append(val_accuracy.get()[1])\n",
    "        val_metrics['val_f1'].append(val_f1.get()[1])\n",
    "        val_metrics['val_mcc'].append(val_mcc.get()[1])\n",
    "        val_metrics['val_dice'].append(val_dice.get()[1])\n",
    "\n",
    "        print(\"Epoch {}:\".format(epoch))\n",
    "        print(\"    Train loss {:0.3f}, accuracy {:0.3f}, F1-score {:0.3f}, MCC: {:0.3f}, Dice: {:0.3f}\".format(\n",
    "            train_loss_avg, train_accuracy.get()[1], train_f1.get()[1], train_mcc.get()[1], train_dice.get()[1]))\n",
    "        print(\"    Val loss {:0.3f}, accuracy {:0.3f}, F1-score {:0.3f}, MCC: {:0.3f}, Dice: {:0.3f}\".format(\n",
    "            val_loss_avg, val_accuracy.get()[1], val_f1.get()[1], val_mcc.get()[1], val_dice.get()[1]))\n",
    "\n",
    "        # save model based on best MCC metric\n",
    "        if val_mcc.get()[1] > best_mcc:\n",
    "            model.save_parameters(save_model_name)\n",
    "            best_mcc = val_mcc.get()[1]\n",
    "\n",
    "        # save metrics\n",
    "        metrics = pd.concat([pd.DataFrame(train_metrics), pd.DataFrame(val_metrics)], axis=1)\n",
    "        metrics.to_csv(os.path.join(save_path, 'metrics.csv'), index=False)\n",
    "\n",
    "        # visdom\n",
    "        vis.line(Y=np.stack([train_metrics['train_loss'], val_metrics['val_loss']], axis=1), \n",
    "                 X=np.arange(1, epoch+1), win=\"Loss\", \n",
    "                 opts=dict(legend=['train loss', 'val loss'], markers=False, title=\"Losses\",\n",
    "                           xlabel=\"Epoch\", ylabel=\"Loss\")\n",
    "                )\n",
    "        vis.line(Y=np.stack([train_metrics['train_mcc'], val_metrics['val_mcc']], axis=1), \n",
    "                 X=np.arange(1, epoch+1), win=\"MCC\", \n",
    "                 opts=dict(legend=['train MCC', 'val MCC'], markers=False, title=\"MCC\",\n",
    "                           xlabel=\"Epoch\", ylabel=\"MCC\")\n",
    "                )\n"
   ]
  },
  {
   "cell_type": "code",
   "execution_count": 7,
   "metadata": {
    "scrolled": true
   },
   "outputs": [
    {
     "name": "stdout",
     "output_type": "stream",
     "text": [
      "depth:= 0, nfilters: 32, nheads::8, widths::1\n",
      "depth:= 1, nfilters: 64, nheads::16, widths::1\n",
      "depth:= 2, nfilters: 128, nheads::32, widths::1\n",
      "depth:= 3, nfilters: 256, nheads::64, widths::1\n",
      "depth:= 4, nfilters: 512, nheads::128, widths::1\n",
      "depth:= 5, nfilters: 1024, nheads::256, widths::1\n",
      "depth:= 6, nfilters: 512, nheads::256, widths::1\n",
      "depth:= 7, nfilters: 256, nheads::128, widths::1\n",
      "depth:= 8, nfilters: 128, nheads::64, widths::1\n",
      "depth:= 9, nfilters: 64, nheads::32, widths::1\n",
      "depth:= 10, nfilters: 32, nheads::16, widths::1\n"
     ]
    },
    {
     "name": "stderr",
     "output_type": "stream",
     "text": [
      "Setting up a new session...\n",
      "Training epoch 1: 100%|██████████| 128/128 [02:43<00:00,  1.27s/it]\n",
      "Validation epoch 1: 100%|██████████| 31/31 [00:17<00:00,  1.74it/s]\n"
     ]
    },
    {
     "name": "stdout",
     "output_type": "stream",
     "text": [
      "Epoch 1:\n",
      "    Train loss 0.246, accuracy 0.917, F1-score 0.951, MCC: 0.489, Dice: 0.951\n",
      "    Val loss 0.247, accuracy 0.915, F1-score 0.952, MCC: 0.465, Dice: 0.952\n"
     ]
    },
    {
     "name": "stderr",
     "output_type": "stream",
     "text": [
      "Training epoch 2: 100%|██████████| 128/128 [02:44<00:00,  1.28s/it]\n",
      "Validation epoch 2: 100%|██████████| 31/31 [00:19<00:00,  1.59it/s]\n"
     ]
    },
    {
     "name": "stdout",
     "output_type": "stream",
     "text": [
      "Epoch 2:\n",
      "    Train loss 0.244, accuracy 0.917, F1-score 0.951, MCC: 0.487, Dice: 0.951\n",
      "    Val loss 0.235, accuracy 0.917, F1-score 0.954, MCC: 0.481, Dice: 0.954\n"
     ]
    },
    {
     "name": "stderr",
     "output_type": "stream",
     "text": [
      "Training epoch 3: 100%|██████████| 128/128 [02:52<00:00,  1.35s/it]\n",
      "Validation epoch 3: 100%|██████████| 31/31 [00:20<00:00,  1.51it/s]\n",
      "Training epoch 4:   0%|          | 0/128 [00:00<?, ?it/s]"
     ]
    },
    {
     "name": "stdout",
     "output_type": "stream",
     "text": [
      "Epoch 3:\n",
      "    Train loss 0.243, accuracy 0.917, F1-score 0.951, MCC: 0.488, Dice: 0.951\n",
      "    Val loss 0.232, accuracy 0.926, F1-score 0.960, MCC: 0.481, Dice: 0.960\n"
     ]
    },
    {
     "name": "stderr",
     "output_type": "stream",
     "text": [
      "Training epoch 4: 100%|██████████| 128/128 [02:52<00:00,  1.35s/it]\n",
      "Validation epoch 4: 100%|██████████| 31/31 [00:18<00:00,  1.65it/s]\n"
     ]
    },
    {
     "name": "stdout",
     "output_type": "stream",
     "text": [
      "Epoch 4:\n",
      "    Train loss 0.243, accuracy 0.918, F1-score 0.952, MCC: 0.492, Dice: 0.952\n",
      "    Val loss 0.234, accuracy 0.925, F1-score 0.958, MCC: 0.487, Dice: 0.958\n"
     ]
    },
    {
     "name": "stderr",
     "output_type": "stream",
     "text": [
      "Training epoch 5: 100%|██████████| 128/128 [02:55<00:00,  1.37s/it]\n",
      "Validation epoch 5: 100%|██████████| 31/31 [00:19<00:00,  1.60it/s]\n",
      "Training epoch 6:   0%|          | 0/128 [00:00<?, ?it/s]"
     ]
    },
    {
     "name": "stdout",
     "output_type": "stream",
     "text": [
      "Epoch 5:\n",
      "    Train loss 0.242, accuracy 0.917, F1-score 0.951, MCC: 0.485, Dice: 0.951\n",
      "    Val loss 0.242, accuracy 0.927, F1-score 0.960, MCC: 0.445, Dice: 0.960\n"
     ]
    },
    {
     "name": "stderr",
     "output_type": "stream",
     "text": [
      "Training epoch 6: 100%|██████████| 128/128 [02:55<00:00,  1.37s/it]\n",
      "Validation epoch 6: 100%|██████████| 31/31 [00:20<00:00,  1.54it/s]\n"
     ]
    },
    {
     "name": "stdout",
     "output_type": "stream",
     "text": [
      "Epoch 6:\n",
      "    Train loss 0.244, accuracy 0.918, F1-score 0.951, MCC: 0.490, Dice: 0.951\n",
      "    Val loss 0.230, accuracy 0.927, F1-score 0.960, MCC: 0.489, Dice: 0.960\n"
     ]
    },
    {
     "name": "stderr",
     "output_type": "stream",
     "text": [
      "Training epoch 7: 100%|██████████| 128/128 [02:54<00:00,  1.36s/it]\n",
      "Validation epoch 7: 100%|██████████| 31/31 [00:19<00:00,  1.59it/s]\n"
     ]
    },
    {
     "name": "stdout",
     "output_type": "stream",
     "text": [
      "Epoch 7:\n",
      "    Train loss 0.242, accuracy 0.917, F1-score 0.950, MCC: 0.489, Dice: 0.950\n",
      "    Val loss 0.231, accuracy 0.922, F1-score 0.956, MCC: 0.491, Dice: 0.956\n"
     ]
    },
    {
     "name": "stderr",
     "output_type": "stream",
     "text": [
      "Training epoch 8: 100%|██████████| 128/128 [02:52<00:00,  1.35s/it]\n",
      "Validation epoch 8: 100%|██████████| 31/31 [00:20<00:00,  1.54it/s]\n"
     ]
    },
    {
     "name": "stdout",
     "output_type": "stream",
     "text": [
      "Epoch 8:\n",
      "    Train loss 0.242, accuracy 0.917, F1-score 0.951, MCC: 0.492, Dice: 0.951\n",
      "    Val loss 0.234, accuracy 0.930, F1-score 0.961, MCC: 0.494, Dice: 0.961\n"
     ]
    },
    {
     "name": "stderr",
     "output_type": "stream",
     "text": [
      "Training epoch 9: 100%|██████████| 128/128 [02:50<00:00,  1.33s/it]\n",
      "Validation epoch 9: 100%|██████████| 31/31 [00:19<00:00,  1.59it/s]\n",
      "Training epoch 10:   0%|          | 0/128 [00:00<?, ?it/s]"
     ]
    },
    {
     "name": "stdout",
     "output_type": "stream",
     "text": [
      "Epoch 9:\n",
      "    Train loss 0.242, accuracy 0.918, F1-score 0.952, MCC: 0.491, Dice: 0.952\n",
      "    Val loss 0.246, accuracy 0.920, F1-score 0.956, MCC: 0.451, Dice: 0.956\n"
     ]
    },
    {
     "name": "stderr",
     "output_type": "stream",
     "text": [
      "Training epoch 10: 100%|██████████| 128/128 [02:50<00:00,  1.33s/it]\n",
      "Validation epoch 10: 100%|██████████| 31/31 [00:20<00:00,  1.51it/s]\n",
      "Training epoch 11:   0%|          | 0/128 [00:00<?, ?it/s]"
     ]
    },
    {
     "name": "stdout",
     "output_type": "stream",
     "text": [
      "Epoch 10:\n",
      "    Train loss 0.241, accuracy 0.919, F1-score 0.952, MCC: 0.495, Dice: 0.952\n",
      "    Val loss 0.229, accuracy 0.928, F1-score 0.960, MCC: 0.491, Dice: 0.960\n"
     ]
    },
    {
     "name": "stderr",
     "output_type": "stream",
     "text": [
      "Training epoch 12: 100%|██████████| 128/128 [02:50<00:00,  1.33s/it]\n",
      "Validation epoch 12: 100%|██████████| 31/31 [00:19<00:00,  1.57it/s]\n"
     ]
    },
    {
     "name": "stdout",
     "output_type": "stream",
     "text": [
      "Epoch 12:\n",
      "    Train loss 0.241, accuracy 0.917, F1-score 0.951, MCC: 0.491, Dice: 0.951\n",
      "    Val loss 0.233, accuracy 0.923, F1-score 0.958, MCC: 0.499, Dice: 0.958\n"
     ]
    },
    {
     "name": "stderr",
     "output_type": "stream",
     "text": [
      "Training epoch 13: 100%|██████████| 128/128 [02:53<00:00,  1.36s/it]\n",
      "Validation epoch 13: 100%|██████████| 31/31 [00:19<00:00,  1.56it/s]\n",
      "Training epoch 14:   0%|          | 0/128 [00:00<?, ?it/s]"
     ]
    },
    {
     "name": "stdout",
     "output_type": "stream",
     "text": [
      "Epoch 13:\n",
      "    Train loss 0.240, accuracy 0.918, F1-score 0.952, MCC: 0.486, Dice: 0.952\n",
      "    Val loss 0.234, accuracy 0.923, F1-score 0.957, MCC: 0.493, Dice: 0.957\n"
     ]
    },
    {
     "name": "stderr",
     "output_type": "stream",
     "text": [
      "Training epoch 14: 100%|██████████| 128/128 [02:48<00:00,  1.32s/it]\n",
      "Validation epoch 14: 100%|██████████| 31/31 [00:19<00:00,  1.60it/s]\n",
      "Training epoch 15:   0%|          | 0/128 [00:00<?, ?it/s]"
     ]
    },
    {
     "name": "stdout",
     "output_type": "stream",
     "text": [
      "Epoch 14:\n",
      "    Train loss 0.238, accuracy 0.919, F1-score 0.952, MCC: 0.494, Dice: 0.952\n",
      "    Val loss 0.231, accuracy 0.929, F1-score 0.961, MCC: 0.493, Dice: 0.961\n"
     ]
    },
    {
     "name": "stderr",
     "output_type": "stream",
     "text": [
      "Training epoch 15: 100%|██████████| 128/128 [02:52<00:00,  1.35s/it]\n",
      "Validation epoch 15: 100%|██████████| 31/31 [00:19<00:00,  1.61it/s]\n",
      "Training epoch 16:   0%|          | 0/128 [00:00<?, ?it/s]"
     ]
    },
    {
     "name": "stdout",
     "output_type": "stream",
     "text": [
      "Epoch 15:\n",
      "    Train loss 0.240, accuracy 0.919, F1-score 0.952, MCC: 0.494, Dice: 0.952\n",
      "    Val loss 0.235, accuracy 0.925, F1-score 0.959, MCC: 0.497, Dice: 0.959\n"
     ]
    },
    {
     "name": "stderr",
     "output_type": "stream",
     "text": [
      "Training epoch 16: 100%|██████████| 128/128 [02:55<00:00,  1.37s/it]\n",
      "Validation epoch 16: 100%|██████████| 31/31 [00:19<00:00,  1.62it/s]\n",
      "Training epoch 17:   0%|          | 0/128 [00:00<?, ?it/s]"
     ]
    },
    {
     "name": "stdout",
     "output_type": "stream",
     "text": [
      "Epoch 16:\n",
      "    Train loss 0.240, accuracy 0.918, F1-score 0.952, MCC: 0.491, Dice: 0.952\n",
      "    Val loss 0.235, accuracy 0.926, F1-score 0.959, MCC: 0.484, Dice: 0.959\n"
     ]
    },
    {
     "name": "stderr",
     "output_type": "stream",
     "text": [
      "Training epoch 17: 100%|██████████| 128/128 [02:50<00:00,  1.33s/it]\n",
      "Validation epoch 17: 100%|██████████| 31/31 [00:20<00:00,  1.51it/s]\n",
      "Training epoch 18:   0%|          | 0/128 [00:00<?, ?it/s]"
     ]
    },
    {
     "name": "stdout",
     "output_type": "stream",
     "text": [
      "Epoch 17:\n",
      "    Train loss 0.239, accuracy 0.919, F1-score 0.952, MCC: 0.489, Dice: 0.952\n",
      "    Val loss 0.242, accuracy 0.927, F1-score 0.959, MCC: 0.433, Dice: 0.959\n"
     ]
    },
    {
     "name": "stderr",
     "output_type": "stream",
     "text": [
      "Training epoch 18: 100%|██████████| 128/128 [02:47<00:00,  1.31s/it]\n",
      "Validation epoch 18: 100%|██████████| 31/31 [00:20<00:00,  1.53it/s]\n",
      "Training epoch 19:   0%|          | 0/128 [00:00<?, ?it/s]"
     ]
    },
    {
     "name": "stdout",
     "output_type": "stream",
     "text": [
      "Epoch 18:\n",
      "    Train loss 0.238, accuracy 0.919, F1-score 0.952, MCC: 0.497, Dice: 0.952\n",
      "    Val loss 0.239, accuracy 0.925, F1-score 0.959, MCC: 0.463, Dice: 0.959\n"
     ]
    },
    {
     "name": "stderr",
     "output_type": "stream",
     "text": [
      "Training epoch 19: 100%|██████████| 128/128 [02:51<00:00,  1.34s/it]\n",
      "Validation epoch 19: 100%|██████████| 31/31 [00:19<00:00,  1.55it/s]\n",
      "Training epoch 20:   0%|          | 0/128 [00:00<?, ?it/s]"
     ]
    },
    {
     "name": "stdout",
     "output_type": "stream",
     "text": [
      "Epoch 19:\n",
      "    Train loss 0.241, accuracy 0.919, F1-score 0.951, MCC: 0.489, Dice: 0.951\n",
      "    Val loss 0.238, accuracy 0.920, F1-score 0.954, MCC: 0.480, Dice: 0.954\n"
     ]
    },
    {
     "name": "stderr",
     "output_type": "stream",
     "text": [
      "Training epoch 20: 100%|██████████| 128/128 [02:52<00:00,  1.34s/it]\n",
      "Validation epoch 20: 100%|██████████| 31/31 [00:20<00:00,  1.53it/s]\n",
      "Training epoch 21:   0%|          | 0/128 [00:00<?, ?it/s]"
     ]
    },
    {
     "name": "stdout",
     "output_type": "stream",
     "text": [
      "Epoch 20:\n",
      "    Train loss 0.238, accuracy 0.919, F1-score 0.952, MCC: 0.493, Dice: 0.952\n",
      "    Val loss 0.246, accuracy 0.926, F1-score 0.960, MCC: 0.404, Dice: 0.960\n"
     ]
    },
    {
     "name": "stderr",
     "output_type": "stream",
     "text": [
      "Training epoch 21: 100%|██████████| 128/128 [02:52<00:00,  1.35s/it]\n",
      "Validation epoch 21: 100%|██████████| 31/31 [00:19<00:00,  1.58it/s]\n",
      "Training epoch 22:   0%|          | 0/128 [00:00<?, ?it/s]"
     ]
    },
    {
     "name": "stdout",
     "output_type": "stream",
     "text": [
      "Epoch 21:\n",
      "    Train loss 0.238, accuracy 0.919, F1-score 0.952, MCC: 0.497, Dice: 0.952\n",
      "    Val loss 0.234, accuracy 0.925, F1-score 0.958, MCC: 0.476, Dice: 0.958\n"
     ]
    },
    {
     "name": "stderr",
     "output_type": "stream",
     "text": [
      "Training epoch 22: 100%|██████████| 128/128 [02:43<00:00,  1.27s/it]\n",
      "Validation epoch 22: 100%|██████████| 31/31 [00:17<00:00,  1.75it/s]\n",
      "Training epoch 23:   0%|          | 0/128 [00:00<?, ?it/s]"
     ]
    },
    {
     "name": "stdout",
     "output_type": "stream",
     "text": [
      "Epoch 22:\n",
      "    Train loss 0.237, accuracy 0.920, F1-score 0.953, MCC: 0.500, Dice: 0.953\n",
      "    Val loss 0.230, accuracy 0.923, F1-score 0.957, MCC: 0.489, Dice: 0.957\n"
     ]
    },
    {
     "name": "stderr",
     "output_type": "stream",
     "text": [
      "Training epoch 23: 100%|██████████| 128/128 [02:30<00:00,  1.17s/it]\n",
      "Validation epoch 23: 100%|██████████| 31/31 [00:17<00:00,  1.72it/s]\n",
      "Training epoch 24:   0%|          | 0/128 [00:00<?, ?it/s]"
     ]
    },
    {
     "name": "stdout",
     "output_type": "stream",
     "text": [
      "Epoch 23:\n",
      "    Train loss 0.240, accuracy 0.919, F1-score 0.952, MCC: 0.492, Dice: 0.952\n",
      "    Val loss 0.240, accuracy 0.925, F1-score 0.959, MCC: 0.480, Dice: 0.959\n"
     ]
    },
    {
     "name": "stderr",
     "output_type": "stream",
     "text": [
      "Training epoch 24: 100%|██████████| 128/128 [02:29<00:00,  1.16s/it]\n",
      "Validation epoch 24: 100%|██████████| 31/31 [00:17<00:00,  1.81it/s]\n",
      "Training epoch 25:   0%|          | 0/128 [00:00<?, ?it/s]"
     ]
    },
    {
     "name": "stdout",
     "output_type": "stream",
     "text": [
      "Epoch 24:\n",
      "    Train loss 0.237, accuracy 0.919, F1-score 0.952, MCC: 0.502, Dice: 0.952\n",
      "    Val loss 0.237, accuracy 0.921, F1-score 0.956, MCC: 0.475, Dice: 0.956\n"
     ]
    },
    {
     "name": "stderr",
     "output_type": "stream",
     "text": [
      "Training epoch 25: 100%|██████████| 128/128 [02:30<00:00,  1.18s/it]\n",
      "Validation epoch 25: 100%|██████████| 31/31 [00:17<00:00,  1.80it/s]\n",
      "Training epoch 26:   0%|          | 0/128 [00:00<?, ?it/s]"
     ]
    },
    {
     "name": "stdout",
     "output_type": "stream",
     "text": [
      "Epoch 25:\n",
      "    Train loss 0.237, accuracy 0.919, F1-score 0.953, MCC: 0.499, Dice: 0.953\n",
      "    Val loss 0.233, accuracy 0.923, F1-score 0.957, MCC: 0.489, Dice: 0.957\n"
     ]
    },
    {
     "name": "stderr",
     "output_type": "stream",
     "text": [
      "Training epoch 26: 100%|██████████| 128/128 [02:30<00:00,  1.17s/it]\n",
      "Validation epoch 26: 100%|██████████| 31/31 [00:17<00:00,  1.76it/s]\n",
      "Training epoch 27:   0%|          | 0/128 [00:00<?, ?it/s]"
     ]
    },
    {
     "name": "stdout",
     "output_type": "stream",
     "text": [
      "Epoch 26:\n",
      "    Train loss 0.240, accuracy 0.920, F1-score 0.953, MCC: 0.498, Dice: 0.953\n",
      "    Val loss 0.236, accuracy 0.927, F1-score 0.960, MCC: 0.486, Dice: 0.960\n"
     ]
    },
    {
     "name": "stderr",
     "output_type": "stream",
     "text": [
      "Training epoch 27: 100%|██████████| 128/128 [02:33<00:00,  1.20s/it]\n",
      "Validation epoch 27: 100%|██████████| 31/31 [00:17<00:00,  1.80it/s]\n",
      "Training epoch 28:   0%|          | 0/128 [00:00<?, ?it/s]"
     ]
    },
    {
     "name": "stdout",
     "output_type": "stream",
     "text": [
      "Epoch 27:\n",
      "    Train loss 0.237, accuracy 0.920, F1-score 0.953, MCC: 0.499, Dice: 0.953\n",
      "    Val loss 0.238, accuracy 0.921, F1-score 0.957, MCC: 0.459, Dice: 0.957\n"
     ]
    },
    {
     "name": "stderr",
     "output_type": "stream",
     "text": [
      "Training epoch 28: 100%|██████████| 128/128 [02:29<00:00,  1.17s/it]\n",
      "Validation epoch 28: 100%|██████████| 31/31 [00:17<00:00,  1.73it/s]\n",
      "Training epoch 29:   0%|          | 0/128 [00:00<?, ?it/s]"
     ]
    },
    {
     "name": "stdout",
     "output_type": "stream",
     "text": [
      "Epoch 28:\n",
      "    Train loss 0.237, accuracy 0.919, F1-score 0.952, MCC: 0.498, Dice: 0.952\n",
      "    Val loss 0.228, accuracy 0.927, F1-score 0.960, MCC: 0.495, Dice: 0.960\n"
     ]
    },
    {
     "name": "stderr",
     "output_type": "stream",
     "text": [
      "Training epoch 29: 100%|██████████| 128/128 [02:29<00:00,  1.16s/it]\n",
      "Validation epoch 29: 100%|██████████| 31/31 [00:17<00:00,  1.75it/s]\n",
      "Training epoch 30:   0%|          | 0/128 [00:00<?, ?it/s]"
     ]
    },
    {
     "name": "stdout",
     "output_type": "stream",
     "text": [
      "Epoch 29:\n",
      "    Train loss 0.237, accuracy 0.920, F1-score 0.953, MCC: 0.497, Dice: 0.953\n",
      "    Val loss 0.231, accuracy 0.927, F1-score 0.959, MCC: 0.490, Dice: 0.959\n"
     ]
    },
    {
     "name": "stderr",
     "output_type": "stream",
     "text": [
      "Training epoch 30: 100%|██████████| 128/128 [02:31<00:00,  1.18s/it]\n",
      "Validation epoch 30: 100%|██████████| 31/31 [00:17<00:00,  1.78it/s]\n",
      "Training epoch 31:   0%|          | 0/128 [00:00<?, ?it/s]"
     ]
    },
    {
     "name": "stdout",
     "output_type": "stream",
     "text": [
      "Epoch 30:\n",
      "    Train loss 0.238, accuracy 0.921, F1-score 0.953, MCC: 0.498, Dice: 0.953\n",
      "    Val loss 0.231, accuracy 0.922, F1-score 0.957, MCC: 0.494, Dice: 0.957\n"
     ]
    },
    {
     "name": "stderr",
     "output_type": "stream",
     "text": [
      "Training epoch 31: 100%|██████████| 128/128 [02:32<00:00,  1.19s/it]\n",
      "Validation epoch 31: 100%|██████████| 31/31 [00:18<00:00,  1.71it/s]\n",
      "Training epoch 32:   0%|          | 0/128 [00:00<?, ?it/s]"
     ]
    },
    {
     "name": "stdout",
     "output_type": "stream",
     "text": [
      "Epoch 31:\n",
      "    Train loss 0.239, accuracy 0.919, F1-score 0.953, MCC: 0.500, Dice: 0.953\n",
      "    Val loss 0.251, accuracy 0.931, F1-score 0.963, MCC: 0.408, Dice: 0.963\n"
     ]
    },
    {
     "name": "stderr",
     "output_type": "stream",
     "text": [
      "Training epoch 32:  88%|████████▊ | 112/128 [02:13<00:16,  1.05s/it]IOPub message rate exceeded.\n",
      "The notebook server will temporarily stop sending output\n",
      "to the client in order to avoid crashing it.\n",
      "To change this limit, set the config variable\n",
      "`--NotebookApp.iopub_msg_rate_limit`.\n",
      "\n",
      "Current values:\n",
      "NotebookApp.iopub_msg_rate_limit=1000.0 (msgs/sec)\n",
      "NotebookApp.rate_limit_window=3.0 (secs)\n",
      "\n",
      "Training epoch 35: 100%|██████████| 128/128 [02:31<00:00,  1.19s/it]\n",
      "Validation epoch 35: 100%|██████████| 31/31 [00:17<00:00,  1.74it/s]\n",
      "Training epoch 36:   0%|          | 0/128 [00:00<?, ?it/s]"
     ]
    },
    {
     "name": "stdout",
     "output_type": "stream",
     "text": [
      "Epoch 35:\n",
      "    Train loss 0.235, accuracy 0.919, F1-score 0.953, MCC: 0.500, Dice: 0.953\n",
      "    Val loss 0.227, accuracy 0.926, F1-score 0.959, MCC: 0.492, Dice: 0.959\n"
     ]
    },
    {
     "name": "stderr",
     "output_type": "stream",
     "text": [
      "Training epoch 36: 100%|██████████| 128/128 [02:28<00:00,  1.16s/it]\n",
      "Validation epoch 36: 100%|██████████| 31/31 [00:17<00:00,  1.74it/s]\n",
      "Training epoch 37:   0%|          | 0/128 [00:00<?, ?it/s]"
     ]
    },
    {
     "name": "stdout",
     "output_type": "stream",
     "text": [
      "Epoch 36:\n",
      "    Train loss 0.235, accuracy 0.920, F1-score 0.953, MCC: 0.501, Dice: 0.953\n",
      "    Val loss 0.236, accuracy 0.928, F1-score 0.961, MCC: 0.462, Dice: 0.961\n"
     ]
    },
    {
     "name": "stderr",
     "output_type": "stream",
     "text": [
      "Training epoch 37: 100%|██████████| 128/128 [02:30<00:00,  1.17s/it]\n",
      "Validation epoch 37: 100%|██████████| 31/31 [00:17<00:00,  1.79it/s]\n",
      "Training epoch 38:   0%|          | 0/128 [00:00<?, ?it/s]"
     ]
    },
    {
     "name": "stdout",
     "output_type": "stream",
     "text": [
      "Epoch 37:\n",
      "    Train loss 0.236, accuracy 0.920, F1-score 0.953, MCC: 0.501, Dice: 0.953\n",
      "    Val loss 0.226, accuracy 0.921, F1-score 0.956, MCC: 0.501, Dice: 0.956\n"
     ]
    },
    {
     "name": "stderr",
     "output_type": "stream",
     "text": [
      "Training epoch 38: 100%|██████████| 128/128 [02:31<00:00,  1.19s/it]\n",
      "Validation epoch 38: 100%|██████████| 31/31 [00:17<00:00,  1.74it/s]\n",
      "Training epoch 39:   0%|          | 0/128 [00:00<?, ?it/s]"
     ]
    },
    {
     "name": "stdout",
     "output_type": "stream",
     "text": [
      "Epoch 38:\n",
      "    Train loss 0.236, accuracy 0.920, F1-score 0.953, MCC: 0.503, Dice: 0.953\n",
      "    Val loss 0.230, accuracy 0.921, F1-score 0.955, MCC: 0.504, Dice: 0.955\n"
     ]
    },
    {
     "name": "stderr",
     "output_type": "stream",
     "text": [
      "Training epoch 39: 100%|██████████| 128/128 [02:32<00:00,  1.19s/it]\n",
      "Validation epoch 39: 100%|██████████| 31/31 [00:17<00:00,  1.79it/s]\n",
      "Training epoch 40:   0%|          | 0/128 [00:00<?, ?it/s]"
     ]
    },
    {
     "name": "stdout",
     "output_type": "stream",
     "text": [
      "Epoch 39:\n",
      "    Train loss 0.235, accuracy 0.920, F1-score 0.953, MCC: 0.504, Dice: 0.953\n",
      "    Val loss 0.232, accuracy 0.927, F1-score 0.959, MCC: 0.499, Dice: 0.959\n"
     ]
    },
    {
     "name": "stderr",
     "output_type": "stream",
     "text": [
      "Training epoch 40: 100%|██████████| 128/128 [02:33<00:00,  1.20s/it]\n",
      "Validation epoch 40: 100%|██████████| 31/31 [00:18<00:00,  1.71it/s]\n",
      "Training epoch 41:   0%|          | 0/128 [00:00<?, ?it/s]"
     ]
    },
    {
     "name": "stdout",
     "output_type": "stream",
     "text": [
      "Epoch 40:\n",
      "    Train loss 0.233, accuracy 0.920, F1-score 0.954, MCC: 0.508, Dice: 0.954\n",
      "    Val loss 0.237, accuracy 0.921, F1-score 0.956, MCC: 0.470, Dice: 0.956\n"
     ]
    },
    {
     "name": "stderr",
     "output_type": "stream",
     "text": [
      "Training epoch 41: 100%|██████████| 128/128 [02:31<00:00,  1.18s/it]\n",
      "Validation epoch 41: 100%|██████████| 31/31 [00:17<00:00,  1.72it/s]\n",
      "Training epoch 42:   0%|          | 0/128 [00:00<?, ?it/s]"
     ]
    },
    {
     "name": "stdout",
     "output_type": "stream",
     "text": [
      "Epoch 41:\n",
      "    Train loss 0.236, accuracy 0.921, F1-score 0.953, MCC: 0.500, Dice: 0.953\n",
      "    Val loss 0.232, accuracy 0.917, F1-score 0.954, MCC: 0.497, Dice: 0.954\n"
     ]
    },
    {
     "name": "stderr",
     "output_type": "stream",
     "text": [
      "Training epoch 42: 100%|██████████| 128/128 [02:37<00:00,  1.23s/it]\n",
      "Validation epoch 42: 100%|██████████| 31/31 [00:17<00:00,  1.73it/s]\n",
      "Training epoch 43:   0%|          | 0/128 [00:00<?, ?it/s]"
     ]
    },
    {
     "name": "stdout",
     "output_type": "stream",
     "text": [
      "Epoch 42:\n",
      "    Train loss 0.233, accuracy 0.919, F1-score 0.952, MCC: 0.502, Dice: 0.952\n",
      "    Val loss 0.239, accuracy 0.930, F1-score 0.962, MCC: 0.454, Dice: 0.962\n"
     ]
    },
    {
     "name": "stderr",
     "output_type": "stream",
     "text": [
      "Training epoch 43: 100%|██████████| 128/128 [02:32<00:00,  1.19s/it]\n",
      "Validation epoch 43: 100%|██████████| 31/31 [00:17<00:00,  1.78it/s]\n",
      "Training epoch 44:   0%|          | 0/128 [00:00<?, ?it/s]"
     ]
    },
    {
     "name": "stdout",
     "output_type": "stream",
     "text": [
      "Epoch 43:\n",
      "    Train loss 0.235, accuracy 0.920, F1-score 0.953, MCC: 0.505, Dice: 0.953\n",
      "    Val loss 0.237, accuracy 0.932, F1-score 0.962, MCC: 0.460, Dice: 0.962\n"
     ]
    },
    {
     "name": "stderr",
     "output_type": "stream",
     "text": [
      "Training epoch 44: 100%|██████████| 128/128 [02:28<00:00,  1.16s/it]\n",
      "Validation epoch 44: 100%|██████████| 31/31 [00:17<00:00,  1.80it/s]\n",
      "Training epoch 45:   0%|          | 0/128 [00:00<?, ?it/s]"
     ]
    },
    {
     "name": "stdout",
     "output_type": "stream",
     "text": [
      "Epoch 44:\n",
      "    Train loss 0.234, accuracy 0.921, F1-score 0.953, MCC: 0.506, Dice: 0.953\n",
      "    Val loss 0.232, accuracy 0.932, F1-score 0.962, MCC: 0.493, Dice: 0.962\n"
     ]
    },
    {
     "name": "stderr",
     "output_type": "stream",
     "text": [
      "Training epoch 45: 100%|██████████| 128/128 [02:32<00:00,  1.19s/it]\n",
      "Validation epoch 45: 100%|██████████| 31/31 [00:17<00:00,  1.77it/s]\n",
      "Training epoch 46:   0%|          | 0/128 [00:00<?, ?it/s]"
     ]
    },
    {
     "name": "stdout",
     "output_type": "stream",
     "text": [
      "Epoch 45:\n",
      "    Train loss 0.233, accuracy 0.922, F1-score 0.954, MCC: 0.510, Dice: 0.954\n",
      "    Val loss 0.229, accuracy 0.925, F1-score 0.959, MCC: 0.506, Dice: 0.959\n"
     ]
    },
    {
     "name": "stderr",
     "output_type": "stream",
     "text": [
      "Training epoch 46: 100%|██████████| 128/128 [02:28<00:00,  1.16s/it]\n",
      "Validation epoch 46: 100%|██████████| 31/31 [00:18<00:00,  1.70it/s]\n",
      "Training epoch 47:   0%|          | 0/128 [00:00<?, ?it/s]"
     ]
    },
    {
     "name": "stdout",
     "output_type": "stream",
     "text": [
      "Epoch 46:\n",
      "    Train loss 0.233, accuracy 0.920, F1-score 0.954, MCC: 0.501, Dice: 0.954\n",
      "    Val loss 0.228, accuracy 0.921, F1-score 0.956, MCC: 0.505, Dice: 0.956\n"
     ]
    },
    {
     "name": "stderr",
     "output_type": "stream",
     "text": [
      "Training epoch 47: 100%|██████████| 128/128 [02:33<00:00,  1.20s/it]\n",
      "Validation epoch 47: 100%|██████████| 31/31 [00:17<00:00,  1.77it/s]\n",
      "Training epoch 48:   0%|          | 0/128 [00:00<?, ?it/s]"
     ]
    },
    {
     "name": "stdout",
     "output_type": "stream",
     "text": [
      "Epoch 47:\n",
      "    Train loss 0.232, accuracy 0.921, F1-score 0.954, MCC: 0.507, Dice: 0.954\n",
      "    Val loss 0.233, accuracy 0.911, F1-score 0.949, MCC: 0.504, Dice: 0.949\n"
     ]
    },
    {
     "name": "stderr",
     "output_type": "stream",
     "text": [
      "Training epoch 48: 100%|██████████| 128/128 [02:33<00:00,  1.20s/it]\n",
      "Validation epoch 48: 100%|██████████| 31/31 [00:16<00:00,  1.87it/s]\n",
      "Training epoch 49:   0%|          | 0/128 [00:00<?, ?it/s]"
     ]
    },
    {
     "name": "stdout",
     "output_type": "stream",
     "text": [
      "Epoch 48:\n",
      "    Train loss 0.232, accuracy 0.920, F1-score 0.954, MCC: 0.506, Dice: 0.954\n",
      "    Val loss 0.233, accuracy 0.930, F1-score 0.961, MCC: 0.482, Dice: 0.961\n"
     ]
    },
    {
     "name": "stderr",
     "output_type": "stream",
     "text": [
      "Training epoch 49: 100%|██████████| 128/128 [02:32<00:00,  1.19s/it]\n",
      "Validation epoch 49: 100%|██████████| 31/31 [00:17<00:00,  1.77it/s]\n",
      "Training epoch 50:   0%|          | 0/128 [00:00<?, ?it/s]"
     ]
    },
    {
     "name": "stdout",
     "output_type": "stream",
     "text": [
      "Epoch 49:\n",
      "    Train loss 0.231, accuracy 0.921, F1-score 0.954, MCC: 0.510, Dice: 0.954\n",
      "    Val loss 0.229, accuracy 0.928, F1-score 0.960, MCC: 0.498, Dice: 0.960\n"
     ]
    },
    {
     "name": "stderr",
     "output_type": "stream",
     "text": [
      "Training epoch 50: 100%|██████████| 128/128 [02:35<00:00,  1.21s/it]\n",
      "Validation epoch 50: 100%|██████████| 31/31 [00:17<00:00,  1.77it/s]\n",
      "Training epoch 51:   0%|          | 0/128 [00:00<?, ?it/s]"
     ]
    },
    {
     "name": "stdout",
     "output_type": "stream",
     "text": [
      "Epoch 50:\n",
      "    Train loss 0.234, accuracy 0.920, F1-score 0.953, MCC: 0.500, Dice: 0.953\n",
      "    Val loss 0.230, accuracy 0.930, F1-score 0.961, MCC: 0.492, Dice: 0.961\n"
     ]
    },
    {
     "name": "stderr",
     "output_type": "stream",
     "text": [
      "Training epoch 78: 100%|██████████| 128/128 [02:30<00:00,  1.18s/it]\n",
      "Validation epoch 78: 100%|██████████| 31/31 [00:17<00:00,  1.79it/s]\n",
      "Training epoch 79:   0%|          | 0/128 [00:00<?, ?it/s]"
     ]
    },
    {
     "name": "stdout",
     "output_type": "stream",
     "text": [
      "Epoch 78:\n",
      "    Train loss 0.227, accuracy 0.922, F1-score 0.955, MCC: 0.518, Dice: 0.955\n",
      "    Val loss 0.231, accuracy 0.929, F1-score 0.961, MCC: 0.485, Dice: 0.961\n"
     ]
    },
    {
     "name": "stderr",
     "output_type": "stream",
     "text": [
      "Training epoch 79: 100%|██████████| 128/128 [02:33<00:00,  1.20s/it]\n",
      "Validation epoch 79: 100%|██████████| 31/31 [00:17<00:00,  1.74it/s]\n",
      "Training epoch 80:   0%|          | 0/128 [00:00<?, ?it/s]"
     ]
    },
    {
     "name": "stdout",
     "output_type": "stream",
     "text": [
      "Epoch 79:\n",
      "    Train loss 0.227, accuracy 0.922, F1-score 0.954, MCC: 0.515, Dice: 0.954\n",
      "    Val loss 0.225, accuracy 0.929, F1-score 0.960, MCC: 0.506, Dice: 0.960\n"
     ]
    },
    {
     "name": "stderr",
     "output_type": "stream",
     "text": [
      "Training epoch 80: 100%|██████████| 128/128 [02:34<00:00,  1.20s/it]\n",
      "Validation epoch 80: 100%|██████████| 31/31 [00:17<00:00,  1.77it/s]\n",
      "Training epoch 81:   0%|          | 0/128 [00:00<?, ?it/s]"
     ]
    },
    {
     "name": "stdout",
     "output_type": "stream",
     "text": [
      "Epoch 80:\n",
      "    Train loss 0.227, accuracy 0.921, F1-score 0.954, MCC: 0.514, Dice: 0.954\n",
      "    Val loss 0.232, accuracy 0.921, F1-score 0.956, MCC: 0.495, Dice: 0.956\n"
     ]
    },
    {
     "name": "stderr",
     "output_type": "stream",
     "text": [
      "Training epoch 81: 100%|██████████| 128/128 [02:32<00:00,  1.20s/it]\n",
      "Validation epoch 81: 100%|██████████| 31/31 [00:17<00:00,  1.78it/s]\n",
      "Training epoch 82:   0%|          | 0/128 [00:00<?, ?it/s]"
     ]
    },
    {
     "name": "stdout",
     "output_type": "stream",
     "text": [
      "Epoch 81:\n",
      "    Train loss 0.226, accuracy 0.924, F1-score 0.956, MCC: 0.520, Dice: 0.956\n",
      "    Val loss 0.227, accuracy 0.925, F1-score 0.958, MCC: 0.502, Dice: 0.958\n"
     ]
    },
    {
     "name": "stderr",
     "output_type": "stream",
     "text": [
      "Training epoch 82: 100%|██████████| 128/128 [02:32<00:00,  1.19s/it]\n",
      "Validation epoch 82: 100%|██████████| 31/31 [00:17<00:00,  1.74it/s]\n",
      "Training epoch 83:   0%|          | 0/128 [00:00<?, ?it/s]"
     ]
    },
    {
     "name": "stdout",
     "output_type": "stream",
     "text": [
      "Epoch 82:\n",
      "    Train loss 0.227, accuracy 0.924, F1-score 0.956, MCC: 0.519, Dice: 0.956\n",
      "    Val loss 0.226, accuracy 0.926, F1-score 0.959, MCC: 0.509, Dice: 0.959\n"
     ]
    },
    {
     "name": "stderr",
     "output_type": "stream",
     "text": [
      "Training epoch 83: 100%|██████████| 128/128 [02:31<00:00,  1.18s/it]\n",
      "Validation epoch 83: 100%|██████████| 31/31 [00:18<00:00,  1.72it/s]\n",
      "Training epoch 84:   0%|          | 0/128 [00:00<?, ?it/s]"
     ]
    },
    {
     "name": "stdout",
     "output_type": "stream",
     "text": [
      "Epoch 83:\n",
      "    Train loss 0.227, accuracy 0.924, F1-score 0.956, MCC: 0.515, Dice: 0.956\n",
      "    Val loss 0.230, accuracy 0.920, F1-score 0.955, MCC: 0.500, Dice: 0.955\n"
     ]
    },
    {
     "name": "stderr",
     "output_type": "stream",
     "text": [
      "Training epoch 84: 100%|██████████| 128/128 [02:33<00:00,  1.20s/it]\n",
      "Validation epoch 84: 100%|██████████| 31/31 [00:17<00:00,  1.73it/s]\n"
     ]
    },
    {
     "name": "stdout",
     "output_type": "stream",
     "text": [
      "Epoch 84:\n",
      "    Train loss 0.228, accuracy 0.923, F1-score 0.955, MCC: 0.512, Dice: 0.955\n",
      "    Val loss 0.226, accuracy 0.923, F1-score 0.957, MCC: 0.511, Dice: 0.957\n"
     ]
    },
    {
     "name": "stderr",
     "output_type": "stream",
     "text": [
      "Training epoch 85: 100%|██████████| 128/128 [02:32<00:00,  1.19s/it]\n",
      "Validation epoch 85: 100%|██████████| 31/31 [00:17<00:00,  1.79it/s]\n",
      "Training epoch 86:   0%|          | 0/128 [00:00<?, ?it/s]"
     ]
    },
    {
     "name": "stdout",
     "output_type": "stream",
     "text": [
      "Epoch 85:\n",
      "    Train loss 0.227, accuracy 0.924, F1-score 0.955, MCC: 0.521, Dice: 0.955\n",
      "    Val loss 0.229, accuracy 0.924, F1-score 0.958, MCC: 0.488, Dice: 0.958\n"
     ]
    },
    {
     "name": "stderr",
     "output_type": "stream",
     "text": [
      "Training epoch 86: 100%|██████████| 128/128 [02:31<00:00,  1.19s/it]\n",
      "Validation epoch 86: 100%|██████████| 31/31 [00:17<00:00,  1.76it/s]\n"
     ]
    },
    {
     "name": "stdout",
     "output_type": "stream",
     "text": [
      "Epoch 86:\n",
      "    Train loss 0.224, accuracy 0.924, F1-score 0.956, MCC: 0.524, Dice: 0.956\n",
      "    Val loss 0.226, accuracy 0.927, F1-score 0.960, MCC: 0.514, Dice: 0.960\n"
     ]
    },
    {
     "name": "stderr",
     "output_type": "stream",
     "text": [
      "Training epoch 87: 100%|██████████| 128/128 [02:35<00:00,  1.21s/it]\n",
      "Validation epoch 87: 100%|██████████| 31/31 [00:17<00:00,  1.82it/s]\n",
      "Training epoch 88:   0%|          | 0/128 [00:00<?, ?it/s]"
     ]
    },
    {
     "name": "stdout",
     "output_type": "stream",
     "text": [
      "Epoch 87:\n",
      "    Train loss 0.226, accuracy 0.923, F1-score 0.955, MCC: 0.513, Dice: 0.955\n",
      "    Val loss 0.225, accuracy 0.930, F1-score 0.961, MCC: 0.496, Dice: 0.961\n"
     ]
    },
    {
     "name": "stderr",
     "output_type": "stream",
     "text": [
      "Training epoch 88: 100%|██████████| 128/128 [02:31<00:00,  1.19s/it]\n",
      "Validation epoch 88: 100%|██████████| 31/31 [00:17<00:00,  1.73it/s]\n"
     ]
    },
    {
     "name": "stdout",
     "output_type": "stream",
     "text": [
      "Epoch 88:\n",
      "    Train loss 0.227, accuracy 0.922, F1-score 0.954, MCC: 0.513, Dice: 0.954\n",
      "    Val loss 0.225, accuracy 0.927, F1-score 0.959, MCC: 0.519, Dice: 0.959\n"
     ]
    },
    {
     "name": "stderr",
     "output_type": "stream",
     "text": [
      "Training epoch 89: 100%|██████████| 128/128 [02:35<00:00,  1.22s/it]\n",
      "Validation epoch 89: 100%|██████████| 31/31 [00:17<00:00,  1.76it/s]\n",
      "Training epoch 90:   0%|          | 0/128 [00:00<?, ?it/s]"
     ]
    },
    {
     "name": "stdout",
     "output_type": "stream",
     "text": [
      "Epoch 89:\n",
      "    Train loss 0.226, accuracy 0.923, F1-score 0.955, MCC: 0.519, Dice: 0.955\n",
      "    Val loss 0.231, accuracy 0.929, F1-score 0.961, MCC: 0.478, Dice: 0.961\n"
     ]
    },
    {
     "name": "stderr",
     "output_type": "stream",
     "text": [
      "Training epoch 90: 100%|██████████| 128/128 [02:30<00:00,  1.18s/it]\n",
      "Validation epoch 90: 100%|██████████| 31/31 [00:17<00:00,  1.81it/s]\n",
      "Training epoch 91:   0%|          | 0/128 [00:00<?, ?it/s]"
     ]
    },
    {
     "name": "stdout",
     "output_type": "stream",
     "text": [
      "Epoch 90:\n",
      "    Train loss 0.224, accuracy 0.925, F1-score 0.956, MCC: 0.528, Dice: 0.956\n",
      "    Val loss 0.246, accuracy 0.929, F1-score 0.961, MCC: 0.394, Dice: 0.961\n"
     ]
    },
    {
     "name": "stderr",
     "output_type": "stream",
     "text": [
      "Training epoch 91: 100%|██████████| 128/128 [02:33<00:00,  1.20s/it]\n",
      "Validation epoch 91: 100%|██████████| 31/31 [00:17<00:00,  1.80it/s]\n",
      "Training epoch 92:   0%|          | 0/128 [00:00<?, ?it/s]"
     ]
    },
    {
     "name": "stdout",
     "output_type": "stream",
     "text": [
      "Epoch 91:\n",
      "    Train loss 0.226, accuracy 0.924, F1-score 0.956, MCC: 0.523, Dice: 0.956\n",
      "    Val loss 0.225, accuracy 0.930, F1-score 0.961, MCC: 0.510, Dice: 0.961\n"
     ]
    },
    {
     "name": "stderr",
     "output_type": "stream",
     "text": [
      "Training epoch 92: 100%|██████████| 128/128 [02:30<00:00,  1.18s/it]\n",
      "Validation epoch 92: 100%|██████████| 31/31 [00:17<00:00,  1.73it/s]\n",
      "Training epoch 93:   0%|          | 0/128 [00:00<?, ?it/s]"
     ]
    },
    {
     "name": "stdout",
     "output_type": "stream",
     "text": [
      "Epoch 92:\n",
      "    Train loss 0.222, accuracy 0.924, F1-score 0.956, MCC: 0.524, Dice: 0.956\n",
      "    Val loss 0.225, accuracy 0.926, F1-score 0.959, MCC: 0.517, Dice: 0.959\n"
     ]
    },
    {
     "name": "stderr",
     "output_type": "stream",
     "text": [
      "Training epoch 93: 100%|██████████| 128/128 [02:31<00:00,  1.18s/it]\n",
      "Validation epoch 93: 100%|██████████| 31/31 [00:17<00:00,  1.77it/s]\n",
      "Training epoch 94:   0%|          | 0/128 [00:00<?, ?it/s]"
     ]
    },
    {
     "name": "stdout",
     "output_type": "stream",
     "text": [
      "Epoch 93:\n",
      "    Train loss 0.225, accuracy 0.924, F1-score 0.955, MCC: 0.523, Dice: 0.955\n",
      "    Val loss 0.223, accuracy 0.927, F1-score 0.959, MCC: 0.513, Dice: 0.959\n"
     ]
    },
    {
     "name": "stderr",
     "output_type": "stream",
     "text": [
      "Training epoch 94: 100%|██████████| 128/128 [02:33<00:00,  1.20s/it]\n",
      "Validation epoch 94: 100%|██████████| 31/31 [00:17<00:00,  1.80it/s]\n",
      "Training epoch 95:   0%|          | 0/128 [00:00<?, ?it/s]"
     ]
    },
    {
     "name": "stdout",
     "output_type": "stream",
     "text": [
      "Epoch 94:\n",
      "    Train loss 0.225, accuracy 0.924, F1-score 0.955, MCC: 0.522, Dice: 0.955\n",
      "    Val loss 0.230, accuracy 0.925, F1-score 0.959, MCC: 0.502, Dice: 0.959\n"
     ]
    },
    {
     "name": "stderr",
     "output_type": "stream",
     "text": [
      "Training epoch 95: 100%|██████████| 128/128 [02:32<00:00,  1.19s/it]\n",
      "Validation epoch 95: 100%|██████████| 31/31 [00:17<00:00,  1.74it/s]\n",
      "Training epoch 96:   0%|          | 0/128 [00:00<?, ?it/s]"
     ]
    },
    {
     "name": "stdout",
     "output_type": "stream",
     "text": [
      "Epoch 95:\n",
      "    Train loss 0.224, accuracy 0.923, F1-score 0.955, MCC: 0.520, Dice: 0.955\n",
      "    Val loss 0.230, accuracy 0.928, F1-score 0.960, MCC: 0.490, Dice: 0.960\n"
     ]
    },
    {
     "name": "stderr",
     "output_type": "stream",
     "text": [
      "Training epoch 96:  51%|█████     | 65/128 [01:18<01:14,  1.19s/it]IOPub message rate exceeded.\n",
      "The notebook server will temporarily stop sending output\n",
      "to the client in order to avoid crashing it.\n",
      "To change this limit, set the config variable\n",
      "`--NotebookApp.iopub_msg_rate_limit`.\n",
      "\n",
      "Current values:\n",
      "NotebookApp.iopub_msg_rate_limit=1000.0 (msgs/sec)\n",
      "NotebookApp.rate_limit_window=3.0 (secs)\n",
      "\n"
     ]
    }
   ],
   "source": [
    "# ============================ #\n",
    "# user-specified hyperparameters\n",
    "# ============================ #\n",
    "country = 'india'\n",
    "epochs = 100\n",
    "lr = 0.001\n",
    "lr_decay = None\n",
    "n_filters = 32\n",
    "depth = 6\n",
    "n_classes = 1\n",
    "batch_size = 8\n",
    "model_type = 'fractal-resunet' # 'resunet-d6'\n",
    "month = 'all13'\n",
    "codes_to_keep = [1]\n",
    "ctx_name = 'gpu'\n",
    "gpu_id = 2\n",
    "boundary_kernel_size = (1,1)\n",
    "\n",
    "# trained_model = '../experiments/partial-france/fractal-resunet_2019_10_nfilter-32_depth-6_bs-8_lr-0.001_4x-downsampled_allfields_n6759/model.params'\n",
    "trained_model = '../experiments/india/fractal-resunet_Airbus_nfilter-32_depth-6_bs-8_lr-0.001_3x-downsampled-v3_boundary-1_fromscratch/model.params'\n",
    "# trained_model = None\n",
    "\n",
    "folder_suffix = '_3x-downsampled-v3_boundary-1'\n",
    "if trained_model is None:\n",
    "    folder_suffix += '_fromscratch'\n",
    "elif 'india' in trained_model:\n",
    "    folder_suffix += '_fromscratch-continued'\n",
    "elif 'france' in trained_model:\n",
    "    folder_suffix += '_finetuned'\n",
    "    \n",
    "month_name = 'Airbus'\n",
    "splits_path = '../data/splits/india_planetImagery_splits_20x20.csv'\n",
    "splits_df = pd.read_csv(splits_path, dtype=str)\n",
    "splits_df['image_id'] = splits_df['image_id'].str[:4]\n",
    "splits_df = splits_df.drop_duplicates('image_id')\n",
    "# splits_df['image_id'] = splits_df['image_id'].astype(str).str.zfill(5)\n",
    "\n",
    "# get all img and labels\n",
    "all_img_names = []\n",
    "all_label_names = []\n",
    "# img_dir = '../data/general_blockchain/airbus_false_color/campaign1/'\n",
    "# label_dir = '../data/general_blockchain/airbus_labels/campaign1/'\n",
    "img_dir = '../data/general_blockchain/airbus_false_color/large/3x_downsample/'\n",
    "label_dir = '../data/general_blockchain/airbus_labels/large/3x_downsample/'\n",
    "\n",
    "label_folder_imgs = sorted(os.listdir(label_dir))\n",
    "for label_name in label_folder_imgs:\n",
    "    img_name = 'airbus_geowiki_' + label_name.split('_')[-1].split('.')[0] + '.png'\n",
    "    img_path = os.path.join(img_dir, img_name)\n",
    "    all_img_names.append(img_path)\n",
    "    label_path = os.path.join(label_dir, label_name)\n",
    "    all_label_names.append(label_path)\n",
    "    \n",
    "# split imgs and labels into train/val/test\n",
    "all_images = pd.DataFrame({'img_path': all_img_names})\n",
    "all_images['image_id'] = all_images['img_path'].str.split('/').apply(\n",
    "    lambda x: x[-1]).str.split('.').apply(\n",
    "    lambda x: x[0]).str.split('_').apply(\n",
    "    lambda x: x[-1][1:])\n",
    "all_images = all_images.merge(splits_df[['image_id', 'fold']], on='image_id', how='left')\n",
    "train_names = all_images[all_images['fold'] == 'train']['img_path'].values\n",
    "val_names = all_images[all_images['fold'] == 'val']['img_path'].values\n",
    "test_names = all_images[all_images['fold'] == 'test']['img_path'].values\n",
    "\n",
    "all_labels = pd.DataFrame({'label_path': all_label_names})\n",
    "all_labels['image_id'] = all_labels['label_path'].str.split('/').apply(\n",
    "    lambda x: x[-1]).str.split('.').apply(\n",
    "    lambda x: x[0]).str.split('_').apply(\n",
    "    lambda x: x[-1][1:])\n",
    "all_labels = all_labels.merge(splits_df[['image_id', 'fold']], on='image_id', how='left')\n",
    "train_names_label = all_labels[all_labels['fold'] == 'train']['label_path'].values\n",
    "val_names_label = all_labels[all_labels['fold'] == 'val']['label_path'].values\n",
    "test_names_label = all_labels[all_labels['fold'] == 'test']['label_path'].values\n",
    "\n",
    "# ============================ #\n",
    "\n",
    "run_africa(country, train_names, val_names, test_names,\n",
    "           train_names_label, val_names_label, test_names_label,\n",
    "           trained_model=trained_model,\n",
    "           epochs=epochs, lr=lr, lr_decay=lr_decay, \n",
    "           model_type=model_type, n_filters=n_filters, depth=depth, n_classes=n_classes,\n",
    "           batch_size=batch_size, month=month_name,\n",
    "           codes_to_keep=codes_to_keep, \n",
    "           ctx_name=ctx_name,\n",
    "           gpu_id=gpu_id, \n",
    "           folder_suffix=folder_suffix,\n",
    "           boundary_kernel_size=boundary_kernel_size)"
   ]
  },
  {
   "cell_type": "code",
   "execution_count": null,
   "metadata": {},
   "outputs": [],
   "source": []
  }
 ],
 "metadata": {
  "kernelspec": {
   "display_name": "Environment (conda_mxnet1.6.0)",
   "language": "python",
   "name": "conda_mxnet1.6.0"
  },
  "language_info": {
   "codemirror_mode": {
    "name": "ipython",
    "version": 3
   },
   "file_extension": ".py",
   "mimetype": "text/x-python",
   "name": "python",
   "nbconvert_exporter": "python",
   "pygments_lexer": "ipython3",
   "version": "3.6.11"
  }
 },
 "nbformat": 4,
 "nbformat_minor": 2
}
