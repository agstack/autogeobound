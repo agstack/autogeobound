{
 "cells": [
  {
   "cell_type": "code",
   "execution_count": 1,
   "metadata": {},
   "outputs": [],
   "source": [
    "import numpy as np\n",
    "import pandas as pd\n",
    "import os\n",
    "from tqdm import tqdm\n",
    "import visdom\n",
    "\n",
    "import mxnet as mx\n",
    "from mxnet import gluon\n",
    "from mxnet import autograd\n",
    "from mxnet import image\n",
    "\n",
    "import sys\n",
    "sys.path.append('../../resuneta/src')\n",
    "sys.path.append('../../decode/FracTAL_ResUNet/models/semanticsegmentation')\n",
    "sys.path.append('../../decode/FracTAL_ResUNet/nn/loss')\n",
    "sys.path.append('../../')\n",
    "sys.path.append('../MXNet-ResUNeta/')\n",
    "\n",
    "from bound_dist import get_distance, get_boundary\n",
    "from FracTAL_ResUNet import FracTAL_ResUNet_cmtsk\n",
    "from ftnmt_loss import ftnmt_loss_masked\n",
    "from datasets import *\n",
    "\n",
    "from sklearn.metrics import matthews_corrcoef\n",
    "\n",
    "import matplotlib.pyplot as plt\n",
    "%matplotlib inline"
   ]
  },
  {
   "cell_type": "code",
   "execution_count": 2,
   "metadata": {},
   "outputs": [],
   "source": [
    "def dice_coef(x, y):\n",
    "    if type(x).__module__ == 'numpy':\n",
    "        intersection = np.logical_and(x, y)\n",
    "        return 2. * np.sum(intersection) / (np.sum(x) + np.sum(y))\n",
    "    else:\n",
    "        intersection = mx.ndarray.op.broadcast_logical_and(x, y)\n",
    "        return 2. * mx.nd.sum(intersection) / (mx.nd.sum(x) + mx.nd.sum(y))"
   ]
  },
  {
   "cell_type": "code",
   "execution_count": 3,
   "metadata": {},
   "outputs": [],
   "source": [
    "def visdom_visualize_batch(vis, img, extent, boundary, distance,\n",
    "                           extent_pred, boundary_pred, distance_pred,\n",
    "                           hsv, hsv_pred, mask, title=\"Train images\"):\n",
    "\n",
    "    img, extent, boundary, distance = img.asnumpy(), extent.asnumpy(), boundary.asnumpy(), distance.asnumpy()\n",
    "    extent_pred, boundary_pred = extent_pred.asnumpy(), boundary_pred.asnumpy()\n",
    "    distance_pred, hsv, hsv_pred = distance_pred.asnumpy(), hsv.asnumpy(), hsv_pred.asnumpy()\n",
    "    mask = mask.asnumpy()\n",
    "\n",
    "    # put everything in one window\n",
    "    batch_size, nchannels, nrows, ncols = img.shape\n",
    "    padding = 10\n",
    "    items = [img, hsv, hsv_pred, extent, extent_pred, \n",
    "             boundary, boundary_pred, distance, distance_pred,\n",
    "             mask]\n",
    "    result = np.zeros((3, len(items)*nrows + (len(items)-1)*padding, batch_size*ncols + (batch_size-1)*padding))\n",
    "\n",
    "    for j, item in enumerate(items):\n",
    "\n",
    "        if item.shape[1] == 1:\n",
    "            item = np.tile(item, (1,3,1,1)) * 255.\n",
    "\n",
    "        if j == 1 or j == 2: # convert HSV to RGB\n",
    "            item = np.moveaxis(item, 1, -1) * 255.\n",
    "            for i in range(batch_size):\n",
    "                item[i] = cv2.cvtColor(item[i].astype(np.uint8), cv2.COLOR_HSV2RGB)\n",
    "            item = np.moveaxis(item, -1, 1)\n",
    "            \n",
    "        for i in range(batch_size):\n",
    "            result[:, j*(nrows+padding):(j+1)*nrows+j*padding, i*(ncols+padding):(i+1)*ncols+i*padding] = item[i]\n",
    "    vis.images(result, nrow=1, win=title, opts={'title': title})\n"
   ]
  },
  {
   "cell_type": "code",
   "execution_count": 4,
   "metadata": {},
   "outputs": [],
   "source": [
    "def train_model(train_dataloader, model, tanimoto_dual, trainer, epoch, args):\n",
    "    \n",
    "    # initialize metrics\n",
    "    cumulative_loss = 0\n",
    "    accuracy = mx.metric.Accuracy()\n",
    "    f1 = mx.metric.F1()\n",
    "    mcc = mx.metric.MCC()\n",
    "    dice = mx.metric.CustomMetric(feval=dice_coef, name=\"Dice\")\n",
    "    if args['ctx_name'] == 'cpu':\n",
    "        ctx = mx.cpu()\n",
    "    else:\n",
    "        ctx = mx.gpu(args['gpu'])\n",
    "    \n",
    "    # training set\n",
    "    for batch_i, (img, extent, boundary, distance, hsv, mask) in enumerate(\n",
    "        tqdm(train_dataloader, desc='Training epoch {}'.format(epoch))):\n",
    "        \n",
    "        with autograd.record():\n",
    "\n",
    "            img = img.as_in_context(ctx)\n",
    "            extent = extent.as_in_context(ctx)\n",
    "            boundary = boundary.as_in_context(ctx)\n",
    "            distance = distance.as_in_context(ctx)\n",
    "            hsv = hsv.as_in_context(ctx)\n",
    "            mask = mask.as_in_context(ctx)\n",
    "            nonmask = mx.nd.ones(extent.shape).as_in_context(ctx)\n",
    "            \n",
    "            # logits, bound, dist, convc = model(img)\n",
    "            logits, bound, dist = model(img)\n",
    "            \n",
    "            # multi-task loss\n",
    "            # TODO: wrap this in a custom loss function / class\n",
    "            loss_extent = mx.nd.sum(tanimoto_dual(logits, extent, mask))\n",
    "            loss_boundary = mx.nd.sum(tanimoto_dual(bound, boundary, mask))\n",
    "            loss_distance = mx.nd.sum(tanimoto_dual(dist, distance, mask))\n",
    "\n",
    "            loss = 0.33 * (loss_extent + loss_boundary + loss_distance) # + loss_hsv)\n",
    "            \n",
    "        loss.backward()\n",
    "        trainer.step(args['batch_size'])\n",
    "        cumulative_loss += mx.nd.sum(loss).asscalar()\n",
    "        \n",
    "        logits_reshaped = logits.reshape((logits.shape[0], -1))\n",
    "        extent_reshaped = extent.reshape((extent.shape[0], -1))\n",
    "        mask_reshaped = mask.reshape((mask.shape[0], -1))\n",
    "        \n",
    "        try:\n",
    "            nonmask_idx = mx.np.nonzero(mask_reshaped.as_np_ndarray())\n",
    "            nonmask_idx = mx.np.stack(nonmask_idx).as_nd_ndarray().as_in_context(ctx)\n",
    "            logits_masked = mx.nd.gather_nd(logits_reshaped, nonmask_idx)\n",
    "            extent_masked = mx.nd.gather_nd(extent_reshaped, nonmask_idx)\n",
    "        except:\n",
    "            print(\"mask.shape\", mask.detach().asnumpy().shape)\n",
    "            print(\"mask_reshaped.shape\", mask_reshaped.detach().asnumpy().shape)\n",
    "            print(\"mask sum\", np.sum(mask.detach().asnumpy()))\n",
    "\n",
    "        # accuracy\n",
    "        extent_predicted_classes = mx.nd.ceil(logits_masked - 0.5)\n",
    "        accuracy.update(extent_masked, extent_predicted_classes)\n",
    "        \n",
    "        # f1 score\n",
    "        probabilities = mx.nd.stack(1 - logits_masked, logits_masked, axis=1)\n",
    "        f1.update(extent_masked, probabilities)\n",
    "        \n",
    "        # MCC metric\n",
    "        mcc.update(extent_masked, probabilities)\n",
    "        \n",
    "        # Dice score\n",
    "        dice.update(extent_masked, extent_predicted_classes)\n",
    "        \n",
    "        # TEMPORARY to make visdom work\n",
    "        convc = hsv\n",
    "        if batch_i % args['visdom_every'] == 0:\n",
    "            visdom_visualize_batch(args['visdom'], img, extent, boundary, distance,\n",
    "                                   logits, bound, dist, hsv, convc, mask)\n",
    "\n",
    "    return cumulative_loss, accuracy, f1, mcc, dice"
   ]
  },
  {
   "cell_type": "code",
   "execution_count": 5,
   "metadata": {},
   "outputs": [],
   "source": [
    "def evaluate_model(val_dataloader, model, tanimoto_dual, epoch, args):\n",
    "    \n",
    "    # initialize metrics\n",
    "    cumulative_loss = 0\n",
    "    accuracy = mx.metric.Accuracy()\n",
    "    f1 = mx.metric.F1()\n",
    "    mcc = mx.metric.MCC()\n",
    "    dice = mx.metric.CustomMetric(feval=dice_coef, name=\"Dice\")\n",
    "    if args['ctx_name'] == 'cpu':\n",
    "        ctx = mx.cpu()\n",
    "    else:\n",
    "        ctx = mx.gpu(args['gpu'])\n",
    "    \n",
    "    # validation set\n",
    "    for batch_i, (img, extent, boundary, distance, hsv, mask) in enumerate(\n",
    "        tqdm(val_dataloader, desc='Validation epoch {}'.format(epoch))):\n",
    "\n",
    "        img = img.as_in_context(ctx)\n",
    "        extent = extent.as_in_context(ctx)\n",
    "        boundary = boundary.as_in_context(ctx)\n",
    "        distance = distance.as_in_context(ctx)\n",
    "        hsv = hsv.as_in_context(ctx)\n",
    "        mask = mask.as_in_context(ctx)\n",
    "        nonmask = mx.nd.ones(extent.shape).as_in_context(ctx)\n",
    "\n",
    "        # logits, bound, dist, convc = model(img)\n",
    "        logits, bound, dist = model(img)\n",
    "        \n",
    "        # multi-task loss\n",
    "        # TODO: wrap this in a custom loss function / class\n",
    "        loss_extent = mx.nd.sum(tanimoto_dual(logits, extent, mask))\n",
    "        loss_boundary = mx.nd.sum(tanimoto_dual(bound, boundary, mask))\n",
    "        loss_distance = mx.nd.sum(tanimoto_dual(dist, distance, mask))\n",
    "\n",
    "        loss = 0.33 * (loss_extent + loss_boundary + loss_distance) # + loss_hsv)\n",
    "        \n",
    "        # update metrics based on every batch\n",
    "        cumulative_loss += mx.nd.sum(loss).asscalar()\n",
    "        \n",
    "        # update metrics based on every batch\n",
    "        # mask out unlabeled pixels            \n",
    "        logits_reshaped = logits.reshape((logits.shape[0], -1))\n",
    "        extent_reshaped = extent.reshape((extent.shape[0], -1))\n",
    "        mask_reshaped = mask.reshape((mask.shape[0], -1))\n",
    "        \n",
    "        nonmask_idx = mx.np.nonzero(mask_reshaped.as_np_ndarray())\n",
    "        nonmask_idx = mx.np.stack(nonmask_idx).as_nd_ndarray().as_in_context(ctx)\n",
    "        logits_masked = mx.nd.gather_nd(logits_reshaped, nonmask_idx)\n",
    "        extent_masked = mx.nd.gather_nd(extent_reshaped, nonmask_idx)\n",
    "\n",
    "        # accuracy\n",
    "        extent_predicted_classes = mx.nd.ceil(logits_masked - 0.5)\n",
    "        accuracy.update(extent_masked, extent_predicted_classes)\n",
    "        \n",
    "        # f1 score\n",
    "        probabilities = mx.nd.stack(1 - logits_masked, logits_masked, axis=1)\n",
    "        f1.update(extent_masked, probabilities)\n",
    "        \n",
    "        # MCC metric\n",
    "        mcc.update(extent_masked, probabilities)\n",
    "        \n",
    "        # Dice score\n",
    "        dice.update(extent_masked, extent_predicted_classes)\n",
    "        \n",
    "        # TEMPORARY to make visdom work\n",
    "        convc = hsv\n",
    "        if batch_i % args['visdom_every'] == 0:\n",
    "            visdom_visualize_batch(args['visdom'], img, extent, boundary, distance,\n",
    "                                   logits, bound, dist, hsv, convc, mask, title=\"Val images\")\n",
    "        \n",
    "    return cumulative_loss, accuracy, f1, mcc, dice"
   ]
  },
  {
   "cell_type": "markdown",
   "metadata": {},
   "source": [
    "# Africa datasets"
   ]
  },
  {
   "cell_type": "code",
   "execution_count": 6,
   "metadata": {},
   "outputs": [],
   "source": [
    "def run_africa(country, train_names, val_names, test_names, \n",
    "               train_names_label, val_names_label, test_names_label,\n",
    "               trained_model=None, month='Airbus',\n",
    "               epochs=100, lr=0.001, lr_decay=None, n_filters=16, batch_size=8,\n",
    "               model_type='fractal-resunet', depth=5, n_classes=1, \n",
    "               codes_to_keep=[1, 2],\n",
    "               folder_suffix='',\n",
    "               boundary_kernel_size=3,\n",
    "               ctx_name='cpu',\n",
    "               gpu_id=0):\n",
    "    \n",
    "    # Set MXNet ctx\n",
    "    if ctx_name == 'cpu':\n",
    "        ctx = mx.cpu()\n",
    "    elif ctx_name == 'gpu':\n",
    "        ctx = mx.gpu(gpu_id)\n",
    "    \n",
    "    # Set up names of directories and paths for saving\n",
    "    if trained_model is None:\n",
    "        folder_name = model_type+'_'+month+'_nfilter-'+str(n_filters)+'_depth-'+str(depth)+ \\\n",
    "                      '_bs-'+str(batch_size)+'_lr-'+str(lr)+folder_suffix\n",
    "        if lr_decay:\n",
    "            folder_name = folder_name + '_lrdecay-'+str(lr_decay)\n",
    "            \n",
    "        # define model\n",
    "        if model_type == 'resunet-d6':\n",
    "            model = ResUNet_d6(_nfilters_init=n_filters, _NClasses=n_classes)\n",
    "        elif model_type == 'resunet-d7':\n",
    "            model = ResUNet_d7(_nfilters_init=n_filters, _NClasses=n_classes)\n",
    "        elif model_type == 'fractal-resunet':\n",
    "            model = FracTAL_ResUNet_cmtsk(nfilters_init=n_filters, depth=depth, NClasses=n_classes)\n",
    "        model.initialize()\n",
    "        model.hybridize()\n",
    "        model.collect_params().reset_ctx(ctx)\n",
    "        \n",
    "    else:\n",
    "        folder_name = model_type+'_'+month+'_nfilter-'+str(n_filters)+'_depth-'+str(depth)+ \\\n",
    "                      '_bs-'+str(batch_size)+'_lr-'+str(lr)+folder_suffix\n",
    "        if model_type == 'resunet-d6':\n",
    "            model = ResUNet_d6(_nfilters_init=n_filters, _NClasses=n_classes)\n",
    "        elif model_type == 'resunet-d7':\n",
    "            model = ResUNet_d7(_nfilters_init=n_filters, _NClasses=n_classes)\n",
    "        elif model_type == 'fractal-resunet':\n",
    "            model = FracTAL_ResUNet_cmtsk(nfilters_init=n_filters, depth=depth, NClasses=n_classes)\n",
    "        model.load_parameters(trained_model, ctx=ctx)\n",
    "        \n",
    "    save_path = os.path.join('../experiments/', country, folder_name)\n",
    "    if not os.path.isdir(save_path):\n",
    "        os.makedirs(save_path)\n",
    "    save_model_name = os.path.join(save_path, \"model.params\")\n",
    "    \n",
    "    # Visdom\n",
    "    env_name = country + '_' + folder_name\n",
    "    vis = visdom.Visdom(port=8097, env=env_name)\n",
    "    \n",
    "    # Arguments\n",
    "    args = {}\n",
    "    args['batch_size'] = batch_size\n",
    "    args['ctx_name'] = ctx_name\n",
    "    args['gpu'] = gpu_id\n",
    "    args['visdom'] = vis\n",
    "    args['visdom_every'] = 20\n",
    "\n",
    "    # Define train/val/test splits\n",
    "    train_dataset = AirbusMasked(\n",
    "        fold='train', \n",
    "        image_names=train_names, \n",
    "        label_names=train_names_label, \n",
    "        classes=codes_to_keep,\n",
    "        boundary_kernel_size=boundary_kernel_size)\n",
    "    val_dataset = AirbusMasked(\n",
    "        fold='val', \n",
    "        image_names=val_names, \n",
    "        label_names=val_names_label, \n",
    "        classes=codes_to_keep,\n",
    "        boundary_kernel_size=boundary_kernel_size)\n",
    "    test_dataset = AirbusMasked(\n",
    "        fold='test', \n",
    "        image_names=test_names, \n",
    "        label_names=test_names_label, \n",
    "        classes=codes_to_keep,\n",
    "        boundary_kernel_size=boundary_kernel_size)\n",
    "\n",
    "    train_dataloader = gluon.data.DataLoader(train_dataset, batch_size=batch_size, shuffle=True)\n",
    "    val_dataloader = gluon.data.DataLoader(val_dataset, batch_size=batch_size)\n",
    "    test_dataloader = gluon.data.DataLoader(test_dataset, batch_size=batch_size)\n",
    "\n",
    "    # define loss function\n",
    "    tanimoto_dual = ftnmt_loss_masked(depth=0) # Tanimoto_with_dual_masked()\n",
    "    if lr_decay:\n",
    "        schedule = mx.lr_scheduler.FactorScheduler(step=1, factor=lr_decay)\n",
    "        adam_optimizer = mx.optimizer.Adam(learning_rate=lr, lr_scheduler=schedule)\n",
    "    else:\n",
    "        adam_optimizer = mx.optimizer.Adam(learning_rate=lr)\n",
    "    trainer = gluon.Trainer(model.collect_params(), optimizer=adam_optimizer)\n",
    "\n",
    "    # containers for metrics to log\n",
    "    train_metrics = {'train_loss': [], 'train_acc': [], 'train_f1': [], \n",
    "                     'train_mcc': [], 'train_dice': []}\n",
    "    val_metrics = {'val_loss': [], 'val_acc': [], 'val_f1': [], \n",
    "                   'val_mcc': [], 'val_dice': []}\n",
    "    best_mcc = 0.0\n",
    "\n",
    "    # training loop\n",
    "    for epoch in range(1, epochs+1):\n",
    "\n",
    "        # training set\n",
    "        train_loss, train_accuracy, train_f1, train_mcc, train_dice = train_model(\n",
    "            train_dataloader, model, tanimoto_dual, trainer, epoch, args)\n",
    "\n",
    "        # training set metrics\n",
    "        train_loss_avg = train_loss / len(train_dataset)\n",
    "        train_metrics['train_loss'].append(train_loss_avg)\n",
    "        train_metrics['train_acc'].append(train_accuracy.get()[1])\n",
    "        train_metrics['train_f1'].append(train_f1.get()[1])\n",
    "        train_metrics['train_mcc'].append(train_mcc.get()[1])\n",
    "        train_metrics['train_dice'].append(train_dice.get()[1])\n",
    "\n",
    "        # validation set\n",
    "        val_loss, val_accuracy, val_f1, val_mcc, val_dice = evaluate_model(\n",
    "            val_dataloader, model, tanimoto_dual, epoch, args)\n",
    "\n",
    "        # validation set metrics\n",
    "        val_loss_avg = val_loss / len(val_dataset)\n",
    "        val_metrics['val_loss'].append(val_loss_avg)\n",
    "        val_metrics['val_acc'].append(val_accuracy.get()[1])\n",
    "        val_metrics['val_f1'].append(val_f1.get()[1])\n",
    "        val_metrics['val_mcc'].append(val_mcc.get()[1])\n",
    "        val_metrics['val_dice'].append(val_dice.get()[1])\n",
    "\n",
    "        print(\"Epoch {}:\".format(epoch))\n",
    "        print(\"    Train loss {:0.3f}, accuracy {:0.3f}, F1-score {:0.3f}, MCC: {:0.3f}, Dice: {:0.3f}\".format(\n",
    "            train_loss_avg, train_accuracy.get()[1], train_f1.get()[1], train_mcc.get()[1], train_dice.get()[1]))\n",
    "        print(\"    Val loss {:0.3f}, accuracy {:0.3f}, F1-score {:0.3f}, MCC: {:0.3f}, Dice: {:0.3f}\".format(\n",
    "            val_loss_avg, val_accuracy.get()[1], val_f1.get()[1], val_mcc.get()[1], val_dice.get()[1]))\n",
    "\n",
    "        # save model based on best MCC metric\n",
    "        if val_mcc.get()[1] > best_mcc:\n",
    "            model.save_parameters(save_model_name)\n",
    "            best_mcc = val_mcc.get()[1]\n",
    "\n",
    "        # save metrics\n",
    "        metrics = pd.concat([pd.DataFrame(train_metrics), pd.DataFrame(val_metrics)], axis=1)\n",
    "        metrics.to_csv(os.path.join(save_path, 'metrics.csv'), index=False)\n",
    "\n",
    "        # visdom\n",
    "        vis.line(Y=np.stack([train_metrics['train_loss'], val_metrics['val_loss']], axis=1), \n",
    "                 X=np.arange(1, epoch+1), win=\"Loss\", \n",
    "                 opts=dict(legend=['train loss', 'val loss'], markers=False, title=\"Losses\",\n",
    "                           xlabel=\"Epoch\", ylabel=\"Loss\")\n",
    "                )\n",
    "        vis.line(Y=np.stack([train_metrics['train_mcc'], val_metrics['val_mcc']], axis=1), \n",
    "                 X=np.arange(1, epoch+1), win=\"MCC\", \n",
    "                 opts=dict(legend=['train MCC', 'val MCC'], markers=False, title=\"MCC\",\n",
    "                           xlabel=\"Epoch\", ylabel=\"MCC\")\n",
    "                )\n"
   ]
  },
  {
   "cell_type": "code",
   "execution_count": 7,
   "metadata": {
    "scrolled": true
   },
   "outputs": [
    {
     "name": "stdout",
     "output_type": "stream",
     "text": [
      "depth:= 0, nfilters: 32, nheads::8, widths::1\n",
      "depth:= 1, nfilters: 64, nheads::16, widths::1\n",
      "depth:= 2, nfilters: 128, nheads::32, widths::1\n",
      "depth:= 3, nfilters: 256, nheads::64, widths::1\n",
      "depth:= 4, nfilters: 512, nheads::128, widths::1\n",
      "depth:= 5, nfilters: 1024, nheads::256, widths::1\n",
      "depth:= 6, nfilters: 512, nheads::256, widths::1\n",
      "depth:= 7, nfilters: 256, nheads::128, widths::1\n",
      "depth:= 8, nfilters: 128, nheads::64, widths::1\n",
      "depth:= 9, nfilters: 64, nheads::32, widths::1\n",
      "depth:= 10, nfilters: 32, nheads::16, widths::1\n"
     ]
    },
    {
     "name": "stderr",
     "output_type": "stream",
     "text": [
      "Setting up a new session...\n",
      "Training epoch 1: 100%|██████████| 2/2 [00:07<00:00,  3.53s/it]\n",
      "Validation epoch 1: 100%|██████████| 27/27 [00:16<00:00,  1.63it/s]\n"
     ]
    },
    {
     "name": "stdout",
     "output_type": "stream",
     "text": [
      "Epoch 1:\n",
      "    Train loss 0.319, accuracy 0.824, F1-score 0.880, MCC: 0.493, Dice: 0.880\n",
      "    Val loss 0.291, accuracy 0.852, F1-score 0.901, MCC: 0.550, Dice: 0.901\n"
     ]
    },
    {
     "name": "stderr",
     "output_type": "stream",
     "text": [
      "Training epoch 2: 100%|██████████| 2/2 [00:02<00:00,  1.12s/it]\n",
      "Validation epoch 2: 100%|██████████| 27/27 [00:11<00:00,  2.26it/s]\n"
     ]
    },
    {
     "name": "stdout",
     "output_type": "stream",
     "text": [
      "Epoch 2:\n",
      "    Train loss 0.318, accuracy 0.827, F1-score 0.883, MCC: 0.541, Dice: 0.883\n",
      "    Val loss 0.279, accuracy 0.850, F1-score 0.899, MCC: 0.565, Dice: 0.899\n"
     ]
    },
    {
     "name": "stderr",
     "output_type": "stream",
     "text": [
      "Training epoch 3: 100%|██████████| 2/2 [00:02<00:00,  1.22s/it]\n",
      "Validation epoch 3: 100%|██████████| 27/27 [00:11<00:00,  2.26it/s]\n"
     ]
    },
    {
     "name": "stdout",
     "output_type": "stream",
     "text": [
      "Epoch 3:\n",
      "    Train loss 0.270, accuracy 0.840, F1-score 0.882, MCC: 0.550, Dice: 0.882\n",
      "    Val loss 0.268, accuracy 0.858, F1-score 0.903, MCC: 0.585, Dice: 0.903\n"
     ]
    },
    {
     "name": "stderr",
     "output_type": "stream",
     "text": [
      "Training epoch 4: 100%|██████████| 2/2 [00:02<00:00,  1.42s/it]\n",
      "Validation epoch 4: 100%|██████████| 27/27 [00:12<00:00,  2.21it/s]\n",
      "Training epoch 5:   0%|          | 0/2 [00:00<?, ?it/s]"
     ]
    },
    {
     "name": "stdout",
     "output_type": "stream",
     "text": [
      "Epoch 4:\n",
      "    Train loss 0.279, accuracy 0.858, F1-score 0.881, MCC: 0.553, Dice: 0.881\n",
      "    Val loss 0.268, accuracy 0.852, F1-score 0.899, MCC: 0.576, Dice: 0.899\n"
     ]
    },
    {
     "name": "stderr",
     "output_type": "stream",
     "text": [
      "Training epoch 5: 100%|██████████| 2/2 [00:02<00:00,  1.33s/it]\n",
      "Validation epoch 5: 100%|██████████| 27/27 [00:12<00:00,  2.21it/s]\n"
     ]
    },
    {
     "name": "stdout",
     "output_type": "stream",
     "text": [
      "Epoch 5:\n",
      "    Train loss 0.279, accuracy 0.858, F1-score 0.908, MCC: 0.598, Dice: 0.908\n",
      "    Val loss 0.264, accuracy 0.857, F1-score 0.902, MCC: 0.590, Dice: 0.902\n"
     ]
    },
    {
     "name": "stderr",
     "output_type": "stream",
     "text": [
      "Training epoch 6: 100%|██████████| 2/2 [00:02<00:00,  1.26s/it]\n",
      "Validation epoch 6: 100%|██████████| 27/27 [00:12<00:00,  2.10it/s]\n"
     ]
    },
    {
     "name": "stdout",
     "output_type": "stream",
     "text": [
      "Epoch 6:\n",
      "    Train loss 0.269, accuracy 0.845, F1-score 0.896, MCC: 0.581, Dice: 0.896\n",
      "    Val loss 0.259, accuracy 0.860, F1-score 0.907, MCC: 0.599, Dice: 0.907\n"
     ]
    },
    {
     "name": "stderr",
     "output_type": "stream",
     "text": [
      "Training epoch 7: 100%|██████████| 2/2 [00:02<00:00,  1.29s/it]\n",
      "Validation epoch 7: 100%|██████████| 27/27 [00:13<00:00,  2.01it/s]\n",
      "Training epoch 8:   0%|          | 0/2 [00:00<?, ?it/s]"
     ]
    },
    {
     "name": "stdout",
     "output_type": "stream",
     "text": [
      "Epoch 7:\n",
      "    Train loss 0.271, accuracy 0.883, F1-score 0.911, MCC: 0.614, Dice: 0.911\n",
      "    Val loss 0.253, accuracy 0.857, F1-score 0.903, MCC: 0.595, Dice: 0.903\n"
     ]
    },
    {
     "name": "stderr",
     "output_type": "stream",
     "text": [
      "Training epoch 8: 100%|██████████| 2/2 [00:02<00:00,  1.18s/it]\n",
      "Validation epoch 8: 100%|██████████| 27/27 [00:13<00:00,  2.02it/s]\n",
      "Training epoch 9:   0%|          | 0/2 [00:00<?, ?it/s]"
     ]
    },
    {
     "name": "stdout",
     "output_type": "stream",
     "text": [
      "Epoch 8:\n",
      "    Train loss 0.244, accuracy 0.868, F1-score 0.892, MCC: 0.610, Dice: 0.892\n",
      "    Val loss 0.247, accuracy 0.860, F1-score 0.901, MCC: 0.596, Dice: 0.901\n"
     ]
    },
    {
     "name": "stderr",
     "output_type": "stream",
     "text": [
      "Training epoch 9: 100%|██████████| 2/2 [00:02<00:00,  1.49s/it]\n",
      "Validation epoch 9: 100%|██████████| 27/27 [00:13<00:00,  1.97it/s]\n"
     ]
    },
    {
     "name": "stdout",
     "output_type": "stream",
     "text": [
      "Epoch 9:\n",
      "    Train loss 0.247, accuracy 0.863, F1-score 0.913, MCC: 0.607, Dice: 0.913\n",
      "    Val loss 0.248, accuracy 0.861, F1-score 0.903, MCC: 0.600, Dice: 0.903\n"
     ]
    },
    {
     "name": "stderr",
     "output_type": "stream",
     "text": [
      "Training epoch 10: 100%|██████████| 2/2 [00:02<00:00,  1.44s/it]\n",
      "Validation epoch 10: 100%|██████████| 27/27 [00:14<00:00,  1.80it/s]\n"
     ]
    },
    {
     "name": "stdout",
     "output_type": "stream",
     "text": [
      "Epoch 10:\n",
      "    Train loss 0.239, accuracy 0.888, F1-score 0.920, MCC: 0.660, Dice: 0.920\n",
      "    Val loss 0.238, accuracy 0.865, F1-score 0.905, MCC: 0.603, Dice: 0.905\n"
     ]
    },
    {
     "name": "stderr",
     "output_type": "stream",
     "text": [
      "Training epoch 11: 100%|██████████| 2/2 [00:03<00:00,  1.57s/it]\n",
      "Validation epoch 11: 100%|██████████| 27/27 [00:15<00:00,  1.75it/s]\n"
     ]
    },
    {
     "name": "stdout",
     "output_type": "stream",
     "text": [
      "Epoch 11:\n",
      "    Train loss 0.252, accuracy 0.868, F1-score 0.880, MCC: 0.556, Dice: 0.880\n",
      "    Val loss 0.238, accuracy 0.870, F1-score 0.910, MCC: 0.613, Dice: 0.910\n"
     ]
    },
    {
     "name": "stderr",
     "output_type": "stream",
     "text": [
      "Training epoch 12: 100%|██████████| 2/2 [00:03<00:00,  1.52s/it]\n",
      "Validation epoch 12: 100%|██████████| 27/27 [00:14<00:00,  1.92it/s]\n",
      "Training epoch 13:   0%|          | 0/2 [00:00<?, ?it/s]"
     ]
    },
    {
     "name": "stdout",
     "output_type": "stream",
     "text": [
      "Epoch 12:\n",
      "    Train loss 0.229, accuracy 0.884, F1-score 0.906, MCC: 0.628, Dice: 0.906\n",
      "    Val loss 0.233, accuracy 0.868, F1-score 0.907, MCC: 0.611, Dice: 0.907\n"
     ]
    },
    {
     "name": "stderr",
     "output_type": "stream",
     "text": [
      "Training epoch 13: 100%|██████████| 2/2 [00:03<00:00,  1.66s/it]\n",
      "Validation epoch 13: 100%|██████████| 27/27 [00:14<00:00,  1.80it/s]\n",
      "Training epoch 14:   0%|          | 0/2 [00:00<?, ?it/s]"
     ]
    },
    {
     "name": "stdout",
     "output_type": "stream",
     "text": [
      "Epoch 13:\n",
      "    Train loss 0.224, accuracy 0.888, F1-score 0.922, MCC: 0.654, Dice: 0.922\n",
      "    Val loss 0.233, accuracy 0.865, F1-score 0.903, MCC: 0.605, Dice: 0.903\n"
     ]
    },
    {
     "name": "stderr",
     "output_type": "stream",
     "text": [
      "Training epoch 14: 100%|██████████| 2/2 [00:02<00:00,  1.41s/it]\n",
      "Validation epoch 14: 100%|██████████| 27/27 [00:15<00:00,  1.76it/s]\n"
     ]
    },
    {
     "name": "stdout",
     "output_type": "stream",
     "text": [
      "Epoch 14:\n",
      "    Train loss 0.230, accuracy 0.886, F1-score 0.912, MCC: 0.634, Dice: 0.912\n",
      "    Val loss 0.224, accuracy 0.866, F1-score 0.911, MCC: 0.615, Dice: 0.911\n"
     ]
    },
    {
     "name": "stderr",
     "output_type": "stream",
     "text": [
      "Training epoch 15: 100%|██████████| 2/2 [00:03<00:00,  1.61s/it]\n",
      "Validation epoch 15: 100%|██████████| 27/27 [00:15<00:00,  1.72it/s]\n",
      "Training epoch 16:   0%|          | 0/2 [00:00<?, ?it/s]"
     ]
    },
    {
     "name": "stdout",
     "output_type": "stream",
     "text": [
      "Epoch 15:\n",
      "    Train loss 0.212, accuracy 0.893, F1-score 0.901, MCC: 0.640, Dice: 0.901\n",
      "    Val loss 0.231, accuracy 0.865, F1-score 0.907, MCC: 0.613, Dice: 0.907\n"
     ]
    },
    {
     "name": "stderr",
     "output_type": "stream",
     "text": [
      "Training epoch 16: 100%|██████████| 2/2 [00:03<00:00,  1.54s/it]\n",
      "Validation epoch 16: 100%|██████████| 27/27 [00:16<00:00,  1.65it/s]\n",
      "Training epoch 17:   0%|          | 0/2 [00:00<?, ?it/s]"
     ]
    },
    {
     "name": "stdout",
     "output_type": "stream",
     "text": [
      "Epoch 16:\n",
      "    Train loss 0.207, accuracy 0.868, F1-score 0.911, MCC: 0.645, Dice: 0.911\n",
      "    Val loss 0.230, accuracy 0.859, F1-score 0.904, MCC: 0.607, Dice: 0.904\n"
     ]
    },
    {
     "name": "stderr",
     "output_type": "stream",
     "text": [
      "Training epoch 17: 100%|██████████| 2/2 [00:02<00:00,  1.48s/it]\n",
      "Validation epoch 17: 100%|██████████| 27/27 [00:15<00:00,  1.72it/s]\n"
     ]
    },
    {
     "name": "stdout",
     "output_type": "stream",
     "text": [
      "Epoch 17:\n",
      "    Train loss 0.217, accuracy 0.875, F1-score 0.907, MCC: 0.641, Dice: 0.907\n",
      "    Val loss 0.223, accuracy 0.866, F1-score 0.910, MCC: 0.622, Dice: 0.910\n"
     ]
    },
    {
     "name": "stderr",
     "output_type": "stream",
     "text": [
      "Training epoch 18: 100%|██████████| 2/2 [00:03<00:00,  1.80s/it]\n",
      "Validation epoch 18: 100%|██████████| 27/27 [00:16<00:00,  1.68it/s]\n",
      "Training epoch 19:   0%|          | 0/2 [00:00<?, ?it/s]"
     ]
    },
    {
     "name": "stdout",
     "output_type": "stream",
     "text": [
      "Epoch 18:\n",
      "    Train loss 0.233, accuracy 0.870, F1-score 0.910, MCC: 0.610, Dice: 0.910\n",
      "    Val loss 0.262, accuracy 0.841, F1-score 0.897, MCC: 0.424, Dice: 0.897\n"
     ]
    },
    {
     "name": "stderr",
     "output_type": "stream",
     "text": [
      "Training epoch 19: 100%|██████████| 2/2 [00:03<00:00,  1.53s/it]\n",
      "Validation epoch 19: 100%|██████████| 27/27 [00:16<00:00,  1.66it/s]\n",
      "Training epoch 20:   0%|          | 0/2 [00:00<?, ?it/s]"
     ]
    },
    {
     "name": "stdout",
     "output_type": "stream",
     "text": [
      "Epoch 19:\n",
      "    Train loss 0.214, accuracy 0.899, F1-score 0.929, MCC: 0.676, Dice: 0.929\n",
      "    Val loss 0.335, accuracy 0.802, F1-score 0.877, MCC: 0.073, Dice: 0.877\n"
     ]
    },
    {
     "name": "stderr",
     "output_type": "stream",
     "text": [
      "Training epoch 20: 100%|██████████| 2/2 [00:03<00:00,  1.75s/it]\n",
      "Validation epoch 20: 100%|██████████| 27/27 [00:15<00:00,  1.77it/s]\n",
      "Training epoch 21:   0%|          | 0/2 [00:00<?, ?it/s]"
     ]
    },
    {
     "name": "stdout",
     "output_type": "stream",
     "text": [
      "Epoch 20:\n",
      "    Train loss 0.207, accuracy 0.893, F1-score 0.913, MCC: 0.634, Dice: 0.913\n",
      "    Val loss 0.335, accuracy 0.801, F1-score 0.880, MCC: 0.166, Dice: 0.880\n"
     ]
    },
    {
     "name": "stderr",
     "output_type": "stream",
     "text": [
      "Training epoch 21: 100%|██████████| 2/2 [00:03<00:00,  1.57s/it]\n",
      "Validation epoch 21: 100%|██████████| 27/27 [00:15<00:00,  1.73it/s]\n",
      "Training epoch 22:   0%|          | 0/2 [00:00<?, ?it/s]"
     ]
    },
    {
     "name": "stdout",
     "output_type": "stream",
     "text": [
      "Epoch 21:\n",
      "    Train loss 0.209, accuracy 0.898, F1-score 0.913, MCC: 0.660, Dice: 0.913\n",
      "    Val loss 0.282, accuracy 0.836, F1-score 0.895, MCC: 0.419, Dice: 0.895\n"
     ]
    },
    {
     "name": "stderr",
     "output_type": "stream",
     "text": [
      "Training epoch 22: 100%|██████████| 2/2 [00:02<00:00,  1.48s/it]\n",
      "Validation epoch 22: 100%|██████████| 27/27 [00:16<00:00,  1.64it/s]\n",
      "Training epoch 23:   0%|          | 0/2 [00:00<?, ?it/s]"
     ]
    },
    {
     "name": "stdout",
     "output_type": "stream",
     "text": [
      "Epoch 22:\n",
      "    Train loss 0.205, accuracy 0.865, F1-score 0.907, MCC: 0.648, Dice: 0.907\n",
      "    Val loss 0.251, accuracy 0.853, F1-score 0.903, MCC: 0.535, Dice: 0.903\n"
     ]
    },
    {
     "name": "stderr",
     "output_type": "stream",
     "text": [
      "Training epoch 23: 100%|██████████| 2/2 [00:03<00:00,  1.66s/it]\n",
      "Validation epoch 23: 100%|██████████| 27/27 [00:16<00:00,  1.63it/s]\n",
      "Training epoch 24:   0%|          | 0/2 [00:00<?, ?it/s]"
     ]
    },
    {
     "name": "stdout",
     "output_type": "stream",
     "text": [
      "Epoch 23:\n",
      "    Train loss 0.207, accuracy 0.889, F1-score 0.922, MCC: 0.652, Dice: 0.922\n",
      "    Val loss 0.249, accuracy 0.840, F1-score 0.892, MCC: 0.563, Dice: 0.892\n"
     ]
    },
    {
     "name": "stderr",
     "output_type": "stream",
     "text": [
      "Training epoch 24: 100%|██████████| 2/2 [00:03<00:00,  1.73s/it]\n",
      "Validation epoch 24: 100%|██████████| 27/27 [00:17<00:00,  1.58it/s]\n",
      "Training epoch 25:   0%|          | 0/2 [00:00<?, ?it/s]"
     ]
    },
    {
     "name": "stdout",
     "output_type": "stream",
     "text": [
      "Epoch 24:\n",
      "    Train loss 0.207, accuracy 0.909, F1-score 0.935, MCC: 0.710, Dice: 0.935\n",
      "    Val loss 0.239, accuracy 0.849, F1-score 0.894, MCC: 0.579, Dice: 0.894\n"
     ]
    },
    {
     "name": "stderr",
     "output_type": "stream",
     "text": [
      "Training epoch 25: 100%|██████████| 2/2 [00:03<00:00,  1.64s/it]\n",
      "Validation epoch 25: 100%|██████████| 27/27 [00:15<00:00,  1.72it/s]\n",
      "Training epoch 26:   0%|          | 0/2 [00:00<?, ?it/s]"
     ]
    },
    {
     "name": "stdout",
     "output_type": "stream",
     "text": [
      "Epoch 25:\n",
      "    Train loss 0.193, accuracy 0.867, F1-score 0.911, MCC: 0.655, Dice: 0.911\n",
      "    Val loss 0.229, accuracy 0.858, F1-score 0.905, MCC: 0.602, Dice: 0.905\n"
     ]
    },
    {
     "name": "stderr",
     "output_type": "stream",
     "text": [
      "Training epoch 26: 100%|██████████| 2/2 [00:03<00:00,  1.64s/it]\n",
      "Validation epoch 26: 100%|██████████| 27/27 [00:16<00:00,  1.66it/s]\n",
      "Training epoch 27:   0%|          | 0/2 [00:00<?, ?it/s]"
     ]
    },
    {
     "name": "stdout",
     "output_type": "stream",
     "text": [
      "Epoch 26:\n",
      "    Train loss 0.201, accuracy 0.882, F1-score 0.917, MCC: 0.672, Dice: 0.917\n",
      "    Val loss 0.234, accuracy 0.848, F1-score 0.896, MCC: 0.593, Dice: 0.896\n"
     ]
    },
    {
     "name": "stderr",
     "output_type": "stream",
     "text": [
      "Training epoch 27: 100%|██████████| 2/2 [00:03<00:00,  1.62s/it]\n",
      "Validation epoch 27: 100%|██████████| 27/27 [00:15<00:00,  1.72it/s]\n",
      "Training epoch 28:   0%|          | 0/2 [00:00<?, ?it/s]"
     ]
    },
    {
     "name": "stdout",
     "output_type": "stream",
     "text": [
      "Epoch 27:\n",
      "    Train loss 0.184, accuracy 0.904, F1-score 0.929, MCC: 0.710, Dice: 0.929\n",
      "    Val loss 0.228, accuracy 0.852, F1-score 0.898, MCC: 0.593, Dice: 0.898\n"
     ]
    },
    {
     "name": "stderr",
     "output_type": "stream",
     "text": [
      "Training epoch 28: 100%|██████████| 2/2 [00:03<00:00,  1.64s/it]\n",
      "Validation epoch 28: 100%|██████████| 27/27 [00:16<00:00,  1.63it/s]\n",
      "Training epoch 29:   0%|          | 0/2 [00:00<?, ?it/s]"
     ]
    },
    {
     "name": "stdout",
     "output_type": "stream",
     "text": [
      "Epoch 28:\n",
      "    Train loss 0.211, accuracy 0.875, F1-score 0.917, MCC: 0.621, Dice: 0.917\n",
      "    Val loss 0.234, accuracy 0.853, F1-score 0.899, MCC: 0.590, Dice: 0.899\n"
     ]
    },
    {
     "name": "stderr",
     "output_type": "stream",
     "text": [
      "Training epoch 29: 100%|██████████| 2/2 [00:02<00:00,  1.40s/it]\n",
      "Validation epoch 29: 100%|██████████| 27/27 [00:16<00:00,  1.64it/s]\n",
      "Training epoch 30:   0%|          | 0/2 [00:00<?, ?it/s]"
     ]
    },
    {
     "name": "stdout",
     "output_type": "stream",
     "text": [
      "Epoch 29:\n",
      "    Train loss 0.200, accuracy 0.897, F1-score 0.927, MCC: 0.688, Dice: 0.927\n",
      "    Val loss 0.227, accuracy 0.861, F1-score 0.905, MCC: 0.594, Dice: 0.905\n"
     ]
    },
    {
     "name": "stderr",
     "output_type": "stream",
     "text": [
      "Training epoch 30: 100%|██████████| 2/2 [00:02<00:00,  1.32s/it]\n",
      "Validation epoch 30: 100%|██████████| 27/27 [00:16<00:00,  1.63it/s]\n",
      "Training epoch 31:   0%|          | 0/2 [00:00<?, ?it/s]"
     ]
    },
    {
     "name": "stdout",
     "output_type": "stream",
     "text": [
      "Epoch 30:\n",
      "    Train loss 0.195, accuracy 0.896, F1-score 0.930, MCC: 0.683, Dice: 0.930\n",
      "    Val loss 0.228, accuracy 0.861, F1-score 0.906, MCC: 0.595, Dice: 0.906\n"
     ]
    },
    {
     "name": "stderr",
     "output_type": "stream",
     "text": [
      "Training epoch 31: 100%|██████████| 2/2 [00:03<00:00,  1.94s/it]\n",
      "Validation epoch 31: 100%|██████████| 27/27 [00:15<00:00,  1.70it/s]\n",
      "Training epoch 32:   0%|          | 0/2 [00:00<?, ?it/s]"
     ]
    },
    {
     "name": "stdout",
     "output_type": "stream",
     "text": [
      "Epoch 31:\n",
      "    Train loss 0.179, accuracy 0.882, F1-score 0.922, MCC: 0.697, Dice: 0.922\n",
      "    Val loss 0.228, accuracy 0.863, F1-score 0.910, MCC: 0.600, Dice: 0.910\n"
     ]
    },
    {
     "name": "stderr",
     "output_type": "stream",
     "text": [
      "Training epoch 32: 100%|██████████| 2/2 [00:03<00:00,  1.57s/it]\n",
      "Validation epoch 32: 100%|██████████| 27/27 [00:16<00:00,  1.66it/s]\n",
      "Training epoch 33:   0%|          | 0/2 [00:00<?, ?it/s]"
     ]
    },
    {
     "name": "stdout",
     "output_type": "stream",
     "text": [
      "Epoch 32:\n",
      "    Train loss 0.177, accuracy 0.890, F1-score 0.925, MCC: 0.696, Dice: 0.925\n",
      "    Val loss 0.223, accuracy 0.860, F1-score 0.906, MCC: 0.602, Dice: 0.906\n"
     ]
    },
    {
     "name": "stderr",
     "output_type": "stream",
     "text": [
      "Training epoch 33: 100%|██████████| 2/2 [00:03<00:00,  1.72s/it]\n",
      "Validation epoch 33: 100%|██████████| 27/27 [00:15<00:00,  1.75it/s]\n",
      "Training epoch 34:   0%|          | 0/2 [00:00<?, ?it/s]"
     ]
    },
    {
     "name": "stdout",
     "output_type": "stream",
     "text": [
      "Epoch 33:\n",
      "    Train loss 0.195, accuracy 0.915, F1-score 0.943, MCC: 0.729, Dice: 0.943\n",
      "    Val loss 0.228, accuracy 0.866, F1-score 0.910, MCC: 0.607, Dice: 0.910\n"
     ]
    },
    {
     "name": "stderr",
     "output_type": "stream",
     "text": [
      "Training epoch 34: 100%|██████████| 2/2 [00:03<00:00,  1.58s/it]\n",
      "Validation epoch 34: 100%|██████████| 27/27 [00:16<00:00,  1.63it/s]\n",
      "Training epoch 35:   0%|          | 0/2 [00:00<?, ?it/s]"
     ]
    },
    {
     "name": "stdout",
     "output_type": "stream",
     "text": [
      "Epoch 34:\n",
      "    Train loss 0.195, accuracy 0.912, F1-score 0.934, MCC: 0.701, Dice: 0.934\n",
      "    Val loss 0.228, accuracy 0.864, F1-score 0.910, MCC: 0.604, Dice: 0.910\n"
     ]
    },
    {
     "name": "stderr",
     "output_type": "stream",
     "text": [
      "Training epoch 35: 100%|██████████| 2/2 [00:03<00:00,  1.79s/it]\n",
      "Validation epoch 35: 100%|██████████| 27/27 [00:17<00:00,  1.56it/s]\n",
      "Training epoch 36:   0%|          | 0/2 [00:00<?, ?it/s]"
     ]
    },
    {
     "name": "stdout",
     "output_type": "stream",
     "text": [
      "Epoch 35:\n",
      "    Train loss 0.195, accuracy 0.905, F1-score 0.928, MCC: 0.689, Dice: 0.928\n",
      "    Val loss 0.226, accuracy 0.868, F1-score 0.912, MCC: 0.608, Dice: 0.912\n"
     ]
    },
    {
     "name": "stderr",
     "output_type": "stream",
     "text": [
      "Training epoch 36: 100%|██████████| 2/2 [00:03<00:00,  1.55s/it]\n",
      "Validation epoch 36: 100%|██████████| 27/27 [00:17<00:00,  1.56it/s]\n",
      "Training epoch 37:   0%|          | 0/2 [00:00<?, ?it/s]"
     ]
    },
    {
     "name": "stdout",
     "output_type": "stream",
     "text": [
      "Epoch 36:\n",
      "    Train loss 0.180, accuracy 0.903, F1-score 0.926, MCC: 0.700, Dice: 0.926\n",
      "    Val loss 0.226, accuracy 0.864, F1-score 0.911, MCC: 0.602, Dice: 0.911\n"
     ]
    },
    {
     "name": "stderr",
     "output_type": "stream",
     "text": [
      "Training epoch 37: 100%|██████████| 2/2 [00:03<00:00,  1.66s/it]\n",
      "Validation epoch 37: 100%|██████████| 27/27 [00:17<00:00,  1.53it/s]\n",
      "Training epoch 38:   0%|          | 0/2 [00:00<?, ?it/s]"
     ]
    },
    {
     "name": "stdout",
     "output_type": "stream",
     "text": [
      "Epoch 37:\n",
      "    Train loss 0.199, accuracy 0.862, F1-score 0.908, MCC: 0.644, Dice: 0.908\n",
      "    Val loss 0.225, accuracy 0.867, F1-score 0.912, MCC: 0.606, Dice: 0.912\n"
     ]
    },
    {
     "name": "stderr",
     "output_type": "stream",
     "text": [
      "Training epoch 38: 100%|██████████| 2/2 [00:03<00:00,  1.85s/it]\n",
      "Validation epoch 38: 100%|██████████| 27/27 [00:16<00:00,  1.60it/s]\n",
      "Training epoch 39:   0%|          | 0/2 [00:00<?, ?it/s]"
     ]
    },
    {
     "name": "stdout",
     "output_type": "stream",
     "text": [
      "Epoch 38:\n",
      "    Train loss 0.187, accuracy 0.894, F1-score 0.913, MCC: 0.660, Dice: 0.913\n",
      "    Val loss 0.226, accuracy 0.862, F1-score 0.907, MCC: 0.606, Dice: 0.907\n"
     ]
    },
    {
     "name": "stderr",
     "output_type": "stream",
     "text": [
      "Training epoch 39: 100%|██████████| 2/2 [00:03<00:00,  1.83s/it]\n",
      "Validation epoch 39: 100%|██████████| 27/27 [00:16<00:00,  1.59it/s]\n",
      "Training epoch 40:   0%|          | 0/2 [00:00<?, ?it/s]"
     ]
    },
    {
     "name": "stdout",
     "output_type": "stream",
     "text": [
      "Epoch 39:\n",
      "    Train loss 0.172, accuracy 0.908, F1-score 0.929, MCC: 0.708, Dice: 0.929\n",
      "    Val loss 0.229, accuracy 0.869, F1-score 0.909, MCC: 0.613, Dice: 0.909\n"
     ]
    },
    {
     "name": "stderr",
     "output_type": "stream",
     "text": [
      "Training epoch 40: 100%|██████████| 2/2 [00:03<00:00,  1.78s/it]\n",
      "Validation epoch 40: 100%|██████████| 27/27 [00:16<00:00,  1.67it/s]\n",
      "Training epoch 41:   0%|          | 0/2 [00:00<?, ?it/s]"
     ]
    },
    {
     "name": "stdout",
     "output_type": "stream",
     "text": [
      "Epoch 40:\n",
      "    Train loss 0.186, accuracy 0.902, F1-score 0.933, MCC: 0.701, Dice: 0.933\n",
      "    Val loss 0.226, accuracy 0.861, F1-score 0.908, MCC: 0.607, Dice: 0.908\n"
     ]
    },
    {
     "name": "stderr",
     "output_type": "stream",
     "text": [
      "Training epoch 41: 100%|██████████| 2/2 [00:03<00:00,  1.76s/it]\n",
      "Validation epoch 41: 100%|██████████| 27/27 [00:16<00:00,  1.65it/s]\n",
      "Training epoch 42:   0%|          | 0/2 [00:00<?, ?it/s]"
     ]
    },
    {
     "name": "stdout",
     "output_type": "stream",
     "text": [
      "Epoch 41:\n",
      "    Train loss 0.176, accuracy 0.908, F1-score 0.937, MCC: 0.719, Dice: 0.937\n",
      "    Val loss 0.226, accuracy 0.865, F1-score 0.908, MCC: 0.610, Dice: 0.908\n"
     ]
    },
    {
     "name": "stderr",
     "output_type": "stream",
     "text": [
      "Training epoch 42: 100%|██████████| 2/2 [00:03<00:00,  1.52s/it]\n",
      "Validation epoch 42: 100%|██████████| 27/27 [00:16<00:00,  1.62it/s]\n",
      "Training epoch 43:   0%|          | 0/2 [00:00<?, ?it/s]"
     ]
    },
    {
     "name": "stdout",
     "output_type": "stream",
     "text": [
      "Epoch 42:\n",
      "    Train loss 0.182, accuracy 0.903, F1-score 0.936, MCC: 0.727, Dice: 0.936\n",
      "    Val loss 0.226, accuracy 0.859, F1-score 0.905, MCC: 0.605, Dice: 0.905\n"
     ]
    },
    {
     "name": "stderr",
     "output_type": "stream",
     "text": [
      "Training epoch 43: 100%|██████████| 2/2 [00:02<00:00,  1.46s/it]\n",
      "Validation epoch 43: 100%|██████████| 27/27 [00:16<00:00,  1.63it/s]\n",
      "Training epoch 44:   0%|          | 0/2 [00:00<?, ?it/s]"
     ]
    },
    {
     "name": "stdout",
     "output_type": "stream",
     "text": [
      "Epoch 43:\n",
      "    Train loss 0.156, accuracy 0.914, F1-score 0.933, MCC: 0.739, Dice: 0.933\n",
      "    Val loss 0.226, accuracy 0.860, F1-score 0.906, MCC: 0.612, Dice: 0.906\n"
     ]
    },
    {
     "name": "stderr",
     "output_type": "stream",
     "text": [
      "Training epoch 44: 100%|██████████| 2/2 [00:03<00:00,  1.54s/it]\n",
      "Validation epoch 44: 100%|██████████| 27/27 [00:17<00:00,  1.57it/s]\n",
      "Training epoch 45:   0%|          | 0/2 [00:00<?, ?it/s]"
     ]
    },
    {
     "name": "stdout",
     "output_type": "stream",
     "text": [
      "Epoch 44:\n",
      "    Train loss 0.165, accuracy 0.908, F1-score 0.923, MCC: 0.712, Dice: 0.923\n",
      "    Val loss 0.226, accuracy 0.866, F1-score 0.910, MCC: 0.616, Dice: 0.910\n"
     ]
    },
    {
     "name": "stderr",
     "output_type": "stream",
     "text": [
      "Training epoch 45: 100%|██████████| 2/2 [00:03<00:00,  1.77s/it]\n",
      "Validation epoch 45: 100%|██████████| 27/27 [00:17<00:00,  1.57it/s]\n",
      "Training epoch 46:   0%|          | 0/2 [00:00<?, ?it/s]"
     ]
    },
    {
     "name": "stdout",
     "output_type": "stream",
     "text": [
      "Epoch 45:\n",
      "    Train loss 0.167, accuracy 0.904, F1-score 0.922, MCC: 0.705, Dice: 0.922\n",
      "    Val loss 0.227, accuracy 0.855, F1-score 0.901, MCC: 0.602, Dice: 0.901\n"
     ]
    },
    {
     "name": "stderr",
     "output_type": "stream",
     "text": [
      "Training epoch 46: 100%|██████████| 2/2 [00:03<00:00,  1.58s/it]\n",
      "Validation epoch 46: 100%|██████████| 27/27 [00:16<00:00,  1.59it/s]\n",
      "Training epoch 47:   0%|          | 0/2 [00:00<?, ?it/s]"
     ]
    },
    {
     "name": "stdout",
     "output_type": "stream",
     "text": [
      "Epoch 46:\n",
      "    Train loss 0.169, accuracy 0.902, F1-score 0.935, MCC: 0.726, Dice: 0.935\n",
      "    Val loss 0.226, accuracy 0.863, F1-score 0.909, MCC: 0.610, Dice: 0.909\n"
     ]
    },
    {
     "name": "stderr",
     "output_type": "stream",
     "text": [
      "Training epoch 47: 100%|██████████| 2/2 [00:03<00:00,  1.70s/it]\n",
      "Validation epoch 47: 100%|██████████| 27/27 [00:16<00:00,  1.61it/s]\n",
      "Training epoch 48:   0%|          | 0/2 [00:00<?, ?it/s]"
     ]
    },
    {
     "name": "stdout",
     "output_type": "stream",
     "text": [
      "Epoch 47:\n",
      "    Train loss 0.158, accuracy 0.894, F1-score 0.930, MCC: 0.721, Dice: 0.930\n",
      "    Val loss 0.225, accuracy 0.870, F1-score 0.911, MCC: 0.616, Dice: 0.911\n"
     ]
    },
    {
     "name": "stderr",
     "output_type": "stream",
     "text": [
      "Training epoch 48: 100%|██████████| 2/2 [00:03<00:00,  1.61s/it]\n",
      "Validation epoch 48: 100%|██████████| 27/27 [00:16<00:00,  1.60it/s]\n",
      "Training epoch 49:   0%|          | 0/2 [00:00<?, ?it/s]"
     ]
    },
    {
     "name": "stdout",
     "output_type": "stream",
     "text": [
      "Epoch 48:\n",
      "    Train loss 0.174, accuracy 0.898, F1-score 0.930, MCC: 0.719, Dice: 0.930\n",
      "    Val loss 0.229, accuracy 0.863, F1-score 0.902, MCC: 0.602, Dice: 0.902\n"
     ]
    },
    {
     "name": "stderr",
     "output_type": "stream",
     "text": [
      "Training epoch 49: 100%|██████████| 2/2 [00:03<00:00,  1.73s/it]\n",
      "Validation epoch 49: 100%|██████████| 27/27 [00:15<00:00,  1.79it/s]\n"
     ]
    },
    {
     "name": "stdout",
     "output_type": "stream",
     "text": [
      "Epoch 49:\n",
      "    Train loss 0.186, accuracy 0.907, F1-score 0.934, MCC: 0.713, Dice: 0.934\n",
      "    Val loss 0.219, accuracy 0.872, F1-score 0.915, MCC: 0.626, Dice: 0.915\n"
     ]
    },
    {
     "name": "stderr",
     "output_type": "stream",
     "text": [
      "Training epoch 50: 100%|██████████| 2/2 [00:03<00:00,  1.55s/it]\n",
      "Validation epoch 50: 100%|██████████| 27/27 [00:16<00:00,  1.67it/s]\n",
      "Training epoch 51:   0%|          | 0/2 [00:00<?, ?it/s]"
     ]
    },
    {
     "name": "stdout",
     "output_type": "stream",
     "text": [
      "Epoch 50:\n",
      "    Train loss 0.167, accuracy 0.911, F1-score 0.937, MCC: 0.733, Dice: 0.937\n",
      "    Val loss 0.221, accuracy 0.864, F1-score 0.904, MCC: 0.608, Dice: 0.904\n"
     ]
    },
    {
     "name": "stderr",
     "output_type": "stream",
     "text": [
      "Training epoch 51: 100%|██████████| 2/2 [00:03<00:00,  1.79s/it]\n",
      "Validation epoch 51: 100%|██████████| 27/27 [00:16<00:00,  1.60it/s]\n",
      "Training epoch 52:   0%|          | 0/2 [00:00<?, ?it/s]"
     ]
    },
    {
     "name": "stdout",
     "output_type": "stream",
     "text": [
      "Epoch 51:\n",
      "    Train loss 0.162, accuracy 0.895, F1-score 0.926, MCC: 0.716, Dice: 0.926\n",
      "    Val loss 0.230, accuracy 0.864, F1-score 0.908, MCC: 0.614, Dice: 0.908\n"
     ]
    },
    {
     "name": "stderr",
     "output_type": "stream",
     "text": [
      "Training epoch 52: 100%|██████████| 2/2 [00:03<00:00,  1.54s/it]\n",
      "Validation epoch 52: 100%|██████████| 27/27 [00:15<00:00,  1.72it/s]\n",
      "Training epoch 53:   0%|          | 0/2 [00:00<?, ?it/s]"
     ]
    },
    {
     "name": "stdout",
     "output_type": "stream",
     "text": [
      "Epoch 52:\n",
      "    Train loss 0.158, accuracy 0.912, F1-score 0.937, MCC: 0.736, Dice: 0.937\n",
      "    Val loss 0.223, accuracy 0.869, F1-score 0.912, MCC: 0.613, Dice: 0.912\n"
     ]
    },
    {
     "name": "stderr",
     "output_type": "stream",
     "text": [
      "Training epoch 53: 100%|██████████| 2/2 [00:03<00:00,  1.65s/it]\n",
      "Validation epoch 53: 100%|██████████| 27/27 [00:16<00:00,  1.63it/s]\n",
      "Training epoch 54:   0%|          | 0/2 [00:00<?, ?it/s]"
     ]
    },
    {
     "name": "stdout",
     "output_type": "stream",
     "text": [
      "Epoch 53:\n",
      "    Train loss 0.174, accuracy 0.901, F1-score 0.932, MCC: 0.696, Dice: 0.932\n",
      "    Val loss 0.227, accuracy 0.868, F1-score 0.911, MCC: 0.617, Dice: 0.911\n"
     ]
    },
    {
     "name": "stderr",
     "output_type": "stream",
     "text": [
      "Training epoch 54: 100%|██████████| 2/2 [00:03<00:00,  1.54s/it]\n",
      "Validation epoch 54: 100%|██████████| 27/27 [00:15<00:00,  1.70it/s]\n",
      "Training epoch 55:   0%|          | 0/2 [00:00<?, ?it/s]"
     ]
    },
    {
     "name": "stdout",
     "output_type": "stream",
     "text": [
      "Epoch 54:\n",
      "    Train loss 0.166, accuracy 0.907, F1-score 0.931, MCC: 0.714, Dice: 0.931\n",
      "    Val loss 0.224, accuracy 0.873, F1-score 0.914, MCC: 0.622, Dice: 0.914\n"
     ]
    },
    {
     "name": "stderr",
     "output_type": "stream",
     "text": [
      "Training epoch 55: 100%|██████████| 2/2 [00:03<00:00,  1.71s/it]\n",
      "Validation epoch 55: 100%|██████████| 27/27 [00:16<00:00,  1.68it/s]\n"
     ]
    },
    {
     "name": "stdout",
     "output_type": "stream",
     "text": [
      "Epoch 55:\n",
      "    Train loss 0.183, accuracy 0.921, F1-score 0.944, MCC: 0.744, Dice: 0.944\n",
      "    Val loss 0.219, accuracy 0.872, F1-score 0.915, MCC: 0.626, Dice: 0.915\n"
     ]
    },
    {
     "name": "stderr",
     "output_type": "stream",
     "text": [
      "Training epoch 56: 100%|██████████| 2/2 [00:03<00:00,  1.74s/it]\n",
      "Validation epoch 56: 100%|██████████| 27/27 [00:17<00:00,  1.58it/s]\n",
      "Training epoch 57:   0%|          | 0/2 [00:00<?, ?it/s]"
     ]
    },
    {
     "name": "stdout",
     "output_type": "stream",
     "text": [
      "Epoch 56:\n",
      "    Train loss 0.192, accuracy 0.889, F1-score 0.910, MCC: 0.653, Dice: 0.910\n",
      "    Val loss 0.235, accuracy 0.865, F1-score 0.908, MCC: 0.612, Dice: 0.908\n"
     ]
    },
    {
     "name": "stderr",
     "output_type": "stream",
     "text": [
      "Training epoch 57: 100%|██████████| 2/2 [00:03<00:00,  1.67s/it]\n",
      "Validation epoch 57: 100%|██████████| 27/27 [00:15<00:00,  1.75it/s]\n",
      "Training epoch 58:   0%|          | 0/2 [00:00<?, ?it/s]"
     ]
    },
    {
     "name": "stdout",
     "output_type": "stream",
     "text": [
      "Epoch 57:\n",
      "    Train loss 0.169, accuracy 0.909, F1-score 0.928, MCC: 0.707, Dice: 0.928\n",
      "    Val loss 0.221, accuracy 0.867, F1-score 0.911, MCC: 0.618, Dice: 0.911\n"
     ]
    },
    {
     "name": "stderr",
     "output_type": "stream",
     "text": [
      "Training epoch 58: 100%|██████████| 2/2 [00:03<00:00,  1.51s/it]\n",
      "Validation epoch 58: 100%|██████████| 27/27 [00:16<00:00,  1.64it/s]\n",
      "Training epoch 59:   0%|          | 0/2 [00:00<?, ?it/s]"
     ]
    },
    {
     "name": "stdout",
     "output_type": "stream",
     "text": [
      "Epoch 58:\n",
      "    Train loss 0.175, accuracy 0.911, F1-score 0.930, MCC: 0.711, Dice: 0.930\n",
      "    Val loss 0.224, accuracy 0.874, F1-score 0.916, MCC: 0.623, Dice: 0.916\n"
     ]
    },
    {
     "name": "stderr",
     "output_type": "stream",
     "text": [
      "Training epoch 59: 100%|██████████| 2/2 [00:03<00:00,  1.52s/it]\n",
      "Validation epoch 59: 100%|██████████| 27/27 [00:16<00:00,  1.59it/s]\n",
      "Training epoch 60:   0%|          | 0/2 [00:00<?, ?it/s]"
     ]
    },
    {
     "name": "stdout",
     "output_type": "stream",
     "text": [
      "Epoch 59:\n",
      "    Train loss 0.184, accuracy 0.898, F1-score 0.933, MCC: 0.703, Dice: 0.933\n",
      "    Val loss 0.223, accuracy 0.871, F1-score 0.914, MCC: 0.615, Dice: 0.914\n"
     ]
    },
    {
     "name": "stderr",
     "output_type": "stream",
     "text": [
      "Training epoch 60: 100%|██████████| 2/2 [00:02<00:00,  1.42s/it]\n",
      "Validation epoch 60: 100%|██████████| 27/27 [00:17<00:00,  1.54it/s]\n",
      "Training epoch 61:   0%|          | 0/2 [00:00<?, ?it/s]"
     ]
    },
    {
     "name": "stdout",
     "output_type": "stream",
     "text": [
      "Epoch 60:\n",
      "    Train loss 0.147, accuracy 0.908, F1-score 0.926, MCC: 0.724, Dice: 0.926\n",
      "    Val loss 0.230, accuracy 0.865, F1-score 0.910, MCC: 0.610, Dice: 0.910\n"
     ]
    },
    {
     "name": "stderr",
     "output_type": "stream",
     "text": [
      "Training epoch 61: 100%|██████████| 2/2 [00:02<00:00,  1.49s/it]\n",
      "Validation epoch 61: 100%|██████████| 27/27 [00:17<00:00,  1.54it/s]\n",
      "Training epoch 62:   0%|          | 0/2 [00:00<?, ?it/s]"
     ]
    },
    {
     "name": "stdout",
     "output_type": "stream",
     "text": [
      "Epoch 61:\n",
      "    Train loss 0.156, accuracy 0.906, F1-score 0.933, MCC: 0.708, Dice: 0.933\n",
      "    Val loss 0.225, accuracy 0.872, F1-score 0.915, MCC: 0.623, Dice: 0.915\n"
     ]
    },
    {
     "name": "stderr",
     "output_type": "stream",
     "text": [
      "Training epoch 62: 100%|██████████| 2/2 [00:03<00:00,  1.57s/it]\n",
      "Validation epoch 62: 100%|██████████| 27/27 [00:16<00:00,  1.62it/s]\n"
     ]
    },
    {
     "name": "stdout",
     "output_type": "stream",
     "text": [
      "Epoch 62:\n",
      "    Train loss 0.162, accuracy 0.902, F1-score 0.935, MCC: 0.713, Dice: 0.935\n",
      "    Val loss 0.227, accuracy 0.874, F1-score 0.916, MCC: 0.626, Dice: 0.916\n"
     ]
    },
    {
     "name": "stderr",
     "output_type": "stream",
     "text": [
      "Training epoch 63: 100%|██████████| 2/2 [00:03<00:00,  1.60s/it]\n",
      "Validation epoch 63: 100%|██████████| 27/27 [00:16<00:00,  1.60it/s]\n",
      "Training epoch 64:   0%|          | 0/2 [00:00<?, ?it/s]"
     ]
    },
    {
     "name": "stdout",
     "output_type": "stream",
     "text": [
      "Epoch 63:\n",
      "    Train loss 0.196, accuracy 0.897, F1-score 0.915, MCC: 0.685, Dice: 0.915\n",
      "    Val loss 0.225, accuracy 0.867, F1-score 0.910, MCC: 0.615, Dice: 0.910\n"
     ]
    },
    {
     "name": "stderr",
     "output_type": "stream",
     "text": [
      "Training epoch 64: 100%|██████████| 2/2 [00:03<00:00,  1.54s/it]\n",
      "Validation epoch 64: 100%|██████████| 27/27 [00:16<00:00,  1.63it/s]\n"
     ]
    },
    {
     "name": "stdout",
     "output_type": "stream",
     "text": [
      "Epoch 64:\n",
      "    Train loss 0.157, accuracy 0.916, F1-score 0.924, MCC: 0.707, Dice: 0.924\n",
      "    Val loss 0.222, accuracy 0.874, F1-score 0.914, MCC: 0.626, Dice: 0.914\n"
     ]
    },
    {
     "name": "stderr",
     "output_type": "stream",
     "text": [
      "Training epoch 65: 100%|██████████| 2/2 [00:03<00:00,  1.55s/it]\n",
      "Validation epoch 65: 100%|██████████| 27/27 [00:17<00:00,  1.56it/s]\n",
      "Training epoch 66:   0%|          | 0/2 [00:00<?, ?it/s]"
     ]
    },
    {
     "name": "stdout",
     "output_type": "stream",
     "text": [
      "Epoch 65:\n",
      "    Train loss 0.177, accuracy 0.909, F1-score 0.932, MCC: 0.712, Dice: 0.932\n",
      "    Val loss 0.225, accuracy 0.873, F1-score 0.913, MCC: 0.619, Dice: 0.913\n"
     ]
    },
    {
     "name": "stderr",
     "output_type": "stream",
     "text": [
      "Training epoch 66: 100%|██████████| 2/2 [00:03<00:00,  1.52s/it]\n",
      "Validation epoch 66: 100%|██████████| 27/27 [00:16<00:00,  1.62it/s]\n",
      "Training epoch 67:   0%|          | 0/2 [00:00<?, ?it/s]"
     ]
    },
    {
     "name": "stdout",
     "output_type": "stream",
     "text": [
      "Epoch 66:\n",
      "    Train loss 0.170, accuracy 0.904, F1-score 0.923, MCC: 0.717, Dice: 0.923\n",
      "    Val loss 0.228, accuracy 0.869, F1-score 0.910, MCC: 0.617, Dice: 0.910\n"
     ]
    },
    {
     "name": "stderr",
     "output_type": "stream",
     "text": [
      "Training epoch 67: 100%|██████████| 2/2 [00:03<00:00,  1.64s/it]\n",
      "Validation epoch 67: 100%|██████████| 27/27 [00:16<00:00,  1.63it/s]\n",
      "Training epoch 68:   0%|          | 0/2 [00:00<?, ?it/s]"
     ]
    },
    {
     "name": "stdout",
     "output_type": "stream",
     "text": [
      "Epoch 67:\n",
      "    Train loss 0.157, accuracy 0.906, F1-score 0.929, MCC: 0.718, Dice: 0.929\n",
      "    Val loss 0.230, accuracy 0.867, F1-score 0.909, MCC: 0.614, Dice: 0.909\n"
     ]
    },
    {
     "name": "stderr",
     "output_type": "stream",
     "text": [
      "Training epoch 68: 100%|██████████| 2/2 [00:03<00:00,  1.62s/it]\n",
      "Validation epoch 68: 100%|██████████| 27/27 [00:16<00:00,  1.63it/s]\n",
      "Training epoch 69:   0%|          | 0/2 [00:00<?, ?it/s]"
     ]
    },
    {
     "name": "stdout",
     "output_type": "stream",
     "text": [
      "Epoch 68:\n",
      "    Train loss 0.152, accuracy 0.916, F1-score 0.943, MCC: 0.750, Dice: 0.943\n",
      "    Val loss 0.226, accuracy 0.868, F1-score 0.909, MCC: 0.617, Dice: 0.909\n"
     ]
    },
    {
     "name": "stderr",
     "output_type": "stream",
     "text": [
      "Training epoch 69: 100%|██████████| 2/2 [00:03<00:00,  1.70s/it]\n",
      "Validation epoch 69: 100%|██████████| 27/27 [00:17<00:00,  1.56it/s]\n",
      "Training epoch 70:   0%|          | 0/2 [00:00<?, ?it/s]"
     ]
    },
    {
     "name": "stdout",
     "output_type": "stream",
     "text": [
      "Epoch 69:\n",
      "    Train loss 0.146, accuracy 0.905, F1-score 0.934, MCC: 0.744, Dice: 0.934\n",
      "    Val loss 0.227, accuracy 0.869, F1-score 0.907, MCC: 0.613, Dice: 0.907\n"
     ]
    },
    {
     "name": "stderr",
     "output_type": "stream",
     "text": [
      "Training epoch 70: 100%|██████████| 2/2 [00:02<00:00,  1.48s/it]\n",
      "Validation epoch 70: 100%|██████████| 27/27 [00:15<00:00,  1.69it/s]\n",
      "Training epoch 71:   0%|          | 0/2 [00:00<?, ?it/s]"
     ]
    },
    {
     "name": "stdout",
     "output_type": "stream",
     "text": [
      "Epoch 70:\n",
      "    Train loss 0.158, accuracy 0.911, F1-score 0.928, MCC: 0.725, Dice: 0.928\n",
      "    Val loss 0.227, accuracy 0.867, F1-score 0.909, MCC: 0.616, Dice: 0.909\n"
     ]
    },
    {
     "name": "stderr",
     "output_type": "stream",
     "text": [
      "Training epoch 71: 100%|██████████| 2/2 [00:03<00:00,  1.60s/it]\n",
      "Validation epoch 71: 100%|██████████| 27/27 [00:17<00:00,  1.54it/s]\n",
      "Training epoch 72:   0%|          | 0/2 [00:00<?, ?it/s]"
     ]
    },
    {
     "name": "stdout",
     "output_type": "stream",
     "text": [
      "Epoch 71:\n",
      "    Train loss 0.156, accuracy 0.913, F1-score 0.925, MCC: 0.725, Dice: 0.925\n",
      "    Val loss 0.232, accuracy 0.866, F1-score 0.908, MCC: 0.610, Dice: 0.908\n"
     ]
    },
    {
     "name": "stderr",
     "output_type": "stream",
     "text": [
      "Training epoch 72: 100%|██████████| 2/2 [00:03<00:00,  1.55s/it]\n",
      "Validation epoch 72: 100%|██████████| 27/27 [00:17<00:00,  1.52it/s]\n",
      "Training epoch 73:   0%|          | 0/2 [00:00<?, ?it/s]"
     ]
    },
    {
     "name": "stdout",
     "output_type": "stream",
     "text": [
      "Epoch 72:\n",
      "    Train loss 0.180, accuracy 0.912, F1-score 0.929, MCC: 0.720, Dice: 0.929\n",
      "    Val loss 0.225, accuracy 0.869, F1-score 0.913, MCC: 0.617, Dice: 0.913\n"
     ]
    },
    {
     "name": "stderr",
     "output_type": "stream",
     "text": [
      "Training epoch 73: 100%|██████████| 2/2 [00:03<00:00,  1.68s/it]\n",
      "Validation epoch 73: 100%|██████████| 27/27 [00:16<00:00,  1.64it/s]\n",
      "Training epoch 74:   0%|          | 0/2 [00:00<?, ?it/s]"
     ]
    },
    {
     "name": "stdout",
     "output_type": "stream",
     "text": [
      "Epoch 73:\n",
      "    Train loss 0.159, accuracy 0.911, F1-score 0.937, MCC: 0.731, Dice: 0.937\n",
      "    Val loss 0.225, accuracy 0.875, F1-score 0.913, MCC: 0.619, Dice: 0.913\n"
     ]
    },
    {
     "name": "stderr",
     "output_type": "stream",
     "text": [
      "Training epoch 74: 100%|██████████| 2/2 [00:03<00:00,  1.70s/it]\n",
      "Validation epoch 74: 100%|██████████| 27/27 [00:15<00:00,  1.77it/s]\n",
      "Training epoch 75:   0%|          | 0/2 [00:00<?, ?it/s]"
     ]
    },
    {
     "name": "stdout",
     "output_type": "stream",
     "text": [
      "Epoch 74:\n",
      "    Train loss 0.169, accuracy 0.916, F1-score 0.919, MCC: 0.698, Dice: 0.919\n",
      "    Val loss 0.226, accuracy 0.865, F1-score 0.910, MCC: 0.610, Dice: 0.910\n"
     ]
    },
    {
     "name": "stderr",
     "output_type": "stream",
     "text": [
      "Training epoch 75: 100%|██████████| 2/2 [00:03<00:00,  1.76s/it]\n",
      "Validation epoch 75: 100%|██████████| 27/27 [00:16<00:00,  1.69it/s]\n",
      "Training epoch 76:   0%|          | 0/2 [00:00<?, ?it/s]"
     ]
    },
    {
     "name": "stdout",
     "output_type": "stream",
     "text": [
      "Epoch 75:\n",
      "    Train loss 0.168, accuracy 0.883, F1-score 0.924, MCC: 0.666, Dice: 0.924\n",
      "    Val loss 0.230, accuracy 0.867, F1-score 0.909, MCC: 0.611, Dice: 0.909\n"
     ]
    },
    {
     "name": "stderr",
     "output_type": "stream",
     "text": [
      "Training epoch 76: 100%|██████████| 2/2 [00:03<00:00,  1.63s/it]\n",
      "Validation epoch 76: 100%|██████████| 27/27 [00:17<00:00,  1.55it/s]\n",
      "Training epoch 77:   0%|          | 0/2 [00:00<?, ?it/s]"
     ]
    },
    {
     "name": "stdout",
     "output_type": "stream",
     "text": [
      "Epoch 76:\n",
      "    Train loss 0.171, accuracy 0.913, F1-score 0.919, MCC: 0.715, Dice: 0.919\n",
      "    Val loss 0.224, accuracy 0.867, F1-score 0.911, MCC: 0.606, Dice: 0.911\n"
     ]
    },
    {
     "name": "stderr",
     "output_type": "stream",
     "text": [
      "Training epoch 77: 100%|██████████| 2/2 [00:03<00:00,  1.63s/it]\n",
      "Validation epoch 77: 100%|██████████| 27/27 [00:17<00:00,  1.53it/s]\n",
      "Training epoch 78:   0%|          | 0/2 [00:00<?, ?it/s]"
     ]
    },
    {
     "name": "stdout",
     "output_type": "stream",
     "text": [
      "Epoch 77:\n",
      "    Train loss 0.167, accuracy 0.901, F1-score 0.932, MCC: 0.709, Dice: 0.932\n",
      "    Val loss 0.222, accuracy 0.868, F1-score 0.909, MCC: 0.607, Dice: 0.909\n"
     ]
    },
    {
     "name": "stderr",
     "output_type": "stream",
     "text": [
      "Training epoch 78: 100%|██████████| 2/2 [00:03<00:00,  1.75s/it]\n",
      "Validation epoch 78: 100%|██████████| 27/27 [00:16<00:00,  1.66it/s]\n",
      "Training epoch 79:   0%|          | 0/2 [00:00<?, ?it/s]"
     ]
    },
    {
     "name": "stdout",
     "output_type": "stream",
     "text": [
      "Epoch 78:\n",
      "    Train loss 0.151, accuracy 0.921, F1-score 0.942, MCC: 0.749, Dice: 0.942\n",
      "    Val loss 0.227, accuracy 0.873, F1-score 0.913, MCC: 0.616, Dice: 0.913\n"
     ]
    },
    {
     "name": "stderr",
     "output_type": "stream",
     "text": [
      "Training epoch 79: 100%|██████████| 2/2 [00:02<00:00,  1.45s/it]\n",
      "Validation epoch 79: 100%|██████████| 27/27 [00:14<00:00,  1.84it/s]\n",
      "Training epoch 80:   0%|          | 0/2 [00:00<?, ?it/s]"
     ]
    },
    {
     "name": "stdout",
     "output_type": "stream",
     "text": [
      "Epoch 79:\n",
      "    Train loss 0.139, accuracy 0.919, F1-score 0.943, MCC: 0.755, Dice: 0.943\n",
      "    Val loss 0.222, accuracy 0.871, F1-score 0.913, MCC: 0.618, Dice: 0.913\n"
     ]
    },
    {
     "name": "stderr",
     "output_type": "stream",
     "text": [
      "Training epoch 80: 100%|██████████| 2/2 [00:02<00:00,  1.37s/it]\n",
      "Validation epoch 80: 100%|██████████| 27/27 [00:13<00:00,  2.00it/s]\n",
      "Training epoch 81:   0%|          | 0/2 [00:00<?, ?it/s]"
     ]
    },
    {
     "name": "stdout",
     "output_type": "stream",
     "text": [
      "Epoch 80:\n",
      "    Train loss 0.151, accuracy 0.915, F1-score 0.931, MCC: 0.741, Dice: 0.931\n",
      "    Val loss 0.223, accuracy 0.869, F1-score 0.910, MCC: 0.612, Dice: 0.910\n"
     ]
    },
    {
     "name": "stderr",
     "output_type": "stream",
     "text": [
      "Training epoch 81: 100%|██████████| 2/2 [00:03<00:00,  1.52s/it]\n",
      "Validation epoch 81: 100%|██████████| 27/27 [00:13<00:00,  1.96it/s]\n",
      "Training epoch 82:   0%|          | 0/2 [00:00<?, ?it/s]"
     ]
    },
    {
     "name": "stdout",
     "output_type": "stream",
     "text": [
      "Epoch 81:\n",
      "    Train loss 0.163, accuracy 0.902, F1-score 0.933, MCC: 0.726, Dice: 0.933\n",
      "    Val loss 0.227, accuracy 0.865, F1-score 0.908, MCC: 0.609, Dice: 0.908\n"
     ]
    },
    {
     "name": "stderr",
     "output_type": "stream",
     "text": [
      "Training epoch 82: 100%|██████████| 2/2 [00:03<00:00,  1.61s/it]\n",
      "Validation epoch 82: 100%|██████████| 27/27 [00:13<00:00,  1.94it/s]\n",
      "Training epoch 83:   0%|          | 0/2 [00:00<?, ?it/s]"
     ]
    },
    {
     "name": "stdout",
     "output_type": "stream",
     "text": [
      "Epoch 82:\n",
      "    Train loss 0.157, accuracy 0.914, F1-score 0.937, MCC: 0.734, Dice: 0.937\n",
      "    Val loss 0.230, accuracy 0.858, F1-score 0.902, MCC: 0.602, Dice: 0.902\n"
     ]
    },
    {
     "name": "stderr",
     "output_type": "stream",
     "text": [
      "Training epoch 83: 100%|██████████| 2/2 [00:02<00:00,  1.42s/it]\n",
      "Validation epoch 83: 100%|██████████| 27/27 [00:14<00:00,  1.92it/s]\n",
      "Training epoch 84:   0%|          | 0/2 [00:00<?, ?it/s]"
     ]
    },
    {
     "name": "stdout",
     "output_type": "stream",
     "text": [
      "Epoch 83:\n",
      "    Train loss 0.150, accuracy 0.913, F1-score 0.922, MCC: 0.714, Dice: 0.922\n",
      "    Val loss 0.224, accuracy 0.861, F1-score 0.905, MCC: 0.604, Dice: 0.905\n"
     ]
    },
    {
     "name": "stderr",
     "output_type": "stream",
     "text": [
      "Training epoch 84: 100%|██████████| 2/2 [00:02<00:00,  1.26s/it]\n",
      "Validation epoch 84: 100%|██████████| 27/27 [00:14<00:00,  1.85it/s]\n",
      "Training epoch 85:   0%|          | 0/2 [00:00<?, ?it/s]"
     ]
    },
    {
     "name": "stdout",
     "output_type": "stream",
     "text": [
      "Epoch 84:\n",
      "    Train loss 0.156, accuracy 0.913, F1-score 0.930, MCC: 0.710, Dice: 0.930\n",
      "    Val loss 0.225, accuracy 0.855, F1-score 0.903, MCC: 0.602, Dice: 0.903\n"
     ]
    },
    {
     "name": "stderr",
     "output_type": "stream",
     "text": [
      "Training epoch 85: 100%|██████████| 2/2 [00:02<00:00,  1.44s/it]\n",
      "Validation epoch 85: 100%|██████████| 27/27 [00:14<00:00,  1.87it/s]\n",
      "Training epoch 86:   0%|          | 0/2 [00:00<?, ?it/s]"
     ]
    },
    {
     "name": "stdout",
     "output_type": "stream",
     "text": [
      "Epoch 85:\n",
      "    Train loss 0.149, accuracy 0.907, F1-score 0.941, MCC: 0.754, Dice: 0.941\n",
      "    Val loss 0.227, accuracy 0.867, F1-score 0.907, MCC: 0.606, Dice: 0.907\n"
     ]
    },
    {
     "name": "stderr",
     "output_type": "stream",
     "text": [
      "Training epoch 86: 100%|██████████| 2/2 [00:02<00:00,  1.49s/it]\n",
      "Validation epoch 86: 100%|██████████| 27/27 [00:15<00:00,  1.80it/s]\n",
      "Training epoch 87:   0%|          | 0/2 [00:00<?, ?it/s]"
     ]
    },
    {
     "name": "stdout",
     "output_type": "stream",
     "text": [
      "Epoch 86:\n",
      "    Train loss 0.154, accuracy 0.906, F1-score 0.936, MCC: 0.709, Dice: 0.936\n",
      "    Val loss 0.229, accuracy 0.865, F1-score 0.909, MCC: 0.607, Dice: 0.909\n"
     ]
    },
    {
     "name": "stderr",
     "output_type": "stream",
     "text": [
      "Training epoch 87: 100%|██████████| 2/2 [00:03<00:00,  1.56s/it]\n",
      "Validation epoch 87: 100%|██████████| 27/27 [00:14<00:00,  1.82it/s]\n",
      "Training epoch 88:   0%|          | 0/2 [00:00<?, ?it/s]"
     ]
    },
    {
     "name": "stdout",
     "output_type": "stream",
     "text": [
      "Epoch 87:\n",
      "    Train loss 0.153, accuracy 0.914, F1-score 0.942, MCC: 0.739, Dice: 0.942\n",
      "    Val loss 0.225, accuracy 0.868, F1-score 0.909, MCC: 0.612, Dice: 0.909\n"
     ]
    },
    {
     "name": "stderr",
     "output_type": "stream",
     "text": [
      "Training epoch 88: 100%|██████████| 2/2 [00:02<00:00,  1.40s/it]\n",
      "Validation epoch 88: 100%|██████████| 27/27 [00:13<00:00,  1.97it/s]\n",
      "Training epoch 89:   0%|          | 0/2 [00:00<?, ?it/s]"
     ]
    },
    {
     "name": "stdout",
     "output_type": "stream",
     "text": [
      "Epoch 88:\n",
      "    Train loss 0.157, accuracy 0.911, F1-score 0.939, MCC: 0.741, Dice: 0.939\n",
      "    Val loss 0.224, accuracy 0.864, F1-score 0.907, MCC: 0.609, Dice: 0.907\n"
     ]
    },
    {
     "name": "stderr",
     "output_type": "stream",
     "text": [
      "Training epoch 89: 100%|██████████| 2/2 [00:03<00:00,  1.55s/it]\n",
      "Validation epoch 89: 100%|██████████| 27/27 [00:14<00:00,  1.93it/s]\n",
      "Training epoch 90:   0%|          | 0/2 [00:00<?, ?it/s]"
     ]
    },
    {
     "name": "stdout",
     "output_type": "stream",
     "text": [
      "Epoch 89:\n",
      "    Train loss 0.169, accuracy 0.914, F1-score 0.937, MCC: 0.729, Dice: 0.937\n",
      "    Val loss 0.227, accuracy 0.867, F1-score 0.908, MCC: 0.618, Dice: 0.908\n"
     ]
    },
    {
     "name": "stderr",
     "output_type": "stream",
     "text": [
      "Training epoch 90: 100%|██████████| 2/2 [00:03<00:00,  1.69s/it]\n",
      "Validation epoch 90: 100%|██████████| 27/27 [00:15<00:00,  1.75it/s]\n",
      "Training epoch 91:   0%|          | 0/2 [00:00<?, ?it/s]"
     ]
    },
    {
     "name": "stdout",
     "output_type": "stream",
     "text": [
      "Epoch 90:\n",
      "    Train loss 0.142, accuracy 0.924, F1-score 0.941, MCC: 0.755, Dice: 0.941\n",
      "    Val loss 0.230, accuracy 0.864, F1-score 0.906, MCC: 0.611, Dice: 0.906\n"
     ]
    },
    {
     "name": "stderr",
     "output_type": "stream",
     "text": [
      "Training epoch 91: 100%|██████████| 2/2 [00:03<00:00,  1.51s/it]\n",
      "Validation epoch 91: 100%|██████████| 27/27 [00:15<00:00,  1.72it/s]\n",
      "Training epoch 92:   0%|          | 0/2 [00:00<?, ?it/s]"
     ]
    },
    {
     "name": "stdout",
     "output_type": "stream",
     "text": [
      "Epoch 91:\n",
      "    Train loss 0.137, accuracy 0.920, F1-score 0.932, MCC: 0.742, Dice: 0.932\n",
      "    Val loss 0.227, accuracy 0.855, F1-score 0.901, MCC: 0.607, Dice: 0.901\n"
     ]
    },
    {
     "name": "stderr",
     "output_type": "stream",
     "text": [
      "Training epoch 92: 100%|██████████| 2/2 [00:02<00:00,  1.40s/it]\n",
      "Validation epoch 92: 100%|██████████| 27/27 [00:17<00:00,  1.53it/s]\n",
      "Training epoch 93:   0%|          | 0/2 [00:00<?, ?it/s]"
     ]
    },
    {
     "name": "stdout",
     "output_type": "stream",
     "text": [
      "Epoch 92:\n",
      "    Train loss 0.144, accuracy 0.921, F1-score 0.946, MCC: 0.759, Dice: 0.946\n",
      "    Val loss 0.229, accuracy 0.860, F1-score 0.900, MCC: 0.596, Dice: 0.900\n"
     ]
    },
    {
     "name": "stderr",
     "output_type": "stream",
     "text": [
      "Training epoch 93: 100%|██████████| 2/2 [00:03<00:00,  1.62s/it]\n",
      "Validation epoch 93: 100%|██████████| 27/27 [00:16<00:00,  1.67it/s]\n",
      "Training epoch 94:   0%|          | 0/2 [00:00<?, ?it/s]"
     ]
    },
    {
     "name": "stdout",
     "output_type": "stream",
     "text": [
      "Epoch 93:\n",
      "    Train loss 0.151, accuracy 0.919, F1-score 0.932, MCC: 0.734, Dice: 0.932\n",
      "    Val loss 0.228, accuracy 0.871, F1-score 0.909, MCC: 0.616, Dice: 0.909\n"
     ]
    },
    {
     "name": "stderr",
     "output_type": "stream",
     "text": [
      "Training epoch 94: 100%|██████████| 2/2 [00:02<00:00,  1.46s/it]\n",
      "Validation epoch 94: 100%|██████████| 27/27 [00:15<00:00,  1.70it/s]\n",
      "Training epoch 95:   0%|          | 0/2 [00:00<?, ?it/s]"
     ]
    },
    {
     "name": "stdout",
     "output_type": "stream",
     "text": [
      "Epoch 94:\n",
      "    Train loss 0.159, accuracy 0.907, F1-score 0.935, MCC: 0.720, Dice: 0.935\n",
      "    Val loss 0.222, accuracy 0.866, F1-score 0.910, MCC: 0.615, Dice: 0.910\n"
     ]
    },
    {
     "name": "stderr",
     "output_type": "stream",
     "text": [
      "Training epoch 95: 100%|██████████| 2/2 [00:03<00:00,  1.71s/it]\n",
      "Validation epoch 95: 100%|██████████| 27/27 [00:15<00:00,  1.80it/s]\n",
      "Training epoch 96:   0%|          | 0/2 [00:00<?, ?it/s]"
     ]
    },
    {
     "name": "stdout",
     "output_type": "stream",
     "text": [
      "Epoch 95:\n",
      "    Train loss 0.147, accuracy 0.917, F1-score 0.940, MCC: 0.745, Dice: 0.940\n",
      "    Val loss 0.230, accuracy 0.858, F1-score 0.903, MCC: 0.609, Dice: 0.903\n"
     ]
    },
    {
     "name": "stderr",
     "output_type": "stream",
     "text": [
      "Training epoch 96: 100%|██████████| 2/2 [00:03<00:00,  1.85s/it]\n",
      "Validation epoch 96: 100%|██████████| 27/27 [00:16<00:00,  1.63it/s]\n",
      "Training epoch 97:   0%|          | 0/2 [00:00<?, ?it/s]"
     ]
    },
    {
     "name": "stdout",
     "output_type": "stream",
     "text": [
      "Epoch 96:\n",
      "    Train loss 0.159, accuracy 0.888, F1-score 0.917, MCC: 0.700, Dice: 0.917\n",
      "    Val loss 0.228, accuracy 0.859, F1-score 0.901, MCC: 0.598, Dice: 0.901\n"
     ]
    },
    {
     "name": "stderr",
     "output_type": "stream",
     "text": [
      "Training epoch 97: 100%|██████████| 2/2 [00:03<00:00,  1.63s/it]\n",
      "Validation epoch 97: 100%|██████████| 27/27 [00:15<00:00,  1.71it/s]\n",
      "Training epoch 98:   0%|          | 0/2 [00:00<?, ?it/s]"
     ]
    },
    {
     "name": "stdout",
     "output_type": "stream",
     "text": [
      "Epoch 97:\n",
      "    Train loss 0.150, accuracy 0.926, F1-score 0.926, MCC: 0.716, Dice: 0.926\n",
      "    Val loss 0.228, accuracy 0.868, F1-score 0.908, MCC: 0.619, Dice: 0.908\n"
     ]
    },
    {
     "name": "stderr",
     "output_type": "stream",
     "text": [
      "Training epoch 98: 100%|██████████| 2/2 [00:03<00:00,  1.63s/it]\n",
      "Validation epoch 98: 100%|██████████| 27/27 [00:16<00:00,  1.64it/s]\n",
      "Training epoch 99:   0%|          | 0/2 [00:00<?, ?it/s]"
     ]
    },
    {
     "name": "stdout",
     "output_type": "stream",
     "text": [
      "Epoch 98:\n",
      "    Train loss 0.169, accuracy 0.920, F1-score 0.942, MCC: 0.749, Dice: 0.942\n",
      "    Val loss 0.228, accuracy 0.869, F1-score 0.910, MCC: 0.621, Dice: 0.910\n"
     ]
    },
    {
     "name": "stderr",
     "output_type": "stream",
     "text": [
      "Training epoch 99: 100%|██████████| 2/2 [00:03<00:00,  1.51s/it]\n",
      "Validation epoch 99: 100%|██████████| 27/27 [00:15<00:00,  1.69it/s]\n",
      "Training epoch 100:   0%|          | 0/2 [00:00<?, ?it/s]"
     ]
    },
    {
     "name": "stdout",
     "output_type": "stream",
     "text": [
      "Epoch 99:\n",
      "    Train loss 0.142, accuracy 0.921, F1-score 0.945, MCC: 0.757, Dice: 0.945\n",
      "    Val loss 0.223, accuracy 0.867, F1-score 0.910, MCC: 0.617, Dice: 0.910\n"
     ]
    },
    {
     "name": "stderr",
     "output_type": "stream",
     "text": [
      "Training epoch 100: 100%|██████████| 2/2 [00:03<00:00,  1.51s/it]\n",
      "Validation epoch 100: 100%|██████████| 27/27 [00:17<00:00,  1.59it/s]"
     ]
    },
    {
     "name": "stdout",
     "output_type": "stream",
     "text": [
      "Epoch 100:\n",
      "    Train loss 0.143, accuracy 0.918, F1-score 0.932, MCC: 0.746, Dice: 0.932\n",
      "    Val loss 0.228, accuracy 0.871, F1-score 0.909, MCC: 0.620, Dice: 0.909\n"
     ]
    },
    {
     "name": "stderr",
     "output_type": "stream",
     "text": [
      "\n"
     ]
    }
   ],
   "source": [
    "# ============================ #\n",
    "# user-specified hyperparameters\n",
    "# ============================ #\n",
    "country = 'india'\n",
    "epochs = 100\n",
    "lr = 0.001\n",
    "lr_decay = None\n",
    "n_filters = 32\n",
    "depth = 6\n",
    "n_classes = 1\n",
    "batch_size = 5\n",
    "model_type = 'fractal-resunet' # 'resunet-d6'\n",
    "month = 'all13'\n",
    "codes_to_keep = [1]\n",
    "ctx_name = 'gpu'\n",
    "gpu_id = 1\n",
    "boundary_kernel_size = (2,2)\n",
    "\n",
    "trained_model = '../experiments/partial-france/fractal-resunet_3month-separate_nfilter-32_depth-6_bs-8_lr-0.001_2x-3x-downsampled_allfields_n6759/model.params'\n",
    "# trained_model = '../experiments/india/fractal-resunet_Airbus_nfilter-32_depth-6_bs-8_lr-0.001_3x-downsampled-v3_boundary-1_fromscratch/model.params'\n",
    "# trained_model = None\n",
    "\n",
    "folder_suffix = '_3x-downsampled-erosion2px_n20'\n",
    "if trained_model is None:\n",
    "    folder_suffix += '_fromscratch'\n",
    "elif 'india' in trained_model:\n",
    "    folder_suffix += '_fromscratch-continued'\n",
    "elif 'france' in trained_model:\n",
    "    folder_suffix += '_finetuned'\n",
    "    \n",
    "month_name = 'Airbus'\n",
    "# splits_path = '../data/splits/india_planetImagery_splits_20x20_v2.csv'\n",
    "splits_path = '../data/splits/india_planetImagery_splits_20x20_n20.csv'\n",
    "splits_df = pd.read_csv(splits_path, dtype=str)\n",
    "splits_df['image_id'] = splits_df['image_id'].str[:4]\n",
    "splits_df = splits_df.drop_duplicates('image_id')\n",
    "# splits_df['image_id'] = splits_df['image_id'].astype(str).str.zfill(5)\n",
    "\n",
    "# get all img and labels\n",
    "all_img_names = []\n",
    "all_label_names = []\n",
    "# img_dir = '../data/general_blockchain/airbus_false_color/campaign1/'\n",
    "# label_dir = '../data/general_blockchain/airbus_labels/campaign1/'\n",
    "img_dir = '../data/general_blockchain/airbus_false_color/large/3x_downsample/'\n",
    "label_dir = '../data/general_blockchain/airbus_labels/large/3x_downsample_erosion2px/'\n",
    "\n",
    "label_folder_imgs = sorted(os.listdir(label_dir))\n",
    "for label_name in label_folder_imgs:\n",
    "    img_name = 'airbus_geowiki_' + label_name.split('_')[-1].split('.')[0] + '.png'\n",
    "    img_path = os.path.join(img_dir, img_name)\n",
    "    all_img_names.append(img_path)\n",
    "    label_path = os.path.join(label_dir, label_name)\n",
    "    all_label_names.append(label_path)\n",
    "    \n",
    "# split imgs and labels into train/val/test\n",
    "all_images = pd.DataFrame({'img_path': all_img_names})\n",
    "all_images['image_id'] = all_images['img_path'].str.split('/').apply(\n",
    "    lambda x: x[-1]).str.split('.').apply(\n",
    "    lambda x: x[0]).str.split('_').apply(\n",
    "    lambda x: x[-1][1:])\n",
    "all_images = all_images.merge(splits_df[['image_id', 'fold']], on='image_id', how='left')\n",
    "train_names = all_images[all_images['fold'] == 'train']['img_path'].values\n",
    "val_names = all_images[all_images['fold'] == 'val']['img_path'].values\n",
    "test_names = all_images[all_images['fold'] == 'test']['img_path'].values\n",
    "\n",
    "all_labels = pd.DataFrame({'label_path': all_label_names})\n",
    "all_labels['image_id'] = all_labels['label_path'].str.split('/').apply(\n",
    "    lambda x: x[-1]).str.split('.').apply(\n",
    "    lambda x: x[0]).str.split('_').apply(\n",
    "    lambda x: x[-1][1:])\n",
    "all_labels = all_labels.merge(splits_df[['image_id', 'fold']], on='image_id', how='left')\n",
    "train_names_label = all_labels[all_labels['fold'] == 'train']['label_path'].values\n",
    "val_names_label = all_labels[all_labels['fold'] == 'val']['label_path'].values\n",
    "test_names_label = all_labels[all_labels['fold'] == 'test']['label_path'].values\n",
    "\n",
    "# ============================ #\n",
    "\n",
    "run_africa(country, train_names, val_names, test_names,\n",
    "           train_names_label, val_names_label, test_names_label,\n",
    "           trained_model=trained_model,\n",
    "           epochs=epochs, lr=lr, lr_decay=lr_decay, \n",
    "           model_type=model_type, n_filters=n_filters, depth=depth, n_classes=n_classes,\n",
    "           batch_size=batch_size, month=month_name,\n",
    "           codes_to_keep=codes_to_keep, \n",
    "           ctx_name=ctx_name,\n",
    "           gpu_id=gpu_id, \n",
    "           folder_suffix=folder_suffix,\n",
    "           boundary_kernel_size=boundary_kernel_size)"
   ]
  },
  {
   "cell_type": "markdown",
   "metadata": {},
   "source": [
    "## Fine tune France 1x model"
   ]
  },
  {
   "cell_type": "markdown",
   "metadata": {},
   "source": [
    "### On 1x Airbus imagery only"
   ]
  },
  {
   "cell_type": "code",
   "execution_count": 7,
   "metadata": {},
   "outputs": [],
   "source": [
    "# ============================ #\n",
    "# user-specified hyperparameters\n",
    "# ============================ #\n",
    "country = 'india'\n",
    "epochs = 100\n",
    "lr = 0.0001\n",
    "lr_decay = None\n",
    "n_filters = 32\n",
    "depth = 6\n",
    "n_classes = 1\n",
    "batch_size = 8\n",
    "model_type = 'fractal-resunet' # 'resunet-d6'\n",
    "month = 'all13'\n",
    "codes_to_keep = [1]\n",
    "ctx_name = 'gpu'\n",
    "gpu_id = 1\n",
    "boundary_kernel_size = (2,2)\n",
    "\n",
    "trained_model = '../experiments/partial-france/fractal-resunet_3month-separate_nfilter-32_depth-6_bs-7_lr-0.001_1x-downsampled_allfields_n6759_1250px_thickness1/model.params'\n",
    "# trained_model = '../experiments/india/fractal-resunet_Airbus_nfilter-32_depth-6_bs-5_lr-0.001_3x-downsampled-erosion2px_n200_fromscratch/model.params'\n",
    "# trained_model = None\n",
    "\n",
    "folder_suffix = '_original_thickness1'\n",
    "if trained_model is None:\n",
    "    folder_suffix += '_fromscratch'\n",
    "elif 'india' in trained_model:\n",
    "    folder_suffix += '_fromscratch-continued'\n",
    "elif 'france' in trained_model:\n",
    "    folder_suffix += '_finetuned2'\n",
    "    \n",
    "month_name = 'Airbus'\n",
    "splits_path = '../data/splits/india_planetImagery_splits_20x20_v2.csv'\n",
    "splits_df = pd.read_csv(splits_path, dtype=str)\n",
    "splits_df['image_id'] = splits_df['image_id'].str.zfill(4)\n",
    "splits_df = splits_df.drop_duplicates('image_id')\n",
    "\n",
    "# get all img and labels\n",
    "all_img_names = []\n",
    "all_label_names = []\n",
    "img_dirs = ['../data/general_blockchain/airbus_false_color/large/original/']\n",
    "label_dirs = ['../data/general_blockchain/airbus_labels/large/original/']\n",
    "\n",
    "for img_dir, label_dir in zip(img_dirs, label_dirs):\n",
    "    label_folder_imgs = sorted(os.listdir(label_dir))\n",
    "    for label_name in label_folder_imgs:\n",
    "        img_name = 'airbus_geowiki_' + label_name.split('_')[-1].split('.')[0] + '.png'\n",
    "        img_path = os.path.join(img_dir, img_name)\n",
    "        all_img_names.append(img_path)\n",
    "        label_path = os.path.join(label_dir, label_name)\n",
    "        all_label_names.append(label_path)\n",
    "    \n",
    "# split imgs and labels into train/val/test\n",
    "all_images = pd.DataFrame({'img_path': all_img_names})\n",
    "all_images['image_id'] = all_images['img_path'].str.split('/').apply(\n",
    "    lambda x: x[-1]).str.split('.').apply(\n",
    "    lambda x: x[0]).str.split('_').apply(\n",
    "    lambda x: x[-1][1:])\n",
    "all_images = all_images.merge(splits_df[['image_id', 'fold']], on='image_id', how='left')\n",
    "train_names = all_images[all_images['fold'] == 'train']['img_path'].values\n",
    "val_names = all_images[all_images['fold'] == 'val']['img_path'].values\n",
    "test_names = all_images[all_images['fold'] == 'test']['img_path'].values\n",
    "\n",
    "all_labels = pd.DataFrame({'label_path': all_label_names})\n",
    "all_labels['image_id'] = all_labels['label_path'].str.split('/').apply(\n",
    "    lambda x: x[-1]).str.split('.').apply(\n",
    "    lambda x: x[0]).str.split('_').apply(\n",
    "    lambda x: x[-1][1:])\n",
    "all_labels = all_labels.merge(splits_df[['image_id', 'fold']], on='image_id', how='left')\n",
    "train_names_label = all_labels[all_labels['fold'] == 'train']['label_path'].values\n",
    "val_names_label = all_labels[all_labels['fold'] == 'val']['label_path'].values\n",
    "test_names_label = all_labels[all_labels['fold'] == 'test']['label_path'].values"
   ]
  },
  {
   "cell_type": "code",
   "execution_count": 8,
   "metadata": {},
   "outputs": [
    {
     "name": "stdout",
     "output_type": "stream",
     "text": [
      "depth:= 0, nfilters: 32, nheads::8, widths::1\n",
      "depth:= 1, nfilters: 64, nheads::16, widths::1\n",
      "depth:= 2, nfilters: 128, nheads::32, widths::1\n",
      "depth:= 3, nfilters: 256, nheads::64, widths::1\n",
      "depth:= 4, nfilters: 512, nheads::128, widths::1\n",
      "depth:= 5, nfilters: 1024, nheads::256, widths::1\n",
      "depth:= 6, nfilters: 512, nheads::256, widths::1\n",
      "depth:= 7, nfilters: 256, nheads::128, widths::1\n",
      "depth:= 8, nfilters: 128, nheads::64, widths::1\n",
      "depth:= 9, nfilters: 64, nheads::32, widths::1\n",
      "depth:= 10, nfilters: 32, nheads::16, widths::1\n"
     ]
    },
    {
     "name": "stderr",
     "output_type": "stream",
     "text": [
      "Setting up a new session...\n",
      "Training epoch 1: 100%|██████████| 161/161 [08:37<00:00,  3.22s/it]\n",
      "Validation epoch 1: 100%|██████████| 38/38 [01:33<00:00,  2.47s/it]\n"
     ]
    },
    {
     "name": "stdout",
     "output_type": "stream",
     "text": [
      "Epoch 1:\n",
      "    Train loss 0.304, accuracy 0.893, F1-score 0.938, MCC: 0.344, Dice: 0.938\n",
      "    Val loss 0.269, accuracy 0.910, F1-score 0.950, MCC: 0.398, Dice: 0.950\n"
     ]
    },
    {
     "name": "stderr",
     "output_type": "stream",
     "text": [
      "Training epoch 2:  24%|██▍       | 39/161 [02:03<06:25,  3.16s/it]\n"
     ]
    },
    {
     "ename": "KeyboardInterrupt",
     "evalue": "",
     "output_type": "error",
     "traceback": [
      "\u001b[0;31m---------------------------------------------------------------------------\u001b[0m",
      "\u001b[0;31mKeyboardInterrupt\u001b[0m                         Traceback (most recent call last)",
      "\u001b[0;32m<ipython-input-8-9eb8278d5cde>\u001b[0m in \u001b[0;36m<module>\u001b[0;34m\u001b[0m\n\u001b[1;32m      9\u001b[0m            \u001b[0mgpu_id\u001b[0m\u001b[0;34m=\u001b[0m\u001b[0mgpu_id\u001b[0m\u001b[0;34m,\u001b[0m\u001b[0;34m\u001b[0m\u001b[0;34m\u001b[0m\u001b[0m\n\u001b[1;32m     10\u001b[0m            \u001b[0mfolder_suffix\u001b[0m\u001b[0;34m=\u001b[0m\u001b[0mfolder_suffix\u001b[0m\u001b[0;34m,\u001b[0m\u001b[0;34m\u001b[0m\u001b[0;34m\u001b[0m\u001b[0m\n\u001b[0;32m---> 11\u001b[0;31m            boundary_kernel_size=boundary_kernel_size)\n\u001b[0m",
      "\u001b[0;32m<ipython-input-6-63fd61006de6>\u001b[0m in \u001b[0;36mrun_africa\u001b[0;34m(country, train_names, val_names, test_names, train_names_label, val_names_label, test_names_label, trained_model, month, epochs, lr, lr_decay, n_filters, batch_size, model_type, depth, n_classes, codes_to_keep, folder_suffix, boundary_kernel_size, ctx_name, gpu_id)\u001b[0m\n\u001b[1;32m    107\u001b[0m         \u001b[0;31m# training set\u001b[0m\u001b[0;34m\u001b[0m\u001b[0;34m\u001b[0m\u001b[0;34m\u001b[0m\u001b[0m\n\u001b[1;32m    108\u001b[0m         train_loss, train_accuracy, train_f1, train_mcc, train_dice = train_model(\n\u001b[0;32m--> 109\u001b[0;31m             train_dataloader, model, tanimoto_dual, trainer, epoch, args)\n\u001b[0m\u001b[1;32m    110\u001b[0m \u001b[0;34m\u001b[0m\u001b[0m\n\u001b[1;32m    111\u001b[0m         \u001b[0;31m# training set metrics\u001b[0m\u001b[0;34m\u001b[0m\u001b[0;34m\u001b[0m\u001b[0;34m\u001b[0m\u001b[0m\n",
      "\u001b[0;32m<ipython-input-4-6958b3dd1967>\u001b[0m in \u001b[0;36mtrain_model\u001b[0;34m(train_dataloader, model, tanimoto_dual, trainer, epoch, args)\u001b[0m\n\u001b[1;32m     39\u001b[0m         \u001b[0mloss\u001b[0m\u001b[0;34m.\u001b[0m\u001b[0mbackward\u001b[0m\u001b[0;34m(\u001b[0m\u001b[0;34m)\u001b[0m\u001b[0;34m\u001b[0m\u001b[0;34m\u001b[0m\u001b[0m\n\u001b[1;32m     40\u001b[0m         \u001b[0mtrainer\u001b[0m\u001b[0;34m.\u001b[0m\u001b[0mstep\u001b[0m\u001b[0;34m(\u001b[0m\u001b[0margs\u001b[0m\u001b[0;34m[\u001b[0m\u001b[0;34m'batch_size'\u001b[0m\u001b[0;34m]\u001b[0m\u001b[0;34m)\u001b[0m\u001b[0;34m\u001b[0m\u001b[0;34m\u001b[0m\u001b[0m\n\u001b[0;32m---> 41\u001b[0;31m         \u001b[0mcumulative_loss\u001b[0m \u001b[0;34m+=\u001b[0m \u001b[0mmx\u001b[0m\u001b[0;34m.\u001b[0m\u001b[0mnd\u001b[0m\u001b[0;34m.\u001b[0m\u001b[0msum\u001b[0m\u001b[0;34m(\u001b[0m\u001b[0mloss\u001b[0m\u001b[0;34m)\u001b[0m\u001b[0;34m.\u001b[0m\u001b[0masscalar\u001b[0m\u001b[0;34m(\u001b[0m\u001b[0;34m)\u001b[0m\u001b[0;34m\u001b[0m\u001b[0;34m\u001b[0m\u001b[0m\n\u001b[0m\u001b[1;32m     42\u001b[0m \u001b[0;34m\u001b[0m\u001b[0m\n\u001b[1;32m     43\u001b[0m         \u001b[0mlogits_reshaped\u001b[0m \u001b[0;34m=\u001b[0m \u001b[0mlogits\u001b[0m\u001b[0;34m.\u001b[0m\u001b[0mreshape\u001b[0m\u001b[0;34m(\u001b[0m\u001b[0;34m(\u001b[0m\u001b[0mlogits\u001b[0m\u001b[0;34m.\u001b[0m\u001b[0mshape\u001b[0m\u001b[0;34m[\u001b[0m\u001b[0;36m0\u001b[0m\u001b[0;34m]\u001b[0m\u001b[0;34m,\u001b[0m \u001b[0;34m-\u001b[0m\u001b[0;36m1\u001b[0m\u001b[0;34m)\u001b[0m\u001b[0;34m)\u001b[0m\u001b[0;34m\u001b[0m\u001b[0;34m\u001b[0m\u001b[0m\n",
      "\u001b[0;32m~/anaconda3/envs/mxnet1.6.0/lib/python3.6/site-packages/mxnet/ndarray/ndarray.py\u001b[0m in \u001b[0;36masscalar\u001b[0;34m(self)\u001b[0m\n\u001b[1;32m   2551\u001b[0m         \u001b[0;32mif\u001b[0m \u001b[0mself\u001b[0m\u001b[0;34m.\u001b[0m\u001b[0mshape\u001b[0m \u001b[0;34m!=\u001b[0m \u001b[0;34m(\u001b[0m\u001b[0;36m1\u001b[0m\u001b[0;34m,\u001b[0m\u001b[0;34m)\u001b[0m\u001b[0;34m:\u001b[0m\u001b[0;34m\u001b[0m\u001b[0;34m\u001b[0m\u001b[0m\n\u001b[1;32m   2552\u001b[0m             \u001b[0;32mraise\u001b[0m \u001b[0mValueError\u001b[0m\u001b[0;34m(\u001b[0m\u001b[0;34m\"The current array is not a scalar\"\u001b[0m\u001b[0;34m)\u001b[0m\u001b[0;34m\u001b[0m\u001b[0;34m\u001b[0m\u001b[0m\n\u001b[0;32m-> 2553\u001b[0;31m         \u001b[0;32mreturn\u001b[0m \u001b[0mself\u001b[0m\u001b[0;34m.\u001b[0m\u001b[0masnumpy\u001b[0m\u001b[0;34m(\u001b[0m\u001b[0;34m)\u001b[0m\u001b[0;34m[\u001b[0m\u001b[0;36m0\u001b[0m\u001b[0;34m]\u001b[0m\u001b[0;34m\u001b[0m\u001b[0;34m\u001b[0m\u001b[0m\n\u001b[0m\u001b[1;32m   2554\u001b[0m \u001b[0;34m\u001b[0m\u001b[0m\n\u001b[1;32m   2555\u001b[0m     \u001b[0;32mdef\u001b[0m \u001b[0mastype\u001b[0m\u001b[0;34m(\u001b[0m\u001b[0mself\u001b[0m\u001b[0;34m,\u001b[0m \u001b[0mdtype\u001b[0m\u001b[0;34m,\u001b[0m \u001b[0mcopy\u001b[0m\u001b[0;34m=\u001b[0m\u001b[0;32mTrue\u001b[0m\u001b[0;34m)\u001b[0m\u001b[0;34m:\u001b[0m\u001b[0;34m\u001b[0m\u001b[0;34m\u001b[0m\u001b[0m\n",
      "\u001b[0;32m~/anaconda3/envs/mxnet1.6.0/lib/python3.6/site-packages/mxnet/ndarray/ndarray.py\u001b[0m in \u001b[0;36masnumpy\u001b[0;34m(self)\u001b[0m\n\u001b[1;32m   2533\u001b[0m             \u001b[0mself\u001b[0m\u001b[0;34m.\u001b[0m\u001b[0mhandle\u001b[0m\u001b[0;34m,\u001b[0m\u001b[0;34m\u001b[0m\u001b[0;34m\u001b[0m\u001b[0m\n\u001b[1;32m   2534\u001b[0m             \u001b[0mdata\u001b[0m\u001b[0;34m.\u001b[0m\u001b[0mctypes\u001b[0m\u001b[0;34m.\u001b[0m\u001b[0mdata_as\u001b[0m\u001b[0;34m(\u001b[0m\u001b[0mctypes\u001b[0m\u001b[0;34m.\u001b[0m\u001b[0mc_void_p\u001b[0m\u001b[0;34m)\u001b[0m\u001b[0;34m,\u001b[0m\u001b[0;34m\u001b[0m\u001b[0;34m\u001b[0m\u001b[0m\n\u001b[0;32m-> 2535\u001b[0;31m             ctypes.c_size_t(data.size)))\n\u001b[0m\u001b[1;32m   2536\u001b[0m         \u001b[0;32mreturn\u001b[0m \u001b[0mdata\u001b[0m\u001b[0;34m\u001b[0m\u001b[0;34m\u001b[0m\u001b[0m\n\u001b[1;32m   2537\u001b[0m \u001b[0;34m\u001b[0m\u001b[0m\n",
      "\u001b[0;31mKeyboardInterrupt\u001b[0m: "
     ]
    }
   ],
   "source": [
    "run_africa(country, train_names, val_names, test_names,\n",
    "           train_names_label, val_names_label, test_names_label,\n",
    "           trained_model=trained_model,\n",
    "           epochs=epochs, lr=lr, lr_decay=lr_decay, \n",
    "           model_type=model_type, n_filters=n_filters, depth=depth, n_classes=n_classes,\n",
    "           batch_size=batch_size, month=month_name,\n",
    "           codes_to_keep=codes_to_keep, \n",
    "           ctx_name=ctx_name,\n",
    "           gpu_id=gpu_id, \n",
    "           folder_suffix=folder_suffix,\n",
    "           boundary_kernel_size=boundary_kernel_size)"
   ]
  },
  {
   "cell_type": "code",
   "execution_count": null,
   "metadata": {},
   "outputs": [],
   "source": []
  }
 ],
 "metadata": {
  "kernelspec": {
   "display_name": "Environment (conda_mxnet1.6.0)",
   "language": "python",
   "name": "conda_mxnet1.6.0"
  },
  "language_info": {
   "codemirror_mode": {
    "name": "ipython",
    "version": 3
   },
   "file_extension": ".py",
   "mimetype": "text/x-python",
   "name": "python",
   "nbconvert_exporter": "python",
   "pygments_lexer": "ipython3",
   "version": "3.6.11"
  }
 },
 "nbformat": 4,
 "nbformat_minor": 2
}
