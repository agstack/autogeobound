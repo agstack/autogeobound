{
 "cells": [
  {
   "cell_type": "code",
   "execution_count": 1,
   "metadata": {},
   "outputs": [],
   "source": [
    "import numpy as np\n",
    "import pandas as pd\n",
    "import os\n",
    "\n",
    "import imageio\n",
    "import geopandas\n",
    "from shapely.geometry import Point, Polygon\n",
    "from scipy.stats import wasserstein_distance\n",
    "import higra as hg\n",
    "\n",
    "import matplotlib\n",
    "import matplotlib.pyplot as plt\n",
    "from matplotlib import font_manager as fm\n",
    "import matplotlib.patches as mpatches\n",
    "import seaborn as sns\n",
    "%matplotlib inline"
   ]
  },
  {
   "cell_type": "markdown",
   "metadata": {},
   "source": [
    "# Find thresholds for brownness and cloudiness to transfer France model"
   ]
  },
  {
   "cell_type": "markdown",
   "metadata": {},
   "source": [
    "## Histograms of France imagery"
   ]
  },
  {
   "cell_type": "code",
   "execution_count": 11,
   "metadata": {},
   "outputs": [],
   "source": [
    "base_dir = '../data/planet/france/sherrie10k/monthly_mosaics_renamed_clipped_merged/1250px/4x_downsample/'\n",
    "oct_dir = os.path.join(base_dir, '2019_10/')\n",
    "jul_dir = os.path.join(base_dir, '2019_07/')\n",
    "apr_dir = os.path.join(base_dir, '2019_04/')\n",
    "image_names = [str(x).zfill(5) for x in np.arange(10000)]\n",
    "n_samples = 1000\n",
    "random_image_names = np.random.choice(image_names, n_samples, replace=False)\n",
    "\n",
    "random_images = np.zeros((n_samples*3, 256, 256, 3))\n",
    "for i, img_name in enumerate(random_image_names):\n",
    "    random_images[i*3] = imageio.imread(os.path.join(apr_dir, img_name+'_2019_04.tif'))\n",
    "    random_images[i*3+1] = imageio.imread(os.path.join(jul_dir, img_name+'_2019_07.tif'))\n",
    "    random_images[i*3+2] = imageio.imread(os.path.join(oct_dir, img_name+'_2019_10.tif'))"
   ]
  },
  {
   "cell_type": "code",
   "execution_count": 12,
   "metadata": {},
   "outputs": [
    {
     "data": {
      "image/png": "[encoded data removed]",
      "text/plain": [
       "<Figure size 432x288 with 1 Axes>"
      ]
     },
     "metadata": {
      "needs_background": "light"
     },
     "output_type": "display_data"
    }
   ],
   "source": [
    "plt.hist(random_images[:,:,:,0].flatten(), bins=np.arange(0, 255, 5), color='red', alpha=0.5)\n",
    "plt.hist(random_images[:,:,:,1].flatten(), bins=np.arange(0, 255, 5), color='green', alpha=0.5)\n",
    "plt.hist(random_images[:,:,:,2].flatten(), bins=np.arange(0, 255, 5), color='blue', alpha=0.5)\n",
    "plt.show()"
   ]
  },
  {
   "cell_type": "code",
   "execution_count": 20,
   "metadata": {},
   "outputs": [
    {
     "data": {
      "text/plain": [
       "array([ 1871205,  1707414,  2789669,  4592406,  6926642,  9104030,\n",
       "       10470687, 10898597, 10879191, 10634886, 10215398,  9701853,\n",
       "        9052363,  8341022,  7607711,  6895680,  6283332,  5766780,\n",
       "        5323633,  4960321,  4642721,  4354481,  4071020,  3788666,\n",
       "        3501668,  3221452,  2945593,  2686966,  2449166,  2235795,\n",
       "        2038822,  1853230,  1687143,  1543632,  1412473,  1288805,\n",
       "        1173246,  1059151,   942306,   828361,   715948,   605145,\n",
       "         505023,   411804,   330748,   265551,   216471,   180290,\n",
       "         161668,   241239,  1226596])"
      ]
     },
     "execution_count": 20,
     "metadata": {},
     "output_type": "execute_result"
    }
   ],
   "source": [
    "red_hist, bins = np.histogram(random_images[:,:,:,0].flatten(), bins=np.arange(0, 260, 5))\n",
    "green_hist, _ = np.histogram(random_images[:,:,:,1].flatten(), bins=np.arange(0, 260, 5))\n",
    "blue_hist, _ = np.histogram(random_images[:,:,:,2].flatten(), bins=np.arange(0, 260, 5))"
   ]
  },
  {
   "cell_type": "code",
   "execution_count": 23,
   "metadata": {},
   "outputs": [],
   "source": [
    "red_hist = red_hist / 3000 / 256\n",
    "green_hist = green_hist / 3000 / 256\n",
    "blue_hist = blue_hist / 3000 / 256"
   ]
  },
  {
   "cell_type": "code",
   "execution_count": 71,
   "metadata": {},
   "outputs": [],
   "source": [
    "hist_array = np.array([red_hist, green_hist, blue_hist])\n",
    "np.save('../data/planet/france/sherrie10k/RGB_histogram.npy', hist_array)"
   ]
  },
  {
   "cell_type": "code",
   "execution_count": 26,
   "metadata": {},
   "outputs": [],
   "source": [
    "# get distribution of wasserstein distance (earth mover's distance) across \n",
    "# more random France images\n",
    "n_samples = 1000\n",
    "random_image_names2 = np.random.choice(image_names, n_samples, replace=False)\n",
    "\n",
    "random_images2 = np.zeros((n_samples*3, 256, 256, 3))\n",
    "for i, img_name in enumerate(random_image_names2):\n",
    "    random_images2[i*3] = imageio.imread(os.path.join(apr_dir, img_name+'_2019_04.tif'))\n",
    "    random_images2[i*3+1] = imageio.imread(os.path.join(jul_dir, img_name+'_2019_07.tif'))\n",
    "    random_images2[i*3+2] = imageio.imread(os.path.join(oct_dir, img_name+'_2019_10.tif'))\n",
    "\n",
    "wasserstein_distances = []\n",
    "for i in range(random_images2.shape[0]):\n",
    "    red_dist = wasserstein_distance(red_hist, random_images2[i,:,:,0].flatten())\n",
    "    green_dist = wasserstein_distance(green_hist, random_images2[i,:,:,1].flatten())\n",
    "    blue_dist = wasserstein_distance(blue_hist, random_images2[i,:,:,2].flatten())\n",
    "    total_dist = red_dist + green_dist + blue_dist\n",
    "    wasserstein_distances.append(total_dist)"
   ]
  },
  {
   "cell_type": "code",
   "execution_count": 54,
   "metadata": {},
   "outputs": [
    {
     "data": {
      "image/png": "[encoded data removed]",
      "text/plain": [
       "<Figure size 432x288 with 1 Axes>"
      ]
     },
     "metadata": {
      "needs_background": "light"
     },
     "output_type": "display_data"
    }
   ],
   "source": [
    "plt.hist(wasserstein_distances, bins=np.arange(0,750,10), density=True)\n",
    "plt.show()"
   ]
  },
  {
   "cell_type": "markdown",
   "metadata": {},
   "source": [
    "## Histograms of India imagery"
   ]
  },
  {
   "cell_type": "code",
   "execution_count": 51,
   "metadata": {},
   "outputs": [],
   "source": [
    "base_dir = '../data/planet/india/monthly_mosaics_renamed_clipped_merged/'\n",
    "month_dirs = ['2019_{}'.format(str(x+1).zfill(2)) for x in range(12)]\n",
    "image_names = [str(x).zfill(5) for x in np.arange(1000) if x not in (652, 278, 904)]\n",
    "image_names \n",
    "n_samples = 250\n",
    "random_image_names = np.random.choice(image_names, n_samples, replace=False)\n",
    "\n",
    "random_images = np.zeros((n_samples, len(month_dirs), 256, 256, 3))\n",
    "for i, img_name in enumerate(random_image_names):\n",
    "    for month in range(len(month_dirs)):\n",
    "        random_images[i, month] = imageio.imread(os.path.join(\n",
    "            base_dir, month_dirs[month], img_name+'_2019_{}.tif'.format(str(month+1).zfill(2))))[:256,:256,:3]"
   ]
  },
  {
   "cell_type": "code",
   "execution_count": 40,
   "metadata": {},
   "outputs": [
    {
     "name": "stdout",
     "output_type": "stream",
     "text": [
      "00278_2019_08.tif\n",
      "00904_2019_08.tif\n"
     ]
    }
   ],
   "source": [
    "# not sure why, but some planet images weren't downloaded (tried again and still not downloaded)\n",
    "# aug_india = sorted(os.listdir('/home/swang222/GitHub/field_segmentation/data/planet/india/monthly_mosaics_renamed_clipped_merged/2019_08'))\n",
    "# for x in range(1000):\n",
    "#     img_name = '{}_2019_08.tif'.format(str(x).zfill(5))\n",
    "#     if img_name not in aug_india:\n",
    "#         print(img_name)"
   ]
  },
  {
   "cell_type": "code",
   "execution_count": 52,
   "metadata": {},
   "outputs": [
    {
     "data": {
      "text/plain": [
       "(250, 12, 256, 256, 3)"
      ]
     },
     "execution_count": 52,
     "metadata": {},
     "output_type": "execute_result"
    }
   ],
   "source": [
    "random_images.shape"
   ]
  },
  {
   "cell_type": "code",
   "execution_count": 49,
   "metadata": {},
   "outputs": [
    {
     "data": {
      "image/png": "[encoded data removed]",
      "text/plain": [
       "<Figure size 432x288 with 1 Axes>"
      ]
     },
     "metadata": {
      "needs_background": "light"
     },
     "output_type": "display_data"
    }
   ],
   "source": [
    "plt.hist(random_images[:,:,:,:,0].flatten(), bins=np.arange(0, 255, 5), color='red', alpha=0.5)\n",
    "plt.hist(random_images[:,:,:,:,1].flatten(), bins=np.arange(0, 255, 5), color='green', alpha=0.5)\n",
    "plt.hist(random_images[:,:,:,:,2].flatten(), bins=np.arange(0, 255, 5), color='blue', alpha=0.5)\n",
    "plt.show()"
   ]
  },
  {
   "cell_type": "code",
   "execution_count": 55,
   "metadata": {},
   "outputs": [],
   "source": [
    "# get distribution of wasserstein distance (earth mover's distance) across \n",
    "# random India images\n",
    "wasserstein_distances_india = np.zeros((n_samples, len(month_dirs)))\n",
    "for i in range(n_samples):\n",
    "    for month in range(len(month_dirs)):\n",
    "        red_dist = wasserstein_distance(red_hist, random_images[i,month,:,:,0].flatten())\n",
    "        green_dist = wasserstein_distance(green_hist, random_images[i,month,:,:,1].flatten())\n",
    "        blue_dist = wasserstein_distance(blue_hist, random_images[i,month,:,2].flatten())\n",
    "        total_dist = red_dist + green_dist + blue_dist\n",
    "        wasserstein_distances_india[i, month] = total_dist"
   ]
  },
  {
   "cell_type": "code",
   "execution_count": 65,
   "metadata": {},
   "outputs": [
    {
     "data": {
      "image/png": "[encoded data removed]",
      "text/plain": [
       "<Figure size 1152x648 with 12 Axes>"
      ]
     },
     "metadata": {
      "needs_background": "light"
     },
     "output_type": "display_data"
    }
   ],
   "source": [
    "month_dict = {1: 'January', 2: 'February', 3: 'March', 4: 'April', 5: 'May', 6: 'June',\n",
    "              7: 'July', 8: 'August', 9: 'September', 10: 'October', 11: 'November', 12: 'December'}\n",
    "ncols = 4\n",
    "fig, ax = plt.subplots(3, ncols, figsize=(16, 9))\n",
    "bins = np.arange(0,750,10)\n",
    "for month in range(len(month_dirs)):\n",
    "    i = month // ncols\n",
    "    j = month % ncols\n",
    "    ax[i,j].hist(wasserstein_distances, bins=bins, density=True, alpha=0.5)\n",
    "    ax[i,j].hist(wasserstein_distances_india[:,month], bins=bins, density=True, alpha=0.5)\n",
    "    ax[i,j].set_title('{}'.format(month_dict[month+1]))\n",
    "    ax[i,j].legend(['France', 'India'])\n",
    "plt.show()"
   ]
  },
  {
   "cell_type": "markdown",
   "metadata": {},
   "source": [
    "## Find Wasserstein distance threshold"
   ]
  },
  {
   "cell_type": "code",
   "execution_count": 3,
   "metadata": {},
   "outputs": [],
   "source": [
    "france_rgb_hist = np.load('../data/planet/france/sherrie10k/RGB_histogram.npy')"
   ]
  },
  {
   "cell_type": "code",
   "execution_count": null,
   "metadata": {},
   "outputs": [],
   "source": [
    "red_hist = france_rgb_hist[0]\n",
    "green_hist = france_rgb_hist[1]\n",
    "blue_hist = france_rgb_hist[2]\n",
    "\n",
    "red_dist = wasserstein_distance(red_hist, random_images[i,month,:,:,0].flatten())\n",
    "green_dist = wasserstein_distance(green_hist, random_images[i,month,:,:,1].flatten())\n",
    "blue_dist = wasserstein_distance(blue_hist, random_images[i,month,:,2].flatten())\n",
    "total_dist = red_dist + green_dist + blue_dist\n",
    "wasserstein_distances_india[i, month] = total_dist"
   ]
  }
 ],
 "metadata": {
  "kernelspec": {
   "display_name": "Environment (conda_geopython)",
   "language": "python",
   "name": "conda_geopython"
  },
  "language_info": {
   "codemirror_mode": {
    "name": "ipython",
    "version": 3
   },
   "file_extension": ".py",
   "mimetype": "text/x-python",
   "name": "python",
   "nbconvert_exporter": "python",
   "pygments_lexer": "ipython3",
   "version": "3.7.4"
  }
 },
 "nbformat": 4,
 "nbformat_minor": 2
}
