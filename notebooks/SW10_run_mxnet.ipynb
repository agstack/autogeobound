{
 "cells": [
  {
   "cell_type": "code",
   "execution_count": 1,
   "metadata": {},
   "outputs": [],
   "source": [
    "import numpy as np\n",
    "import pandas as pd\n",
    "import os\n",
    "from tqdm import tqdm\n",
    "import visdom\n",
    "import matplotlib.pyplot as plt\n",
    "\n",
    "import mxnet as mx\n",
    "from mxnet import gluon\n",
    "from mxnet import autograd\n",
    "from mxnet import image\n",
    "\n",
    "import sys\n",
    "sys.path.append('../../resuneta/src')\n",
    "sys.path.append('../../resuneta/nn/loss')\n",
    "sys.path.append('../../resuneta/models')\n",
    "sys.path.append('../../')\n",
    "sys.path.append('../MXNet-ResUNeta/')\n",
    "\n",
    "from bound_dist import get_distance, get_boundary\n",
    "from loss import Tanimoto_wth_dual\n",
    "from resunet_d6_causal_mtskcolor_ddist import *\n",
    "from resunet_d7_causal_mtskcolor_ddist import *\n",
    "\n",
    "from datasets import *"
   ]
  },
  {
   "cell_type": "code",
   "execution_count": 2,
   "metadata": {},
   "outputs": [],
   "source": [
    "def dice_coef(x, y):\n",
    "    if type(x).__module__ == 'numpy':\n",
    "        intersection = np.logical_and(x, y)\n",
    "        return 2. * np.sum(intersection) / (np.sum(x) + np.sum(y))\n",
    "    else:\n",
    "        intersection = mx.ndarray.op.broadcast_logical_and(x, y)\n",
    "        return 2. * mx.nd.sum(intersection) / (mx.nd.sum(x) + mx.nd.sum(y))"
   ]
  },
  {
   "cell_type": "code",
   "execution_count": 3,
   "metadata": {},
   "outputs": [],
   "source": [
    "def visdom_visualize_batch(vis, img, extent, boundary, distance,\n",
    "                           extent_pred, boundary_pred, distance_pred,\n",
    "                           hsv, hsv_pred, title=\"Train images\", n_channels=3):\n",
    "\n",
    "    img, extent, boundary, distance = img.asnumpy(), extent.asnumpy(), boundary.asnumpy(), distance.asnumpy()\n",
    "    extent_pred, boundary_pred = extent_pred.asnumpy(), boundary_pred.asnumpy()\n",
    "    distance_pred, hsv, hsv_pred = distance_pred.asnumpy(), hsv.asnumpy(), hsv_pred.asnumpy()\n",
    "\n",
    "    # put everything in one window\n",
    "    batch_size, nchannels, nrows, ncols = img.shape\n",
    "    padding = 10\n",
    "    \n",
    "    items = []\n",
    "    for i in range(img.shape[1] // n_channels):\n",
    "        items.append(img[:,i*n_channels:(i+1)*n_channels])\n",
    "    for i in range(hsv_pred.shape[1] // n_channels):\n",
    "        items.append(hsv_pred[:,i*n_channels:(i+1)*n_channels])\n",
    "    items = items + [extent, extent_pred, boundary, boundary_pred, distance, distance_pred]\n",
    "    result = np.zeros((3, len(items)*nrows + (len(items)-1)*padding, batch_size*ncols + (batch_size-1)*padding))\n",
    "\n",
    "    for j, item in enumerate(items):\n",
    "\n",
    "        if item.shape[1] == 1:\n",
    "            item = np.tile(item, (1,3,1,1)) * 255.\n",
    "\n",
    "        if (j >= img.shape[1] // n_channels) and \\\n",
    "        (j < img.shape[1] // n_channels + hsv_pred.shape[1] // n_channels): # convert HSV to RGB\n",
    "            item = np.moveaxis(item, 1, -1) * 255.\n",
    "            for i in range(batch_size):\n",
    "                item[i] = cv2.cvtColor(item[i].astype(np.uint8), cv2.COLOR_HSV2RGB)\n",
    "            item = np.moveaxis(item, -1, 1)\n",
    "            \n",
    "        for i in range(batch_size):\n",
    "            result[:, j*(nrows+padding):(j+1)*nrows+j*padding, i*(ncols+padding):(i+1)*ncols+i*padding] = item[i]\n",
    "    vis.images(result, nrow=1, win=title, opts={'title': title})\n"
   ]
  },
  {
   "cell_type": "code",
   "execution_count": 4,
   "metadata": {},
   "outputs": [],
   "source": [
    "def train_model(train_dataloader, model, tanimoto_dual, trainer, epoch, args):\n",
    "    \n",
    "    # initialize metrics\n",
    "    cumulative_loss = 0\n",
    "    accuracy = mx.metric.Accuracy()\n",
    "    f1 = mx.metric.F1()\n",
    "    mcc = mx.metric.MCC()\n",
    "    dice = mx.metric.CustomMetric(feval=dice_coef, name=\"Dice\")\n",
    "    \n",
    "    # training set\n",
    "    for batch_i, (img, extent, boundary, distance, hsv) in enumerate(\n",
    "        tqdm(train_dataloader, desc='Training epoch {}'.format(epoch))):\n",
    "        \n",
    "        with autograd.record():\n",
    "\n",
    "            img = img.as_in_context(mx.gpu(args['gpu']))\n",
    "            extent = extent.as_in_context(mx.gpu(args['gpu']))\n",
    "            boundary = boundary.as_in_context(mx.gpu(args['gpu']))\n",
    "            distance = distance.as_in_context(mx.gpu(args['gpu']))\n",
    "            hsv = hsv.as_in_context(mx.gpu(args['gpu']))\n",
    "            \n",
    "            logits, bound, dist, convc = model(img)\n",
    "            \n",
    "            # multi-task loss\n",
    "            # TODO: wrap this in a custom loss function / class\n",
    "            loss_extent = mx.nd.sum(1 - tanimoto_dual(logits, extent))\n",
    "            loss_boundary = mx.nd.sum(1 - tanimoto_dual(bound, boundary))\n",
    "            loss_distance = mx.nd.sum(1 - tanimoto_dual(dist, distance))\n",
    "            loss_hsv = mx.nd.sum(1 - tanimoto_dual(convc, hsv))\n",
    "            \n",
    "            loss = 0.25 * (loss_extent + loss_boundary + loss_distance + loss_hsv)\n",
    "            \n",
    "        loss.backward()\n",
    "        trainer.step(args['batch_size'])\n",
    "        \n",
    "        # update metrics based on every batch\n",
    "        cumulative_loss += mx.nd.sum(loss).asscalar()\n",
    "        # accuracy\n",
    "        extent_predicted_classes = mx.nd.ceil(logits[:,[0],:,:] - 0.5)\n",
    "        accuracy.update(extent, extent_predicted_classes)\n",
    "        # f1 score\n",
    "        prediction = logits[:,0,:,:].reshape(-1)\n",
    "        probabilities = mx.nd.stack(1 - prediction, prediction, axis=1)\n",
    "        f1.update(extent.reshape(-1), probabilities)\n",
    "        # MCC metric\n",
    "        mcc.update(extent.reshape(-1), probabilities)\n",
    "        # Dice score\n",
    "        dice.update(extent, extent_predicted_classes)\n",
    "        # TODO: eccentricity\n",
    "        # TODO: ...\n",
    "        \n",
    "        if batch_i % args['visdom_every'] == 0:\n",
    "            visdom_visualize_batch(args['visdom'], img, extent, boundary, distance,\n",
    "                                   logits, bound, dist, hsv, convc)\n",
    "\n",
    "    return cumulative_loss, accuracy, f1, mcc, dice\n"
   ]
  },
  {
   "cell_type": "code",
   "execution_count": 5,
   "metadata": {},
   "outputs": [],
   "source": [
    "def evaluate_model(val_dataloader, model, tanimoto_dual, epoch, args):\n",
    "    \n",
    "    # initialize metrics\n",
    "    cumulative_loss = 0\n",
    "    accuracy = mx.metric.Accuracy()\n",
    "    f1 = mx.metric.F1()\n",
    "    mcc = mx.metric.MCC()\n",
    "    dice = mx.metric.CustomMetric(feval=dice_coef, name=\"Dice\")\n",
    "    \n",
    "    # validation set\n",
    "    for batch_i, (img, extent, boundary, distance, hsv) in enumerate(\n",
    "        tqdm(val_dataloader, desc='Validation epoch {}'.format(epoch))):\n",
    "\n",
    "        img = img.as_in_context(mx.gpu(args['gpu']))\n",
    "        extent = extent.as_in_context(mx.gpu(args['gpu']))\n",
    "        boundary = boundary.as_in_context(mx.gpu(args['gpu']))\n",
    "        distance = distance.as_in_context(mx.gpu(args['gpu']))\n",
    "        hsv = hsv.as_in_context(mx.gpu(args['gpu']))\n",
    "\n",
    "        logits, bound, dist, convc = model(img)\n",
    "            \n",
    "        # multi-task loss\n",
    "        # TODO: wrap this in a custom loss function / class\n",
    "        loss_extent = mx.nd.sum(1 - tanimoto_dual(logits, extent))\n",
    "        loss_boundary = mx.nd.sum(1 - tanimoto_dual(bound, boundary))\n",
    "        loss_distance = mx.nd.sum(1 - tanimoto_dual(dist, distance))\n",
    "        loss_hsv = mx.nd.sum(1 - tanimoto_dual(convc, hsv))\n",
    "\n",
    "        loss = 0.25 * (loss_extent + loss_boundary + loss_distance + loss_hsv)\n",
    "        \n",
    "        # update metrics based on every batch\n",
    "        cumulative_loss += mx.nd.sum(loss).asscalar()\n",
    "        # accuracy\n",
    "        extent_predicted_classes = mx.nd.ceil(logits[:,[0],:,:] - 0.5)\n",
    "        accuracy.update(extent, extent_predicted_classes)\n",
    "        # f1 score\n",
    "        prediction = logits[:,0,:,:].reshape(-1)\n",
    "        probabilities = mx.nd.stack(1 - prediction, prediction, axis=1)\n",
    "        f1.update(extent.reshape(-1), probabilities)\n",
    "        # MCC metric\n",
    "        mcc.update(extent.reshape(-1), probabilities)\n",
    "        # Dice score\n",
    "        dice.update(extent, extent_predicted_classes)\n",
    "        # TODO: eccentricity\n",
    "        # TODO: ...\n",
    "        \n",
    "        if batch_i % args['visdom_every'] == 0:\n",
    "            visdom_visualize_batch(args['visdom'], img, extent, boundary, distance,\n",
    "                                   logits, bound, dist, hsv, convc, title=\"Val images\")\n",
    "        \n",
    "    return cumulative_loss, accuracy, f1, mcc, dice"
   ]
  },
  {
   "cell_type": "markdown",
   "metadata": {},
   "source": [
    "# New 10k samples in France"
   ]
  },
  {
   "cell_type": "code",
   "execution_count": 6,
   "metadata": {},
   "outputs": [],
   "source": [
    "def run_france(splits_path='../data/splits/sherrie10k_planetImagery_splits.csv',\n",
    "               epochs=100, lr=0.001, lr_decay=None, n_filters=16, batch_size=8,\n",
    "               n_classes=1, model_type='resunet-d6', month='april', \n",
    "               codes_to_keep=list(np.arange(1,29, dtype=np.uint8)), \n",
    "               image_suffix='.tif', gpu_id=0):\n",
    "    \n",
    "    \n",
    "    # Set up names of directories and paths for saving\n",
    "    if len(codes_to_keep) >= 24:\n",
    "        classes = 'all'\n",
    "    elif codes_to_keep == list(range(1,10)) + [11,14,15,16,17,18,19,24,25,26,27]:\n",
    "        classes = 'notreecrops'\n",
    "    else:\n",
    "        classes = 'subset'\n",
    "    folder_name = model_type+'_'+month+'_class-'+classes+'_nfilter-'+str(n_filters)+'_bs-'+str(batch_size)+'_lr-'+str(lr)\n",
    "    if lr_decay:\n",
    "        folder_name = folder_name + '_lrdecay-'+str(lr_decay)\n",
    "    save_path = os.path.join('../experiments/france/sherrie10k/', folder_name)\n",
    "    if not os.path.isdir(save_path):\n",
    "        os.makedirs(save_path)\n",
    "    save_model_name = os.path.join(save_path, \"model.params\")\n",
    "    \n",
    "    # Directories for loading data\n",
    "    month_dict = {'april': '2019_04', 'october': '2019_10', 'january': '2019_01'}\n",
    "    month_folder = month_dict[month]\n",
    "    image_directory = os.path.join(\n",
    "        '../data/planet/france/sherrie10k/monthly_mosaics_renamed_clipped_merged/', month_folder)\n",
    "    label_directory = '../data/planet/france/sherrie10k/extent_labels/'\n",
    "\n",
    "    # Visdom\n",
    "    env_name = 'france_sherrie10k_'+folder_name\n",
    "    vis = visdom.Visdom(port=8097, env=env_name)\n",
    "    \n",
    "    # Arguments\n",
    "    args = {}\n",
    "    args['batch_size'] = batch_size\n",
    "    args['gpu'] = gpu_id\n",
    "    args['visdom'] = vis\n",
    "    args['visdom_every'] = 20\n",
    "\n",
    "    # Load train/val/test splits\n",
    "    splits_df = pd.read_csv(splits_path)\n",
    "    splits_df['image_id'] = splits_df['image_id'].astype(str).str.zfill(5)\n",
    "    train_names = splits_df[splits_df['fold'] == 'train']['image_id'].values\n",
    "    val_names = splits_df[splits_df['fold'] == 'val']['image_id'].values\n",
    "    test_names = splits_df[splits_df['fold'] == 'test']['image_id'].values\n",
    "\n",
    "    train_dataset = PlanetDatasetWithClasses(\n",
    "        image_directory, label_directory, fold='train', image_names=train_names, classes=codes_to_keep,\n",
    "        image_suffix=image_suffix)\n",
    "    val_dataset = PlanetDatasetWithClasses(\n",
    "        image_directory, label_directory, fold='val', image_names=val_names, classes=codes_to_keep,\n",
    "        image_suffix=image_suffix)\n",
    "    test_dataset = PlanetDatasetWithClasses(\n",
    "        image_directory, label_directory, fold='test', image_names=test_names, classes=codes_to_keep,\n",
    "        image_suffix=image_suffix)\n",
    "\n",
    "    train_dataloader = gluon.data.DataLoader(train_dataset, batch_size=batch_size)\n",
    "    val_dataloader = gluon.data.DataLoader(val_dataset, batch_size=batch_size)\n",
    "    test_dataloader = gluon.data.DataLoader(test_dataset, batch_size=batch_size)\n",
    "\n",
    "    # define model\n",
    "    if model_type == 'resunet-d6':\n",
    "        model = ResUNet_d6(_nfilters_init=n_filters, _NClasses=n_classes)\n",
    "    elif model_type == 'resunet-d7':\n",
    "        model = ResUNet_d7(_nfilters_init=n_filters, _NClasses=n_classes)\n",
    "    model.initialize()\n",
    "    model.hybridize()\n",
    "    model.collect_params().reset_ctx(mx.gpu(args['gpu']))\n",
    "\n",
    "    # define loss function\n",
    "    tanimoto_dual = Tanimoto_wth_dual()\n",
    "    if lr_decay:\n",
    "        schedule = mx.lr_scheduler.FactorScheduler(step=1, factor=lr_decay)\n",
    "        adam_optimizer = mx.optimizer.Adam(learning_rate=lr, lr_scheduler=schedule)\n",
    "    else:\n",
    "        adam_optimizer = mx.optimizer.Adam(learning_rate=lr)\n",
    "    trainer = gluon.Trainer(model.collect_params(), optimizer=adam_optimizer)\n",
    "\n",
    "    # containers for metrics to log\n",
    "    train_metrics = {'train_loss': [], 'train_acc': [], 'train_f1': [], \n",
    "                     'train_mcc': [], 'train_dice': []}\n",
    "    val_metrics = {'val_loss': [], 'val_acc': [], 'val_f1': [], \n",
    "                   'val_mcc': [], 'val_dice': []}\n",
    "    best_mcc = 0.0\n",
    "\n",
    "    # training loop\n",
    "    for epoch in range(1, epochs+1):\n",
    "\n",
    "        # training set\n",
    "        train_loss, train_accuracy, train_f1, train_mcc, train_dice = train_model(\n",
    "            train_dataloader, model, tanimoto_dual, trainer, epoch, args)\n",
    "\n",
    "        # training set metrics\n",
    "        train_loss_avg = train_loss / len(train_dataset)\n",
    "        train_metrics['train_loss'].append(train_loss_avg)\n",
    "        train_metrics['train_acc'].append(train_accuracy.get()[1])\n",
    "        train_metrics['train_f1'].append(train_f1.get()[1])\n",
    "        train_metrics['train_mcc'].append(train_mcc.get()[1])\n",
    "        train_metrics['train_dice'].append(train_dice.get()[1])\n",
    "\n",
    "        # validation set\n",
    "        val_loss, val_accuracy, val_f1, val_mcc, val_dice = evaluate_model(\n",
    "            val_dataloader, model, tanimoto_dual, epoch, args)\n",
    "\n",
    "        # validation set metrics\n",
    "        val_loss_avg = val_loss / len(val_dataset)\n",
    "        val_metrics['val_loss'].append(val_loss_avg)\n",
    "        val_metrics['val_acc'].append(val_accuracy.get()[1])\n",
    "        val_metrics['val_f1'].append(val_f1.get()[1])\n",
    "        val_metrics['val_mcc'].append(val_mcc.get()[1])\n",
    "        val_metrics['val_dice'].append(val_dice.get()[1])\n",
    "\n",
    "        print(\"Epoch {}:\".format(epoch))\n",
    "        print(\"    Train loss {:0.3f}, accuracy {:0.3f}, F1-score {:0.3f}, MCC: {:0.3f}, Dice: {:0.3f}\".format(\n",
    "            train_loss_avg, train_accuracy.get()[1], train_f1.get()[1], train_mcc.get()[1], train_dice.get()[1]))\n",
    "        print(\"    Val loss {:0.3f}, accuracy {:0.3f}, F1-score {:0.3f}, MCC: {:0.3f}, Dice: {:0.3f}\".format(\n",
    "            val_loss_avg, val_accuracy.get()[1], val_f1.get()[1], val_mcc.get()[1], val_dice.get()[1]))\n",
    "\n",
    "        # save model based on best MCC metric\n",
    "        if val_mcc.get()[1] > best_mcc:\n",
    "            model.save_parameters(save_model_name)\n",
    "            best_mcc = val_mcc.get()[1]\n",
    "\n",
    "        # save metrics\n",
    "        metrics = pd.concat([pd.DataFrame(train_metrics), pd.DataFrame(val_metrics)], axis=1)\n",
    "        metrics.to_csv(os.path.join(save_path, 'metrics.csv'), index=False)\n",
    "\n",
    "        # visdom\n",
    "        vis.line(Y=np.stack([train_metrics['train_loss'], val_metrics['val_loss']], axis=1), \n",
    "                 X=np.arange(1, epoch+1), win=\"Loss\", \n",
    "                 opts=dict(legend=['train loss', 'val loss'], markers=False, title=\"Losses\",\n",
    "                           xlabel=\"Epoch\", ylabel=\"Loss\")\n",
    "                )\n",
    "        vis.line(Y=np.stack([train_metrics['train_mcc'], val_metrics['val_mcc']], axis=1), \n",
    "                 X=np.arange(1, epoch+1), win=\"MCC\", \n",
    "                 opts=dict(legend=['train MCC', 'val MCC'], markers=False, title=\"MCC\",\n",
    "                           xlabel=\"Epoch\", ylabel=\"MCC\")\n",
    "                )\n"
   ]
  },
  {
   "cell_type": "code",
   "execution_count": 7,
   "metadata": {
    "scrolled": true
   },
   "outputs": [
    {
     "name": "stderr",
     "output_type": "stream",
     "text": [
      "Setting up a new session...\n"
     ]
    },
    {
     "name": "stdout",
     "output_type": "stream",
     "text": [
      "depth:= 0, nfilters: 16\n",
      "depth:= 1, nfilters: 32\n",
      "depth:= 2, nfilters: 64\n",
      "depth:= 3, nfilters: 128\n",
      "depth:= 4, nfilters: 256\n",
      "depth:= 5, nfilters: 512\n",
      "depth:= 6, nfilters: 256\n",
      "depth:= 7, nfilters: 128\n",
      "depth:= 8, nfilters: 64\n",
      "depth:= 9, nfilters: 32\n",
      "depth:= 10, nfilters: 16\n"
     ]
    },
    {
     "name": "stderr",
     "output_type": "stream",
     "text": [
      "Training epoch 1: 100%|██████████| 856/856 [07:25<00:00,  1.92it/s]\n",
      "Validation epoch 1: 100%|██████████| 196/196 [01:11<00:00,  2.75it/s]\n"
     ]
    },
    {
     "name": "stdout",
     "output_type": "stream",
     "text": [
      "Epoch 1:\n",
      "    Train loss 0.227, accuracy 0.781, F1-score 0.740, MCC: 0.560, Dice: 0.740\n",
      "    Val loss 0.185, accuracy 0.839, F1-score 0.819, MCC: 0.666, Dice: 0.819\n"
     ]
    },
    {
     "name": "stderr",
     "output_type": "stream",
     "text": [
      "Training epoch 2: 100%|██████████| 856/856 [07:18<00:00,  1.95it/s]\n",
      "Validation epoch 2: 100%|██████████| 196/196 [01:06<00:00,  2.94it/s]\n"
     ]
    },
    {
     "name": "stdout",
     "output_type": "stream",
     "text": [
      "Epoch 2:\n",
      "    Train loss 0.198, accuracy 0.807, F1-score 0.771, MCC: 0.610, Dice: 0.771\n",
      "    Val loss 0.177, accuracy 0.848, F1-score 0.832, MCC: 0.685, Dice: 0.832\n"
     ]
    },
    {
     "name": "stderr",
     "output_type": "stream",
     "text": [
      "Training epoch 3: 100%|██████████| 856/856 [07:15<00:00,  1.97it/s]\n",
      "Validation epoch 3: 100%|██████████| 196/196 [01:07<00:00,  2.92it/s]\n"
     ]
    },
    {
     "name": "stdout",
     "output_type": "stream",
     "text": [
      "Epoch 3:\n",
      "    Train loss 0.193, accuracy 0.815, F1-score 0.780, MCC: 0.624, Dice: 0.780\n",
      "    Val loss 0.178, accuracy 0.849, F1-score 0.825, MCC: 0.686, Dice: 0.825\n"
     ]
    },
    {
     "name": "stderr",
     "output_type": "stream",
     "text": [
      "Training epoch 4: 100%|██████████| 856/856 [08:14<00:00,  1.73it/s]\n",
      "Validation epoch 4: 100%|██████████| 196/196 [01:19<00:00,  2.46it/s]\n"
     ]
    },
    {
     "name": "stdout",
     "output_type": "stream",
     "text": [
      "Epoch 4:\n",
      "    Train loss 0.189, accuracy 0.821, F1-score 0.786, MCC: 0.633, Dice: 0.786\n",
      "    Val loss 0.173, accuracy 0.850, F1-score 0.836, MCC: 0.692, Dice: 0.836\n"
     ]
    },
    {
     "name": "stderr",
     "output_type": "stream",
     "text": [
      "Training epoch 5: 100%|██████████| 856/856 [10:45<00:00,  1.33it/s]\n",
      "Validation epoch 5: 100%|██████████| 196/196 [01:18<00:00,  2.50it/s]\n",
      "Training epoch 6:   0%|          | 0/856 [00:00<?, ?it/s]"
     ]
    },
    {
     "name": "stdout",
     "output_type": "stream",
     "text": [
      "Epoch 5:\n",
      "    Train loss 0.187, accuracy 0.823, F1-score 0.789, MCC: 0.637, Dice: 0.789\n",
      "    Val loss 0.176, accuracy 0.844, F1-score 0.831, MCC: 0.680, Dice: 0.831\n"
     ]
    },
    {
     "name": "stderr",
     "output_type": "stream",
     "text": [
      "Training epoch 6: 100%|██████████| 856/856 [10:51<00:00,  1.31it/s]\n",
      "Validation epoch 6: 100%|██████████| 196/196 [01:19<00:00,  2.48it/s]\n",
      "Training epoch 7:   0%|          | 0/856 [00:00<?, ?it/s]"
     ]
    },
    {
     "name": "stdout",
     "output_type": "stream",
     "text": [
      "Epoch 6:\n",
      "    Train loss 0.185, accuracy 0.826, F1-score 0.792, MCC: 0.642, Dice: 0.792\n",
      "    Val loss 0.171, accuracy 0.849, F1-score 0.832, MCC: 0.688, Dice: 0.832\n"
     ]
    },
    {
     "name": "stderr",
     "output_type": "stream",
     "text": [
      "Training epoch 7: 100%|██████████| 856/856 [10:52<00:00,  1.31it/s]\n",
      "Validation epoch 7: 100%|██████████| 196/196 [01:17<00:00,  2.54it/s]\n"
     ]
    },
    {
     "name": "stdout",
     "output_type": "stream",
     "text": [
      "Epoch 7:\n",
      "    Train loss 0.184, accuracy 0.827, F1-score 0.793, MCC: 0.644, Dice: 0.793\n",
      "    Val loss 0.170, accuracy 0.854, F1-score 0.836, MCC: 0.698, Dice: 0.836\n"
     ]
    },
    {
     "name": "stderr",
     "output_type": "stream",
     "text": [
      "Training epoch 8: 100%|██████████| 856/856 [10:50<00:00,  1.32it/s]\n",
      "Validation epoch 8: 100%|██████████| 196/196 [01:19<00:00,  2.46it/s]\n"
     ]
    },
    {
     "name": "stdout",
     "output_type": "stream",
     "text": [
      "Epoch 8:\n",
      "    Train loss 0.182, accuracy 0.829, F1-score 0.796, MCC: 0.648, Dice: 0.796\n",
      "    Val loss 0.169, accuracy 0.856, F1-score 0.835, MCC: 0.700, Dice: 0.835\n"
     ]
    },
    {
     "name": "stderr",
     "output_type": "stream",
     "text": [
      "Training epoch 9: 100%|██████████| 856/856 [10:48<00:00,  1.32it/s]\n",
      "Validation epoch 9: 100%|██████████| 196/196 [01:21<00:00,  2.40it/s]\n"
     ]
    },
    {
     "name": "stdout",
     "output_type": "stream",
     "text": [
      "Epoch 9:\n",
      "    Train loss 0.181, accuracy 0.831, F1-score 0.798, MCC: 0.652, Dice: 0.798\n",
      "    Val loss 0.167, accuracy 0.858, F1-score 0.840, MCC: 0.705, Dice: 0.840\n"
     ]
    },
    {
     "name": "stderr",
     "output_type": "stream",
     "text": [
      "Training epoch 10: 100%|██████████| 856/856 [10:43<00:00,  1.33it/s]\n",
      "Validation epoch 10: 100%|██████████| 196/196 [01:26<00:00,  2.27it/s]\n",
      "Training epoch 11:   0%|          | 0/856 [00:00<?, ?it/s]"
     ]
    },
    {
     "name": "stdout",
     "output_type": "stream",
     "text": [
      "Epoch 10:\n",
      "    Train loss 0.180, accuracy 0.831, F1-score 0.799, MCC: 0.653, Dice: 0.799\n",
      "    Val loss 0.167, accuracy 0.857, F1-score 0.840, MCC: 0.703, Dice: 0.840\n"
     ]
    },
    {
     "name": "stderr",
     "output_type": "stream",
     "text": [
      "Training epoch 11: 100%|██████████| 856/856 [10:43<00:00,  1.33it/s]\n",
      "Validation epoch 11: 100%|██████████| 196/196 [01:22<00:00,  2.38it/s]\n",
      "Training epoch 12:   0%|          | 0/856 [00:00<?, ?it/s]"
     ]
    },
    {
     "name": "stdout",
     "output_type": "stream",
     "text": [
      "Epoch 11:\n",
      "    Train loss 0.179, accuracy 0.832, F1-score 0.799, MCC: 0.653, Dice: 0.799\n",
      "    Val loss 0.170, accuracy 0.854, F1-score 0.832, MCC: 0.696, Dice: 0.832\n"
     ]
    },
    {
     "name": "stderr",
     "output_type": "stream",
     "text": [
      "Training epoch 12: 100%|██████████| 856/856 [10:44<00:00,  1.33it/s]\n",
      "Validation epoch 12: 100%|██████████| 196/196 [01:18<00:00,  2.48it/s]\n",
      "Training epoch 13:   0%|          | 0/856 [00:00<?, ?it/s]"
     ]
    },
    {
     "name": "stdout",
     "output_type": "stream",
     "text": [
      "Epoch 12:\n",
      "    Train loss 0.178, accuracy 0.833, F1-score 0.801, MCC: 0.656, Dice: 0.801\n",
      "    Val loss 0.166, accuracy 0.857, F1-score 0.839, MCC: 0.704, Dice: 0.839\n"
     ]
    },
    {
     "name": "stderr",
     "output_type": "stream",
     "text": [
      "Training epoch 13: 100%|██████████| 856/856 [10:54<00:00,  1.31it/s]\n",
      "Validation epoch 13: 100%|██████████| 196/196 [01:18<00:00,  2.49it/s]\n"
     ]
    },
    {
     "name": "stdout",
     "output_type": "stream",
     "text": [
      "Epoch 13:\n",
      "    Train loss 0.178, accuracy 0.834, F1-score 0.802, MCC: 0.656, Dice: 0.802\n",
      "    Val loss 0.165, accuracy 0.858, F1-score 0.843, MCC: 0.706, Dice: 0.843\n"
     ]
    },
    {
     "name": "stderr",
     "output_type": "stream",
     "text": [
      "Training epoch 14: 100%|██████████| 856/856 [10:49<00:00,  1.32it/s]\n",
      "Validation epoch 14: 100%|██████████| 196/196 [01:18<00:00,  2.48it/s]\n",
      "Training epoch 15:   0%|          | 0/856 [00:00<?, ?it/s]"
     ]
    },
    {
     "name": "stdout",
     "output_type": "stream",
     "text": [
      "Epoch 14:\n",
      "    Train loss 0.178, accuracy 0.834, F1-score 0.802, MCC: 0.657, Dice: 0.802\n",
      "    Val loss 0.166, accuracy 0.857, F1-score 0.837, MCC: 0.702, Dice: 0.837\n"
     ]
    },
    {
     "name": "stderr",
     "output_type": "stream",
     "text": [
      "Training epoch 15: 100%|██████████| 856/856 [10:54<00:00,  1.31it/s]\n",
      "Validation epoch 15: 100%|██████████| 196/196 [01:32<00:00,  2.12it/s]\n",
      "Training epoch 16:   0%|          | 0/856 [00:00<?, ?it/s]"
     ]
    },
    {
     "name": "stdout",
     "output_type": "stream",
     "text": [
      "Epoch 15:\n",
      "    Train loss 0.176, accuracy 0.836, F1-score 0.804, MCC: 0.660, Dice: 0.804\n",
      "    Val loss 0.166, accuracy 0.857, F1-score 0.841, MCC: 0.704, Dice: 0.841\n"
     ]
    },
    {
     "name": "stderr",
     "output_type": "stream",
     "text": [
      "Training epoch 16: 100%|██████████| 856/856 [13:25<00:00,  1.06it/s]\n",
      "Validation epoch 16: 100%|██████████| 196/196 [01:30<00:00,  2.16it/s]\n",
      "Training epoch 17:   0%|          | 0/856 [00:00<?, ?it/s]"
     ]
    },
    {
     "name": "stdout",
     "output_type": "stream",
     "text": [
      "Epoch 16:\n",
      "    Train loss 0.176, accuracy 0.836, F1-score 0.805, MCC: 0.661, Dice: 0.805\n",
      "    Val loss 0.167, accuracy 0.855, F1-score 0.841, MCC: 0.702, Dice: 0.841\n"
     ]
    },
    {
     "name": "stderr",
     "output_type": "stream",
     "text": [
      "Training epoch 17: 100%|██████████| 856/856 [11:57<00:00,  1.19it/s]\n",
      "Validation epoch 17: 100%|██████████| 196/196 [01:19<00:00,  2.48it/s]\n"
     ]
    },
    {
     "name": "stdout",
     "output_type": "stream",
     "text": [
      "Epoch 17:\n",
      "    Train loss 0.176, accuracy 0.837, F1-score 0.805, MCC: 0.662, Dice: 0.805\n",
      "    Val loss 0.164, accuracy 0.859, F1-score 0.844, MCC: 0.709, Dice: 0.844\n"
     ]
    },
    {
     "name": "stderr",
     "output_type": "stream",
     "text": [
      "Training epoch 18: 100%|██████████| 856/856 [10:56<00:00,  1.30it/s]\n",
      "Validation epoch 18: 100%|██████████| 196/196 [01:20<00:00,  2.44it/s]\n",
      "Training epoch 19:   0%|          | 0/856 [00:00<?, ?it/s]"
     ]
    },
    {
     "name": "stdout",
     "output_type": "stream",
     "text": [
      "Epoch 18:\n",
      "    Train loss 0.175, accuracy 0.837, F1-score 0.806, MCC: 0.663, Dice: 0.806\n",
      "    Val loss 0.164, accuracy 0.859, F1-score 0.842, MCC: 0.707, Dice: 0.842\n"
     ]
    },
    {
     "name": "stderr",
     "output_type": "stream",
     "text": [
      "Training epoch 19: 100%|██████████| 856/856 [12:33<00:00,  1.14it/s]\n",
      "Validation epoch 19: 100%|██████████| 196/196 [01:38<00:00,  1.99it/s]\n",
      "Training epoch 20:   0%|          | 0/856 [00:00<?, ?it/s]"
     ]
    },
    {
     "name": "stdout",
     "output_type": "stream",
     "text": [
      "Epoch 19:\n",
      "    Train loss 0.175, accuracy 0.837, F1-score 0.807, MCC: 0.664, Dice: 0.807\n",
      "    Val loss 0.164, accuracy 0.859, F1-score 0.840, MCC: 0.708, Dice: 0.840\n"
     ]
    },
    {
     "name": "stderr",
     "output_type": "stream",
     "text": [
      "Training epoch 20: 100%|██████████| 856/856 [14:28<00:00,  1.01s/it]\n",
      "Validation epoch 20: 100%|██████████| 196/196 [01:38<00:00,  2.00it/s]\n",
      "Training epoch 21:   0%|          | 0/856 [00:00<?, ?it/s]"
     ]
    },
    {
     "name": "stdout",
     "output_type": "stream",
     "text": [
      "Epoch 20:\n",
      "    Train loss 0.174, accuracy 0.838, F1-score 0.807, MCC: 0.665, Dice: 0.807\n",
      "    Val loss 0.166, accuracy 0.853, F1-score 0.839, MCC: 0.699, Dice: 0.839\n"
     ]
    },
    {
     "name": "stderr",
     "output_type": "stream",
     "text": [
      "Training epoch 21: 100%|██████████| 856/856 [13:18<00:00,  1.07it/s]\n",
      "Training epoch 22: 100%|██████████| 856/856 [13:53<00:00,  1.03it/s]s]\n",
      "Training epoch 23: 100%|██████████| 856/856 [14:04<00:00,  1.01it/s]]\n",
      "Validation epoch 23: 100%|██████████| 196/196 [01:40<00:00,  1.95it/s]\n",
      "Training epoch 24:   0%|          | 0/856 [00:00<?, ?it/s]"
     ]
    },
    {
     "name": "stdout",
     "output_type": "stream",
     "text": [
      "Epoch 23:\n",
      "    Train loss 0.173, accuracy 0.839, F1-score 0.809, MCC: 0.667, Dice: 0.809\n",
      "    Val loss 0.163, accuracy 0.858, F1-score 0.844, MCC: 0.707, Dice: 0.844\n"
     ]
    },
    {
     "name": "stderr",
     "output_type": "stream",
     "text": [
      "Training epoch 24: 100%|██████████| 856/856 [13:59<00:00,  1.02it/s]\n",
      "Validation epoch 24: 100%|██████████| 196/196 [01:36<00:00,  2.04it/s]\n",
      "Training epoch 25:   0%|          | 0/856 [00:00<?, ?it/s]"
     ]
    },
    {
     "name": "stdout",
     "output_type": "stream",
     "text": [
      "Epoch 24:\n",
      "    Train loss 0.173, accuracy 0.840, F1-score 0.810, MCC: 0.669, Dice: 0.810\n",
      "    Val loss 0.163, accuracy 0.860, F1-score 0.845, MCC: 0.710, Dice: 0.845\n"
     ]
    },
    {
     "name": "stderr",
     "output_type": "stream",
     "text": [
      "Training epoch 25: 100%|██████████| 856/856 [14:03<00:00,  1.02it/s]\n",
      "Validation epoch 25: 100%|██████████| 196/196 [01:37<00:00,  2.01it/s]\n",
      "Training epoch 26:   0%|          | 0/856 [00:00<?, ?it/s]"
     ]
    },
    {
     "name": "stdout",
     "output_type": "stream",
     "text": [
      "Epoch 25:\n",
      "    Train loss 0.172, accuracy 0.841, F1-score 0.812, MCC: 0.671, Dice: 0.812\n",
      "    Val loss 0.163, accuracy 0.858, F1-score 0.844, MCC: 0.708, Dice: 0.844\n"
     ]
    },
    {
     "name": "stderr",
     "output_type": "stream",
     "text": [
      "Training epoch 26:  73%|███████▎  | 625/856 [10:13<03:56,  1.02s/it]IOPub message rate exceeded.\n",
      "The notebook server will temporarily stop sending output\n",
      "to the client in order to avoid crashing it.\n",
      "To change this limit, set the config variable\n",
      "`--NotebookApp.iopub_msg_rate_limit`.\n",
      "\n",
      "Current values:\n",
      "NotebookApp.iopub_msg_rate_limit=1000.0 (msgs/sec)\n",
      "NotebookApp.rate_limit_window=3.0 (secs)\n",
      "\n",
      "Training epoch 27: 100%|██████████| 856/856 [14:03<00:00,  1.02it/s]\n",
      "Validation epoch 27: 100%|██████████| 196/196 [01:40<00:00,  1.95it/s]\n"
     ]
    },
    {
     "name": "stdout",
     "output_type": "stream",
     "text": [
      "Epoch 27:\n",
      "    Train loss 0.172, accuracy 0.841, F1-score 0.812, MCC: 0.671, Dice: 0.812\n",
      "    Val loss 0.161, accuracy 0.860, F1-score 0.844, MCC: 0.711, Dice: 0.844\n"
     ]
    },
    {
     "name": "stderr",
     "output_type": "stream",
     "text": [
      "Training epoch 28: 100%|██████████| 856/856 [14:01<00:00,  1.02it/s]\n",
      "Validation epoch 28: 100%|██████████| 196/196 [01:41<00:00,  1.93it/s]\n",
      "Training epoch 29:   0%|          | 0/856 [00:00<?, ?it/s]"
     ]
    },
    {
     "name": "stdout",
     "output_type": "stream",
     "text": [
      "Epoch 28:\n",
      "    Train loss 0.172, accuracy 0.841, F1-score 0.812, MCC: 0.671, Dice: 0.812\n",
      "    Val loss 0.163, accuracy 0.857, F1-score 0.841, MCC: 0.705, Dice: 0.841\n"
     ]
    },
    {
     "name": "stderr",
     "output_type": "stream",
     "text": [
      "Training epoch 29: 100%|██████████| 856/856 [14:04<00:00,  1.01it/s]\n",
      "Validation epoch 29: 100%|██████████| 196/196 [01:41<00:00,  1.93it/s]\n",
      "Training epoch 30:   0%|          | 0/856 [00:00<?, ?it/s]"
     ]
    },
    {
     "name": "stdout",
     "output_type": "stream",
     "text": [
      "Epoch 29:\n",
      "    Train loss 0.171, accuracy 0.843, F1-score 0.814, MCC: 0.674, Dice: 0.814\n",
      "    Val loss 0.162, accuracy 0.858, F1-score 0.840, MCC: 0.706, Dice: 0.840\n"
     ]
    },
    {
     "name": "stderr",
     "output_type": "stream",
     "text": [
      "Training epoch 30:  64%|██████▎   | 544/856 [08:57<05:57,  1.15s/it]IOPub message rate exceeded.\n",
      "The notebook server will temporarily stop sending output\n",
      "to the client in order to avoid crashing it.\n",
      "To change this limit, set the config variable\n",
      "`--NotebookApp.iopub_msg_rate_limit`.\n",
      "\n",
      "Current values:\n",
      "NotebookApp.iopub_msg_rate_limit=1000.0 (msgs/sec)\n",
      "NotebookApp.rate_limit_window=3.0 (secs)\n",
      "\n",
      "Training epoch 32: 100%|██████████| 856/856 [14:04<00:00,  1.01it/s]\n",
      "Training epoch 43: 100%|██████████| 856/856 [14:01<00:00,  1.02it/s]s]\n",
      "Validation epoch 43: 100%|██████████| 196/196 [01:37<00:00,  2.01it/s]\n"
     ]
    },
    {
     "name": "stdout",
     "output_type": "stream",
     "text": [
      "Epoch 43:\n",
      "    Train loss 0.168, accuracy 0.846, F1-score 0.819, MCC: 0.681, Dice: 0.819\n",
      "    Val loss 0.160, accuracy 0.863, F1-score 0.845, MCC: 0.715, Dice: 0.845\n"
     ]
    },
    {
     "name": "stderr",
     "output_type": "stream",
     "text": [
      "Training epoch 44: 100%|██████████| 856/856 [14:02<00:00,  1.02it/s]\n",
      "Training epoch 51: 100%|██████████| 856/856 [14:05<00:00,  1.01it/s]]\n",
      "Validation epoch 51: 100%|██████████| 196/196 [01:40<00:00,  1.96it/s]\n",
      "Training epoch 52:   0%|          | 0/856 [00:00<?, ?it/s]"
     ]
    },
    {
     "name": "stdout",
     "output_type": "stream",
     "text": [
      "Epoch 51:\n",
      "    Train loss 0.167, accuracy 0.849, F1-score 0.822, MCC: 0.686, Dice: 0.822\n",
      "    Val loss 0.160, accuracy 0.858, F1-score 0.846, MCC: 0.711, Dice: 0.846\n"
     ]
    },
    {
     "name": "stderr",
     "output_type": "stream",
     "text": [
      "Training epoch 52: 100%|██████████| 856/856 [13:58<00:00,  1.02it/s]\n",
      "Validation epoch 52: 100%|██████████| 196/196 [01:39<00:00,  1.97it/s]\n",
      "Training epoch 53:   0%|          | 0/856 [00:00<?, ?it/s]"
     ]
    },
    {
     "name": "stdout",
     "output_type": "stream",
     "text": [
      "Epoch 52:\n",
      "    Train loss 0.167, accuracy 0.848, F1-score 0.821, MCC: 0.685, Dice: 0.821\n",
      "    Val loss 0.159, accuracy 0.861, F1-score 0.847, MCC: 0.714, Dice: 0.847\n"
     ]
    },
    {
     "name": "stderr",
     "output_type": "stream",
     "text": [
      "Training epoch 53: 100%|██████████| 856/856 [13:58<00:00,  1.02it/s]\n",
      "Validation epoch 53: 100%|██████████| 196/196 [01:40<00:00,  1.96it/s]\n",
      "Training epoch 54:   0%|          | 0/856 [00:00<?, ?it/s]"
     ]
    },
    {
     "name": "stdout",
     "output_type": "stream",
     "text": [
      "Epoch 53:\n",
      "    Train loss 0.166, accuracy 0.848, F1-score 0.821, MCC: 0.685, Dice: 0.821\n",
      "    Val loss 0.161, accuracy 0.859, F1-score 0.844, MCC: 0.709, Dice: 0.844\n"
     ]
    },
    {
     "name": "stderr",
     "output_type": "stream",
     "text": [
      "Training epoch 54: 100%|██████████| 856/856 [14:10<00:00,  1.01it/s]\n",
      "Validation epoch 54: 100%|██████████| 196/196 [01:39<00:00,  1.98it/s]\n"
     ]
    },
    {
     "name": "stdout",
     "output_type": "stream",
     "text": [
      "Epoch 54:\n",
      "    Train loss 0.166, accuracy 0.849, F1-score 0.822, MCC: 0.687, Dice: 0.822\n",
      "    Val loss 0.158, accuracy 0.864, F1-score 0.846, MCC: 0.718, Dice: 0.846\n"
     ]
    },
    {
     "name": "stderr",
     "output_type": "stream",
     "text": [
      "Training epoch 55: 100%|██████████| 856/856 [14:13<00:00,  1.00it/s]\n",
      "Validation epoch 55: 100%|██████████| 196/196 [01:39<00:00,  1.97it/s]\n"
     ]
    },
    {
     "name": "stdout",
     "output_type": "stream",
     "text": [
      "Epoch 55:\n",
      "    Train loss 0.166, accuracy 0.849, F1-score 0.823, MCC: 0.687, Dice: 0.823\n",
      "    Val loss 0.159, accuracy 0.864, F1-score 0.848, MCC: 0.718, Dice: 0.848\n"
     ]
    },
    {
     "name": "stderr",
     "output_type": "stream",
     "text": [
      "Training epoch 56: 100%|██████████| 856/856 [14:02<00:00,  1.02it/s]\n",
      "Validation epoch 56: 100%|██████████| 196/196 [01:39<00:00,  1.98it/s]\n",
      "Training epoch 57:   0%|          | 0/856 [00:00<?, ?it/s]"
     ]
    },
    {
     "name": "stdout",
     "output_type": "stream",
     "text": [
      "Epoch 56:\n",
      "    Train loss 0.166, accuracy 0.850, F1-score 0.824, MCC: 0.689, Dice: 0.824\n",
      "    Val loss 0.160, accuracy 0.856, F1-score 0.843, MCC: 0.706, Dice: 0.843\n"
     ]
    },
    {
     "name": "stderr",
     "output_type": "stream",
     "text": [
      "Training epoch 57: 100%|██████████| 856/856 [14:05<00:00,  1.01it/s]\n",
      "Validation epoch 57: 100%|██████████| 196/196 [01:39<00:00,  1.97it/s]\n",
      "Training epoch 58:   0%|          | 0/856 [00:00<?, ?it/s]"
     ]
    },
    {
     "name": "stdout",
     "output_type": "stream",
     "text": [
      "Epoch 57:\n",
      "    Train loss 0.166, accuracy 0.850, F1-score 0.823, MCC: 0.688, Dice: 0.823\n",
      "    Val loss 0.161, accuracy 0.857, F1-score 0.845, MCC: 0.709, Dice: 0.845\n"
     ]
    },
    {
     "name": "stderr",
     "output_type": "stream",
     "text": [
      "Training epoch 58: 100%|██████████| 856/856 [14:03<00:00,  1.02it/s]\n",
      "Validation epoch 58: 100%|██████████| 196/196 [01:39<00:00,  1.98it/s]\n",
      "Training epoch 59:   0%|          | 0/856 [00:00<?, ?it/s]"
     ]
    },
    {
     "name": "stdout",
     "output_type": "stream",
     "text": [
      "Epoch 58:\n",
      "    Train loss 0.166, accuracy 0.850, F1-score 0.824, MCC: 0.689, Dice: 0.824\n",
      "    Val loss 0.161, accuracy 0.857, F1-score 0.842, MCC: 0.706, Dice: 0.842\n"
     ]
    },
    {
     "name": "stderr",
     "output_type": "stream",
     "text": [
      "Training epoch 59: 100%|██████████| 856/856 [14:06<00:00,  1.01it/s]\n",
      "Validation epoch 59: 100%|██████████| 196/196 [01:41<00:00,  1.94it/s]\n",
      "Training epoch 60:   0%|          | 0/856 [00:00<?, ?it/s]"
     ]
    },
    {
     "name": "stdout",
     "output_type": "stream",
     "text": [
      "Epoch 59:\n",
      "    Train loss 0.166, accuracy 0.849, F1-score 0.822, MCC: 0.686, Dice: 0.822\n",
      "    Val loss 0.161, accuracy 0.857, F1-score 0.844, MCC: 0.708, Dice: 0.844\n"
     ]
    },
    {
     "name": "stderr",
     "output_type": "stream",
     "text": [
      "Training epoch 60: 100%|██████████| 856/856 [14:10<00:00,  1.01it/s]\n",
      "Validation epoch 60: 100%|██████████| 196/196 [01:40<00:00,  1.94it/s]\n",
      "Training epoch 61:   0%|          | 0/856 [00:00<?, ?it/s]"
     ]
    },
    {
     "name": "stdout",
     "output_type": "stream",
     "text": [
      "Epoch 60:\n",
      "    Train loss 0.165, accuracy 0.850, F1-score 0.824, MCC: 0.689, Dice: 0.824\n",
      "    Val loss 0.159, accuracy 0.860, F1-score 0.844, MCC: 0.710, Dice: 0.844\n"
     ]
    },
    {
     "name": "stderr",
     "output_type": "stream",
     "text": [
      "Training epoch 61: 100%|██████████| 856/856 [14:01<00:00,  1.02it/s]\n",
      "Validation epoch 61: 100%|██████████| 196/196 [01:36<00:00,  2.03it/s]\n",
      "Training epoch 62:   0%|          | 0/856 [00:00<?, ?it/s]"
     ]
    },
    {
     "name": "stdout",
     "output_type": "stream",
     "text": [
      "Epoch 61:\n",
      "    Train loss 0.165, accuracy 0.851, F1-score 0.825, MCC: 0.690, Dice: 0.825\n",
      "    Val loss 0.161, accuracy 0.858, F1-score 0.844, MCC: 0.709, Dice: 0.844\n"
     ]
    },
    {
     "name": "stderr",
     "output_type": "stream",
     "text": [
      "Training epoch 62: 100%|██████████| 856/856 [14:05<00:00,  1.01it/s]\n",
      "Validation epoch 62: 100%|██████████| 196/196 [01:39<00:00,  1.96it/s]\n",
      "Training epoch 63:   0%|          | 0/856 [00:00<?, ?it/s]"
     ]
    },
    {
     "name": "stdout",
     "output_type": "stream",
     "text": [
      "Epoch 62:\n",
      "    Train loss 0.166, accuracy 0.850, F1-score 0.823, MCC: 0.687, Dice: 0.823\n",
      "    Val loss 0.159, accuracy 0.860, F1-score 0.845, MCC: 0.712, Dice: 0.845\n"
     ]
    },
    {
     "name": "stderr",
     "output_type": "stream",
     "text": [
      "Training epoch 63: 100%|██████████| 856/856 [14:02<00:00,  1.02it/s]\n",
      "Validation epoch 63: 100%|██████████| 196/196 [01:40<00:00,  1.96it/s]\n",
      "Training epoch 64:   0%|          | 0/856 [00:00<?, ?it/s]"
     ]
    },
    {
     "name": "stdout",
     "output_type": "stream",
     "text": [
      "Epoch 63:\n",
      "    Train loss 0.165, accuracy 0.850, F1-score 0.824, MCC: 0.689, Dice: 0.824\n",
      "    Val loss 0.160, accuracy 0.859, F1-score 0.844, MCC: 0.710, Dice: 0.844\n"
     ]
    },
    {
     "name": "stderr",
     "output_type": "stream",
     "text": [
      "Training epoch 64: 100%|██████████| 856/856 [14:05<00:00,  1.01it/s]\n",
      "Validation epoch 64: 100%|██████████| 196/196 [01:40<00:00,  1.95it/s]\n",
      "Training epoch 65:   0%|          | 0/856 [00:00<?, ?it/s]"
     ]
    },
    {
     "name": "stdout",
     "output_type": "stream",
     "text": [
      "Epoch 64:\n",
      "    Train loss 0.165, accuracy 0.851, F1-score 0.825, MCC: 0.690, Dice: 0.825\n",
      "    Val loss 0.158, accuracy 0.861, F1-score 0.847, MCC: 0.715, Dice: 0.847\n"
     ]
    },
    {
     "name": "stderr",
     "output_type": "stream",
     "text": [
      "Training epoch 65: 100%|██████████| 856/856 [14:10<00:00,  1.01it/s]\n",
      "Validation epoch 65: 100%|██████████| 196/196 [01:39<00:00,  1.97it/s]\n",
      "Training epoch 66:   0%|          | 0/856 [00:00<?, ?it/s]"
     ]
    },
    {
     "name": "stdout",
     "output_type": "stream",
     "text": [
      "Epoch 65:\n",
      "    Train loss 0.165, accuracy 0.851, F1-score 0.824, MCC: 0.690, Dice: 0.824\n",
      "    Val loss 0.164, accuracy 0.849, F1-score 0.840, MCC: 0.697, Dice: 0.840\n"
     ]
    },
    {
     "name": "stderr",
     "output_type": "stream",
     "text": [
      "Training epoch 66: 100%|██████████| 856/856 [14:05<00:00,  1.01it/s]\n",
      "Validation epoch 66: 100%|██████████| 196/196 [01:42<00:00,  1.91it/s]\n",
      "Training epoch 67:   0%|          | 0/856 [00:00<?, ?it/s]"
     ]
    },
    {
     "name": "stdout",
     "output_type": "stream",
     "text": [
      "Epoch 66:\n",
      "    Train loss 0.165, accuracy 0.851, F1-score 0.824, MCC: 0.690, Dice: 0.824\n",
      "    Val loss 0.159, accuracy 0.860, F1-score 0.846, MCC: 0.713, Dice: 0.846\n"
     ]
    },
    {
     "name": "stderr",
     "output_type": "stream",
     "text": [
      "Training epoch 67: 100%|██████████| 856/856 [14:05<00:00,  1.01it/s]\n",
      "Validation epoch 67: 100%|██████████| 196/196 [01:40<00:00,  1.95it/s]\n",
      "Training epoch 68:   0%|          | 0/856 [00:00<?, ?it/s]"
     ]
    },
    {
     "name": "stdout",
     "output_type": "stream",
     "text": [
      "Epoch 67:\n",
      "    Train loss 0.164, accuracy 0.851, F1-score 0.825, MCC: 0.691, Dice: 0.825\n",
      "    Val loss 0.163, accuracy 0.851, F1-score 0.841, MCC: 0.700, Dice: 0.841\n"
     ]
    },
    {
     "name": "stderr",
     "output_type": "stream",
     "text": [
      "Training epoch 68: 100%|██████████| 856/856 [14:07<00:00,  1.01it/s]\n",
      "Validation epoch 68: 100%|██████████| 196/196 [01:41<00:00,  1.93it/s]\n",
      "Training epoch 69:   0%|          | 0/856 [00:00<?, ?it/s]"
     ]
    },
    {
     "name": "stdout",
     "output_type": "stream",
     "text": [
      "Epoch 68:\n",
      "    Train loss 0.165, accuracy 0.852, F1-score 0.825, MCC: 0.692, Dice: 0.825\n",
      "    Val loss 0.159, accuracy 0.861, F1-score 0.846, MCC: 0.713, Dice: 0.846\n"
     ]
    },
    {
     "name": "stderr",
     "output_type": "stream",
     "text": [
      "Training epoch 69: 100%|██████████| 856/856 [14:08<00:00,  1.01it/s]\n",
      "Validation epoch 69: 100%|██████████| 196/196 [01:39<00:00,  1.97it/s]\n",
      "Training epoch 70:   0%|          | 0/856 [00:00<?, ?it/s]"
     ]
    },
    {
     "name": "stdout",
     "output_type": "stream",
     "text": [
      "Epoch 69:\n",
      "    Train loss 0.164, accuracy 0.852, F1-score 0.827, MCC: 0.693, Dice: 0.827\n",
      "    Val loss 0.160, accuracy 0.859, F1-score 0.845, MCC: 0.710, Dice: 0.845\n"
     ]
    },
    {
     "name": "stderr",
     "output_type": "stream",
     "text": [
      "Training epoch 70: 100%|██████████| 856/856 [13:55<00:00,  1.03it/s]\n",
      "Validation epoch 70: 100%|██████████| 196/196 [01:39<00:00,  1.98it/s]\n",
      "Training epoch 71:   0%|          | 0/856 [00:00<?, ?it/s]"
     ]
    },
    {
     "name": "stdout",
     "output_type": "stream",
     "text": [
      "Epoch 70:\n",
      "    Train loss 0.164, accuracy 0.853, F1-score 0.827, MCC: 0.694, Dice: 0.827\n",
      "    Val loss 0.159, accuracy 0.861, F1-score 0.847, MCC: 0.714, Dice: 0.847\n"
     ]
    },
    {
     "name": "stderr",
     "output_type": "stream",
     "text": [
      "Training epoch 71: 100%|██████████| 856/856 [14:05<00:00,  1.01it/s]\n",
      "Validation epoch 71: 100%|██████████| 196/196 [01:39<00:00,  1.96it/s]\n",
      "Training epoch 72:   0%|          | 0/856 [00:00<?, ?it/s]"
     ]
    },
    {
     "name": "stdout",
     "output_type": "stream",
     "text": [
      "Epoch 71:\n",
      "    Train loss 0.164, accuracy 0.852, F1-score 0.826, MCC: 0.693, Dice: 0.826\n",
      "    Val loss 0.159, accuracy 0.860, F1-score 0.844, MCC: 0.710, Dice: 0.844\n"
     ]
    },
    {
     "name": "stderr",
     "output_type": "stream",
     "text": [
      "Training epoch 72: 100%|██████████| 856/856 [14:06<00:00,  1.01it/s]\n",
      "Validation epoch 72: 100%|██████████| 196/196 [01:40<00:00,  1.94it/s]\n",
      "Training epoch 73:   0%|          | 0/856 [00:00<?, ?it/s]"
     ]
    },
    {
     "name": "stdout",
     "output_type": "stream",
     "text": [
      "Epoch 72:\n",
      "    Train loss 0.164, accuracy 0.852, F1-score 0.826, MCC: 0.692, Dice: 0.826\n",
      "    Val loss 0.161, accuracy 0.857, F1-score 0.845, MCC: 0.708, Dice: 0.845\n"
     ]
    },
    {
     "name": "stderr",
     "output_type": "stream",
     "text": [
      "Training epoch 73: 100%|██████████| 856/856 [14:02<00:00,  1.02it/s]\n",
      "Validation epoch 73: 100%|██████████| 196/196 [01:38<00:00,  2.00it/s]\n",
      "Training epoch 74:   0%|          | 0/856 [00:00<?, ?it/s]"
     ]
    },
    {
     "name": "stdout",
     "output_type": "stream",
     "text": [
      "Epoch 73:\n",
      "    Train loss 0.164, accuracy 0.852, F1-score 0.825, MCC: 0.691, Dice: 0.825\n",
      "    Val loss 0.161, accuracy 0.857, F1-score 0.843, MCC: 0.707, Dice: 0.843\n"
     ]
    },
    {
     "name": "stderr",
     "output_type": "stream",
     "text": [
      "Training epoch 74: 100%|██████████| 856/856 [13:59<00:00,  1.02it/s]\n",
      "Validation epoch 74: 100%|██████████| 196/196 [01:37<00:00,  2.00it/s]\n",
      "Training epoch 75:   0%|          | 0/856 [00:00<?, ?it/s]"
     ]
    },
    {
     "name": "stdout",
     "output_type": "stream",
     "text": [
      "Epoch 74:\n",
      "    Train loss 0.164, accuracy 0.853, F1-score 0.826, MCC: 0.694, Dice: 0.826\n",
      "    Val loss 0.161, accuracy 0.856, F1-score 0.846, MCC: 0.708, Dice: 0.846\n"
     ]
    },
    {
     "name": "stderr",
     "output_type": "stream",
     "text": [
      "Training epoch 75: 100%|██████████| 856/856 [14:06<00:00,  1.01it/s]\n",
      "Validation epoch 75: 100%|██████████| 196/196 [01:40<00:00,  1.96it/s]\n",
      "Training epoch 76:   0%|          | 0/856 [00:00<?, ?it/s]"
     ]
    },
    {
     "name": "stdout",
     "output_type": "stream",
     "text": [
      "Epoch 75:\n",
      "    Train loss 0.163, accuracy 0.853, F1-score 0.827, MCC: 0.695, Dice: 0.827\n",
      "    Val loss 0.160, accuracy 0.860, F1-score 0.847, MCC: 0.713, Dice: 0.847\n"
     ]
    },
    {
     "name": "stderr",
     "output_type": "stream",
     "text": [
      "Training epoch 76: 100%|██████████| 856/856 [14:08<00:00,  1.01it/s]\n",
      "Validation epoch 76: 100%|██████████| 196/196 [01:41<00:00,  1.94it/s]\n"
     ]
    },
    {
     "name": "stdout",
     "output_type": "stream",
     "text": [
      "Epoch 76:\n",
      "    Train loss 0.164, accuracy 0.852, F1-score 0.826, MCC: 0.693, Dice: 0.826\n",
      "    Val loss 0.158, accuracy 0.863, F1-score 0.849, MCC: 0.718, Dice: 0.849\n"
     ]
    },
    {
     "name": "stderr",
     "output_type": "stream",
     "text": [
      "Training epoch 77: 100%|██████████| 856/856 [14:07<00:00,  1.01it/s]\n",
      "Validation epoch 77: 100%|██████████| 196/196 [01:37<00:00,  2.01it/s]\n",
      "Training epoch 78:   0%|          | 0/856 [00:00<?, ?it/s]"
     ]
    },
    {
     "name": "stdout",
     "output_type": "stream",
     "text": [
      "Epoch 77:\n",
      "    Train loss 0.163, accuracy 0.853, F1-score 0.828, MCC: 0.695, Dice: 0.828\n",
      "    Val loss 0.158, accuracy 0.862, F1-score 0.847, MCC: 0.716, Dice: 0.847\n"
     ]
    },
    {
     "name": "stderr",
     "output_type": "stream",
     "text": [
      "Training epoch 78: 100%|██████████| 856/856 [14:11<00:00,  1.01it/s]\n",
      "Validation epoch 78: 100%|██████████| 196/196 [01:37<00:00,  2.01it/s]\n",
      "Training epoch 79:   0%|          | 0/856 [00:00<?, ?it/s]"
     ]
    },
    {
     "name": "stdout",
     "output_type": "stream",
     "text": [
      "Epoch 78:\n",
      "    Train loss 0.163, accuracy 0.854, F1-score 0.828, MCC: 0.695, Dice: 0.828\n",
      "    Val loss 0.160, accuracy 0.859, F1-score 0.843, MCC: 0.709, Dice: 0.843\n"
     ]
    },
    {
     "name": "stderr",
     "output_type": "stream",
     "text": [
      "Training epoch 79: 100%|██████████| 856/856 [14:10<00:00,  1.01it/s]\n",
      "Validation epoch 79: 100%|██████████| 196/196 [01:40<00:00,  1.94it/s]\n",
      "Training epoch 80:   0%|          | 0/856 [00:00<?, ?it/s]"
     ]
    },
    {
     "name": "stdout",
     "output_type": "stream",
     "text": [
      "Epoch 79:\n",
      "    Train loss 0.163, accuracy 0.853, F1-score 0.828, MCC: 0.695, Dice: 0.828\n",
      "    Val loss 0.159, accuracy 0.860, F1-score 0.847, MCC: 0.713, Dice: 0.847\n"
     ]
    },
    {
     "name": "stderr",
     "output_type": "stream",
     "text": [
      "Training epoch 80: 100%|██████████| 856/856 [14:00<00:00,  1.02it/s]\n",
      "Validation epoch 80: 100%|██████████| 196/196 [01:36<00:00,  2.03it/s]\n",
      "Training epoch 81:   0%|          | 0/856 [00:00<?, ?it/s]"
     ]
    },
    {
     "name": "stdout",
     "output_type": "stream",
     "text": [
      "Epoch 80:\n",
      "    Train loss 0.163, accuracy 0.853, F1-score 0.828, MCC: 0.695, Dice: 0.828\n",
      "    Val loss 0.159, accuracy 0.858, F1-score 0.843, MCC: 0.708, Dice: 0.843\n"
     ]
    },
    {
     "name": "stderr",
     "output_type": "stream",
     "text": [
      "Training epoch 81: 100%|██████████| 856/856 [14:05<00:00,  1.01it/s]\n",
      "Validation epoch 81: 100%|██████████| 196/196 [01:39<00:00,  1.97it/s]\n",
      "Training epoch 82:   0%|          | 0/856 [00:00<?, ?it/s]"
     ]
    },
    {
     "name": "stdout",
     "output_type": "stream",
     "text": [
      "Epoch 81:\n",
      "    Train loss 0.163, accuracy 0.854, F1-score 0.829, MCC: 0.697, Dice: 0.829\n",
      "    Val loss 0.158, accuracy 0.863, F1-score 0.848, MCC: 0.718, Dice: 0.848\n"
     ]
    },
    {
     "name": "stderr",
     "output_type": "stream",
     "text": [
      "Training epoch 82: 100%|██████████| 856/856 [14:00<00:00,  1.02it/s]\n",
      "Validation epoch 82: 100%|██████████| 196/196 [01:39<00:00,  1.97it/s]\n"
     ]
    },
    {
     "name": "stdout",
     "output_type": "stream",
     "text": [
      "Epoch 82:\n",
      "    Train loss 0.164, accuracy 0.853, F1-score 0.827, MCC: 0.694, Dice: 0.827\n",
      "    Val loss 0.156, accuracy 0.865, F1-score 0.850, MCC: 0.721, Dice: 0.850\n"
     ]
    },
    {
     "name": "stderr",
     "output_type": "stream",
     "text": [
      "Training epoch 83: 100%|██████████| 856/856 [14:04<00:00,  1.01it/s]\n",
      "Validation epoch 83: 100%|██████████| 196/196 [01:39<00:00,  1.97it/s]\n",
      "Training epoch 84:   0%|          | 0/856 [00:00<?, ?it/s]"
     ]
    },
    {
     "name": "stdout",
     "output_type": "stream",
     "text": [
      "Epoch 83:\n",
      "    Train loss 0.163, accuracy 0.854, F1-score 0.829, MCC: 0.696, Dice: 0.829\n",
      "    Val loss 0.159, accuracy 0.861, F1-score 0.847, MCC: 0.715, Dice: 0.847\n"
     ]
    },
    {
     "name": "stderr",
     "output_type": "stream",
     "text": [
      "Training epoch 84: 100%|██████████| 856/856 [13:57<00:00,  1.02it/s]\n",
      "Validation epoch 84: 100%|██████████| 196/196 [01:39<00:00,  1.97it/s]\n",
      "Training epoch 85:   0%|          | 0/856 [00:00<?, ?it/s]"
     ]
    },
    {
     "name": "stdout",
     "output_type": "stream",
     "text": [
      "Epoch 84:\n",
      "    Train loss 0.162, accuracy 0.855, F1-score 0.830, MCC: 0.699, Dice: 0.830\n",
      "    Val loss 0.159, accuracy 0.859, F1-score 0.846, MCC: 0.712, Dice: 0.846\n"
     ]
    },
    {
     "name": "stderr",
     "output_type": "stream",
     "text": [
      "Training epoch 85: 100%|██████████| 856/856 [14:07<00:00,  1.01it/s]\n",
      "Validation epoch 85: 100%|██████████| 196/196 [01:38<00:00,  1.98it/s]\n",
      "Training epoch 86:   0%|          | 0/856 [00:00<?, ?it/s]"
     ]
    },
    {
     "name": "stdout",
     "output_type": "stream",
     "text": [
      "Epoch 85:\n",
      "    Train loss 0.162, accuracy 0.855, F1-score 0.829, MCC: 0.697, Dice: 0.829\n",
      "    Val loss 0.158, accuracy 0.864, F1-score 0.847, MCC: 0.718, Dice: 0.847\n"
     ]
    },
    {
     "name": "stderr",
     "output_type": "stream",
     "text": [
      "Training epoch 86: 100%|██████████| 856/856 [14:02<00:00,  1.02it/s]\n",
      "Validation epoch 86: 100%|██████████| 196/196 [01:39<00:00,  1.98it/s]\n",
      "Training epoch 87:   0%|          | 0/856 [00:00<?, ?it/s]"
     ]
    },
    {
     "name": "stdout",
     "output_type": "stream",
     "text": [
      "Epoch 86:\n",
      "    Train loss 0.163, accuracy 0.853, F1-score 0.827, MCC: 0.694, Dice: 0.827\n",
      "    Val loss 0.158, accuracy 0.864, F1-score 0.848, MCC: 0.718, Dice: 0.848\n"
     ]
    },
    {
     "name": "stderr",
     "output_type": "stream",
     "text": [
      "Training epoch 87: 100%|██████████| 856/856 [14:00<00:00,  1.02it/s]\n",
      "Validation epoch 87: 100%|██████████| 196/196 [01:39<00:00,  1.97it/s]\n",
      "Training epoch 88:   0%|          | 0/856 [00:00<?, ?it/s]"
     ]
    },
    {
     "name": "stdout",
     "output_type": "stream",
     "text": [
      "Epoch 87:\n",
      "    Train loss 0.162, accuracy 0.854, F1-score 0.829, MCC: 0.697, Dice: 0.829\n",
      "    Val loss 0.159, accuracy 0.860, F1-score 0.848, MCC: 0.714, Dice: 0.848\n"
     ]
    },
    {
     "name": "stderr",
     "output_type": "stream",
     "text": [
      "Training epoch 88: 100%|██████████| 856/856 [14:02<00:00,  1.02it/s]\n",
      "Validation epoch 88: 100%|██████████| 196/196 [01:38<00:00,  1.98it/s]\n",
      "Training epoch 89:   0%|          | 0/856 [00:00<?, ?it/s]"
     ]
    },
    {
     "name": "stdout",
     "output_type": "stream",
     "text": [
      "Epoch 88:\n",
      "    Train loss 0.162, accuracy 0.855, F1-score 0.831, MCC: 0.699, Dice: 0.831\n",
      "    Val loss 0.158, accuracy 0.863, F1-score 0.847, MCC: 0.716, Dice: 0.847\n"
     ]
    },
    {
     "name": "stderr",
     "output_type": "stream",
     "text": [
      "Training epoch 89: 100%|██████████| 856/856 [14:08<00:00,  1.01it/s]\n",
      "Validation epoch 89: 100%|██████████| 196/196 [01:39<00:00,  1.97it/s]\n",
      "Training epoch 90:   0%|          | 0/856 [00:00<?, ?it/s]"
     ]
    },
    {
     "name": "stdout",
     "output_type": "stream",
     "text": [
      "Epoch 89:\n",
      "    Train loss 0.162, accuracy 0.855, F1-score 0.830, MCC: 0.698, Dice: 0.830\n",
      "    Val loss 0.159, accuracy 0.862, F1-score 0.843, MCC: 0.713, Dice: 0.843\n"
     ]
    },
    {
     "name": "stderr",
     "output_type": "stream",
     "text": [
      "Training epoch 90: 100%|██████████| 856/856 [14:08<00:00,  1.01it/s]\n",
      "Validation epoch 90: 100%|██████████| 196/196 [01:42<00:00,  1.92it/s]\n",
      "Training epoch 91:   0%|          | 0/856 [00:00<?, ?it/s]"
     ]
    },
    {
     "name": "stdout",
     "output_type": "stream",
     "text": [
      "Epoch 90:\n",
      "    Train loss 0.162, accuracy 0.855, F1-score 0.830, MCC: 0.699, Dice: 0.830\n",
      "    Val loss 0.160, accuracy 0.859, F1-score 0.839, MCC: 0.707, Dice: 0.839\n"
     ]
    },
    {
     "name": "stderr",
     "output_type": "stream",
     "text": [
      "Training epoch 91: 100%|██████████| 856/856 [14:02<00:00,  1.02it/s]\n",
      "Validation epoch 91: 100%|██████████| 196/196 [01:38<00:00,  2.00it/s]\n",
      "Training epoch 92:   0%|          | 0/856 [00:00<?, ?it/s]"
     ]
    },
    {
     "name": "stdout",
     "output_type": "stream",
     "text": [
      "Epoch 91:\n",
      "    Train loss 0.162, accuracy 0.856, F1-score 0.831, MCC: 0.700, Dice: 0.831\n",
      "    Val loss 0.158, accuracy 0.862, F1-score 0.848, MCC: 0.716, Dice: 0.848\n"
     ]
    },
    {
     "name": "stderr",
     "output_type": "stream",
     "text": [
      "Training epoch 92: 100%|██████████| 856/856 [14:05<00:00,  1.01it/s]\n",
      "Validation epoch 92: 100%|██████████| 196/196 [01:39<00:00,  1.97it/s]\n",
      "Training epoch 93:   0%|          | 0/856 [00:00<?, ?it/s]"
     ]
    },
    {
     "name": "stdout",
     "output_type": "stream",
     "text": [
      "Epoch 92:\n",
      "    Train loss 0.162, accuracy 0.856, F1-score 0.831, MCC: 0.700, Dice: 0.831\n",
      "    Val loss 0.157, accuracy 0.864, F1-score 0.847, MCC: 0.718, Dice: 0.847\n"
     ]
    },
    {
     "name": "stderr",
     "output_type": "stream",
     "text": [
      "Training epoch 93: 100%|██████████| 856/856 [14:02<00:00,  1.02it/s]\n",
      "Validation epoch 93: 100%|██████████| 196/196 [01:40<00:00,  1.96it/s]\n",
      "Training epoch 94:   0%|          | 0/856 [00:00<?, ?it/s]"
     ]
    },
    {
     "name": "stdout",
     "output_type": "stream",
     "text": [
      "Epoch 93:\n",
      "    Train loss 0.162, accuracy 0.856, F1-score 0.831, MCC: 0.699, Dice: 0.831\n",
      "    Val loss 0.157, accuracy 0.864, F1-score 0.847, MCC: 0.718, Dice: 0.847\n"
     ]
    },
    {
     "name": "stderr",
     "output_type": "stream",
     "text": [
      "Training epoch 94: 100%|██████████| 856/856 [14:05<00:00,  1.01it/s]\n",
      "Validation epoch 94: 100%|██████████| 196/196 [01:38<00:00,  1.99it/s]\n",
      "Training epoch 95:   0%|          | 0/856 [00:00<?, ?it/s]"
     ]
    },
    {
     "name": "stdout",
     "output_type": "stream",
     "text": [
      "Epoch 94:\n",
      "    Train loss 0.162, accuracy 0.855, F1-score 0.829, MCC: 0.698, Dice: 0.829\n",
      "    Val loss 0.158, accuracy 0.863, F1-score 0.848, MCC: 0.717, Dice: 0.848\n"
     ]
    },
    {
     "name": "stderr",
     "output_type": "stream",
     "text": [
      "Training epoch 95: 100%|██████████| 856/856 [14:04<00:00,  1.01it/s]\n",
      "Validation epoch 95: 100%|██████████| 196/196 [01:37<00:00,  2.01it/s]\n",
      "Training epoch 96:   0%|          | 0/856 [00:00<?, ?it/s]"
     ]
    },
    {
     "name": "stdout",
     "output_type": "stream",
     "text": [
      "Epoch 95:\n",
      "    Train loss 0.162, accuracy 0.855, F1-score 0.829, MCC: 0.698, Dice: 0.829\n",
      "    Val loss 0.160, accuracy 0.863, F1-score 0.848, MCC: 0.717, Dice: 0.848\n"
     ]
    },
    {
     "name": "stderr",
     "output_type": "stream",
     "text": [
      "Training epoch 96: 100%|██████████| 856/856 [14:02<00:00,  1.02it/s]\n",
      "Validation epoch 96: 100%|██████████| 196/196 [01:39<00:00,  1.97it/s]\n",
      "Training epoch 97:   0%|          | 0/856 [00:00<?, ?it/s]"
     ]
    },
    {
     "name": "stdout",
     "output_type": "stream",
     "text": [
      "Epoch 96:\n",
      "    Train loss 0.162, accuracy 0.856, F1-score 0.831, MCC: 0.700, Dice: 0.831\n",
      "    Val loss 0.159, accuracy 0.860, F1-score 0.846, MCC: 0.712, Dice: 0.846\n"
     ]
    },
    {
     "name": "stderr",
     "output_type": "stream",
     "text": [
      "Training epoch 97: 100%|██████████| 856/856 [14:13<00:00,  1.00it/s]\n",
      "Validation epoch 97: 100%|██████████| 196/196 [01:41<00:00,  1.93it/s]\n",
      "Training epoch 98:   0%|          | 0/856 [00:00<?, ?it/s]"
     ]
    },
    {
     "name": "stdout",
     "output_type": "stream",
     "text": [
      "Epoch 97:\n",
      "    Train loss 0.161, accuracy 0.856, F1-score 0.831, MCC: 0.701, Dice: 0.831\n",
      "    Val loss 0.159, accuracy 0.860, F1-score 0.848, MCC: 0.714, Dice: 0.848\n"
     ]
    },
    {
     "name": "stderr",
     "output_type": "stream",
     "text": [
      "Training epoch 98: 100%|██████████| 856/856 [14:08<00:00,  1.01it/s]\n",
      "Validation epoch 98: 100%|██████████| 196/196 [01:40<00:00,  1.95it/s]\n",
      "Training epoch 99:   0%|          | 0/856 [00:00<?, ?it/s]"
     ]
    },
    {
     "name": "stdout",
     "output_type": "stream",
     "text": [
      "Epoch 98:\n",
      "    Train loss 0.161, accuracy 0.857, F1-score 0.832, MCC: 0.701, Dice: 0.832\n",
      "    Val loss 0.161, accuracy 0.856, F1-score 0.845, MCC: 0.708, Dice: 0.845\n"
     ]
    },
    {
     "name": "stderr",
     "output_type": "stream",
     "text": [
      "Training epoch 99: 100%|██████████| 856/856 [14:02<00:00,  1.02it/s]\n",
      "Validation epoch 99: 100%|██████████| 196/196 [01:41<00:00,  1.94it/s]\n",
      "Training epoch 100:   0%|          | 0/856 [00:00<?, ?it/s]"
     ]
    },
    {
     "name": "stdout",
     "output_type": "stream",
     "text": [
      "Epoch 99:\n",
      "    Train loss 0.162, accuracy 0.855, F1-score 0.830, MCC: 0.699, Dice: 0.830\n",
      "    Val loss 0.160, accuracy 0.858, F1-score 0.845, MCC: 0.709, Dice: 0.845\n"
     ]
    },
    {
     "name": "stderr",
     "output_type": "stream",
     "text": [
      "Training epoch 100: 100%|██████████| 856/856 [14:05<00:00,  1.01it/s]\n",
      "Validation epoch 100: 100%|██████████| 196/196 [01:42<00:00,  1.92it/s]"
     ]
    },
    {
     "name": "stdout",
     "output_type": "stream",
     "text": [
      "Epoch 100:\n",
      "    Train loss 0.161, accuracy 0.857, F1-score 0.833, MCC: 0.703, Dice: 0.833\n",
      "    Val loss 0.160, accuracy 0.858, F1-score 0.842, MCC: 0.707, Dice: 0.842\n"
     ]
    },
    {
     "name": "stderr",
     "output_type": "stream",
     "text": [
      "\n"
     ]
    }
   ],
   "source": [
    "# ============================ #\n",
    "# user-specified hyperparameters\n",
    "# ============================ #\n",
    "epochs = 100\n",
    "lr = 0.001\n",
    "lr_decay = None\n",
    "n_filters = 16\n",
    "batch_size = 8\n",
    "n_classes = 1\n",
    "model_type = 'resunet-d6'\n",
    "month = 'october'\n",
    "codes_to_keep = list(range(1,10)) + [11,14,15,16,17,18,19,24,25,26,27]\n",
    "gpu_id = 0\n",
    "# ============================ #\n",
    "\n",
    "run_france(splits_path='../data/splits/sherrie10k_planetImagery_splits_20x20.csv',\n",
    "           epochs=epochs, lr=lr, lr_decay=lr_decay, n_filters=n_filters, batch_size=batch_size,\n",
    "           n_classes=n_classes, model_type=model_type, month=month, image_suffix='_2019_10.tif',\n",
    "           codes_to_keep=codes_to_keep, gpu_id=gpu_id)"
   ]
  },
  {
   "cell_type": "markdown",
   "metadata": {},
   "source": [
    "# Using Han and Burak's original sample locations"
   ]
  },
  {
   "cell_type": "code",
   "execution_count": 6,
   "metadata": {},
   "outputs": [],
   "source": [
    "def run_france(epochs=100, lr=0.001, lr_decay=None, n_filters=16, batch_size=8,\n",
    "               n_classes=1, model_type='resunet-d6', month='april', gpu_id=0):\n",
    "    \n",
    "    folder_name = model_type+'_'+month+'_nfilter-'+str(n_filters)+'_bs-'+str(batch_size)+'_lr-'+str(lr)\n",
    "    if lr_decay:\n",
    "        folder_name = folder_name + '_lrdecay-'+str(lr_decay)\n",
    "    save_path = '../experiments/france/'+folder_name\n",
    "    if not os.path.isdir(save_path):\n",
    "        os.makedirs(save_path)\n",
    "    save_model_name = os.path.join(save_path, \"model.params\")\n",
    "\n",
    "    image_directory = '../data/planet/france/'+month\n",
    "    label_directory = '../data/planet/france/labels/'\n",
    "\n",
    "    env_name = 'france_'+folder_name\n",
    "    vis = visdom.Visdom(port=8097, env=env_name)\n",
    "    \n",
    "    args = {}\n",
    "    args['batch_size'] = batch_size\n",
    "    args['gpu'] = gpu_id\n",
    "    args['visdom'] = vis\n",
    "    args['visdom_every'] = 10\n",
    "\n",
    "    # Load train/val/test splits\n",
    "    splits_df = pd.read_csv('../data/splits/hanAndBurak_planetImagery_splits.csv')\n",
    "    train_names = splits_df[splits_df['fold'] == 'train']['image_id'].values\n",
    "    val_names = splits_df[splits_df['fold'] == 'val']['image_id'].values\n",
    "    test_names = splits_df[splits_df['fold'] == 'test']['image_id'].values\n",
    "\n",
    "    train_dataset = PlanetDataset(image_directory, label_directory, image_names=train_names)\n",
    "    val_dataset = PlanetDataset(image_directory, label_directory, image_names=val_names)\n",
    "    test_dataset = PlanetDataset(image_directory, label_directory, image_names=test_names)\n",
    "\n",
    "    train_dataloader = gluon.data.DataLoader(train_dataset, batch_size=batch_size)\n",
    "    val_dataloader = gluon.data.DataLoader(val_dataset, batch_size=batch_size)\n",
    "    test_dataloader = gluon.data.DataLoader(test_dataset, batch_size=batch_size)\n",
    "\n",
    "    # define model\n",
    "    if model_type == 'resunet-d6':\n",
    "        model = ResUNet_d6(_nfilters_init=n_filters, _NClasses=n_classes)\n",
    "    elif model_type == 'resunet-d7':\n",
    "        model = ResUNet_d7(_nfilters_init=n_filters, _NClasses=n_classes)\n",
    "    model.initialize()\n",
    "    model.hybridize()\n",
    "    model.collect_params().reset_ctx(mx.gpu(args['gpu']))\n",
    "\n",
    "    # define loss function\n",
    "    tanimoto_dual = Tanimoto_wth_dual()\n",
    "    if lr_decay:\n",
    "        schedule = mx.lr_scheduler.FactorScheduler(step=1, factor=lr_decay)\n",
    "        adam_optimizer = mx.optimizer.Adam(learning_rate=lr, lr_scheduler=schedule)\n",
    "    else:\n",
    "        adam_optimizer = mx.optimizer.Adam(learning_rate=lr)\n",
    "    trainer = gluon.Trainer(model.collect_params(), optimizer=adam_optimizer)\n",
    "\n",
    "    # containers for metrics to log\n",
    "    train_metrics = {'train_loss': [], 'train_acc': [], 'train_f1': [], \n",
    "                     'train_mcc': [], 'train_dice': []}\n",
    "    val_metrics = {'val_loss': [], 'val_acc': [], 'val_f1': [], \n",
    "                   'val_mcc': [], 'val_dice': []}\n",
    "    best_mcc = 0.0\n",
    "\n",
    "    # training loop\n",
    "    for epoch in range(1, epochs+1):\n",
    "\n",
    "        # training set\n",
    "        train_loss, train_accuracy, train_f1, train_mcc, train_dice = train_model(\n",
    "            train_dataloader, model, tanimoto_dual, trainer, epoch, args)\n",
    "\n",
    "        # training set metrics\n",
    "        train_loss_avg = train_loss / len(train_dataset)\n",
    "        train_metrics['train_loss'].append(train_loss_avg)\n",
    "        train_metrics['train_acc'].append(train_accuracy.get()[1])\n",
    "        train_metrics['train_f1'].append(train_f1.get()[1])\n",
    "        train_metrics['train_mcc'].append(train_mcc.get()[1])\n",
    "        train_metrics['train_dice'].append(train_dice.get()[1])\n",
    "\n",
    "        # validation set\n",
    "        val_loss, val_accuracy, val_f1, val_mcc, val_dice = evaluate_model(\n",
    "            val_dataloader, model, tanimoto_dual, epoch, args)\n",
    "\n",
    "        # validation set metrics\n",
    "        val_loss_avg = val_loss / len(val_dataset)\n",
    "        val_metrics['val_loss'].append(val_loss_avg)\n",
    "        val_metrics['val_acc'].append(val_accuracy.get()[1])\n",
    "        val_metrics['val_f1'].append(val_f1.get()[1])\n",
    "        val_metrics['val_mcc'].append(val_mcc.get()[1])\n",
    "        val_metrics['val_dice'].append(val_dice.get()[1])\n",
    "\n",
    "        print(\"Epoch {}:\".format(epoch))\n",
    "        print(\"    Train loss {:0.3f}, accuracy {:0.3f}, F1-score {:0.3f}, MCC: {:0.3f}, Dice: {:0.3f}\".format(\n",
    "            train_loss_avg, train_accuracy.get()[1], train_f1.get()[1], train_mcc.get()[1], train_dice.get()[1]))\n",
    "        print(\"    Val loss {:0.3f}, accuracy {:0.3f}, F1-score {:0.3f}, MCC: {:0.3f}, Dice: {:0.3f}\".format(\n",
    "            val_loss_avg, val_accuracy.get()[1], val_f1.get()[1], val_mcc.get()[1], val_dice.get()[1]))\n",
    "\n",
    "        # save model based on best MCC metric\n",
    "        if val_mcc.get()[1] > best_mcc:\n",
    "            model.save_parameters(save_model_name)\n",
    "            best_mcc = val_mcc.get()[1]\n",
    "\n",
    "        # save metrics\n",
    "        metrics = pd.concat([pd.DataFrame(train_metrics), pd.DataFrame(val_metrics)], axis=1)\n",
    "        metrics.to_csv(os.path.join(save_path, 'metrics.csv'), index=False)\n",
    "\n",
    "        # visdom\n",
    "        vis.line(Y=np.stack([train_metrics['train_loss'], val_metrics['val_loss']], axis=1), \n",
    "                 X=np.arange(1, epoch+1), win=\"Loss\", \n",
    "                 opts=dict(legend=['train loss', 'val loss'], markers=False, title=\"Losses\",\n",
    "                           xlabel=\"Epoch\", ylabel=\"Loss\")\n",
    "                )\n",
    "        vis.line(Y=np.stack([train_metrics['train_mcc'], val_metrics['val_mcc']], axis=1), \n",
    "                 X=np.arange(1, epoch+1), win=\"MCC\", \n",
    "                 opts=dict(legend=['train MCC', 'val MCC'], markers=False, title=\"MCC\",\n",
    "                           xlabel=\"Epoch\", ylabel=\"MCC\")\n",
    "                )\n"
   ]
  },
  {
   "cell_type": "code",
   "execution_count": 7,
   "metadata": {
    "scrolled": true
   },
   "outputs": [],
   "source": [
    "# # ============================ #\n",
    "# # user-specified hyperparameters\n",
    "# # ============================ #\n",
    "# epochs = 100\n",
    "# lr = 0.001\n",
    "# lr_decay = None\n",
    "# n_filters = 16\n",
    "# batch_size = 8\n",
    "# n_classes = 1\n",
    "# model_type = 'resunet-d6'\n",
    "# month = 'april'\n",
    "# gpu_id = 0\n",
    "# # ============================ #\n",
    "\n",
    "# run_france(epochs=epochs, lr=lr, lr_decay=lr_decay, n_filters=n_filters, batch_size=batch_size,\n",
    "#            n_classes=n_classes, model_type=model_type, month=month, gpu_id=gpu_id)"
   ]
  },
  {
   "cell_type": "code",
   "execution_count": 8,
   "metadata": {},
   "outputs": [],
   "source": [
    "def run_multitemporal_france(epochs=100, lr=0.001, lr_decay=None, n_filters=16, batch_size=8,\n",
    "                             n_classes=1, model_type='resunet-d6',\n",
    "                             image_directories=['../data/planet/france/january_256x256/',\n",
    "                                                '../data/planet/france/april_256x256/',\n",
    "                                                '../data/planet/france/october_256x256/'],\n",
    "                             label_directory=['../data/planet/france/labels_256x256/'],\n",
    "                             months='janAprOct',\n",
    "                             gpu_id=0):\n",
    "    \n",
    "    folder_name = model_type+'_'+months+'_nfilter-'+str(n_filters)+'_bs-'+str(batch_size)+'_lr-'+str(lr)\n",
    "    if lr_decay:\n",
    "        folder_name = folder_name + '_lrdecay-'+str(lr_decay)\n",
    "    save_path = '../experiments/france/'+folder_name\n",
    "    if not os.path.isdir(save_path):\n",
    "        os.makedirs(save_path)\n",
    "    save_model_name = os.path.join(save_path, \"model.params\")\n",
    "\n",
    "    env_name = 'france_'+folder_name\n",
    "    vis = visdom.Visdom(port=8097, env=env_name)\n",
    "    \n",
    "    args = {}\n",
    "    args['batch_size'] = batch_size\n",
    "    args['gpu'] = gpu_id\n",
    "    args['visdom'] = vis\n",
    "    args['visdom_every'] = 10\n",
    "\n",
    "    # Load train/val/test splits\n",
    "    splits_df = pd.read_csv('../data/splits/hanAndBurak_planetImagery_splits.csv')\n",
    "    train_names = splits_df[splits_df['fold'] == 'train']['image_id'].values\n",
    "    val_names = splits_df[splits_df['fold'] == 'val']['image_id'].values\n",
    "    test_names = splits_df[splits_df['fold'] == 'test']['image_id'].values\n",
    "\n",
    "    train_dataset = PlanetMultitemp(image_directories, label_directory, image_names=train_names)\n",
    "    val_dataset = PlanetMultitemp(image_directories, label_directory, image_names=val_names)\n",
    "    test_dataset = PlanetMultitemp(image_directories, label_directory, image_names=test_names)\n",
    "\n",
    "    train_dataloader = gluon.data.DataLoader(train_dataset, batch_size=batch_size)\n",
    "    val_dataloader = gluon.data.DataLoader(val_dataset, batch_size=batch_size)\n",
    "    test_dataloader = gluon.data.DataLoader(test_dataset, batch_size=batch_size)\n",
    "\n",
    "    # define model\n",
    "    if model_type == 'resunet-d6':\n",
    "        model = ResUNet_d6(_nfilters_init=n_filters, _NClasses=n_classes,\n",
    "                           hsv_outchannels=len(image_directories)*3)\n",
    "    elif model_type == 'resunet-d7':\n",
    "        model = ResUNet_d7(_nfilters_init=n_filters, _NClasses=n_classes,\n",
    "                           hsv_outchannels=len(image_directories)*3)\n",
    "    model.initialize()\n",
    "    model.hybridize()\n",
    "    model.collect_params().reset_ctx(mx.gpu(args['gpu']))\n",
    "\n",
    "    # define loss function\n",
    "    tanimoto_dual = Tanimoto_wth_dual()\n",
    "    if lr_decay:\n",
    "        schedule = mx.lr_scheduler.FactorScheduler(step=1, factor=lr_decay)\n",
    "        adam_optimizer = mx.optimizer.Adam(learning_rate=lr, lr_scheduler=schedule)\n",
    "    else:\n",
    "        adam_optimizer = mx.optimizer.Adam(learning_rate=lr)\n",
    "    trainer = gluon.Trainer(model.collect_params(), optimizer=adam_optimizer)\n",
    "\n",
    "    # containers for metrics to log\n",
    "    train_metrics = {'train_loss': [], 'train_acc': [], 'train_f1': [], \n",
    "                     'train_mcc': [], 'train_dice': []}\n",
    "    val_metrics = {'val_loss': [], 'val_acc': [], 'val_f1': [], \n",
    "                   'val_mcc': [], 'val_dice': []}\n",
    "    best_mcc = 0.0\n",
    "\n",
    "    # training loop\n",
    "    for epoch in range(1, epochs+1):\n",
    "\n",
    "        # training set\n",
    "        train_loss, train_accuracy, train_f1, train_mcc, train_dice = train_model(\n",
    "            train_dataloader, model, tanimoto_dual, trainer, epoch, args)\n",
    "\n",
    "        # training set metrics\n",
    "        train_loss_avg = train_loss / len(train_dataset)\n",
    "        train_metrics['train_loss'].append(train_loss_avg)\n",
    "        train_metrics['train_acc'].append(train_accuracy.get()[1])\n",
    "        train_metrics['train_f1'].append(train_f1.get()[1])\n",
    "        train_metrics['train_mcc'].append(train_mcc.get()[1])\n",
    "        train_metrics['train_dice'].append(train_dice.get()[1])\n",
    "\n",
    "        # validation set\n",
    "        val_loss, val_accuracy, val_f1, val_mcc, val_dice = evaluate_model(\n",
    "            val_dataloader, model, tanimoto_dual, epoch, args)\n",
    "\n",
    "        # validation set metrics\n",
    "        val_loss_avg = val_loss / len(val_dataset)\n",
    "        val_metrics['val_loss'].append(val_loss_avg)\n",
    "        val_metrics['val_acc'].append(val_accuracy.get()[1])\n",
    "        val_metrics['val_f1'].append(val_f1.get()[1])\n",
    "        val_metrics['val_mcc'].append(val_mcc.get()[1])\n",
    "        val_metrics['val_dice'].append(val_dice.get()[1])\n",
    "\n",
    "        print(\"Epoch {}:\".format(epoch))\n",
    "        print(\"    Train loss {:0.3f}, accuracy {:0.3f}, F1-score {:0.3f}, MCC: {:0.3f}, Dice: {:0.3f}\".format(\n",
    "            train_loss_avg, train_accuracy.get()[1], train_f1.get()[1], train_mcc.get()[1], train_dice.get()[1]))\n",
    "        print(\"    Val loss {:0.3f}, accuracy {:0.3f}, F1-score {:0.3f}, MCC: {:0.3f}, Dice: {:0.3f}\".format(\n",
    "            val_loss_avg, val_accuracy.get()[1], val_f1.get()[1], val_mcc.get()[1], val_dice.get()[1]))\n",
    "\n",
    "        # save model based on best MCC metric\n",
    "        if val_mcc.get()[1] > best_mcc:\n",
    "            model.save_parameters(save_model_name)\n",
    "            best_mcc = val_mcc.get()[1]\n",
    "\n",
    "        # save metrics\n",
    "        metrics = pd.concat([pd.DataFrame(train_metrics), pd.DataFrame(val_metrics)], axis=1)\n",
    "        metrics.to_csv(os.path.join(save_path, 'metrics.csv'), index=False)\n",
    "\n",
    "        # visdom\n",
    "        vis.line(Y=np.stack([train_metrics['train_loss'], val_metrics['val_loss']], axis=1), \n",
    "                 X=np.arange(1, epoch+1), win=\"Loss\", \n",
    "                 opts=dict(legend=['train loss', 'val loss'], markers=False, title=\"Losses\",\n",
    "                           xlabel=\"Epoch\", ylabel=\"Loss\")\n",
    "                )\n",
    "        vis.line(Y=np.stack([train_metrics['train_mcc'], val_metrics['val_mcc']], axis=1), \n",
    "                 X=np.arange(1, epoch+1), win=\"MCC\", \n",
    "                 opts=dict(legend=['train MCC', 'val MCC'], markers=False, title=\"MCC\",\n",
    "                           xlabel=\"Epoch\", ylabel=\"MCC\")\n",
    "                )\n"
   ]
  },
  {
   "cell_type": "code",
   "execution_count": null,
   "metadata": {},
   "outputs": [
    {
     "name": "stderr",
     "output_type": "stream",
     "text": [
      "Setting up a new session...\n",
      "Training epoch 1:   0%|          | 0/155 [00:00<?, ?it/s]"
     ]
    },
    {
     "name": "stdout",
     "output_type": "stream",
     "text": [
      "depth:= 0, nfilters: 16\n",
      "depth:= 1, nfilters: 32\n",
      "depth:= 2, nfilters: 64\n",
      "depth:= 3, nfilters: 128\n",
      "depth:= 4, nfilters: 256\n",
      "depth:= 5, nfilters: 512\n",
      "depth:= 6, nfilters: 256\n",
      "depth:= 7, nfilters: 128\n",
      "depth:= 8, nfilters: 64\n",
      "depth:= 9, nfilters: 32\n",
      "depth:= 10, nfilters: 16\n"
     ]
    },
    {
     "name": "stderr",
     "output_type": "stream",
     "text": [
      "Training epoch 1: 100%|██████████| 155/155 [01:56<00:00,  1.33it/s]\n",
      "Validation epoch 1: 100%|██████████| 51/51 [00:31<00:00,  1.62it/s]\n",
      "Training epoch 2:   0%|          | 0/155 [00:00<?, ?it/s]"
     ]
    },
    {
     "name": "stdout",
     "output_type": "stream",
     "text": [
      "Epoch 1:\n",
      "    Train loss 0.302, accuracy 0.752, F1-score 0.777, MCC: 0.503, Dice: 0.777\n",
      "    Val loss 0.220, accuracy 0.768, F1-score 0.772, MCC: 0.528, Dice: 0.772\n"
     ]
    },
    {
     "name": "stderr",
     "output_type": "stream",
     "text": [
      "Training epoch 2: 100%|██████████| 155/155 [01:52<00:00,  1.38it/s]\n",
      "Validation epoch 2: 100%|██████████| 51/51 [00:30<00:00,  1.68it/s]\n"
     ]
    },
    {
     "name": "stdout",
     "output_type": "stream",
     "text": [
      "Epoch 2:\n",
      "    Train loss 0.209, accuracy 0.785, F1-score 0.802, MCC: 0.568, Dice: 0.802\n",
      "    Val loss 0.208, accuracy 0.776, F1-score 0.788, MCC: 0.545, Dice: 0.788\n"
     ]
    },
    {
     "name": "stderr",
     "output_type": "stream",
     "text": [
      "Training epoch 3: 100%|██████████| 155/155 [01:54<00:00,  1.35it/s]\n",
      "Validation epoch 3: 100%|██████████| 51/51 [00:30<00:00,  1.68it/s]\n"
     ]
    },
    {
     "name": "stdout",
     "output_type": "stream",
     "text": [
      "Epoch 3:\n",
      "    Train loss 0.199, accuracy 0.800, F1-score 0.816, MCC: 0.596, Dice: 0.816\n",
      "    Val loss 0.201, accuracy 0.786, F1-score 0.800, MCC: 0.564, Dice: 0.800\n"
     ]
    },
    {
     "name": "stderr",
     "output_type": "stream",
     "text": [
      "Training epoch 4: 100%|██████████| 155/155 [01:52<00:00,  1.38it/s]\n",
      "Validation epoch 4: 100%|██████████| 51/51 [00:30<00:00,  1.68it/s]\n"
     ]
    },
    {
     "name": "stdout",
     "output_type": "stream",
     "text": [
      "Epoch 4:\n",
      "    Train loss 0.193, accuracy 0.808, F1-score 0.822, MCC: 0.609, Dice: 0.822\n",
      "    Val loss 0.195, accuracy 0.800, F1-score 0.806, MCC: 0.594, Dice: 0.806\n"
     ]
    },
    {
     "name": "stderr",
     "output_type": "stream",
     "text": [
      "Training epoch 5: 100%|██████████| 155/155 [01:52<00:00,  1.38it/s]\n",
      "Validation epoch 5: 100%|██████████| 51/51 [00:30<00:00,  1.70it/s]\n",
      "Training epoch 6:   0%|          | 0/155 [00:00<?, ?it/s]"
     ]
    },
    {
     "name": "stdout",
     "output_type": "stream",
     "text": [
      "Epoch 5:\n",
      "    Train loss 0.187, accuracy 0.817, F1-score 0.829, MCC: 0.623, Dice: 0.829\n",
      "    Val loss 0.193, accuracy 0.796, F1-score 0.791, MCC: 0.591, Dice: 0.791\n"
     ]
    },
    {
     "name": "stderr",
     "output_type": "stream",
     "text": [
      "Training epoch 6: 100%|██████████| 155/155 [01:53<00:00,  1.37it/s]\n",
      "Validation epoch 6: 100%|██████████| 51/51 [00:30<00:00,  1.68it/s]\n"
     ]
    },
    {
     "name": "stdout",
     "output_type": "stream",
     "text": [
      "Epoch 6:\n",
      "    Train loss 0.185, accuracy 0.821, F1-score 0.832, MCC: 0.631, Dice: 0.832\n",
      "    Val loss 0.188, accuracy 0.806, F1-score 0.814, MCC: 0.605, Dice: 0.814\n"
     ]
    },
    {
     "name": "stderr",
     "output_type": "stream",
     "text": [
      "Training epoch 7: 100%|██████████| 155/155 [01:52<00:00,  1.38it/s]\n",
      "Validation epoch 7: 100%|██████████| 51/51 [00:30<00:00,  1.68it/s]\n",
      "Training epoch 8:   0%|          | 0/155 [00:00<?, ?it/s]"
     ]
    },
    {
     "name": "stdout",
     "output_type": "stream",
     "text": [
      "Epoch 7:\n",
      "    Train loss 0.182, accuracy 0.824, F1-score 0.835, MCC: 0.636, Dice: 0.835\n",
      "    Val loss 0.193, accuracy 0.798, F1-score 0.792, MCC: 0.598, Dice: 0.792\n"
     ]
    },
    {
     "name": "stderr",
     "output_type": "stream",
     "text": [
      "Training epoch 8: 100%|██████████| 155/155 [01:52<00:00,  1.38it/s]\n",
      "Validation epoch 8: 100%|██████████| 51/51 [00:30<00:00,  1.67it/s]\n"
     ]
    },
    {
     "name": "stdout",
     "output_type": "stream",
     "text": [
      "Epoch 8:\n",
      "    Train loss 0.179, accuracy 0.828, F1-score 0.838, MCC: 0.643, Dice: 0.838\n",
      "    Val loss 0.186, accuracy 0.807, F1-score 0.807, MCC: 0.609, Dice: 0.807\n"
     ]
    },
    {
     "name": "stderr",
     "output_type": "stream",
     "text": [
      "Training epoch 9: 100%|██████████| 155/155 [01:53<00:00,  1.37it/s]\n",
      "Validation epoch 9: 100%|██████████| 51/51 [00:29<00:00,  1.72it/s]\n",
      "Training epoch 10:   0%|          | 0/155 [00:00<?, ?it/s]"
     ]
    },
    {
     "name": "stdout",
     "output_type": "stream",
     "text": [
      "Epoch 9:\n",
      "    Train loss 0.178, accuracy 0.831, F1-score 0.841, MCC: 0.648, Dice: 0.841\n",
      "    Val loss 0.187, accuracy 0.803, F1-score 0.802, MCC: 0.603, Dice: 0.802\n"
     ]
    },
    {
     "name": "stderr",
     "output_type": "stream",
     "text": [
      "Training epoch 10: 100%|██████████| 155/155 [01:52<00:00,  1.37it/s]\n",
      "Validation epoch 10: 100%|██████████| 51/51 [00:30<00:00,  1.69it/s]\n"
     ]
    },
    {
     "name": "stdout",
     "output_type": "stream",
     "text": [
      "Epoch 10:\n",
      "    Train loss 0.176, accuracy 0.833, F1-score 0.842, MCC: 0.652, Dice: 0.842\n",
      "    Val loss 0.182, accuracy 0.814, F1-score 0.815, MCC: 0.624, Dice: 0.815\n"
     ]
    },
    {
     "name": "stderr",
     "output_type": "stream",
     "text": [
      "Training epoch 11: 100%|██████████| 155/155 [01:53<00:00,  1.36it/s]\n",
      "Validation epoch 11: 100%|██████████| 51/51 [00:30<00:00,  1.67it/s]\n",
      "Training epoch 12:   0%|          | 0/155 [00:00<?, ?it/s]"
     ]
    },
    {
     "name": "stdout",
     "output_type": "stream",
     "text": [
      "Epoch 11:\n",
      "    Train loss 0.174, accuracy 0.835, F1-score 0.844, MCC: 0.656, Dice: 0.844\n",
      "    Val loss 0.185, accuracy 0.810, F1-score 0.809, MCC: 0.619, Dice: 0.809\n"
     ]
    },
    {
     "name": "stderr",
     "output_type": "stream",
     "text": [
      "Training epoch 12: 100%|██████████| 155/155 [01:53<00:00,  1.37it/s]\n",
      "Validation epoch 12: 100%|██████████| 51/51 [00:30<00:00,  1.68it/s]\n",
      "Training epoch 13:   0%|          | 0/155 [00:00<?, ?it/s]"
     ]
    },
    {
     "name": "stdout",
     "output_type": "stream",
     "text": [
      "Epoch 12:\n",
      "    Train loss 0.173, accuracy 0.838, F1-score 0.846, MCC: 0.660, Dice: 0.846\n",
      "    Val loss 0.183, accuracy 0.806, F1-score 0.800, MCC: 0.612, Dice: 0.800\n"
     ]
    },
    {
     "name": "stderr",
     "output_type": "stream",
     "text": [
      "Training epoch 13: 100%|██████████| 155/155 [01:55<00:00,  1.34it/s]\n",
      "Validation epoch 13: 100%|██████████| 51/51 [00:33<00:00,  1.53it/s]\n",
      "Training epoch 14:   0%|          | 0/155 [00:00<?, ?it/s]"
     ]
    },
    {
     "name": "stdout",
     "output_type": "stream",
     "text": [
      "Epoch 13:\n",
      "    Train loss 0.172, accuracy 0.837, F1-score 0.846, MCC: 0.661, Dice: 0.846\n",
      "    Val loss 0.185, accuracy 0.802, F1-score 0.792, MCC: 0.610, Dice: 0.792\n"
     ]
    },
    {
     "name": "stderr",
     "output_type": "stream",
     "text": [
      "Training epoch 14: 100%|██████████| 155/155 [01:56<00:00,  1.33it/s]\n",
      "Validation epoch 14: 100%|██████████| 51/51 [00:30<00:00,  1.70it/s]\n",
      "Training epoch 15:   0%|          | 0/155 [00:00<?, ?it/s]"
     ]
    },
    {
     "name": "stdout",
     "output_type": "stream",
     "text": [
      "Epoch 14:\n",
      "    Train loss 0.171, accuracy 0.839, F1-score 0.847, MCC: 0.662, Dice: 0.847\n",
      "    Val loss 0.183, accuracy 0.802, F1-score 0.795, MCC: 0.608, Dice: 0.795\n"
     ]
    },
    {
     "name": "stderr",
     "output_type": "stream",
     "text": [
      "Training epoch 15: 100%|██████████| 155/155 [01:53<00:00,  1.36it/s]\n",
      "Validation epoch 15: 100%|██████████| 51/51 [00:30<00:00,  1.69it/s]\n"
     ]
    },
    {
     "name": "stdout",
     "output_type": "stream",
     "text": [
      "Epoch 15:\n",
      "    Train loss 0.171, accuracy 0.839, F1-score 0.847, MCC: 0.663, Dice: 0.847\n",
      "    Val loss 0.178, accuracy 0.818, F1-score 0.822, MCC: 0.632, Dice: 0.822\n"
     ]
    },
    {
     "name": "stderr",
     "output_type": "stream",
     "text": [
      "Training epoch 16: 100%|██████████| 155/155 [01:53<00:00,  1.36it/s]\n",
      "Validation epoch 16: 100%|██████████| 51/51 [00:31<00:00,  1.64it/s]\n",
      "Training epoch 17:   0%|          | 0/155 [00:00<?, ?it/s]"
     ]
    },
    {
     "name": "stdout",
     "output_type": "stream",
     "text": [
      "Epoch 16:\n",
      "    Train loss 0.169, accuracy 0.841, F1-score 0.849, MCC: 0.668, Dice: 0.849\n",
      "    Val loss 0.180, accuracy 0.814, F1-score 0.815, MCC: 0.624, Dice: 0.815\n"
     ]
    },
    {
     "name": "stderr",
     "output_type": "stream",
     "text": [
      "Training epoch 17: 100%|██████████| 155/155 [01:57<00:00,  1.32it/s]\n",
      "Validation epoch 17: 100%|██████████| 51/51 [00:31<00:00,  1.61it/s]\n",
      "Training epoch 18:   0%|          | 0/155 [00:00<?, ?it/s]"
     ]
    },
    {
     "name": "stdout",
     "output_type": "stream",
     "text": [
      "Epoch 17:\n",
      "    Train loss 0.168, accuracy 0.842, F1-score 0.850, MCC: 0.670, Dice: 0.850\n",
      "    Val loss 0.183, accuracy 0.807, F1-score 0.802, MCC: 0.620, Dice: 0.802\n"
     ]
    },
    {
     "name": "stderr",
     "output_type": "stream",
     "text": [
      "Training epoch 18: 100%|██████████| 155/155 [01:57<00:00,  1.31it/s]\n",
      "Validation epoch 18: 100%|██████████| 51/51 [00:30<00:00,  1.69it/s]\n",
      "Training epoch 19:   0%|          | 0/155 [00:00<?, ?it/s]"
     ]
    },
    {
     "name": "stdout",
     "output_type": "stream",
     "text": [
      "Epoch 18:\n",
      "    Train loss 0.168, accuracy 0.843, F1-score 0.851, MCC: 0.671, Dice: 0.851\n",
      "    Val loss 0.183, accuracy 0.806, F1-score 0.806, MCC: 0.611, Dice: 0.806\n"
     ]
    },
    {
     "name": "stderr",
     "output_type": "stream",
     "text": [
      "Training epoch 19: 100%|██████████| 155/155 [01:56<00:00,  1.33it/s]\n",
      "Validation epoch 19: 100%|██████████| 51/51 [00:30<00:00,  1.65it/s]\n",
      "Training epoch 20:   0%|          | 0/155 [00:00<?, ?it/s]"
     ]
    },
    {
     "name": "stdout",
     "output_type": "stream",
     "text": [
      "Epoch 19:\n",
      "    Train loss 0.168, accuracy 0.843, F1-score 0.850, MCC: 0.670, Dice: 0.850\n",
      "    Val loss 0.179, accuracy 0.813, F1-score 0.814, MCC: 0.623, Dice: 0.814\n"
     ]
    },
    {
     "name": "stderr",
     "output_type": "stream",
     "text": [
      "Training epoch 20: 100%|██████████| 155/155 [01:59<00:00,  1.30it/s]\n",
      "Validation epoch 20: 100%|██████████| 51/51 [00:30<00:00,  1.66it/s]\n",
      "Training epoch 21:   0%|          | 0/155 [00:00<?, ?it/s]"
     ]
    },
    {
     "name": "stdout",
     "output_type": "stream",
     "text": [
      "Epoch 20:\n",
      "    Train loss 0.167, accuracy 0.843, F1-score 0.851, MCC: 0.672, Dice: 0.851\n",
      "    Val loss 0.177, accuracy 0.815, F1-score 0.811, MCC: 0.631, Dice: 0.811\n"
     ]
    },
    {
     "name": "stderr",
     "output_type": "stream",
     "text": [
      "Training epoch 21: 100%|██████████| 155/155 [01:56<00:00,  1.33it/s]\n",
      "Validation epoch 21: 100%|██████████| 51/51 [00:29<00:00,  1.72it/s]\n",
      "Training epoch 22:   0%|          | 0/155 [00:00<?, ?it/s]"
     ]
    },
    {
     "name": "stdout",
     "output_type": "stream",
     "text": [
      "Epoch 21:\n",
      "    Train loss 0.166, accuracy 0.845, F1-score 0.853, MCC: 0.675, Dice: 0.853\n",
      "    Val loss 0.176, accuracy 0.815, F1-score 0.816, MCC: 0.627, Dice: 0.816\n"
     ]
    },
    {
     "name": "stderr",
     "output_type": "stream",
     "text": [
      "Training epoch 22: 100%|██████████| 155/155 [01:58<00:00,  1.30it/s]\n",
      "Validation epoch 22: 100%|██████████| 51/51 [00:30<00:00,  1.68it/s]\n",
      "Training epoch 23:   0%|          | 0/155 [00:00<?, ?it/s]"
     ]
    },
    {
     "name": "stdout",
     "output_type": "stream",
     "text": [
      "Epoch 22:\n",
      "    Train loss 0.165, accuracy 0.846, F1-score 0.853, MCC: 0.677, Dice: 0.853\n",
      "    Val loss 0.175, accuracy 0.816, F1-score 0.815, MCC: 0.630, Dice: 0.815\n"
     ]
    },
    {
     "name": "stderr",
     "output_type": "stream",
     "text": [
      "Training epoch 23: 100%|██████████| 155/155 [01:56<00:00,  1.33it/s]\n",
      "Validation epoch 23: 100%|██████████| 51/51 [00:33<00:00,  1.50it/s]\n"
     ]
    },
    {
     "name": "stdout",
     "output_type": "stream",
     "text": [
      "Epoch 23:\n",
      "    Train loss 0.165, accuracy 0.847, F1-score 0.854, MCC: 0.678, Dice: 0.854\n",
      "    Val loss 0.175, accuracy 0.818, F1-score 0.818, MCC: 0.634, Dice: 0.818\n"
     ]
    },
    {
     "name": "stderr",
     "output_type": "stream",
     "text": [
      "Training epoch 24: 100%|██████████| 155/155 [02:06<00:00,  1.22it/s]\n",
      "Validation epoch 24: 100%|██████████| 51/51 [00:34<00:00,  1.46it/s]\n",
      "Training epoch 25:   0%|          | 0/155 [00:00<?, ?it/s]"
     ]
    },
    {
     "name": "stdout",
     "output_type": "stream",
     "text": [
      "Epoch 24:\n",
      "    Train loss 0.165, accuracy 0.846, F1-score 0.854, MCC: 0.678, Dice: 0.854\n",
      "    Val loss 0.175, accuracy 0.817, F1-score 0.821, MCC: 0.629, Dice: 0.821\n"
     ]
    },
    {
     "name": "stderr",
     "output_type": "stream",
     "text": [
      "Training epoch 25: 100%|██████████| 155/155 [02:08<00:00,  1.21it/s]\n",
      "Validation epoch 25: 100%|██████████| 51/51 [00:34<00:00,  1.47it/s]\n"
     ]
    },
    {
     "name": "stdout",
     "output_type": "stream",
     "text": [
      "Epoch 25:\n",
      "    Train loss 0.164, accuracy 0.848, F1-score 0.855, MCC: 0.681, Dice: 0.855\n",
      "    Val loss 0.173, accuracy 0.822, F1-score 0.826, MCC: 0.640, Dice: 0.826\n"
     ]
    },
    {
     "name": "stderr",
     "output_type": "stream",
     "text": [
      "Training epoch 26: 100%|██████████| 155/155 [02:06<00:00,  1.22it/s]\n",
      "Validation epoch 26: 100%|██████████| 51/51 [00:34<00:00,  1.48it/s]\n",
      "Training epoch 27:   0%|          | 0/155 [00:00<?, ?it/s]"
     ]
    },
    {
     "name": "stdout",
     "output_type": "stream",
     "text": [
      "Epoch 26:\n",
      "    Train loss 0.163, accuracy 0.848, F1-score 0.855, MCC: 0.680, Dice: 0.855\n",
      "    Val loss 0.180, accuracy 0.808, F1-score 0.802, MCC: 0.618, Dice: 0.802\n"
     ]
    },
    {
     "name": "stderr",
     "output_type": "stream",
     "text": [
      "Training epoch 27: 100%|██████████| 155/155 [02:06<00:00,  1.22it/s]\n",
      "Validation epoch 27: 100%|██████████| 51/51 [00:33<00:00,  1.51it/s]\n",
      "Training epoch 28:   0%|          | 0/155 [00:00<?, ?it/s]"
     ]
    },
    {
     "name": "stdout",
     "output_type": "stream",
     "text": [
      "Epoch 27:\n",
      "    Train loss 0.163, accuracy 0.849, F1-score 0.856, MCC: 0.682, Dice: 0.856\n",
      "    Val loss 0.176, accuracy 0.816, F1-score 0.813, MCC: 0.633, Dice: 0.813\n"
     ]
    },
    {
     "name": "stderr",
     "output_type": "stream",
     "text": [
      "Training epoch 28: 100%|██████████| 155/155 [02:07<00:00,  1.22it/s]\n",
      "Validation epoch 28: 100%|██████████| 51/51 [00:34<00:00,  1.46it/s]\n"
     ]
    },
    {
     "name": "stdout",
     "output_type": "stream",
     "text": [
      "Epoch 28:\n",
      "    Train loss 0.162, accuracy 0.850, F1-score 0.857, MCC: 0.684, Dice: 0.857\n",
      "    Val loss 0.172, accuracy 0.822, F1-score 0.825, MCC: 0.640, Dice: 0.825\n"
     ]
    },
    {
     "name": "stderr",
     "output_type": "stream",
     "text": [
      "Training epoch 29: 100%|██████████| 155/155 [02:06<00:00,  1.22it/s]\n",
      "Validation epoch 29: 100%|██████████| 51/51 [00:34<00:00,  1.48it/s]\n",
      "Training epoch 30:   0%|          | 0/155 [00:00<?, ?it/s]"
     ]
    },
    {
     "name": "stdout",
     "output_type": "stream",
     "text": [
      "Epoch 29:\n",
      "    Train loss 0.162, accuracy 0.850, F1-score 0.857, MCC: 0.684, Dice: 0.857\n",
      "    Val loss 0.175, accuracy 0.817, F1-score 0.816, MCC: 0.632, Dice: 0.816\n"
     ]
    },
    {
     "name": "stderr",
     "output_type": "stream",
     "text": [
      "Training epoch 30: 100%|██████████| 155/155 [02:07<00:00,  1.21it/s]\n",
      "Validation epoch 30: 100%|██████████| 51/51 [00:34<00:00,  1.48it/s]\n",
      "Training epoch 31:   0%|          | 0/155 [00:00<?, ?it/s]"
     ]
    },
    {
     "name": "stdout",
     "output_type": "stream",
     "text": [
      "Epoch 30:\n",
      "    Train loss 0.162, accuracy 0.850, F1-score 0.857, MCC: 0.684, Dice: 0.857\n",
      "    Val loss 0.173, accuracy 0.821, F1-score 0.822, MCC: 0.638, Dice: 0.822\n"
     ]
    },
    {
     "name": "stderr",
     "output_type": "stream",
     "text": [
      "Training epoch 31: 100%|██████████| 155/155 [02:07<00:00,  1.22it/s]\n",
      "Validation epoch 31: 100%|██████████| 51/51 [00:34<00:00,  1.46it/s]\n"
     ]
    },
    {
     "name": "stdout",
     "output_type": "stream",
     "text": [
      "Epoch 31:\n",
      "    Train loss 0.161, accuracy 0.852, F1-score 0.859, MCC: 0.688, Dice: 0.859\n",
      "    Val loss 0.172, accuracy 0.823, F1-score 0.826, MCC: 0.641, Dice: 0.826\n"
     ]
    },
    {
     "name": "stderr",
     "output_type": "stream",
     "text": [
      "Training epoch 32: 100%|██████████| 155/155 [02:07<00:00,  1.22it/s]\n",
      "Validation epoch 32: 100%|██████████| 51/51 [00:34<00:00,  1.47it/s]\n",
      "Training epoch 33:   0%|          | 0/155 [00:00<?, ?it/s]"
     ]
    },
    {
     "name": "stdout",
     "output_type": "stream",
     "text": [
      "Epoch 32:\n",
      "    Train loss 0.161, accuracy 0.850, F1-score 0.858, MCC: 0.686, Dice: 0.858\n",
      "    Val loss 0.174, accuracy 0.819, F1-score 0.819, MCC: 0.635, Dice: 0.819\n"
     ]
    },
    {
     "name": "stderr",
     "output_type": "stream",
     "text": [
      "Training epoch 33: 100%|██████████| 155/155 [02:03<00:00,  1.25it/s]\n",
      "Validation epoch 33: 100%|██████████| 51/51 [00:33<00:00,  1.54it/s]\n",
      "Training epoch 34:   0%|          | 0/155 [00:00<?, ?it/s]"
     ]
    },
    {
     "name": "stdout",
     "output_type": "stream",
     "text": [
      "Epoch 33:\n",
      "    Train loss 0.161, accuracy 0.851, F1-score 0.858, MCC: 0.686, Dice: 0.858\n",
      "    Val loss 0.173, accuracy 0.823, F1-score 0.828, MCC: 0.640, Dice: 0.828\n"
     ]
    },
    {
     "name": "stderr",
     "output_type": "stream",
     "text": [
      "Training epoch 34: 100%|██████████| 155/155 [02:01<00:00,  1.27it/s]\n",
      "Validation epoch 34: 100%|██████████| 51/51 [00:32<00:00,  1.58it/s]\n"
     ]
    },
    {
     "name": "stdout",
     "output_type": "stream",
     "text": [
      "Epoch 34:\n",
      "    Train loss 0.160, accuracy 0.852, F1-score 0.859, MCC: 0.689, Dice: 0.859\n",
      "    Val loss 0.171, accuracy 0.826, F1-score 0.829, MCC: 0.647, Dice: 0.829\n"
     ]
    },
    {
     "name": "stderr",
     "output_type": "stream",
     "text": [
      "Training epoch 35: 100%|██████████| 155/155 [01:56<00:00,  1.33it/s]\n",
      "Validation epoch 35: 100%|██████████| 51/51 [00:31<00:00,  1.60it/s]\n",
      "Training epoch 36:   0%|          | 0/155 [00:00<?, ?it/s]"
     ]
    },
    {
     "name": "stdout",
     "output_type": "stream",
     "text": [
      "Epoch 35:\n",
      "    Train loss 0.160, accuracy 0.852, F1-score 0.859, MCC: 0.689, Dice: 0.859\n",
      "    Val loss 0.172, accuracy 0.824, F1-score 0.828, MCC: 0.643, Dice: 0.828\n"
     ]
    },
    {
     "name": "stderr",
     "output_type": "stream",
     "text": [
      "Training epoch 36: 100%|██████████| 155/155 [01:57<00:00,  1.32it/s]\n",
      "Validation epoch 36: 100%|██████████| 51/51 [00:30<00:00,  1.65it/s]\n",
      "Training epoch 37:   0%|          | 0/155 [00:00<?, ?it/s]"
     ]
    },
    {
     "name": "stdout",
     "output_type": "stream",
     "text": [
      "Epoch 36:\n",
      "    Train loss 0.160, accuracy 0.853, F1-score 0.859, MCC: 0.690, Dice: 0.859\n",
      "    Val loss 0.173, accuracy 0.819, F1-score 0.817, MCC: 0.635, Dice: 0.817\n"
     ]
    },
    {
     "name": "stderr",
     "output_type": "stream",
     "text": [
      "Training epoch 37: 100%|██████████| 155/155 [01:55<00:00,  1.34it/s]\n",
      "Validation epoch 37: 100%|██████████| 51/51 [00:29<00:00,  1.75it/s]\n",
      "Training epoch 38:   0%|          | 0/155 [00:00<?, ?it/s]"
     ]
    },
    {
     "name": "stdout",
     "output_type": "stream",
     "text": [
      "Epoch 37:\n",
      "    Train loss 0.160, accuracy 0.852, F1-score 0.859, MCC: 0.689, Dice: 0.859\n",
      "    Val loss 0.180, accuracy 0.810, F1-score 0.807, MCC: 0.618, Dice: 0.807\n"
     ]
    },
    {
     "name": "stderr",
     "output_type": "stream",
     "text": [
      "Training epoch 38: 100%|██████████| 155/155 [01:55<00:00,  1.34it/s]\n",
      "Validation epoch 38: 100%|██████████| 51/51 [00:30<00:00,  1.67it/s]\n",
      "Training epoch 39:   0%|          | 0/155 [00:00<?, ?it/s]"
     ]
    },
    {
     "name": "stdout",
     "output_type": "stream",
     "text": [
      "Epoch 38:\n",
      "    Train loss 0.159, accuracy 0.854, F1-score 0.861, MCC: 0.692, Dice: 0.861\n",
      "    Val loss 0.172, accuracy 0.824, F1-score 0.824, MCC: 0.642, Dice: 0.824\n"
     ]
    },
    {
     "name": "stderr",
     "output_type": "stream",
     "text": [
      "Training epoch 39: 100%|██████████| 155/155 [01:53<00:00,  1.36it/s]\n",
      "Validation epoch 39: 100%|██████████| 51/51 [00:30<00:00,  1.67it/s]\n",
      "Training epoch 40:   0%|          | 0/155 [00:00<?, ?it/s]"
     ]
    },
    {
     "name": "stdout",
     "output_type": "stream",
     "text": [
      "Epoch 39:\n",
      "    Train loss 0.159, accuracy 0.854, F1-score 0.861, MCC: 0.693, Dice: 0.861\n",
      "    Val loss 0.173, accuracy 0.821, F1-score 0.820, MCC: 0.638, Dice: 0.820\n"
     ]
    },
    {
     "name": "stderr",
     "output_type": "stream",
     "text": [
      "Training epoch 40: 100%|██████████| 155/155 [01:52<00:00,  1.38it/s]\n",
      "Validation epoch 40: 100%|██████████| 51/51 [00:29<00:00,  1.73it/s]\n",
      "Training epoch 41:   0%|          | 0/155 [00:00<?, ?it/s]"
     ]
    },
    {
     "name": "stdout",
     "output_type": "stream",
     "text": [
      "Epoch 40:\n",
      "    Train loss 0.159, accuracy 0.853, F1-score 0.859, MCC: 0.690, Dice: 0.859\n",
      "    Val loss 0.171, accuracy 0.824, F1-score 0.825, MCC: 0.644, Dice: 0.825\n"
     ]
    },
    {
     "name": "stderr",
     "output_type": "stream",
     "text": [
      "Training epoch 41: 100%|██████████| 155/155 [01:52<00:00,  1.38it/s]\n",
      "Validation epoch 41: 100%|██████████| 51/51 [00:29<00:00,  1.71it/s]\n"
     ]
    },
    {
     "name": "stdout",
     "output_type": "stream",
     "text": [
      "Epoch 41:\n",
      "    Train loss 0.158, accuracy 0.855, F1-score 0.862, MCC: 0.694, Dice: 0.862\n",
      "    Val loss 0.170, accuracy 0.827, F1-score 0.831, MCC: 0.648, Dice: 0.831\n"
     ]
    },
    {
     "name": "stderr",
     "output_type": "stream",
     "text": [
      "Training epoch 42: 100%|██████████| 155/155 [01:52<00:00,  1.38it/s]\n",
      "Validation epoch 42: 100%|██████████| 51/51 [00:30<00:00,  1.70it/s]\n",
      "Training epoch 43:   0%|          | 0/155 [00:00<?, ?it/s]"
     ]
    },
    {
     "name": "stdout",
     "output_type": "stream",
     "text": [
      "Epoch 42:\n",
      "    Train loss 0.158, accuracy 0.855, F1-score 0.861, MCC: 0.694, Dice: 0.861\n",
      "    Val loss 0.173, accuracy 0.819, F1-score 0.815, MCC: 0.638, Dice: 0.815\n"
     ]
    },
    {
     "name": "stderr",
     "output_type": "stream",
     "text": [
      "Training epoch 43: 100%|██████████| 155/155 [01:52<00:00,  1.38it/s]\n",
      "Validation epoch 43: 100%|██████████| 51/51 [00:28<00:00,  1.82it/s]\n"
     ]
    },
    {
     "name": "stdout",
     "output_type": "stream",
     "text": [
      "Epoch 43:\n",
      "    Train loss 0.157, accuracy 0.855, F1-score 0.862, MCC: 0.695, Dice: 0.862\n",
      "    Val loss 0.170, accuracy 0.827, F1-score 0.831, MCC: 0.649, Dice: 0.831\n"
     ]
    },
    {
     "name": "stderr",
     "output_type": "stream",
     "text": [
      "Training epoch 44: 100%|██████████| 155/155 [01:51<00:00,  1.39it/s]\n",
      "Validation epoch 44: 100%|██████████| 51/51 [00:30<00:00,  1.69it/s]\n",
      "Training epoch 45:   0%|          | 0/155 [00:00<?, ?it/s]"
     ]
    },
    {
     "name": "stdout",
     "output_type": "stream",
     "text": [
      "Epoch 44:\n",
      "    Train loss 0.157, accuracy 0.856, F1-score 0.863, MCC: 0.697, Dice: 0.863\n",
      "    Val loss 0.175, accuracy 0.819, F1-score 0.815, MCC: 0.637, Dice: 0.815\n"
     ]
    },
    {
     "name": "stderr",
     "output_type": "stream",
     "text": [
      "Training epoch 45: 100%|██████████| 155/155 [02:02<00:00,  1.27it/s]\n",
      "Validation epoch 45: 100%|██████████| 51/51 [00:33<00:00,  1.52it/s]\n",
      "Training epoch 46:   0%|          | 0/155 [00:00<?, ?it/s]"
     ]
    },
    {
     "name": "stdout",
     "output_type": "stream",
     "text": [
      "Epoch 45:\n",
      "    Train loss 0.158, accuracy 0.855, F1-score 0.862, MCC: 0.694, Dice: 0.862\n",
      "    Val loss 0.171, accuracy 0.824, F1-score 0.824, MCC: 0.642, Dice: 0.824\n"
     ]
    },
    {
     "name": "stderr",
     "output_type": "stream",
     "text": [
      "Training epoch 46: 100%|██████████| 155/155 [02:07<00:00,  1.21it/s]\n",
      "Validation epoch 46: 100%|██████████| 51/51 [00:33<00:00,  1.50it/s]\n",
      "Training epoch 47:   0%|          | 0/155 [00:00<?, ?it/s]"
     ]
    },
    {
     "name": "stdout",
     "output_type": "stream",
     "text": [
      "Epoch 46:\n",
      "    Train loss 0.157, accuracy 0.857, F1-score 0.864, MCC: 0.698, Dice: 0.864\n",
      "    Val loss 0.174, accuracy 0.819, F1-score 0.815, MCC: 0.635, Dice: 0.815\n"
     ]
    },
    {
     "name": "stderr",
     "output_type": "stream",
     "text": [
      "Training epoch 47: 100%|██████████| 155/155 [02:07<00:00,  1.21it/s]\n",
      "Validation epoch 47: 100%|██████████| 51/51 [00:35<00:00,  1.46it/s]\n",
      "Training epoch 48:   0%|          | 0/155 [00:00<?, ?it/s]"
     ]
    },
    {
     "name": "stdout",
     "output_type": "stream",
     "text": [
      "Epoch 47:\n",
      "    Train loss 0.157, accuracy 0.856, F1-score 0.863, MCC: 0.697, Dice: 0.863\n",
      "    Val loss 0.170, accuracy 0.827, F1-score 0.830, MCC: 0.648, Dice: 0.830\n"
     ]
    },
    {
     "name": "stderr",
     "output_type": "stream",
     "text": [
      "Training epoch 48: 100%|██████████| 155/155 [02:07<00:00,  1.22it/s]\n",
      "Validation epoch 48: 100%|██████████| 51/51 [00:34<00:00,  1.47it/s]\n",
      "Training epoch 49:   0%|          | 0/155 [00:00<?, ?it/s]"
     ]
    },
    {
     "name": "stdout",
     "output_type": "stream",
     "text": [
      "Epoch 48:\n",
      "    Train loss 0.157, accuracy 0.856, F1-score 0.863, MCC: 0.697, Dice: 0.863\n",
      "    Val loss 0.171, accuracy 0.824, F1-score 0.824, MCC: 0.644, Dice: 0.824\n"
     ]
    },
    {
     "name": "stderr",
     "output_type": "stream",
     "text": [
      "Training epoch 49: 100%|██████████| 155/155 [02:07<00:00,  1.22it/s]\n",
      "Validation epoch 49: 100%|██████████| 51/51 [00:34<00:00,  1.48it/s]\n",
      "Training epoch 50:   0%|          | 0/155 [00:00<?, ?it/s]"
     ]
    },
    {
     "name": "stdout",
     "output_type": "stream",
     "text": [
      "Epoch 49:\n",
      "    Train loss 0.156, accuracy 0.857, F1-score 0.864, MCC: 0.698, Dice: 0.864\n",
      "    Val loss 0.174, accuracy 0.815, F1-score 0.813, MCC: 0.629, Dice: 0.813\n"
     ]
    },
    {
     "name": "stderr",
     "output_type": "stream",
     "text": [
      "Training epoch 50: 100%|██████████| 155/155 [02:07<00:00,  1.21it/s]\n",
      "Validation epoch 50: 100%|██████████| 51/51 [00:33<00:00,  1.52it/s]\n"
     ]
    },
    {
     "name": "stdout",
     "output_type": "stream",
     "text": [
      "Epoch 50:\n",
      "    Train loss 0.156, accuracy 0.857, F1-score 0.864, MCC: 0.699, Dice: 0.864\n",
      "    Val loss 0.170, accuracy 0.828, F1-score 0.831, MCC: 0.650, Dice: 0.831\n"
     ]
    },
    {
     "name": "stderr",
     "output_type": "stream",
     "text": [
      "Training epoch 51: 100%|██████████| 155/155 [02:08<00:00,  1.21it/s]\n",
      "Validation epoch 51: 100%|██████████| 51/51 [00:35<00:00,  1.45it/s]\n",
      "Training epoch 52:   0%|          | 0/155 [00:00<?, ?it/s]"
     ]
    },
    {
     "name": "stdout",
     "output_type": "stream",
     "text": [
      "Epoch 51:\n",
      "    Train loss 0.156, accuracy 0.857, F1-score 0.864, MCC: 0.698, Dice: 0.864\n",
      "    Val loss 0.169, accuracy 0.826, F1-score 0.828, MCC: 0.647, Dice: 0.828\n"
     ]
    },
    {
     "name": "stderr",
     "output_type": "stream",
     "text": [
      "Training epoch 52: 100%|██████████| 155/155 [02:07<00:00,  1.22it/s]\n",
      "Validation epoch 52: 100%|██████████| 51/51 [00:34<00:00,  1.46it/s]\n"
     ]
    },
    {
     "name": "stdout",
     "output_type": "stream",
     "text": [
      "Epoch 52:\n",
      "    Train loss 0.156, accuracy 0.857, F1-score 0.864, MCC: 0.699, Dice: 0.864\n",
      "    Val loss 0.170, accuracy 0.827, F1-score 0.829, MCC: 0.651, Dice: 0.829\n"
     ]
    },
    {
     "name": "stderr",
     "output_type": "stream",
     "text": [
      "Training epoch 53: 100%|██████████| 155/155 [02:06<00:00,  1.23it/s]\n",
      "Validation epoch 53: 100%|██████████| 51/51 [00:34<00:00,  1.48it/s]\n",
      "Training epoch 54:   0%|          | 0/155 [00:00<?, ?it/s]"
     ]
    },
    {
     "name": "stdout",
     "output_type": "stream",
     "text": [
      "Epoch 53:\n",
      "    Train loss 0.156, accuracy 0.857, F1-score 0.865, MCC: 0.699, Dice: 0.865\n",
      "    Val loss 0.177, accuracy 0.814, F1-score 0.814, MCC: 0.626, Dice: 0.814\n"
     ]
    },
    {
     "name": "stderr",
     "output_type": "stream",
     "text": [
      "Training epoch 54: 100%|██████████| 155/155 [02:07<00:00,  1.21it/s]\n",
      "Validation epoch 54: 100%|██████████| 51/51 [00:34<00:00,  1.47it/s]\n"
     ]
    },
    {
     "name": "stdout",
     "output_type": "stream",
     "text": [
      "Epoch 54:\n",
      "    Train loss 0.155, accuracy 0.858, F1-score 0.866, MCC: 0.701, Dice: 0.866\n",
      "    Val loss 0.168, accuracy 0.831, F1-score 0.835, MCC: 0.656, Dice: 0.835\n"
     ]
    },
    {
     "name": "stderr",
     "output_type": "stream",
     "text": [
      "Training epoch 55: 100%|██████████| 155/155 [02:03<00:00,  1.25it/s]\n",
      "Validation epoch 55: 100%|██████████| 51/51 [00:32<00:00,  1.59it/s]\n",
      "Training epoch 56:   0%|          | 0/155 [00:00<?, ?it/s]"
     ]
    },
    {
     "name": "stdout",
     "output_type": "stream",
     "text": [
      "Epoch 55:\n",
      "    Train loss 0.155, accuracy 0.859, F1-score 0.865, MCC: 0.701, Dice: 0.865\n",
      "    Val loss 0.169, accuracy 0.826, F1-score 0.828, MCC: 0.649, Dice: 0.828\n"
     ]
    },
    {
     "name": "stderr",
     "output_type": "stream",
     "text": [
      "Training epoch 56: 100%|██████████| 155/155 [01:59<00:00,  1.30it/s]\n",
      "Validation epoch 56: 100%|██████████| 51/51 [00:30<00:00,  1.66it/s]\n",
      "Training epoch 57:   0%|          | 0/155 [00:00<?, ?it/s]"
     ]
    },
    {
     "name": "stdout",
     "output_type": "stream",
     "text": [
      "Epoch 56:\n",
      "    Train loss 0.155, accuracy 0.859, F1-score 0.866, MCC: 0.702, Dice: 0.866\n",
      "    Val loss 0.169, accuracy 0.828, F1-score 0.830, MCC: 0.650, Dice: 0.830\n"
     ]
    },
    {
     "name": "stderr",
     "output_type": "stream",
     "text": [
      "Training epoch 57: 100%|██████████| 155/155 [01:55<00:00,  1.34it/s]\n",
      "Validation epoch 57: 100%|██████████| 51/51 [00:30<00:00,  1.65it/s]\n",
      "Training epoch 58:   0%|          | 0/155 [00:00<?, ?it/s]"
     ]
    },
    {
     "name": "stdout",
     "output_type": "stream",
     "text": [
      "Epoch 57:\n",
      "    Train loss 0.154, accuracy 0.859, F1-score 0.866, MCC: 0.703, Dice: 0.866\n",
      "    Val loss 0.170, accuracy 0.825, F1-score 0.823, MCC: 0.646, Dice: 0.823\n"
     ]
    },
    {
     "name": "stderr",
     "output_type": "stream",
     "text": [
      "Training epoch 58: 100%|██████████| 155/155 [01:54<00:00,  1.36it/s]\n",
      "Validation epoch 58: 100%|██████████| 51/51 [00:29<00:00,  1.70it/s]\n",
      "Training epoch 59:   0%|          | 0/155 [00:00<?, ?it/s]"
     ]
    },
    {
     "name": "stdout",
     "output_type": "stream",
     "text": [
      "Epoch 58:\n",
      "    Train loss 0.154, accuracy 0.859, F1-score 0.866, MCC: 0.703, Dice: 0.866\n",
      "    Val loss 0.169, accuracy 0.828, F1-score 0.829, MCC: 0.651, Dice: 0.829\n"
     ]
    },
    {
     "name": "stderr",
     "output_type": "stream",
     "text": [
      "Training epoch 59: 100%|██████████| 155/155 [01:52<00:00,  1.38it/s]\n",
      "Validation epoch 59: 100%|██████████| 51/51 [00:29<00:00,  1.74it/s]\n",
      "Training epoch 60:   0%|          | 0/155 [00:00<?, ?it/s]"
     ]
    },
    {
     "name": "stdout",
     "output_type": "stream",
     "text": [
      "Epoch 59:\n",
      "    Train loss 0.154, accuracy 0.860, F1-score 0.867, MCC: 0.704, Dice: 0.867\n",
      "    Val loss 0.169, accuracy 0.828, F1-score 0.834, MCC: 0.649, Dice: 0.834\n"
     ]
    },
    {
     "name": "stderr",
     "output_type": "stream",
     "text": [
      "Training epoch 60: 100%|██████████| 155/155 [01:51<00:00,  1.38it/s]\n",
      "Validation epoch 60: 100%|██████████| 51/51 [00:30<00:00,  1.70it/s]\n",
      "Training epoch 61:   0%|          | 0/155 [00:00<?, ?it/s]"
     ]
    },
    {
     "name": "stdout",
     "output_type": "stream",
     "text": [
      "Epoch 60:\n",
      "    Train loss 0.154, accuracy 0.860, F1-score 0.868, MCC: 0.705, Dice: 0.868\n",
      "    Val loss 0.168, accuracy 0.827, F1-score 0.827, MCC: 0.651, Dice: 0.827\n"
     ]
    },
    {
     "name": "stderr",
     "output_type": "stream",
     "text": [
      "Training epoch 61: 100%|██████████| 155/155 [01:52<00:00,  1.38it/s]\n",
      "Validation epoch 61: 100%|██████████| 51/51 [00:30<00:00,  1.69it/s]\n",
      "Training epoch 62:   0%|          | 0/155 [00:00<?, ?it/s]"
     ]
    },
    {
     "name": "stdout",
     "output_type": "stream",
     "text": [
      "Epoch 61:\n",
      "    Train loss 0.154, accuracy 0.860, F1-score 0.867, MCC: 0.705, Dice: 0.867\n",
      "    Val loss 0.169, accuracy 0.828, F1-score 0.827, MCC: 0.651, Dice: 0.827\n"
     ]
    },
    {
     "name": "stderr",
     "output_type": "stream",
     "text": [
      "Training epoch 62: 100%|██████████| 155/155 [01:52<00:00,  1.38it/s]\n",
      "Validation epoch 62: 100%|██████████| 51/51 [00:29<00:00,  1.70it/s]\n",
      "Training epoch 63:   0%|          | 0/155 [00:00<?, ?it/s]"
     ]
    },
    {
     "name": "stdout",
     "output_type": "stream",
     "text": [
      "Epoch 62:\n",
      "    Train loss 0.153, accuracy 0.861, F1-score 0.868, MCC: 0.706, Dice: 0.868\n",
      "    Val loss 0.168, accuracy 0.829, F1-score 0.832, MCC: 0.651, Dice: 0.832\n"
     ]
    },
    {
     "name": "stderr",
     "output_type": "stream",
     "text": [
      "Training epoch 63: 100%|██████████| 155/155 [02:01<00:00,  1.27it/s]\n",
      "Validation epoch 63: 100%|██████████| 51/51 [00:38<00:00,  1.31it/s]\n",
      "Training epoch 64:   0%|          | 0/155 [00:00<?, ?it/s]"
     ]
    },
    {
     "name": "stdout",
     "output_type": "stream",
     "text": [
      "Epoch 63:\n",
      "    Train loss 0.153, accuracy 0.861, F1-score 0.868, MCC: 0.706, Dice: 0.868\n",
      "    Val loss 0.168, accuracy 0.829, F1-score 0.833, MCC: 0.653, Dice: 0.833\n"
     ]
    },
    {
     "name": "stderr",
     "output_type": "stream",
     "text": [
      "Training epoch 64: 100%|██████████| 155/155 [02:12<00:00,  1.17it/s]\n",
      "Validation epoch 64: 100%|██████████| 51/51 [00:37<00:00,  1.36it/s]\n",
      "Training epoch 65:   0%|          | 0/155 [00:00<?, ?it/s]"
     ]
    },
    {
     "name": "stdout",
     "output_type": "stream",
     "text": [
      "Epoch 64:\n",
      "    Train loss 0.153, accuracy 0.861, F1-score 0.869, MCC: 0.707, Dice: 0.869\n",
      "    Val loss 0.169, accuracy 0.829, F1-score 0.834, MCC: 0.654, Dice: 0.834\n"
     ]
    },
    {
     "name": "stderr",
     "output_type": "stream",
     "text": [
      "Training epoch 65: 100%|██████████| 155/155 [02:10<00:00,  1.19it/s]\n",
      "Validation epoch 65: 100%|██████████| 51/51 [00:35<00:00,  1.44it/s]\n",
      "Training epoch 66:   0%|          | 0/155 [00:00<?, ?it/s]"
     ]
    },
    {
     "name": "stdout",
     "output_type": "stream",
     "text": [
      "Epoch 65:\n",
      "    Train loss 0.154, accuracy 0.859, F1-score 0.866, MCC: 0.703, Dice: 0.866\n",
      "    Val loss 0.169, accuracy 0.828, F1-score 0.835, MCC: 0.652, Dice: 0.835\n"
     ]
    },
    {
     "name": "stderr",
     "output_type": "stream",
     "text": [
      "Training epoch 66: 100%|██████████| 155/155 [02:03<00:00,  1.25it/s]\n",
      "Validation epoch 66: 100%|██████████| 51/51 [00:35<00:00,  1.46it/s]\n",
      "Training epoch 67:   0%|          | 0/155 [00:00<?, ?it/s]"
     ]
    },
    {
     "name": "stdout",
     "output_type": "stream",
     "text": [
      "Epoch 66:\n",
      "    Train loss 0.153, accuracy 0.861, F1-score 0.868, MCC: 0.706, Dice: 0.868\n",
      "    Val loss 0.169, accuracy 0.827, F1-score 0.835, MCC: 0.648, Dice: 0.835\n"
     ]
    },
    {
     "name": "stderr",
     "output_type": "stream",
     "text": [
      "Training epoch 67: 100%|██████████| 155/155 [02:05<00:00,  1.23it/s]\n",
      "Validation epoch 67: 100%|██████████| 51/51 [00:30<00:00,  1.69it/s]\n",
      "Training epoch 68:   0%|          | 0/155 [00:00<?, ?it/s]"
     ]
    },
    {
     "name": "stdout",
     "output_type": "stream",
     "text": [
      "Epoch 67:\n",
      "    Train loss 0.153, accuracy 0.862, F1-score 0.869, MCC: 0.708, Dice: 0.869\n",
      "    Val loss 0.167, accuracy 0.829, F1-score 0.830, MCC: 0.652, Dice: 0.830\n"
     ]
    },
    {
     "name": "stderr",
     "output_type": "stream",
     "text": [
      "Training epoch 68: 100%|██████████| 155/155 [01:58<00:00,  1.31it/s]\n",
      "Validation epoch 68: 100%|██████████| 51/51 [00:33<00:00,  1.53it/s]\n",
      "Training epoch 69:   0%|          | 0/155 [00:00<?, ?it/s]"
     ]
    },
    {
     "name": "stdout",
     "output_type": "stream",
     "text": [
      "Epoch 68:\n",
      "    Train loss 0.153, accuracy 0.861, F1-score 0.869, MCC: 0.707, Dice: 0.869\n",
      "    Val loss 0.169, accuracy 0.828, F1-score 0.832, MCC: 0.652, Dice: 0.832\n"
     ]
    },
    {
     "name": "stderr",
     "output_type": "stream",
     "text": [
      "Training epoch 69: 100%|██████████| 155/155 [02:10<00:00,  1.19it/s]\n",
      "Validation epoch 69: 100%|██████████| 51/51 [00:34<00:00,  1.48it/s]\n"
     ]
    },
    {
     "name": "stdout",
     "output_type": "stream",
     "text": [
      "Epoch 69:\n",
      "    Train loss 0.152, accuracy 0.862, F1-score 0.870, MCC: 0.709, Dice: 0.870\n",
      "    Val loss 0.168, accuracy 0.831, F1-score 0.835, MCC: 0.656, Dice: 0.835\n"
     ]
    },
    {
     "name": "stderr",
     "output_type": "stream",
     "text": [
      "Training epoch 70: 100%|██████████| 155/155 [02:11<00:00,  1.18it/s]\n",
      "Validation epoch 70: 100%|██████████| 51/51 [00:33<00:00,  1.52it/s]\n",
      "Training epoch 71:   0%|          | 0/155 [00:00<?, ?it/s]"
     ]
    },
    {
     "name": "stdout",
     "output_type": "stream",
     "text": [
      "Epoch 70:\n",
      "    Train loss 0.152, accuracy 0.863, F1-score 0.870, MCC: 0.711, Dice: 0.870\n",
      "    Val loss 0.169, accuracy 0.826, F1-score 0.826, MCC: 0.649, Dice: 0.826\n"
     ]
    },
    {
     "name": "stderr",
     "output_type": "stream",
     "text": [
      "Training epoch 71: 100%|██████████| 155/155 [02:03<00:00,  1.26it/s]\n",
      "Validation epoch 71: 100%|██████████| 51/51 [00:36<00:00,  1.42it/s]\n",
      "Training epoch 72:   0%|          | 0/155 [00:00<?, ?it/s]"
     ]
    },
    {
     "name": "stdout",
     "output_type": "stream",
     "text": [
      "Epoch 71:\n",
      "    Train loss 0.152, accuracy 0.863, F1-score 0.869, MCC: 0.710, Dice: 0.869\n",
      "    Val loss 0.173, accuracy 0.818, F1-score 0.817, MCC: 0.633, Dice: 0.817\n"
     ]
    },
    {
     "name": "stderr",
     "output_type": "stream",
     "text": [
      "Training epoch 72: 100%|██████████| 155/155 [02:09<00:00,  1.20it/s]\n",
      "Validation epoch 72: 100%|██████████| 51/51 [00:32<00:00,  1.58it/s]\n",
      "Training epoch 73:   0%|          | 0/155 [00:00<?, ?it/s]"
     ]
    },
    {
     "name": "stdout",
     "output_type": "stream",
     "text": [
      "Epoch 72:\n",
      "    Train loss 0.152, accuracy 0.862, F1-score 0.869, MCC: 0.708, Dice: 0.869\n",
      "    Val loss 0.168, accuracy 0.828, F1-score 0.828, MCC: 0.651, Dice: 0.828\n"
     ]
    },
    {
     "name": "stderr",
     "output_type": "stream",
     "text": [
      "Training epoch 73: 100%|██████████| 155/155 [02:09<00:00,  1.20it/s]\n",
      "Validation epoch 73: 100%|██████████| 51/51 [00:36<00:00,  1.41it/s]\n",
      "Training epoch 74:   0%|          | 0/155 [00:00<?, ?it/s]"
     ]
    },
    {
     "name": "stdout",
     "output_type": "stream",
     "text": [
      "Epoch 73:\n",
      "    Train loss 0.151, accuracy 0.863, F1-score 0.870, MCC: 0.711, Dice: 0.870\n",
      "    Val loss 0.168, accuracy 0.828, F1-score 0.828, MCC: 0.652, Dice: 0.828\n"
     ]
    },
    {
     "name": "stderr",
     "output_type": "stream",
     "text": [
      "Training epoch 74: 100%|██████████| 155/155 [02:05<00:00,  1.24it/s]\n",
      "Validation epoch 74: 100%|██████████| 51/51 [00:33<00:00,  1.52it/s]\n",
      "Training epoch 75:   0%|          | 0/155 [00:00<?, ?it/s]"
     ]
    },
    {
     "name": "stdout",
     "output_type": "stream",
     "text": [
      "Epoch 74:\n",
      "    Train loss 0.151, accuracy 0.863, F1-score 0.871, MCC: 0.711, Dice: 0.871\n",
      "    Val loss 0.167, accuracy 0.830, F1-score 0.831, MCC: 0.655, Dice: 0.831\n"
     ]
    },
    {
     "name": "stderr",
     "output_type": "stream",
     "text": [
      "Training epoch 75: 100%|██████████| 155/155 [02:09<00:00,  1.20it/s]\n",
      "Validation epoch 75: 100%|██████████| 51/51 [00:34<00:00,  1.47it/s]\n",
      "Training epoch 76:   0%|          | 0/155 [00:00<?, ?it/s]"
     ]
    },
    {
     "name": "stdout",
     "output_type": "stream",
     "text": [
      "Epoch 75:\n",
      "    Train loss 0.152, accuracy 0.862, F1-score 0.869, MCC: 0.707, Dice: 0.869\n",
      "    Val loss 0.168, accuracy 0.829, F1-score 0.832, MCC: 0.654, Dice: 0.832\n"
     ]
    },
    {
     "name": "stderr",
     "output_type": "stream",
     "text": [
      "Training epoch 76: 100%|██████████| 155/155 [02:08<00:00,  1.21it/s]\n",
      "Validation epoch 76: 100%|██████████| 51/51 [00:33<00:00,  1.52it/s]\n",
      "Training epoch 77:   0%|          | 0/155 [00:00<?, ?it/s]"
     ]
    },
    {
     "name": "stdout",
     "output_type": "stream",
     "text": [
      "Epoch 76:\n",
      "    Train loss 0.151, accuracy 0.864, F1-score 0.870, MCC: 0.711, Dice: 0.870\n",
      "    Val loss 0.168, accuracy 0.829, F1-score 0.829, MCC: 0.654, Dice: 0.829\n"
     ]
    },
    {
     "name": "stderr",
     "output_type": "stream",
     "text": [
      "Training epoch 77: 100%|██████████| 155/155 [02:08<00:00,  1.20it/s]\n",
      "Validation epoch 77: 100%|██████████| 51/51 [00:35<00:00,  1.45it/s]\n",
      "Training epoch 78:   0%|          | 0/155 [00:00<?, ?it/s]"
     ]
    },
    {
     "name": "stdout",
     "output_type": "stream",
     "text": [
      "Epoch 77:\n",
      "    Train loss 0.151, accuracy 0.864, F1-score 0.871, MCC: 0.712, Dice: 0.871\n",
      "    Val loss 0.170, accuracy 0.825, F1-score 0.823, MCC: 0.647, Dice: 0.823\n"
     ]
    },
    {
     "name": "stderr",
     "output_type": "stream",
     "text": [
      "Training epoch 78: 100%|██████████| 155/155 [02:11<00:00,  1.18it/s]\n",
      "Training epoch 79: 100%|██████████| 155/155 [02:16<00:00,  1.13it/s]\n",
      "Validation epoch 79: 100%|██████████| 51/51 [00:34<00:00,  1.48it/s]\n"
     ]
    },
    {
     "name": "stdout",
     "output_type": "stream",
     "text": [
      "Epoch 79:\n",
      "    Train loss 0.150, accuracy 0.864, F1-score 0.872, MCC: 0.713, Dice: 0.872\n",
      "    Val loss 0.167, accuracy 0.831, F1-score 0.834, MCC: 0.657, Dice: 0.834\n"
     ]
    },
    {
     "name": "stderr",
     "output_type": "stream",
     "text": [
      "Training epoch 80: 100%|██████████| 155/155 [02:09<00:00,  1.20it/s]\n",
      "Validation epoch 80: 100%|██████████| 51/51 [00:37<00:00,  1.36it/s]\n",
      "Training epoch 81:   0%|          | 0/155 [00:00<?, ?it/s]"
     ]
    },
    {
     "name": "stdout",
     "output_type": "stream",
     "text": [
      "Epoch 80:\n",
      "    Train loss 0.150, accuracy 0.864, F1-score 0.871, MCC: 0.712, Dice: 0.871\n",
      "    Val loss 0.168, accuracy 0.830, F1-score 0.836, MCC: 0.653, Dice: 0.836\n"
     ]
    },
    {
     "name": "stderr",
     "output_type": "stream",
     "text": [
      "Training epoch 81: 100%|██████████| 155/155 [02:12<00:00,  1.17it/s]\n",
      "Validation epoch 81: 100%|██████████| 51/51 [00:36<00:00,  1.40it/s]\n",
      "Training epoch 82:   0%|          | 0/155 [00:00<?, ?it/s]"
     ]
    },
    {
     "name": "stdout",
     "output_type": "stream",
     "text": [
      "Epoch 81:\n",
      "    Train loss 0.151, accuracy 0.864, F1-score 0.871, MCC: 0.711, Dice: 0.871\n",
      "    Val loss 0.167, accuracy 0.830, F1-score 0.834, MCC: 0.654, Dice: 0.834\n"
     ]
    },
    {
     "name": "stderr",
     "output_type": "stream",
     "text": [
      "Training epoch 82:  48%|████▊     | 74/155 [01:06<01:13,  1.10it/s]"
     ]
    }
   ],
   "source": [
    "# ============================ #\n",
    "# user-specified hyperparameters\n",
    "# ============================ #\n",
    "epochs = 100\n",
    "lr = 0.001\n",
    "lr_decay = None\n",
    "n_filters = 16\n",
    "batch_size = 8\n",
    "n_classes = 1\n",
    "model_type = 'resunet-d6'\n",
    "img_dirs = ['../data/planet/france/january_256x256/',\n",
    "            '../data/planet/france/april_256x256/',\n",
    "            '../data/planet/france/october_256x256/']\n",
    "label_dir = '../data/planet/france/labels_256x256/'\n",
    "months = 'janAprOct'\n",
    "gpu_id = 0\n",
    "# ============================ #\n",
    "\n",
    "run_multitemporal_france(epochs=epochs, lr=lr, lr_decay=lr_decay, n_filters=n_filters,\n",
    "                         batch_size=batch_size, n_classes=n_classes, model_type=model_type,\n",
    "                         image_directories=img_dirs, label_directory=label_dir,\n",
    "                         months=months, gpu_id=gpu_id)"
   ]
  },
  {
   "cell_type": "code",
   "execution_count": null,
   "metadata": {},
   "outputs": [],
   "source": []
  }
 ],
 "metadata": {
  "kernelspec": {
   "display_name": "Environment (conda_mxnet1.6.0)",
   "language": "python",
   "name": "conda_mxnet1.6.0"
  },
  "language_info": {
   "codemirror_mode": {
    "name": "ipython",
    "version": 3
   },
   "file_extension": ".py",
   "mimetype": "text/x-python",
   "name": "python",
   "nbconvert_exporter": "python",
   "pygments_lexer": "ipython3",
   "version": "3.6.11"
  }
 },
 "nbformat": 4,
 "nbformat_minor": 2
}
